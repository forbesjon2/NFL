{
 "cells": [
  {
   "cell_type": "code",
   "execution_count": 14,
   "id": "afd05b8c",
   "metadata": {},
   "outputs": [],
   "source": [
    "import numpy as np\n",
    "import pandas as pd\n",
    "from ydata_profiling import ProfileReport\n"
   ]
  },
  {
   "cell_type": "code",
   "execution_count": 15,
   "id": "1f2ae6c8",
   "metadata": {},
   "outputs": [],
   "source": [
    "# Columns to include \n",
    "cont_cols = [\n",
    "    'D_datediff',              # Days since last game (Home - visitor)\n",
    "    \n",
    "    # first downs\n",
    "    'D_First_Downs',\n",
    "    \n",
    "    # Basic Stats\n",
    "    'D_Rush',                  # Number of running plays attempted\n",
    "    'D_Yds',                   # Yards gained through running plays\n",
    "    'D_TDs',                   # Touchdowns scored via running plays\n",
    "    'D_Cmp',                   # Completions (# of successful passes)\n",
    "    'D_Att',                   # Attempts (# of passes thrown, completed or not)\n",
    "    'D_Yd',                    # Yards (Yards the passes have covered)\n",
    "    'D_TD',                    # Touchdowns\n",
    "    'D_INT',                   # Interceptions\n",
    "    'D_Sacked',                # Number of times quarterback was tackled behind line of scrimmage\n",
    "    'D_Yards',                 # Yards lost from sacks\n",
    "    'D_Net_Pass_Yards',        # Net passing yards (total yds - yards lost due to sacks)\n",
    "    'D_Total_Yards',           # Total yards gained (net pass yards + rushing yds)\n",
    "    'D_Fumbles',               # Number of times ball was fumbled\n",
    "    'D_Lost',                  # Number of times the team lost possession of the ball due to a fumble\n",
    "    'D_Turnovers',             # Total number of turnovers, includes interceptions & fumbles lost\n",
    "    'D_Penalties',             # Number of penalties committed by the team\n",
    "    \n",
    "    # Passing Detailed\n",
    "    'D_passing_att',           # Passes attempted\n",
    "    'D_passing_cmp',           # Passes completed\n",
    "    'D_passing_int',           # Interceptions thrown\n",
    "    'D_passing_lng',           # Longest completed pass\n",
    "    'D_passing_sk',            # Passing times sacked\n",
    "    'D_passing_td',            # Passing touchdowns\n",
    "    # 'D_passing_yds',           # Yards gained by passing\n",
    "    \n",
    "    # Receiving\n",
    "    'D_receiving_lng',         # Longest reception\n",
    "    # 'D_receiving_td',          # Receiving touchdowns\n",
    "    # 'D_receiving_yds',         # Receiving yards\n",
    "    \n",
    "    # Rushing Detailed\n",
    "    'D_rushing_att',           # Rushing attempts (sacks not included)\n",
    "    'D_rushing_lng',           # Longest rushing attempt (sacks not included)\n",
    "    'D_rushing_td',            # Rushing touchdowns\n",
    "    'D_rushing_yds',           # Rushing yards\n",
    "    \n",
    "    # Defense interceptions\n",
    "    'D_def_interceptions_int', # Passes intercepted on defense\n",
    "    # 'D_def_interceptions_lng', # Longest interception returned\n",
    "    'D_def_interceptions_td',  # Interceptions returned for touchdown\n",
    "    'D_def_interceptions_yds', # Yards interceptions were returned\n",
    "    \n",
    "    # Defense fumbles\n",
    "    'D_fumbles_ff',            # Num of times forced a fumble by the opposition recovered by either team\n",
    "    'D_fumbles_fr',            # Fumbles recovered by player or team\n",
    "    'D_fumbles_td',            # Fumbles recovered resulting in touchdown for receiver\n",
    "    'D_fumbles_yds',           # Yards recovered fumbles were returned\n",
    "    \n",
    "    # Defense tackles\n",
    "    'D_sk',                    # Sacks\n",
    "    'D_tackles_ast',           # Assists on tackles\n",
    "    'D_tackles_comb',          # Solo + ast tackles\n",
    "    'D_tackles_solo',          # Tackles\n",
    "    \n",
    "    # Kick Returns\n",
    "    'D_kick_returns_lng',      # Longest kickoff return\n",
    "    'D_kick_returns_rt',       # Kickoff returns \n",
    "    'D_kick_returns_td',       # Kickoffs returned for a touchdown\n",
    "    'D_kick_returns_yds',      # Yardage for kickoffs returned\n",
    "    \n",
    "    # Punt Returns\n",
    "    'D_punt_returns_lng',      # Longest punt return\n",
    "    'D_punt_returns_ret',      # Punts returned\n",
    "    'D_punt_returns_td',       # Punts returned for touchdown\n",
    "    'D_punt_returns_yds',      # Punts return yardage\n",
    "    \n",
    "    # Punting / Scoring\n",
    "    'D_punting_lng',           # Longest punt\n",
    "    # 'D_punting_pnt',           # Times punted\n",
    "    'D_punting_yds',           # Total punt yardage\n",
    "    # 'D_scoring_fga',           # Field goals attempted\n",
    "    'D_scoring_fgm',           # Field goals made\n",
    "    # 'D_scoring_xpa',           # Extra points attempted\n",
    "    'D_scoring_xpm',           # Extra points made\n",
    "    \n",
    "    # Additional, calculated metrics\n",
    "    'D_pythagorean',           # NFL variation of Bill James pythagorean expectation (from wikipedia)\n",
    "]"
   ]
  },
  {
   "cell_type": "code",
   "execution_count": 16,
   "id": "d567ac26",
   "metadata": {},
   "outputs": [
    {
     "name": "stdout",
     "output_type": "stream",
     "text": [
      "53\n"
     ]
    }
   ],
   "source": [
    "print(len(cont_cols))"
   ]
  },
  {
   "cell_type": "markdown",
   "id": "c8af4106",
   "metadata": {},
   "source": [
    "### Import dataset & select relevant columns\n",
    "Using CombinedSlidingWindow4, grab only the columns that will be passed into the prediction algorithms"
   ]
  },
  {
   "cell_type": "code",
   "execution_count": 17,
   "id": "b97046cd",
   "metadata": {
    "scrolled": false
   },
   "outputs": [
    {
     "name": "stdout",
     "output_type": "stream",
     "text": [
      "<class 'pandas.core.frame.DataFrame'>\n",
      "RangeIndex: 5537 entries, 0 to 5536\n",
      "Columns: 209 entries, Unnamed: 0 to D_pythagorean\n",
      "dtypes: float64(129), int64(71), object(9)\n",
      "memory usage: 8.8+ MB\n"
     ]
    }
   ],
   "source": [
    "df = pd.read_csv(\"./footballData/CombinedSlidingWindow4.csv\", index_col=False, low_memory=False)\n",
    "df.info()\n",
    "df = df[cont_cols]"
   ]
  },
  {
   "cell_type": "markdown",
   "id": "86e41b1f",
   "metadata": {},
   "source": [
    "### Perform exploratory data analysis via ydata-profiling\n",
    "Use this to explore the dataset & develop hypothesis that can be later tested."
   ]
  },
  {
   "cell_type": "code",
   "execution_count": 21,
   "id": "950fe845",
   "metadata": {},
   "outputs": [
    {
     "ename": "AttributeError",
     "evalue": "'dict' object has no attribute 'threshold'",
     "output_type": "error",
     "traceback": [
      "\u001b[0;31m---------------------------------------------------------------------------\u001b[0m",
      "\u001b[0;31mAttributeError\u001b[0m                            Traceback (most recent call last)",
      "\u001b[0;32m/var/folders/k0/7b4qgkdx2vb9ml4ktdckf0hc0000gn/T/ipykernel_10838/4179762112.py\u001b[0m in \u001b[0;36m<module>\u001b[0;34m\u001b[0m\n\u001b[1;32m      3\u001b[0m \u001b[0;31m# Configuration\u001b[0m\u001b[0;34m\u001b[0m\u001b[0;34m\u001b[0m\u001b[0;34m\u001b[0m\u001b[0m\n\u001b[1;32m      4\u001b[0m \u001b[0mprofile\u001b[0m\u001b[0;34m.\u001b[0m\u001b[0mconfig\u001b[0m\u001b[0;34m.\u001b[0m\u001b[0mvars\u001b[0m\u001b[0;34m.\u001b[0m\u001b[0mnum\u001b[0m\u001b[0;34m.\u001b[0m\u001b[0mskewness_threshold\u001b[0m \u001b[0;34m=\u001b[0m \u001b[0;36m1\u001b[0m\u001b[0;34m\u001b[0m\u001b[0;34m\u001b[0m\u001b[0m\n\u001b[0;32m----> 5\u001b[0;31m \u001b[0mprofile\u001b[0m\u001b[0;34m.\u001b[0m\u001b[0mconfig\u001b[0m\u001b[0;34m.\u001b[0m\u001b[0mcorrelations\u001b[0m\u001b[0;34m.\u001b[0m\u001b[0mthreshold\u001b[0m \u001b[0;34m=\u001b[0m \u001b[0;36m0.7\u001b[0m\u001b[0;34m\u001b[0m\u001b[0;34m\u001b[0m\u001b[0m\n\u001b[0m",
      "\u001b[0;31mAttributeError\u001b[0m: 'dict' object has no attribute 'threshold'"
     ]
    }
   ],
   "source": [
    "profile = ProfileReport(df, title=\"Profiling Report\")\n",
    "\n",
    "# Configuration\n",
    "profile.config.vars.num.skewness_threshold = 1"
   ]
  },
  {
   "cell_type": "code",
   "execution_count": 6,
   "id": "1e711538",
   "metadata": {},
   "outputs": [
    {
     "data": {
      "application/vnd.jupyter.widget-view+json": {
       "model_id": "72155e5d613242549a0edf789af78cb7",
       "version_major": 2,
       "version_minor": 0
      },
      "text/plain": [
       "Summarize dataset:   0%|          | 0/5 [00:00<?, ?it/s]"
      ]
     },
     "metadata": {},
     "output_type": "display_data"
    },
    {
     "data": {
      "application/vnd.jupyter.widget-view+json": {
       "model_id": "96cb6293af7f4dc28c892f51db660439",
       "version_major": 2,
       "version_minor": 0
      },
      "text/plain": [
       "Generate report structure:   0%|          | 0/1 [00:00<?, ?it/s]"
      ]
     },
     "metadata": {},
     "output_type": "display_data"
    },
    {
     "data": {
      "application/vnd.jupyter.widget-view+json": {
       "model_id": "",
       "version_major": 2,
       "version_minor": 0
      },
      "text/plain": [
       "Render widgets:   0%|          | 0/1 [00:00<?, ?it/s]"
      ]
     },
     "metadata": {},
     "output_type": "display_data"
    },
    {
     "data": {
      "application/vnd.jupyter.widget-view+json": {
       "model_id": "7385f10fe4ea40668283ed4ad795d71b",
       "version_major": 2,
       "version_minor": 0
      },
      "text/plain": [
       "VBox(children=(Tab(children=(Tab(children=(GridBox(children=(VBox(children=(GridspecLayout(children=(HTML(valu…"
      ]
     },
     "metadata": {},
     "output_type": "display_data"
    }
   ],
   "source": [
    "profile.to_widgets()"
   ]
  },
  {
   "cell_type": "code",
   "execution_count": 7,
   "id": "df404832",
   "metadata": {
    "scrolled": false
   },
   "outputs": [],
   "source": [
    "# profile"
   ]
  },
  {
   "cell_type": "code",
   "execution_count": 20,
   "id": "be21b26c",
   "metadata": {
    "scrolled": true
   },
   "outputs": [
    {
     "name": "stderr",
     "output_type": "stream",
     "text": [
      "/Users/forbesjon2/anaconda3/envs/pytorchenv/lib/python3.7/site-packages/ydata_profiling/profile_report.py:359: UserWarning: Try running command: 'pip install --upgrade Pillow' to avoid ValueError\n",
      "  \"Try running command: 'pip install --upgrade Pillow' to avoid ValueError\"\n"
     ]
    },
    {
     "data": {
      "application/vnd.jupyter.widget-view+json": {
       "model_id": "aaa800ed497348aeac019b50f8a811ba",
       "version_major": 2,
       "version_minor": 0
      },
      "text/plain": [
       "Summarize dataset:   0%|          | 0/5 [00:00<?, ?it/s]"
      ]
     },
     "metadata": {},
     "output_type": "display_data"
    },
    {
     "data": {
      "application/vnd.jupyter.widget-view+json": {
       "model_id": "6f95e53b328a4924928714ce6b5ff55f",
       "version_major": 2,
       "version_minor": 0
      },
      "text/plain": [
       "Generate report structure:   0%|          | 0/1 [00:00<?, ?it/s]"
      ]
     },
     "metadata": {},
     "output_type": "display_data"
    },
    {
     "data": {
      "application/vnd.jupyter.widget-view+json": {
       "model_id": "a48ef0130ac34e14b3aff2df47ea26a7",
       "version_major": 2,
       "version_minor": 0
      },
      "text/plain": [
       "Render HTML:   0%|          | 0/1 [00:00<?, ?it/s]"
      ]
     },
     "metadata": {},
     "output_type": "display_data"
    },
    {
     "data": {
      "application/vnd.jupyter.widget-view+json": {
       "model_id": "e0f06a886d6c458bb3489eef34a60e3c",
       "version_major": 2,
       "version_minor": 0
      },
      "text/plain": [
       "Export report to file:   0%|          | 0/1 [00:00<?, ?it/s]"
      ]
     },
     "metadata": {},
     "output_type": "display_data"
    }
   ],
   "source": [
    "profile.to_file(\"EdaReportTwo.html\")"
   ]
  },
  {
   "cell_type": "code",
   "execution_count": null,
   "id": "f11a4c8a",
   "metadata": {},
   "outputs": [],
   "source": []
  }
 ],
 "metadata": {
  "kernelspec": {
   "display_name": "Python 3 (ipykernel)",
   "language": "python",
   "name": "python3"
  },
  "language_info": {
   "codemirror_mode": {
    "name": "ipython",
    "version": 3
   },
   "file_extension": ".py",
   "mimetype": "text/x-python",
   "name": "python",
   "nbconvert_exporter": "python",
   "pygments_lexer": "ipython3",
   "version": "3.7.12"
  }
 },
 "nbformat": 4,
 "nbformat_minor": 5
}
