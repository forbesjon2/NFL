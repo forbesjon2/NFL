{
 "cells": [
  {
   "cell_type": "code",
   "execution_count": 1,
   "id": "afd05b8c",
   "metadata": {},
   "outputs": [],
   "source": [
    "import numpy as np\n",
    "import pandas as pd\n",
    "from ydata_profiling import ProfileReport\n"
   ]
  },
  {
   "cell_type": "code",
   "execution_count": 2,
   "id": "1f2ae6c8",
   "metadata": {},
   "outputs": [],
   "source": [
    "# Columns to include \n",
    "cont_cols = [\n",
    "    'D_datediff',              # Days since last game (Home - visitor)\n",
    "    \n",
    "    # first downs\n",
    "    'D_First_Downs',\n",
    "    \n",
    "    # Basic Stats\n",
    "    'D_Rush',                  # Number of running plays attempted\n",
    "    'D_Yds',                   # Yards gained through running plays\n",
    "    'D_TDs',                   # Touchdowns scored via running plays\n",
    "    'D_Cmp',                   # Completions (# of successful passes)\n",
    "    'D_Att',                   # Attempts (# of passes thrown, completed or not)\n",
    "    'D_Yd',                    # Yards (Yards the passes have covered)\n",
    "    'D_TD',                    # Touchdowns\n",
    "    'D_INT',                   # Interceptions\n",
    "    'D_Sacked',                # Number of times quarterback was tackled behind line of scrimmage\n",
    "    'D_Yards',                 # Yards lost from sacks\n",
    "    'D_Net_Pass_Yards',        # Net passing yards (total yds - yards lost due to sacks)\n",
    "    'D_Total_Yards',           # Total yards gained (net pass yards + rushing yds)\n",
    "    'D_Fumbles',               # Number of times ball was fumbled\n",
    "    'D_Lost',                  # Number of times the team lost possession of the ball due to a fumble\n",
    "    'D_Turnovers',             # Total number of turnovers, includes interceptions & fumbles lost\n",
    "    'D_Penalties',             # Number of penalties committed by the team\n",
    "    'D_Third_Down_Conv',       # 3rd down conversion percentage\n",
    "    'D_Fourth_Down_Conv',      # 3rd down conversion percentage\n",
    "    'D_Time_of_Possession',    # Time of possession in minutes\n",
    "    \n",
    "    \n",
    "    # Passing Detailed\n",
    "    'D_passing_att',           # Passes attempted\n",
    "    'D_passing_cmp',           # Passes completed\n",
    "    'D_passing_int',           # Interceptions thrown\n",
    "    'D_passing_lng',           # Longest completed pass\n",
    "    'D_passing_sk',            # Passing times sacked\n",
    "    'D_passing_td',            # Passing touchdowns\n",
    "    # 'D_passing_yds',           # Yards gained by passing\n",
    "    \n",
    "    # Receiving\n",
    "    'D_receiving_lng',         # Longest reception\n",
    "    # 'D_receiving_td',          # Receiving touchdowns\n",
    "    # 'D_receiving_yds',         # Receiving yards\n",
    "    \n",
    "    # Rushing Detailed\n",
    "    'D_rushing_att',           # Rushing attempts (sacks not included)\n",
    "    'D_rushing_lng',           # Longest rushing attempt (sacks not included)\n",
    "    'D_rushing_td',            # Rushing touchdowns\n",
    "    'D_rushing_yds',           # Rushing yards\n",
    "    \n",
    "    # Defense interceptions\n",
    "    'D_def_interceptions_int', # Passes intercepted on defense\n",
    "    # 'D_def_interceptions_lng', # Longest interception returned\n",
    "    'D_def_interceptions_td',  # Interceptions returned for touchdown\n",
    "    'D_def_interceptions_yds', # Yards interceptions were returned\n",
    "    \n",
    "    # Defense fumbles\n",
    "    'D_fumbles_ff',            # Num of times forced a fumble by the opposition recovered by either team\n",
    "    'D_fumbles_fr',            # Fumbles recovered by player or team\n",
    "    'D_fumbles_td',            # Fumbles recovered resulting in touchdown for receiver\n",
    "    'D_fumbles_yds',           # Yards recovered fumbles were returned\n",
    "    \n",
    "    # Defense tackles\n",
    "    'D_sk',                    # Sacks\n",
    "    'D_tackles_ast',           # Assists on tackles\n",
    "    'D_tackles_comb',          # Solo + ast tackles\n",
    "    'D_tackles_solo',          # Tackles\n",
    "\n",
    "    # ----------------- Kick & Punt returns are combined in EDA ----------------\n",
    "    ## Kick Returns\n",
    "    #'D_kick_returns_lng',      # Longest kickoff return\n",
    "    #'D_kick_returns_rt',       # Kickoff returns \n",
    "    #'D_kick_returns_td',       # Kickoffs returned for a touchdown\n",
    "    #'D_kick_returns_yds',      # Yardage for kickoffs returned\n",
    "    ## Punt Returns\n",
    "    #'D_punt_returns_lng',      # Longest punt return\n",
    "    #'D_punt_returns_ret',      # Punts returned\n",
    "    #'D_punt_returns_td',       # Punts returned for touchdown\n",
    "    #'D_punt_returns_yds',      # Punts return yardage\n",
    "    \n",
    "    # Kick & Punt returns combined (Created as a result of EDA)\n",
    "    #'kick_punt_returns_lng',   # Does not appear on final CSV (UMAP)\n",
    "    #'kick_punt_returns_rt',    # Does not appear on final CSV (UMAP)\n",
    "    #'kick_punt_returns_td',    # Does not appear on final CSV (UMAP)\n",
    "    #'kick_punt_returns_yds',   # Does not appear on final CSV (UMAP)\n",
    "    'kick_punt_umap_dim_1',  # Appears on final CSV (UMAP)\n",
    "    'kick_punt_umap_dim_2',  # Appears on final CSV (UMAP)\n",
    "    \n",
    "    # Punting / Scoring\n",
    "    # 'D_punting_lng',         # Longest punt\n",
    "    \n",
    "    'D_punting_pnt',           # Times punted\n",
    "    # 'D_punting_yds',         # Total punt yardage\n",
    "    'D_punting_avg',           # Total punt yardage / number of punts\n",
    "    \n",
    "    'D_scoring_fga',           # Field goals attempted\n",
    "    # 'D_scoring_fgm',         # Field goals made\n",
    "    'D_scoring_fgp',           # Field goals made / Field goals attempted\n",
    "\n",
    "    'D_scoring_xpa',           # Extra points attempted\n",
    "    # 'D_scoring_xpm',         # Extra points made\n",
    "    'D_scoring_xpp',           # Extra pints made / Extra points attempted\n",
    "    \n",
    "    # Additional, calculated metrics\n",
    "    'D_pythagorean',           # NFL variation of Bill James pythagorean expectation (from wikipedia)\n",
    "]"
   ]
  },
  {
   "cell_type": "code",
   "execution_count": 3,
   "id": "d567ac26",
   "metadata": {},
   "outputs": [
    {
     "name": "stdout",
     "output_type": "stream",
     "text": [
      "52\n"
     ]
    }
   ],
   "source": [
    "print(len(cont_cols))"
   ]
  },
  {
   "cell_type": "markdown",
   "id": "c8af4106",
   "metadata": {},
   "source": [
    "### Import dataset & select relevant columns\n",
    "Using CombinedSlidingWindow4, grab only the columns that will be passed into the prediction algorithms"
   ]
  },
  {
   "cell_type": "code",
   "execution_count": 4,
   "id": "b97046cd",
   "metadata": {
    "scrolled": false
   },
   "outputs": [
    {
     "name": "stdout",
     "output_type": "stream",
     "text": [
      "<class 'pandas.core.frame.DataFrame'>\n",
      "RangeIndex: 5308 entries, 0 to 5307\n",
      "Columns: 193 entries, Unnamed: 0 to kick_punt_umap_dim_2\n",
      "dtypes: float64(116), int64(74), object(3)\n",
      "memory usage: 7.8+ MB\n"
     ]
    }
   ],
   "source": [
    "df = pd.read_csv(\"./footballData/CombinedSlidingWindow4.csv\", index_col=False, low_memory=False)\n",
    "df.info()\n",
    "df = df[cont_cols]"
   ]
  },
  {
   "cell_type": "markdown",
   "id": "86e41b1f",
   "metadata": {},
   "source": [
    "### Perform exploratory data analysis via ydata-profiling\n",
    "Use this to explore the dataset & develop hypothesis that can be later tested."
   ]
  },
  {
   "cell_type": "code",
   "execution_count": 5,
   "id": "950fe845",
   "metadata": {},
   "outputs": [],
   "source": [
    "profile = ProfileReport(df, title=\"Profiling Report\")\n",
    "\n",
    "# Configuration\n",
    "profile.config.vars.num.skewness_threshold = 1"
   ]
  },
  {
   "cell_type": "code",
   "execution_count": null,
   "id": "1e711538",
   "metadata": {
    "scrolled": true
   },
   "outputs": [
    {
     "data": {
      "application/vnd.jupyter.widget-view+json": {
       "model_id": "da53602c998641d1a14c9b7a41ef476f",
       "version_major": 2,
       "version_minor": 0
      },
      "text/plain": [
       "Summarize dataset:   0%|          | 0/5 [00:00<?, ?it/s]"
      ]
     },
     "metadata": {},
     "output_type": "display_data"
    }
   ],
   "source": [
    "profile.to_widgets()"
   ]
  },
  {
   "cell_type": "markdown",
   "id": "335c13b3",
   "metadata": {
    "scrolled": false
   },
   "source": [
    "# Save profile to file"
   ]
  },
  {
   "cell_type": "code",
   "execution_count": null,
   "id": "be21b26c",
   "metadata": {
    "scrolled": true
   },
   "outputs": [],
   "source": [
    "profile.to_file(\"EdaReportThree.html\")"
   ]
  },
  {
   "cell_type": "code",
   "execution_count": null,
   "id": "b7a1d487",
   "metadata": {},
   "outputs": [],
   "source": []
  },
  {
   "cell_type": "code",
   "execution_count": null,
   "id": "c16bf4e1",
   "metadata": {},
   "outputs": [],
   "source": []
  },
  {
   "cell_type": "code",
   "execution_count": null,
   "id": "15debd94",
   "metadata": {},
   "outputs": [],
   "source": []
  }
 ],
 "metadata": {
  "kernelspec": {
   "display_name": "Python 3 (ipykernel)",
   "language": "python",
   "name": "python3"
  },
  "language_info": {
   "codemirror_mode": {
    "name": "ipython",
    "version": 3
   },
   "file_extension": ".py",
   "mimetype": "text/x-python",
   "name": "python",
   "nbconvert_exporter": "python",
   "pygments_lexer": "ipython3",
   "version": "3.7.12"
  }
 },
 "nbformat": 4,
 "nbformat_minor": 5
}
