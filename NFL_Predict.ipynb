{
 "cells": [
  {
   "cell_type": "code",
   "execution_count": 14,
   "id": "3dcb811b",
   "metadata": {},
   "outputs": [],
   "source": [
    "import numpy as np\n",
    "import pandas as pd\n",
    "import math\n",
    "from datetime import datetime\n",
    "\n",
    "# XGBoost\n",
    "import xgboost as xgb\n",
    "from xgboost import XGBClassifier\n",
    "from sklearn.metrics import accuracy_score, confusion_matrix, make_scorer, f1_score\n",
    "from sklearn.model_selection import GridSearchCV, RandomizedSearchCV\n",
    "import seaborn as sns # confusion matrix"
   ]
  },
  {
   "cell_type": "code",
   "execution_count": 2,
   "id": "0e8d6803",
   "metadata": {},
   "outputs": [],
   "source": [
    "# Dead kernel?\n",
    "from NFLUtils import NFLUtils\n",
    "nfl_utils = NFLUtils()"
   ]
  },
  {
   "cell_type": "markdown",
   "id": "39120229",
   "metadata": {},
   "source": [
    "## Global variables go here"
   ]
  },
  {
   "cell_type": "code",
   "execution_count": 3,
   "id": "4ac0289e",
   "metadata": {},
   "outputs": [],
   "source": [
    "current_season = 2024"
   ]
  },
  {
   "cell_type": "code",
   "execution_count": 4,
   "id": "dad92c14",
   "metadata": {
    "scrolled": true
   },
   "outputs": [
    {
     "name": "stdout",
     "output_type": "stream",
     "text": [
      "[{'Season': 2024, 'Home_Team': 'NOR', 'Visitor_Team': 'WAS', 'Date': '2024-12-15'}, {'Season': 2024, 'Home_Team': 'JAX', 'Visitor_Team': 'NYJ', 'Date': '2024-12-15'}, {'Season': 2024, 'Home_Team': 'HOU', 'Visitor_Team': 'MIA', 'Date': '2024-12-15'}, {'Season': 2024, 'Home_Team': 'TEN', 'Visitor_Team': 'CIN', 'Date': '2024-12-15'}, {'Season': 2024, 'Home_Team': 'CLE', 'Visitor_Team': 'KAN', 'Date': '2024-12-15'}, {'Season': 2024, 'Home_Team': 'CAR', 'Visitor_Team': 'DAL', 'Date': '2024-12-15'}, {'Season': 2024, 'Home_Team': 'NYG', 'Visitor_Team': 'BAL', 'Date': '2024-12-15'}, {'Season': 2024, 'Home_Team': 'ARI', 'Visitor_Team': 'NWE', 'Date': '2024-12-15'}, {'Season': 2024, 'Home_Team': 'DET', 'Visitor_Team': 'BUF', 'Date': '2024-12-15'}, {'Season': 2024, 'Home_Team': 'LAC', 'Visitor_Team': 'TAM', 'Date': '2024-12-15'}, {'Season': 2024, 'Home_Team': 'PHI', 'Visitor_Team': 'PIT', 'Date': '2024-12-15'}, {'Season': 2024, 'Home_Team': 'DEN', 'Visitor_Team': 'IND', 'Date': '2024-12-15'}, {'Season': 2024, 'Home_Team': 'SEA', 'Visitor_Team': 'GNB', 'Date': '2024-12-15'}]\n"
     ]
    }
   ],
   "source": [
    "# array of { 'Season':<>, 'Home_Team':<>, 'Visitor_Team':<>, 'Date':<> }\n",
    "current_date_games = nfl_utils.get_current_date_games(current_season)\n",
    "print(current_date_games)"
   ]
  },
  {
   "cell_type": "markdown",
   "id": "bcc59b6a",
   "metadata": {},
   "source": [
    "## Define cont_cols, y_col"
   ]
  },
  {
   "cell_type": "code",
   "execution_count": 5,
   "id": "7c3ebe07",
   "metadata": {},
   "outputs": [],
   "source": [
    "cont_cols = [\n",
    "    'D_datediff', # Days since last game (Home - visitor)\n",
    "    \n",
    "    # first downs\n",
    "    'D_First_Downs',\n",
    "    \n",
    "    # Basic Stats\n",
    "    'D_Rush',\n",
    "    'D_Yds',\n",
    "    'D_TDs',\n",
    "    'D_Cmp',\n",
    "    'D_Att',\n",
    "    'D_Yd',\n",
    "    'D_TD',\n",
    "    'D_INT',\n",
    "    'D_Sacked',\n",
    "    'D_Yards',\n",
    "    'D_Net_Pass_Yards',\n",
    "    'D_Total_Yards',\n",
    "    'D_Fumbles',\n",
    "    'D_Lost',\n",
    "    'D_Turnovers',\n",
    "    'D_Penalties',\n",
    "    \n",
    "    # Passing Detailed\n",
    "    'D_passing_att',\n",
    "    'D_passing_cmp',\n",
    "    'D_passing_int',\n",
    "    'D_passing_lng',\n",
    "    'D_passing_sk',\n",
    "    'D_passing_td',\n",
    "    'D_passing_yds',\n",
    "    \n",
    "    # Receiving\n",
    "    'D_receiving_lng',\n",
    "    'D_receiving_td',\n",
    "    'D_receiving_yds',\n",
    "    \n",
    "    # Rushing Detailed\n",
    "    'D_rushing_att',\n",
    "    'D_rushing_lng',\n",
    "    'D_rushing_td',\n",
    "    'D_rushing_yds',\n",
    "    \n",
    "    # Defense interceptions\n",
    "    'D_def_interceptions_int',\n",
    "    'D_def_interceptions_lng',\n",
    "    'D_def_interceptions_pd',\n",
    "    'D_def_interceptions_td',\n",
    "    'D_def_interceptions_yds',\n",
    "    \n",
    "    # Defense fumbles\n",
    "    'D_fumbles_ff',\n",
    "    'D_fumbles_fr',\n",
    "    'D_fumbles_td',\n",
    "    'D_fumbles_yds',\n",
    "    \n",
    "    # Defense tackles\n",
    "    'D_sk',\n",
    "    'D_tackles_ast',\n",
    "    'D_tackles_comb',\n",
    "    'D_tackles_qbhits',\n",
    "    'D_tackles_solo',\n",
    "    'D_tackles_tfl',\n",
    "    \n",
    "    # Kick Returns\n",
    "    'D_kick_returns_lng',\n",
    "    'D_kick_returns_rt',\n",
    "    'D_kick_returns_td',\n",
    "    'D_kick_returns_yds',\n",
    "    \n",
    "    # Punt Returns\n",
    "    'D_punt_returns_lng',\n",
    "    'D_punt_returns_ret',\n",
    "    'D_punt_returns_td',\n",
    "    'D_punt_returns_yds',\n",
    "    \n",
    "    # Punting / Scoring\n",
    "    'D_punting_lng',\n",
    "    'D_punting_pnt',\n",
    "    'D_punting_yds',\n",
    "    'D_scoring_fga',\n",
    "    'D_scoring_fgm',\n",
    "    'D_scoring_xpa',\n",
    "    'D_scoring_xpm'\n",
    "]\n",
    "\n",
    "\n",
    "y_col = ['H_Won']"
   ]
  },
  {
   "cell_type": "markdown",
   "id": "1e38450b",
   "metadata": {},
   "source": [
    "## Create df from combined.csv\n",
    "Then filter to only show rows from current season"
   ]
  },
  {
   "cell_type": "code",
   "execution_count": 6,
   "id": "39cb75d8",
   "metadata": {
    "scrolled": true
   },
   "outputs": [
    {
     "name": "stdout",
     "output_type": "stream",
     "text": [
      "(6882, 151)\n",
      "(178, 151)\n",
      "      Season        Date Home_Team  H_Q1  H_Q2  H_Q3  H_Q4  H_OT  H_Final  \\\n",
      "6826    2024  2024-11-24       TAM     7    16     7     0     0       30   \n",
      "6825    2024  2024-11-24       DAL     0     3     7    24     0       34   \n",
      "6829    2024  2024-11-24       DEN     3     6     7    13     0       29   \n",
      "6835    2024  2024-11-24       NWE     0     0     0    15     0       15   \n",
      "6836    2024  2024-11-25       BAL     0    14     3    13     0       30   \n",
      "\n",
      "     Visitor_Team  ...  V_punting_yds  V_scoring_fga  V_scoring_fgm  \\\n",
      "6826          NYG  ...          168.0            0.0            0.0   \n",
      "6825          WAS  ...          247.0            3.0            2.0   \n",
      "6829          LVR  ...          190.0            4.0            4.0   \n",
      "6835          MIA  ...          240.0            2.0            2.0   \n",
      "6836          LAC  ...          165.0            3.0            3.0   \n",
      "\n",
      "      V_scoring_xpa  V_scoring_xpm  H_halftime_odds  V_halftime_odds  \\\n",
      "6826            1.0            1.0         1.010000           34.000   \n",
      "6825            2.0            0.0         3.908333            1.255   \n",
      "6829            1.0            1.0         1.590000            2.320   \n",
      "6835            4.0            4.0        16.000000            1.010   \n",
      "6836            2.0            2.0         1.546667            2.425   \n",
      "\n",
      "      H_start_odds  V_start_odds  H_Won  \n",
      "6826      1.364000      3.239000    1.0  \n",
      "6825      5.405556      1.164444    1.0  \n",
      "6829      1.403333      3.047778    1.0  \n",
      "6835      4.005000      1.263000    0.0  \n",
      "6836      1.625000      2.359000    1.0  \n",
      "\n",
      "[5 rows x 151 columns]\n"
     ]
    }
   ],
   "source": [
    "df = pd.read_csv('footballData/combined.csv', index_col=False, low_memory=False)\n",
    "df = df.sort_values(by='Date')\n",
    "\n",
    "# Create the H_Won column\n",
    "df['H_Won'] = np.where(df['H_Final'] > df['V_Final'], 1.0, 0.0)\n",
    "print(df.shape)\n",
    "\n",
    "# Filter out all but the current season\n",
    "df = df[df['Season'] == current_season]\n",
    "print(df.shape)\n",
    "print(df.tail())\n",
    "\n",
    "# Add games from current date\n",
    "for game in current_date_games:\n",
    "    df = df.append(game, ignore_index=True)\n"
   ]
  },
  {
   "cell_type": "code",
   "execution_count": 7,
   "id": "d6afba75",
   "metadata": {},
   "outputs": [],
   "source": [
    "track_dict = nfl_utils.get_track_dict(df)\n",
    "# print(track_dict)"
   ]
  },
  {
   "cell_type": "code",
   "execution_count": 8,
   "id": "42f65375",
   "metadata": {
    "scrolled": true
   },
   "outputs": [
    {
     "name": "stdout",
     "output_type": "stream",
     "text": [
      "(191, 151)\n",
      "0/191\n",
      "10/191\n",
      "20/191\n",
      "30/191\n",
      "40/191\n",
      "50/191\n",
      "60/191\n",
      "70/191\n",
      "80/191\n",
      "90/191\n",
      "100/191\n",
      "110/191\n",
      "120/191\n",
      "130/191\n",
      "140/191\n",
      "150/191\n",
      "160/191\n",
      "170/191\n",
      "180/191\n",
      "190/191\n",
      "(109, 153)\n",
      "(109, 217)\n"
     ]
    }
   ],
   "source": [
    "minimum_window = 4\n",
    "print(df.shape)\n",
    "\n",
    "indices_to_drop = []\n",
    "current_count = 0\n",
    "track_cols = nfl_utils.track_cols\n",
    "\n",
    "for row in df.itertuples():\n",
    "    if current_count % 10 == 0:\n",
    "        print(f'{current_count}/{df.shape[0]}')\n",
    "    current_count = current_count + 1\n",
    "    index = row.Index\n",
    "    # year = row.Date.split('-')[0]\n",
    "    year = row.Season\n",
    "    home_team = row.Home_Team\n",
    "    visitor_team = row.Visitor_Team\n",
    "    # Home team min window\n",
    "    home_date_column = f'{year}_{home_team}_Date'\n",
    "    visitor_date_column = f'{year}_{visitor_team}_Date'\n",
    "\n",
    "    # Current row is older than Home team at min_window\n",
    "    if len(track_dict[home_date_column]) > minimum_window and row.Date <= track_dict[home_date_column][minimum_window]:\n",
    "        indices_to_drop.append(index)\n",
    "        continue\n",
    "    # Current row is older than Visitor team at min_window\n",
    "    if len(track_dict[visitor_date_column]) > minimum_window and row.Date <= track_dict[visitor_date_column][minimum_window]:\n",
    "        indices_to_drop.append(index)\n",
    "        continue\n",
    "\n",
    "    home_date_index = track_dict[home_date_column].index(row.Date)\n",
    "    visitor_date_index = track_dict[visitor_date_column].index(row.Date)\n",
    "    # print(f'H: {home_date_index} V: {visitor_date_index}')\n",
    "\n",
    "    # Update df to have average for each track_cols (Ignoring 'Date', 'datediff' the 1-2nd item)\n",
    "    for col in track_cols[1:]:\n",
    "        # Update home\n",
    "        home_col_list = track_dict[f'{year}_{home_team}_{col}'][:home_date_index-1]\n",
    "        dataframe_val = pd.DataFrame({'value': home_col_list})\n",
    "        ema = dataframe_val['value'].ewm(span=min(minimum_window, len(home_col_list)), adjust=False).mean().iloc[-1]\n",
    "        df.at[index, 'H_' + col] = ema\n",
    "        \n",
    "        # Update Visitor\n",
    "        visitor_col_list = track_dict[f'{year}_{visitor_team}_{col}'][:visitor_date_index-1]\n",
    "        dataframe_val = pd.DataFrame({'value': visitor_col_list})\n",
    "        ema = dataframe_val['value'].ewm(span=min(minimum_window, len(visitor_col_list)), adjust=False).mean().iloc[-1]\n",
    "        df.at[index, 'V_' + col] = ema\n",
    "\n",
    "    # Add num days since last game for home, visitor\n",
    "    df.at[index, f'H_datediff'] = 0\n",
    "    if home_date_index > 0:\n",
    "        current_game_date = datetime.strptime(track_dict[home_date_column][home_date_index], \"%Y-%m-%d\")\n",
    "        previous_game_date = datetime.strptime(track_dict[home_date_column][home_date_index-1], \"%Y-%m-%d\")\n",
    "        game_diff = int((current_game_date - previous_game_date).days)\n",
    "        # print(f'{current_game_date} minus {previous_game_date} is {game_diff}')\n",
    "        df.at[index, f'H_datediff'] = game_diff\n",
    "    \n",
    "    df.at[index, f'V_datediff'] = 0\n",
    "    if visitor_date_index > 0:\n",
    "        current_game_date = datetime.strptime(track_dict[visitor_date_column][visitor_date_index], \"%Y-%m-%d\")\n",
    "        previous_game_date = datetime.strptime(track_dict[visitor_date_column][visitor_date_index-1], \"%Y-%m-%d\")\n",
    "        game_diff = int((current_game_date - previous_game_date).days)\n",
    "        # print(f'{current_game_date} minus {previous_game_date} is {game_diff}')\n",
    "        df.at[index, f'V_datediff'] = game_diff\n",
    "        \n",
    "df.drop(indices_to_drop, inplace=True)\n",
    "\n",
    "track_cols.append('datediff')\n",
    "print(df.shape)\n",
    "for col in track_cols[1:]:\n",
    "    df['D_' + col] = df['H_' + col] - df['V_' + col]\n",
    "\n",
    "track_cols.pop()\n",
    "\n",
    "\n",
    "print(df.shape)\n",
    "# print(df.tail())"
   ]
  },
  {
   "cell_type": "code",
   "execution_count": 9,
   "id": "a2b862f8",
   "metadata": {},
   "outputs": [],
   "source": [
    "# df.head()"
   ]
  },
  {
   "cell_type": "markdown",
   "id": "8ff80300",
   "metadata": {},
   "source": [
    "### 3. Create an array of continuous values\n",
    "Numpy array 'conts' containing stack of each continuous column"
   ]
  },
  {
   "cell_type": "code",
   "execution_count": 10,
   "id": "29cf06c5",
   "metadata": {
    "scrolled": true
   },
   "outputs": [
    {
     "name": "stdout",
     "output_type": "stream",
     "text": [
      "(109, 217)\n"
     ]
    }
   ],
   "source": [
    "# Remove duplicate columns\n",
    "# df = df.loc[:, ~df.columns.duplicated()].copy()\n",
    "\n",
    "# create cont_df and y_df from the df\n",
    "cont_df = df[cont_cols]\n",
    "y_df = df[y_col]\n",
    "\n",
    "print(df.shape)"
   ]
  },
  {
   "cell_type": "code",
   "execution_count": 11,
   "id": "141a5280",
   "metadata": {
    "scrolled": true
   },
   "outputs": [
    {
     "name": "stdout",
     "output_type": "stream",
     "text": [
      "D_datediff\n",
      "D_First_Downs\n",
      "D_Rush\n",
      "D_Yds\n",
      "D_TDs\n",
      "D_Cmp\n",
      "D_Att\n",
      "D_Yd\n",
      "D_TD\n",
      "D_INT\n",
      "D_Sacked\n",
      "D_Yards\n",
      "D_Net_Pass_Yards\n",
      "D_Total_Yards\n",
      "D_Fumbles\n",
      "D_Lost\n",
      "D_Turnovers\n",
      "D_Penalties\n",
      "D_passing_att\n",
      "D_passing_cmp\n",
      "D_passing_int\n",
      "D_passing_lng\n",
      "D_passing_sk\n",
      "D_passing_td\n",
      "D_passing_yds\n",
      "D_receiving_lng\n",
      "D_receiving_td\n",
      "D_receiving_yds\n",
      "D_rushing_att\n",
      "D_rushing_lng\n",
      "D_rushing_td\n",
      "D_rushing_yds\n",
      "D_def_interceptions_int\n",
      "D_def_interceptions_lng\n",
      "D_def_interceptions_pd\n",
      "D_def_interceptions_td\n",
      "D_def_interceptions_yds\n",
      "D_fumbles_ff\n",
      "D_fumbles_fr\n",
      "D_fumbles_td\n",
      "D_fumbles_yds\n",
      "D_sk\n",
      "D_tackles_ast\n",
      "D_tackles_comb\n",
      "D_tackles_qbhits\n",
      "D_tackles_solo\n",
      "D_tackles_tfl\n",
      "D_kick_returns_lng\n",
      "D_kick_returns_rt\n",
      "D_kick_returns_td\n",
      "D_kick_returns_yds\n",
      "D_punt_returns_lng\n",
      "D_punt_returns_ret\n",
      "D_punt_returns_td\n",
      "D_punt_returns_yds\n",
      "D_punting_lng\n",
      "D_punting_pnt\n",
      "D_punting_yds\n",
      "D_scoring_fga\n",
      "D_scoring_fgm\n",
      "D_scoring_xpa\n",
      "D_scoring_xpm\n"
     ]
    },
    {
     "data": {
      "text/plain": [
       "(109, 62)"
      ]
     },
     "execution_count": 11,
     "metadata": {},
     "output_type": "execute_result"
    }
   ],
   "source": [
    "for item in cont_df.columns:\n",
    "    print(item)\n",
    "cont_df.shape"
   ]
  },
  {
   "cell_type": "code",
   "execution_count": 12,
   "id": "7e3e95b0",
   "metadata": {},
   "outputs": [
    {
     "name": "stdout",
     "output_type": "stream",
     "text": [
      "(109, 62)\n",
      "(109, 1)\n"
     ]
    }
   ],
   "source": [
    "conts = np.stack([cont_df[col].values for col in list(cont_df.columns)], 1)\n",
    "y_col = np.stack([y_df[col].values for col in y_col], 1)\n",
    "\n",
    "\n",
    "conts_train = conts\n",
    "y_train = y_col\n",
    "print(conts.shape)\n",
    "print(y_col.shape)"
   ]
  },
  {
   "cell_type": "code",
   "execution_count": 24,
   "id": "a1746fa8",
   "metadata": {},
   "outputs": [
    {
     "name": "stdout",
     "output_type": "stream",
     "text": [
      "(13, 62)\n"
     ]
    }
   ],
   "source": [
    "conts_current_date = conts[len(conts) - len(current_date_games):]\n",
    "print(conts_current_date.shape)"
   ]
  },
  {
   "cell_type": "markdown",
   "id": "68273af9",
   "metadata": {},
   "source": [
    "# Load XGBoost model\n",
    "from xgboost_model.bin"
   ]
  },
  {
   "cell_type": "code",
   "execution_count": 15,
   "id": "0dfc9e8a",
   "metadata": {},
   "outputs": [],
   "source": [
    "model = xgb.XGBClassifier()\n",
    "model.load_model('xgboost_model.bin')"
   ]
  },
  {
   "cell_type": "code",
   "execution_count": 32,
   "id": "7441a313",
   "metadata": {},
   "outputs": [
    {
     "name": "stdout",
     "output_type": "stream",
     "text": [
      "Prediction: WAS won against NOR\n",
      "Prediction: 0\n",
      "Prediction: NYJ won against JAX\n",
      "Prediction: 0\n",
      "Prediction: MIA won against HOU\n",
      "Prediction: 0\n",
      "Prediction: CIN won against TEN\n",
      "Prediction: 0\n",
      "Prediction: KAN won against CLE\n",
      "Prediction: 0\n",
      "Prediction: DAL won against CAR\n",
      "Prediction: 0\n",
      "Prediction: BAL won against NYG\n",
      "Prediction: 0\n",
      "Prediction: ARI won against NWE\n",
      "Prediction: 1\n",
      "Prediction: DET won against BUF\n",
      "Prediction: 1\n",
      "Prediction: LAC won against TAM\n",
      "Prediction: 1\n",
      "Prediction: PHI won against PIT\n",
      "Prediction: 1\n",
      "Prediction: DEN won against IND\n",
      "Prediction: 1\n",
      "Prediction: GNB won against SEA\n",
      "Prediction: 0\n"
     ]
    }
   ],
   "source": [
    "y_pred = model.predict(conts_current_date)\n",
    "for i in range(0,len(y_pred)):\n",
    "    game = current_date_games[i]\n",
    "    if y_pred[i] == 1:\n",
    "        print(f\"Prediction: {game['Home_Team']} won against {game['Visitor_Team']}\")\n",
    "    else:\n",
    "        print(f\"Prediction: {game['Visitor_Team']} won against {game['Home_Team']}\")\n",
    "    print(f\"Prediction: {y_pred[i]}\")"
   ]
  },
  {
   "cell_type": "code",
   "execution_count": null,
   "id": "f0f7422a",
   "metadata": {},
   "outputs": [],
   "source": []
  }
 ],
 "metadata": {
  "kernelspec": {
   "display_name": "Python 3 (ipykernel)",
   "language": "python",
   "name": "python3"
  },
  "language_info": {
   "codemirror_mode": {
    "name": "ipython",
    "version": 3
   },
   "file_extension": ".py",
   "mimetype": "text/x-python",
   "name": "python",
   "nbconvert_exporter": "python",
   "pygments_lexer": "ipython3",
   "version": "3.7.12"
  }
 },
 "nbformat": 4,
 "nbformat_minor": 5
}
