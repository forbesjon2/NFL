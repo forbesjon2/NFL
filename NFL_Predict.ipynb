{
 "cells": [
  {
   "cell_type": "code",
   "execution_count": 1,
   "id": "3dcb811b",
   "metadata": {},
   "outputs": [],
   "source": [
    "import numpy as np\n",
    "import pandas as pd\n",
    "import math\n",
    "from datetime import datetime\n",
    "\n",
    "# XGBoost\n",
    "import xgboost as xgb\n",
    "from xgboost import XGBClassifier, XGBRegressor\n",
    "from sklearn.metrics import accuracy_score, confusion_matrix, make_scorer, f1_score\n",
    "from sklearn.model_selection import GridSearchCV, RandomizedSearchCV\n",
    "import seaborn as sns # confusion matrix"
   ]
  },
  {
   "cell_type": "code",
   "execution_count": 2,
   "id": "0e8d6803",
   "metadata": {},
   "outputs": [],
   "source": [
    "# Dead kernel?\n",
    "from NFLUtils import NFLUtils\n",
    "nfl_utils = NFLUtils()"
   ]
  },
  {
   "cell_type": "markdown",
   "id": "39120229",
   "metadata": {},
   "source": [
    "## Global variables go here"
   ]
  },
  {
   "cell_type": "code",
   "execution_count": 3,
   "id": "4ac0289e",
   "metadata": {},
   "outputs": [],
   "source": [
    "current_season = 2024"
   ]
  },
  {
   "cell_type": "code",
   "execution_count": 5,
   "id": "dad92c14",
   "metadata": {
    "scrolled": true
   },
   "outputs": [
    {
     "name": "stdout",
     "output_type": "stream",
     "text": [
      "[{'Season': 2024, 'Home_Team': 'PHI', 'Visitor_Team': 'WAS', 'Date': '2025-01-26'}, {'Season': 2024, 'Home_Team': 'KAN', 'Visitor_Team': 'BUF', 'Date': '2025-01-26'}]\n"
     ]
    }
   ],
   "source": [
    "# array of { 'Season':<>, 'Home_Team':<>, 'Visitor_Team':<>, 'Date':<> }\n",
    "current_date_games = nfl_utils.get_current_date_games(current_season, 0)\n",
    "print(current_date_games)"
   ]
  },
  {
   "cell_type": "code",
   "execution_count": 6,
   "id": "868d05dd",
   "metadata": {},
   "outputs": [],
   "source": [
    "old_current_date_games = [\n",
    "    {'Season': 2024, 'Home_Team': 'BAL', 'Visitor_Team': 'CLE', 'Home_Odds': 1.04, 'Visitor_Odds': 12, 'Date': '2025-01-04'},\n",
    "    {'Season': 2024, 'Home_Team': 'PIT', 'Visitor_Team': 'CIN', 'Home_Odds': 2.1, 'Visitor_Odds': 1.74, 'Date': '2025-01-04'}\n",
    "]"
   ]
  },
  {
   "cell_type": "markdown",
   "id": "bcc59b6a",
   "metadata": {},
   "source": [
    "## Define cont_cols, y_col"
   ]
  },
  {
   "cell_type": "code",
   "execution_count": 7,
   "id": "7c3ebe07",
   "metadata": {},
   "outputs": [],
   "source": [
    "cont_cols = [\n",
    "    'D_datediff', # Days since last game (Home - visitor)\n",
    "    \n",
    "    # first downs\n",
    "    'D_First_Downs',\n",
    "    \n",
    "    # Basic Stats\n",
    "    'D_Rush',\n",
    "    'D_Yds',\n",
    "    'D_TDs',\n",
    "    'D_Cmp',\n",
    "    'D_Att',\n",
    "    'D_Yd',\n",
    "    'D_TD',\n",
    "    'D_INT',\n",
    "    'D_Sacked',\n",
    "    'D_Yards',\n",
    "    'D_Net_Pass_Yards',\n",
    "    'D_Total_Yards',\n",
    "    'D_Fumbles',\n",
    "    'D_Lost',\n",
    "    'D_Turnovers',\n",
    "    'D_Penalties',\n",
    "    \n",
    "    # Passing Detailed\n",
    "    'D_passing_att',\n",
    "    'D_passing_cmp',\n",
    "    'D_passing_int',\n",
    "    'D_passing_lng',\n",
    "    'D_passing_sk',\n",
    "    'D_passing_td',\n",
    "    'D_passing_yds',\n",
    "    \n",
    "    # Receiving\n",
    "    'D_receiving_lng',\n",
    "    'D_receiving_td',\n",
    "    'D_receiving_yds',\n",
    "    \n",
    "    # Rushing Detailed\n",
    "    'D_rushing_att',\n",
    "    'D_rushing_lng',\n",
    "    'D_rushing_td',\n",
    "    'D_rushing_yds',\n",
    "    \n",
    "    # Defense interceptions\n",
    "    'D_def_interceptions_int',\n",
    "    'D_def_interceptions_lng',\n",
    "    # 'D_def_interceptions_pd',\n",
    "    'D_def_interceptions_td',\n",
    "    'D_def_interceptions_yds',\n",
    "    \n",
    "    # Defense fumbles\n",
    "    'D_fumbles_ff',\n",
    "    'D_fumbles_fr',\n",
    "    'D_fumbles_td',\n",
    "    'D_fumbles_yds',\n",
    "    \n",
    "    # Defense tackles\n",
    "    'D_sk',\n",
    "    'D_tackles_ast',\n",
    "    'D_tackles_comb',\n",
    "    # 'D_tackles_qbhits',\n",
    "    'D_tackles_solo',\n",
    "    # 'D_tackles_tfl',\n",
    "    \n",
    "    # Kick Returns\n",
    "    'D_kick_returns_lng',\n",
    "    'D_kick_returns_rt',\n",
    "    'D_kick_returns_td',\n",
    "    'D_kick_returns_yds',\n",
    "    \n",
    "    # Punt Returns\n",
    "    'D_punt_returns_lng',\n",
    "    'D_punt_returns_ret',\n",
    "    'D_punt_returns_td',\n",
    "    'D_punt_returns_yds',\n",
    "    \n",
    "    # Punting / Scoring\n",
    "    'D_punting_lng',\n",
    "    'D_punting_pnt',\n",
    "    'D_punting_yds',\n",
    "    'D_scoring_fga',\n",
    "    'D_scoring_fgm',\n",
    "    'D_scoring_xpa',\n",
    "    'D_scoring_xpm'\n",
    "]\n",
    "\n",
    "\n",
    "y_col = ['H_Won']"
   ]
  },
  {
   "cell_type": "markdown",
   "id": "1e38450b",
   "metadata": {},
   "source": [
    "## Create df from combined.csv\n",
    "Then filter to only show rows from current season"
   ]
  },
  {
   "cell_type": "code",
   "execution_count": 8,
   "id": "39cb75d8",
   "metadata": {
    "scrolled": true
   },
   "outputs": [
    {
     "name": "stdout",
     "output_type": "stream",
     "text": [
      "(7989, 145)\n",
      "(281, 145)\n"
     ]
    }
   ],
   "source": [
    "df = pd.read_csv('footballData/combined.csv', index_col=False, low_memory=False)\n",
    "df = df.sort_values(by='Date')\n",
    "\n",
    "# Create the H_Won column\n",
    "df['H_Won'] = np.where(df['H_Final'] > df['V_Final'], 1.0, 0.0)\n",
    "print(df.shape)\n",
    "\n",
    "# Filter out all but the current season\n",
    "df = df[df['Season'] == current_season]\n",
    "print(df.shape)\n",
    "# print(df.tail())\n",
    "\n",
    "# Add games from current date\n",
    "for game in current_date_games:\n",
    "    df = df.append(game, ignore_index=True)\n"
   ]
  },
  {
   "cell_type": "code",
   "execution_count": 9,
   "id": "d6afba75",
   "metadata": {
    "scrolled": true
   },
   "outputs": [],
   "source": [
    "track_dict = nfl_utils.get_track_dict(df)\n",
    "# print(track_dict)"
   ]
  },
  {
   "cell_type": "code",
   "execution_count": 10,
   "id": "42f65375",
   "metadata": {
    "scrolled": true
   },
   "outputs": [
    {
     "name": "stdout",
     "output_type": "stream",
     "text": [
      "(283, 145)\n",
      "0/283\n",
      "10/283\n",
      "20/283\n",
      "30/283\n",
      "40/283\n",
      "50/283\n",
      "60/283\n",
      "70/283\n",
      "80/283\n",
      "90/283\n",
      "100/283\n",
      "110/283\n",
      "120/283\n",
      "130/283\n",
      "140/283\n",
      "150/283\n",
      "160/283\n",
      "170/283\n",
      "180/283\n",
      "190/283\n",
      "200/283\n",
      "210/283\n",
      "220/283\n",
      "230/283\n",
      "240/283\n",
      "250/283\n",
      "260/283\n",
      "270/283\n",
      "280/283\n",
      "(201, 147)\n",
      "(201, 208)\n"
     ]
    }
   ],
   "source": [
    "minimum_window = 4\n",
    "print(df.shape)\n",
    "\n",
    "indices_to_drop = []\n",
    "current_count = 0\n",
    "track_cols = nfl_utils.track_cols\n",
    "\n",
    "for row in df.itertuples():\n",
    "    if current_count % 10 == 0:\n",
    "        print(f'{current_count}/{df.shape[0]}')\n",
    "    current_count = current_count + 1\n",
    "    index = row.Index\n",
    "    # year = row.Date.split('-')[0]\n",
    "    year = row.Season\n",
    "    home_team = row.Home_Team\n",
    "    visitor_team = row.Visitor_Team\n",
    "    # Home team min window\n",
    "    home_date_column = f'{year}_{home_team}_Date'\n",
    "    visitor_date_column = f'{year}_{visitor_team}_Date'\n",
    "\n",
    "    # Current row is older than Home team at min_window\n",
    "    if len(track_dict[home_date_column]) > minimum_window and row.Date <= track_dict[home_date_column][minimum_window]:\n",
    "        indices_to_drop.append(index)\n",
    "        continue\n",
    "    # Current row is older than Visitor team at min_window\n",
    "    if len(track_dict[visitor_date_column]) > minimum_window and row.Date <= track_dict[visitor_date_column][minimum_window]:\n",
    "        indices_to_drop.append(index)\n",
    "        continue\n",
    "\n",
    "    home_date_index = track_dict[home_date_column].index(row.Date)\n",
    "    visitor_date_index = track_dict[visitor_date_column].index(row.Date)\n",
    "    # print(f'H: {home_date_index} V: {visitor_date_index}')\n",
    "\n",
    "    # Update df to have average for each track_cols (Ignoring 'Date', 'datediff' the 1-2nd item)\n",
    "    for col in track_cols[1:]:\n",
    "        # Update home\n",
    "        home_col_list = track_dict[f'{year}_{home_team}_{col}'][:home_date_index-1]\n",
    "        dataframe_val = pd.DataFrame({'value': home_col_list})\n",
    "        ema = dataframe_val['value'].ewm(span=min(minimum_window, len(home_col_list)), adjust=False).mean().iloc[-1]\n",
    "        df.at[index, 'H_' + col] = ema\n",
    "        \n",
    "        # Update Visitor\n",
    "        visitor_col_list = track_dict[f'{year}_{visitor_team}_{col}'][:visitor_date_index-1]\n",
    "        dataframe_val = pd.DataFrame({'value': visitor_col_list})\n",
    "        ema = dataframe_val['value'].ewm(span=min(minimum_window, len(visitor_col_list)), adjust=False).mean().iloc[-1]\n",
    "        df.at[index, 'V_' + col] = ema\n",
    "\n",
    "    # Add num days since last game for home, visitor\n",
    "    df.at[index, f'H_datediff'] = 0\n",
    "    if home_date_index > 0:\n",
    "        current_game_date = datetime.strptime(track_dict[home_date_column][home_date_index], \"%Y-%m-%d\")\n",
    "        previous_game_date = datetime.strptime(track_dict[home_date_column][home_date_index-1], \"%Y-%m-%d\")\n",
    "        game_diff = int((current_game_date - previous_game_date).days)\n",
    "        # print(f'{current_game_date} minus {previous_game_date} is {game_diff}')\n",
    "        df.at[index, f'H_datediff'] = game_diff\n",
    "    \n",
    "    df.at[index, f'V_datediff'] = 0\n",
    "    if visitor_date_index > 0:\n",
    "        current_game_date = datetime.strptime(track_dict[visitor_date_column][visitor_date_index], \"%Y-%m-%d\")\n",
    "        previous_game_date = datetime.strptime(track_dict[visitor_date_column][visitor_date_index-1], \"%Y-%m-%d\")\n",
    "        game_diff = int((current_game_date - previous_game_date).days)\n",
    "        # print(f'{current_game_date} minus {previous_game_date} is {game_diff}')\n",
    "        df.at[index, f'V_datediff'] = game_diff\n",
    "        \n",
    "df.drop(indices_to_drop, inplace=True)\n",
    "\n",
    "track_cols.append('datediff')\n",
    "print(df.shape)\n",
    "for col in track_cols[1:]:\n",
    "    df['D_' + col] = df['H_' + col] - df['V_' + col]\n",
    "\n",
    "track_cols.pop()\n",
    "\n",
    "\n",
    "print(df.shape)\n",
    "# print(df.tail())"
   ]
  },
  {
   "cell_type": "code",
   "execution_count": 11,
   "id": "a2b862f8",
   "metadata": {},
   "outputs": [],
   "source": [
    "# df.head()"
   ]
  },
  {
   "cell_type": "markdown",
   "id": "8ff80300",
   "metadata": {},
   "source": [
    "### 3. Create an array of continuous values\n",
    "Numpy array 'conts' containing stack of each continuous column"
   ]
  },
  {
   "cell_type": "code",
   "execution_count": 12,
   "id": "29cf06c5",
   "metadata": {
    "scrolled": true
   },
   "outputs": [
    {
     "name": "stdout",
     "output_type": "stream",
     "text": [
      "(201, 208)\n"
     ]
    }
   ],
   "source": [
    "# Remove duplicate columns\n",
    "# df = df.loc[:, ~df.columns.duplicated()].copy()\n",
    "\n",
    "# create cont_df and y_df from the df\n",
    "cont_df = df[cont_cols]\n",
    "y_df = df[y_col]\n",
    "\n",
    "print(df.shape)"
   ]
  },
  {
   "cell_type": "code",
   "execution_count": 13,
   "id": "141a5280",
   "metadata": {
    "scrolled": true
   },
   "outputs": [
    {
     "name": "stdout",
     "output_type": "stream",
     "text": [
      "D_datediff\n",
      "D_First_Downs\n",
      "D_Rush\n",
      "D_Yds\n",
      "D_TDs\n",
      "D_Cmp\n",
      "D_Att\n",
      "D_Yd\n",
      "D_TD\n",
      "D_INT\n",
      "D_Sacked\n",
      "D_Yards\n",
      "D_Net_Pass_Yards\n",
      "D_Total_Yards\n",
      "D_Fumbles\n",
      "D_Lost\n",
      "D_Turnovers\n",
      "D_Penalties\n",
      "D_passing_att\n",
      "D_passing_cmp\n",
      "D_passing_int\n",
      "D_passing_lng\n",
      "D_passing_sk\n",
      "D_passing_td\n",
      "D_passing_yds\n",
      "D_receiving_lng\n",
      "D_receiving_td\n",
      "D_receiving_yds\n",
      "D_rushing_att\n",
      "D_rushing_lng\n",
      "D_rushing_td\n",
      "D_rushing_yds\n",
      "D_def_interceptions_int\n",
      "D_def_interceptions_lng\n",
      "D_def_interceptions_td\n",
      "D_def_interceptions_yds\n",
      "D_fumbles_ff\n",
      "D_fumbles_fr\n",
      "D_fumbles_td\n",
      "D_fumbles_yds\n",
      "D_sk\n",
      "D_tackles_ast\n",
      "D_tackles_comb\n",
      "D_tackles_solo\n",
      "D_kick_returns_lng\n",
      "D_kick_returns_rt\n",
      "D_kick_returns_td\n",
      "D_kick_returns_yds\n",
      "D_punt_returns_lng\n",
      "D_punt_returns_ret\n",
      "D_punt_returns_td\n",
      "D_punt_returns_yds\n",
      "D_punting_lng\n",
      "D_punting_pnt\n",
      "D_punting_yds\n",
      "D_scoring_fga\n",
      "D_scoring_fgm\n",
      "D_scoring_xpa\n",
      "D_scoring_xpm\n"
     ]
    },
    {
     "data": {
      "text/plain": [
       "(201, 59)"
      ]
     },
     "execution_count": 13,
     "metadata": {},
     "output_type": "execute_result"
    }
   ],
   "source": [
    "for item in cont_df.columns:\n",
    "    print(item)\n",
    "cont_df.shape"
   ]
  },
  {
   "cell_type": "code",
   "execution_count": 14,
   "id": "7e3e95b0",
   "metadata": {},
   "outputs": [
    {
     "name": "stdout",
     "output_type": "stream",
     "text": [
      "(201, 59)\n",
      "(201, 1)\n"
     ]
    }
   ],
   "source": [
    "conts = np.stack([cont_df[col].values for col in list(cont_df.columns)], 1)\n",
    "y_col = np.stack([y_df[col].values for col in y_col], 1)\n",
    "\n",
    "\n",
    "conts_train = conts\n",
    "y_train = y_col\n",
    "print(conts.shape)\n",
    "print(y_col.shape)"
   ]
  },
  {
   "cell_type": "code",
   "execution_count": 15,
   "id": "a1746fa8",
   "metadata": {},
   "outputs": [
    {
     "name": "stdout",
     "output_type": "stream",
     "text": [
      "(2, 59)\n"
     ]
    }
   ],
   "source": [
    "conts_current_date = conts[len(conts) - len(current_date_games):]\n",
    "print(conts_current_date.shape)"
   ]
  },
  {
   "cell_type": "markdown",
   "id": "68273af9",
   "metadata": {},
   "source": [
    "# Load XGBoost model\n",
    "from xgboost_model.bin"
   ]
  },
  {
   "cell_type": "code",
   "execution_count": 16,
   "id": "0dfc9e8a",
   "metadata": {},
   "outputs": [],
   "source": [
    "# model = xgb.XGBClassifier()\n",
    "model = xgb.XGBRegressor()\n",
    "model.load_model('xgboost_model.bin')"
   ]
  },
  {
   "cell_type": "code",
   "execution_count": 19,
   "id": "7441a313",
   "metadata": {},
   "outputs": [
    {
     "name": "stdout",
     "output_type": "stream",
     "text": [
      "Prediction: WAS win against PHI\n",
      "Bet size: 73.8\n",
      "Prediction: BUF win against KAN\n",
      "Bet size: 73.8\n"
     ]
    }
   ],
   "source": [
    "y_pred = model.predict(conts_current_date)\n",
    "# Params\n",
    "current_account_value = 738\n",
    "\n",
    "# From tuning kelly hyperparameters\n",
    "confidence_threshold = 0.0\n",
    "# model_win_probability = 0.665\n",
    "position_size = 0.1\n",
    "ignore_games = 0\n",
    "# LAC, LVR?\n",
    "\n",
    "adjusted_position_size = min(position_size, (100.0 / (len(y_pred) - ignore_games)) / 100)\n",
    "bet_size = current_account_value * adjusted_position_size\n",
    "for i in range(0,len(y_pred)):\n",
    "    game = current_date_games[i]\n",
    "    decimal_odds = 1\n",
    "    if y_pred[i] > 0.5 + confidence_threshold:\n",
    "        print(f\"Prediction: {game['Home_Team']} win against {game['Visitor_Team']}\")\n",
    "        # decimal_odds = game['Home_Odds']\n",
    "        \n",
    "    elif y_pred[i] < 0.5 - confidence_threshold:\n",
    "        print(f\"Prediction: {game['Visitor_Team']} win against {game['Home_Team']}\")\n",
    "        # decimal_odds = game['Visitor_Odds']\n",
    "    else:\n",
    "        print(f\"Skipping {game['Visitor_Team']} vs {game['Home_Team']} game.\")\n",
    "        print(y_pred[i])\n",
    "        continue\n",
    "\n",
    "    print(f\"Bet size: {bet_size}\")"
   ]
  },
  {
   "cell_type": "code",
   "execution_count": 18,
   "id": "f0f7422a",
   "metadata": {},
   "outputs": [
    {
     "name": "stdout",
     "output_type": "stream",
     "text": [
      "182.12494649805447\n",
      "184.0189389214967\n"
     ]
    }
   ],
   "source": [
    "position_size = 0.25\n",
    "bet_size = current_account_value * position_size\n",
    "\n",
    "# win_prob, prediction (1 or 0 with xgb), fractional_odds\n",
    "# MIN win against CHI\n",
    "bet_amt = bet_size * nfl_utils.kelly_criterion(0.67, 1, 1.285)\n",
    "print(bet_amt)\n",
    "\n",
    "# ATL win against LVR\n",
    "bet_amt = bet_size * nfl_utils.kelly_criterion(0.67, 1, 1.363)\n",
    "print(bet_amt)"
   ]
  },
  {
   "cell_type": "code",
   "execution_count": null,
   "id": "2aacd3a0",
   "metadata": {},
   "outputs": [],
   "source": []
  }
 ],
 "metadata": {
  "kernelspec": {
   "display_name": "Python 3 (ipykernel)",
   "language": "python",
   "name": "python3"
  },
  "language_info": {
   "codemirror_mode": {
    "name": "ipython",
    "version": 3
   },
   "file_extension": ".py",
   "mimetype": "text/x-python",
   "name": "python",
   "nbconvert_exporter": "python",
   "pygments_lexer": "ipython3",
   "version": "3.9.21"
  }
 },
 "nbformat": 4,
 "nbformat_minor": 5
}
