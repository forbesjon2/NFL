{
 "cells": [
  {
   "cell_type": "code",
   "execution_count": 15,
   "id": "70409bb3",
   "metadata": {},
   "outputs": [],
   "source": [
    "import torch\n",
    "import torch.nn as nn\n",
    "from torch.utils.data import DataLoader, TensorDataset\n",
    "import numpy as np\n",
    "import pandas as pd\n",
    "import math\n",
    "import optuna\n",
    "import matplotlib.pyplot as plt\n",
    "from sklearn.utils import shuffle\n",
    "from sklearn.model_selection import KFold\n",
    "from sklearn import preprocessing\n",
    "from NFLUtils import NFLUtils\n",
    "nfl_utils = NFLUtils()\n",
    "\n",
    "%matplotlib inline\n",
    "\n",
    "# ANN\n",
    "from sklearn.pipeline import Pipeline\n",
    "from sklearn.base import BaseEstimator, ClassifierMixin\n",
    "from sklearn.preprocessing import StandardScaler\n",
    "from sklearn.linear_model import LinearRegression\n",
    "from sklearn.model_selection import cross_val_score\n",
    "from sklearn.metrics import f1_score\n",
    "\n",
    "import logging\n",
    "# Set up logging\n",
    "logging.basicConfig(level=logging.INFO)\n",
    "\n",
    "# XGBoost \n",
    "from xgboost import XGBClassifier, XGBRegressor\n",
    "from sklearn.metrics import accuracy_score, confusion_matrix, make_scorer, f1_score\n",
    "from sklearn.model_selection import GridSearchCV, RandomizedSearchCV\n",
    "import seaborn as sns # confusion matrix\n",
    "\n",
    "# Set device to GPU if available \n",
    "device = torch.device('cuda' if torch.cuda.is_available() else 'cpu')"
   ]
  },
  {
   "cell_type": "code",
   "execution_count": 2,
   "id": "556dd56a",
   "metadata": {},
   "outputs": [],
   "source": [
    "def set_all_seeds(seed=42):\n",
    "    np.random.seed(seed)\n",
    "    torch.manual_seed(seed)\n",
    "    torch.cuda.manual_seed_all(seed)\n",
    "    torch.backends.cudnn.deterministic = True\n",
    "    torch.backends.cudnn.benchmark = False"
   ]
  },
  {
   "cell_type": "markdown",
   "id": "ddff2364",
   "metadata": {},
   "source": [
    "### Load CSV\n",
    "cp Combined.csv ~/drive/Notes/ML/Pytorch/footballData/n"
   ]
  },
  {
   "cell_type": "code",
   "execution_count": 3,
   "id": "dfebbf64",
   "metadata": {
    "scrolled": true
   },
   "outputs": [
    {
     "name": "stdout",
     "output_type": "stream",
     "text": [
      "<class 'pandas.core.frame.DataFrame'>\n",
      "RangeIndex: 5308 entries, 0 to 5307\n",
      "Columns: 193 entries, Unnamed: 0 to kick_punt_umap_dim_2\n",
      "dtypes: float64(176), int64(14), object(3)\n",
      "memory usage: 7.8+ MB\n",
      "df after perf set removed: (5108, 193)\n",
      "df perf set size (200, 193)\n"
     ]
    }
   ],
   "source": [
    "df = pd.read_csv(\"./footballData/CombinedSlidingWindow4.csv\", index_col=False, low_memory=False)\n",
    "\n",
    "# Shuffle dataFrame (don't do this?)\n",
    "# df = shuffle(df, random_state=101)\n",
    "# df.head()\n",
    "df.info()\n",
    "\n",
    "test_performance_size = 200\n",
    "test_performance_df = df[df.shape[0]-test_performance_size:]\n",
    "df = df[:df.shape[0]-test_performance_size]\n",
    "print(f'df after perf set removed: {df.shape}')\n",
    "print(f'df perf set size {test_performance_df.shape}')"
   ]
  },
  {
   "cell_type": "markdown",
   "id": "3e26c9e0",
   "metadata": {},
   "source": [
    "### Remove items from performance set where you have no odds data"
   ]
  },
  {
   "cell_type": "code",
   "execution_count": 4,
   "id": "593aec0f",
   "metadata": {},
   "outputs": [],
   "source": [
    "# test_performance_df = test_performance_df.loc[test_performance_df['D_start_odds']!= 0]\n",
    "# test_performance_size = test_performance_df.shape[0]\n",
    "# test_performance_df.tail()"
   ]
  },
  {
   "cell_type": "markdown",
   "id": "9bcfc250",
   "metadata": {},
   "source": [
    "# Columns to use\n",
    "(TODO)"
   ]
  },
  {
   "cell_type": "code",
   "execution_count": 5,
   "id": "c1174d06",
   "metadata": {},
   "outputs": [
    {
     "data": {
      "text/html": [
       "<div>\n",
       "<style scoped>\n",
       "    .dataframe tbody tr th:only-of-type {\n",
       "        vertical-align: middle;\n",
       "    }\n",
       "\n",
       "    .dataframe tbody tr th {\n",
       "        vertical-align: top;\n",
       "    }\n",
       "\n",
       "    .dataframe thead th {\n",
       "        text-align: right;\n",
       "    }\n",
       "</style>\n",
       "<table border=\"1\" class=\"dataframe\">\n",
       "  <thead>\n",
       "    <tr style=\"text-align: right;\">\n",
       "      <th></th>\n",
       "      <th>Unnamed: 0</th>\n",
       "      <th>Season</th>\n",
       "      <th>Date</th>\n",
       "      <th>Home_Team</th>\n",
       "      <th>H_Q1</th>\n",
       "      <th>H_Q2</th>\n",
       "      <th>H_Q3</th>\n",
       "      <th>H_Q4</th>\n",
       "      <th>H_OT</th>\n",
       "      <th>H_Final</th>\n",
       "      <th>...</th>\n",
       "      <th>D_scoring_xpa</th>\n",
       "      <th>D_scoring_xpp</th>\n",
       "      <th>D_Final</th>\n",
       "      <th>D_Final_Allowed</th>\n",
       "      <th>D_start_odds</th>\n",
       "      <th>D_halftime_odds</th>\n",
       "      <th>D_datediff</th>\n",
       "      <th>D_pythagorean</th>\n",
       "      <th>kick_punt_umap_dim_1</th>\n",
       "      <th>kick_punt_umap_dim_2</th>\n",
       "    </tr>\n",
       "  </thead>\n",
       "  <tbody>\n",
       "    <tr>\n",
       "      <th>0</th>\n",
       "      <td>232</td>\n",
       "      <td>1995</td>\n",
       "      <td>1995-10-08</td>\n",
       "      <td>CIN</td>\n",
       "      <td>3</td>\n",
       "      <td>3</td>\n",
       "      <td>3</td>\n",
       "      <td>7</td>\n",
       "      <td>0</td>\n",
       "      <td>25.011029</td>\n",
       "      <td>...</td>\n",
       "      <td>1.813</td>\n",
       "      <td>0.384</td>\n",
       "      <td>12.571</td>\n",
       "      <td>16.114</td>\n",
       "      <td>0.0</td>\n",
       "      <td>0.0</td>\n",
       "      <td>0.0</td>\n",
       "      <td>0.114</td>\n",
       "      <td>6.694265</td>\n",
       "      <td>8.759236</td>\n",
       "    </tr>\n",
       "    <tr>\n",
       "      <th>1</th>\n",
       "      <td>229</td>\n",
       "      <td>1995</td>\n",
       "      <td>1995-10-08</td>\n",
       "      <td>ARI</td>\n",
       "      <td>3</td>\n",
       "      <td>7</td>\n",
       "      <td>11</td>\n",
       "      <td>0</td>\n",
       "      <td>0</td>\n",
       "      <td>18.544118</td>\n",
       "      <td>...</td>\n",
       "      <td>-1.504</td>\n",
       "      <td>0.180</td>\n",
       "      <td>-3.344</td>\n",
       "      <td>2.721</td>\n",
       "      <td>0.0</td>\n",
       "      <td>0.0</td>\n",
       "      <td>0.0</td>\n",
       "      <td>-0.063</td>\n",
       "      <td>10.335660</td>\n",
       "      <td>12.424065</td>\n",
       "    </tr>\n",
       "    <tr>\n",
       "      <th>2</th>\n",
       "      <td>228</td>\n",
       "      <td>1995</td>\n",
       "      <td>1995-10-08</td>\n",
       "      <td>WAS</td>\n",
       "      <td>10</td>\n",
       "      <td>7</td>\n",
       "      <td>7</td>\n",
       "      <td>10</td>\n",
       "      <td>0</td>\n",
       "      <td>15.308824</td>\n",
       "      <td>...</td>\n",
       "      <td>-0.695</td>\n",
       "      <td>-0.409</td>\n",
       "      <td>-2.291</td>\n",
       "      <td>-12.037</td>\n",
       "      <td>0.0</td>\n",
       "      <td>0.0</td>\n",
       "      <td>0.0</td>\n",
       "      <td>0.179</td>\n",
       "      <td>3.603538</td>\n",
       "      <td>2.439008</td>\n",
       "    </tr>\n",
       "    <tr>\n",
       "      <th>3</th>\n",
       "      <td>234</td>\n",
       "      <td>1995</td>\n",
       "      <td>1995-10-08</td>\n",
       "      <td>PIT</td>\n",
       "      <td>0</td>\n",
       "      <td>7</td>\n",
       "      <td>6</td>\n",
       "      <td>3</td>\n",
       "      <td>0</td>\n",
       "      <td>21.694853</td>\n",
       "      <td>...</td>\n",
       "      <td>-0.192</td>\n",
       "      <td>-0.244</td>\n",
       "      <td>10.599</td>\n",
       "      <td>9.664</td>\n",
       "      <td>0.0</td>\n",
       "      <td>0.0</td>\n",
       "      <td>0.0</td>\n",
       "      <td>0.248</td>\n",
       "      <td>7.307873</td>\n",
       "      <td>9.188602</td>\n",
       "    </tr>\n",
       "    <tr>\n",
       "      <th>4</th>\n",
       "      <td>223</td>\n",
       "      <td>1995</td>\n",
       "      <td>1995-10-09</td>\n",
       "      <td>LAC</td>\n",
       "      <td>3</td>\n",
       "      <td>10</td>\n",
       "      <td>0</td>\n",
       "      <td>10</td>\n",
       "      <td>0</td>\n",
       "      <td>18.268382</td>\n",
       "      <td>...</td>\n",
       "      <td>-0.256</td>\n",
       "      <td>0.000</td>\n",
       "      <td>-4.276</td>\n",
       "      <td>-10.798</td>\n",
       "      <td>0.0</td>\n",
       "      <td>0.0</td>\n",
       "      <td>0.0</td>\n",
       "      <td>0.007</td>\n",
       "      <td>2.883894</td>\n",
       "      <td>3.124932</td>\n",
       "    </tr>\n",
       "  </tbody>\n",
       "</table>\n",
       "<p>5 rows × 193 columns</p>\n",
       "</div>"
      ],
      "text/plain": [
       "   Unnamed: 0  Season        Date Home_Team  H_Q1  H_Q2  H_Q3  H_Q4  H_OT  \\\n",
       "0         232    1995  1995-10-08       CIN     3     3     3     7     0   \n",
       "1         229    1995  1995-10-08       ARI     3     7    11     0     0   \n",
       "2         228    1995  1995-10-08       WAS    10     7     7    10     0   \n",
       "3         234    1995  1995-10-08       PIT     0     7     6     3     0   \n",
       "4         223    1995  1995-10-09       LAC     3    10     0    10     0   \n",
       "\n",
       "     H_Final  ... D_scoring_xpa  D_scoring_xpp  D_Final  D_Final_Allowed  \\\n",
       "0  25.011029  ...         1.813          0.384   12.571           16.114   \n",
       "1  18.544118  ...        -1.504          0.180   -3.344            2.721   \n",
       "2  15.308824  ...        -0.695         -0.409   -2.291          -12.037   \n",
       "3  21.694853  ...        -0.192         -0.244   10.599            9.664   \n",
       "4  18.268382  ...        -0.256          0.000   -4.276          -10.798   \n",
       "\n",
       "   D_start_odds  D_halftime_odds  D_datediff  D_pythagorean  \\\n",
       "0           0.0              0.0         0.0          0.114   \n",
       "1           0.0              0.0         0.0         -0.063   \n",
       "2           0.0              0.0         0.0          0.179   \n",
       "3           0.0              0.0         0.0          0.248   \n",
       "4           0.0              0.0         0.0          0.007   \n",
       "\n",
       "   kick_punt_umap_dim_1  kick_punt_umap_dim_2  \n",
       "0              6.694265              8.759236  \n",
       "1             10.335660             12.424065  \n",
       "2              3.603538              2.439008  \n",
       "3              7.307873              9.188602  \n",
       "4              2.883894              3.124932  \n",
       "\n",
       "[5 rows x 193 columns]"
      ]
     },
     "execution_count": 5,
     "metadata": {},
     "output_type": "execute_result"
    }
   ],
   "source": [
    "df[:5]"
   ]
  },
  {
   "cell_type": "markdown",
   "id": "62db79ec",
   "metadata": {},
   "source": [
    "## 1. Separate continuous, categorical, and label column names\n",
    "\n",
    "Pretty much everything is continuous. \n",
    "\n",
    "Note: the y_col is what you're trying to predict\n",
    "\n",
    "## Feature engineering\n",
    "New Columns\n",
    "- **h_win**: Home team won\n"
   ]
  },
  {
   "cell_type": "code",
   "execution_count": 6,
   "id": "1a3960b3",
   "metadata": {
    "scrolled": true
   },
   "outputs": [
    {
     "name": "stdout",
     "output_type": "stream",
     "text": [
      "(5108, 193)\n",
      "(5108, 48)\n",
      "(200, 5)\n",
      "      H_Won  H_start_odds  V_start_odds  H_halftime_odds  V_halftime_odds\n",
      "5303    0.0      3.805714      1.285714         1.263333         3.894444\n",
      "5304    1.0      2.695000      1.475000         1.345556         3.222222\n",
      "5305    0.0      1.785000      2.082143         1.301111         3.472222\n",
      "5306    1.0      1.506000      2.654000         1.056667         9.383333\n",
      "5307    0.0      1.809000      2.038000         4.491667         1.198333\n",
      "      D_First_Downs  D_Rush   D_Yds   D_TDs  D_Cmp   D_Att    D_TD  D_Sacked  \\\n",
      "5303         -0.372 -13.742  -0.238 -10.965  6.426   8.056  28.902     4.363   \n",
      "5304          0.069 -44.346  -3.191  11.977  2.841  21.311  -4.210    -0.159   \n",
      "5305          1.647  32.044   4.502 -57.237  2.949 -36.737  58.033    -1.440   \n",
      "5306         -4.958   6.489   4.651 -22.117 -8.421 -71.139  48.970    -0.714   \n",
      "5307          0.141 -48.750 -12.522  40.661 -7.487  36.501 -25.872   -10.884   \n",
      "\n",
      "      D_Yards  D_Net_Pass_Yards  ...  D_tackles_solo  kick_punt_umap_dim_1  \\\n",
      "5303   -1.095            33.641  ...           1.081              5.422535   \n",
      "5304   -9.885            23.835  ...          -0.875             -0.436522   \n",
      "5305    7.760            26.054  ...          -3.754              7.592420   \n",
      "5306   -4.221           -17.012  ...          -3.789             -2.560321   \n",
      "5307  -11.349            -8.011  ...           2.616             -0.946544   \n",
      "\n",
      "      kick_punt_umap_dim_2  D_punting_pnt  D_punting_avg  D_scoring_fga  \\\n",
      "5303              5.769531          1.009          1.431         -0.111   \n",
      "5304              9.112581         -0.849          1.145          1.322   \n",
      "5305              4.882954          0.505         -1.003         -1.408   \n",
      "5306              5.941657         -1.600         -0.863          0.947   \n",
      "5307              7.017654         -0.939          3.173         -0.026   \n",
      "\n",
      "      D_scoring_fgp  D_scoring_xpa  D_scoring_xpp  D_pythagorean  \n",
      "5303          0.265         -0.153         -0.014         -0.178  \n",
      "5304          0.107         -1.480         -0.013         -0.126  \n",
      "5305         -0.375          1.169         -0.061          0.104  \n",
      "5306          0.382          0.095          0.000          0.026  \n",
      "5307          0.065         -0.241          0.000         -0.320  \n",
      "\n",
      "[5 rows x 48 columns]\n"
     ]
    }
   ],
   "source": [
    "cat_cols = []\n",
    "\n",
    "cont_cols = [col for col in nfl_utils.cont_cols if col not in nfl_utils.drop_cols]\n",
    "\n",
    "\n",
    "y_col = ['H_Won']\n",
    "y_col_perf = ['H_Won', 'H_start_odds', 'V_start_odds', 'H_halftime_odds', 'V_halftime_odds']\n",
    "\n",
    "\n",
    "# create cont_df and y_df from the df\n",
    "print(df.shape)\n",
    "cont_df = df[cont_cols]\n",
    "y_df = df[y_col]\n",
    "\n",
    "# test performance set\n",
    "perf_conts_df = test_performance_df[cont_cols]\n",
    "perf_y_df = test_performance_df[y_col_perf]\n",
    "perf_date_df = test_performance_df[['Date','Home_Team', 'Visitor_Team']]\n",
    "\n",
    "# print(cont_df.dtypes)\n",
    "print(cont_df.shape)\n",
    "print(perf_y_df.shape)\n",
    "print(perf_y_df.tail())\n",
    "print(perf_conts_df.tail())\n"
   ]
  },
  {
   "cell_type": "markdown",
   "id": "2ad0a853",
   "metadata": {},
   "source": [
    "## Monotone constraints dict"
   ]
  },
  {
   "cell_type": "code",
   "execution_count": 7,
   "id": "147aeb14",
   "metadata": {},
   "outputs": [
    {
     "name": "stdout",
     "output_type": "stream",
     "text": [
      "(1, 1, 1, 1, 1, 0, 1, -1, 0, 1, 1, -1, -1, -1, 0, 0, 0, 0, 1, -1, 1, -1, 1, 1, 0, 1, 1, 1, 1, 1, 1, 0, 1, 1, 0, 1, 0, 0, 0, 0, 0, 0, 0, 0, 0, 0, 0, 0)\n",
      "(0, 0, 0, 0, 0, 0, 0, 0, 0, 0, 0, 0, 0, 0, 0, 0, 0, 0, 0, 0, 0, 0, 0, 0, 0, 0, 0, 0, 0, 0, 0, 0, 0, 0, 0, 0, 0, 0, 0, 0, 0, 0, 0, 0, 0, 0, 0, 0)\n"
     ]
    }
   ],
   "source": [
    "monotone_constraints = {\n",
    "    # Time between games - More rest is better\n",
    "    'D_datediff': 1,\n",
    "    \n",
    "    # Offensive positive indicators\n",
    "    'D_First_Downs': 1,\n",
    "    'D_Rush': 1,\n",
    "    'D_Yds': 1,\n",
    "    'D_TDs': 1,\n",
    "    'D_Cmp': 1,\n",
    "    'D_Yd': 1,\n",
    "    'D_TD': 1,\n",
    "    'D_Net_Pass_Yards': 1,\n",
    "    'D_Total_Yards': 1,\n",
    "    \n",
    "    # Negative indicators\n",
    "    'D_INT': -1,\n",
    "    'D_Sacked': -1,\n",
    "    'D_Fumbles': -1,\n",
    "    'D_Lost': -1,\n",
    "    'D_Turnovers': -1,\n",
    "    'D_Penalties': -1,\n",
    "    \n",
    "    # Passing detail - positive\n",
    "    'D_passing_cmp': 1,\n",
    "    'D_passing_td': 1,\n",
    "    'D_passing_yds': 1,\n",
    "    'D_passing_lng': 1,\n",
    "    \n",
    "    # Passing detail - negative\n",
    "    'D_passing_int': -1,\n",
    "    'D_passing_sk': -1,\n",
    "    \n",
    "    # Receiving/Rushing - all positive\n",
    "    'D_receiving_td': 1,\n",
    "    'D_receiving_yds': 1,\n",
    "    'D_receiving_lng': 1,\n",
    "    'D_rushing_td': 1,\n",
    "    'D_rushing_yds': 1,\n",
    "    'D_rushing_lng': 1,\n",
    "    \n",
    "    # Defense - generally positive when in your favor\n",
    "    'D_def_interceptions_int': 1,\n",
    "    'D_def_interceptions_td': 1,\n",
    "    'D_def_interceptions_yds': 1,\n",
    "    'D_fumbles_fr': 1,\n",
    "    'D_fumbles_td': 1,\n",
    "    'D_sk': 1,\n",
    "    # 'D_tackles_qbhits': 1,\n",
    "    # 'D_tackles_tfl': 1,\n",
    "    \n",
    "    # Special teams - positive indicators\n",
    "    'D_kick_returns_td': 1,\n",
    "    'D_kick_returns_yds': 1,\n",
    "    'D_punt_returns_td': 1,\n",
    "    'D_punt_returns_yds': 1,\n",
    "    \n",
    "    # Scoring - positive\n",
    "    'D_scoring_fgm': 1,\n",
    "    'D_scoring_xpm': 1\n",
    "}\n",
    "\n",
    "monotone_constraints_tuple = ()\n",
    "no_monotone_constraints_tuple = ()\n",
    "for col in cont_cols:\n",
    "    monotone_constraints_tuple = monotone_constraints_tuple + (monotone_constraints[col],) if col in monotone_constraints else monotone_constraints_tuple + (0,)\n",
    "    no_monotone_constraints_tuple = no_monotone_constraints_tuple + (0,)\n",
    "print(monotone_constraints_tuple)\n",
    "print(no_monotone_constraints_tuple)"
   ]
  },
  {
   "cell_type": "markdown",
   "id": "05613417",
   "metadata": {},
   "source": [
    "#### 1a. Normalize cont_df\n",
    "StandardScaler is instead used by the pipeline"
   ]
  },
  {
   "cell_type": "code",
   "execution_count": 8,
   "id": "a7e76a89",
   "metadata": {},
   "outputs": [],
   "source": [
    "# min_max_scaler = preprocessing.MinMaxScaler()\n",
    "# cont_scaled = min_max_scaler.fit_transform(cont_df.values)\n",
    "# cont_df = pd.DataFrame(cont_scaled)\n",
    "# cont_df.head()\n",
    "\n",
    "# # test performance set\n",
    "# perf_conts_df_scaled = min_max_scaler.fit_transform(perf_conts_df.values)\n",
    "# perf_conts_df = pd.DataFrame(perf_conts_df_scaled)"
   ]
  },
  {
   "cell_type": "markdown",
   "id": "1b1912ae",
   "metadata": {},
   "source": [
    "### 3. Create an array of continuous values\n",
    "Numpy array 'conts' containing stack of each continuous column"
   ]
  },
  {
   "cell_type": "code",
   "execution_count": 9,
   "id": "72c326ab",
   "metadata": {},
   "outputs": [],
   "source": [
    "conts = np.stack([cont_df[col].values for col in list(cont_df.columns)], 1)\n",
    "conts[:5]\n",
    "\n",
    "y_col = np.stack([y_df[col].values for col in y_col], 1)\n",
    "\n",
    "# test performance set\n",
    "perf_conts = np.stack([perf_conts_df[col].values for col in list(perf_conts_df.columns)], 1)\n",
    "perf_y_col = np.stack([perf_y_df[col].values for col in list(perf_y_df.columns)], 1)\n",
    "perf_date_col = np.stack([perf_date_df[col].values for col in list(perf_date_df.columns)], 1)\n",
    "\n",
    "\n",
    "conts_train = conts\n",
    "y_train = y_col"
   ]
  },
  {
   "cell_type": "markdown",
   "id": "02a2547a",
   "metadata": {},
   "source": [
    "### 4. Convert conts to tensor"
   ]
  },
  {
   "cell_type": "code",
   "execution_count": 10,
   "id": "7b7db899",
   "metadata": {},
   "outputs": [
    {
     "name": "stdout",
     "output_type": "stream",
     "text": [
      "(5108, 48)\n",
      "(5108, 1)\n"
     ]
    }
   ],
   "source": [
    "print(conts.shape)\n",
    "print(y_col.shape)"
   ]
  },
  {
   "cell_type": "code",
   "execution_count": 11,
   "id": "42ac789a",
   "metadata": {},
   "outputs": [],
   "source": [
    "# Handled by model.fit()\n",
    "# conts = torch.tensor(conts, dtype=torch.float32)\n",
    "# y_col = torch.tensor(y_col, dtype=torch.float32)"
   ]
  },
  {
   "cell_type": "code",
   "execution_count": 12,
   "id": "9875b494",
   "metadata": {
    "scrolled": true
   },
   "outputs": [],
   "source": [
    "class TabularModelUpdated(nn.Module, BaseEstimator, ClassifierMixin):\n",
    "    def __init__(self, n_cont, out_sz, layer_shape, p=0.5, criterion=nn.MSELoss(),\n",
    "                optimizer_class=torch.optim.Adam, lr=0.001, confidence_threshold=0.1):\n",
    "        super().__init__()\n",
    "        # Model architecture params\n",
    "        self.layer_shape = layer_shape\n",
    "        self.n_cont = n_cont\n",
    "        self.out_sz = out_sz\n",
    "        self.p = p\n",
    "        self.lr = lr\n",
    "        \n",
    "        # Training params\n",
    "        self.criterion = criterion\n",
    "        self.confidence_threshold = confidence_threshold\n",
    "        \n",
    "        # BatchNorm layer for continuous data\n",
    "        self.bn_cont = nn.BatchNorm1d(n_cont)\n",
    "        \n",
    "        # Variable that holds the list of layers\n",
    "        layerlist = []\n",
    "        n_in = n_cont # no embed again\n",
    "        # Iterate through the passed in \"layers\" parameter (ie, [200,100]) to build a list of layers\n",
    "        for i, width in enumerate(self.layer_shape):\n",
    "            # First layer gets special treatment\n",
    "            if i == 0:\n",
    "                layerlist.extend([\n",
    "                    nn.Linear(n_in, width),\n",
    "                    nn.Mish(),  # Mish instead of ReLU\n",
    "                    nn.BatchNorm1d(width),\n",
    "                    nn.Dropout(p/2)  # Less dropout in earlier layers\n",
    "                ])\n",
    "            else:\n",
    "                layerlist.extend([\n",
    "                    nn.Linear(n_in, width),\n",
    "                    nn.Mish(),\n",
    "                    nn.BatchNorm1d(width),\n",
    "                    nn.Dropout(p)\n",
    "                ])\n",
    "            n_in = width\n",
    "        # layerlist.append(nn.Linear(layers[-1], out_sz))\n",
    "        \n",
    "        # Final layer\n",
    "        layerlist.extend([\n",
    "            nn.Linear(self.layer_shape[-1], out_sz),\n",
    "            # nn.Sigmoid()  # Ensures output between 0 and 1\n",
    "        ])\n",
    "        # Convert the list of layers into an attribute\n",
    "        self.layers = nn.Sequential(*layerlist)\n",
    "        # Initialize the optimizer\n",
    "        self.optimizer = optimizer_class(self.parameters(), lr=self.lr)\n",
    "\n",
    "        \n",
    "    def forward(self, x_cont):\n",
    "        x_cont = self.bn_cont(x_cont)  # Normalize the incoming continuous data\n",
    "        x = self.layers(x_cont)        # Set up model layers\n",
    "        return x\n",
    "    \n",
    "    def fit(self, X, y):\n",
    "        \"\"\"\n",
    "        For sklearn pipeline\n",
    "        \"\"\"\n",
    "        # Convert X,y to torch.tensor if needed\n",
    "        if not isinstance(X, torch.Tensor):\n",
    "            X = torch.FloatTensor(X)\n",
    "        if not isinstance(y, torch.Tensor):\n",
    "            y = torch.FloatTensor(y)\n",
    "        \n",
    "        # Initialize optimizer\n",
    "        # optimizer = self.optimizer_class(self.parameters(), lr=self.lr)\n",
    "        # Training loop\n",
    "        self.train()\n",
    "        self.optimizer.zero_grad()\n",
    "        y_pred = self.forward(X)\n",
    "        loss = self.criterion(y_pred, y)\n",
    "        loss.backward()\n",
    "        self.optimizer.step()\n",
    "        return self\n",
    "    \n",
    "    def predict(self, X):\n",
    "        probas = self.predict_proba(X)\n",
    "        return (probas > 0.5).astype(int)\n",
    "        # return probas\n",
    "    \n",
    "    def predict_proba(self, X):\n",
    "        self.eval()\n",
    "        with torch.no_grad():\n",
    "            if not isinstance(X, torch.Tensor):\n",
    "                X = torch.FloatTensor(X)\n",
    "            return self(X).numpy()\n",
    "    \n",
    "    def score(self, X, y):\n",
    "        \"\"\"        \n",
    "        12/5 - this isn't called at all if 'scoring' is defined\n",
    "        \"\"\"\n",
    "        probas = self.predict_proba(X)\n",
    "        # First apply confidence thresholding\n",
    "        mask = (probas < 0.5 - self.confidence_threshold) | (probas > 0.5 + self.confidence_threshold)\n",
    "        predictions = np.where(mask, (probas > 0.5).astype(np.int32), np.nan)\n",
    "\n",
    "        # Use numpy mask for nan values\n",
    "        valid_mask = ~np.isnan(predictions)\n",
    "        valid_predictions = predictions[valid_mask]\n",
    "        valid_targets = y[valid_mask]\n",
    "        \n",
    "        # Penalize if < 80% predicted\n",
    "        if (1.0* len(valid_predictions) / len(X)) < 0.85:\n",
    "            # print(f\"mask {len(valid_predictions)}  pred {len(X)}\")\n",
    "            return 0.0\n",
    "\n",
    "        # Apply f1 score\n",
    "        score = f1_score(valid_predictions.flatten(), valid_targets)\n",
    "        return score"
   ]
  },
  {
   "cell_type": "code",
   "execution_count": 17,
   "id": "94b31ab2",
   "metadata": {},
   "outputs": [],
   "source": [
    "def objective(trial):\n",
    "    # --- Suggest hyperparameters ---\n",
    "\n",
    "    criterion = trial.suggest_categorical('criterion', nfl_utils.map_losses(None).keys())\n",
    "    first_layer_size = trial.suggest_categorical('first_layer_size', [64, 56, 48, 32, 16, 12])\n",
    "    min_layers = math.floor(math.sqrt(first_layer_size))\n",
    "    num_layers = trial.suggest_int('num_layers', 2, min_layers)\n",
    "    confidence_threshold = trial.suggest_float('confidence_threshold', 0, 0.05)\n",
    "    layer_shape = [first_layer_size]\n",
    "    for i in range(1, num_layers):\n",
    "        layer_shape.append(first_layer_size//(2*i))\n",
    "    \n",
    "    # Set random state to have consistent results (42 is arbitrary)\n",
    "    set_all_seeds()\n",
    "    \n",
    "    n_splits = 5\n",
    "    kf = KFold(n_splits=n_splits, shuffle=False)\n",
    "\n",
    "    # Split once\n",
    "    X_train_fold = []\n",
    "    X_val = []\n",
    "    y_train_fold = []\n",
    "    y_val = []\n",
    "    models = []\n",
    "    for train_index, val_index in kf.split(conts_train):\n",
    "        # print(f\"train {train_index.shape} val {val_index.shape}\")\n",
    "        X_train_fold.append(torch.FloatTensor(conts_train[train_index]).to(device))\n",
    "        X_val.append(torch.FloatTensor(conts_train[val_index]).to(device))\n",
    "\n",
    "        y_train_fold.append(torch.FloatTensor(y_train[train_index]).to(device))\n",
    "        y_val.append(torch.FloatTensor(y_train[val_index]).to(device))\n",
    "\n",
    "        model = TabularModelUpdated(\n",
    "            n_cont=conts.shape[1],\n",
    "            out_sz=1,\n",
    "            layer_shape=layer_shape,\n",
    "            p=trial.suggest_float('dropout', 0.28, 0.38),     # Dropout\n",
    "            criterion=nfl_utils.map_losses(criterion),\n",
    "            optimizer_class=torch.optim.Adam,\n",
    "            lr=trial.suggest_float('lr', 1e-3, 1e-2, log=True),   # Learning rate \n",
    "            confidence_threshold=confidence_threshold\n",
    "        )\n",
    "        pipeline = Pipeline([\n",
    "            ('scaler', StandardScaler()), # Standardize the numerical features\n",
    "            # ('regressor', LinearRegression()), # Apply a regression model\n",
    "            ('model', model)\n",
    "        ])\n",
    "        models.append(pipeline)\n",
    "\n",
    "    # Run once on each split, track average loss, stop if > max patience\n",
    "    max_patience = 10\n",
    "    current_patience = max_patience\n",
    "    tracked_loss = 0.0\n",
    "    n_epochs = 0\n",
    "    while current_patience > 0 or n_epochs < 100:\n",
    "        n_epochs = n_epochs + 1\n",
    "        running_loss = []\n",
    "        for i in range(0,n_splits):\n",
    "            # ----- Train -----\n",
    "            models[i].fit(X_train_fold[i], y_train_fold[i])\n",
    "\n",
    "            # ----- Eval -----\n",
    "            running_loss.append(models[i].score(X_val[i], y_val[i]))\n",
    "            # y_pred = models[i].predict(X_val[i])\n",
    "            # running_loss.append(f1_score(y_val[i], y_pred))\n",
    "        running_loss = np.mean(running_loss)\n",
    "\n",
    "        # ----- Current epoch loss > previous -----\n",
    "        # print(f\"{tracked_loss} {running_loss} {tracked_loss < running_loss}\")\n",
    "        if tracked_loss < running_loss:\n",
    "            current_patience = max_patience\n",
    "            tracked_loss = running_loss\n",
    "        else:\n",
    "            current_patience = current_patience - 1\n",
    "    trial.suggest_int('n_epochs', n_epochs, n_epochs)\n",
    "    trial.report(tracked_loss, n_epochs)\n",
    "    return tracked_loss\n",
    "\n",
    "def print_callback(study, trial):\n",
    "    print(f\"Trial {trial.number} finished with value: {trial.value}\")\n",
    "    print(f\"Best trial so far: {study.best_trial.number}, value: {study.best_trial.value}\")"
   ]
  },
  {
   "cell_type": "code",
   "execution_count": 18,
   "id": "fd663af5",
   "metadata": {
    "scrolled": true
   },
   "outputs": [
    {
     "name": "stderr",
     "output_type": "stream",
     "text": [
      "[I 2025-03-02 20:11:20,641] A new study created in memory with name: no-name-571f9f4a-ad10-43d4-941e-6072fa33018e\n",
      "[I 2025-03-02 20:11:33,575] Trial 0 finished with value: 0.44086642419114536 and parameters: {'criterion': 'L1Loss', 'first_layer_size': 48, 'num_layers': 2, 'confidence_threshold': 0.012538014874680786, 'dropout': 0.28124651361101594, 'lr': 0.004233958635390632, 'n_epochs': 144}. Best is trial 0 with value: 0.44086642419114536.\n"
     ]
    },
    {
     "name": "stdout",
     "output_type": "stream",
     "text": [
      "Trial 0 finished with value: 0.44086642419114536\n",
      "Best trial so far: 0, value: 0.44086642419114536\n"
     ]
    },
    {
     "name": "stderr",
     "output_type": "stream",
     "text": [
      "[I 2025-03-02 20:11:49,850] Trial 1 finished with value: 0.14669276878833026 and parameters: {'criterion': 'SmoothL1Loss', 'first_layer_size': 64, 'num_layers': 4, 'confidence_threshold': 0.0402354807109669, 'dropout': 0.3748113362797768, 'lr': 0.0018748937719715632, 'n_epochs': 108}. Best is trial 0 with value: 0.44086642419114536.\n"
     ]
    },
    {
     "name": "stdout",
     "output_type": "stream",
     "text": [
      "Trial 1 finished with value: 0.14669276878833026\n",
      "Best trial so far: 0, value: 0.44086642419114536\n"
     ]
    },
    {
     "name": "stderr",
     "output_type": "stream",
     "text": [
      "[I 2025-03-02 20:12:22,688] Trial 2 finished with value: 0.17864277704927434 and parameters: {'criterion': 'L1Loss', 'first_layer_size': 64, 'num_layers': 7, 'confidence_threshold': 0.04123791171255932, 'dropout': 0.3221050103964721, 'lr': 0.003924833837605191, 'n_epochs': 131}. Best is trial 0 with value: 0.44086642419114536.\n"
     ]
    },
    {
     "name": "stdout",
     "output_type": "stream",
     "text": [
      "Trial 2 finished with value: 0.17864277704927434\n",
      "Best trial so far: 0, value: 0.44086642419114536\n"
     ]
    },
    {
     "name": "stderr",
     "output_type": "stream",
     "text": [
      "[I 2025-03-02 20:12:40,339] Trial 3 finished with value: 0.22906006472038715 and parameters: {'criterion': 'L1Loss', 'first_layer_size': 16, 'num_layers': 3, 'confidence_threshold': 0.03810276610838044, 'dropout': 0.3585456768690177, 'lr': 0.006600846965325849, 'n_epochs': 133}. Best is trial 0 with value: 0.44086642419114536.\n"
     ]
    },
    {
     "name": "stdout",
     "output_type": "stream",
     "text": [
      "Trial 3 finished with value: 0.22906006472038715\n",
      "Best trial so far: 0, value: 0.44086642419114536\n"
     ]
    },
    {
     "name": "stderr",
     "output_type": "stream",
     "text": [
      "[I 2025-03-02 20:13:10,403] Trial 4 finished with value: 0.4492335162014676 and parameters: {'criterion': 'MSELoss', 'first_layer_size': 12, 'num_layers': 2, 'confidence_threshold': 0.0025920919147729374, 'dropout': 0.3088799598507141, 'lr': 0.0030265919539351795, 'n_epochs': 256}. Best is trial 4 with value: 0.4492335162014676.\n"
     ]
    },
    {
     "name": "stdout",
     "output_type": "stream",
     "text": [
      "Trial 4 finished with value: 0.4492335162014676\n",
      "Best trial so far: 4, value: 0.4492335162014676\n"
     ]
    },
    {
     "name": "stderr",
     "output_type": "stream",
     "text": [
      "[I 2025-03-02 20:13:45,950] Trial 5 finished with value: 0.43584034412043104 and parameters: {'criterion': 'MSELoss', 'first_layer_size': 32, 'num_layers': 3, 'confidence_threshold': 0.02659145387043349, 'dropout': 0.3622484468189097, 'lr': 0.002361676164249358, 'n_epochs': 238}. Best is trial 4 with value: 0.4492335162014676.\n"
     ]
    },
    {
     "name": "stdout",
     "output_type": "stream",
     "text": [
      "Trial 5 finished with value: 0.43584034412043104\n",
      "Best trial so far: 4, value: 0.4492335162014676\n"
     ]
    },
    {
     "name": "stderr",
     "output_type": "stream",
     "text": [
      "[I 2025-03-02 20:14:30,688] Trial 6 finished with value: 0.20206051681068407 and parameters: {'criterion': 'SmoothL1Loss', 'first_layer_size': 64, 'num_layers': 8, 'confidence_threshold': 0.015489217519997428, 'dropout': 0.3682104422113942, 'lr': 0.008159296745660707, 'n_epochs': 137}. Best is trial 4 with value: 0.4492335162014676.\n"
     ]
    },
    {
     "name": "stdout",
     "output_type": "stream",
     "text": [
      "Trial 6 finished with value: 0.20206051681068407\n",
      "Best trial so far: 4, value: 0.4492335162014676\n"
     ]
    },
    {
     "name": "stderr",
     "output_type": "stream",
     "text": [
      "[I 2025-03-02 20:14:57,115] Trial 7 finished with value: 0.18094098833563277 and parameters: {'criterion': 'SmoothL1Loss', 'first_layer_size': 48, 'num_layers': 6, 'confidence_threshold': 0.008388736052134955, 'dropout': 0.31406710975316576, 'lr': 0.0029815289553363133, 'n_epochs': 100}. Best is trial 4 with value: 0.4492335162014676.\n"
     ]
    },
    {
     "name": "stdout",
     "output_type": "stream",
     "text": [
      "Trial 7 finished with value: 0.18094098833563277\n",
      "Best trial so far: 4, value: 0.4492335162014676\n"
     ]
    },
    {
     "name": "stderr",
     "output_type": "stream",
     "text": [
      "[I 2025-03-02 20:15:07,057] Trial 8 finished with value: 0.05656938904052069 and parameters: {'criterion': 'SmoothL1Loss', 'first_layer_size': 12, 'num_layers': 2, 'confidence_threshold': 0.048330660624766125, 'dropout': 0.28509119273693345, 'lr': 0.005255791665106613, 'n_epochs': 100}. Best is trial 4 with value: 0.4492335162014676.\n"
     ]
    },
    {
     "name": "stdout",
     "output_type": "stream",
     "text": [
      "Trial 8 finished with value: 0.05656938904052069\n",
      "Best trial so far: 4, value: 0.4492335162014676\n"
     ]
    },
    {
     "name": "stderr",
     "output_type": "stream",
     "text": [
      "[I 2025-03-02 20:15:23,179] Trial 9 finished with value: 0.20192440578833049 and parameters: {'criterion': 'SmoothL1Loss', 'first_layer_size': 56, 'num_layers': 2, 'confidence_threshold': 0.03871469735025729, 'dropout': 0.2833729436135273, 'lr': 0.0015769117514595574, 'n_epochs': 100}. Best is trial 4 with value: 0.4492335162014676.\n"
     ]
    },
    {
     "name": "stdout",
     "output_type": "stream",
     "text": [
      "Trial 9 finished with value: 0.20192440578833049\n",
      "Best trial so far: 4, value: 0.4492335162014676\n"
     ]
    },
    {
     "name": "stderr",
     "output_type": "stream",
     "text": [
      "[I 2025-03-02 20:15:32,680] Trial 10 finished with value: 0.1835349957607309 and parameters: {'criterion': 'MSELoss', 'first_layer_size': 12, 'num_layers': 2, 'confidence_threshold': 0.0018203422027876504, 'dropout': 0.34135964645827477, 'lr': 0.0010405980040501153, 'n_epochs': 100}. Best is trial 4 with value: 0.4492335162014676.\n"
     ]
    },
    {
     "name": "stdout",
     "output_type": "stream",
     "text": [
      "Trial 10 finished with value: 0.1835349957607309\n",
      "Best trial so far: 4, value: 0.4492335162014676\n"
     ]
    },
    {
     "name": "stderr",
     "output_type": "stream",
     "text": [
      "[I 2025-03-02 20:16:05,899] Trial 11 finished with value: 0.37825725290203543 and parameters: {'criterion': 'L1Loss', 'first_layer_size': 48, 'num_layers': 3, 'confidence_threshold': 0.015305882796837233, 'dropout': 0.30395647037659, 'lr': 0.004385307740352614, 'n_epochs': 158}. Best is trial 4 with value: 0.4492335162014676.\n"
     ]
    },
    {
     "name": "stdout",
     "output_type": "stream",
     "text": [
      "Trial 11 finished with value: 0.37825725290203543\n",
      "Best trial so far: 4, value: 0.4492335162014676\n"
     ]
    },
    {
     "name": "stderr",
     "output_type": "stream",
     "text": [
      "[I 2025-03-02 20:17:07,230] Trial 12 finished with value: 0.4750280328608329 and parameters: {'criterion': 'MSELoss', 'first_layer_size': 48, 'num_layers': 4, 'confidence_threshold': 0.0027956916095242482, 'dropout': 0.2980974260611646, 'lr': 0.0030030592298337226, 'n_epochs': 226}. Best is trial 12 with value: 0.4750280328608329.\n"
     ]
    },
    {
     "name": "stdout",
     "output_type": "stream",
     "text": [
      "Trial 12 finished with value: 0.4750280328608329\n",
      "Best trial so far: 12, value: 0.4750280328608329\n"
     ]
    },
    {
     "name": "stderr",
     "output_type": "stream",
     "text": [
      "[I 2025-03-02 20:17:35,671] Trial 13 finished with value: 0.44719126821196487 and parameters: {'criterion': 'MSELoss', 'first_layer_size': 12, 'num_layers': 2, 'confidence_threshold': 0.0006941994022723226, 'dropout': 0.30224798017803955, 'lr': 0.0027997707496816605, 'n_epochs': 259}. Best is trial 12 with value: 0.4750280328608329.\n"
     ]
    },
    {
     "name": "stdout",
     "output_type": "stream",
     "text": [
      "Trial 13 finished with value: 0.44719126821196487\n",
      "Best trial so far: 12, value: 0.4750280328608329\n"
     ]
    },
    {
     "name": "stderr",
     "output_type": "stream",
     "text": [
      "[I 2025-03-02 20:17:47,027] Trial 14 finished with value: 0.06153846153846153 and parameters: {'criterion': 'MSELoss', 'first_layer_size': 16, 'num_layers': 3, 'confidence_threshold': 0.023283489730655242, 'dropout': 0.3371695588150241, 'lr': 0.0018908342949241549, 'n_epochs': 100}. Best is trial 12 with value: 0.4750280328608329.\n"
     ]
    },
    {
     "name": "stdout",
     "output_type": "stream",
     "text": [
      "Trial 14 finished with value: 0.06153846153846153\n",
      "Best trial so far: 12, value: 0.4750280328608329\n"
     ]
    },
    {
     "name": "stderr",
     "output_type": "stream",
     "text": [
      "[I 2025-03-02 20:19:35,574] Trial 15 finished with value: 0.41847184847991653 and parameters: {'criterion': 'MSELoss', 'first_layer_size': 56, 'num_layers': 5, 'confidence_threshold': 0.006254450739790132, 'dropout': 0.3044931034677944, 'lr': 0.0012929469543391597, 'n_epochs': 416}. Best is trial 12 with value: 0.4750280328608329.\n"
     ]
    },
    {
     "name": "stdout",
     "output_type": "stream",
     "text": [
      "Trial 15 finished with value: 0.41847184847991653\n",
      "Best trial so far: 12, value: 0.4750280328608329\n"
     ]
    },
    {
     "name": "stderr",
     "output_type": "stream",
     "text": [
      "[I 2025-03-02 20:20:49,740] Trial 16 finished with value: 0.46831392167319946 and parameters: {'criterion': 'MSELoss', 'first_layer_size': 32, 'num_layers': 4, 'confidence_threshold': 0.02245571648620785, 'dropout': 0.295392440495444, 'lr': 0.0024508491734879733, 'n_epochs': 392}. Best is trial 12 with value: 0.4750280328608329.\n"
     ]
    },
    {
     "name": "stdout",
     "output_type": "stream",
     "text": [
      "Trial 16 finished with value: 0.46831392167319946\n",
      "Best trial so far: 12, value: 0.4750280328608329\n"
     ]
    },
    {
     "name": "stderr",
     "output_type": "stream",
     "text": [
      "[I 2025-03-02 20:22:02,081] Trial 17 finished with value: 0.44657681770939284 and parameters: {'criterion': 'MSELoss', 'first_layer_size': 32, 'num_layers': 4, 'confidence_threshold': 0.02382111692777074, 'dropout': 0.28982415132662304, 'lr': 0.002202826983139876, 'n_epochs': 358}. Best is trial 12 with value: 0.4750280328608329.\n"
     ]
    },
    {
     "name": "stdout",
     "output_type": "stream",
     "text": [
      "Trial 17 finished with value: 0.44657681770939284\n",
      "Best trial so far: 12, value: 0.4750280328608329\n"
     ]
    },
    {
     "name": "stderr",
     "output_type": "stream",
     "text": [
      "[I 2025-03-02 20:22:54,906] Trial 18 finished with value: 0.39873577034668944 and parameters: {'criterion': 'MSELoss', 'first_layer_size': 32, 'num_layers': 4, 'confidence_threshold': 0.030766194432183747, 'dropout': 0.2955716025071749, 'lr': 0.0034416850125260526, 'n_epochs': 208}. Best is trial 12 with value: 0.4750280328608329.\n"
     ]
    },
    {
     "name": "stdout",
     "output_type": "stream",
     "text": [
      "Trial 18 finished with value: 0.39873577034668944\n",
      "Best trial so far: 12, value: 0.4750280328608329\n"
     ]
    },
    {
     "name": "stderr",
     "output_type": "stream",
     "text": [
      "[I 2025-03-02 20:23:30,510] Trial 19 finished with value: 0.5208894620152986 and parameters: {'criterion': 'MSELoss', 'first_layer_size': 48, 'num_layers': 5, 'confidence_threshold': 0.020749634948591347, 'dropout': 0.32284907012637715, 'lr': 0.005705207180564017, 'n_epochs': 105}. Best is trial 19 with value: 0.5208894620152986.\n"
     ]
    },
    {
     "name": "stdout",
     "output_type": "stream",
     "text": [
      "Trial 19 finished with value: 0.5208894620152986\n",
      "Best trial so far: 19, value: 0.5208894620152986\n"
     ]
    },
    {
     "name": "stderr",
     "output_type": "stream",
     "text": [
      "[I 2025-03-02 20:24:10,891] Trial 20 finished with value: 0.21798738354629593 and parameters: {'criterion': 'MSELoss', 'first_layer_size': 48, 'num_layers': 6, 'confidence_threshold': 0.03192928252028282, 'dropout': 0.32631962585835184, 'lr': 0.008930745151759088, 'n_epochs': 124}. Best is trial 19 with value: 0.5208894620152986.\n"
     ]
    },
    {
     "name": "stdout",
     "output_type": "stream",
     "text": [
      "Trial 20 finished with value: 0.21798738354629593\n",
      "Best trial so far: 19, value: 0.5208894620152986\n"
     ]
    },
    {
     "name": "stderr",
     "output_type": "stream",
     "text": [
      "[I 2025-03-02 20:24:43,806] Trial 21 finished with value: 0.5217581070509718 and parameters: {'criterion': 'MSELoss', 'first_layer_size': 48, 'num_layers': 5, 'confidence_threshold': 0.019294668599208645, 'dropout': 0.3441359998352749, 'lr': 0.005619928156933571, 'n_epochs': 108}. Best is trial 21 with value: 0.5217581070509718.\n"
     ]
    },
    {
     "name": "stdout",
     "output_type": "stream",
     "text": [
      "Trial 21 finished with value: 0.5217581070509718\n",
      "Best trial so far: 21, value: 0.5217581070509718\n"
     ]
    },
    {
     "name": "stderr",
     "output_type": "stream",
     "text": [
      "[I 2025-03-02 20:25:18,906] Trial 22 finished with value: 0.5345812261878565 and parameters: {'criterion': 'MSELoss', 'first_layer_size': 48, 'num_layers': 5, 'confidence_threshold': 0.018221406791835596, 'dropout': 0.3480881221958881, 'lr': 0.006338668664573213, 'n_epochs': 141}. Best is trial 22 with value: 0.5345812261878565.\n"
     ]
    },
    {
     "name": "stdout",
     "output_type": "stream",
     "text": [
      "Trial 22 finished with value: 0.5345812261878565\n",
      "Best trial so far: 22, value: 0.5345812261878565\n"
     ]
    },
    {
     "name": "stderr",
     "output_type": "stream",
     "text": [
      "[I 2025-03-02 20:25:55,604] Trial 23 finished with value: 0.5330854136188135 and parameters: {'criterion': 'MSELoss', 'first_layer_size': 48, 'num_layers': 5, 'confidence_threshold': 0.019104284072654392, 'dropout': 0.3488033018986125, 'lr': 0.0060539057646973125, 'n_epochs': 139}. Best is trial 22 with value: 0.5345812261878565.\n"
     ]
    },
    {
     "name": "stdout",
     "output_type": "stream",
     "text": [
      "Trial 23 finished with value: 0.5330854136188135\n",
      "Best trial so far: 22, value: 0.5345812261878565\n"
     ]
    },
    {
     "name": "stderr",
     "output_type": "stream",
     "text": [
      "[I 2025-03-02 20:26:26,994] Trial 24 finished with value: 0.5271307084194301 and parameters: {'criterion': 'MSELoss', 'first_layer_size': 48, 'num_layers': 5, 'confidence_threshold': 0.017988719621352792, 'dropout': 0.3494557203118667, 'lr': 0.007673463590571568, 'n_epochs': 107}. Best is trial 22 with value: 0.5345812261878565.\n"
     ]
    },
    {
     "name": "stdout",
     "output_type": "stream",
     "text": [
      "Trial 24 finished with value: 0.5271307084194301\n",
      "Best trial so far: 22, value: 0.5345812261878565\n"
     ]
    },
    {
     "name": "stderr",
     "output_type": "stream",
     "text": [
      "[I 2025-03-02 20:26:58,978] Trial 25 finished with value: 0.5442432665007659 and parameters: {'criterion': 'MSELoss', 'first_layer_size': 48, 'num_layers': 5, 'confidence_threshold': 0.013009590165302412, 'dropout': 0.35255654755246774, 'lr': 0.00999362999132362, 'n_epochs': 129}. Best is trial 25 with value: 0.5442432665007659.\n"
     ]
    },
    {
     "name": "stdout",
     "output_type": "stream",
     "text": [
      "Trial 25 finished with value: 0.5442432665007659\n",
      "Best trial so far: 25, value: 0.5442432665007659\n"
     ]
    },
    {
     "name": "stderr",
     "output_type": "stream",
     "text": [
      "[I 2025-03-02 20:27:37,888] Trial 26 finished with value: 0.5425215117872161 and parameters: {'criterion': 'MSELoss', 'first_layer_size': 48, 'num_layers': 5, 'confidence_threshold': 0.010526218097028719, 'dropout': 0.3526596698858023, 'lr': 0.009905731160071957, 'n_epochs': 127}. Best is trial 25 with value: 0.5442432665007659.\n"
     ]
    },
    {
     "name": "stdout",
     "output_type": "stream",
     "text": [
      "Trial 26 finished with value: 0.5425215117872161\n",
      "Best trial so far: 25, value: 0.5442432665007659\n"
     ]
    },
    {
     "name": "stderr",
     "output_type": "stream",
     "text": [
      "[I 2025-03-02 20:29:03,817] Trial 27 finished with value: 0.520325060173854 and parameters: {'criterion': 'MSELoss', 'first_layer_size': 48, 'num_layers': 6, 'confidence_threshold': 0.009554117082146742, 'dropout': 0.356436107632526, 'lr': 0.009567140357306537, 'n_epochs': 213}. Best is trial 25 with value: 0.5442432665007659.\n"
     ]
    },
    {
     "name": "stdout",
     "output_type": "stream",
     "text": [
      "Trial 27 finished with value: 0.520325060173854\n",
      "Best trial so far: 25, value: 0.5442432665007659\n"
     ]
    },
    {
     "name": "stderr",
     "output_type": "stream",
     "text": [
      "[I 2025-03-02 20:29:33,492] Trial 28 finished with value: 0.4622932009466739 and parameters: {'criterion': 'L1Loss', 'first_layer_size': 48, 'num_layers': 5, 'confidence_threshold': 0.011912873250040418, 'dropout': 0.37988837278879384, 'lr': 0.007204396538014173, 'n_epochs': 141}. Best is trial 25 with value: 0.5442432665007659.\n"
     ]
    },
    {
     "name": "stdout",
     "output_type": "stream",
     "text": [
      "Trial 28 finished with value: 0.4622932009466739\n",
      "Best trial so far: 25, value: 0.5442432665007659\n"
     ]
    },
    {
     "name": "stderr",
     "output_type": "stream",
     "text": [
      "[I 2025-03-02 20:29:53,910] Trial 29 finished with value: 0.5375364814615132 and parameters: {'criterion': 'MSELoss', 'first_layer_size': 48, 'num_layers': 5, 'confidence_threshold': 0.012560860967721877, 'dropout': 0.336876647161318, 'lr': 0.009867797056711841, 'n_epochs': 105}. Best is trial 25 with value: 0.5442432665007659.\n"
     ]
    },
    {
     "name": "stdout",
     "output_type": "stream",
     "text": [
      "Trial 29 finished with value: 0.5375364814615132\n",
      "Best trial so far: 25, value: 0.5442432665007659\n"
     ]
    },
    {
     "name": "stderr",
     "output_type": "stream",
     "text": [
      "[I 2025-03-02 20:30:19,160] Trial 30 finished with value: 0.42733319868979136 and parameters: {'criterion': 'L1Loss', 'first_layer_size': 56, 'num_layers': 6, 'confidence_threshold': 0.0062288696295223775, 'dropout': 0.3337427081864729, 'lr': 0.009496630188755899, 'n_epochs': 110}. Best is trial 25 with value: 0.5442432665007659.\n"
     ]
    },
    {
     "name": "stdout",
     "output_type": "stream",
     "text": [
      "Trial 30 finished with value: 0.42733319868979136\n",
      "Best trial so far: 25, value: 0.5442432665007659\n"
     ]
    },
    {
     "name": "stderr",
     "output_type": "stream",
     "text": [
      "[I 2025-03-02 20:30:47,300] Trial 31 finished with value: 0.5447023892659958 and parameters: {'criterion': 'MSELoss', 'first_layer_size': 48, 'num_layers': 5, 'confidence_threshold': 0.013522637230083281, 'dropout': 0.35237719758650754, 'lr': 0.008229876111751157, 'n_epochs': 141}. Best is trial 31 with value: 0.5447023892659958.\n"
     ]
    },
    {
     "name": "stdout",
     "output_type": "stream",
     "text": [
      "Trial 31 finished with value: 0.5447023892659958\n",
      "Best trial so far: 31, value: 0.5447023892659958\n"
     ]
    },
    {
     "name": "stderr",
     "output_type": "stream",
     "text": [
      "[I 2025-03-02 20:31:13,823] Trial 32 finished with value: 0.5409087876514391 and parameters: {'criterion': 'MSELoss', 'first_layer_size': 48, 'num_layers': 5, 'confidence_threshold': 0.012011469565219706, 'dropout': 0.36565428251060395, 'lr': 0.008303488570285015, 'n_epochs': 130}. Best is trial 31 with value: 0.5447023892659958.\n"
     ]
    },
    {
     "name": "stdout",
     "output_type": "stream",
     "text": [
      "Trial 32 finished with value: 0.5409087876514391\n",
      "Best trial so far: 31, value: 0.5447023892659958\n"
     ]
    },
    {
     "name": "stderr",
     "output_type": "stream",
     "text": [
      "[I 2025-03-02 20:31:40,513] Trial 33 finished with value: 0.5432637587907233 and parameters: {'criterion': 'MSELoss', 'first_layer_size': 48, 'num_layers': 5, 'confidence_threshold': 0.013656352336433008, 'dropout': 0.3683560817839425, 'lr': 0.008157357293084633, 'n_epochs': 132}. Best is trial 31 with value: 0.5447023892659958.\n"
     ]
    },
    {
     "name": "stdout",
     "output_type": "stream",
     "text": [
      "Trial 33 finished with value: 0.5432637587907233\n",
      "Best trial so far: 31, value: 0.5447023892659958\n"
     ]
    },
    {
     "name": "stderr",
     "output_type": "stream",
     "text": [
      "[I 2025-03-02 20:31:58,448] Trial 34 finished with value: 0.22521128745240365 and parameters: {'criterion': 'MSELoss', 'first_layer_size': 16, 'num_layers': 4, 'confidence_threshold': 0.014996904926786238, 'dropout': 0.372466141033779, 'lr': 0.00470516775405625, 'n_epochs': 158}. Best is trial 31 with value: 0.5447023892659958.\n"
     ]
    },
    {
     "name": "stdout",
     "output_type": "stream",
     "text": [
      "Trial 34 finished with value: 0.22521128745240365\n",
      "Best trial so far: 31, value: 0.5447023892659958\n"
     ]
    },
    {
     "name": "stderr",
     "output_type": "stream",
     "text": [
      "[I 2025-03-02 20:33:11,591] Trial 35 finished with value: 0.5218647773704517 and parameters: {'criterion': 'MSELoss', 'first_layer_size': 48, 'num_layers': 6, 'confidence_threshold': 0.005600400709038329, 'dropout': 0.3553478339492994, 'lr': 0.0069167506792179485, 'n_epochs': 257}. Best is trial 31 with value: 0.5447023892659958.\n"
     ]
    },
    {
     "name": "stdout",
     "output_type": "stream",
     "text": [
      "Trial 35 finished with value: 0.5218647773704517\n",
      "Best trial so far: 31, value: 0.5447023892659958\n"
     ]
    },
    {
     "name": "stderr",
     "output_type": "stream",
     "text": [
      "[I 2025-03-02 20:34:28,887] Trial 36 finished with value: 0.43145768353337344 and parameters: {'criterion': 'L1Loss', 'first_layer_size': 64, 'num_layers': 7, 'confidence_threshold': 0.026862525993613228, 'dropout': 0.3604630457005797, 'lr': 0.008035665940876546, 'n_epochs': 232}. Best is trial 31 with value: 0.5447023892659958.\n"
     ]
    },
    {
     "name": "stdout",
     "output_type": "stream",
     "text": [
      "Trial 36 finished with value: 0.43145768353337344\n",
      "Best trial so far: 31, value: 0.5447023892659958\n"
     ]
    },
    {
     "name": "stderr",
     "output_type": "stream",
     "text": [
      "[I 2025-03-02 20:35:17,451] Trial 37 finished with value: 0.2034561124561384 and parameters: {'criterion': 'SmoothL1Loss', 'first_layer_size': 64, 'num_layers': 7, 'confidence_threshold': 0.00959094958016032, 'dropout': 0.37072698037182344, 'lr': 0.007242116692278496, 'n_epochs': 123}. Best is trial 31 with value: 0.5447023892659958.\n"
     ]
    },
    {
     "name": "stdout",
     "output_type": "stream",
     "text": [
      "Trial 37 finished with value: 0.2034561124561384\n",
      "Best trial so far: 31, value: 0.5447023892659958\n"
     ]
    },
    {
     "name": "stderr",
     "output_type": "stream",
     "text": [
      "[I 2025-03-02 20:35:49,124] Trial 38 finished with value: 0.5083847999877247 and parameters: {'criterion': 'MSELoss', 'first_layer_size': 48, 'num_layers': 4, 'confidence_threshold': 0.014107092068086018, 'dropout': 0.35228643843276114, 'lr': 0.008952332320956232, 'n_epochs': 157}. Best is trial 31 with value: 0.5447023892659958.\n"
     ]
    },
    {
     "name": "stdout",
     "output_type": "stream",
     "text": [
      "Trial 38 finished with value: 0.5083847999877247\n",
      "Best trial so far: 31, value: 0.5447023892659958\n"
     ]
    },
    {
     "name": "stderr",
     "output_type": "stream",
     "text": [
      "[I 2025-03-02 20:36:02,701] Trial 39 finished with value: 0.24176702038517767 and parameters: {'criterion': 'MSELoss', 'first_layer_size': 16, 'num_layers': 4, 'confidence_threshold': 0.008616012246913435, 'dropout': 0.36131327995780127, 'lr': 0.009966543756750395, 'n_epochs': 100}. Best is trial 31 with value: 0.5447023892659958.\n"
     ]
    },
    {
     "name": "stdout",
     "output_type": "stream",
     "text": [
      "Trial 39 finished with value: 0.24176702038517767\n",
      "Best trial so far: 31, value: 0.5447023892659958\n"
     ]
    },
    {
     "name": "stderr",
     "output_type": "stream",
     "text": [
      "[I 2025-03-02 20:36:27,841] Trial 40 finished with value: 0.509560567255426 and parameters: {'criterion': 'SmoothL1Loss', 'first_layer_size': 48, 'num_layers': 5, 'confidence_threshold': 0.004004678778955228, 'dropout': 0.3762609778235589, 'lr': 0.0049064009750550246, 'n_epochs': 100}. Best is trial 31 with value: 0.5447023892659958.\n"
     ]
    },
    {
     "name": "stdout",
     "output_type": "stream",
     "text": [
      "Trial 40 finished with value: 0.509560567255426\n",
      "Best trial so far: 31, value: 0.5447023892659958\n"
     ]
    },
    {
     "name": "stderr",
     "output_type": "stream",
     "text": [
      "[I 2025-03-02 20:36:56,176] Trial 41 finished with value: 0.5309853342320491 and parameters: {'criterion': 'MSELoss', 'first_layer_size': 48, 'num_layers': 5, 'confidence_threshold': 0.011400908350246926, 'dropout': 0.3662472999640972, 'lr': 0.0082144301507876, 'n_epochs': 115}. Best is trial 31 with value: 0.5447023892659958.\n"
     ]
    },
    {
     "name": "stdout",
     "output_type": "stream",
     "text": [
      "Trial 41 finished with value: 0.5309853342320491\n",
      "Best trial so far: 31, value: 0.5447023892659958\n"
     ]
    },
    {
     "name": "stderr",
     "output_type": "stream",
     "text": [
      "[I 2025-03-02 20:37:29,508] Trial 42 finished with value: 0.5323728301943167 and parameters: {'criterion': 'MSELoss', 'first_layer_size': 48, 'num_layers': 5, 'confidence_threshold': 0.01595815463071462, 'dropout': 0.3654713386185421, 'lr': 0.008413567507348573, 'n_epochs': 115}. Best is trial 31 with value: 0.5447023892659958.\n"
     ]
    },
    {
     "name": "stdout",
     "output_type": "stream",
     "text": [
      "Trial 42 finished with value: 0.5323728301943167\n",
      "Best trial so far: 31, value: 0.5447023892659958\n"
     ]
    },
    {
     "name": "stderr",
     "output_type": "stream",
     "text": [
      "[I 2025-03-02 20:38:06,072] Trial 43 finished with value: 0.532111963723375 and parameters: {'criterion': 'MSELoss', 'first_layer_size': 48, 'num_layers': 5, 'confidence_threshold': 0.012112663379830108, 'dropout': 0.3646495644220986, 'lr': 0.006549227668733951, 'n_epochs': 138}. Best is trial 31 with value: 0.5447023892659958.\n"
     ]
    },
    {
     "name": "stdout",
     "output_type": "stream",
     "text": [
      "Trial 43 finished with value: 0.532111963723375\n",
      "Best trial so far: 31, value: 0.5447023892659958\n"
     ]
    },
    {
     "name": "stderr",
     "output_type": "stream",
     "text": [
      "[I 2025-03-02 20:38:41,017] Trial 44 finished with value: 0.5098945347055511 and parameters: {'criterion': 'MSELoss', 'first_layer_size': 48, 'num_layers': 5, 'confidence_threshold': 0.010063810247794742, 'dropout': 0.3425356633054435, 'lr': 0.003689196439782237, 'n_epochs': 138}. Best is trial 31 with value: 0.5447023892659958.\n"
     ]
    },
    {
     "name": "stdout",
     "output_type": "stream",
     "text": [
      "Trial 44 finished with value: 0.5098945347055511\n",
      "Best trial so far: 31, value: 0.5447023892659958\n"
     ]
    },
    {
     "name": "stderr",
     "output_type": "stream",
     "text": [
      "[I 2025-03-02 20:39:01,367] Trial 45 finished with value: 0.4766392648192209 and parameters: {'criterion': 'MSELoss', 'first_layer_size': 12, 'num_layers': 2, 'confidence_threshold': 0.01603938397590339, 'dropout': 0.35795778685637736, 'lr': 0.0073138410861683135, 'n_epochs': 160}. Best is trial 31 with value: 0.5447023892659958.\n"
     ]
    },
    {
     "name": "stdout",
     "output_type": "stream",
     "text": [
      "Trial 45 finished with value: 0.4766392648192209\n",
      "Best trial so far: 31, value: 0.5447023892659958\n"
     ]
    },
    {
     "name": "stderr",
     "output_type": "stream",
     "text": [
      "[I 2025-03-02 20:39:43,600] Trial 46 finished with value: 0.4989745555585924 and parameters: {'criterion': 'SmoothL1Loss', 'first_layer_size': 56, 'num_layers': 6, 'confidence_threshold': 0.0067015446748333474, 'dropout': 0.35403906686628206, 'lr': 0.008692185721011114, 'n_epochs': 134}. Best is trial 31 with value: 0.5447023892659958.\n"
     ]
    },
    {
     "name": "stdout",
     "output_type": "stream",
     "text": [
      "Trial 46 finished with value: 0.4989745555585924\n",
      "Best trial so far: 31, value: 0.5447023892659958\n"
     ]
    },
    {
     "name": "stderr",
     "output_type": "stream",
     "text": [
      "[I 2025-03-02 20:40:13,562] Trial 47 finished with value: 0.46939013670389257 and parameters: {'criterion': 'L1Loss', 'first_layer_size': 48, 'num_layers': 5, 'confidence_threshold': 0.04890681742344082, 'dropout': 0.3685462067944855, 'lr': 0.008022781570125051, 'n_epochs': 141}. Best is trial 31 with value: 0.5447023892659958.\n"
     ]
    },
    {
     "name": "stdout",
     "output_type": "stream",
     "text": [
      "Trial 47 finished with value: 0.46939013670389257\n",
      "Best trial so far: 31, value: 0.5447023892659958\n"
     ]
    },
    {
     "name": "stderr",
     "output_type": "stream",
     "text": [
      "[I 2025-03-02 20:40:57,822] Trial 48 finished with value: 0.4860816283271845 and parameters: {'criterion': 'MSELoss', 'first_layer_size': 64, 'num_layers': 6, 'confidence_threshold': 0.013575825461833444, 'dropout': 0.3133521792880026, 'lr': 0.006168453528998025, 'n_epochs': 159}. Best is trial 31 with value: 0.5447023892659958.\n"
     ]
    },
    {
     "name": "stdout",
     "output_type": "stream",
     "text": [
      "Trial 48 finished with value: 0.4860816283271845\n",
      "Best trial so far: 31, value: 0.5447023892659958\n"
     ]
    },
    {
     "name": "stderr",
     "output_type": "stream",
     "text": [
      "[I 2025-03-02 20:41:26,883] Trial 49 finished with value: 0.5000491616803303 and parameters: {'criterion': 'MSELoss', 'first_layer_size': 48, 'num_layers': 4, 'confidence_threshold': 0.004132433755054158, 'dropout': 0.37637225513247197, 'lr': 0.008918547587282912, 'n_epochs': 141}. Best is trial 31 with value: 0.5447023892659958.\n"
     ]
    },
    {
     "name": "stdout",
     "output_type": "stream",
     "text": [
      "Trial 49 finished with value: 0.5000491616803303\n",
      "Best trial so far: 31, value: 0.5447023892659958\n"
     ]
    },
    {
     "name": "stderr",
     "output_type": "stream",
     "text": [
      "[I 2025-03-02 20:41:35,797] Trial 50 finished with value: 0.06782586115633146 and parameters: {'criterion': 'MSELoss', 'first_layer_size': 12, 'num_layers': 2, 'confidence_threshold': 0.04261786027988901, 'dropout': 0.362312945081851, 'lr': 0.007572554206396768, 'n_epochs': 100}. Best is trial 31 with value: 0.5447023892659958.\n"
     ]
    },
    {
     "name": "stdout",
     "output_type": "stream",
     "text": [
      "Trial 50 finished with value: 0.06782586115633146\n",
      "Best trial so far: 31, value: 0.5447023892659958\n"
     ]
    },
    {
     "name": "stderr",
     "output_type": "stream",
     "text": [
      "[I 2025-03-02 20:41:58,342] Trial 51 finished with value: 0.5356736879523227 and parameters: {'criterion': 'MSELoss', 'first_layer_size': 48, 'num_layers': 5, 'confidence_threshold': 0.012954227324345013, 'dropout': 0.33832181913490617, 'lr': 0.009681187000882115, 'n_epochs': 106}. Best is trial 31 with value: 0.5447023892659958.\n"
     ]
    },
    {
     "name": "stdout",
     "output_type": "stream",
     "text": [
      "Trial 51 finished with value: 0.5356736879523227\n",
      "Best trial so far: 31, value: 0.5447023892659958\n"
     ]
    },
    {
     "name": "stderr",
     "output_type": "stream",
     "text": [
      "[I 2025-03-02 20:42:19,225] Trial 52 finished with value: 0.5361981864718384 and parameters: {'criterion': 'MSELoss', 'first_layer_size': 48, 'num_layers': 5, 'confidence_threshold': 0.016684027001110897, 'dropout': 0.3450190476895943, 'lr': 0.009937827520073063, 'n_epochs': 104}. Best is trial 31 with value: 0.5447023892659958.\n"
     ]
    },
    {
     "name": "stdout",
     "output_type": "stream",
     "text": [
      "Trial 52 finished with value: 0.5361981864718384\n",
      "Best trial so far: 31, value: 0.5447023892659958\n"
     ]
    },
    {
     "name": "stderr",
     "output_type": "stream",
     "text": [
      "[I 2025-03-02 20:42:40,270] Trial 53 finished with value: 0.5291474601941898 and parameters: {'criterion': 'MSELoss', 'first_layer_size': 48, 'num_layers': 5, 'confidence_threshold': 0.007679205198350965, 'dropout': 0.3353329209008982, 'lr': 0.008766642644445448, 'n_epochs': 100}. Best is trial 31 with value: 0.5447023892659958.\n"
     ]
    },
    {
     "name": "stdout",
     "output_type": "stream",
     "text": [
      "Trial 53 finished with value: 0.5291474601941898\n",
      "Best trial so far: 31, value: 0.5447023892659958\n"
     ]
    },
    {
     "name": "stderr",
     "output_type": "stream",
     "text": [
      "[I 2025-03-02 20:43:22,726] Trial 54 finished with value: 0.5068848467885951 and parameters: {'criterion': 'MSELoss', 'first_layer_size': 32, 'num_layers': 5, 'confidence_threshold': 0.011406257801087026, 'dropout': 0.35281350859750843, 'lr': 0.007867651641631746, 'n_epochs': 217}. Best is trial 31 with value: 0.5447023892659958.\n"
     ]
    },
    {
     "name": "stdout",
     "output_type": "stream",
     "text": [
      "Trial 54 finished with value: 0.5068848467885951\n",
      "Best trial so far: 31, value: 0.5447023892659958\n"
     ]
    },
    {
     "name": "stderr",
     "output_type": "stream",
     "text": [
      "[I 2025-03-02 20:44:04,342] Trial 55 finished with value: 0.4870620785414559 and parameters: {'criterion': 'MSELoss', 'first_layer_size': 48, 'num_layers': 4, 'confidence_threshold': 0.013680698866905467, 'dropout': 0.33054650711078126, 'lr': 0.006797409481322367, 'n_epochs': 156}. Best is trial 31 with value: 0.5447023892659958.\n"
     ]
    },
    {
     "name": "stdout",
     "output_type": "stream",
     "text": [
      "Trial 55 finished with value: 0.4870620785414559\n",
      "Best trial so far: 31, value: 0.5447023892659958\n"
     ]
    },
    {
     "name": "stderr",
     "output_type": "stream",
     "text": [
      "[I 2025-03-02 20:44:45,526] Trial 56 finished with value: 0.4946244547553575 and parameters: {'criterion': 'MSELoss', 'first_layer_size': 16, 'num_layers': 3, 'confidence_threshold': 0.010910301898698328, 'dropout': 0.34022088231517716, 'lr': 0.005406196896212826, 'n_epochs': 265}. Best is trial 31 with value: 0.5447023892659958.\n"
     ]
    },
    {
     "name": "stdout",
     "output_type": "stream",
     "text": [
      "Trial 56 finished with value: 0.4946244547553575\n",
      "Best trial so far: 31, value: 0.5447023892659958\n"
     ]
    },
    {
     "name": "stderr",
     "output_type": "stream",
     "text": [
      "[I 2025-03-02 20:45:10,855] Trial 57 finished with value: 0.530034814171927 and parameters: {'criterion': 'SmoothL1Loss', 'first_layer_size': 48, 'num_layers': 5, 'confidence_threshold': 0.00012037540572523882, 'dropout': 0.34593792386124106, 'lr': 0.008866096015591013, 'n_epochs': 106}. Best is trial 31 with value: 0.5447023892659958.\n"
     ]
    },
    {
     "name": "stdout",
     "output_type": "stream",
     "text": [
      "Trial 57 finished with value: 0.530034814171927\n",
      "Best trial so far: 31, value: 0.5447023892659958\n"
     ]
    },
    {
     "name": "stderr",
     "output_type": "stream",
     "text": [
      "[I 2025-03-02 20:45:47,387] Trial 58 finished with value: 0.5054277881421012 and parameters: {'criterion': 'MSELoss', 'first_layer_size': 48, 'num_layers': 4, 'confidence_threshold': 0.017666164607652354, 'dropout': 0.350724803292639, 'lr': 0.009266560606897139, 'n_epochs': 144}. Best is trial 31 with value: 0.5447023892659958.\n"
     ]
    },
    {
     "name": "stdout",
     "output_type": "stream",
     "text": [
      "Trial 58 finished with value: 0.5054277881421012\n",
      "Best trial so far: 31, value: 0.5447023892659958\n"
     ]
    },
    {
     "name": "stderr",
     "output_type": "stream",
     "text": [
      "[I 2025-03-02 20:46:23,914] Trial 59 finished with value: 0.20470216402747768 and parameters: {'criterion': 'MSELoss', 'first_layer_size': 56, 'num_layers': 6, 'confidence_threshold': 0.027334532617615055, 'dropout': 0.3604688825315837, 'lr': 0.004087097959677493, 'n_epochs': 104}. Best is trial 31 with value: 0.5447023892659958.\n"
     ]
    },
    {
     "name": "stdout",
     "output_type": "stream",
     "text": [
      "Trial 59 finished with value: 0.20470216402747768\n",
      "Best trial so far: 31, value: 0.5447023892659958\n"
     ]
    },
    {
     "name": "stderr",
     "output_type": "stream",
     "text": [
      "[I 2025-03-02 20:46:50,776] Trial 60 finished with value: 0.39091207606816913 and parameters: {'criterion': 'L1Loss', 'first_layer_size': 48, 'num_layers': 5, 'confidence_threshold': 0.020211988421072, 'dropout': 0.37248054737743763, 'lr': 0.005903517058803573, 'n_epochs': 105}. Best is trial 31 with value: 0.5447023892659958.\n"
     ]
    },
    {
     "name": "stdout",
     "output_type": "stream",
     "text": [
      "Trial 60 finished with value: 0.39091207606816913\n",
      "Best trial so far: 31, value: 0.5447023892659958\n"
     ]
    },
    {
     "name": "stderr",
     "output_type": "stream",
     "text": [
      "[I 2025-03-02 20:47:20,310] Trial 61 finished with value: 0.5490357263324551 and parameters: {'criterion': 'MSELoss', 'first_layer_size': 48, 'num_layers': 5, 'confidence_threshold': 0.016013830242761637, 'dropout': 0.34560491055014947, 'lr': 0.009946989049667785, 'n_epochs': 131}. Best is trial 61 with value: 0.5490357263324551.\n"
     ]
    },
    {
     "name": "stdout",
     "output_type": "stream",
     "text": [
      "Trial 61 finished with value: 0.5490357263324551\n",
      "Best trial so far: 61, value: 0.5490357263324551\n"
     ]
    },
    {
     "name": "stderr",
     "output_type": "stream",
     "text": [
      "[I 2025-03-02 20:47:46,619] Trial 62 finished with value: 0.5229490109331256 and parameters: {'criterion': 'MSELoss', 'first_layer_size': 48, 'num_layers': 5, 'confidence_threshold': 0.014359839604650475, 'dropout': 0.33167477367611986, 'lr': 0.008078782412699652, 'n_epochs': 106}. Best is trial 61 with value: 0.5490357263324551.\n"
     ]
    },
    {
     "name": "stdout",
     "output_type": "stream",
     "text": [
      "Trial 62 finished with value: 0.5229490109331256\n",
      "Best trial so far: 61, value: 0.5490357263324551\n"
     ]
    },
    {
     "name": "stderr",
     "output_type": "stream",
     "text": [
      "[I 2025-03-02 20:48:16,826] Trial 63 finished with value: 0.5490344297228079 and parameters: {'criterion': 'MSELoss', 'first_layer_size': 48, 'num_layers': 5, 'confidence_threshold': 0.007994629314780424, 'dropout': 0.3276017056372576, 'lr': 0.009927538283669478, 'n_epochs': 129}. Best is trial 61 with value: 0.5490357263324551.\n"
     ]
    },
    {
     "name": "stdout",
     "output_type": "stream",
     "text": [
      "Trial 63 finished with value: 0.5490344297228079\n",
      "Best trial so far: 61, value: 0.5490357263324551\n"
     ]
    },
    {
     "name": "stderr",
     "output_type": "stream",
     "text": [
      "[I 2025-03-02 20:48:41,561] Trial 64 finished with value: 0.5207310211208191 and parameters: {'criterion': 'MSELoss', 'first_layer_size': 48, 'num_layers': 5, 'confidence_threshold': 0.0075669396841491305, 'dropout': 0.3276410943977891, 'lr': 0.008475030823939555, 'n_epochs': 100}. Best is trial 61 with value: 0.5490357263324551.\n"
     ]
    },
    {
     "name": "stdout",
     "output_type": "stream",
     "text": [
      "Trial 64 finished with value: 0.5207310211208191\n",
      "Best trial so far: 61, value: 0.5490357263324551\n"
     ]
    },
    {
     "name": "stderr",
     "output_type": "stream",
     "text": [
      "[I 2025-03-02 20:49:08,508] Trial 65 finished with value: 0.2157649842013812 and parameters: {'criterion': 'MSELoss', 'first_layer_size': 32, 'num_layers': 5, 'confidence_threshold': 0.02125464932696013, 'dropout': 0.35801079080804105, 'lr': 0.00675515990840304, 'n_epochs': 135}. Best is trial 61 with value: 0.5490357263324551.\n"
     ]
    },
    {
     "name": "stdout",
     "output_type": "stream",
     "text": [
      "Trial 65 finished with value: 0.2157649842013812\n",
      "Best trial so far: 61, value: 0.5490357263324551\n"
     ]
    },
    {
     "name": "stderr",
     "output_type": "stream",
     "text": [
      "[I 2025-03-02 20:50:26,732] Trial 66 finished with value: 0.5078886268525451 and parameters: {'criterion': 'MSELoss', 'first_layer_size': 48, 'num_layers': 5, 'confidence_threshold': 0.0049244482800479775, 'dropout': 0.345603470665297, 'lr': 0.0014269907897054815, 'n_epochs': 334}. Best is trial 61 with value: 0.5490357263324551.\n"
     ]
    },
    {
     "name": "stdout",
     "output_type": "stream",
     "text": [
      "Trial 66 finished with value: 0.5078886268525451\n",
      "Best trial so far: 61, value: 0.5490357263324551\n"
     ]
    },
    {
     "name": "stderr",
     "output_type": "stream",
     "text": [
      "[I 2025-03-02 20:50:52,460] Trial 67 finished with value: 0.5244184391142042 and parameters: {'criterion': 'MSELoss', 'first_layer_size': 48, 'num_layers': 5, 'confidence_threshold': 0.0024279026802095614, 'dropout': 0.3181776247452799, 'lr': 0.0075067045750158694, 'n_epochs': 104}. Best is trial 61 with value: 0.5490357263324551.\n"
     ]
    },
    {
     "name": "stdout",
     "output_type": "stream",
     "text": [
      "Trial 67 finished with value: 0.5244184391142042\n",
      "Best trial so far: 61, value: 0.5490357263324551\n"
     ]
    },
    {
     "name": "stderr",
     "output_type": "stream",
     "text": [
      "[I 2025-03-02 20:51:13,598] Trial 68 finished with value: 0.46036771786858877 and parameters: {'criterion': 'MSELoss', 'first_layer_size': 12, 'num_layers': 3, 'confidence_threshold': 0.008551114260269303, 'dropout': 0.32426586745112707, 'lr': 0.009990018732659624, 'n_epochs': 185}. Best is trial 61 with value: 0.5490357263324551.\n"
     ]
    },
    {
     "name": "stdout",
     "output_type": "stream",
     "text": [
      "Trial 68 finished with value: 0.46036771786858877\n",
      "Best trial so far: 61, value: 0.5490357263324551\n"
     ]
    },
    {
     "name": "stderr",
     "output_type": "stream",
     "text": [
      "[I 2025-03-02 20:51:40,541] Trial 69 finished with value: 0.21866581251334613 and parameters: {'criterion': 'MSELoss', 'first_layer_size': 48, 'num_layers': 6, 'confidence_threshold': 0.024851548027074646, 'dropout': 0.34866654902724187, 'lr': 0.009006759749039582, 'n_epochs': 125}. Best is trial 61 with value: 0.5490357263324551.\n"
     ]
    },
    {
     "name": "stdout",
     "output_type": "stream",
     "text": [
      "Trial 69 finished with value: 0.21866581251334613\n",
      "Best trial so far: 61, value: 0.5490357263324551\n"
     ]
    },
    {
     "name": "stderr",
     "output_type": "stream",
     "text": [
      "[I 2025-03-02 20:52:19,377] Trial 70 finished with value: 0.518915151417939 and parameters: {'criterion': 'MSELoss', 'first_layer_size': 48, 'num_layers': 4, 'confidence_threshold': 0.010238593928356104, 'dropout': 0.3799409005712647, 'lr': 0.009264096893257303, 'n_epochs': 199}. Best is trial 61 with value: 0.5490357263324551.\n"
     ]
    },
    {
     "name": "stdout",
     "output_type": "stream",
     "text": [
      "Trial 70 finished with value: 0.518915151417939\n",
      "Best trial so far: 61, value: 0.5490357263324551\n"
     ]
    },
    {
     "name": "stderr",
     "output_type": "stream",
     "text": [
      "[I 2025-03-02 20:52:41,298] Trial 71 finished with value: 0.5270331720523951 and parameters: {'criterion': 'MSELoss', 'first_layer_size': 48, 'num_layers': 5, 'confidence_threshold': 0.012392607469740793, 'dropout': 0.33958520420123456, 'lr': 0.008383454047461611, 'n_epochs': 105}. Best is trial 61 with value: 0.5490357263324551.\n"
     ]
    },
    {
     "name": "stdout",
     "output_type": "stream",
     "text": [
      "Trial 71 finished with value: 0.5270331720523951\n",
      "Best trial so far: 61, value: 0.5490357263324551\n"
     ]
    },
    {
     "name": "stderr",
     "output_type": "stream",
     "text": [
      "[I 2025-03-02 20:53:03,070] Trial 72 finished with value: 0.5401556836022343 and parameters: {'criterion': 'MSELoss', 'first_layer_size': 48, 'num_layers': 5, 'confidence_threshold': 0.014800799406284587, 'dropout': 0.3427620633127424, 'lr': 0.009999092328578353, 'n_epochs': 107}. Best is trial 61 with value: 0.5490357263324551.\n"
     ]
    },
    {
     "name": "stdout",
     "output_type": "stream",
     "text": [
      "Trial 72 finished with value: 0.5401556836022343\n",
      "Best trial so far: 61, value: 0.5490357263324551\n"
     ]
    },
    {
     "name": "stderr",
     "output_type": "stream",
     "text": [
      "[I 2025-03-02 20:53:25,766] Trial 73 finished with value: 0.5324756925864823 and parameters: {'criterion': 'MSELoss', 'first_layer_size': 48, 'num_layers': 5, 'confidence_threshold': 0.017040123039173568, 'dropout': 0.3554130287504983, 'lr': 0.009526926440138276, 'n_epochs': 106}. Best is trial 61 with value: 0.5490357263324551.\n"
     ]
    },
    {
     "name": "stdout",
     "output_type": "stream",
     "text": [
      "Trial 73 finished with value: 0.5324756925864823\n",
      "Best trial so far: 61, value: 0.5490357263324551\n"
     ]
    },
    {
     "name": "stderr",
     "output_type": "stream",
     "text": [
      "[I 2025-03-02 20:54:08,017] Trial 74 finished with value: 0.4907172123652548 and parameters: {'criterion': 'MSELoss', 'first_layer_size': 64, 'num_layers': 6, 'confidence_threshold': 0.015406394670575292, 'dropout': 0.3185778351716822, 'lr': 0.007116401856725978, 'n_epochs': 139}. Best is trial 61 with value: 0.5490357263324551.\n"
     ]
    },
    {
     "name": "stdout",
     "output_type": "stream",
     "text": [
      "Trial 74 finished with value: 0.4907172123652548\n",
      "Best trial so far: 61, value: 0.5490357263324551\n"
     ]
    },
    {
     "name": "stderr",
     "output_type": "stream",
     "text": [
      "[I 2025-03-02 20:54:40,229] Trial 75 finished with value: 0.19008484925837058 and parameters: {'criterion': 'MSELoss', 'first_layer_size': 48, 'num_layers': 5, 'confidence_threshold': 0.01842068496022208, 'dropout': 0.34148903310937123, 'lr': 0.0010314670655851665, 'n_epochs': 130}. Best is trial 61 with value: 0.5490357263324551.\n"
     ]
    },
    {
     "name": "stdout",
     "output_type": "stream",
     "text": [
      "Trial 75 finished with value: 0.19008484925837058\n",
      "Best trial so far: 61, value: 0.5490357263324551\n"
     ]
    },
    {
     "name": "stderr",
     "output_type": "stream",
     "text": [
      "[I 2025-03-02 20:54:54,902] Trial 76 finished with value: 0.11761474196831904 and parameters: {'criterion': 'SmoothL1Loss', 'first_layer_size': 16, 'num_layers': 4, 'confidence_threshold': 0.00927630622484162, 'dropout': 0.3634023121148518, 'lr': 0.007771095715492792, 'n_epochs': 100}. Best is trial 61 with value: 0.5490357263324551.\n"
     ]
    },
    {
     "name": "stdout",
     "output_type": "stream",
     "text": [
      "Trial 76 finished with value: 0.11761474196831904\n",
      "Best trial so far: 61, value: 0.5490357263324551\n"
     ]
    },
    {
     "name": "stderr",
     "output_type": "stream",
     "text": [
      "[I 2025-03-02 20:55:44,173] Trial 77 finished with value: 0.4071032595476577 and parameters: {'criterion': 'L1Loss', 'first_layer_size': 48, 'num_layers': 5, 'confidence_threshold': 0.006792136641655056, 'dropout': 0.33331125894717084, 'lr': 0.0019270145657663725, 'n_epochs': 200}. Best is trial 61 with value: 0.5490357263324551.\n"
     ]
    },
    {
     "name": "stdout",
     "output_type": "stream",
     "text": [
      "Trial 77 finished with value: 0.4071032595476577\n",
      "Best trial so far: 61, value: 0.5490357263324551\n"
     ]
    },
    {
     "name": "stderr",
     "output_type": "stream",
     "text": [
      "[I 2025-03-02 20:56:18,833] Trial 78 finished with value: 0.5450515102321016 and parameters: {'criterion': 'MSELoss', 'first_layer_size': 48, 'num_layers': 5, 'confidence_threshold': 0.014845289724448983, 'dropout': 0.36813615530174465, 'lr': 0.00928302712580938, 'n_epochs': 130}. Best is trial 61 with value: 0.5490357263324551.\n"
     ]
    },
    {
     "name": "stdout",
     "output_type": "stream",
     "text": [
      "Trial 78 finished with value: 0.5450515102321016\n",
      "Best trial so far: 61, value: 0.5490357263324551\n"
     ]
    },
    {
     "name": "stderr",
     "output_type": "stream",
     "text": [
      "[I 2025-03-02 20:56:56,355] Trial 79 finished with value: 0.4980707163221191 and parameters: {'criterion': 'MSELoss', 'first_layer_size': 56, 'num_layers': 6, 'confidence_threshold': 0.02251800934116529, 'dropout': 0.3669921749899578, 'lr': 0.00838901877647702, 'n_epochs': 135}. Best is trial 61 with value: 0.5490357263324551.\n"
     ]
    },
    {
     "name": "stdout",
     "output_type": "stream",
     "text": [
      "Trial 79 finished with value: 0.4980707163221191\n",
      "Best trial so far: 61, value: 0.5490357263324551\n"
     ]
    },
    {
     "name": "stderr",
     "output_type": "stream",
     "text": [
      "[I 2025-03-02 20:57:15,986] Trial 80 finished with value: 0.5404137981402382 and parameters: {'criterion': 'MSELoss', 'first_layer_size': 48, 'num_layers': 5, 'confidence_threshold': 0.011201305689520442, 'dropout': 0.36904876229072836, 'lr': 0.009307470042979485, 'n_epochs': 105}. Best is trial 61 with value: 0.5490357263324551.\n"
     ]
    },
    {
     "name": "stdout",
     "output_type": "stream",
     "text": [
      "Trial 80 finished with value: 0.5404137981402382\n",
      "Best trial so far: 61, value: 0.5490357263324551\n"
     ]
    },
    {
     "name": "stderr",
     "output_type": "stream",
     "text": [
      "[I 2025-03-02 20:57:36,870] Trial 81 finished with value: 0.5392701291480784 and parameters: {'criterion': 'MSELoss', 'first_layer_size': 48, 'num_layers': 5, 'confidence_threshold': 0.01291931036441595, 'dropout': 0.36915626805826446, 'lr': 0.009118192814013742, 'n_epochs': 114}. Best is trial 61 with value: 0.5490357263324551.\n"
     ]
    },
    {
     "name": "stdout",
     "output_type": "stream",
     "text": [
      "Trial 81 finished with value: 0.5392701291480784\n",
      "Best trial so far: 61, value: 0.5490357263324551\n"
     ]
    },
    {
     "name": "stderr",
     "output_type": "stream",
     "text": [
      "[I 2025-03-02 20:58:00,592] Trial 82 finished with value: 0.5402922907888452 and parameters: {'criterion': 'MSELoss', 'first_layer_size': 48, 'num_layers': 5, 'confidence_threshold': 0.010791784114206636, 'dropout': 0.37388589004885425, 'lr': 0.00938116899912744, 'n_epochs': 118}. Best is trial 61 with value: 0.5490357263324551.\n"
     ]
    },
    {
     "name": "stdout",
     "output_type": "stream",
     "text": [
      "Trial 82 finished with value: 0.5402922907888452\n",
      "Best trial so far: 61, value: 0.5490357263324551\n"
     ]
    },
    {
     "name": "stderr",
     "output_type": "stream",
     "text": [
      "[I 2025-03-02 20:58:27,301] Trial 83 finished with value: 0.5269540122998769 and parameters: {'criterion': 'MSELoss', 'first_layer_size': 48, 'num_layers': 5, 'confidence_threshold': 0.009043222761643214, 'dropout': 0.3587376933509253, 'lr': 0.007739380474085184, 'n_epochs': 116}. Best is trial 61 with value: 0.5490357263324551.\n"
     ]
    },
    {
     "name": "stdout",
     "output_type": "stream",
     "text": [
      "Trial 83 finished with value: 0.5269540122998769\n",
      "Best trial so far: 61, value: 0.5490357263324551\n"
     ]
    },
    {
     "name": "stderr",
     "output_type": "stream",
     "text": [
      "[I 2025-03-02 20:58:53,836] Trial 84 finished with value: 0.5360155157846125 and parameters: {'criterion': 'MSELoss', 'first_layer_size': 48, 'num_layers': 5, 'confidence_threshold': 0.013774766411725859, 'dropout': 0.37032754734589884, 'lr': 0.008497817331752039, 'n_epochs': 116}. Best is trial 61 with value: 0.5490357263324551.\n"
     ]
    },
    {
     "name": "stdout",
     "output_type": "stream",
     "text": [
      "Trial 84 finished with value: 0.5360155157846125\n",
      "Best trial so far: 61, value: 0.5490357263324551\n"
     ]
    },
    {
     "name": "stderr",
     "output_type": "stream",
     "text": [
      "[I 2025-03-02 20:59:43,536] Trial 85 finished with value: 0.5186527246909498 and parameters: {'criterion': 'MSELoss', 'first_layer_size': 48, 'num_layers': 5, 'confidence_threshold': 0.019272405108856795, 'dropout': 0.37581796491332653, 'lr': 0.002572132562966447, 'n_epochs': 220}. Best is trial 61 with value: 0.5490357263324551.\n"
     ]
    },
    {
     "name": "stdout",
     "output_type": "stream",
     "text": [
      "Trial 85 finished with value: 0.5186527246909498\n",
      "Best trial so far: 61, value: 0.5490357263324551\n"
     ]
    },
    {
     "name": "stderr",
     "output_type": "stream",
     "text": [
      "[I 2025-03-02 21:00:34,212] Trial 86 finished with value: 0.514552540857332 and parameters: {'criterion': 'MSELoss', 'first_layer_size': 32, 'num_layers': 5, 'confidence_threshold': 0.01595616023524207, 'dropout': 0.3647417977247631, 'lr': 0.006391427637709884, 'n_epochs': 279}. Best is trial 61 with value: 0.5490357263324551.\n"
     ]
    },
    {
     "name": "stdout",
     "output_type": "stream",
     "text": [
      "Trial 86 finished with value: 0.514552540857332\n",
      "Best trial so far: 61, value: 0.5490357263324551\n"
     ]
    },
    {
     "name": "stderr",
     "output_type": "stream",
     "text": [
      "[I 2025-03-02 21:01:03,203] Trial 87 finished with value: 0.5396356203172296 and parameters: {'criterion': 'MSELoss', 'first_layer_size': 48, 'num_layers': 5, 'confidence_threshold': 0.011603105069520697, 'dropout': 0.3523095910205018, 'lr': 0.00725680572532261, 'n_epochs': 140}. Best is trial 61 with value: 0.5490357263324551.\n"
     ]
    },
    {
     "name": "stdout",
     "output_type": "stream",
     "text": [
      "Trial 87 finished with value: 0.5396356203172296\n",
      "Best trial so far: 61, value: 0.5490357263324551\n"
     ]
    },
    {
     "name": "stderr",
     "output_type": "stream",
     "text": [
      "[I 2025-03-02 21:01:41,536] Trial 88 finished with value: 0.5192666328200553 and parameters: {'criterion': 'MSELoss', 'first_layer_size': 64, 'num_layers': 6, 'confidence_threshold': 0.007737246038967196, 'dropout': 0.36706355853679007, 'lr': 0.009177725521988277, 'n_epochs': 150}. Best is trial 61 with value: 0.5490357263324551.\n"
     ]
    },
    {
     "name": "stdout",
     "output_type": "stream",
     "text": [
      "Trial 88 finished with value: 0.5192666328200553\n",
      "Best trial so far: 61, value: 0.5490357263324551\n"
     ]
    },
    {
     "name": "stderr",
     "output_type": "stream",
     "text": [
      "[I 2025-03-02 21:02:03,972] Trial 89 finished with value: 0.5307592863625826 and parameters: {'criterion': 'SmoothL1Loss', 'first_layer_size': 48, 'num_layers': 5, 'confidence_threshold': 0.009882798946484627, 'dropout': 0.35667508520667274, 'lr': 0.008083994528230566, 'n_epochs': 102}. Best is trial 61 with value: 0.5490357263324551.\n"
     ]
    },
    {
     "name": "stdout",
     "output_type": "stream",
     "text": [
      "Trial 89 finished with value: 0.5307592863625826\n",
      "Best trial so far: 61, value: 0.5490357263324551\n"
     ]
    },
    {
     "name": "stderr",
     "output_type": "stream",
     "text": [
      "[I 2025-03-02 21:02:13,426] Trial 90 finished with value: 0.3301168164332001 and parameters: {'criterion': 'L1Loss', 'first_layer_size': 12, 'num_layers': 2, 'confidence_threshold': 0.014843154192521581, 'dropout': 0.3622957941298606, 'lr': 0.008616669838154761, 'n_epochs': 100}. Best is trial 61 with value: 0.5490357263324551.\n"
     ]
    },
    {
     "name": "stdout",
     "output_type": "stream",
     "text": [
      "Trial 90 finished with value: 0.3301168164332001\n",
      "Best trial so far: 61, value: 0.5490357263324551\n"
     ]
    },
    {
     "name": "stderr",
     "output_type": "stream",
     "text": [
      "[I 2025-03-02 21:02:41,256] Trial 91 finished with value: 0.5397347986141602 and parameters: {'criterion': 'MSELoss', 'first_layer_size': 48, 'num_layers': 5, 'confidence_threshold': 0.010713711990735345, 'dropout': 0.3729163296816412, 'lr': 0.009465793573426282, 'n_epochs': 118}. Best is trial 61 with value: 0.5490357263324551.\n"
     ]
    },
    {
     "name": "stdout",
     "output_type": "stream",
     "text": [
      "Trial 91 finished with value: 0.5397347986141602\n",
      "Best trial so far: 61, value: 0.5490357263324551\n"
     ]
    },
    {
     "name": "stderr",
     "output_type": "stream",
     "text": [
      "[I 2025-03-02 21:03:14,237] Trial 92 finished with value: 0.5413380274907735 and parameters: {'criterion': 'MSELoss', 'first_layer_size': 48, 'num_layers': 5, 'confidence_threshold': 0.012833644557916498, 'dropout': 0.37412390180062577, 'lr': 0.009425899898075645, 'n_epochs': 117}. Best is trial 61 with value: 0.5490357263324551.\n"
     ]
    },
    {
     "name": "stdout",
     "output_type": "stream",
     "text": [
      "Trial 92 finished with value: 0.5413380274907735\n",
      "Best trial so far: 61, value: 0.5490357263324551\n"
     ]
    },
    {
     "name": "stderr",
     "output_type": "stream",
     "text": [
      "[I 2025-03-02 21:03:55,405] Trial 93 finished with value: 0.5181768217952928 and parameters: {'criterion': 'MSELoss', 'first_layer_size': 48, 'num_layers': 5, 'confidence_threshold': 0.012881500175607932, 'dropout': 0.3768862972492659, 'lr': 0.003252671927450972, 'n_epochs': 177}. Best is trial 61 with value: 0.5490357263324551.\n"
     ]
    },
    {
     "name": "stdout",
     "output_type": "stream",
     "text": [
      "Trial 93 finished with value: 0.5181768217952928\n",
      "Best trial so far: 61, value: 0.5490357263324551\n"
     ]
    },
    {
     "name": "stderr",
     "output_type": "stream",
     "text": [
      "[I 2025-03-02 21:04:24,979] Trial 94 finished with value: 0.5397062643681217 and parameters: {'criterion': 'MSELoss', 'first_layer_size': 48, 'num_layers': 5, 'confidence_threshold': 0.01689574191459969, 'dropout': 0.370581989843687, 'lr': 0.008853785291353972, 'n_epochs': 116}. Best is trial 61 with value: 0.5490357263324551.\n"
     ]
    },
    {
     "name": "stdout",
     "output_type": "stream",
     "text": [
      "Trial 94 finished with value: 0.5397062643681217\n",
      "Best trial so far: 61, value: 0.5490357263324551\n"
     ]
    },
    {
     "name": "stderr",
     "output_type": "stream",
     "text": [
      "[I 2025-03-02 21:04:57,952] Trial 95 finished with value: 0.5428058072027708 and parameters: {'criterion': 'MSELoss', 'first_layer_size': 48, 'num_layers': 5, 'confidence_threshold': 0.011922110031669982, 'dropout': 0.3601877682543027, 'lr': 0.009982602430123213, 'n_epochs': 128}. Best is trial 61 with value: 0.5490357263324551.\n"
     ]
    },
    {
     "name": "stdout",
     "output_type": "stream",
     "text": [
      "Trial 95 finished with value: 0.5428058072027708\n",
      "Best trial so far: 61, value: 0.5490357263324551\n"
     ]
    },
    {
     "name": "stderr",
     "output_type": "stream",
     "text": [
      "[I 2025-03-02 21:05:26,797] Trial 96 finished with value: 0.5290065590357237 and parameters: {'criterion': 'MSELoss', 'first_layer_size': 48, 'num_layers': 5, 'confidence_threshold': 0.013810827953614154, 'dropout': 0.3599140322269383, 'lr': 0.009925491613093402, 'n_epochs': 100}. Best is trial 61 with value: 0.5490357263324551.\n"
     ]
    },
    {
     "name": "stdout",
     "output_type": "stream",
     "text": [
      "Trial 96 finished with value: 0.5290065590357237\n",
      "Best trial so far: 61, value: 0.5490357263324551\n"
     ]
    },
    {
     "name": "stderr",
     "output_type": "stream",
     "text": [
      "[I 2025-03-02 21:05:49,747] Trial 97 finished with value: 0.4075815814958932 and parameters: {'criterion': 'MSELoss', 'first_layer_size': 48, 'num_layers': 5, 'confidence_threshold': 0.03552406064240974, 'dropout': 0.354293141860953, 'lr': 0.008162216374880345, 'n_epochs': 103}. Best is trial 61 with value: 0.5490357263324551.\n"
     ]
    },
    {
     "name": "stdout",
     "output_type": "stream",
     "text": [
      "Trial 97 finished with value: 0.4075815814958932\n",
      "Best trial so far: 61, value: 0.5490357263324551\n"
     ]
    },
    {
     "name": "stderr",
     "output_type": "stream",
     "text": [
      "[I 2025-03-02 21:06:06,298] Trial 98 finished with value: 0.4766020514712005 and parameters: {'criterion': 'MSELoss', 'first_layer_size': 16, 'num_layers': 3, 'confidence_threshold': 0.01264915982830494, 'dropout': 0.3638221143578727, 'lr': 0.00873977960877521, 'n_epochs': 161}. Best is trial 61 with value: 0.5490357263324551.\n"
     ]
    },
    {
     "name": "stdout",
     "output_type": "stream",
     "text": [
      "Trial 98 finished with value: 0.4766020514712005\n",
      "Best trial so far: 61, value: 0.5490357263324551\n"
     ]
    },
    {
     "name": "stderr",
     "output_type": "stream",
     "text": [
      "[I 2025-03-02 21:06:29,424] Trial 99 finished with value: 0.5336206761608708 and parameters: {'criterion': 'MSELoss', 'first_layer_size': 48, 'num_layers': 5, 'confidence_threshold': 0.005360053520964175, 'dropout': 0.35097796210718546, 'lr': 0.009610458310819338, 'n_epochs': 115}. Best is trial 61 with value: 0.5490357263324551.\n"
     ]
    },
    {
     "name": "stdout",
     "output_type": "stream",
     "text": [
      "Trial 99 finished with value: 0.5336206761608708\n",
      "Best trial so far: 61, value: 0.5490357263324551\n"
     ]
    },
    {
     "name": "stderr",
     "output_type": "stream",
     "text": [
      "[I 2025-03-02 21:06:55,522] Trial 100 finished with value: 0.19587216011457606 and parameters: {'criterion': 'MSELoss', 'first_layer_size': 48, 'num_layers': 5, 'confidence_threshold': 0.047312321244588944, 'dropout': 0.3469295279569526, 'lr': 0.007513707158581352, 'n_epochs': 117}. Best is trial 61 with value: 0.5490357263324551.\n"
     ]
    },
    {
     "name": "stdout",
     "output_type": "stream",
     "text": [
      "Trial 100 finished with value: 0.19587216011457606\n",
      "Best trial so far: 61, value: 0.5490357263324551\n"
     ]
    },
    {
     "name": "stderr",
     "output_type": "stream",
     "text": [
      "[I 2025-03-02 21:07:20,366] Trial 101 finished with value: 0.5349838641260555 and parameters: {'criterion': 'MSELoss', 'first_layer_size': 48, 'num_layers': 5, 'confidence_threshold': 0.010995817010295953, 'dropout': 0.377799654499811, 'lr': 0.009313642372800416, 'n_epochs': 117}. Best is trial 61 with value: 0.5490357263324551.\n"
     ]
    },
    {
     "name": "stdout",
     "output_type": "stream",
     "text": [
      "Trial 101 finished with value: 0.5349838641260555\n",
      "Best trial so far: 61, value: 0.5490357263324551\n"
     ]
    },
    {
     "name": "stderr",
     "output_type": "stream",
     "text": [
      "[I 2025-03-02 21:07:46,835] Trial 102 finished with value: 0.544150849455967 and parameters: {'criterion': 'MSELoss', 'first_layer_size': 48, 'num_layers': 5, 'confidence_threshold': 0.011783180434566262, 'dropout': 0.3683425886161463, 'lr': 0.009478664882197587, 'n_epochs': 128}. Best is trial 61 with value: 0.5490357263324551.\n"
     ]
    },
    {
     "name": "stdout",
     "output_type": "stream",
     "text": [
      "Trial 102 finished with value: 0.544150849455967\n",
      "Best trial so far: 61, value: 0.5490357263324551\n"
     ]
    },
    {
     "name": "stderr",
     "output_type": "stream",
     "text": [
      "[I 2025-03-02 21:08:09,493] Trial 103 finished with value: 0.527180460182393 and parameters: {'criterion': 'MSELoss', 'first_layer_size': 48, 'num_layers': 5, 'confidence_threshold': 0.008063710063013985, 'dropout': 0.3575817894840958, 'lr': 0.00861539826119519, 'n_epochs': 105}. Best is trial 61 with value: 0.5490357263324551.\n"
     ]
    },
    {
     "name": "stdout",
     "output_type": "stream",
     "text": [
      "Trial 103 finished with value: 0.527180460182393\n",
      "Best trial so far: 61, value: 0.5490357263324551\n"
     ]
    },
    {
     "name": "stderr",
     "output_type": "stream",
     "text": [
      "[I 2025-03-02 21:08:40,040] Trial 104 finished with value: 0.537099889247737 and parameters: {'criterion': 'MSELoss', 'first_layer_size': 48, 'num_layers': 5, 'confidence_threshold': 0.011923956591351103, 'dropout': 0.37175880145206397, 'lr': 0.007994847507462792, 'n_epochs': 137}. Best is trial 61 with value: 0.5490357263324551.\n"
     ]
    },
    {
     "name": "stdout",
     "output_type": "stream",
     "text": [
      "Trial 104 finished with value: 0.537099889247737\n",
      "Best trial so far: 61, value: 0.5490357263324551\n"
     ]
    },
    {
     "name": "stderr",
     "output_type": "stream",
     "text": [
      "[I 2025-03-02 21:09:01,338] Trial 105 finished with value: 0.5179815061007591 and parameters: {'criterion': 'MSELoss', 'first_layer_size': 56, 'num_layers': 4, 'confidence_threshold': 0.01547211286956766, 'dropout': 0.36669250539653936, 'lr': 0.009558144131265312, 'n_epochs': 103}. Best is trial 61 with value: 0.5490357263324551.\n"
     ]
    },
    {
     "name": "stdout",
     "output_type": "stream",
     "text": [
      "Trial 105 finished with value: 0.5179815061007591\n",
      "Best trial so far: 61, value: 0.5490357263324551\n"
     ]
    },
    {
     "name": "stderr",
     "output_type": "stream",
     "text": [
      "[I 2025-03-02 21:09:27,670] Trial 106 finished with value: 0.534449896390333 and parameters: {'criterion': 'MSELoss', 'first_layer_size': 48, 'num_layers': 5, 'confidence_threshold': 0.014413118708104886, 'dropout': 0.3504113564447486, 'lr': 0.008975314368461686, 'n_epochs': 115}. Best is trial 61 with value: 0.5490357263324551.\n"
     ]
    },
    {
     "name": "stdout",
     "output_type": "stream",
     "text": [
      "Trial 106 finished with value: 0.534449896390333\n",
      "Best trial so far: 61, value: 0.5490357263324551\n"
     ]
    },
    {
     "name": "stderr",
     "output_type": "stream",
     "text": [
      "[I 2025-03-02 21:09:50,836] Trial 107 finished with value: 0.5277174757967878 and parameters: {'criterion': 'MSELoss', 'first_layer_size': 48, 'num_layers': 5, 'confidence_threshold': 0.009520216516347204, 'dropout': 0.35972393889327575, 'lr': 0.0083001309099384, 'n_epochs': 106}. Best is trial 61 with value: 0.5490357263324551.\n"
     ]
    },
    {
     "name": "stdout",
     "output_type": "stream",
     "text": [
      "Trial 107 finished with value: 0.5277174757967878\n",
      "Best trial so far: 61, value: 0.5490357263324551\n"
     ]
    },
    {
     "name": "stderr",
     "output_type": "stream",
     "text": [
      "[I 2025-03-02 21:10:10,320] Trial 108 finished with value: 0.2969111110588153 and parameters: {'criterion': 'SmoothL1Loss', 'first_layer_size': 32, 'num_layers': 5, 'confidence_threshold': 0.006991894861679535, 'dropout': 0.36232538242058165, 'lr': 0.0070060904448769785, 'n_epochs': 119}. Best is trial 61 with value: 0.5490357263324551.\n"
     ]
    },
    {
     "name": "stdout",
     "output_type": "stream",
     "text": [
      "Trial 108 finished with value: 0.2969111110588153\n",
      "Best trial so far: 61, value: 0.5490357263324551\n"
     ]
    },
    {
     "name": "stderr",
     "output_type": "stream",
     "text": [
      "[I 2025-03-02 21:10:37,087] Trial 109 finished with value: 0.5524234784313315 and parameters: {'criterion': 'MSELoss', 'first_layer_size': 48, 'num_layers': 5, 'confidence_threshold': 0.01777733972951912, 'dropout': 0.32659154441329213, 'lr': 0.009654433371114043, 'n_epochs': 128}. Best is trial 109 with value: 0.5524234784313315.\n"
     ]
    },
    {
     "name": "stdout",
     "output_type": "stream",
     "text": [
      "Trial 109 finished with value: 0.5524234784313315\n",
      "Best trial so far: 109, value: 0.5524234784313315\n"
     ]
    },
    {
     "name": "stderr",
     "output_type": "stream",
     "text": [
      "[I 2025-03-02 21:11:14,377] Trial 110 finished with value: 0.5504581258679165 and parameters: {'criterion': 'MSELoss', 'first_layer_size': 48, 'num_layers': 5, 'confidence_threshold': 0.017508972869133277, 'dropout': 0.3289331589233273, 'lr': 0.009949587077760003, 'n_epochs': 129}. Best is trial 109 with value: 0.5524234784313315.\n"
     ]
    },
    {
     "name": "stdout",
     "output_type": "stream",
     "text": [
      "Trial 110 finished with value: 0.5504581258679165\n",
      "Best trial so far: 109, value: 0.5524234784313315\n"
     ]
    },
    {
     "name": "stderr",
     "output_type": "stream",
     "text": [
      "[I 2025-03-02 21:11:43,159] Trial 111 finished with value: 0.5298605178131744 and parameters: {'criterion': 'MSELoss', 'first_layer_size': 48, 'num_layers': 5, 'confidence_threshold': 0.018955914622613534, 'dropout': 0.32542379388835335, 'lr': 0.00988822059577945, 'n_epochs': 102}. Best is trial 109 with value: 0.5524234784313315.\n"
     ]
    },
    {
     "name": "stdout",
     "output_type": "stream",
     "text": [
      "Trial 111 finished with value: 0.5298605178131744\n",
      "Best trial so far: 109, value: 0.5524234784313315\n"
     ]
    },
    {
     "name": "stderr",
     "output_type": "stream",
     "text": [
      "[I 2025-03-02 21:12:10,054] Trial 112 finished with value: 0.5534210873103904 and parameters: {'criterion': 'MSELoss', 'first_layer_size': 48, 'num_layers': 5, 'confidence_threshold': 0.0204122625043393, 'dropout': 0.32818116040585577, 'lr': 0.009639440559135761, 'n_epochs': 128}. Best is trial 112 with value: 0.5534210873103904.\n"
     ]
    },
    {
     "name": "stdout",
     "output_type": "stream",
     "text": [
      "Trial 112 finished with value: 0.5534210873103904\n",
      "Best trial so far: 112, value: 0.5534210873103904\n"
     ]
    },
    {
     "name": "stderr",
     "output_type": "stream",
     "text": [
      "[I 2025-03-02 21:12:29,693] Trial 113 finished with value: 0.5242831646659756 and parameters: {'criterion': 'MSELoss', 'first_layer_size': 48, 'num_layers': 5, 'confidence_threshold': 0.02033376700487055, 'dropout': 0.3287514416451882, 'lr': 0.009046628225102863, 'n_epochs': 100}. Best is trial 112 with value: 0.5534210873103904.\n"
     ]
    },
    {
     "name": "stdout",
     "output_type": "stream",
     "text": [
      "Trial 113 finished with value: 0.5242831646659756\n",
      "Best trial so far: 112, value: 0.5534210873103904\n"
     ]
    },
    {
     "name": "stderr",
     "output_type": "stream",
     "text": [
      "[I 2025-03-02 21:12:55,225] Trial 114 finished with value: 0.5339614302619341 and parameters: {'criterion': 'MSELoss', 'first_layer_size': 48, 'num_layers': 5, 'confidence_threshold': 0.017576636757809877, 'dropout': 0.3195991103039199, 'lr': 0.009715929179944438, 'n_epochs': 103}. Best is trial 112 with value: 0.5534210873103904.\n"
     ]
    },
    {
     "name": "stdout",
     "output_type": "stream",
     "text": [
      "Trial 114 finished with value: 0.5339614302619341\n",
      "Best trial so far: 112, value: 0.5534210873103904\n"
     ]
    },
    {
     "name": "stderr",
     "output_type": "stream",
     "text": [
      "[I 2025-03-02 21:13:23,896] Trial 115 finished with value: 0.54967732335142 and parameters: {'criterion': 'MSELoss', 'first_layer_size': 48, 'num_layers': 5, 'confidence_threshold': 0.021590404122641207, 'dropout': 0.3277776846727235, 'lr': 0.00992755383949103, 'n_epochs': 128}. Best is trial 112 with value: 0.5534210873103904.\n"
     ]
    },
    {
     "name": "stdout",
     "output_type": "stream",
     "text": [
      "Trial 115 finished with value: 0.54967732335142\n",
      "Best trial so far: 112, value: 0.5534210873103904\n"
     ]
    },
    {
     "name": "stderr",
     "output_type": "stream",
     "text": [
      "[I 2025-03-02 21:13:44,702] Trial 116 finished with value: 0.531669854240455 and parameters: {'criterion': 'MSELoss', 'first_layer_size': 48, 'num_layers': 5, 'confidence_threshold': 0.022278540624563765, 'dropout': 0.3208119712365679, 'lr': 0.008759267413951537, 'n_epochs': 105}. Best is trial 112 with value: 0.5534210873103904.\n"
     ]
    },
    {
     "name": "stdout",
     "output_type": "stream",
     "text": [
      "Trial 116 finished with value: 0.531669854240455\n",
      "Best trial so far: 112, value: 0.5534210873103904\n"
     ]
    },
    {
     "name": "stderr",
     "output_type": "stream",
     "text": [
      "[I 2025-03-02 21:14:01,669] Trial 117 finished with value: 0.37246291026268724 and parameters: {'criterion': 'L1Loss', 'first_layer_size': 12, 'num_layers': 3, 'confidence_threshold': 0.024533780609594123, 'dropout': 0.3159645320814932, 'lr': 0.009042000555079885, 'n_epochs': 148}. Best is trial 112 with value: 0.5534210873103904.\n"
     ]
    },
    {
     "name": "stdout",
     "output_type": "stream",
     "text": [
      "Trial 117 finished with value: 0.37246291026268724\n",
      "Best trial so far: 112, value: 0.5534210873103904\n"
     ]
    },
    {
     "name": "stderr",
     "output_type": "stream",
     "text": [
      "[I 2025-03-02 21:14:23,155] Trial 118 finished with value: 0.5304691343151894 and parameters: {'criterion': 'MSELoss', 'first_layer_size': 48, 'num_layers': 5, 'confidence_threshold': 0.01640626120547781, 'dropout': 0.3237229557257744, 'lr': 0.007833464863543868, 'n_epochs': 106}. Best is trial 112 with value: 0.5534210873103904.\n"
     ]
    },
    {
     "name": "stdout",
     "output_type": "stream",
     "text": [
      "Trial 118 finished with value: 0.5304691343151894\n",
      "Best trial so far: 112, value: 0.5534210873103904\n"
     ]
    },
    {
     "name": "stderr",
     "output_type": "stream",
     "text": [
      "[I 2025-03-02 21:14:55,664] Trial 119 finished with value: 0.49419250017077515 and parameters: {'criterion': 'MSELoss', 'first_layer_size': 64, 'num_layers': 6, 'confidence_threshold': 0.018086793307116246, 'dropout': 0.32681186041602944, 'lr': 0.009620870802981388, 'n_epochs': 127}. Best is trial 112 with value: 0.5534210873103904.\n"
     ]
    },
    {
     "name": "stdout",
     "output_type": "stream",
     "text": [
      "Trial 119 finished with value: 0.49419250017077515\n",
      "Best trial so far: 112, value: 0.5534210873103904\n"
     ]
    },
    {
     "name": "stderr",
     "output_type": "stream",
     "text": [
      "[I 2025-03-02 21:15:22,469] Trial 120 finished with value: 0.5539292279711663 and parameters: {'criterion': 'MSELoss', 'first_layer_size': 48, 'num_layers': 5, 'confidence_threshold': 0.020035905628227317, 'dropout': 0.3304903855361223, 'lr': 0.009934711669307882, 'n_epochs': 128}. Best is trial 120 with value: 0.5539292279711663.\n"
     ]
    },
    {
     "name": "stdout",
     "output_type": "stream",
     "text": [
      "Trial 120 finished with value: 0.5539292279711663\n",
      "Best trial so far: 120, value: 0.5539292279711663\n"
     ]
    },
    {
     "name": "stderr",
     "output_type": "stream",
     "text": [
      "[I 2025-03-02 21:15:42,926] Trial 121 finished with value: 0.535061569839544 and parameters: {'criterion': 'MSELoss', 'first_layer_size': 48, 'num_layers': 5, 'confidence_threshold': 0.021258567953735236, 'dropout': 0.330271593809978, 'lr': 0.009948057803555857, 'n_epochs': 105}. Best is trial 120 with value: 0.5539292279711663.\n"
     ]
    },
    {
     "name": "stdout",
     "output_type": "stream",
     "text": [
      "Trial 121 finished with value: 0.535061569839544\n",
      "Best trial so far: 120, value: 0.5539292279711663\n"
     ]
    },
    {
     "name": "stderr",
     "output_type": "stream",
     "text": [
      "[I 2025-03-02 21:16:02,922] Trial 122 finished with value: 0.5355547715016591 and parameters: {'criterion': 'MSELoss', 'first_layer_size': 48, 'num_layers': 5, 'confidence_threshold': 0.019857483259040395, 'dropout': 0.33360568463263474, 'lr': 0.00919558863139131, 'n_epochs': 106}. Best is trial 120 with value: 0.5539292279711663.\n"
     ]
    },
    {
     "name": "stdout",
     "output_type": "stream",
     "text": [
      "Trial 122 finished with value: 0.5355547715016591\n",
      "Best trial so far: 120, value: 0.5539292279711663\n"
     ]
    },
    {
     "name": "stderr",
     "output_type": "stream",
     "text": [
      "[I 2025-03-02 21:16:24,545] Trial 123 finished with value: 0.5240456069974726 and parameters: {'criterion': 'MSELoss', 'first_layer_size': 48, 'num_layers': 5, 'confidence_threshold': 0.023103490317404933, 'dropout': 0.327740176384405, 'lr': 0.008435050563537683, 'n_epochs': 105}. Best is trial 120 with value: 0.5539292279711663.\n"
     ]
    },
    {
     "name": "stdout",
     "output_type": "stream",
     "text": [
      "Trial 123 finished with value: 0.5240456069974726\n",
      "Best trial so far: 120, value: 0.5539292279711663\n"
     ]
    },
    {
     "name": "stderr",
     "output_type": "stream",
     "text": [
      "[I 2025-03-02 21:16:50,511] Trial 124 finished with value: 0.549927696166082 and parameters: {'criterion': 'MSELoss', 'first_layer_size': 48, 'num_layers': 5, 'confidence_threshold': 0.02596055298367536, 'dropout': 0.33596523692532876, 'lr': 0.009512897785417569, 'n_epochs': 128}. Best is trial 120 with value: 0.5539292279711663.\n"
     ]
    },
    {
     "name": "stdout",
     "output_type": "stream",
     "text": [
      "Trial 124 finished with value: 0.549927696166082\n",
      "Best trial so far: 120, value: 0.5539292279711663\n"
     ]
    },
    {
     "name": "stderr",
     "output_type": "stream",
     "text": [
      "[I 2025-03-02 21:17:13,052] Trial 125 finished with value: 0.5305444592004603 and parameters: {'criterion': 'MSELoss', 'first_layer_size': 48, 'num_layers': 5, 'confidence_threshold': 0.02159468513222532, 'dropout': 0.3368034837470729, 'lr': 0.008754749418278066, 'n_epochs': 105}. Best is trial 120 with value: 0.5539292279711663.\n"
     ]
    },
    {
     "name": "stdout",
     "output_type": "stream",
     "text": [
      "Trial 125 finished with value: 0.5305444592004603\n",
      "Best trial so far: 120, value: 0.5539292279711663\n"
     ]
    },
    {
     "name": "stderr",
     "output_type": "stream",
     "text": [
      "[I 2025-03-02 21:17:45,229] Trial 126 finished with value: 0.550493934984402 and parameters: {'criterion': 'MSELoss', 'first_layer_size': 48, 'num_layers': 5, 'confidence_threshold': 0.026146488904360908, 'dropout': 0.3317334104943838, 'lr': 0.009389298524763338, 'n_epochs': 132}. Best is trial 120 with value: 0.5539292279711663.\n"
     ]
    },
    {
     "name": "stdout",
     "output_type": "stream",
     "text": [
      "Trial 126 finished with value: 0.550493934984402\n",
      "Best trial so far: 120, value: 0.5539292279711663\n"
     ]
    },
    {
     "name": "stderr",
     "output_type": "stream",
     "text": [
      "[I 2025-03-02 21:18:11,715] Trial 127 finished with value: 0.5489769397146805 and parameters: {'criterion': 'MSELoss', 'first_layer_size': 48, 'num_layers': 5, 'confidence_threshold': 0.028242846003595397, 'dropout': 0.332016963808265, 'lr': 0.009499315800272181, 'n_epochs': 130}. Best is trial 120 with value: 0.5539292279711663.\n"
     ]
    },
    {
     "name": "stdout",
     "output_type": "stream",
     "text": [
      "Trial 127 finished with value: 0.5489769397146805\n",
      "Best trial so far: 120, value: 0.5539292279711663\n"
     ]
    },
    {
     "name": "stderr",
     "output_type": "stream",
     "text": [
      "[I 2025-03-02 21:18:23,639] Trial 128 finished with value: 0.2384681903399156 and parameters: {'criterion': 'MSELoss', 'first_layer_size': 16, 'num_layers': 4, 'confidence_threshold': 0.026469791443719422, 'dropout': 0.33192864601763267, 'lr': 0.009123090237080382, 'n_epochs': 100}. Best is trial 120 with value: 0.5539292279711663.\n"
     ]
    },
    {
     "name": "stdout",
     "output_type": "stream",
     "text": [
      "Trial 128 finished with value: 0.2384681903399156\n",
      "Best trial so far: 120, value: 0.5539292279711663\n"
     ]
    },
    {
     "name": "stderr",
     "output_type": "stream",
     "text": [
      "[I 2025-03-02 21:18:46,717] Trial 129 finished with value: 0.5389970531458599 and parameters: {'criterion': 'MSELoss', 'first_layer_size': 48, 'num_layers': 5, 'confidence_threshold': 0.030637369678671696, 'dropout': 0.33560995071424593, 'lr': 0.009504405674343788, 'n_epochs': 106}. Best is trial 120 with value: 0.5539292279711663.\n"
     ]
    },
    {
     "name": "stdout",
     "output_type": "stream",
     "text": [
      "Trial 129 finished with value: 0.5389970531458599\n",
      "Best trial so far: 120, value: 0.5539292279711663\n"
     ]
    },
    {
     "name": "stderr",
     "output_type": "stream",
     "text": [
      "[I 2025-03-02 21:19:08,513] Trial 130 finished with value: 0.5349895225679094 and parameters: {'criterion': 'MSELoss', 'first_layer_size': 48, 'num_layers': 5, 'confidence_threshold': 0.027995061012040724, 'dropout': 0.3226658611839979, 'lr': 0.009999334176236474, 'n_epochs': 104}. Best is trial 120 with value: 0.5539292279711663.\n"
     ]
    },
    {
     "name": "stdout",
     "output_type": "stream",
     "text": [
      "Trial 130 finished with value: 0.5349895225679094\n",
      "Best trial so far: 120, value: 0.5539292279711663\n"
     ]
    },
    {
     "name": "stderr",
     "output_type": "stream",
     "text": [
      "[I 2025-03-02 21:19:29,720] Trial 131 finished with value: 0.5250962028778368 and parameters: {'criterion': 'MSELoss', 'first_layer_size': 48, 'num_layers': 5, 'confidence_threshold': 0.029028844004304343, 'dropout': 0.32919900110876815, 'lr': 0.009408431970757056, 'n_epochs': 105}. Best is trial 120 with value: 0.5539292279711663.\n"
     ]
    },
    {
     "name": "stdout",
     "output_type": "stream",
     "text": [
      "Trial 131 finished with value: 0.5250962028778368\n",
      "Best trial so far: 120, value: 0.5539292279711663\n"
     ]
    },
    {
     "name": "stderr",
     "output_type": "stream",
     "text": [
      "[I 2025-03-02 21:19:55,085] Trial 132 finished with value: 0.18774152969369604 and parameters: {'criterion': 'MSELoss', 'first_layer_size': 48, 'num_layers': 5, 'confidence_threshold': 0.02599939320409187, 'dropout': 0.3317115966377294, 'lr': 0.0011403698566697254, 'n_epochs': 122}. Best is trial 120 with value: 0.5539292279711663.\n"
     ]
    },
    {
     "name": "stdout",
     "output_type": "stream",
     "text": [
      "Trial 132 finished with value: 0.18774152969369604\n",
      "Best trial so far: 120, value: 0.5539292279711663\n"
     ]
    },
    {
     "name": "stderr",
     "output_type": "stream",
     "text": [
      "[I 2025-03-02 21:20:17,751] Trial 133 finished with value: 0.5270810281797995 and parameters: {'criterion': 'MSELoss', 'first_layer_size': 48, 'num_layers': 5, 'confidence_threshold': 0.02872575118206537, 'dropout': 0.3253082644498858, 'lr': 0.008502682866869924, 'n_epochs': 108}. Best is trial 120 with value: 0.5539292279711663.\n"
     ]
    },
    {
     "name": "stdout",
     "output_type": "stream",
     "text": [
      "Trial 133 finished with value: 0.5270810281797995\n",
      "Best trial so far: 120, value: 0.5539292279711663\n"
     ]
    },
    {
     "name": "stderr",
     "output_type": "stream",
     "text": [
      "[I 2025-03-02 21:20:38,332] Trial 134 finished with value: 0.5323176569363393 and parameters: {'criterion': 'MSELoss', 'first_layer_size': 48, 'num_layers': 5, 'confidence_threshold': 0.025397634995107464, 'dropout': 0.33842353107549655, 'lr': 0.009035045911446065, 'n_epochs': 105}. Best is trial 120 with value: 0.5539292279711663.\n"
     ]
    },
    {
     "name": "stdout",
     "output_type": "stream",
     "text": [
      "Trial 134 finished with value: 0.5323176569363393\n",
      "Best trial so far: 120, value: 0.5539292279711663\n"
     ]
    },
    {
     "name": "stderr",
     "output_type": "stream",
     "text": [
      "[I 2025-03-02 21:21:06,935] Trial 135 finished with value: 0.5040309387160921 and parameters: {'criterion': 'MSELoss', 'first_layer_size': 56, 'num_layers': 6, 'confidence_threshold': 0.024008676410974344, 'dropout': 0.33461004430407426, 'lr': 0.009496070423060636, 'n_epochs': 128}. Best is trial 120 with value: 0.5539292279711663.\n"
     ]
    },
    {
     "name": "stdout",
     "output_type": "stream",
     "text": [
      "Trial 135 finished with value: 0.5040309387160921\n",
      "Best trial so far: 120, value: 0.5539292279711663\n"
     ]
    },
    {
     "name": "stderr",
     "output_type": "stream",
     "text": [
      "[I 2025-03-02 21:21:29,485] Trial 136 finished with value: 0.5256232818135695 and parameters: {'criterion': 'MSELoss', 'first_layer_size': 48, 'num_layers': 5, 'confidence_threshold': 0.031261731982439235, 'dropout': 0.3302035868763424, 'lr': 0.00873178444824109, 'n_epochs': 104}. Best is trial 120 with value: 0.5539292279711663.\n"
     ]
    },
    {
     "name": "stdout",
     "output_type": "stream",
     "text": [
      "Trial 136 finished with value: 0.5256232818135695\n",
      "Best trial so far: 120, value: 0.5539292279711663\n"
     ]
    },
    {
     "name": "stderr",
     "output_type": "stream",
     "text": [
      "[I 2025-03-02 21:21:50,045] Trial 137 finished with value: 0.533970941865042 and parameters: {'criterion': 'SmoothL1Loss', 'first_layer_size': 48, 'num_layers': 5, 'confidence_threshold': 0.02295021958207708, 'dropout': 0.32644879097379076, 'lr': 0.009969829831754215, 'n_epochs': 100}. Best is trial 120 with value: 0.5539292279711663.\n"
     ]
    },
    {
     "name": "stdout",
     "output_type": "stream",
     "text": [
      "Trial 137 finished with value: 0.533970941865042\n",
      "Best trial so far: 120, value: 0.5539292279711663\n"
     ]
    },
    {
     "name": "stderr",
     "output_type": "stream",
     "text": [
      "[I 2025-03-02 21:22:11,124] Trial 138 finished with value: 0.5328806188593811 and parameters: {'criterion': 'MSELoss', 'first_layer_size': 48, 'num_layers': 5, 'confidence_threshold': 0.019061363047782633, 'dropout': 0.321545864123935, 'lr': 0.009181039667939858, 'n_epochs': 106}. Best is trial 120 with value: 0.5539292279711663.\n"
     ]
    },
    {
     "name": "stdout",
     "output_type": "stream",
     "text": [
      "Trial 138 finished with value: 0.5328806188593811\n",
      "Best trial so far: 120, value: 0.5539292279711663\n"
     ]
    },
    {
     "name": "stderr",
     "output_type": "stream",
     "text": [
      "[I 2025-03-02 21:22:28,239] Trial 139 finished with value: 0.09441441441441442 and parameters: {'criterion': 'MSELoss', 'first_layer_size': 32, 'num_layers': 5, 'confidence_threshold': 0.029793648320651754, 'dropout': 0.3327720499097141, 'lr': 0.008135149659427177, 'n_epochs': 100}. Best is trial 120 with value: 0.5539292279711663.\n"
     ]
    },
    {
     "name": "stdout",
     "output_type": "stream",
     "text": [
      "Trial 139 finished with value: 0.09441441441441442\n",
      "Best trial so far: 120, value: 0.5539292279711663\n"
     ]
    },
    {
     "name": "stderr",
     "output_type": "stream",
     "text": [
      "[I 2025-03-02 21:22:56,114] Trial 140 finished with value: 0.4758739823119219 and parameters: {'criterion': 'L1Loss', 'first_layer_size': 48, 'num_layers': 5, 'confidence_threshold': 0.03332537768578682, 'dropout': 0.32866145924055185, 'lr': 0.008535220978037302, 'n_epochs': 136}. Best is trial 120 with value: 0.5539292279711663.\n"
     ]
    },
    {
     "name": "stdout",
     "output_type": "stream",
     "text": [
      "Trial 140 finished with value: 0.4758739823119219\n",
      "Best trial so far: 120, value: 0.5539292279711663\n"
     ]
    },
    {
     "name": "stderr",
     "output_type": "stream",
     "text": [
      "[I 2025-03-02 21:23:17,543] Trial 141 finished with value: 0.5383812536968591 and parameters: {'criterion': 'MSELoss', 'first_layer_size': 48, 'num_layers': 5, 'confidence_threshold': 0.027514418861869817, 'dropout': 0.33580889542461423, 'lr': 0.009513766696507822, 'n_epochs': 110}. Best is trial 120 with value: 0.5539292279711663.\n"
     ]
    },
    {
     "name": "stdout",
     "output_type": "stream",
     "text": [
      "Trial 141 finished with value: 0.5383812536968591\n",
      "Best trial so far: 120, value: 0.5539292279711663\n"
     ]
    },
    {
     "name": "stderr",
     "output_type": "stream",
     "text": [
      "[I 2025-03-02 21:23:37,881] Trial 142 finished with value: 0.5312808849069308 and parameters: {'criterion': 'MSELoss', 'first_layer_size': 48, 'num_layers': 5, 'confidence_threshold': 0.017238730202494043, 'dropout': 0.3244305696232921, 'lr': 0.0076969997696883525, 'n_epochs': 104}. Best is trial 120 with value: 0.5539292279711663.\n"
     ]
    },
    {
     "name": "stdout",
     "output_type": "stream",
     "text": [
      "Trial 142 finished with value: 0.5312808849069308\n",
      "Best trial so far: 120, value: 0.5539292279711663\n"
     ]
    },
    {
     "name": "stderr",
     "output_type": "stream",
     "text": [
      "[I 2025-03-02 21:23:58,699] Trial 143 finished with value: 0.5329455164597005 and parameters: {'criterion': 'MSELoss', 'first_layer_size': 48, 'num_layers': 5, 'confidence_threshold': 0.016148832787917542, 'dropout': 0.34401206360517067, 'lr': 0.008993308212751084, 'n_epochs': 106}. Best is trial 120 with value: 0.5539292279711663.\n"
     ]
    },
    {
     "name": "stdout",
     "output_type": "stream",
     "text": [
      "Trial 143 finished with value: 0.5329455164597005\n",
      "Best trial so far: 120, value: 0.5539292279711663\n"
     ]
    },
    {
     "name": "stderr",
     "output_type": "stream",
     "text": [
      "[I 2025-03-02 21:24:33,028] Trial 144 finished with value: 0.5338014527324366 and parameters: {'criterion': 'MSELoss', 'first_layer_size': 48, 'num_layers': 5, 'confidence_threshold': 0.02088250393414083, 'dropout': 0.3306237681441899, 'lr': 0.004629366398686603, 'n_epochs': 180}. Best is trial 120 with value: 0.5539292279711663.\n"
     ]
    },
    {
     "name": "stdout",
     "output_type": "stream",
     "text": [
      "Trial 144 finished with value: 0.5338014527324366\n",
      "Best trial so far: 120, value: 0.5539292279711663\n"
     ]
    },
    {
     "name": "stderr",
     "output_type": "stream",
     "text": [
      "[I 2025-03-02 21:24:54,033] Trial 145 finished with value: 0.5341223665251064 and parameters: {'criterion': 'MSELoss', 'first_layer_size': 48, 'num_layers': 5, 'confidence_threshold': 0.018375671032078433, 'dropout': 0.3380840598706499, 'lr': 0.0099880931759419, 'n_epochs': 105}. Best is trial 120 with value: 0.5539292279711663.\n"
     ]
    },
    {
     "name": "stdout",
     "output_type": "stream",
     "text": [
      "Trial 145 finished with value: 0.5341223665251064\n",
      "Best trial so far: 120, value: 0.5539292279711663\n"
     ]
    },
    {
     "name": "stderr",
     "output_type": "stream",
     "text": [
      "[I 2025-03-02 21:25:15,638] Trial 146 finished with value: 0.524452926600718 and parameters: {'criterion': 'MSELoss', 'first_layer_size': 48, 'num_layers': 5, 'confidence_threshold': 0.014916962663377853, 'dropout': 0.3270123181125865, 'lr': 0.008304472982612408, 'n_epochs': 105}. Best is trial 120 with value: 0.5539292279711663.\n"
     ]
    },
    {
     "name": "stdout",
     "output_type": "stream",
     "text": [
      "Trial 146 finished with value: 0.524452926600718\n",
      "Best trial so far: 120, value: 0.5539292279711663\n"
     ]
    },
    {
     "name": "stderr",
     "output_type": "stream",
     "text": [
      "[I 2025-03-02 21:25:41,818] Trial 147 finished with value: 0.5481676411186309 and parameters: {'criterion': 'MSELoss', 'first_layer_size': 48, 'num_layers': 5, 'confidence_threshold': 0.025421164773118125, 'dropout': 0.33368462857054926, 'lr': 0.009487709306912475, 'n_epochs': 128}. Best is trial 120 with value: 0.5539292279711663.\n"
     ]
    },
    {
     "name": "stdout",
     "output_type": "stream",
     "text": [
      "Trial 147 finished with value: 0.5481676411186309\n",
      "Best trial so far: 120, value: 0.5539292279711663\n"
     ]
    },
    {
     "name": "stderr",
     "output_type": "stream",
     "text": [
      "[I 2025-03-02 21:26:04,698] Trial 148 finished with value: 0.5378875048984026 and parameters: {'criterion': 'MSELoss', 'first_layer_size': 48, 'num_layers': 5, 'confidence_threshold': 0.025725799107322384, 'dropout': 0.34074844641493734, 'lr': 0.009497556004292449, 'n_epochs': 106}. Best is trial 120 with value: 0.5539292279711663.\n"
     ]
    },
    {
     "name": "stdout",
     "output_type": "stream",
     "text": [
      "Trial 148 finished with value: 0.5378875048984026\n",
      "Best trial so far: 120, value: 0.5539292279711663\n"
     ]
    },
    {
     "name": "stderr",
     "output_type": "stream",
     "text": [
      "[I 2025-03-02 21:26:16,311] Trial 149 finished with value: 0.4662393984563469 and parameters: {'criterion': 'MSELoss', 'first_layer_size': 12, 'num_layers': 2, 'confidence_threshold': 0.01988452991353136, 'dropout': 0.33497592136078885, 'lr': 0.008876731336124054, 'n_epochs': 123}. Best is trial 120 with value: 0.5539292279711663.\n"
     ]
    },
    {
     "name": "stdout",
     "output_type": "stream",
     "text": [
      "Trial 149 finished with value: 0.4662393984563469\n",
      "Best trial so far: 120, value: 0.5539292279711663\n"
     ]
    },
    {
     "name": "stderr",
     "output_type": "stream",
     "text": [
      "[I 2025-03-02 21:26:38,199] Trial 150 finished with value: 0.5168335150878642 and parameters: {'criterion': 'MSELoss', 'first_layer_size': 64, 'num_layers': 4, 'confidence_threshold': 0.024200240553981976, 'dropout': 0.33289251004794945, 'lr': 0.009490200986544118, 'n_epochs': 100}. Best is trial 120 with value: 0.5539292279711663.\n"
     ]
    },
    {
     "name": "stdout",
     "output_type": "stream",
     "text": [
      "Trial 150 finished with value: 0.5168335150878642\n",
      "Best trial so far: 120, value: 0.5539292279711663\n"
     ]
    },
    {
     "name": "stderr",
     "output_type": "stream",
     "text": [
      "[I 2025-03-02 21:27:20,963] Trial 151 finished with value: 0.3936058784779514 and parameters: {'criterion': 'MSELoss', 'first_layer_size': 48, 'num_layers': 5, 'confidence_threshold': 0.026882826171562697, 'dropout': 0.3286374442177877, 'lr': 0.0021216348829764184, 'n_epochs': 224}. Best is trial 120 with value: 0.5539292279711663.\n"
     ]
    },
    {
     "name": "stdout",
     "output_type": "stream",
     "text": [
      "Trial 151 finished with value: 0.3936058784779514\n",
      "Best trial so far: 120, value: 0.5539292279711663\n"
     ]
    },
    {
     "name": "stderr",
     "output_type": "stream",
     "text": [
      "[I 2025-03-02 21:28:03,819] Trial 152 finished with value: 0.5321037957843917 and parameters: {'criterion': 'MSELoss', 'first_layer_size': 48, 'num_layers': 5, 'confidence_threshold': 0.0140047592170254, 'dropout': 0.33138916862456813, 'lr': 0.003793478410235012, 'n_epochs': 212}. Best is trial 120 with value: 0.5539292279711663.\n"
     ]
    },
    {
     "name": "stdout",
     "output_type": "stream",
     "text": [
      "Trial 152 finished with value: 0.5321037957843917\n",
      "Best trial so far: 120, value: 0.5539292279711663\n"
     ]
    },
    {
     "name": "stderr",
     "output_type": "stream",
     "text": [
      "[I 2025-03-02 21:28:24,986] Trial 153 finished with value: 0.5334199645754862 and parameters: {'criterion': 'MSELoss', 'first_layer_size': 48, 'num_layers': 5, 'confidence_threshold': 0.016854732750372418, 'dropout': 0.32307759197664665, 'lr': 0.009224407537149815, 'n_epochs': 104}. Best is trial 120 with value: 0.5539292279711663.\n"
     ]
    },
    {
     "name": "stdout",
     "output_type": "stream",
     "text": [
      "Trial 153 finished with value: 0.5334199645754862\n",
      "Best trial so far: 120, value: 0.5539292279711663\n"
     ]
    },
    {
     "name": "stderr",
     "output_type": "stream",
     "text": [
      "[I 2025-03-02 21:28:44,692] Trial 154 finished with value: 0.5258351383391988 and parameters: {'criterion': 'MSELoss', 'first_layer_size': 48, 'num_layers': 5, 'confidence_threshold': 0.021847793269496533, 'dropout': 0.32588942644565905, 'lr': 0.008647273386907213, 'n_epochs': 104}. Best is trial 120 with value: 0.5539292279711663.\n"
     ]
    },
    {
     "name": "stdout",
     "output_type": "stream",
     "text": [
      "Trial 154 finished with value: 0.5258351383391988\n",
      "Best trial so far: 120, value: 0.5539292279711663\n"
     ]
    },
    {
     "name": "stderr",
     "output_type": "stream",
     "text": [
      "[I 2025-03-02 21:29:05,453] Trial 155 finished with value: 0.5296128300275331 and parameters: {'criterion': 'MSELoss', 'first_layer_size': 48, 'num_layers': 5, 'confidence_threshold': 0.028160324253345113, 'dropout': 0.329590080843784, 'lr': 0.0096053292520683, 'n_epochs': 105}. Best is trial 120 with value: 0.5539292279711663.\n"
     ]
    },
    {
     "name": "stdout",
     "output_type": "stream",
     "text": [
      "Trial 155 finished with value: 0.5296128300275331\n",
      "Best trial so far: 120, value: 0.5539292279711663\n"
     ]
    },
    {
     "name": "stderr",
     "output_type": "stream",
     "text": [
      "[I 2025-03-02 21:29:35,954] Trial 156 finished with value: 0.5400962562060565 and parameters: {'criterion': 'MSELoss', 'first_layer_size': 48, 'num_layers': 5, 'confidence_threshold': 0.023417937181117395, 'dropout': 0.33403342804164987, 'lr': 0.00799938659788737, 'n_epochs': 132}. Best is trial 120 with value: 0.5539292279711663.\n"
     ]
    },
    {
     "name": "stdout",
     "output_type": "stream",
     "text": [
      "Trial 156 finished with value: 0.5400962562060565\n",
      "Best trial so far: 120, value: 0.5539292279711663\n"
     ]
    },
    {
     "name": "stderr",
     "output_type": "stream",
     "text": [
      "[I 2025-03-02 21:30:01,239] Trial 157 finished with value: 0.5322131151300767 and parameters: {'criterion': 'MSELoss', 'first_layer_size': 48, 'num_layers': 5, 'confidence_threshold': 0.02519056132113617, 'dropout': 0.33888856688146984, 'lr': 0.009103880536127153, 'n_epochs': 105}. Best is trial 120 with value: 0.5539292279711663.\n"
     ]
    },
    {
     "name": "stdout",
     "output_type": "stream",
     "text": [
      "Trial 157 finished with value: 0.5322131151300767\n",
      "Best trial so far: 120, value: 0.5539292279711663\n"
     ]
    },
    {
     "name": "stderr",
     "output_type": "stream",
     "text": [
      "[I 2025-03-02 21:30:24,772] Trial 158 finished with value: 0.22077882369052454 and parameters: {'criterion': 'MSELoss', 'first_layer_size': 48, 'num_layers': 5, 'confidence_threshold': 0.015255734819701746, 'dropout': 0.32737216522800255, 'lr': 0.0016921268763688204, 'n_epochs': 107}. Best is trial 120 with value: 0.5539292279711663.\n"
     ]
    },
    {
     "name": "stdout",
     "output_type": "stream",
     "text": [
      "Trial 158 finished with value: 0.22077882369052454\n",
      "Best trial so far: 120, value: 0.5539292279711663\n"
     ]
    },
    {
     "name": "stderr",
     "output_type": "stream",
     "text": [
      "[I 2025-03-02 21:30:39,144] Trial 159 finished with value: 0.2898806887564172 and parameters: {'criterion': 'MSELoss', 'first_layer_size': 16, 'num_layers': 4, 'confidence_threshold': 0.018484971005240103, 'dropout': 0.3327120101051016, 'lr': 0.009948914835449152, 'n_epochs': 129}. Best is trial 120 with value: 0.5539292279711663.\n"
     ]
    },
    {
     "name": "stdout",
     "output_type": "stream",
     "text": [
      "Trial 159 finished with value: 0.2898806887564172\n",
      "Best trial so far: 120, value: 0.5539292279711663\n"
     ]
    },
    {
     "name": "stderr",
     "output_type": "stream",
     "text": [
      "[I 2025-03-02 21:31:00,069] Trial 160 finished with value: 0.5292586214984261 and parameters: {'criterion': 'SmoothL1Loss', 'first_layer_size': 48, 'num_layers': 5, 'confidence_threshold': 0.02030896344455997, 'dropout': 0.34760311583316494, 'lr': 0.00869536915743515, 'n_epochs': 102}. Best is trial 120 with value: 0.5539292279711663.\n"
     ]
    },
    {
     "name": "stdout",
     "output_type": "stream",
     "text": [
      "Trial 160 finished with value: 0.5292586214984261\n",
      "Best trial so far: 120, value: 0.5539292279711663\n"
     ]
    },
    {
     "name": "stderr",
     "output_type": "stream",
     "text": [
      "[I 2025-03-02 21:31:25,745] Trial 161 finished with value: 0.5502425902993162 and parameters: {'criterion': 'MSELoss', 'first_layer_size': 48, 'num_layers': 5, 'confidence_threshold': 0.01333514460581991, 'dropout': 0.33067642632746147, 'lr': 0.00963469363348003, 'n_epochs': 129}. Best is trial 120 with value: 0.5539292279711663.\n"
     ]
    },
    {
     "name": "stdout",
     "output_type": "stream",
     "text": [
      "Trial 161 finished with value: 0.5502425902993162\n",
      "Best trial so far: 120, value: 0.5539292279711663\n"
     ]
    },
    {
     "name": "stderr",
     "output_type": "stream",
     "text": [
      "[I 2025-03-02 21:31:51,565] Trial 162 finished with value: 0.5523135993487662 and parameters: {'criterion': 'MSELoss', 'first_layer_size': 48, 'num_layers': 5, 'confidence_threshold': 0.013436903112218344, 'dropout': 0.33055354260773534, 'lr': 0.009543513935064203, 'n_epochs': 129}. Best is trial 120 with value: 0.5539292279711663.\n"
     ]
    },
    {
     "name": "stdout",
     "output_type": "stream",
     "text": [
      "Trial 162 finished with value: 0.5523135993487662\n",
      "Best trial so far: 120, value: 0.5539292279711663\n"
     ]
    },
    {
     "name": "stderr",
     "output_type": "stream",
     "text": [
      "[I 2025-03-02 21:32:20,437] Trial 163 finished with value: 0.5523135993487662 and parameters: {'criterion': 'MSELoss', 'first_layer_size': 48, 'num_layers': 5, 'confidence_threshold': 0.013426709222876029, 'dropout': 0.33055420527753626, 'lr': 0.009541921580949103, 'n_epochs': 129}. Best is trial 120 with value: 0.5539292279711663.\n"
     ]
    },
    {
     "name": "stdout",
     "output_type": "stream",
     "text": [
      "Trial 163 finished with value: 0.5523135993487662\n",
      "Best trial so far: 120, value: 0.5539292279711663\n"
     ]
    },
    {
     "name": "stderr",
     "output_type": "stream",
     "text": [
      "[I 2025-03-02 21:32:46,111] Trial 164 finished with value: 0.5348363497480317 and parameters: {'criterion': 'MSELoss', 'first_layer_size': 48, 'num_layers': 5, 'confidence_threshold': 0.01333521081642535, 'dropout': 0.33692188540401846, 'lr': 0.00923468483799088, 'n_epochs': 106}. Best is trial 120 with value: 0.5539292279711663.\n"
     ]
    },
    {
     "name": "stdout",
     "output_type": "stream",
     "text": [
      "Trial 164 finished with value: 0.5348363497480317\n",
      "Best trial so far: 120, value: 0.5539292279711663\n"
     ]
    },
    {
     "name": "stderr",
     "output_type": "stream",
     "text": [
      "[I 2025-03-02 21:33:15,302] Trial 165 finished with value: 0.5512908119929476 and parameters: {'criterion': 'MSELoss', 'first_layer_size': 48, 'num_layers': 5, 'confidence_threshold': 0.015760293671390573, 'dropout': 0.3303171992094036, 'lr': 0.009984232440104998, 'n_epochs': 128}. Best is trial 120 with value: 0.5539292279711663.\n"
     ]
    },
    {
     "name": "stdout",
     "output_type": "stream",
     "text": [
      "Trial 165 finished with value: 0.5512908119929476\n",
      "Best trial so far: 120, value: 0.5539292279711663\n"
     ]
    },
    {
     "name": "stderr",
     "output_type": "stream",
     "text": [
      "[I 2025-03-02 21:33:43,625] Trial 166 finished with value: 0.5498178963515472 and parameters: {'criterion': 'MSELoss', 'first_layer_size': 48, 'num_layers': 5, 'confidence_threshold': 0.015907443068084406, 'dropout': 0.33038308376429715, 'lr': 0.00962743204751389, 'n_epochs': 130}. Best is trial 120 with value: 0.5539292279711663.\n"
     ]
    },
    {
     "name": "stdout",
     "output_type": "stream",
     "text": [
      "Trial 166 finished with value: 0.5498178963515472\n",
      "Best trial so far: 120, value: 0.5539292279711663\n"
     ]
    },
    {
     "name": "stderr",
     "output_type": "stream",
     "text": [
      "[I 2025-03-02 21:34:14,954] Trial 167 finished with value: 0.5521935044623828 and parameters: {'criterion': 'MSELoss', 'first_layer_size': 48, 'num_layers': 5, 'confidence_threshold': 0.016090030137861186, 'dropout': 0.3303645308304069, 'lr': 0.009967711944491107, 'n_epochs': 128}. Best is trial 120 with value: 0.5539292279711663.\n"
     ]
    },
    {
     "name": "stdout",
     "output_type": "stream",
     "text": [
      "Trial 167 finished with value: 0.5521935044623828\n",
      "Best trial so far: 120, value: 0.5539292279711663\n"
     ]
    },
    {
     "name": "stderr",
     "output_type": "stream",
     "text": [
      "[I 2025-03-02 21:34:39,555] Trial 168 finished with value: 0.5341438458369726 and parameters: {'criterion': 'MSELoss', 'first_layer_size': 48, 'num_layers': 5, 'confidence_threshold': 0.017841949281269635, 'dropout': 0.3304627393117928, 'lr': 0.009647347164779859, 'n_epochs': 105}. Best is trial 120 with value: 0.5539292279711663.\n"
     ]
    },
    {
     "name": "stdout",
     "output_type": "stream",
     "text": [
      "Trial 168 finished with value: 0.5341438458369726\n",
      "Best trial so far: 120, value: 0.5539292279711663\n"
     ]
    },
    {
     "name": "stderr",
     "output_type": "stream",
     "text": [
      "[I 2025-03-02 21:35:01,153] Trial 169 finished with value: 0.5280788166758483 and parameters: {'criterion': 'MSELoss', 'first_layer_size': 48, 'num_layers': 5, 'confidence_threshold': 0.016044296974469574, 'dropout': 0.32833110268814286, 'lr': 0.009724050850236945, 'n_epochs': 100}. Best is trial 120 with value: 0.5539292279711663.\n"
     ]
    },
    {
     "name": "stdout",
     "output_type": "stream",
     "text": [
      "Trial 169 finished with value: 0.5280788166758483\n",
      "Best trial so far: 120, value: 0.5539292279711663\n"
     ]
    },
    {
     "name": "stderr",
     "output_type": "stream",
     "text": [
      "[I 2025-03-02 21:35:23,744] Trial 170 finished with value: 0.48119293397416996 and parameters: {'criterion': 'MSELoss', 'first_layer_size': 56, 'num_layers': 5, 'confidence_threshold': 0.01683149923554447, 'dropout': 0.3253515340082629, 'lr': 0.008969913787064594, 'n_epochs': 100}. Best is trial 120 with value: 0.5539292279711663.\n"
     ]
    },
    {
     "name": "stdout",
     "output_type": "stream",
     "text": [
      "Trial 170 finished with value: 0.48119293397416996\n",
      "Best trial so far: 120, value: 0.5539292279711663\n"
     ]
    },
    {
     "name": "stderr",
     "output_type": "stream",
     "text": [
      "[I 2025-03-02 21:35:52,247] Trial 171 finished with value: 0.5490415087989253 and parameters: {'criterion': 'MSELoss', 'first_layer_size': 48, 'num_layers': 5, 'confidence_threshold': 0.014964266405258901, 'dropout': 0.33168012240596595, 'lr': 0.009997330482817332, 'n_epochs': 129}. Best is trial 120 with value: 0.5539292279711663.\n"
     ]
    },
    {
     "name": "stdout",
     "output_type": "stream",
     "text": [
      "Trial 171 finished with value: 0.5490415087989253\n",
      "Best trial so far: 120, value: 0.5539292279711663\n"
     ]
    },
    {
     "name": "stderr",
     "output_type": "stream",
     "text": [
      "[I 2025-03-02 21:36:18,632] Trial 172 finished with value: 0.5498766356470005 and parameters: {'criterion': 'MSELoss', 'first_layer_size': 48, 'num_layers': 5, 'confidence_threshold': 0.016003807711785573, 'dropout': 0.331672740167125, 'lr': 0.009959189067418071, 'n_epochs': 126}. Best is trial 120 with value: 0.5539292279711663.\n"
     ]
    },
    {
     "name": "stdout",
     "output_type": "stream",
     "text": [
      "Trial 172 finished with value: 0.5498766356470005\n",
      "Best trial so far: 120, value: 0.5539292279711663\n"
     ]
    },
    {
     "name": "stderr",
     "output_type": "stream",
     "text": [
      "[I 2025-03-02 21:36:46,635] Trial 173 finished with value: 0.5493101422266669 and parameters: {'criterion': 'MSELoss', 'first_layer_size': 48, 'num_layers': 5, 'confidence_threshold': 0.015364055205632731, 'dropout': 0.33095575577538905, 'lr': 0.009809233685154389, 'n_epochs': 129}. Best is trial 120 with value: 0.5539292279711663.\n"
     ]
    },
    {
     "name": "stdout",
     "output_type": "stream",
     "text": [
      "Trial 173 finished with value: 0.5493101422266669\n",
      "Best trial so far: 120, value: 0.5539292279711663\n"
     ]
    },
    {
     "name": "stderr",
     "output_type": "stream",
     "text": [
      "[I 2025-03-02 21:37:14,356] Trial 174 finished with value: 0.5503132232356032 and parameters: {'criterion': 'MSELoss', 'first_layer_size': 48, 'num_layers': 5, 'confidence_threshold': 0.015761551058142947, 'dropout': 0.32981061969069436, 'lr': 0.009966711858964517, 'n_epochs': 127}. Best is trial 120 with value: 0.5539292279711663.\n"
     ]
    },
    {
     "name": "stdout",
     "output_type": "stream",
     "text": [
      "Trial 174 finished with value: 0.5503132232356032\n",
      "Best trial so far: 120, value: 0.5539292279711663\n"
     ]
    },
    {
     "name": "stderr",
     "output_type": "stream",
     "text": [
      "[I 2025-03-02 21:37:38,398] Trial 175 finished with value: 0.5348402801296899 and parameters: {'criterion': 'MSELoss', 'first_layer_size': 48, 'num_layers': 5, 'confidence_threshold': 0.015347405869896682, 'dropout': 0.3299265771864302, 'lr': 0.009961250603719184, 'n_epochs': 106}. Best is trial 120 with value: 0.5539292279711663.\n"
     ]
    },
    {
     "name": "stdout",
     "output_type": "stream",
     "text": [
      "Trial 175 finished with value: 0.5348402801296899\n",
      "Best trial so far: 120, value: 0.5539292279711663\n"
     ]
    },
    {
     "name": "stderr",
     "output_type": "stream",
     "text": [
      "[I 2025-03-02 21:38:06,510] Trial 176 finished with value: 0.5509703019887627 and parameters: {'criterion': 'MSELoss', 'first_layer_size': 48, 'num_layers': 5, 'confidence_threshold': 0.017374384315107693, 'dropout': 0.33086527462876586, 'lr': 0.009996289212536851, 'n_epochs': 129}. Best is trial 120 with value: 0.5539292279711663.\n"
     ]
    },
    {
     "name": "stdout",
     "output_type": "stream",
     "text": [
      "Trial 176 finished with value: 0.5509703019887627\n",
      "Best trial so far: 120, value: 0.5539292279711663\n"
     ]
    },
    {
     "name": "stderr",
     "output_type": "stream",
     "text": [
      "[I 2025-03-02 21:38:28,556] Trial 177 finished with value: 0.4604666643365311 and parameters: {'criterion': 'L1Loss', 'first_layer_size': 48, 'num_layers': 5, 'confidence_threshold': 0.017222944195611777, 'dropout': 0.3314794513970437, 'lr': 0.009988580304874168, 'n_epochs': 100}. Best is trial 120 with value: 0.5539292279711663.\n"
     ]
    },
    {
     "name": "stdout",
     "output_type": "stream",
     "text": [
      "Trial 177 finished with value: 0.4604666643365311\n",
      "Best trial so far: 120, value: 0.5539292279711663\n"
     ]
    },
    {
     "name": "stderr",
     "output_type": "stream",
     "text": [
      "[I 2025-03-02 21:38:50,623] Trial 178 finished with value: 0.5333844911371501 and parameters: {'criterion': 'MSELoss', 'first_layer_size': 48, 'num_layers': 5, 'confidence_threshold': 0.014123891577042035, 'dropout': 0.33514919729130827, 'lr': 0.00917304648177607, 'n_epochs': 105}. Best is trial 120 with value: 0.5539292279711663.\n"
     ]
    },
    {
     "name": "stdout",
     "output_type": "stream",
     "text": [
      "Trial 178 finished with value: 0.5333844911371501\n",
      "Best trial so far: 120, value: 0.5539292279711663\n"
     ]
    },
    {
     "name": "stderr",
     "output_type": "stream",
     "text": [
      "[I 2025-03-02 21:39:23,650] Trial 179 finished with value: 0.5474989700654255 and parameters: {'criterion': 'MSELoss', 'first_layer_size': 48, 'num_layers': 5, 'confidence_threshold': 0.019204970952646304, 'dropout': 0.32873327902314664, 'lr': 0.008820224636444192, 'n_epochs': 130}. Best is trial 120 with value: 0.5539292279711663.\n"
     ]
    },
    {
     "name": "stdout",
     "output_type": "stream",
     "text": [
      "Trial 179 finished with value: 0.5474989700654255\n",
      "Best trial so far: 120, value: 0.5539292279711663\n"
     ]
    },
    {
     "name": "stderr",
     "output_type": "stream",
     "text": [
      "[I 2025-03-02 21:39:53,426] Trial 180 finished with value: 0.5516584988392497 and parameters: {'criterion': 'MSELoss', 'first_layer_size': 48, 'num_layers': 5, 'confidence_threshold': 0.018010950059343604, 'dropout': 0.32627011030121883, 'lr': 0.009563438246240192, 'n_epochs': 128}. Best is trial 120 with value: 0.5539292279711663.\n"
     ]
    },
    {
     "name": "stdout",
     "output_type": "stream",
     "text": [
      "Trial 180 finished with value: 0.5516584988392497\n",
      "Best trial so far: 120, value: 0.5539292279711663\n"
     ]
    },
    {
     "name": "stderr",
     "output_type": "stream",
     "text": [
      "[I 2025-03-02 21:40:18,442] Trial 181 finished with value: 0.5529464028600803 and parameters: {'criterion': 'MSELoss', 'first_layer_size': 48, 'num_layers': 5, 'confidence_threshold': 0.01795817302706577, 'dropout': 0.32642666567262996, 'lr': 0.009529458535861303, 'n_epochs': 128}. Best is trial 120 with value: 0.5539292279711663.\n"
     ]
    },
    {
     "name": "stdout",
     "output_type": "stream",
     "text": [
      "Trial 181 finished with value: 0.5529464028600803\n",
      "Best trial so far: 120, value: 0.5539292279711663\n"
     ]
    },
    {
     "name": "stderr",
     "output_type": "stream",
     "text": [
      "[I 2025-03-02 21:40:44,251] Trial 182 finished with value: 0.5526196059497147 and parameters: {'criterion': 'MSELoss', 'first_layer_size': 48, 'num_layers': 5, 'confidence_threshold': 0.01779737510238062, 'dropout': 0.326419450470161, 'lr': 0.009405597518380396, 'n_epochs': 128}. Best is trial 120 with value: 0.5539292279711663.\n"
     ]
    },
    {
     "name": "stdout",
     "output_type": "stream",
     "text": [
      "Trial 182 finished with value: 0.5526196059497147\n",
      "Best trial so far: 120, value: 0.5539292279711663\n"
     ]
    },
    {
     "name": "stderr",
     "output_type": "stream",
     "text": [
      "[I 2025-03-02 21:41:05,493] Trial 183 finished with value: 0.5333589863728425 and parameters: {'criterion': 'MSELoss', 'first_layer_size': 48, 'num_layers': 5, 'confidence_threshold': 0.017922889863452394, 'dropout': 0.3238645545378112, 'lr': 0.009204396584993082, 'n_epochs': 104}. Best is trial 120 with value: 0.5539292279711663.\n"
     ]
    },
    {
     "name": "stdout",
     "output_type": "stream",
     "text": [
      "Trial 183 finished with value: 0.5333589863728425\n",
      "Best trial so far: 120, value: 0.5539292279711663\n"
     ]
    },
    {
     "name": "stderr",
     "output_type": "stream",
     "text": [
      "[I 2025-03-02 21:41:35,353] Trial 184 finished with value: 0.5020660805812536 and parameters: {'criterion': 'MSELoss', 'first_layer_size': 32, 'num_layers': 5, 'confidence_threshold': 0.019272553145910833, 'dropout': 0.3264343949877176, 'lr': 0.00940148867020819, 'n_epochs': 185}. Best is trial 120 with value: 0.5539292279711663.\n"
     ]
    },
    {
     "name": "stdout",
     "output_type": "stream",
     "text": [
      "Trial 184 finished with value: 0.5020660805812536\n",
      "Best trial so far: 120, value: 0.5539292279711663\n"
     ]
    },
    {
     "name": "stderr",
     "output_type": "stream",
     "text": [
      "[I 2025-03-02 21:41:58,020] Trial 185 finished with value: 0.5256388733749384 and parameters: {'criterion': 'MSELoss', 'first_layer_size': 48, 'num_layers': 5, 'confidence_threshold': 0.016251625686582588, 'dropout': 0.32757624163383303, 'lr': 0.008546001264116048, 'n_epochs': 106}. Best is trial 120 with value: 0.5539292279711663.\n"
     ]
    },
    {
     "name": "stdout",
     "output_type": "stream",
     "text": [
      "Trial 185 finished with value: 0.5256388733749384\n",
      "Best trial so far: 120, value: 0.5539292279711663\n"
     ]
    },
    {
     "name": "stderr",
     "output_type": "stream",
     "text": [
      "[I 2025-03-02 21:42:19,922] Trial 186 finished with value: 0.5325339315268869 and parameters: {'criterion': 'MSELoss', 'first_layer_size': 48, 'num_layers': 5, 'confidence_threshold': 0.01745742805164249, 'dropout': 0.32080976007883527, 'lr': 0.00893580264309859, 'n_epochs': 104}. Best is trial 120 with value: 0.5539292279711663.\n"
     ]
    },
    {
     "name": "stdout",
     "output_type": "stream",
     "text": [
      "Trial 186 finished with value: 0.5325339315268869\n",
      "Best trial so far: 120, value: 0.5539292279711663\n"
     ]
    },
    {
     "name": "stderr",
     "output_type": "stream",
     "text": [
      "[I 2025-03-02 21:42:40,600] Trial 187 finished with value: 0.5271278866998343 and parameters: {'criterion': 'MSELoss', 'first_layer_size': 48, 'num_layers': 5, 'confidence_threshold': 0.018410860461856002, 'dropout': 0.32594875926152034, 'lr': 0.009502639472844658, 'n_epochs': 101}. Best is trial 120 with value: 0.5539292279711663.\n"
     ]
    },
    {
     "name": "stdout",
     "output_type": "stream",
     "text": [
      "Trial 187 finished with value: 0.5271278866998343\n",
      "Best trial so far: 120, value: 0.5539292279711663\n"
     ]
    },
    {
     "name": "stderr",
     "output_type": "stream",
     "text": [
      "[I 2025-03-02 21:43:01,750] Trial 188 finished with value: 0.5350828495854929 and parameters: {'criterion': 'MSELoss', 'first_layer_size': 48, 'num_layers': 5, 'confidence_threshold': 0.019725478731083802, 'dropout': 0.32327169202459344, 'lr': 0.009147554380189622, 'n_epochs': 105}. Best is trial 120 with value: 0.5539292279711663.\n"
     ]
    },
    {
     "name": "stdout",
     "output_type": "stream",
     "text": [
      "Trial 188 finished with value: 0.5350828495854929\n",
      "Best trial so far: 120, value: 0.5539292279711663\n"
     ]
    },
    {
     "name": "stderr",
     "output_type": "stream",
     "text": [
      "[I 2025-03-02 21:43:29,006] Trial 189 finished with value: 0.5493581864511049 and parameters: {'criterion': 'MSELoss', 'first_layer_size': 48, 'num_layers': 5, 'confidence_threshold': 0.016356556757491, 'dropout': 0.3292374202252121, 'lr': 0.00953073298430944, 'n_epochs': 130}. Best is trial 120 with value: 0.5539292279711663.\n"
     ]
    },
    {
     "name": "stdout",
     "output_type": "stream",
     "text": [
      "Trial 189 finished with value: 0.5493581864511049\n",
      "Best trial so far: 120, value: 0.5539292279711663\n"
     ]
    },
    {
     "name": "stderr",
     "output_type": "stream",
     "text": [
      "[I 2025-03-02 21:43:53,169] Trial 190 finished with value: 0.5395158405731022 and parameters: {'criterion': 'MSELoss', 'first_layer_size': 48, 'num_layers': 5, 'confidence_threshold': 0.017574251438585976, 'dropout': 0.3340696121078749, 'lr': 0.009998417312278919, 'n_epochs': 106}. Best is trial 120 with value: 0.5539292279711663.\n"
     ]
    },
    {
     "name": "stdout",
     "output_type": "stream",
     "text": [
      "Trial 190 finished with value: 0.5395158405731022\n",
      "Best trial so far: 120, value: 0.5539292279711663\n"
     ]
    },
    {
     "name": "stderr",
     "output_type": "stream",
     "text": [
      "[I 2025-03-02 21:44:18,624] Trial 191 finished with value: 0.5244940689407295 and parameters: {'criterion': 'MSELoss', 'first_layer_size': 48, 'num_layers': 5, 'confidence_threshold': 0.01643561692708188, 'dropout': 0.3293755449429165, 'lr': 0.009459825763212356, 'n_epochs': 100}. Best is trial 120 with value: 0.5539292279711663.\n"
     ]
    },
    {
     "name": "stdout",
     "output_type": "stream",
     "text": [
      "Trial 191 finished with value: 0.5244940689407295\n",
      "Best trial so far: 120, value: 0.5539292279711663\n"
     ]
    },
    {
     "name": "stderr",
     "output_type": "stream",
     "text": [
      "[I 2025-03-02 21:44:39,062] Trial 192 finished with value: 0.5248095770565246 and parameters: {'criterion': 'MSELoss', 'first_layer_size': 48, 'num_layers': 5, 'confidence_threshold': 0.01859629218997776, 'dropout': 0.32887416377540346, 'lr': 0.00954204099815416, 'n_epochs': 100}. Best is trial 120 with value: 0.5539292279711663.\n"
     ]
    },
    {
     "name": "stdout",
     "output_type": "stream",
     "text": [
      "Trial 192 finished with value: 0.5248095770565246\n",
      "Best trial so far: 120, value: 0.5539292279711663\n"
     ]
    },
    {
     "name": "stderr",
     "output_type": "stream",
     "text": [
      "[I 2025-03-02 21:44:57,822] Trial 193 finished with value: 0.5296998163692713 and parameters: {'criterion': 'MSELoss', 'first_layer_size': 48, 'num_layers': 5, 'confidence_threshold': 0.020882680498817183, 'dropout': 0.3248826576076873, 'lr': 0.008929810915250047, 'n_epochs': 100}. Best is trial 120 with value: 0.5539292279711663.\n"
     ]
    },
    {
     "name": "stdout",
     "output_type": "stream",
     "text": [
      "Trial 193 finished with value: 0.5296998163692713\n",
      "Best trial so far: 120, value: 0.5539292279711663\n"
     ]
    },
    {
     "name": "stderr",
     "output_type": "stream",
     "text": [
      "[I 2025-03-02 21:45:20,425] Trial 194 finished with value: 0.5268283759912171 and parameters: {'criterion': 'MSELoss', 'first_layer_size': 48, 'num_layers': 5, 'confidence_threshold': 0.016923218891424306, 'dropout': 0.3275643411437186, 'lr': 0.009577899843622792, 'n_epochs': 105}. Best is trial 120 with value: 0.5539292279711663.\n"
     ]
    },
    {
     "name": "stdout",
     "output_type": "stream",
     "text": [
      "Trial 194 finished with value: 0.5268283759912171\n",
      "Best trial so far: 120, value: 0.5539292279711663\n"
     ]
    },
    {
     "name": "stderr",
     "output_type": "stream",
     "text": [
      "[I 2025-03-02 21:45:34,240] Trial 195 finished with value: 0.473341440169137 and parameters: {'criterion': 'MSELoss', 'first_layer_size': 12, 'num_layers': 2, 'confidence_threshold': 0.015776439039503095, 'dropout': 0.3306361483531389, 'lr': 0.009998573868214228, 'n_epochs': 121}. Best is trial 120 with value: 0.5539292279711663.\n"
     ]
    },
    {
     "name": "stdout",
     "output_type": "stream",
     "text": [
      "Trial 195 finished with value: 0.473341440169137\n",
      "Best trial so far: 120, value: 0.5539292279711663\n"
     ]
    },
    {
     "name": "stderr",
     "output_type": "stream",
     "text": [
      "[I 2025-03-02 21:46:00,310] Trial 196 finished with value: 0.5232396026778047 and parameters: {'criterion': 'MSELoss', 'first_layer_size': 64, 'num_layers': 5, 'confidence_threshold': 0.014653817932424625, 'dropout': 0.3326778473194077, 'lr': 0.008464236512999922, 'n_epochs': 104}. Best is trial 120 with value: 0.5539292279711663.\n"
     ]
    },
    {
     "name": "stdout",
     "output_type": "stream",
     "text": [
      "Trial 196 finished with value: 0.5232396026778047\n",
      "Best trial so far: 120, value: 0.5539292279711663\n"
     ]
    },
    {
     "name": "stderr",
     "output_type": "stream",
     "text": [
      "[I 2025-03-02 21:46:25,790] Trial 197 finished with value: 0.5503209518600345 and parameters: {'criterion': 'MSELoss', 'first_layer_size': 48, 'num_layers': 5, 'confidence_threshold': 0.01863511244728289, 'dropout': 0.33637766564285637, 'lr': 0.009154175332404096, 'n_epochs': 129}. Best is trial 120 with value: 0.5539292279711663.\n"
     ]
    },
    {
     "name": "stdout",
     "output_type": "stream",
     "text": [
      "Trial 197 finished with value: 0.5503209518600345\n",
      "Best trial so far: 120, value: 0.5539292279711663\n"
     ]
    },
    {
     "name": "stderr",
     "output_type": "stream",
     "text": [
      "[I 2025-03-02 21:46:55,918] Trial 198 finished with value: 0.5459218931992132 and parameters: {'criterion': 'MSELoss', 'first_layer_size': 48, 'num_layers': 5, 'confidence_threshold': 0.02023303119825384, 'dropout': 0.3357131159948976, 'lr': 0.008961898537439958, 'n_epochs': 133}. Best is trial 120 with value: 0.5539292279711663.\n"
     ]
    },
    {
     "name": "stdout",
     "output_type": "stream",
     "text": [
      "Trial 198 finished with value: 0.5459218931992132\n",
      "Best trial so far: 120, value: 0.5539292279711663\n"
     ]
    },
    {
     "name": "stderr",
     "output_type": "stream",
     "text": [
      "[I 2025-03-02 21:47:20,655] Trial 199 finished with value: 0.5358720540225839 and parameters: {'criterion': 'MSELoss', 'first_layer_size': 48, 'num_layers': 5, 'confidence_threshold': 0.01906387680395761, 'dropout': 0.33300322015850686, 'lr': 0.009211888369065651, 'n_epochs': 106}. Best is trial 120 with value: 0.5539292279711663.\n"
     ]
    },
    {
     "name": "stdout",
     "output_type": "stream",
     "text": [
      "Trial 199 finished with value: 0.5358720540225839\n",
      "Best trial so far: 120, value: 0.5539292279711663\n"
     ]
    },
    {
     "name": "stderr",
     "output_type": "stream",
     "text": [
      "[I 2025-03-02 21:47:56,288] Trial 200 finished with value: 0.548560234236777 and parameters: {'criterion': 'MSELoss', 'first_layer_size': 48, 'num_layers': 5, 'confidence_threshold': 0.017840259585955948, 'dropout': 0.33639223487456166, 'lr': 0.00866543306166436, 'n_epochs': 128}. Best is trial 120 with value: 0.5539292279711663.\n"
     ]
    },
    {
     "name": "stdout",
     "output_type": "stream",
     "text": [
      "Trial 200 finished with value: 0.548560234236777\n",
      "Best trial so far: 120, value: 0.5539292279711663\n"
     ]
    },
    {
     "name": "stderr",
     "output_type": "stream",
     "text": [
      "[I 2025-03-02 21:48:20,694] Trial 201 finished with value: 0.5317879442942262 and parameters: {'criterion': 'MSELoss', 'first_layer_size': 48, 'num_layers': 5, 'confidence_threshold': 0.01652693789873069, 'dropout': 0.3298394696665706, 'lr': 0.009550188426174963, 'n_epochs': 104}. Best is trial 120 with value: 0.5539292279711663.\n"
     ]
    },
    {
     "name": "stdout",
     "output_type": "stream",
     "text": [
      "Trial 201 finished with value: 0.5317879442942262\n",
      "Best trial so far: 120, value: 0.5539292279711663\n"
     ]
    },
    {
     "name": "stderr",
     "output_type": "stream",
     "text": [
      "[I 2025-03-02 21:48:38,979] Trial 202 finished with value: 0.5252165053643412 and parameters: {'criterion': 'MSELoss', 'first_layer_size': 48, 'num_layers': 5, 'confidence_threshold': 0.017580994003623646, 'dropout': 0.3269736354168634, 'lr': 0.009351943881455447, 'n_epochs': 100}. Best is trial 120 with value: 0.5539292279711663.\n"
     ]
    },
    {
     "name": "stdout",
     "output_type": "stream",
     "text": [
      "Trial 202 finished with value: 0.5252165053643412\n",
      "Best trial so far: 120, value: 0.5539292279711663\n"
     ]
    },
    {
     "name": "stderr",
     "output_type": "stream",
     "text": [
      "[I 2025-03-02 21:48:58,061] Trial 203 finished with value: 0.533141700433505 and parameters: {'criterion': 'MSELoss', 'first_layer_size': 48, 'num_layers': 5, 'confidence_threshold': 0.014112109990630985, 'dropout': 0.3245949732384255, 'lr': 0.009974397103588533, 'n_epochs': 105}. Best is trial 120 with value: 0.5539292279711663.\n"
     ]
    },
    {
     "name": "stdout",
     "output_type": "stream",
     "text": [
      "Trial 203 finished with value: 0.533141700433505\n",
      "Best trial so far: 120, value: 0.5539292279711663\n"
     ]
    },
    {
     "name": "stderr",
     "output_type": "stream",
     "text": [
      "[I 2025-03-02 21:49:21,202] Trial 204 finished with value: 0.5506149703300424 and parameters: {'criterion': 'MSELoss', 'first_layer_size': 48, 'num_layers': 5, 'confidence_threshold': 0.015958621741972042, 'dropout': 0.328681637268778, 'lr': 0.009578795355612497, 'n_epochs': 129}. Best is trial 120 with value: 0.5539292279711663.\n"
     ]
    },
    {
     "name": "stdout",
     "output_type": "stream",
     "text": [
      "Trial 204 finished with value: 0.5506149703300424\n",
      "Best trial so far: 120, value: 0.5539292279711663\n"
     ]
    },
    {
     "name": "stderr",
     "output_type": "stream",
     "text": [
      "[I 2025-03-02 21:49:45,006] Trial 205 finished with value: 0.5296093791625058 and parameters: {'criterion': 'MSELoss', 'first_layer_size': 48, 'num_layers': 5, 'confidence_threshold': 0.019484301254208195, 'dropout': 0.33134137868920216, 'lr': 0.009054341556421505, 'n_epochs': 106}. Best is trial 120 with value: 0.5539292279711663.\n"
     ]
    },
    {
     "name": "stdout",
     "output_type": "stream",
     "text": [
      "Trial 205 finished with value: 0.5296093791625058\n",
      "Best trial so far: 120, value: 0.5539292279711663\n"
     ]
    },
    {
     "name": "stderr",
     "output_type": "stream",
     "text": [
      "[I 2025-03-02 21:50:10,901] Trial 206 finished with value: 0.5452924347487866 and parameters: {'criterion': 'MSELoss', 'first_layer_size': 48, 'num_layers': 5, 'confidence_threshold': 0.02183589607803927, 'dropout': 0.2864370144934932, 'lr': 0.009631444473641646, 'n_epochs': 116}. Best is trial 120 with value: 0.5539292279711663.\n"
     ]
    },
    {
     "name": "stdout",
     "output_type": "stream",
     "text": [
      "Trial 206 finished with value: 0.5452924347487866\n",
      "Best trial so far: 120, value: 0.5539292279711663\n"
     ]
    },
    {
     "name": "stderr",
     "output_type": "stream",
     "text": [
      "[I 2025-03-02 21:50:33,994] Trial 207 finished with value: 0.5313027228558951 and parameters: {'criterion': 'SmoothL1Loss', 'first_layer_size': 48, 'num_layers': 5, 'confidence_threshold': 0.018449528925227464, 'dropout': 0.3339532201362646, 'lr': 0.008804930118798949, 'n_epochs': 104}. Best is trial 120 with value: 0.5539292279711663.\n"
     ]
    },
    {
     "name": "stdout",
     "output_type": "stream",
     "text": [
      "Trial 207 finished with value: 0.5313027228558951\n",
      "Best trial so far: 120, value: 0.5539292279711663\n"
     ]
    },
    {
     "name": "stderr",
     "output_type": "stream",
     "text": [
      "[I 2025-03-02 21:51:04,175] Trial 208 finished with value: 0.5473461491591008 and parameters: {'criterion': 'MSELoss', 'first_layer_size': 48, 'num_layers': 5, 'confidence_threshold': 0.015281312850805728, 'dropout': 0.32684741232671416, 'lr': 0.00918733839353029, 'n_epochs': 129}. Best is trial 120 with value: 0.5539292279711663.\n"
     ]
    },
    {
     "name": "stdout",
     "output_type": "stream",
     "text": [
      "Trial 208 finished with value: 0.5473461491591008\n",
      "Best trial so far: 120, value: 0.5539292279711663\n"
     ]
    },
    {
     "name": "stderr",
     "output_type": "stream",
     "text": [
      "[I 2025-03-02 21:51:19,847] Trial 209 finished with value: 0.299246565661313 and parameters: {'criterion': 'MSELoss', 'first_layer_size': 16, 'num_layers': 4, 'confidence_threshold': 0.013517869639286018, 'dropout': 0.3285454359721978, 'lr': 0.009995175879249486, 'n_epochs': 126}. Best is trial 120 with value: 0.5539292279711663.\n"
     ]
    },
    {
     "name": "stdout",
     "output_type": "stream",
     "text": [
      "Trial 209 finished with value: 0.299246565661313\n",
      "Best trial so far: 120, value: 0.5539292279711663\n"
     ]
    },
    {
     "name": "stderr",
     "output_type": "stream",
     "text": [
      "[I 2025-03-02 21:51:42,162] Trial 210 finished with value: 0.5348551657042393 and parameters: {'criterion': 'MSELoss', 'first_layer_size': 48, 'num_layers': 5, 'confidence_threshold': 0.017256622877401165, 'dropout': 0.32180577119424014, 'lr': 0.009558801712421445, 'n_epochs': 106}. Best is trial 120 with value: 0.5539292279711663.\n"
     ]
    },
    {
     "name": "stdout",
     "output_type": "stream",
     "text": [
      "Trial 210 finished with value: 0.5348551657042393\n",
      "Best trial so far: 120, value: 0.5539292279711663\n"
     ]
    },
    {
     "name": "stderr",
     "output_type": "stream",
     "text": [
      "[I 2025-03-02 21:52:04,788] Trial 211 finished with value: 0.5335442340649977 and parameters: {'criterion': 'MSELoss', 'first_layer_size': 48, 'num_layers': 5, 'confidence_threshold': 0.015963404897080126, 'dropout': 0.3299996165572099, 'lr': 0.00955696690746156, 'n_epochs': 106}. Best is trial 120 with value: 0.5539292279711663.\n"
     ]
    },
    {
     "name": "stdout",
     "output_type": "stream",
     "text": [
      "Trial 211 finished with value: 0.5335442340649977\n",
      "Best trial so far: 120, value: 0.5539292279711663\n"
     ]
    },
    {
     "name": "stderr",
     "output_type": "stream",
     "text": [
      "[I 2025-03-02 21:52:28,698] Trial 212 finished with value: 0.5328791329984911 and parameters: {'criterion': 'MSELoss', 'first_layer_size': 48, 'num_layers': 5, 'confidence_threshold': 0.016815728582961445, 'dropout': 0.3319734992904079, 'lr': 0.009298504944468383, 'n_epochs': 104}. Best is trial 120 with value: 0.5539292279711663.\n"
     ]
    },
    {
     "name": "stdout",
     "output_type": "stream",
     "text": [
      "Trial 212 finished with value: 0.5328791329984911\n",
      "Best trial so far: 120, value: 0.5539292279711663\n"
     ]
    },
    {
     "name": "stderr",
     "output_type": "stream",
     "text": [
      "[I 2025-03-02 21:53:03,048] Trial 213 finished with value: 0.5517438388994675 and parameters: {'criterion': 'MSELoss', 'first_layer_size': 48, 'num_layers': 5, 'confidence_threshold': 0.01581725519497347, 'dropout': 0.32853167398586997, 'lr': 0.009560951774078213, 'n_epochs': 132}. Best is trial 120 with value: 0.5539292279711663.\n"
     ]
    },
    {
     "name": "stdout",
     "output_type": "stream",
     "text": [
      "Trial 213 finished with value: 0.5517438388994675\n",
      "Best trial so far: 120, value: 0.5539292279711663\n"
     ]
    },
    {
     "name": "stderr",
     "output_type": "stream",
     "text": [
      "[I 2025-03-02 21:53:25,163] Trial 214 finished with value: 0.5272876216826828 and parameters: {'criterion': 'MSELoss', 'first_layer_size': 48, 'num_layers': 5, 'confidence_threshold': 0.01477425874437927, 'dropout': 0.3256153072778935, 'lr': 0.008873354913221476, 'n_epochs': 100}. Best is trial 120 with value: 0.5539292279711663.\n"
     ]
    },
    {
     "name": "stdout",
     "output_type": "stream",
     "text": [
      "Trial 214 finished with value: 0.5272876216826828\n",
      "Best trial so far: 120, value: 0.5539292279711663\n"
     ]
    },
    {
     "name": "stderr",
     "output_type": "stream",
     "text": [
      "[I 2025-03-02 21:53:47,239] Trial 215 finished with value: 0.4655290383613984 and parameters: {'criterion': 'L1Loss', 'first_layer_size': 48, 'num_layers': 5, 'confidence_threshold': 0.018430702425835523, 'dropout': 0.3279723147569242, 'lr': 0.009955858346619271, 'n_epochs': 104}. Best is trial 120 with value: 0.5539292279711663.\n"
     ]
    },
    {
     "name": "stdout",
     "output_type": "stream",
     "text": [
      "Trial 215 finished with value: 0.4655290383613984\n",
      "Best trial so far: 120, value: 0.5539292279711663\n"
     ]
    },
    {
     "name": "stderr",
     "output_type": "stream",
     "text": [
      "[I 2025-03-02 21:54:24,195] Trial 216 finished with value: 0.3166274921904112 and parameters: {'criterion': 'MSELoss', 'first_layer_size': 56, 'num_layers': 7, 'confidence_threshold': 0.020657604274795894, 'dropout': 0.33343028870816854, 'lr': 0.002751257197584184, 'n_epochs': 118}. Best is trial 120 with value: 0.5539292279711663.\n"
     ]
    },
    {
     "name": "stdout",
     "output_type": "stream",
     "text": [
      "Trial 216 finished with value: 0.3166274921904112\n",
      "Best trial so far: 120, value: 0.5539292279711663\n"
     ]
    },
    {
     "name": "stderr",
     "output_type": "stream",
     "text": [
      "[I 2025-03-02 21:54:51,016] Trial 217 finished with value: 0.547015181463377 and parameters: {'criterion': 'MSELoss', 'first_layer_size': 48, 'num_layers': 5, 'confidence_threshold': 0.015881638252855036, 'dropout': 0.3311742773783979, 'lr': 0.009220337421956744, 'n_epochs': 129}. Best is trial 120 with value: 0.5539292279711663.\n"
     ]
    },
    {
     "name": "stdout",
     "output_type": "stream",
     "text": [
      "Trial 217 finished with value: 0.547015181463377\n",
      "Best trial so far: 120, value: 0.5539292279711663\n"
     ]
    },
    {
     "name": "stderr",
     "output_type": "stream",
     "text": [
      "[I 2025-03-02 21:55:09,613] Trial 218 finished with value: 0.5319993003455818 and parameters: {'criterion': 'MSELoss', 'first_layer_size': 48, 'num_layers': 5, 'confidence_threshold': 0.01410411814821589, 'dropout': 0.32393511923735685, 'lr': 0.008473485667898274, 'n_epochs': 104}. Best is trial 120 with value: 0.5539292279711663.\n"
     ]
    },
    {
     "name": "stdout",
     "output_type": "stream",
     "text": [
      "Trial 218 finished with value: 0.5319993003455818\n",
      "Best trial so far: 120, value: 0.5539292279711663\n"
     ]
    },
    {
     "name": "stderr",
     "output_type": "stream",
     "text": [
      "[I 2025-03-02 21:55:35,446] Trial 219 finished with value: 0.5520822929298466 and parameters: {'criterion': 'MSELoss', 'first_layer_size': 48, 'num_layers': 5, 'confidence_threshold': 0.012743742909178134, 'dropout': 0.3265417842389044, 'lr': 0.009632722353743283, 'n_epochs': 128}. Best is trial 120 with value: 0.5539292279711663.\n"
     ]
    },
    {
     "name": "stdout",
     "output_type": "stream",
     "text": [
      "Trial 219 finished with value: 0.5520822929298466\n",
      "Best trial so far: 120, value: 0.5539292279711663\n"
     ]
    },
    {
     "name": "stderr",
     "output_type": "stream",
     "text": [
      "[I 2025-03-02 21:55:58,176] Trial 220 finished with value: 0.5293989013905218 and parameters: {'criterion': 'MSELoss', 'first_layer_size': 48, 'num_layers': 5, 'confidence_threshold': 0.013487259779188361, 'dropout': 0.3257915222033296, 'lr': 0.009179426587022654, 'n_epochs': 106}. Best is trial 120 with value: 0.5539292279711663.\n"
     ]
    },
    {
     "name": "stdout",
     "output_type": "stream",
     "text": [
      "Trial 220 finished with value: 0.5293989013905218\n",
      "Best trial so far: 120, value: 0.5539292279711663\n"
     ]
    },
    {
     "name": "stderr",
     "output_type": "stream",
     "text": [
      "[I 2025-03-02 21:56:18,321] Trial 221 finished with value: 0.5266530572476361 and parameters: {'criterion': 'MSELoss', 'first_layer_size': 48, 'num_layers': 5, 'confidence_threshold': 0.012959784355409128, 'dropout': 0.328437512524096, 'lr': 0.0096088710161719, 'n_epochs': 105}. Best is trial 120 with value: 0.5539292279711663.\n"
     ]
    },
    {
     "name": "stdout",
     "output_type": "stream",
     "text": [
      "Trial 221 finished with value: 0.5266530572476361\n",
      "Best trial so far: 120, value: 0.5539292279711663\n"
     ]
    },
    {
     "name": "stderr",
     "output_type": "stream",
     "text": [
      "[I 2025-03-02 21:56:39,657] Trial 222 finished with value: 0.5333450143980014 and parameters: {'criterion': 'MSELoss', 'first_layer_size': 48, 'num_layers': 5, 'confidence_threshold': 0.017396592192535837, 'dropout': 0.33018974132458245, 'lr': 0.00996203243297343, 'n_epochs': 104}. Best is trial 120 with value: 0.5539292279711663.\n"
     ]
    },
    {
     "name": "stdout",
     "output_type": "stream",
     "text": [
      "Trial 222 finished with value: 0.5333450143980014\n",
      "Best trial so far: 120, value: 0.5539292279711663\n"
     ]
    },
    {
     "name": "stderr",
     "output_type": "stream",
     "text": [
      "[I 2025-03-02 21:57:07,666] Trial 223 finished with value: 0.5497773099690596 and parameters: {'criterion': 'MSELoss', 'first_layer_size': 48, 'num_layers': 5, 'confidence_threshold': 0.015615858684538365, 'dropout': 0.3271438040914894, 'lr': 0.009570363233938537, 'n_epochs': 130}. Best is trial 120 with value: 0.5539292279711663.\n"
     ]
    },
    {
     "name": "stdout",
     "output_type": "stream",
     "text": [
      "Trial 223 finished with value: 0.5497773099690596\n",
      "Best trial so far: 120, value: 0.5539292279711663\n"
     ]
    },
    {
     "name": "stderr",
     "output_type": "stream",
     "text": [
      "[I 2025-03-02 21:57:34,556] Trial 224 finished with value: 0.5518976309147088 and parameters: {'criterion': 'MSELoss', 'first_layer_size': 48, 'num_layers': 5, 'confidence_threshold': 0.015467433206795372, 'dropout': 0.32659707715278613, 'lr': 0.009543976263665335, 'n_epochs': 126}. Best is trial 120 with value: 0.5539292279711663.\n"
     ]
    },
    {
     "name": "stdout",
     "output_type": "stream",
     "text": [
      "Trial 224 finished with value: 0.5518976309147088\n",
      "Best trial so far: 120, value: 0.5539292279711663\n"
     ]
    },
    {
     "name": "stderr",
     "output_type": "stream",
     "text": [
      "[I 2025-03-02 21:57:59,012] Trial 225 finished with value: 0.529497248306375 and parameters: {'criterion': 'MSELoss', 'first_layer_size': 48, 'num_layers': 5, 'confidence_threshold': 0.012433633773955816, 'dropout': 0.322517048995335, 'lr': 0.008752937362979272, 'n_epochs': 106}. Best is trial 120 with value: 0.5539292279711663.\n"
     ]
    },
    {
     "name": "stdout",
     "output_type": "stream",
     "text": [
      "Trial 225 finished with value: 0.529497248306375\n",
      "Best trial so far: 120, value: 0.5539292279711663\n"
     ]
    },
    {
     "name": "stderr",
     "output_type": "stream",
     "text": [
      "[I 2025-03-02 21:58:39,080] Trial 226 finished with value: 0.5099231528773599 and parameters: {'criterion': 'MSELoss', 'first_layer_size': 32, 'num_layers': 5, 'confidence_threshold': 0.015464808825457067, 'dropout': 0.33155211913949745, 'lr': 0.009157352044033857, 'n_epochs': 191}. Best is trial 120 with value: 0.5539292279711663.\n"
     ]
    },
    {
     "name": "stdout",
     "output_type": "stream",
     "text": [
      "Trial 226 finished with value: 0.5099231528773599\n",
      "Best trial so far: 120, value: 0.5539292279711663\n"
     ]
    },
    {
     "name": "stderr",
     "output_type": "stream",
     "text": [
      "[I 2025-03-02 21:59:06,523] Trial 227 finished with value: 0.5372621616798294 and parameters: {'criterion': 'MSELoss', 'first_layer_size': 48, 'num_layers': 5, 'confidence_threshold': 0.014346422469900654, 'dropout': 0.3347285477089833, 'lr': 0.009640832117103586, 'n_epochs': 104}. Best is trial 120 with value: 0.5539292279711663.\n"
     ]
    },
    {
     "name": "stdout",
     "output_type": "stream",
     "text": [
      "Trial 227 finished with value: 0.5372621616798294\n",
      "Best trial so far: 120, value: 0.5539292279711663\n"
     ]
    },
    {
     "name": "stderr",
     "output_type": "stream",
     "text": [
      "[I 2025-03-02 21:59:30,924] Trial 228 finished with value: 0.5468527071280445 and parameters: {'criterion': 'MSELoss', 'first_layer_size': 48, 'num_layers': 5, 'confidence_threshold': 0.016633832820909467, 'dropout': 0.32564023902346184, 'lr': 0.00999949752738246, 'n_epochs': 126}. Best is trial 120 with value: 0.5539292279711663.\n"
     ]
    },
    {
     "name": "stdout",
     "output_type": "stream",
     "text": [
      "Trial 228 finished with value: 0.5468527071280445\n",
      "Best trial so far: 120, value: 0.5539292279711663\n"
     ]
    },
    {
     "name": "stderr",
     "output_type": "stream",
     "text": [
      "[I 2025-03-02 21:59:50,915] Trial 229 finished with value: 0.5281526475269525 and parameters: {'criterion': 'MSELoss', 'first_layer_size': 48, 'num_layers': 5, 'confidence_threshold': 0.018092233605474184, 'dropout': 0.32957983432890114, 'lr': 0.009172424711069486, 'n_epochs': 106}. Best is trial 120 with value: 0.5539292279711663.\n"
     ]
    },
    {
     "name": "stdout",
     "output_type": "stream",
     "text": [
      "Trial 229 finished with value: 0.5281526475269525\n",
      "Best trial so far: 120, value: 0.5539292279711663\n"
     ]
    },
    {
     "name": "stderr",
     "output_type": "stream",
     "text": [
      "[I 2025-03-02 22:00:12,219] Trial 230 finished with value: 0.5311467928949835 and parameters: {'criterion': 'MSELoss', 'first_layer_size': 48, 'num_layers': 5, 'confidence_threshold': 0.01432700272638769, 'dropout': 0.33732714784880574, 'lr': 0.008808698533001204, 'n_epochs': 105}. Best is trial 120 with value: 0.5539292279711663.\n"
     ]
    },
    {
     "name": "stdout",
     "output_type": "stream",
     "text": [
      "Trial 230 finished with value: 0.5311467928949835\n",
      "Best trial so far: 120, value: 0.5539292279711663\n"
     ]
    },
    {
     "name": "stderr",
     "output_type": "stream",
     "text": [
      "[I 2025-03-02 22:00:45,342] Trial 231 finished with value: 0.5501444351084205 and parameters: {'criterion': 'MSELoss', 'first_layer_size': 48, 'num_layers': 5, 'confidence_threshold': 0.015942442964064094, 'dropout': 0.3271962698364362, 'lr': 0.009519206044810853, 'n_epochs': 129}. Best is trial 120 with value: 0.5539292279711663.\n"
     ]
    },
    {
     "name": "stdout",
     "output_type": "stream",
     "text": [
      "Trial 231 finished with value: 0.5501444351084205\n",
      "Best trial so far: 120, value: 0.5539292279711663\n"
     ]
    },
    {
     "name": "stderr",
     "output_type": "stream",
     "text": [
      "[I 2025-03-02 22:01:14,271] Trial 232 finished with value: 0.5514797419356178 and parameters: {'criterion': 'MSELoss', 'first_layer_size': 48, 'num_layers': 5, 'confidence_threshold': 0.016356807720625074, 'dropout': 0.32756977855547, 'lr': 0.009467384315034215, 'n_epochs': 130}. Best is trial 120 with value: 0.5539292279711663.\n"
     ]
    },
    {
     "name": "stdout",
     "output_type": "stream",
     "text": [
      "Trial 232 finished with value: 0.5514797419356178\n",
      "Best trial so far: 120, value: 0.5539292279711663\n"
     ]
    },
    {
     "name": "stderr",
     "output_type": "stream",
     "text": [
      "[I 2025-03-02 22:01:46,524] Trial 233 finished with value: 0.549069877064618 and parameters: {'criterion': 'MSELoss', 'first_layer_size': 48, 'num_layers': 5, 'confidence_threshold': 0.017342861769318794, 'dropout': 0.32704325904048476, 'lr': 0.009365235431536929, 'n_epochs': 137}. Best is trial 120 with value: 0.5539292279711663.\n"
     ]
    },
    {
     "name": "stdout",
     "output_type": "stream",
     "text": [
      "Trial 233 finished with value: 0.549069877064618\n",
      "Best trial so far: 120, value: 0.5539292279711663\n"
     ]
    },
    {
     "name": "stderr",
     "output_type": "stream",
     "text": [
      "[I 2025-03-02 22:02:10,981] Trial 234 finished with value: 0.5315687579745263 and parameters: {'criterion': 'MSELoss', 'first_layer_size': 48, 'num_layers': 5, 'confidence_threshold': 0.016727846469211285, 'dropout': 0.3242204110541943, 'lr': 0.009176081888780933, 'n_epochs': 107}. Best is trial 120 with value: 0.5539292279711663.\n"
     ]
    },
    {
     "name": "stdout",
     "output_type": "stream",
     "text": [
      "Trial 234 finished with value: 0.5315687579745263\n",
      "Best trial so far: 120, value: 0.5539292279711663\n"
     ]
    },
    {
     "name": "stderr",
     "output_type": "stream",
     "text": [
      "[I 2025-03-02 22:02:31,148] Trial 235 finished with value: 0.5291929410967229 and parameters: {'criterion': 'MSELoss', 'first_layer_size': 48, 'num_layers': 5, 'confidence_threshold': 0.015123309756066239, 'dropout': 0.328332283736184, 'lr': 0.009996227274870196, 'n_epochs': 100}. Best is trial 120 with value: 0.5539292279711663.\n"
     ]
    },
    {
     "name": "stdout",
     "output_type": "stream",
     "text": [
      "Trial 235 finished with value: 0.5291929410967229\n",
      "Best trial so far: 120, value: 0.5539292279711663\n"
     ]
    },
    {
     "name": "stderr",
     "output_type": "stream",
     "text": [
      "[I 2025-03-02 22:02:52,756] Trial 236 finished with value: 0.5290423486081972 and parameters: {'criterion': 'MSELoss', 'first_layer_size': 48, 'num_layers': 5, 'confidence_threshold': 0.01309780221491104, 'dropout': 0.3253527205953212, 'lr': 0.00958044708286082, 'n_epochs': 100}. Best is trial 120 with value: 0.5539292279711663.\n"
     ]
    },
    {
     "name": "stdout",
     "output_type": "stream",
     "text": [
      "Trial 236 finished with value: 0.5290423486081972\n",
      "Best trial so far: 120, value: 0.5539292279711663\n"
     ]
    },
    {
     "name": "stderr",
     "output_type": "stream",
     "text": [
      "[I 2025-03-02 22:03:17,271] Trial 237 finished with value: 0.5325703172215591 and parameters: {'criterion': 'MSELoss', 'first_layer_size': 48, 'num_layers': 5, 'confidence_threshold': 0.01878176833283982, 'dropout': 0.3325728787302769, 'lr': 0.00892190991750875, 'n_epochs': 105}. Best is trial 120 with value: 0.5539292279711663.\n"
     ]
    },
    {
     "name": "stdout",
     "output_type": "stream",
     "text": [
      "Trial 237 finished with value: 0.5325703172215591\n",
      "Best trial so far: 120, value: 0.5539292279711663\n"
     ]
    },
    {
     "name": "stderr",
     "output_type": "stream",
     "text": [
      "[I 2025-03-02 22:03:40,998] Trial 238 finished with value: 0.5304927560358748 and parameters: {'criterion': 'MSELoss', 'first_layer_size': 48, 'num_layers': 5, 'confidence_threshold': 0.01631163603379423, 'dropout': 0.3296932809172076, 'lr': 0.009475600960371006, 'n_epochs': 103}. Best is trial 120 with value: 0.5539292279711663.\n"
     ]
    },
    {
     "name": "stdout",
     "output_type": "stream",
     "text": [
      "Trial 238 finished with value: 0.5304927560358748\n",
      "Best trial so far: 120, value: 0.5539292279711663\n"
     ]
    },
    {
     "name": "stderr",
     "output_type": "stream",
     "text": [
      "[I 2025-03-02 22:04:05,834] Trial 239 finished with value: 0.5311719019292469 and parameters: {'criterion': 'MSELoss', 'first_layer_size': 64, 'num_layers': 5, 'confidence_threshold': 0.014743807468490298, 'dropout': 0.3271116094909367, 'lr': 0.008340989034317825, 'n_epochs': 100}. Best is trial 120 with value: 0.5539292279711663.\n"
     ]
    },
    {
     "name": "stdout",
     "output_type": "stream",
     "text": [
      "Trial 239 finished with value: 0.5311719019292469\n",
      "Best trial so far: 120, value: 0.5539292279711663\n"
     ]
    },
    {
     "name": "stderr",
     "output_type": "stream",
     "text": [
      "[I 2025-03-02 22:04:33,725] Trial 240 finished with value: 0.46468155363575125 and parameters: {'criterion': 'MSELoss', 'first_layer_size': 12, 'num_layers': 3, 'confidence_threshold': 0.01788336601398023, 'dropout': 0.3225125499410501, 'lr': 0.009550145852787526, 'n_epochs': 230}. Best is trial 120 with value: 0.5539292279711663.\n"
     ]
    },
    {
     "name": "stdout",
     "output_type": "stream",
     "text": [
      "Trial 240 finished with value: 0.46468155363575125\n",
      "Best trial so far: 120, value: 0.5539292279711663\n"
     ]
    },
    {
     "name": "stderr",
     "output_type": "stream",
     "text": [
      "[I 2025-03-02 22:05:04,399] Trial 241 finished with value: 0.5515380517029974 and parameters: {'criterion': 'MSELoss', 'first_layer_size': 48, 'num_layers': 5, 'confidence_threshold': 0.015871109979459515, 'dropout': 0.330623667863137, 'lr': 0.00956718162876286, 'n_epochs': 129}. Best is trial 120 with value: 0.5539292279711663.\n"
     ]
    },
    {
     "name": "stdout",
     "output_type": "stream",
     "text": [
      "Trial 241 finished with value: 0.5515380517029974\n",
      "Best trial so far: 120, value: 0.5539292279711663\n"
     ]
    },
    {
     "name": "stderr",
     "output_type": "stream",
     "text": [
      "[I 2025-03-02 22:05:32,379] Trial 242 finished with value: 0.5472239583832834 and parameters: {'criterion': 'MSELoss', 'first_layer_size': 48, 'num_layers': 5, 'confidence_threshold': 0.015787811722388644, 'dropout': 0.3290242815421338, 'lr': 0.009275902777249564, 'n_epochs': 131}. Best is trial 120 with value: 0.5539292279711663.\n"
     ]
    },
    {
     "name": "stdout",
     "output_type": "stream",
     "text": [
      "Trial 242 finished with value: 0.5472239583832834\n",
      "Best trial so far: 120, value: 0.5539292279711663\n"
     ]
    },
    {
     "name": "stderr",
     "output_type": "stream",
     "text": [
      "[I 2025-03-02 22:05:57,998] Trial 243 finished with value: 0.5495184428092244 and parameters: {'criterion': 'MSELoss', 'first_layer_size': 48, 'num_layers': 5, 'confidence_threshold': 0.01692721637987613, 'dropout': 0.3321695895233881, 'lr': 0.009626592317461494, 'n_epochs': 132}. Best is trial 120 with value: 0.5539292279711663.\n"
     ]
    },
    {
     "name": "stdout",
     "output_type": "stream",
     "text": [
      "Trial 243 finished with value: 0.5495184428092244\n",
      "Best trial so far: 120, value: 0.5539292279711663\n"
     ]
    },
    {
     "name": "stderr",
     "output_type": "stream",
     "text": [
      "[I 2025-03-02 22:06:19,767] Trial 244 finished with value: 0.5144022208789722 and parameters: {'criterion': 'MSELoss', 'first_layer_size': 48, 'num_layers': 5, 'confidence_threshold': 0.014944196583312147, 'dropout': 0.3306132929880687, 'lr': 0.005100092056976852, 'n_epochs': 108}. Best is trial 120 with value: 0.5539292279711663.\n"
     ]
    },
    {
     "name": "stdout",
     "output_type": "stream",
     "text": [
      "Trial 244 finished with value: 0.5144022208789722\n",
      "Best trial so far: 120, value: 0.5539292279711663\n"
     ]
    },
    {
     "name": "stderr",
     "output_type": "stream",
     "text": [
      "[I 2025-03-02 22:06:41,951] Trial 245 finished with value: 0.5220150397922743 and parameters: {'criterion': 'MSELoss', 'first_layer_size': 48, 'num_layers': 5, 'confidence_threshold': 0.019634960261021253, 'dropout': 0.32725821453625875, 'lr': 0.008952909020823286, 'n_epochs': 105}. Best is trial 120 with value: 0.5539292279711663.\n"
     ]
    },
    {
     "name": "stdout",
     "output_type": "stream",
     "text": [
      "Trial 245 finished with value: 0.5220150397922743\n",
      "Best trial so far: 120, value: 0.5539292279711663\n"
     ]
    },
    {
     "name": "stderr",
     "output_type": "stream",
     "text": [
      "[I 2025-03-02 22:07:05,311] Trial 246 finished with value: 0.5405258143687893 and parameters: {'criterion': 'MSELoss', 'first_layer_size': 48, 'num_layers': 5, 'confidence_threshold': 0.016499490340251825, 'dropout': 0.3339159830481715, 'lr': 0.009669057449349693, 'n_epochs': 106}. Best is trial 120 with value: 0.5539292279711663.\n"
     ]
    },
    {
     "name": "stdout",
     "output_type": "stream",
     "text": [
      "Trial 246 finished with value: 0.5405258143687893\n",
      "Best trial so far: 120, value: 0.5539292279711663\n"
     ]
    },
    {
     "name": "stderr",
     "output_type": "stream",
     "text": [
      "[I 2025-03-02 22:07:24,868] Trial 247 finished with value: 0.5309057288057043 and parameters: {'criterion': 'MSELoss', 'first_layer_size': 48, 'num_layers': 5, 'confidence_threshold': 0.011924851737021569, 'dropout': 0.32558050657436727, 'lr': 0.009994005384963034, 'n_epochs': 101}. Best is trial 120 with value: 0.5539292279711663.\n"
     ]
    },
    {
     "name": "stdout",
     "output_type": "stream",
     "text": [
      "Trial 247 finished with value: 0.5309057288057043\n",
      "Best trial so far: 120, value: 0.5539292279711663\n"
     ]
    },
    {
     "name": "stderr",
     "output_type": "stream",
     "text": [
      "[I 2025-03-02 22:07:47,491] Trial 248 finished with value: 0.530621037951564 and parameters: {'criterion': 'SmoothL1Loss', 'first_layer_size': 48, 'num_layers': 5, 'confidence_threshold': 0.017834414000003785, 'dropout': 0.3283773376512795, 'lr': 0.00920144263748267, 'n_epochs': 100}. Best is trial 120 with value: 0.5539292279711663.\n"
     ]
    },
    {
     "name": "stdout",
     "output_type": "stream",
     "text": [
      "Trial 248 finished with value: 0.530621037951564\n",
      "Best trial so far: 120, value: 0.5539292279711663\n"
     ]
    },
    {
     "name": "stderr",
     "output_type": "stream",
     "text": [
      "[I 2025-03-02 22:08:17,280] Trial 249 finished with value: 0.5518353606535963 and parameters: {'criterion': 'MSELoss', 'first_layer_size': 48, 'num_layers': 5, 'confidence_threshold': 0.02681566320012984, 'dropout': 0.3312778454242949, 'lr': 0.009993688440294473, 'n_epochs': 128}. Best is trial 120 with value: 0.5539292279711663.\n"
     ]
    },
    {
     "name": "stdout",
     "output_type": "stream",
     "text": [
      "Trial 249 finished with value: 0.5518353606535963\n",
      "Best trial so far: 120, value: 0.5539292279711663\n"
     ]
    },
    {
     "name": "stderr",
     "output_type": "stream",
     "text": [
      "[I 2025-03-02 22:08:42,051] Trial 250 finished with value: 0.5297029593774851 and parameters: {'criterion': 'MSELoss', 'first_layer_size': 48, 'num_layers': 5, 'confidence_threshold': 0.02736141733940518, 'dropout': 0.3295915736998583, 'lr': 0.008737246680390012, 'n_epochs': 105}. Best is trial 120 with value: 0.5539292279711663.\n"
     ]
    },
    {
     "name": "stdout",
     "output_type": "stream",
     "text": [
      "Trial 250 finished with value: 0.5297029593774851\n",
      "Best trial so far: 120, value: 0.5539292279711663\n"
     ]
    },
    {
     "name": "stderr",
     "output_type": "stream",
     "text": [
      "[I 2025-03-02 22:09:04,024] Trial 251 finished with value: 0.5296800562904418 and parameters: {'criterion': 'MSELoss', 'first_layer_size': 48, 'num_layers': 5, 'confidence_threshold': 0.024797935521176286, 'dropout': 0.3249291013075011, 'lr': 0.009237307569183782, 'n_epochs': 100}. Best is trial 120 with value: 0.5539292279711663.\n"
     ]
    },
    {
     "name": "stdout",
     "output_type": "stream",
     "text": [
      "Trial 251 finished with value: 0.5296800562904418\n",
      "Best trial so far: 120, value: 0.5539292279711663\n"
     ]
    },
    {
     "name": "stderr",
     "output_type": "stream",
     "text": [
      "[I 2025-03-02 22:09:25,756] Trial 252 finished with value: 0.084217238449973 and parameters: {'criterion': 'L1Loss', 'first_layer_size': 16, 'num_layers': 4, 'confidence_threshold': 0.026254279602963754, 'dropout': 0.33539343831267093, 'lr': 0.0034704402120914655, 'n_epochs': 156}. Best is trial 120 with value: 0.5539292279711663.\n"
     ]
    },
    {
     "name": "stdout",
     "output_type": "stream",
     "text": [
      "Trial 252 finished with value: 0.084217238449973\n",
      "Best trial so far: 120, value: 0.5539292279711663\n"
     ]
    },
    {
     "name": "stderr",
     "output_type": "stream",
     "text": [
      "[I 2025-03-02 22:09:48,958] Trial 253 finished with value: 0.5305579340526371 and parameters: {'criterion': 'MSELoss', 'first_layer_size': 48, 'num_layers': 5, 'confidence_threshold': 0.0134353102033282, 'dropout': 0.29884423813687677, 'lr': 0.009524786066796588, 'n_epochs': 100}. Best is trial 120 with value: 0.5539292279711663.\n"
     ]
    },
    {
     "name": "stdout",
     "output_type": "stream",
     "text": [
      "Trial 253 finished with value: 0.5305579340526371\n",
      "Best trial so far: 120, value: 0.5539292279711663\n"
     ]
    },
    {
     "name": "stderr",
     "output_type": "stream",
     "text": [
      "[I 2025-03-02 22:10:09,809] Trial 254 finished with value: 0.5236406160881667 and parameters: {'criterion': 'MSELoss', 'first_layer_size': 48, 'num_layers': 5, 'confidence_threshold': 0.01901140781754278, 'dropout': 0.32799680829687283, 'lr': 0.00864053896405458, 'n_epochs': 103}. Best is trial 120 with value: 0.5539292279711663.\n"
     ]
    },
    {
     "name": "stdout",
     "output_type": "stream",
     "text": [
      "Trial 254 finished with value: 0.5236406160881667\n",
      "Best trial so far: 120, value: 0.5539292279711663\n"
     ]
    },
    {
     "name": "stderr",
     "output_type": "stream",
     "text": [
      "[I 2025-03-02 22:10:34,191] Trial 255 finished with value: 0.546933164967872 and parameters: {'criterion': 'MSELoss', 'first_layer_size': 48, 'num_layers': 5, 'confidence_threshold': 0.014142410412221728, 'dropout': 0.3325746752086888, 'lr': 0.00999480912197122, 'n_epochs': 122}. Best is trial 120 with value: 0.5539292279711663.\n"
     ]
    },
    {
     "name": "stdout",
     "output_type": "stream",
     "text": [
      "Trial 255 finished with value: 0.546933164967872\n",
      "Best trial so far: 120, value: 0.5539292279711663\n"
     ]
    },
    {
     "name": "stderr",
     "output_type": "stream",
     "text": [
      "[I 2025-03-02 22:10:57,789] Trial 256 finished with value: 0.5312853616967435 and parameters: {'criterion': 'MSELoss', 'first_layer_size': 48, 'num_layers': 5, 'confidence_threshold': 0.018163804727895402, 'dropout': 0.32990981710633793, 'lr': 0.009102409469161231, 'n_epochs': 104}. Best is trial 120 with value: 0.5539292279711663.\n"
     ]
    },
    {
     "name": "stdout",
     "output_type": "stream",
     "text": [
      "Trial 256 finished with value: 0.5312853616967435\n",
      "Best trial so far: 120, value: 0.5539292279711663\n"
     ]
    },
    {
     "name": "stderr",
     "output_type": "stream",
     "text": [
      "[I 2025-03-02 22:11:20,944] Trial 257 finished with value: 0.4768999022841515 and parameters: {'criterion': 'MSELoss', 'first_layer_size': 56, 'num_layers': 5, 'confidence_threshold': 0.027085412565280208, 'dropout': 0.3262591225245453, 'lr': 0.009589556189922854, 'n_epochs': 100}. Best is trial 120 with value: 0.5539292279711663.\n"
     ]
    },
    {
     "name": "stdout",
     "output_type": "stream",
     "text": [
      "Trial 257 finished with value: 0.4768999022841515\n",
      "Best trial so far: 120, value: 0.5539292279711663\n"
     ]
    },
    {
     "name": "stderr",
     "output_type": "stream",
     "text": [
      "[I 2025-03-02 22:11:42,535] Trial 258 finished with value: 0.5322837735549942 and parameters: {'criterion': 'MSELoss', 'first_layer_size': 48, 'num_layers': 5, 'confidence_threshold': 0.04138423929141437, 'dropout': 0.3238962309857232, 'lr': 0.009282539274784434, 'n_epochs': 102}. Best is trial 120 with value: 0.5539292279711663.\n"
     ]
    },
    {
     "name": "stdout",
     "output_type": "stream",
     "text": [
      "Trial 258 finished with value: 0.5322837735549942\n",
      "Best trial so far: 120, value: 0.5539292279711663\n"
     ]
    },
    {
     "name": "stderr",
     "output_type": "stream",
     "text": [
      "[I 2025-03-02 22:12:07,136] Trial 259 finished with value: 0.5311612161488745 and parameters: {'criterion': 'MSELoss', 'first_layer_size': 48, 'num_layers': 5, 'confidence_threshold': 0.01731247707498606, 'dropout': 0.31939278306015434, 'lr': 0.008946052556937579, 'n_epochs': 104}. Best is trial 120 with value: 0.5539292279711663.\n"
     ]
    },
    {
     "name": "stdout",
     "output_type": "stream",
     "text": [
      "Trial 259 finished with value: 0.5311612161488745\n",
      "Best trial so far: 120, value: 0.5539292279711663\n"
     ]
    },
    {
     "name": "stderr",
     "output_type": "stream",
     "text": [
      "[I 2025-03-02 22:12:36,436] Trial 260 finished with value: 0.5488100929267242 and parameters: {'criterion': 'MSELoss', 'first_layer_size': 48, 'num_layers': 5, 'confidence_threshold': 0.015573983294279364, 'dropout': 0.3312088772030187, 'lr': 0.009582227341091406, 'n_epochs': 128}. Best is trial 120 with value: 0.5539292279711663.\n"
     ]
    },
    {
     "name": "stdout",
     "output_type": "stream",
     "text": [
      "Trial 260 finished with value: 0.5488100929267242\n",
      "Best trial so far: 120, value: 0.5539292279711663\n"
     ]
    },
    {
     "name": "stderr",
     "output_type": "stream",
     "text": [
      "[I 2025-03-02 22:12:58,974] Trial 261 finished with value: 0.5288129767692297 and parameters: {'criterion': 'MSELoss', 'first_layer_size': 48, 'num_layers': 5, 'confidence_threshold': 0.012330084740442233, 'dropout': 0.32825422776985774, 'lr': 0.009998053575254713, 'n_epochs': 100}. Best is trial 120 with value: 0.5539292279711663.\n"
     ]
    },
    {
     "name": "stdout",
     "output_type": "stream",
     "text": [
      "Trial 261 finished with value: 0.5288129767692297\n",
      "Best trial so far: 120, value: 0.5539292279711663\n"
     ]
    },
    {
     "name": "stderr",
     "output_type": "stream",
     "text": [
      "[I 2025-03-02 22:13:24,747] Trial 262 finished with value: 0.5289552127041135 and parameters: {'criterion': 'MSELoss', 'first_layer_size': 48, 'num_layers': 5, 'confidence_threshold': 0.016890687192681497, 'dropout': 0.3339643104283925, 'lr': 0.008522870120785958, 'n_epochs': 106}. Best is trial 120 with value: 0.5539292279711663.\n"
     ]
    },
    {
     "name": "stdout",
     "output_type": "stream",
     "text": [
      "Trial 262 finished with value: 0.5289552127041135\n",
      "Best trial so far: 120, value: 0.5539292279711663\n"
     ]
    },
    {
     "name": "stderr",
     "output_type": "stream",
     "text": [
      "[I 2025-03-02 22:13:53,897] Trial 263 finished with value: 0.5007374499734607 and parameters: {'criterion': 'MSELoss', 'first_layer_size': 32, 'num_layers': 5, 'confidence_threshold': 0.0144620115304481, 'dropout': 0.3307701241532616, 'lr': 0.009323984718488422, 'n_epochs': 173}. Best is trial 120 with value: 0.5539292279711663.\n"
     ]
    },
    {
     "name": "stdout",
     "output_type": "stream",
     "text": [
      "Trial 263 finished with value: 0.5007374499734607\n",
      "Best trial so far: 120, value: 0.5539292279711663\n"
     ]
    },
    {
     "name": "stderr",
     "output_type": "stream",
     "text": [
      "[I 2025-03-02 22:14:17,183] Trial 264 finished with value: 0.5539537581136061 and parameters: {'criterion': 'MSELoss', 'first_layer_size': 48, 'num_layers': 5, 'confidence_threshold': 0.026384181284097457, 'dropout': 0.32643679545330817, 'lr': 0.009992607214066574, 'n_epochs': 128}. Best is trial 264 with value: 0.5539537581136061.\n"
     ]
    },
    {
     "name": "stdout",
     "output_type": "stream",
     "text": [
      "Trial 264 finished with value: 0.5539537581136061\n",
      "Best trial so far: 264, value: 0.5539537581136061\n"
     ]
    },
    {
     "name": "stderr",
     "output_type": "stream",
     "text": [
      "[I 2025-03-02 22:14:41,793] Trial 265 finished with value: 0.5528543714011915 and parameters: {'criterion': 'MSELoss', 'first_layer_size': 48, 'num_layers': 5, 'confidence_threshold': 0.015363997991794446, 'dropout': 0.3264785166180913, 'lr': 0.009962161174260133, 'n_epochs': 126}. Best is trial 264 with value: 0.5539537581136061.\n"
     ]
    },
    {
     "name": "stdout",
     "output_type": "stream",
     "text": [
      "Trial 265 finished with value: 0.5528543714011915\n",
      "Best trial so far: 264, value: 0.5539537581136061\n"
     ]
    },
    {
     "name": "stderr",
     "output_type": "stream",
     "text": [
      "[I 2025-03-02 22:15:06,211] Trial 266 finished with value: 0.5303057520813783 and parameters: {'criterion': 'MSELoss', 'first_layer_size': 48, 'num_layers': 5, 'confidence_threshold': 0.013683896483168902, 'dropout': 0.3223384613559066, 'lr': 0.009645034759343026, 'n_epochs': 106}. Best is trial 264 with value: 0.5539537581136061.\n"
     ]
    },
    {
     "name": "stdout",
     "output_type": "stream",
     "text": [
      "Trial 266 finished with value: 0.5303057520813783\n",
      "Best trial so far: 264, value: 0.5539537581136061\n"
     ]
    },
    {
     "name": "stderr",
     "output_type": "stream",
     "text": [
      "[I 2025-03-02 22:15:27,910] Trial 267 finished with value: 0.5312094444343918 and parameters: {'criterion': 'MSELoss', 'first_layer_size': 48, 'num_layers': 5, 'confidence_threshold': 0.019602091845070665, 'dropout': 0.32532251262811474, 'lr': 0.009995202301075853, 'n_epochs': 100}. Best is trial 264 with value: 0.5539537581136061.\n"
     ]
    },
    {
     "name": "stdout",
     "output_type": "stream",
     "text": [
      "Trial 267 finished with value: 0.5312094444343918\n",
      "Best trial so far: 264, value: 0.5539537581136061\n"
     ]
    },
    {
     "name": "stderr",
     "output_type": "stream",
     "text": [
      "[I 2025-03-02 22:15:47,670] Trial 268 finished with value: 0.5232735314351548 and parameters: {'criterion': 'MSELoss', 'first_layer_size': 48, 'num_layers': 5, 'confidence_threshold': 0.01833357940439484, 'dropout': 0.32675230248092874, 'lr': 0.008935828240527756, 'n_epochs': 100}. Best is trial 264 with value: 0.5539537581136061.\n"
     ]
    },
    {
     "name": "stdout",
     "output_type": "stream",
     "text": [
      "Trial 268 finished with value: 0.5232735314351548\n",
      "Best trial so far: 264, value: 0.5539537581136061\n"
     ]
    },
    {
     "name": "stderr",
     "output_type": "stream",
     "text": [
      "[I 2025-03-02 22:16:19,650] Trial 269 finished with value: 0.5193929897459653 and parameters: {'criterion': 'MSELoss', 'first_layer_size': 48, 'num_layers': 5, 'confidence_threshold': 0.02943078832232394, 'dropout': 0.3287681613843418, 'lr': 0.004193720943280145, 'n_epochs': 144}. Best is trial 264 with value: 0.5539537581136061.\n"
     ]
    },
    {
     "name": "stdout",
     "output_type": "stream",
     "text": [
      "Trial 269 finished with value: 0.5193929897459653\n",
      "Best trial so far: 264, value: 0.5539537581136061\n"
     ]
    },
    {
     "name": "stderr",
     "output_type": "stream",
     "text": [
      "[I 2025-03-02 22:16:41,538] Trial 270 finished with value: 0.533199101737097 and parameters: {'criterion': 'SmoothL1Loss', 'first_layer_size': 48, 'num_layers': 5, 'confidence_threshold': 0.015070331118917434, 'dropout': 0.3239119099434909, 'lr': 0.009984890572737456, 'n_epochs': 100}. Best is trial 264 with value: 0.5539537581136061.\n"
     ]
    },
    {
     "name": "stdout",
     "output_type": "stream",
     "text": [
      "Trial 270 finished with value: 0.533199101737097\n",
      "Best trial so far: 264, value: 0.5539537581136061\n"
     ]
    },
    {
     "name": "stderr",
     "output_type": "stream",
     "text": [
      "[W 2025-03-02 22:16:44,715] Trial 271 failed with parameters: {'criterion': 'MSELoss', 'first_layer_size': 48, 'num_layers': 5, 'confidence_threshold': 0.026504897641837676, 'dropout': 0.32938395941126625, 'lr': 0.009237860793868445} because of the following error: KeyboardInterrupt().\n",
      "Traceback (most recent call last):\n",
      "  File \"/Users/forbesjon2/anaconda3/envs/pytorchenv/lib/python3.9/site-packages/optuna/study/_optimize.py\", line 197, in _run_trial\n",
      "    value_or_values = func(trial)\n",
      "  File \"/var/folders/k0/7b4qgkdx2vb9ml4ktdckf0hc0000gn/T/ipykernel_23544/1515200931.py\", line 60, in objective\n",
      "    models[i].fit(X_train_fold[i], y_train_fold[i])\n",
      "  File \"/Users/forbesjon2/anaconda3/envs/pytorchenv/lib/python3.9/site-packages/sklearn/pipeline.py\", line 394, in fit\n",
      "    self._final_estimator.fit(Xt, y, **fit_params_last_step)\n",
      "  File \"/var/folders/k0/7b4qgkdx2vb9ml4ktdckf0hc0000gn/T/ipykernel_23544/2109550693.py\", line 73, in fit\n",
      "    y_pred = self.forward(X)\n",
      "  File \"/var/folders/k0/7b4qgkdx2vb9ml4ktdckf0hc0000gn/T/ipykernel_23544/2109550693.py\", line 55, in forward\n",
      "    x = self.layers(x_cont)        # Set up model layers\n",
      "  File \"/Users/forbesjon2/anaconda3/envs/pytorchenv/lib/python3.9/site-packages/torch/nn/modules/module.py\", line 1532, in _wrapped_call_impl\n",
      "    return self._call_impl(*args, **kwargs)\n",
      "  File \"/Users/forbesjon2/anaconda3/envs/pytorchenv/lib/python3.9/site-packages/torch/nn/modules/module.py\", line 1541, in _call_impl\n",
      "    return forward_call(*args, **kwargs)\n",
      "  File \"/Users/forbesjon2/anaconda3/envs/pytorchenv/lib/python3.9/site-packages/torch/nn/modules/container.py\", line 217, in forward\n",
      "    input = module(input)\n",
      "  File \"/Users/forbesjon2/anaconda3/envs/pytorchenv/lib/python3.9/site-packages/torch/nn/modules/module.py\", line 1532, in _wrapped_call_impl\n",
      "    return self._call_impl(*args, **kwargs)\n",
      "  File \"/Users/forbesjon2/anaconda3/envs/pytorchenv/lib/python3.9/site-packages/torch/nn/modules/module.py\", line 1541, in _call_impl\n",
      "    return forward_call(*args, **kwargs)\n",
      "  File \"/Users/forbesjon2/anaconda3/envs/pytorchenv/lib/python3.9/site-packages/torch/nn/modules/activation.py\", line 434, in forward\n",
      "    return F.mish(input, inplace=self.inplace)\n",
      "  File \"/Users/forbesjon2/anaconda3/envs/pytorchenv/lib/python3.9/site-packages/torch/nn/functional.py\", line 2122, in mish\n",
      "    return torch._C._nn.mish(input)\n",
      "KeyboardInterrupt\n",
      "[W 2025-03-02 22:16:44,733] Trial 271 failed with value None.\n"
     ]
    },
    {
     "ename": "KeyboardInterrupt",
     "evalue": "",
     "output_type": "error",
     "traceback": [
      "\u001b[0;31m---------------------------------------------------------------------------\u001b[0m",
      "\u001b[0;31mKeyboardInterrupt\u001b[0m                         Traceback (most recent call last)",
      "Cell \u001b[0;32mIn[18], line 10\u001b[0m\n\u001b[1;32m      8\u001b[0m \u001b[38;5;66;03m# Uncomment to run\u001b[39;00m\n\u001b[1;32m      9\u001b[0m \u001b[38;5;28;01mif\u001b[39;00m \u001b[38;5;28;01mTrue\u001b[39;00m:\n\u001b[0;32m---> 10\u001b[0m     \u001b[43mstudy\u001b[49m\u001b[38;5;241;43m.\u001b[39;49m\u001b[43moptimize\u001b[49m\u001b[43m(\u001b[49m\u001b[43mobjective\u001b[49m\u001b[43m,\u001b[49m\u001b[43m \u001b[49m\u001b[43mn_trials\u001b[49m\u001b[38;5;241;43m=\u001b[39;49m\u001b[38;5;241;43m2000\u001b[39;49m\u001b[43m,\u001b[49m\u001b[43m \u001b[49m\u001b[43mcallbacks\u001b[49m\u001b[38;5;241;43m=\u001b[39;49m\u001b[43m[\u001b[49m\u001b[43mprint_callback\u001b[49m\u001b[43m]\u001b[49m\u001b[43m)\u001b[49m\n\u001b[1;32m     11\u001b[0m     \u001b[38;5;66;03m# study.optimize(objective, n_trials=3)\u001b[39;00m\n\u001b[1;32m     12\u001b[0m     \u001b[38;5;28mprint\u001b[39m(\u001b[38;5;124m\"\u001b[39m\u001b[38;5;124mBest trial:\u001b[39m\u001b[38;5;124m\"\u001b[39m)\n",
      "File \u001b[0;32m~/anaconda3/envs/pytorchenv/lib/python3.9/site-packages/optuna/study/study.py:475\u001b[0m, in \u001b[0;36mStudy.optimize\u001b[0;34m(self, func, n_trials, timeout, n_jobs, catch, callbacks, gc_after_trial, show_progress_bar)\u001b[0m\n\u001b[1;32m    373\u001b[0m \u001b[38;5;28;01mdef\u001b[39;00m \u001b[38;5;21moptimize\u001b[39m(\n\u001b[1;32m    374\u001b[0m     \u001b[38;5;28mself\u001b[39m,\n\u001b[1;32m    375\u001b[0m     func: ObjectiveFuncType,\n\u001b[0;32m   (...)\u001b[0m\n\u001b[1;32m    382\u001b[0m     show_progress_bar: \u001b[38;5;28mbool\u001b[39m \u001b[38;5;241m=\u001b[39m \u001b[38;5;28;01mFalse\u001b[39;00m,\n\u001b[1;32m    383\u001b[0m ) \u001b[38;5;241m-\u001b[39m\u001b[38;5;241m>\u001b[39m \u001b[38;5;28;01mNone\u001b[39;00m:\n\u001b[1;32m    384\u001b[0m     \u001b[38;5;124;03m\"\"\"Optimize an objective function.\u001b[39;00m\n\u001b[1;32m    385\u001b[0m \n\u001b[1;32m    386\u001b[0m \u001b[38;5;124;03m    Optimization is done by choosing a suitable set of hyperparameter values from a given\u001b[39;00m\n\u001b[0;32m   (...)\u001b[0m\n\u001b[1;32m    473\u001b[0m \u001b[38;5;124;03m            If nested invocation of this method occurs.\u001b[39;00m\n\u001b[1;32m    474\u001b[0m \u001b[38;5;124;03m    \"\"\"\u001b[39;00m\n\u001b[0;32m--> 475\u001b[0m     \u001b[43m_optimize\u001b[49m\u001b[43m(\u001b[49m\n\u001b[1;32m    476\u001b[0m \u001b[43m        \u001b[49m\u001b[43mstudy\u001b[49m\u001b[38;5;241;43m=\u001b[39;49m\u001b[38;5;28;43mself\u001b[39;49m\u001b[43m,\u001b[49m\n\u001b[1;32m    477\u001b[0m \u001b[43m        \u001b[49m\u001b[43mfunc\u001b[49m\u001b[38;5;241;43m=\u001b[39;49m\u001b[43mfunc\u001b[49m\u001b[43m,\u001b[49m\n\u001b[1;32m    478\u001b[0m \u001b[43m        \u001b[49m\u001b[43mn_trials\u001b[49m\u001b[38;5;241;43m=\u001b[39;49m\u001b[43mn_trials\u001b[49m\u001b[43m,\u001b[49m\n\u001b[1;32m    479\u001b[0m \u001b[43m        \u001b[49m\u001b[43mtimeout\u001b[49m\u001b[38;5;241;43m=\u001b[39;49m\u001b[43mtimeout\u001b[49m\u001b[43m,\u001b[49m\n\u001b[1;32m    480\u001b[0m \u001b[43m        \u001b[49m\u001b[43mn_jobs\u001b[49m\u001b[38;5;241;43m=\u001b[39;49m\u001b[43mn_jobs\u001b[49m\u001b[43m,\u001b[49m\n\u001b[1;32m    481\u001b[0m \u001b[43m        \u001b[49m\u001b[43mcatch\u001b[49m\u001b[38;5;241;43m=\u001b[39;49m\u001b[38;5;28;43mtuple\u001b[39;49m\u001b[43m(\u001b[49m\u001b[43mcatch\u001b[49m\u001b[43m)\u001b[49m\u001b[43m \u001b[49m\u001b[38;5;28;43;01mif\u001b[39;49;00m\u001b[43m \u001b[49m\u001b[38;5;28;43misinstance\u001b[39;49m\u001b[43m(\u001b[49m\u001b[43mcatch\u001b[49m\u001b[43m,\u001b[49m\u001b[43m \u001b[49m\u001b[43mIterable\u001b[49m\u001b[43m)\u001b[49m\u001b[43m \u001b[49m\u001b[38;5;28;43;01melse\u001b[39;49;00m\u001b[43m \u001b[49m\u001b[43m(\u001b[49m\u001b[43mcatch\u001b[49m\u001b[43m,\u001b[49m\u001b[43m)\u001b[49m\u001b[43m,\u001b[49m\n\u001b[1;32m    482\u001b[0m \u001b[43m        \u001b[49m\u001b[43mcallbacks\u001b[49m\u001b[38;5;241;43m=\u001b[39;49m\u001b[43mcallbacks\u001b[49m\u001b[43m,\u001b[49m\n\u001b[1;32m    483\u001b[0m \u001b[43m        \u001b[49m\u001b[43mgc_after_trial\u001b[49m\u001b[38;5;241;43m=\u001b[39;49m\u001b[43mgc_after_trial\u001b[49m\u001b[43m,\u001b[49m\n\u001b[1;32m    484\u001b[0m \u001b[43m        \u001b[49m\u001b[43mshow_progress_bar\u001b[49m\u001b[38;5;241;43m=\u001b[39;49m\u001b[43mshow_progress_bar\u001b[49m\u001b[43m,\u001b[49m\n\u001b[1;32m    485\u001b[0m \u001b[43m    \u001b[49m\u001b[43m)\u001b[49m\n",
      "File \u001b[0;32m~/anaconda3/envs/pytorchenv/lib/python3.9/site-packages/optuna/study/_optimize.py:63\u001b[0m, in \u001b[0;36m_optimize\u001b[0;34m(study, func, n_trials, timeout, n_jobs, catch, callbacks, gc_after_trial, show_progress_bar)\u001b[0m\n\u001b[1;32m     61\u001b[0m \u001b[38;5;28;01mtry\u001b[39;00m:\n\u001b[1;32m     62\u001b[0m     \u001b[38;5;28;01mif\u001b[39;00m n_jobs \u001b[38;5;241m==\u001b[39m \u001b[38;5;241m1\u001b[39m:\n\u001b[0;32m---> 63\u001b[0m         \u001b[43m_optimize_sequential\u001b[49m\u001b[43m(\u001b[49m\n\u001b[1;32m     64\u001b[0m \u001b[43m            \u001b[49m\u001b[43mstudy\u001b[49m\u001b[43m,\u001b[49m\n\u001b[1;32m     65\u001b[0m \u001b[43m            \u001b[49m\u001b[43mfunc\u001b[49m\u001b[43m,\u001b[49m\n\u001b[1;32m     66\u001b[0m \u001b[43m            \u001b[49m\u001b[43mn_trials\u001b[49m\u001b[43m,\u001b[49m\n\u001b[1;32m     67\u001b[0m \u001b[43m            \u001b[49m\u001b[43mtimeout\u001b[49m\u001b[43m,\u001b[49m\n\u001b[1;32m     68\u001b[0m \u001b[43m            \u001b[49m\u001b[43mcatch\u001b[49m\u001b[43m,\u001b[49m\n\u001b[1;32m     69\u001b[0m \u001b[43m            \u001b[49m\u001b[43mcallbacks\u001b[49m\u001b[43m,\u001b[49m\n\u001b[1;32m     70\u001b[0m \u001b[43m            \u001b[49m\u001b[43mgc_after_trial\u001b[49m\u001b[43m,\u001b[49m\n\u001b[1;32m     71\u001b[0m \u001b[43m            \u001b[49m\u001b[43mreseed_sampler_rng\u001b[49m\u001b[38;5;241;43m=\u001b[39;49m\u001b[38;5;28;43;01mFalse\u001b[39;49;00m\u001b[43m,\u001b[49m\n\u001b[1;32m     72\u001b[0m \u001b[43m            \u001b[49m\u001b[43mtime_start\u001b[49m\u001b[38;5;241;43m=\u001b[39;49m\u001b[38;5;28;43;01mNone\u001b[39;49;00m\u001b[43m,\u001b[49m\n\u001b[1;32m     73\u001b[0m \u001b[43m            \u001b[49m\u001b[43mprogress_bar\u001b[49m\u001b[38;5;241;43m=\u001b[39;49m\u001b[43mprogress_bar\u001b[49m\u001b[43m,\u001b[49m\n\u001b[1;32m     74\u001b[0m \u001b[43m        \u001b[49m\u001b[43m)\u001b[49m\n\u001b[1;32m     75\u001b[0m     \u001b[38;5;28;01melse\u001b[39;00m:\n\u001b[1;32m     76\u001b[0m         \u001b[38;5;28;01mif\u001b[39;00m n_jobs \u001b[38;5;241m==\u001b[39m \u001b[38;5;241m-\u001b[39m\u001b[38;5;241m1\u001b[39m:\n",
      "File \u001b[0;32m~/anaconda3/envs/pytorchenv/lib/python3.9/site-packages/optuna/study/_optimize.py:160\u001b[0m, in \u001b[0;36m_optimize_sequential\u001b[0;34m(study, func, n_trials, timeout, catch, callbacks, gc_after_trial, reseed_sampler_rng, time_start, progress_bar)\u001b[0m\n\u001b[1;32m    157\u001b[0m         \u001b[38;5;28;01mbreak\u001b[39;00m\n\u001b[1;32m    159\u001b[0m \u001b[38;5;28;01mtry\u001b[39;00m:\n\u001b[0;32m--> 160\u001b[0m     frozen_trial \u001b[38;5;241m=\u001b[39m \u001b[43m_run_trial\u001b[49m\u001b[43m(\u001b[49m\u001b[43mstudy\u001b[49m\u001b[43m,\u001b[49m\u001b[43m \u001b[49m\u001b[43mfunc\u001b[49m\u001b[43m,\u001b[49m\u001b[43m \u001b[49m\u001b[43mcatch\u001b[49m\u001b[43m)\u001b[49m\n\u001b[1;32m    161\u001b[0m \u001b[38;5;28;01mfinally\u001b[39;00m:\n\u001b[1;32m    162\u001b[0m     \u001b[38;5;66;03m# The following line mitigates memory problems that can be occurred in some\u001b[39;00m\n\u001b[1;32m    163\u001b[0m     \u001b[38;5;66;03m# environments (e.g., services that use computing containers such as GitHub Actions).\u001b[39;00m\n\u001b[1;32m    164\u001b[0m     \u001b[38;5;66;03m# Please refer to the following PR for further details:\u001b[39;00m\n\u001b[1;32m    165\u001b[0m     \u001b[38;5;66;03m# https://github.com/optuna/optuna/pull/325.\u001b[39;00m\n\u001b[1;32m    166\u001b[0m     \u001b[38;5;28;01mif\u001b[39;00m gc_after_trial:\n",
      "File \u001b[0;32m~/anaconda3/envs/pytorchenv/lib/python3.9/site-packages/optuna/study/_optimize.py:248\u001b[0m, in \u001b[0;36m_run_trial\u001b[0;34m(study, func, catch)\u001b[0m\n\u001b[1;32m    241\u001b[0m         \u001b[38;5;28;01massert\u001b[39;00m \u001b[38;5;28;01mFalse\u001b[39;00m, \u001b[38;5;124m\"\u001b[39m\u001b[38;5;124mShould not reach.\u001b[39m\u001b[38;5;124m\"\u001b[39m\n\u001b[1;32m    243\u001b[0m \u001b[38;5;28;01mif\u001b[39;00m (\n\u001b[1;32m    244\u001b[0m     frozen_trial\u001b[38;5;241m.\u001b[39mstate \u001b[38;5;241m==\u001b[39m TrialState\u001b[38;5;241m.\u001b[39mFAIL\n\u001b[1;32m    245\u001b[0m     \u001b[38;5;129;01mand\u001b[39;00m func_err \u001b[38;5;129;01mis\u001b[39;00m \u001b[38;5;129;01mnot\u001b[39;00m \u001b[38;5;28;01mNone\u001b[39;00m\n\u001b[1;32m    246\u001b[0m     \u001b[38;5;129;01mand\u001b[39;00m \u001b[38;5;129;01mnot\u001b[39;00m \u001b[38;5;28misinstance\u001b[39m(func_err, catch)\n\u001b[1;32m    247\u001b[0m ):\n\u001b[0;32m--> 248\u001b[0m     \u001b[38;5;28;01mraise\u001b[39;00m func_err\n\u001b[1;32m    249\u001b[0m \u001b[38;5;28;01mreturn\u001b[39;00m frozen_trial\n",
      "File \u001b[0;32m~/anaconda3/envs/pytorchenv/lib/python3.9/site-packages/optuna/study/_optimize.py:197\u001b[0m, in \u001b[0;36m_run_trial\u001b[0;34m(study, func, catch)\u001b[0m\n\u001b[1;32m    195\u001b[0m \u001b[38;5;28;01mwith\u001b[39;00m get_heartbeat_thread(trial\u001b[38;5;241m.\u001b[39m_trial_id, study\u001b[38;5;241m.\u001b[39m_storage):\n\u001b[1;32m    196\u001b[0m     \u001b[38;5;28;01mtry\u001b[39;00m:\n\u001b[0;32m--> 197\u001b[0m         value_or_values \u001b[38;5;241m=\u001b[39m \u001b[43mfunc\u001b[49m\u001b[43m(\u001b[49m\u001b[43mtrial\u001b[49m\u001b[43m)\u001b[49m\n\u001b[1;32m    198\u001b[0m     \u001b[38;5;28;01mexcept\u001b[39;00m exceptions\u001b[38;5;241m.\u001b[39mTrialPruned \u001b[38;5;28;01mas\u001b[39;00m e:\n\u001b[1;32m    199\u001b[0m         \u001b[38;5;66;03m# TODO(mamu): Handle multi-objective cases.\u001b[39;00m\n\u001b[1;32m    200\u001b[0m         state \u001b[38;5;241m=\u001b[39m TrialState\u001b[38;5;241m.\u001b[39mPRUNED\n",
      "Cell \u001b[0;32mIn[17], line 60\u001b[0m, in \u001b[0;36mobjective\u001b[0;34m(trial)\u001b[0m\n\u001b[1;32m     57\u001b[0m running_loss \u001b[38;5;241m=\u001b[39m []\n\u001b[1;32m     58\u001b[0m \u001b[38;5;28;01mfor\u001b[39;00m i \u001b[38;5;129;01min\u001b[39;00m \u001b[38;5;28mrange\u001b[39m(\u001b[38;5;241m0\u001b[39m,n_splits):\n\u001b[1;32m     59\u001b[0m     \u001b[38;5;66;03m# ----- Train -----\u001b[39;00m\n\u001b[0;32m---> 60\u001b[0m     \u001b[43mmodels\u001b[49m\u001b[43m[\u001b[49m\u001b[43mi\u001b[49m\u001b[43m]\u001b[49m\u001b[38;5;241;43m.\u001b[39;49m\u001b[43mfit\u001b[49m\u001b[43m(\u001b[49m\u001b[43mX_train_fold\u001b[49m\u001b[43m[\u001b[49m\u001b[43mi\u001b[49m\u001b[43m]\u001b[49m\u001b[43m,\u001b[49m\u001b[43m \u001b[49m\u001b[43my_train_fold\u001b[49m\u001b[43m[\u001b[49m\u001b[43mi\u001b[49m\u001b[43m]\u001b[49m\u001b[43m)\u001b[49m\n\u001b[1;32m     62\u001b[0m     \u001b[38;5;66;03m# ----- Eval -----\u001b[39;00m\n\u001b[1;32m     63\u001b[0m     running_loss\u001b[38;5;241m.\u001b[39mappend(models[i]\u001b[38;5;241m.\u001b[39mscore(X_val[i], y_val[i]))\n",
      "File \u001b[0;32m~/anaconda3/envs/pytorchenv/lib/python3.9/site-packages/sklearn/pipeline.py:394\u001b[0m, in \u001b[0;36mPipeline.fit\u001b[0;34m(self, X, y, **fit_params)\u001b[0m\n\u001b[1;32m    392\u001b[0m     \u001b[38;5;28;01mif\u001b[39;00m \u001b[38;5;28mself\u001b[39m\u001b[38;5;241m.\u001b[39m_final_estimator \u001b[38;5;241m!=\u001b[39m \u001b[38;5;124m\"\u001b[39m\u001b[38;5;124mpassthrough\u001b[39m\u001b[38;5;124m\"\u001b[39m:\n\u001b[1;32m    393\u001b[0m         fit_params_last_step \u001b[38;5;241m=\u001b[39m fit_params_steps[\u001b[38;5;28mself\u001b[39m\u001b[38;5;241m.\u001b[39msteps[\u001b[38;5;241m-\u001b[39m\u001b[38;5;241m1\u001b[39m][\u001b[38;5;241m0\u001b[39m]]\n\u001b[0;32m--> 394\u001b[0m         \u001b[38;5;28;43mself\u001b[39;49m\u001b[38;5;241;43m.\u001b[39;49m\u001b[43m_final_estimator\u001b[49m\u001b[38;5;241;43m.\u001b[39;49m\u001b[43mfit\u001b[49m\u001b[43m(\u001b[49m\u001b[43mXt\u001b[49m\u001b[43m,\u001b[49m\u001b[43m \u001b[49m\u001b[43my\u001b[49m\u001b[43m,\u001b[49m\u001b[43m \u001b[49m\u001b[38;5;241;43m*\u001b[39;49m\u001b[38;5;241;43m*\u001b[39;49m\u001b[43mfit_params_last_step\u001b[49m\u001b[43m)\u001b[49m\n\u001b[1;32m    396\u001b[0m \u001b[38;5;28;01mreturn\u001b[39;00m \u001b[38;5;28mself\u001b[39m\n",
      "Cell \u001b[0;32mIn[16], line 73\u001b[0m, in \u001b[0;36mTabularModelUpdated.fit\u001b[0;34m(self, X, y)\u001b[0m\n\u001b[1;32m     71\u001b[0m \u001b[38;5;28mself\u001b[39m\u001b[38;5;241m.\u001b[39mtrain()\n\u001b[1;32m     72\u001b[0m \u001b[38;5;28mself\u001b[39m\u001b[38;5;241m.\u001b[39moptimizer\u001b[38;5;241m.\u001b[39mzero_grad()\n\u001b[0;32m---> 73\u001b[0m y_pred \u001b[38;5;241m=\u001b[39m \u001b[38;5;28;43mself\u001b[39;49m\u001b[38;5;241;43m.\u001b[39;49m\u001b[43mforward\u001b[49m\u001b[43m(\u001b[49m\u001b[43mX\u001b[49m\u001b[43m)\u001b[49m\n\u001b[1;32m     74\u001b[0m loss \u001b[38;5;241m=\u001b[39m \u001b[38;5;28mself\u001b[39m\u001b[38;5;241m.\u001b[39mcriterion(y_pred, y)\n\u001b[1;32m     75\u001b[0m loss\u001b[38;5;241m.\u001b[39mbackward()\n",
      "Cell \u001b[0;32mIn[16], line 55\u001b[0m, in \u001b[0;36mTabularModelUpdated.forward\u001b[0;34m(self, x_cont)\u001b[0m\n\u001b[1;32m     53\u001b[0m \u001b[38;5;28;01mdef\u001b[39;00m \u001b[38;5;21mforward\u001b[39m(\u001b[38;5;28mself\u001b[39m, x_cont):\n\u001b[1;32m     54\u001b[0m     x_cont \u001b[38;5;241m=\u001b[39m \u001b[38;5;28mself\u001b[39m\u001b[38;5;241m.\u001b[39mbn_cont(x_cont)  \u001b[38;5;66;03m# Normalize the incoming continuous data\u001b[39;00m\n\u001b[0;32m---> 55\u001b[0m     x \u001b[38;5;241m=\u001b[39m \u001b[38;5;28;43mself\u001b[39;49m\u001b[38;5;241;43m.\u001b[39;49m\u001b[43mlayers\u001b[49m\u001b[43m(\u001b[49m\u001b[43mx_cont\u001b[49m\u001b[43m)\u001b[49m        \u001b[38;5;66;03m# Set up model layers\u001b[39;00m\n\u001b[1;32m     56\u001b[0m     \u001b[38;5;28;01mreturn\u001b[39;00m x\n",
      "File \u001b[0;32m~/anaconda3/envs/pytorchenv/lib/python3.9/site-packages/torch/nn/modules/module.py:1532\u001b[0m, in \u001b[0;36mModule._wrapped_call_impl\u001b[0;34m(self, *args, **kwargs)\u001b[0m\n\u001b[1;32m   1530\u001b[0m     \u001b[38;5;28;01mreturn\u001b[39;00m \u001b[38;5;28mself\u001b[39m\u001b[38;5;241m.\u001b[39m_compiled_call_impl(\u001b[38;5;241m*\u001b[39margs, \u001b[38;5;241m*\u001b[39m\u001b[38;5;241m*\u001b[39mkwargs)  \u001b[38;5;66;03m# type: ignore[misc]\u001b[39;00m\n\u001b[1;32m   1531\u001b[0m \u001b[38;5;28;01melse\u001b[39;00m:\n\u001b[0;32m-> 1532\u001b[0m     \u001b[38;5;28;01mreturn\u001b[39;00m \u001b[38;5;28;43mself\u001b[39;49m\u001b[38;5;241;43m.\u001b[39;49m\u001b[43m_call_impl\u001b[49m\u001b[43m(\u001b[49m\u001b[38;5;241;43m*\u001b[39;49m\u001b[43margs\u001b[49m\u001b[43m,\u001b[49m\u001b[43m \u001b[49m\u001b[38;5;241;43m*\u001b[39;49m\u001b[38;5;241;43m*\u001b[39;49m\u001b[43mkwargs\u001b[49m\u001b[43m)\u001b[49m\n",
      "File \u001b[0;32m~/anaconda3/envs/pytorchenv/lib/python3.9/site-packages/torch/nn/modules/module.py:1541\u001b[0m, in \u001b[0;36mModule._call_impl\u001b[0;34m(self, *args, **kwargs)\u001b[0m\n\u001b[1;32m   1536\u001b[0m \u001b[38;5;66;03m# If we don't have any hooks, we want to skip the rest of the logic in\u001b[39;00m\n\u001b[1;32m   1537\u001b[0m \u001b[38;5;66;03m# this function, and just call forward.\u001b[39;00m\n\u001b[1;32m   1538\u001b[0m \u001b[38;5;28;01mif\u001b[39;00m \u001b[38;5;129;01mnot\u001b[39;00m (\u001b[38;5;28mself\u001b[39m\u001b[38;5;241m.\u001b[39m_backward_hooks \u001b[38;5;129;01mor\u001b[39;00m \u001b[38;5;28mself\u001b[39m\u001b[38;5;241m.\u001b[39m_backward_pre_hooks \u001b[38;5;129;01mor\u001b[39;00m \u001b[38;5;28mself\u001b[39m\u001b[38;5;241m.\u001b[39m_forward_hooks \u001b[38;5;129;01mor\u001b[39;00m \u001b[38;5;28mself\u001b[39m\u001b[38;5;241m.\u001b[39m_forward_pre_hooks\n\u001b[1;32m   1539\u001b[0m         \u001b[38;5;129;01mor\u001b[39;00m _global_backward_pre_hooks \u001b[38;5;129;01mor\u001b[39;00m _global_backward_hooks\n\u001b[1;32m   1540\u001b[0m         \u001b[38;5;129;01mor\u001b[39;00m _global_forward_hooks \u001b[38;5;129;01mor\u001b[39;00m _global_forward_pre_hooks):\n\u001b[0;32m-> 1541\u001b[0m     \u001b[38;5;28;01mreturn\u001b[39;00m \u001b[43mforward_call\u001b[49m\u001b[43m(\u001b[49m\u001b[38;5;241;43m*\u001b[39;49m\u001b[43margs\u001b[49m\u001b[43m,\u001b[49m\u001b[43m \u001b[49m\u001b[38;5;241;43m*\u001b[39;49m\u001b[38;5;241;43m*\u001b[39;49m\u001b[43mkwargs\u001b[49m\u001b[43m)\u001b[49m\n\u001b[1;32m   1543\u001b[0m \u001b[38;5;28;01mtry\u001b[39;00m:\n\u001b[1;32m   1544\u001b[0m     result \u001b[38;5;241m=\u001b[39m \u001b[38;5;28;01mNone\u001b[39;00m\n",
      "File \u001b[0;32m~/anaconda3/envs/pytorchenv/lib/python3.9/site-packages/torch/nn/modules/container.py:217\u001b[0m, in \u001b[0;36mSequential.forward\u001b[0;34m(self, input)\u001b[0m\n\u001b[1;32m    215\u001b[0m \u001b[38;5;28;01mdef\u001b[39;00m \u001b[38;5;21mforward\u001b[39m(\u001b[38;5;28mself\u001b[39m, \u001b[38;5;28minput\u001b[39m):\n\u001b[1;32m    216\u001b[0m     \u001b[38;5;28;01mfor\u001b[39;00m module \u001b[38;5;129;01min\u001b[39;00m \u001b[38;5;28mself\u001b[39m:\n\u001b[0;32m--> 217\u001b[0m         \u001b[38;5;28minput\u001b[39m \u001b[38;5;241m=\u001b[39m \u001b[43mmodule\u001b[49m\u001b[43m(\u001b[49m\u001b[38;5;28;43minput\u001b[39;49m\u001b[43m)\u001b[49m\n\u001b[1;32m    218\u001b[0m     \u001b[38;5;28;01mreturn\u001b[39;00m \u001b[38;5;28minput\u001b[39m\n",
      "File \u001b[0;32m~/anaconda3/envs/pytorchenv/lib/python3.9/site-packages/torch/nn/modules/module.py:1532\u001b[0m, in \u001b[0;36mModule._wrapped_call_impl\u001b[0;34m(self, *args, **kwargs)\u001b[0m\n\u001b[1;32m   1530\u001b[0m     \u001b[38;5;28;01mreturn\u001b[39;00m \u001b[38;5;28mself\u001b[39m\u001b[38;5;241m.\u001b[39m_compiled_call_impl(\u001b[38;5;241m*\u001b[39margs, \u001b[38;5;241m*\u001b[39m\u001b[38;5;241m*\u001b[39mkwargs)  \u001b[38;5;66;03m# type: ignore[misc]\u001b[39;00m\n\u001b[1;32m   1531\u001b[0m \u001b[38;5;28;01melse\u001b[39;00m:\n\u001b[0;32m-> 1532\u001b[0m     \u001b[38;5;28;01mreturn\u001b[39;00m \u001b[38;5;28;43mself\u001b[39;49m\u001b[38;5;241;43m.\u001b[39;49m\u001b[43m_call_impl\u001b[49m\u001b[43m(\u001b[49m\u001b[38;5;241;43m*\u001b[39;49m\u001b[43margs\u001b[49m\u001b[43m,\u001b[49m\u001b[43m \u001b[49m\u001b[38;5;241;43m*\u001b[39;49m\u001b[38;5;241;43m*\u001b[39;49m\u001b[43mkwargs\u001b[49m\u001b[43m)\u001b[49m\n",
      "File \u001b[0;32m~/anaconda3/envs/pytorchenv/lib/python3.9/site-packages/torch/nn/modules/module.py:1541\u001b[0m, in \u001b[0;36mModule._call_impl\u001b[0;34m(self, *args, **kwargs)\u001b[0m\n\u001b[1;32m   1536\u001b[0m \u001b[38;5;66;03m# If we don't have any hooks, we want to skip the rest of the logic in\u001b[39;00m\n\u001b[1;32m   1537\u001b[0m \u001b[38;5;66;03m# this function, and just call forward.\u001b[39;00m\n\u001b[1;32m   1538\u001b[0m \u001b[38;5;28;01mif\u001b[39;00m \u001b[38;5;129;01mnot\u001b[39;00m (\u001b[38;5;28mself\u001b[39m\u001b[38;5;241m.\u001b[39m_backward_hooks \u001b[38;5;129;01mor\u001b[39;00m \u001b[38;5;28mself\u001b[39m\u001b[38;5;241m.\u001b[39m_backward_pre_hooks \u001b[38;5;129;01mor\u001b[39;00m \u001b[38;5;28mself\u001b[39m\u001b[38;5;241m.\u001b[39m_forward_hooks \u001b[38;5;129;01mor\u001b[39;00m \u001b[38;5;28mself\u001b[39m\u001b[38;5;241m.\u001b[39m_forward_pre_hooks\n\u001b[1;32m   1539\u001b[0m         \u001b[38;5;129;01mor\u001b[39;00m _global_backward_pre_hooks \u001b[38;5;129;01mor\u001b[39;00m _global_backward_hooks\n\u001b[1;32m   1540\u001b[0m         \u001b[38;5;129;01mor\u001b[39;00m _global_forward_hooks \u001b[38;5;129;01mor\u001b[39;00m _global_forward_pre_hooks):\n\u001b[0;32m-> 1541\u001b[0m     \u001b[38;5;28;01mreturn\u001b[39;00m \u001b[43mforward_call\u001b[49m\u001b[43m(\u001b[49m\u001b[38;5;241;43m*\u001b[39;49m\u001b[43margs\u001b[49m\u001b[43m,\u001b[49m\u001b[43m \u001b[49m\u001b[38;5;241;43m*\u001b[39;49m\u001b[38;5;241;43m*\u001b[39;49m\u001b[43mkwargs\u001b[49m\u001b[43m)\u001b[49m\n\u001b[1;32m   1543\u001b[0m \u001b[38;5;28;01mtry\u001b[39;00m:\n\u001b[1;32m   1544\u001b[0m     result \u001b[38;5;241m=\u001b[39m \u001b[38;5;28;01mNone\u001b[39;00m\n",
      "File \u001b[0;32m~/anaconda3/envs/pytorchenv/lib/python3.9/site-packages/torch/nn/modules/activation.py:434\u001b[0m, in \u001b[0;36mMish.forward\u001b[0;34m(self, input)\u001b[0m\n\u001b[1;32m    433\u001b[0m \u001b[38;5;28;01mdef\u001b[39;00m \u001b[38;5;21mforward\u001b[39m(\u001b[38;5;28mself\u001b[39m, \u001b[38;5;28minput\u001b[39m: Tensor) \u001b[38;5;241m-\u001b[39m\u001b[38;5;241m>\u001b[39m Tensor:\n\u001b[0;32m--> 434\u001b[0m     \u001b[38;5;28;01mreturn\u001b[39;00m \u001b[43mF\u001b[49m\u001b[38;5;241;43m.\u001b[39;49m\u001b[43mmish\u001b[49m\u001b[43m(\u001b[49m\u001b[38;5;28;43minput\u001b[39;49m\u001b[43m,\u001b[49m\u001b[43m \u001b[49m\u001b[43minplace\u001b[49m\u001b[38;5;241;43m=\u001b[39;49m\u001b[38;5;28;43mself\u001b[39;49m\u001b[38;5;241;43m.\u001b[39;49m\u001b[43minplace\u001b[49m\u001b[43m)\u001b[49m\n",
      "File \u001b[0;32m~/anaconda3/envs/pytorchenv/lib/python3.9/site-packages/torch/nn/functional.py:2122\u001b[0m, in \u001b[0;36mmish\u001b[0;34m(input, inplace)\u001b[0m\n\u001b[1;32m   2120\u001b[0m \u001b[38;5;28;01mif\u001b[39;00m inplace:\n\u001b[1;32m   2121\u001b[0m     \u001b[38;5;28;01mreturn\u001b[39;00m torch\u001b[38;5;241m.\u001b[39m_C\u001b[38;5;241m.\u001b[39m_nn\u001b[38;5;241m.\u001b[39mmish_(\u001b[38;5;28minput\u001b[39m)\n\u001b[0;32m-> 2122\u001b[0m \u001b[38;5;28;01mreturn\u001b[39;00m \u001b[43mtorch\u001b[49m\u001b[38;5;241;43m.\u001b[39;49m\u001b[43m_C\u001b[49m\u001b[38;5;241;43m.\u001b[39;49m\u001b[43m_nn\u001b[49m\u001b[38;5;241;43m.\u001b[39;49m\u001b[43mmish\u001b[49m\u001b[43m(\u001b[49m\u001b[38;5;28;43minput\u001b[39;49m\u001b[43m)\u001b[49m\n",
      "\u001b[0;31mKeyboardInterrupt\u001b[0m: "
     ]
    }
   ],
   "source": [
    "study = optuna.create_study(\n",
    "    direction='maximize',   # max because using f1\n",
    "    pruner=optuna.pruners.HyperbandPruner(\n",
    "        min_resource=1,\n",
    "        max_resource=1000\n",
    "    )\n",
    ")\n",
    "# Uncomment to run\n",
    "if True:\n",
    "    study.optimize(objective, n_trials=2000, callbacks=[print_callback])\n",
    "    # study.optimize(objective, n_trials=3)\n",
    "    print(\"Best trial:\")\n",
    "    trial = study.best_trial\n",
    "    print(\"Value: \", trial.value)\n",
    "    print(\"Params: \")\n",
    "    for key, value in trial.params.items():\n",
    "        print(f\"    {key}: {value}\")\n"
   ]
  },
  {
   "cell_type": "code",
   "execution_count": null,
   "id": "d65ea5b9",
   "metadata": {},
   "outputs": [],
   "source": [
    "# best_params = study.best_trial.params\n",
    "best_params = {'criterion': 'MSELoss', 'first_layer_size': 64, 'num_layers': 7, 'confidence_threshold': 1.8653941637231173e-05, 'dropout': 0.3181431308672629, 'lr': 0.009969598746996452, 'n_epochs': 231}\n",
    "layer_shape = [best_params['first_layer_size']]\n",
    "for i in range(1, best_params['num_layers']):\n",
    "    layer_shape.append(best_params['first_layer_size']//(2*i))\n",
    "\n",
    "# Set random state to have consistent results (42 is arbitrary)\n",
    "set_all_seeds()\n",
    "model = TabularModelUpdated(\n",
    "    n_cont=conts.shape[1],\n",
    "    out_sz=1,\n",
    "    layer_shape=layer_shape,\n",
    "    p=best_params['dropout'],     # Dropout\n",
    "    criterion=nfl_utils.map_losses(best_params['criterion']),\n",
    "    optimizer_class=torch.optim.Adam,\n",
    "    lr= best_params['lr'],   # Learning rate \n",
    "    confidence_threshold=best_params['confidence_threshold']\n",
    ")\n",
    "\n",
    "\n",
    "pipeline = Pipeline([\n",
    "    ('scaler', StandardScaler()), # Standardize the numerical features\n",
    "    # ('regressor', LinearRegression()), # Apply a regression model\n",
    "    ('model', model)\n",
    "])\n",
    "\n",
    "# Run once on each split, track average loss, stop if > max patience\n",
    "for _ in range(0, (best_params['n_epochs'] - 10)):\n",
    "    running_loss = 0.0\n",
    "    # ----- Train -----\n",
    "    pipeline.fit(conts_train, y_train)\n",
    "\n",
    "    # ----- Eval -----\n",
    "    # loss = pipeline.score(perf_conts, perf_y_col)\n",
    "    #print(f\"loss: {loss}\")\n",
    "\n",
    "# pipeline.fit(conts_train, y_train)\n",
    "probas = pipeline.predict(perf_conts)\n",
    "confidence_threshold = best_params['confidence_threshold']\n"
   ]
  },
  {
   "cell_type": "markdown",
   "id": "5109e37c",
   "metadata": {},
   "source": [
    "Value:  0.37491718013436764\n",
    "\n",
    "Params: \n",
    "    first_layer_size: 8\n",
    "    num_layers: 2\n",
    "    n_epochs: 39\n",
    "    dropout: 0.47875406200808335\n",
    "    lr: 0.009997751942238913\n",
    "    \n",
    "\n",
    "\n",
    "Value:  0.3759073484440955\n",
    "Params: \n",
    "    first_layer_size: 8\n",
    "    num_layers: 2\n",
    "    n_epochs: 68\n",
    "    dropout: 0.4497689844977892\n",
    "    lr: 0.007977206154472633\n",
    "    \n",
    "    \n",
    "    \n",
    "12/6\n",
    "\n",
    "Trial 206 finished with value: 0.547218605316966 and parameters: {'criterion': 'MSELoss', 'first_layer_size': 32, 'num_layers': 5, 'confidence_threshold': 0.05966702820817666, 'n_epochs': 379, 'dropout': 0.36961850006275193, 'lr': 0.008649806179332952}. Best is trial 206 with value: 0.547218605316966.\n",
    "\n",
    "[I 2024-12-06 12:49:28,047] Trial 579 finished with value: 0.5335308702482566 and parameters: {'criterion': 'SmoothL1Loss', 'first_layer_size': 16, 'num_layers': 3, 'confidence_threshold': 0.059979796814548306, 'n_epochs': 481, 'dropout': 0.2511747953677191, 'lr': 0.007942836869449217}. Best is trial 579 with value: 0.5335308702482566.\n",
    "\n",
    "\n",
    "[I 2024-12-06 14:53:00,850] Trial 385 finished with value: 0.5547767877242975 and parameters: {'criterion': 'MSELoss', 'first_layer_size': 56, 'num_layers': 6, 'confidence_threshold': 0.003263372268063613, 'n_epochs': 300, 'dropout': 0.3153661030384182, 'lr': 0.00593138298730814}. Best is trial 385 with value: 0.5547767877242975.\n",
    "\n",
    "[I 2024-12-06 15:32:38,969] Trial 583 finished with value: 0.550872165273167 and parameters: {'criterion': 'MSELoss', 'first_layer_size': 56, 'num_layers': 7, 'confidence_threshold': 0.010458110701511005, 'n_epochs': 336, 'dropout': 0.3188974735143638, 'lr': 0.006976522077116529}. Best is trial 385 with value: 0.5547767877242975.\n",
    "\n",
    "[I 2024-12-06 15:55:26,133] Trial 669 finished with value: 0.5645423555160363 and parameters: {'criterion': 'MSELoss', 'first_layer_size': 56, 'num_layers': 7, 'confidence_threshold': 0.0243907527056759, 'n_epochs': 370, 'dropout': 0.32998724447261185, 'lr': 0.0075018456671685696}. Best is trial 669 with value: 0.5645423555160363.\n",
    "\n",
    "[I 2024-12-06 20:33:46,555] Trial 1737 finished with value: 0.5716002919237433 and parameters: {'criterion': 'MSELoss', 'first_layer_size': 56, 'num_layers': 7, 'confidence_threshold': 0.015368961704784596, 'n_epochs': 328, 'dropout': 0.348927921024466, 'lr': 0.009575624984802092}. Best is trial 1737 with value: 0.5716002919237433.\n",
    "\n",
    "\n",
    "[I 2024-12-06 21:17:06,545] Trial 1889 finished with value: 0.5739803740995499 and parameters: {'criterion': 'MSELoss', 'first_layer_size': 56, 'num_layers': 7, 'confidence_threshold': 0.014029751567812504, 'n_epochs': 357, 'dropout': 0.34275064196127053, 'lr': 0.008692336113071646}. Best is trial 1889 with value: 0.5739803740995499.\n",
    "\n",
    "[I 2024-12-10 09:39:54,796] Trial 1612 finished with value: 0.5748324966932515 and parameters: {'criterion': 'MSELoss', 'first_layer_size': 64, 'num_layers': 7, 'confidence_threshold': 0.003855147984840053, 'dropout': 0.3182765851196762, 'lr': 0.008210651343970551, 'n_epochs': 219}. Best is trial 1612 with value: 0.5748324966932515.\n",
    "\n",
    "\n",
    "\n",
    "Trial 1749 finished with value: 0.5772962775717783 and parameters: {'criterion': 'MSELoss', 'first_layer_size': 64, 'num_layers': 7, 'confidence_threshold': 1.8653941637231173e-05, 'dropout': 0.3181431308672629, 'lr': 0.009969598746996452, 'n_epochs': 231}.\n",
    "\n",
    "\n"
   ]
  },
  {
   "cell_type": "code",
   "execution_count": null,
   "id": "eb328981",
   "metadata": {},
   "outputs": [],
   "source": [
    "nfl_utils.backtest_model(pipeline, perf_conts, perf_y_col, perf_date_col, initial_capital=1000, position_size=0.05, confidence_threshold=best_params['confidence_threshold'], show_plot=True)\n"
   ]
  },
  {
   "cell_type": "code",
   "execution_count": null,
   "id": "5b4e2bce",
   "metadata": {},
   "outputs": [],
   "source": [
    "# Remove outside of confidence threshold\n",
    "mask = (probas < 0.5 - confidence_threshold) | (probas > 0.5 + confidence_threshold)\n",
    "predictions = np.where(mask, probas, np.nan)\n",
    "\n",
    "# Use numpy mask for nan values\n",
    "valid_mask = ~np.isnan(predictions)\n",
    "valid_predictions = predictions[valid_mask]\n",
    "valid_mask = valid_mask.flatten()\n",
    "perf_y_col_mask = perf_y_col[valid_mask]\n",
    "\n",
    "\n",
    "true_values = perf_y_col_mask[:,0].astype(np.int32)\n",
    "pred_values = valid_predictions.flatten()\n",
    "pred_values_int = np.rint(valid_predictions).flatten().astype(np.int32)\n",
    "\n",
    "model_win_prob = (1.0*(true_values == pred_values_int).sum()) / (true_values.shape[0])\n",
    "print(model_win_prob)"
   ]
  },
  {
   "cell_type": "markdown",
   "id": "055d6ca8",
   "metadata": {},
   "source": [
    "# Using XGBoost"
   ]
  },
  {
   "cell_type": "code",
   "execution_count": null,
   "id": "de68871b",
   "metadata": {},
   "outputs": [],
   "source": [
    "conts_train.shape"
   ]
  },
  {
   "cell_type": "code",
   "execution_count": null,
   "id": "918c222c",
   "metadata": {},
   "outputs": [],
   "source": []
  },
  {
   "cell_type": "code",
   "execution_count": 13,
   "id": "dc8524f7",
   "metadata": {
    "scrolled": true
   },
   "outputs": [
    {
     "name": "stdout",
     "output_type": "stream",
     "text": [
      "Fitting 5 folds for each of 144 candidates, totalling 720 fits\n"
     ]
    },
    {
     "data": {
      "text/plain": [
       "GridSearchCV(cv=5,\n",
       "             estimator=XGBRegressor(base_score=None, booster=None,\n",
       "                                    callbacks=None, colsample_bylevel=None,\n",
       "                                    colsample_bynode=None,\n",
       "                                    colsample_bytree=None, device=None,\n",
       "                                    early_stopping_rounds=None,\n",
       "                                    enable_categorical=False, eval_metric=None,\n",
       "                                    feature_types=None, gamma=None,\n",
       "                                    grow_policy=None, importance_type=None,\n",
       "                                    interaction_constraints=None,\n",
       "                                    learning_rate=None, m...\n",
       "                                    min_child_weight=None, missing=nan,\n",
       "                                    monotone_constraints=None,\n",
       "                                    multi_strategy=None, n_estimators=None,\n",
       "                                    n_jobs=None, num_parallel_tree=None,\n",
       "                                    random_state=None, ...),\n",
       "             param_grid={'colsample_bytree': [0.8, 1.0],\n",
       "                         'learning_rate': [0.008, 0.01, 0.03],\n",
       "                         'max_depth': [3, 6, 9], 'min_child_weight': [1, 3],\n",
       "                         'n_estimators': [100, 200], 'subsample': [0.8, 1.0]},\n",
       "             scoring='neg_mean_squared_error', verbose=1)"
      ]
     },
     "execution_count": 13,
     "metadata": {},
     "output_type": "execute_result"
    }
   ],
   "source": [
    "# Fit the model\n",
    "param_grid = {\n",
    "    'learning_rate': [ 0.008, 0.01, 0.03],           # Removed 0.5, 1 as they're often too aggressive\n",
    "    'max_depth': [3, 6, 9],                      # Simplified to 3 values, covering shallow to deep\n",
    "    'n_estimators': [100, 200],                  # Removed extremes, these are most common sweet spots\n",
    "    'subsample': [0.8, 1.0],                     # Removed 0.6 as it might be too aggressive for this dataset size\n",
    "    'colsample_bytree': [0.8, 1.0],              # Same as above\n",
    "    'min_child_weight': [1, 3],                  # Removed 5 as it might be too restrictive\n",
    "    # 'monotone_constraints': [monotone_constraints_tuple, no_monotone_constraints_tuple]\n",
    "    # 'monotone_constraints': [no_monotone_constraints_tuple]\n",
    "}\n",
    "aparam_grid = {\n",
    "    'learning_rate': [0.005, 0.01, 0.05],        # Removed 0.5, 1 as they're often too aggressive\n",
    "    'max_depth': [3],                         # Simplified to 3 values, covering shallow to deep\n",
    "    'n_estimators': [300, 350, 400],             # Removed extremes, these are most common sweet spots\n",
    "    'subsample': [0.5, 0.6, 0.7],                # Removed 0.6 as it might be too aggressive for this dataset size\n",
    "    'colsample_bytree': [0.5, 0.6, 0.7],         # Same as above\n",
    "    'min_child_weight': [3, 4],                  # Removed 5 as it might be too restrictive\n",
    "    # 'monotone_constraints': [monotone_constraints_tuple, no_monotone_constraints_tuple]\n",
    "}\n",
    "\n",
    "# model = XGBClassifier(use_label_encoder=False, eval_metric='logloss')\n",
    "model = XGBRegressor(objective='reg:squarederror')\n",
    "\n",
    "# Create a custom scorer using the F1 score\n",
    "# f1_scorer = make_scorer(f1_score, average='weighted')\n",
    "# Tune hyperparameters using GridSearchCV with the custom F1 scorer\n",
    "# grid_search = GridSearchCV(model, param_grid, scoring=f1_scorer, cv=5, verbose=1)\n",
    "grid_search = GridSearchCV(model, param_grid, scoring='neg_mean_squared_error', cv=5, verbose=1)\n",
    "grid_search.fit(conts_train, y_train)\n"
   ]
  },
  {
   "cell_type": "code",
   "execution_count": 14,
   "id": "0acdae5f",
   "metadata": {},
   "outputs": [
    {
     "name": "stdout",
     "output_type": "stream",
     "text": [
      "{'colsample_bytree': 1.0, 'learning_rate': 0.03, 'max_depth': 3, 'min_child_weight': 3, 'n_estimators': 100, 'subsample': 0.8}\n"
     ]
    }
   ],
   "source": [
    "print(grid_search.best_params_)\n",
    "# No monotone constraints\n",
    "# 60.15%, {'colsample_bytree': 1.0, 'learning_rate': 0.01, 'max_depth': 6, 'min_child_weight': 3, 'n_estimators': 100, 'subsample': 0.8}\n",
    "# 65% {'colsample_bytree': 1.0, 'learning_rate': 0.01, 'max_depth': 6, 'min_child_weight': 3, 'n_estimators': 200, 'subsample': 0.8}\n",
    "\n",
    "# Monotone constraints\n",
    "# {'colsample_bytree': 0.8, 'learning_rate': 0.1, 'max_depth': 3, 'min_child_weight': 3, 'monotone_constraints': (1, 1, 1, 1, 1, 1, 0, 1, 1, -1, -1, 0, 1, 1, -1, -1, -1, -1, 0, 1, -1, 1, -1, 1, 1, 1, 1, 1, 0, 1, 1, 1, 1, 0, 0, 1, 1, 0, 1, 1, 0, 1, 0, 0, 1, 0, 1, 0, 0, 1, 1, 0, 0, 1, 1, 0, 0, 0, 0, 1, 0, 1), 'n_estimators': 200, 'subsample': 1.0}"
   ]
  },
  {
   "cell_type": "code",
   "execution_count": 12,
   "id": "7ee2ec9d",
   "metadata": {
    "scrolled": true
   },
   "outputs": [
    {
     "name": "stdout",
     "output_type": "stream",
     "text": [
      "[0]\tvalidation_0-rmse:0.49255\n",
      "[1]\tvalidation_0-rmse:0.49108\n",
      "[2]\tvalidation_0-rmse:0.48967\n",
      "[3]\tvalidation_0-rmse:0.48835\n",
      "[4]\tvalidation_0-rmse:0.48711\n",
      "[5]\tvalidation_0-rmse:0.48584\n",
      "[6]\tvalidation_0-rmse:0.48473\n",
      "[7]\tvalidation_0-rmse:0.48363\n",
      "[8]\tvalidation_0-rmse:0.48256\n",
      "[9]\tvalidation_0-rmse:0.48160\n",
      "[10]\tvalidation_0-rmse:0.48067\n",
      "[11]\tvalidation_0-rmse:0.47977\n",
      "[12]\tvalidation_0-rmse:0.47888\n",
      "[13]\tvalidation_0-rmse:0.47808\n",
      "[14]\tvalidation_0-rmse:0.47732\n",
      "[15]\tvalidation_0-rmse:0.47657\n",
      "[16]\tvalidation_0-rmse:0.47587\n",
      "[17]\tvalidation_0-rmse:0.47518\n",
      "[18]\tvalidation_0-rmse:0.47454\n",
      "[19]\tvalidation_0-rmse:0.47394\n",
      "[20]\tvalidation_0-rmse:0.47332\n",
      "[21]\tvalidation_0-rmse:0.47277\n",
      "[22]\tvalidation_0-rmse:0.47221\n",
      "[23]\tvalidation_0-rmse:0.47169\n",
      "[24]\tvalidation_0-rmse:0.47117\n",
      "[25]\tvalidation_0-rmse:0.47069\n",
      "[26]\tvalidation_0-rmse:0.47016\n",
      "[27]\tvalidation_0-rmse:0.46968\n",
      "[28]\tvalidation_0-rmse:0.46928\n",
      "[29]\tvalidation_0-rmse:0.46889\n",
      "[30]\tvalidation_0-rmse:0.46850\n",
      "[31]\tvalidation_0-rmse:0.46809\n",
      "[32]\tvalidation_0-rmse:0.46771\n",
      "[33]\tvalidation_0-rmse:0.46732\n",
      "[34]\tvalidation_0-rmse:0.46698\n",
      "[35]\tvalidation_0-rmse:0.46663\n",
      "[36]\tvalidation_0-rmse:0.46628\n",
      "[37]\tvalidation_0-rmse:0.46597\n",
      "[38]\tvalidation_0-rmse:0.46569\n",
      "[39]\tvalidation_0-rmse:0.46537\n",
      "[40]\tvalidation_0-rmse:0.46504\n",
      "[41]\tvalidation_0-rmse:0.46473\n",
      "[42]\tvalidation_0-rmse:0.46446\n",
      "[43]\tvalidation_0-rmse:0.46416\n",
      "[44]\tvalidation_0-rmse:0.46392\n",
      "[45]\tvalidation_0-rmse:0.46365\n",
      "[46]\tvalidation_0-rmse:0.46338\n",
      "[47]\tvalidation_0-rmse:0.46313\n",
      "[48]\tvalidation_0-rmse:0.46287\n",
      "[49]\tvalidation_0-rmse:0.46260\n",
      "[50]\tvalidation_0-rmse:0.46235\n",
      "[51]\tvalidation_0-rmse:0.46214\n",
      "[52]\tvalidation_0-rmse:0.46191\n",
      "[53]\tvalidation_0-rmse:0.46168\n",
      "[54]\tvalidation_0-rmse:0.46144\n",
      "[55]\tvalidation_0-rmse:0.46122\n",
      "[56]\tvalidation_0-rmse:0.46101\n",
      "[57]\tvalidation_0-rmse:0.46080\n",
      "[58]\tvalidation_0-rmse:0.46063\n",
      "[59]\tvalidation_0-rmse:0.46042\n",
      "[60]\tvalidation_0-rmse:0.46023\n",
      "[61]\tvalidation_0-rmse:0.46002\n",
      "[62]\tvalidation_0-rmse:0.45984\n",
      "[63]\tvalidation_0-rmse:0.45963\n",
      "[64]\tvalidation_0-rmse:0.45939\n",
      "[65]\tvalidation_0-rmse:0.45922\n",
      "[66]\tvalidation_0-rmse:0.45904\n",
      "[67]\tvalidation_0-rmse:0.45885\n",
      "[68]\tvalidation_0-rmse:0.45863\n",
      "[69]\tvalidation_0-rmse:0.45847\n",
      "[70]\tvalidation_0-rmse:0.45828\n",
      "[71]\tvalidation_0-rmse:0.45810\n",
      "[72]\tvalidation_0-rmse:0.45784\n",
      "[73]\tvalidation_0-rmse:0.45765\n",
      "[74]\tvalidation_0-rmse:0.45755\n",
      "[75]\tvalidation_0-rmse:0.45739\n",
      "[76]\tvalidation_0-rmse:0.45721\n",
      "[77]\tvalidation_0-rmse:0.45708\n",
      "[78]\tvalidation_0-rmse:0.45691\n",
      "[79]\tvalidation_0-rmse:0.45672\n",
      "[80]\tvalidation_0-rmse:0.45657\n",
      "[81]\tvalidation_0-rmse:0.45639\n",
      "[82]\tvalidation_0-rmse:0.45621\n",
      "[83]\tvalidation_0-rmse:0.45601\n",
      "[84]\tvalidation_0-rmse:0.45584\n",
      "[85]\tvalidation_0-rmse:0.45565\n",
      "[86]\tvalidation_0-rmse:0.45549\n",
      "[87]\tvalidation_0-rmse:0.45528\n",
      "[88]\tvalidation_0-rmse:0.45511\n",
      "[89]\tvalidation_0-rmse:0.45495\n",
      "[90]\tvalidation_0-rmse:0.45481\n",
      "[91]\tvalidation_0-rmse:0.45462\n",
      "[92]\tvalidation_0-rmse:0.45441\n",
      "[93]\tvalidation_0-rmse:0.45424\n",
      "[94]\tvalidation_0-rmse:0.45411\n",
      "[95]\tvalidation_0-rmse:0.45394\n",
      "[96]\tvalidation_0-rmse:0.45377\n",
      "[97]\tvalidation_0-rmse:0.45359\n",
      "[98]\tvalidation_0-rmse:0.45338\n",
      "[99]\tvalidation_0-rmse:0.45322\n"
     ]
    },
    {
     "data": {
      "text/plain": [
       "XGBRegressor(base_score=None, booster=None, callbacks=None,\n",
       "             colsample_bylevel=None, colsample_bynode=None,\n",
       "             colsample_bytree=1.0, device=None, early_stopping_rounds=None,\n",
       "             enable_categorical=False, eval_metric=None, feature_types=None,\n",
       "             gamma=None, grow_policy=None, importance_type=None,\n",
       "             interaction_constraints=None, learning_rate=0.03, max_bin=None,\n",
       "             max_cat_threshold=None, max_cat_to_onehot=None,\n",
       "             max_delta_step=None, max_depth=3, max_leaves=None,\n",
       "             min_child_weight=3, missing=nan, monotone_constraints=None,\n",
       "             multi_strategy=None, n_estimators=100, n_jobs=None,\n",
       "             num_parallel_tree=None, random_state=None, ...)"
      ]
     },
     "execution_count": 12,
     "metadata": {},
     "output_type": "execute_result"
    }
   ],
   "source": [
    "\n",
    "# train final model w/ early stopping\n",
    "model = XGBClassifier(\n",
    "    eval_metric='logloss',\n",
    "    early_stopping_rounds=10,\n",
    "    # **grid_search.best_params_\n",
    "    # **{'colsample_bytree': 1.0, 'learning_rate': 0.01, 'max_depth': 6, 'min_child_weight': 3, 'n_estimators': 200, 'subsample': 0.8}\n",
    "    # **{'colsample_bytree': 0.8, 'learning_rate': 0.1, 'max_depth': 3, 'min_child_weight': 3, 'monotone_constraints': (1, 1, 1, 1, 1, 1, 0, 1, 1, -1, -1, 0, 1, 1, -1, -1, -1, -1, 0, 1, -1, 1, -1, 1, 1, 1, 1, 1, 0, 1, 1, 1, 1, 0, 0, 1, 1, 0, 1, 1, 0, 1, 0, 0, 1, 0, 1, 0, 0, 1, 1, 0, 0, 1, 1, 0, 0, 0, 0, 1, 0, 1), 'n_estimators': 90, 'subsample': 1.0},\n",
    "    \n",
    "    # **{'colsample_bytree': 0.8, 'learning_rate': 0.1, 'max_depth': 3, 'min_child_weight': 3, 'monotone_constraints': (1, 1, 1, 1, 1, 1, 0, 1, 1, -1, -1, 0, 1, 1, -1, -1, -1, -1, 0, 1, -1, 1, -1, 1, 1, 1, 1, 1, 0, 1, 1, 1, 1, 0, 0, 1, 1, 0, 1, 1, 0, 1, 0, 0, 1, 0, 1, 0, 0, 1, 1, 0, 0, 1, 1, 0, 0, 0, 0, 1, 0, 1), 'n_estimators': 200, 'subsample': 1.0}\n",
    "\n",
    "    # **grid_search.best_params_,\n",
    "    # **{'colsample_bytree': 1.0, 'learning_rate': 0.01, 'max_depth': 6, 'min_child_weight': 3, 'monotone_constraints': (0, 0, 0, 0, 0, 0, 0, 0, 0, 0, 0, 0, 0, 0, 0, 0, 0, 0, 0, 0, 0, 0, 0, 0, 0, 0, 0, 0, 0, 0, 0, 0, 0, 0, 0, 0, 0, 0, 0, 0, 0, 0, 0, 0, 0, 0, 0, 0, 0, 0, 0, 0, 0, 0, 0, 0, 0, 0, 0, 0, 0, 0), 'n_estimators': 200, 'subsample': 0.8}\n",
    "    # 66.5%, dd 31.4%\n",
    "    # {'colsample_bytree': 0.8, 'learning_rate': 0.01, 'max_depth': 3, 'min_child_weight': 3, 'monotone_constraints': (0, 0, 0, 0, 0, 0, 0, 0, 0, 0, 0, 0, 0, 0, 0, 0, 0, 0, 0, 0, 0, 0, 0, 0, 0, 0, 0, 0, 0, 0, 0, 0, 0, 0, 0, 0, 0, 0, 0, 0, 0, 0, 0, 0, 0, 0, 0, 0, 0, 0, 0, 0, 0, 0, 0, 0, 0, 0, 0), 'n_estimators': 200, 'subsample': 0.8}\n",
    "    # 66.5%, dd 30.9%\n",
    "    # {'colsample_bytree': 1.0, 'learning_rate': 0.005, 'max_depth': 5, 'min_child_weight': 3, 'monotone_constraints': (0, 0, 0, 0, 0, 0, 0, 0, 0, 0, 0, 0, 0, 0, 0, 0, 0, 0, 0, 0, 0, 0, 0, 0, 0, 0, 0, 0, 0, 0, 0, 0, 0, 0, 0, 0, 0, 0, 0, 0, 0, 0, 0, 0, 0, 0, 0, 0, 0, 0, 0, 0, 0, 0, 0, 0, 0, 0, 0), 'n_estimators': 300, 'subsample': 0.6}\n",
    ")\n",
    "model = XGBRegressor(\n",
    "    objective='reg:squarederror', \n",
    "    # **grid_search.best_params_,\n",
    "    # 67.3 w/ kelly adjustments 0.2, 0.01\n",
    "    # {'colsample_bytree': 0.6, 'learning_rate': 0.01, 'max_depth': 3, 'min_child_weight': 4, 'monotone_constraints': (0, 0, 0, 0, 0, 0, 0, 0, 0, 0, 0, 0, 0, 0, 0, 0, 0, 0, 0, 0, 0, 0, 0, 0, 0, 0, 0, 0, 0, 0, 0, 0, 0, 0, 0, 0, 0, 0, 0, 0, 0, 0, 0, 0, 0, 0, 0, 0, 0, 0, 0, 0, 0, 0, 0, 0, 0, 0, 0), 'n_estimators': 350, 'subsample': 0.6}\n",
    "    # 67.2, dd 28.68 kelly 0.25, 0.014\n",
    "    # **{'colsample_bytree': 0.7, 'learning_rate': 0.01, 'max_depth': 3, 'min_child_weight': 3, 'n_estimators': 350, 'subsample': 0.5}\n",
    "    \n",
    "   # **{'colsample_bytree': 0.6, 'learning_rate': 0.01, 'max_depth': 3, 'min_child_weight': 3, 'n_estimators': 300, 'subsample': 0.5}\n",
    "    **{'colsample_bytree': 1.0, 'learning_rate': 0.03, 'max_depth': 3, 'min_child_weight': 3, 'n_estimators': 100, 'subsample': 0.8}\n",
    "\n",
    "\n",
    ")\n",
    "model.fit(\n",
    "    conts_train,\n",
    "    y_train,\n",
    "    eval_set=[(conts_train, y_train)], # , (holdout_conts, holdout_y)\n",
    "    verbose=True\n",
    ")"
   ]
  },
  {
   "cell_type": "code",
   "execution_count": 16,
   "id": "0ef6e5d2",
   "metadata": {},
   "outputs": [
    {
     "data": {
      "text/plain": [
       "array([0.        , 8.57      , 1.08      , 3.98666667, 1.23444444])"
      ]
     },
     "execution_count": 16,
     "metadata": {},
     "output_type": "execute_result"
    }
   ],
   "source": [
    "# perf_conts.shape\n",
    "perf_y_col.shape\n",
    "perf_y_col[0]"
   ]
  },
  {
   "cell_type": "code",
   "execution_count": 16,
   "id": "177675db",
   "metadata": {},
   "outputs": [
    {
     "ename": "ValueError",
     "evalue": "Feature shape mismatch, expected: 59, got 48",
     "output_type": "error",
     "traceback": [
      "\u001b[0;31m---------------------------------------------------------------------------\u001b[0m",
      "\u001b[0;31mValueError\u001b[0m                                Traceback (most recent call last)",
      "Cell \u001b[0;32mIn[16], line 5\u001b[0m\n\u001b[1;32m      3\u001b[0m model \u001b[38;5;241m=\u001b[39m xgb\u001b[38;5;241m.\u001b[39mXGBRegressor()\n\u001b[1;32m      4\u001b[0m model\u001b[38;5;241m.\u001b[39mload_model(\u001b[38;5;124m'\u001b[39m\u001b[38;5;124mxgboost_model.bin\u001b[39m\u001b[38;5;124m'\u001b[39m)\n\u001b[0;32m----> 5\u001b[0m y_pred \u001b[38;5;241m=\u001b[39m \u001b[43mmodel\u001b[49m\u001b[38;5;241;43m.\u001b[39;49m\u001b[43mpredict\u001b[49m\u001b[43m(\u001b[49m\u001b[43mperf_conts\u001b[49m\u001b[43m)\u001b[49m\n\u001b[1;32m      7\u001b[0m nfl_utils\u001b[38;5;241m.\u001b[39mbacktest_model(model, perf_conts, perf_y_col, perf_date_col, initial_capital\u001b[38;5;241m=\u001b[39m\u001b[38;5;241m1000\u001b[39m, position_size\u001b[38;5;241m=\u001b[39m\u001b[38;5;241m0.1\u001b[39m, \n\u001b[1;32m      8\u001b[0m                    confidence_threshold\u001b[38;5;241m=\u001b[39m\u001b[38;5;241m0.0\u001b[39m, show_plot\u001b[38;5;241m=\u001b[39m\u001b[38;5;28;01mTrue\u001b[39;00m, max_won_odds\u001b[38;5;241m=\u001b[39m\u001b[38;5;241m12.2\u001b[39m)\n",
      "File \u001b[0;32m~/anaconda3/envs/pytorchenv/lib/python3.9/site-packages/xgboost/sklearn.py:1248\u001b[0m, in \u001b[0;36mXGBModel.predict\u001b[0;34m(self, X, output_margin, validate_features, base_margin, iteration_range)\u001b[0m\n\u001b[1;32m   1246\u001b[0m \u001b[38;5;28;01mif\u001b[39;00m \u001b[38;5;28mself\u001b[39m\u001b[38;5;241m.\u001b[39m_can_use_inplace_predict():\n\u001b[1;32m   1247\u001b[0m     \u001b[38;5;28;01mtry\u001b[39;00m:\n\u001b[0;32m-> 1248\u001b[0m         predts \u001b[38;5;241m=\u001b[39m \u001b[38;5;28;43mself\u001b[39;49m\u001b[38;5;241;43m.\u001b[39;49m\u001b[43mget_booster\u001b[49m\u001b[43m(\u001b[49m\u001b[43m)\u001b[49m\u001b[38;5;241;43m.\u001b[39;49m\u001b[43minplace_predict\u001b[49m\u001b[43m(\u001b[49m\n\u001b[1;32m   1249\u001b[0m \u001b[43m            \u001b[49m\u001b[43mdata\u001b[49m\u001b[38;5;241;43m=\u001b[39;49m\u001b[43mX\u001b[49m\u001b[43m,\u001b[49m\n\u001b[1;32m   1250\u001b[0m \u001b[43m            \u001b[49m\u001b[43miteration_range\u001b[49m\u001b[38;5;241;43m=\u001b[39;49m\u001b[43miteration_range\u001b[49m\u001b[43m,\u001b[49m\n\u001b[1;32m   1251\u001b[0m \u001b[43m            \u001b[49m\u001b[43mpredict_type\u001b[49m\u001b[38;5;241;43m=\u001b[39;49m\u001b[38;5;124;43m\"\u001b[39;49m\u001b[38;5;124;43mmargin\u001b[39;49m\u001b[38;5;124;43m\"\u001b[39;49m\u001b[43m \u001b[49m\u001b[38;5;28;43;01mif\u001b[39;49;00m\u001b[43m \u001b[49m\u001b[43moutput_margin\u001b[49m\u001b[43m \u001b[49m\u001b[38;5;28;43;01melse\u001b[39;49;00m\u001b[43m \u001b[49m\u001b[38;5;124;43m\"\u001b[39;49m\u001b[38;5;124;43mvalue\u001b[39;49m\u001b[38;5;124;43m\"\u001b[39;49m\u001b[43m,\u001b[49m\n\u001b[1;32m   1252\u001b[0m \u001b[43m            \u001b[49m\u001b[43mmissing\u001b[49m\u001b[38;5;241;43m=\u001b[39;49m\u001b[38;5;28;43mself\u001b[39;49m\u001b[38;5;241;43m.\u001b[39;49m\u001b[43mmissing\u001b[49m\u001b[43m,\u001b[49m\n\u001b[1;32m   1253\u001b[0m \u001b[43m            \u001b[49m\u001b[43mbase_margin\u001b[49m\u001b[38;5;241;43m=\u001b[39;49m\u001b[43mbase_margin\u001b[49m\u001b[43m,\u001b[49m\n\u001b[1;32m   1254\u001b[0m \u001b[43m            \u001b[49m\u001b[43mvalidate_features\u001b[49m\u001b[38;5;241;43m=\u001b[39;49m\u001b[43mvalidate_features\u001b[49m\u001b[43m,\u001b[49m\n\u001b[1;32m   1255\u001b[0m \u001b[43m        \u001b[49m\u001b[43m)\u001b[49m\n\u001b[1;32m   1256\u001b[0m         \u001b[38;5;28;01mif\u001b[39;00m _is_cupy_alike(predts):\n\u001b[1;32m   1257\u001b[0m             \u001b[38;5;28;01mimport\u001b[39;00m \u001b[38;5;21;01mcupy\u001b[39;00m  \u001b[38;5;66;03m# pylint: disable=import-error\u001b[39;00m\n",
      "File \u001b[0;32m~/anaconda3/envs/pytorchenv/lib/python3.9/site-packages/xgboost/core.py:2524\u001b[0m, in \u001b[0;36mBooster.inplace_predict\u001b[0;34m(self, data, iteration_range, predict_type, missing, validate_features, base_margin, strict_shape)\u001b[0m\n\u001b[1;32m   2520\u001b[0m         \u001b[38;5;28;01mraise\u001b[39;00m \u001b[38;5;167;01mTypeError\u001b[39;00m(\n\u001b[1;32m   2521\u001b[0m             \u001b[38;5;124m\"\u001b[39m\u001b[38;5;124m`shape` attribute is required when `validate_features` is True.\u001b[39m\u001b[38;5;124m\"\u001b[39m\n\u001b[1;32m   2522\u001b[0m         )\n\u001b[1;32m   2523\u001b[0m     \u001b[38;5;28;01mif\u001b[39;00m \u001b[38;5;28mlen\u001b[39m(data\u001b[38;5;241m.\u001b[39mshape) \u001b[38;5;241m!=\u001b[39m \u001b[38;5;241m1\u001b[39m \u001b[38;5;129;01mand\u001b[39;00m \u001b[38;5;28mself\u001b[39m\u001b[38;5;241m.\u001b[39mnum_features() \u001b[38;5;241m!=\u001b[39m data\u001b[38;5;241m.\u001b[39mshape[\u001b[38;5;241m1\u001b[39m]:\n\u001b[0;32m-> 2524\u001b[0m         \u001b[38;5;28;01mraise\u001b[39;00m \u001b[38;5;167;01mValueError\u001b[39;00m(\n\u001b[1;32m   2525\u001b[0m             \u001b[38;5;124mf\u001b[39m\u001b[38;5;124m\"\u001b[39m\u001b[38;5;124mFeature shape mismatch, expected: \u001b[39m\u001b[38;5;132;01m{\u001b[39;00m\u001b[38;5;28mself\u001b[39m\u001b[38;5;241m.\u001b[39mnum_features()\u001b[38;5;132;01m}\u001b[39;00m\u001b[38;5;124m, \u001b[39m\u001b[38;5;124m\"\u001b[39m\n\u001b[1;32m   2526\u001b[0m             \u001b[38;5;124mf\u001b[39m\u001b[38;5;124m\"\u001b[39m\u001b[38;5;124mgot \u001b[39m\u001b[38;5;132;01m{\u001b[39;00mdata\u001b[38;5;241m.\u001b[39mshape[\u001b[38;5;241m1\u001b[39m]\u001b[38;5;132;01m}\u001b[39;00m\u001b[38;5;124m\"\u001b[39m\n\u001b[1;32m   2527\u001b[0m         )\n\u001b[1;32m   2529\u001b[0m \u001b[38;5;28;01mif\u001b[39;00m _is_np_array_like(data):\n\u001b[1;32m   2530\u001b[0m     \u001b[38;5;28;01mfrom\u001b[39;00m \u001b[38;5;21;01m.\u001b[39;00m\u001b[38;5;21;01mdata\u001b[39;00m \u001b[38;5;28;01mimport\u001b[39;00m _ensure_np_dtype\n",
      "\u001b[0;31mValueError\u001b[0m: Feature shape mismatch, expected: 59, got 48"
     ]
    }
   ],
   "source": [
    "# Make predictions for test data\n",
    "# model = grid_search.best_estimator_\n",
    "y_pred = model.predict(perf_conts)\n",
    "\n",
    "nfl_utils.backtest_model(model, perf_conts, perf_y_col, perf_date_col, initial_capital=1000, position_size=0.1, \n",
    "                   confidence_threshold=0.0, show_plot=True, max_won_odds=12.2)"
   ]
  },
  {
   "cell_type": "code",
   "execution_count": null,
   "id": "5fb3d7cf",
   "metadata": {
    "scrolled": true
   },
   "outputs": [],
   "source": [
    "# Make confusion matrix\n",
    "cm = confusion_matrix(perf_y_col[:,0], y_pred)\n",
    "sns.heatmap(cm, annot=True, fmt='d', cmap='Blues')\n",
    "plt.xlabel('Predicted Labels')\n",
    "plt.ylabel('True Labels')\n",
    "plt.title('Confusion Matrix')\n",
    "plt.show()"
   ]
  },
  {
   "cell_type": "markdown",
   "id": "e7025ece",
   "metadata": {},
   "source": [
    "## Save XGBoost model"
   ]
  },
  {
   "cell_type": "code",
   "execution_count": null,
   "id": "50cc9ed2",
   "metadata": {},
   "outputs": [],
   "source": [
    "model.save_model('xgboost_model.bin')"
   ]
  },
  {
   "cell_type": "code",
   "execution_count": null,
   "id": "79e94a74",
   "metadata": {},
   "outputs": [],
   "source": []
  },
  {
   "cell_type": "code",
   "execution_count": null,
   "id": "41d6577d",
   "metadata": {},
   "outputs": [],
   "source": []
  },
  {
   "cell_type": "markdown",
   "id": "a8a1a349",
   "metadata": {},
   "source": []
  },
  {
   "cell_type": "code",
   "execution_count": null,
   "id": "b705bd4b",
   "metadata": {},
   "outputs": [],
   "source": []
  }
 ],
 "metadata": {
  "kernelspec": {
   "display_name": "Python 3 (ipykernel)",
   "language": "python",
   "name": "python3"
  },
  "language_info": {
   "codemirror_mode": {
    "name": "ipython",
    "version": 3
   },
   "file_extension": ".py",
   "mimetype": "text/x-python",
   "name": "python",
   "nbconvert_exporter": "python",
   "pygments_lexer": "ipython3",
   "version": "3.9.21"
  }
 },
 "nbformat": 4,
 "nbformat_minor": 5
}
