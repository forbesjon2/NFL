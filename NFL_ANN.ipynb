{
 "cells": [
  {
   "cell_type": "code",
   "execution_count": 1,
   "id": "70409bb3",
   "metadata": {},
   "outputs": [],
   "source": [
    "import torch\n",
    "import torch.nn as nn\n",
    "from torch.utils.data import DataLoader, TensorDataset\n",
    "import numpy as np\n",
    "import pandas as pd\n",
    "import pickle\n",
    "import math\n",
    "import optuna\n",
    "import matplotlib.pyplot as plt\n",
    "from sklearn.utils import shuffle\n",
    "from sklearn.model_selection import KFold\n",
    "from sklearn import preprocessing\n",
    "from NFLUtils import NFLUtils\n",
    "nfl_utils = NFLUtils()\n",
    "\n",
    "%matplotlib inline\n",
    "\n",
    "# ANN\n",
    "from sklearn.pipeline import Pipeline\n",
    "from sklearn.base import BaseEstimator, RegressorMixin\n",
    "from sklearn.preprocessing import StandardScaler\n",
    "from sklearn.linear_model import LinearRegression\n",
    "from sklearn.model_selection import cross_val_score\n",
    "from sklearn.metrics import f1_score\n",
    "\n",
    "import logging\n",
    "# Set up logging\n",
    "logging.basicConfig(level=logging.INFO)\n",
    "# Set pandas display option to show all columns\n",
    "pd.set_option('display.max_columns', None)\n",
    "\n",
    "# XGBoost \n",
    "from xgboost import XGBClassifier, XGBRegressor\n",
    "from sklearn.metrics import accuracy_score, confusion_matrix, make_scorer, f1_score\n",
    "from sklearn.model_selection import GridSearchCV, RandomizedSearchCV\n",
    "import seaborn as sns # confusion matrix\n",
    "\n",
    "# Set device to GPU if available \n",
    "device = torch.device('cuda' if torch.cuda.is_available() else 'cpu')"
   ]
  },
  {
   "cell_type": "code",
   "execution_count": 2,
   "id": "556dd56a",
   "metadata": {},
   "outputs": [],
   "source": [
    "def set_all_seeds(seed=42):\n",
    "    np.random.seed(seed)\n",
    "    torch.manual_seed(seed)\n",
    "    torch.cuda.manual_seed_all(seed)\n",
    "    torch.backends.cudnn.deterministic = True\n",
    "    torch.backends.cudnn.benchmark = False"
   ]
  },
  {
   "cell_type": "markdown",
   "id": "ddff2364",
   "metadata": {},
   "source": [
    "### Load CSV & UMAP model\n",
    "cp Combined.csv ~/drive/Notes/ML/Pytorch/footballData/"
   ]
  },
  {
   "cell_type": "code",
   "execution_count": 3,
   "id": "dfebbf64",
   "metadata": {},
   "outputs": [
    {
     "name": "stdout",
     "output_type": "stream",
     "text": [
      "<class 'pandas.core.frame.DataFrame'>\n",
      "RangeIndex: 5464 entries, 0 to 5463\n",
      "Data columns (total 70 columns):\n",
      " #   Column                   Non-Null Count  Dtype  \n",
      "---  ------                   --------------  -----  \n",
      " 0   Unnamed: 0               5464 non-null   int64  \n",
      " 1   Season                   5464 non-null   int64  \n",
      " 2   Date                     5464 non-null   object \n",
      " 3   Home_Team                5464 non-null   object \n",
      " 4   Visitor_Team             5464 non-null   object \n",
      " 5   H_halftime_odds          5464 non-null   float64\n",
      " 6   V_halftime_odds          5464 non-null   float64\n",
      " 7   H_start_odds             5464 non-null   float64\n",
      " 8   V_start_odds             5464 non-null   float64\n",
      " 9   H_Won                    5464 non-null   float64\n",
      " 10  D_First_Downs            5464 non-null   float64\n",
      " 11  D_Rush                   5464 non-null   float64\n",
      " 12  D_Yds                    5464 non-null   float64\n",
      " 13  D_TDs                    5464 non-null   float64\n",
      " 14  D_Cmp                    5464 non-null   float64\n",
      " 15  D_Att                    5464 non-null   float64\n",
      " 16  D_Yd                     5464 non-null   float64\n",
      " 17  D_TD                     5464 non-null   float64\n",
      " 18  D_INT                    5464 non-null   float64\n",
      " 19  D_Sacked                 5464 non-null   float64\n",
      " 20  D_Sacked_Yards           5464 non-null   float64\n",
      " 21  D_Net_Pass_Yards         5464 non-null   float64\n",
      " 22  D_Total_Yards            5464 non-null   float64\n",
      " 23  D_Fumbles                5464 non-null   float64\n",
      " 24  D_Lost                   5464 non-null   float64\n",
      " 25  D_Turnovers              5464 non-null   float64\n",
      " 26  D_Penalties              5464 non-null   float64\n",
      " 27  D_Third_Down_Conv        5464 non-null   float64\n",
      " 28  D_Fourth_Down_Conv       5464 non-null   float64\n",
      " 29  D_Time_of_Possession     5464 non-null   float64\n",
      " 30  D_passing_att            5464 non-null   float64\n",
      " 31  D_passing_cmp            5464 non-null   float64\n",
      " 32  D_passing_int            5464 non-null   float64\n",
      " 33  D_passing_lng            5464 non-null   float64\n",
      " 34  D_passing_sk             5464 non-null   float64\n",
      " 35  D_passing_td             5464 non-null   float64\n",
      " 36  D_receiving_lng          5464 non-null   float64\n",
      " 37  D_rushing_att            5464 non-null   float64\n",
      " 38  D_rushing_lng            5464 non-null   float64\n",
      " 39  D_rushing_td             5464 non-null   float64\n",
      " 40  D_rushing_yds            5464 non-null   float64\n",
      " 41  D_passing_rushing_td     5464 non-null   float64\n",
      " 42  D_def_interceptions_int  5464 non-null   float64\n",
      " 43  D_def_interceptions_td   5464 non-null   float64\n",
      " 44  D_def_interceptions_yds  5464 non-null   float64\n",
      " 45  D_fumbles_ff             5464 non-null   float64\n",
      " 46  D_fumbles_fr             5464 non-null   float64\n",
      " 47  D_fumbles_td             5464 non-null   float64\n",
      " 48  D_fumbles_yds            5464 non-null   float64\n",
      " 49  D_sk                     5464 non-null   float64\n",
      " 50  D_tackles_ast            5464 non-null   float64\n",
      " 51  D_tackles_comb           5464 non-null   float64\n",
      " 52  D_tackles_solo           5464 non-null   float64\n",
      " 53  D_kick_punt_returns_lng  5464 non-null   float64\n",
      " 54  D_kick_punt_returns_rt   5464 non-null   float64\n",
      " 55  D_kick_punt_returns_yds  5464 non-null   float64\n",
      " 56  D_punting_pnt            5464 non-null   float64\n",
      " 57  D_punting_avg            5464 non-null   float64\n",
      " 58  D_scoring_fga            5464 non-null   float64\n",
      " 59  D_scoring_fgp            5464 non-null   float64\n",
      " 60  D_scoring_xpa            5464 non-null   float64\n",
      " 61  D_scoring_xpp            5464 non-null   float64\n",
      " 62  D_Final                  5464 non-null   float64\n",
      " 63  D_Final_Allowed          5464 non-null   float64\n",
      " 64  D_start_odds             5464 non-null   float64\n",
      " 65  D_halftime_odds          5464 non-null   float64\n",
      " 66  D_datediff               5464 non-null   float64\n",
      " 67  D_pythagorean            5464 non-null   float64\n",
      " 68  kick_punt_umap_dim_1     5264 non-null   float64\n",
      " 69  kick_punt_umap_dim_2     5264 non-null   float64\n",
      "dtypes: float64(65), int64(2), object(3)\n",
      "memory usage: 2.9+ MB\n",
      "df after perf set removed: (5264, 70)\n",
      "performance set size: (200, 70)\n",
      "df after missing odds removed: (5264, 70)\n",
      "df perf after missing odds removed: (191, 70)\n",
      "<class 'umap.umap_.UMAP'>\n"
     ]
    }
   ],
   "source": [
    "# Load CSV\n",
    "df = pd.read_csv(\"./footballData/CombinedSlidingWindow4.csv\", index_col=False, low_memory=False)\n",
    "\n",
    "df.info()\n",
    "\n",
    "# The performance set's size is defined in the SlidingWindowNFL-1 file. When kick_punt_umap_dim_1 (or 2) is blank\n",
    "test_performance_df = df[df['kick_punt_umap_dim_1'].isna()]\n",
    "df = df[df['kick_punt_umap_dim_1'].isna() == False]\n",
    "print(f'df after perf set removed: {df.shape}')\n",
    "print(f'performance set size: {test_performance_df.shape}')\n",
    "\n",
    "# Remove missing odds data (Ignore data with no odds?)\n",
    "test_performance_df = test_performance_df[test_performance_df['D_start_odds'] != 0.0]\n",
    "\n",
    "print(f'df after missing odds removed: {df.shape}')\n",
    "print(f'df perf after missing odds removed: {test_performance_df.shape}')\n",
    "\n",
    "# Load the UMAP\n",
    "filename = \"kick_punt_umap.sav\"\n",
    "umap_model = None\n",
    "try:\n",
    "    with open(filename, 'rb') as file:\n",
    "        umap_model = pickle.load(file)\n",
    "        print(type(umap_model))\n",
    "except EOFError:\n",
    "    print(\"The file is empty or corrupt. Please check its content.\")"
   ]
  },
  {
   "cell_type": "markdown",
   "id": "3e26c9e0",
   "metadata": {},
   "source": [
    "### Remove items w/ missing odds data, apply UMAP to performance set"
   ]
  },
  {
   "cell_type": "code",
   "execution_count": 4,
   "id": "593aec0f",
   "metadata": {},
   "outputs": [
    {
     "name": "stdout",
     "output_type": "stream",
     "text": [
      "(191, 70)\n"
     ]
    },
    {
     "name": "stderr",
     "output_type": "stream",
     "text": [
      "OMP: Info #276: omp_set_nested routine deprecated, please use omp_set_max_active_levels instead.\n"
     ]
    },
    {
     "name": "stdout",
     "output_type": "stream",
     "text": [
      "(191, 2)\n"
     ]
    }
   ],
   "source": [
    "# Remove missing odds data\n",
    "test_performance_df = test_performance_df[test_performance_df['D_start_odds'] != 0.0]\n",
    "print(test_performance_df.shape)\n",
    "\n",
    "# ---- Apply UMAP to performance set ----\n",
    "# Fit standardScaler on the training set\n",
    "umap_columns = [\"D_kick_punt_returns_lng\", \"D_kick_punt_returns_rt\", \"D_kick_punt_returns_yds\"]\n",
    "umap_train_df = df[umap_columns]\n",
    "umap_scaler = StandardScaler().fit(umap_train_df)\n",
    "\n",
    "# Scale the test set\n",
    "scaled_return_game_df = umap_scaler.transform(test_performance_df[umap_columns])\n",
    "\n",
    "if umap_model is None:\n",
    "    print(\"UMAP not correctly loaded FIX NOW\")\n",
    "\n",
    "umap_embedding = umap_model.transform(scaled_return_game_df)\n",
    "print(umap_embedding.shape)\n",
    "\n",
    "# Create the two new columns, drop the 4\n",
    "test_performance_df['kick_punt_umap_dim_1'] = umap_embedding[:,0]\n",
    "test_performance_df['kick_punt_umap_dim_2'] = umap_embedding[:,1]\n",
    "\n",
    "test_performance_df.drop(umap_columns, axis=1, inplace=True)\n",
    "df.drop(umap_columns, axis=1, inplace=True)\n",
    "\n"
   ]
  },
  {
   "cell_type": "code",
   "execution_count": 5,
   "id": "fd9bfcf9-0964-4ed7-8fcb-3512b324b220",
   "metadata": {},
   "outputs": [
    {
     "data": {
      "text/html": [
       "<div>\n",
       "<style scoped>\n",
       "    .dataframe tbody tr th:only-of-type {\n",
       "        vertical-align: middle;\n",
       "    }\n",
       "\n",
       "    .dataframe tbody tr th {\n",
       "        vertical-align: top;\n",
       "    }\n",
       "\n",
       "    .dataframe thead th {\n",
       "        text-align: right;\n",
       "    }\n",
       "</style>\n",
       "<table border=\"1\" class=\"dataframe\">\n",
       "  <thead>\n",
       "    <tr style=\"text-align: right;\">\n",
       "      <th></th>\n",
       "      <th>Unnamed: 0</th>\n",
       "      <th>Season</th>\n",
       "      <th>Date</th>\n",
       "      <th>Home_Team</th>\n",
       "      <th>Visitor_Team</th>\n",
       "      <th>H_halftime_odds</th>\n",
       "      <th>V_halftime_odds</th>\n",
       "      <th>H_start_odds</th>\n",
       "      <th>V_start_odds</th>\n",
       "      <th>H_Won</th>\n",
       "      <th>D_First_Downs</th>\n",
       "      <th>D_Rush</th>\n",
       "      <th>D_Yds</th>\n",
       "      <th>D_TDs</th>\n",
       "      <th>D_Cmp</th>\n",
       "      <th>D_Att</th>\n",
       "      <th>D_Yd</th>\n",
       "      <th>D_TD</th>\n",
       "      <th>D_INT</th>\n",
       "      <th>D_Sacked</th>\n",
       "      <th>D_Sacked_Yards</th>\n",
       "      <th>D_Net_Pass_Yards</th>\n",
       "      <th>D_Total_Yards</th>\n",
       "      <th>D_Fumbles</th>\n",
       "      <th>D_Lost</th>\n",
       "      <th>D_Turnovers</th>\n",
       "      <th>D_Penalties</th>\n",
       "      <th>D_Third_Down_Conv</th>\n",
       "      <th>D_Fourth_Down_Conv</th>\n",
       "      <th>D_Time_of_Possession</th>\n",
       "      <th>D_passing_att</th>\n",
       "      <th>D_passing_cmp</th>\n",
       "      <th>D_passing_int</th>\n",
       "      <th>D_passing_lng</th>\n",
       "      <th>D_passing_sk</th>\n",
       "      <th>D_passing_td</th>\n",
       "      <th>D_receiving_lng</th>\n",
       "      <th>D_rushing_att</th>\n",
       "      <th>D_rushing_lng</th>\n",
       "      <th>D_rushing_td</th>\n",
       "      <th>D_rushing_yds</th>\n",
       "      <th>D_passing_rushing_td</th>\n",
       "      <th>D_def_interceptions_int</th>\n",
       "      <th>D_def_interceptions_td</th>\n",
       "      <th>D_def_interceptions_yds</th>\n",
       "      <th>D_fumbles_ff</th>\n",
       "      <th>D_fumbles_fr</th>\n",
       "      <th>D_fumbles_td</th>\n",
       "      <th>D_fumbles_yds</th>\n",
       "      <th>D_sk</th>\n",
       "      <th>D_tackles_ast</th>\n",
       "      <th>D_tackles_comb</th>\n",
       "      <th>D_tackles_solo</th>\n",
       "      <th>D_punting_pnt</th>\n",
       "      <th>D_punting_avg</th>\n",
       "      <th>D_scoring_fga</th>\n",
       "      <th>D_scoring_fgp</th>\n",
       "      <th>D_scoring_xpa</th>\n",
       "      <th>D_scoring_xpp</th>\n",
       "      <th>D_Final</th>\n",
       "      <th>D_Final_Allowed</th>\n",
       "      <th>D_start_odds</th>\n",
       "      <th>D_halftime_odds</th>\n",
       "      <th>D_datediff</th>\n",
       "      <th>D_pythagorean</th>\n",
       "      <th>kick_punt_umap_dim_1</th>\n",
       "      <th>kick_punt_umap_dim_2</th>\n",
       "    </tr>\n",
       "  </thead>\n",
       "  <tbody>\n",
       "    <tr>\n",
       "      <th>5264</th>\n",
       "      <td>7449</td>\n",
       "      <td>2023</td>\n",
       "      <td>2024-01-21</td>\n",
       "      <td>KAN</td>\n",
       "      <td>BUF</td>\n",
       "      <td>2.386667</td>\n",
       "      <td>1.577778</td>\n",
       "      <td>2.073398</td>\n",
       "      <td>1.724771</td>\n",
       "      <td>1.0</td>\n",
       "      <td>-5.049</td>\n",
       "      <td>14.342</td>\n",
       "      <td>-4.790</td>\n",
       "      <td>-10.070</td>\n",
       "      <td>-1.931</td>\n",
       "      <td>-67.962</td>\n",
       "      <td>5.714</td>\n",
       "      <td>52.173</td>\n",
       "      <td>-0.224</td>\n",
       "      <td>3.239</td>\n",
       "      <td>1.041</td>\n",
       "      <td>-18.251</td>\n",
       "      <td>-53.359</td>\n",
       "      <td>-0.615</td>\n",
       "      <td>1.029</td>\n",
       "      <td>-0.423</td>\n",
       "      <td>-3.945</td>\n",
       "      <td>-13.555</td>\n",
       "      <td>27.766</td>\n",
       "      <td>-4.679</td>\n",
       "      <td>3.271</td>\n",
       "      <td>1.649</td>\n",
       "      <td>-0.306</td>\n",
       "      <td>0.766</td>\n",
       "      <td>0.376</td>\n",
       "      <td>-0.178</td>\n",
       "      <td>13.745</td>\n",
       "      <td>-10.854</td>\n",
       "      <td>-4.265</td>\n",
       "      <td>-0.947</td>\n",
       "      <td>-35.108</td>\n",
       "      <td>-1.125</td>\n",
       "      <td>-1.165</td>\n",
       "      <td>-0.193</td>\n",
       "      <td>-8.337</td>\n",
       "      <td>0.421</td>\n",
       "      <td>-0.257</td>\n",
       "      <td>0.277</td>\n",
       "      <td>25.928</td>\n",
       "      <td>0.859</td>\n",
       "      <td>-2.725</td>\n",
       "      <td>5.923</td>\n",
       "      <td>8.648</td>\n",
       "      <td>0.551</td>\n",
       "      <td>2.611</td>\n",
       "      <td>1.207</td>\n",
       "      <td>0.139</td>\n",
       "      <td>-1.272</td>\n",
       "      <td>-0.004</td>\n",
       "      <td>-5.790</td>\n",
       "      <td>-1.099</td>\n",
       "      <td>0.349</td>\n",
       "      <td>0.809</td>\n",
       "      <td>2.0</td>\n",
       "      <td>-0.073</td>\n",
       "      <td>-0.944908</td>\n",
       "      <td>9.706598</td>\n",
       "    </tr>\n",
       "    <tr>\n",
       "      <th>5265</th>\n",
       "      <td>7444</td>\n",
       "      <td>2023</td>\n",
       "      <td>2024-01-28</td>\n",
       "      <td>DET</td>\n",
       "      <td>SFO</td>\n",
       "      <td>1.263333</td>\n",
       "      <td>3.894444</td>\n",
       "      <td>4.307745</td>\n",
       "      <td>1.203585</td>\n",
       "      <td>0.0</td>\n",
       "      <td>-0.376</td>\n",
       "      <td>-5.287</td>\n",
       "      <td>1.664</td>\n",
       "      <td>-19.688</td>\n",
       "      <td>6.013</td>\n",
       "      <td>-10.797</td>\n",
       "      <td>3.569</td>\n",
       "      <td>26.740</td>\n",
       "      <td>-0.405</td>\n",
       "      <td>4.852</td>\n",
       "      <td>-0.741</td>\n",
       "      <td>15.220</td>\n",
       "      <td>-15.201</td>\n",
       "      <td>0.130</td>\n",
       "      <td>-0.277</td>\n",
       "      <td>-0.445</td>\n",
       "      <td>16.338</td>\n",
       "      <td>-14.753</td>\n",
       "      <td>38.606</td>\n",
       "      <td>-1.158</td>\n",
       "      <td>2.920</td>\n",
       "      <td>3.124</td>\n",
       "      <td>-0.397</td>\n",
       "      <td>-4.086</td>\n",
       "      <td>-0.315</td>\n",
       "      <td>-0.269</td>\n",
       "      <td>4.240</td>\n",
       "      <td>-1.072</td>\n",
       "      <td>-18.576</td>\n",
       "      <td>0.293</td>\n",
       "      <td>-30.421</td>\n",
       "      <td>0.024</td>\n",
       "      <td>-0.155</td>\n",
       "      <td>-0.104</td>\n",
       "      <td>0.189</td>\n",
       "      <td>0.511</td>\n",
       "      <td>-0.168</td>\n",
       "      <td>0.000</td>\n",
       "      <td>1.961</td>\n",
       "      <td>0.267</td>\n",
       "      <td>-2.540</td>\n",
       "      <td>-1.567</td>\n",
       "      <td>0.973</td>\n",
       "      <td>0.893</td>\n",
       "      <td>0.897</td>\n",
       "      <td>-0.082</td>\n",
       "      <td>0.198</td>\n",
       "      <td>-0.369</td>\n",
       "      <td>-0.064</td>\n",
       "      <td>-0.484</td>\n",
       "      <td>2.681</td>\n",
       "      <td>3.104</td>\n",
       "      <td>-2.631</td>\n",
       "      <td>-1.0</td>\n",
       "      <td>-0.178</td>\n",
       "      <td>4.765425</td>\n",
       "      <td>5.378789</td>\n",
       "    </tr>\n",
       "    <tr>\n",
       "      <th>5266</th>\n",
       "      <td>7445</td>\n",
       "      <td>2023</td>\n",
       "      <td>2024-01-28</td>\n",
       "      <td>KAN</td>\n",
       "      <td>BAL</td>\n",
       "      <td>1.345556</td>\n",
       "      <td>3.222222</td>\n",
       "      <td>2.885004</td>\n",
       "      <td>1.396731</td>\n",
       "      <td>1.0</td>\n",
       "      <td>-1.149</td>\n",
       "      <td>-29.932</td>\n",
       "      <td>-1.342</td>\n",
       "      <td>3.770</td>\n",
       "      <td>2.065</td>\n",
       "      <td>5.677</td>\n",
       "      <td>3.682</td>\n",
       "      <td>1.174</td>\n",
       "      <td>0.019</td>\n",
       "      <td>0.237</td>\n",
       "      <td>-6.887</td>\n",
       "      <td>15.044</td>\n",
       "      <td>-17.795</td>\n",
       "      <td>-0.440</td>\n",
       "      <td>0.002</td>\n",
       "      <td>0.246</td>\n",
       "      <td>1.906</td>\n",
       "      <td>-1.403</td>\n",
       "      <td>-7.241</td>\n",
       "      <td>0.512</td>\n",
       "      <td>7.909</td>\n",
       "      <td>4.222</td>\n",
       "      <td>0.376</td>\n",
       "      <td>-2.455</td>\n",
       "      <td>-0.990</td>\n",
       "      <td>-1.230</td>\n",
       "      <td>-16.767</td>\n",
       "      <td>-3.475</td>\n",
       "      <td>-19.850</td>\n",
       "      <td>-0.497</td>\n",
       "      <td>-32.839</td>\n",
       "      <td>-1.727</td>\n",
       "      <td>-0.833</td>\n",
       "      <td>-0.034</td>\n",
       "      <td>-13.352</td>\n",
       "      <td>-0.654</td>\n",
       "      <td>-0.109</td>\n",
       "      <td>0.207</td>\n",
       "      <td>14.747</td>\n",
       "      <td>0.109</td>\n",
       "      <td>-8.664</td>\n",
       "      <td>-8.438</td>\n",
       "      <td>0.226</td>\n",
       "      <td>-0.408</td>\n",
       "      <td>1.400</td>\n",
       "      <td>0.973</td>\n",
       "      <td>0.093</td>\n",
       "      <td>-1.516</td>\n",
       "      <td>-0.004</td>\n",
       "      <td>-8.754</td>\n",
       "      <td>-2.969</td>\n",
       "      <td>1.488</td>\n",
       "      <td>-1.877</td>\n",
       "      <td>-1.0</td>\n",
       "      <td>-0.126</td>\n",
       "      <td>0.746289</td>\n",
       "      <td>10.155971</td>\n",
       "    </tr>\n",
       "    <tr>\n",
       "      <th>5267</th>\n",
       "      <td>7645</td>\n",
       "      <td>2023</td>\n",
       "      <td>2024-02-11</td>\n",
       "      <td>SFO</td>\n",
       "      <td>KAN</td>\n",
       "      <td>1.301111</td>\n",
       "      <td>3.472222</td>\n",
       "      <td>1.757009</td>\n",
       "      <td>2.028809</td>\n",
       "      <td>0.0</td>\n",
       "      <td>1.930</td>\n",
       "      <td>23.153</td>\n",
       "      <td>3.614</td>\n",
       "      <td>-38.602</td>\n",
       "      <td>1.845</td>\n",
       "      <td>-27.846</td>\n",
       "      <td>2.388</td>\n",
       "      <td>45.530</td>\n",
       "      <td>0.263</td>\n",
       "      <td>-3.815</td>\n",
       "      <td>6.219</td>\n",
       "      <td>22.362</td>\n",
       "      <td>34.943</td>\n",
       "      <td>-0.535</td>\n",
       "      <td>-0.615</td>\n",
       "      <td>-0.271</td>\n",
       "      <td>-6.133</td>\n",
       "      <td>18.912</td>\n",
       "      <td>-20.599</td>\n",
       "      <td>2.204</td>\n",
       "      <td>-1.002</td>\n",
       "      <td>-0.423</td>\n",
       "      <td>0.194</td>\n",
       "      <td>6.831</td>\n",
       "      <td>0.779</td>\n",
       "      <td>0.370</td>\n",
       "      <td>3.113</td>\n",
       "      <td>1.567</td>\n",
       "      <td>2.206</td>\n",
       "      <td>0.951</td>\n",
       "      <td>12.581</td>\n",
       "      <td>1.320</td>\n",
       "      <td>1.064</td>\n",
       "      <td>0.080</td>\n",
       "      <td>13.771</td>\n",
       "      <td>-0.396</td>\n",
       "      <td>-0.668</td>\n",
       "      <td>-0.155</td>\n",
       "      <td>-14.084</td>\n",
       "      <td>-0.516</td>\n",
       "      <td>-2.174</td>\n",
       "      <td>-5.335</td>\n",
       "      <td>-3.160</td>\n",
       "      <td>0.132</td>\n",
       "      <td>-1.046</td>\n",
       "      <td>-1.315</td>\n",
       "      <td>-0.326</td>\n",
       "      <td>1.278</td>\n",
       "      <td>-0.052</td>\n",
       "      <td>3.839</td>\n",
       "      <td>3.252</td>\n",
       "      <td>-0.272</td>\n",
       "      <td>-2.171</td>\n",
       "      <td>0.0</td>\n",
       "      <td>0.104</td>\n",
       "      <td>6.982881</td>\n",
       "      <td>4.331357</td>\n",
       "    </tr>\n",
       "    <tr>\n",
       "      <th>5268</th>\n",
       "      <td>7808</td>\n",
       "      <td>2024</td>\n",
       "      <td>2024-10-10</td>\n",
       "      <td>SFO</td>\n",
       "      <td>SEA</td>\n",
       "      <td>1.056667</td>\n",
       "      <td>9.383333</td>\n",
       "      <td>1.461897</td>\n",
       "      <td>2.642566</td>\n",
       "      <td>1.0</td>\n",
       "      <td>-6.140</td>\n",
       "      <td>14.184</td>\n",
       "      <td>7.482</td>\n",
       "      <td>-32.831</td>\n",
       "      <td>-7.632</td>\n",
       "      <td>-101.676</td>\n",
       "      <td>-0.471</td>\n",
       "      <td>56.893</td>\n",
       "      <td>-1.129</td>\n",
       "      <td>-1.901</td>\n",
       "      <td>-3.625</td>\n",
       "      <td>-37.717</td>\n",
       "      <td>-7.982</td>\n",
       "      <td>1.507</td>\n",
       "      <td>0.691</td>\n",
       "      <td>-0.143</td>\n",
       "      <td>-21.287</td>\n",
       "      <td>6.148</td>\n",
       "      <td>1.838</td>\n",
       "      <td>0.993</td>\n",
       "      <td>-15.357</td>\n",
       "      <td>-12.401</td>\n",
       "      <td>-0.485</td>\n",
       "      <td>-3.408</td>\n",
       "      <td>-0.875</td>\n",
       "      <td>0.452</td>\n",
       "      <td>-3.691</td>\n",
       "      <td>10.496</td>\n",
       "      <td>-0.232</td>\n",
       "      <td>-1.471</td>\n",
       "      <td>29.735</td>\n",
       "      <td>-1.018</td>\n",
       "      <td>0.526</td>\n",
       "      <td>0.460</td>\n",
       "      <td>24.419</td>\n",
       "      <td>1.353</td>\n",
       "      <td>2.059</td>\n",
       "      <td>0.000</td>\n",
       "      <td>-0.919</td>\n",
       "      <td>0.618</td>\n",
       "      <td>-1.915</td>\n",
       "      <td>-3.603</td>\n",
       "      <td>-1.688</td>\n",
       "      <td>-1.445</td>\n",
       "      <td>-0.773</td>\n",
       "      <td>0.985</td>\n",
       "      <td>0.460</td>\n",
       "      <td>0.000</td>\n",
       "      <td>0.000</td>\n",
       "      <td>0.062</td>\n",
       "      <td>-6.312</td>\n",
       "      <td>-1.181</td>\n",
       "      <td>-8.327</td>\n",
       "      <td>0.0</td>\n",
       "      <td>0.026</td>\n",
       "      <td>-2.863090</td>\n",
       "      <td>8.433458</td>\n",
       "    </tr>\n",
       "  </tbody>\n",
       "</table>\n",
       "</div>"
      ],
      "text/plain": [
       "      Unnamed: 0  Season        Date Home_Team Visitor_Team  H_halftime_odds  \\\n",
       "5264        7449    2023  2024-01-21       KAN          BUF         2.386667   \n",
       "5265        7444    2023  2024-01-28       DET          SFO         1.263333   \n",
       "5266        7445    2023  2024-01-28       KAN          BAL         1.345556   \n",
       "5267        7645    2023  2024-02-11       SFO          KAN         1.301111   \n",
       "5268        7808    2024  2024-10-10       SFO          SEA         1.056667   \n",
       "\n",
       "      V_halftime_odds  H_start_odds  V_start_odds  H_Won  D_First_Downs  \\\n",
       "5264         1.577778      2.073398      1.724771    1.0         -5.049   \n",
       "5265         3.894444      4.307745      1.203585    0.0         -0.376   \n",
       "5266         3.222222      2.885004      1.396731    1.0         -1.149   \n",
       "5267         3.472222      1.757009      2.028809    0.0          1.930   \n",
       "5268         9.383333      1.461897      2.642566    1.0         -6.140   \n",
       "\n",
       "      D_Rush  D_Yds   D_TDs  D_Cmp    D_Att   D_Yd    D_TD  D_INT  D_Sacked  \\\n",
       "5264  14.342 -4.790 -10.070 -1.931  -67.962  5.714  52.173 -0.224     3.239   \n",
       "5265  -5.287  1.664 -19.688  6.013  -10.797  3.569  26.740 -0.405     4.852   \n",
       "5266 -29.932 -1.342   3.770  2.065    5.677  3.682   1.174  0.019     0.237   \n",
       "5267  23.153  3.614 -38.602  1.845  -27.846  2.388  45.530  0.263    -3.815   \n",
       "5268  14.184  7.482 -32.831 -7.632 -101.676 -0.471  56.893 -1.129    -1.901   \n",
       "\n",
       "      D_Sacked_Yards  D_Net_Pass_Yards  D_Total_Yards  D_Fumbles  D_Lost  \\\n",
       "5264           1.041           -18.251        -53.359     -0.615   1.029   \n",
       "5265          -0.741            15.220        -15.201      0.130  -0.277   \n",
       "5266          -6.887            15.044        -17.795     -0.440   0.002   \n",
       "5267           6.219            22.362         34.943     -0.535  -0.615   \n",
       "5268          -3.625           -37.717         -7.982      1.507   0.691   \n",
       "\n",
       "      D_Turnovers  D_Penalties  D_Third_Down_Conv  D_Fourth_Down_Conv  \\\n",
       "5264       -0.423       -3.945            -13.555              27.766   \n",
       "5265       -0.445       16.338            -14.753              38.606   \n",
       "5266        0.246        1.906             -1.403              -7.241   \n",
       "5267       -0.271       -6.133             18.912             -20.599   \n",
       "5268       -0.143      -21.287              6.148               1.838   \n",
       "\n",
       "      D_Time_of_Possession  D_passing_att  D_passing_cmp  D_passing_int  \\\n",
       "5264                -4.679          3.271          1.649         -0.306   \n",
       "5265                -1.158          2.920          3.124         -0.397   \n",
       "5266                 0.512          7.909          4.222          0.376   \n",
       "5267                 2.204         -1.002         -0.423          0.194   \n",
       "5268                 0.993        -15.357        -12.401         -0.485   \n",
       "\n",
       "      D_passing_lng  D_passing_sk  D_passing_td  D_receiving_lng  \\\n",
       "5264          0.766         0.376        -0.178           13.745   \n",
       "5265         -4.086        -0.315        -0.269            4.240   \n",
       "5266         -2.455        -0.990        -1.230          -16.767   \n",
       "5267          6.831         0.779         0.370            3.113   \n",
       "5268         -3.408        -0.875         0.452           -3.691   \n",
       "\n",
       "      D_rushing_att  D_rushing_lng  D_rushing_td  D_rushing_yds  \\\n",
       "5264        -10.854         -4.265        -0.947        -35.108   \n",
       "5265         -1.072        -18.576         0.293        -30.421   \n",
       "5266         -3.475        -19.850        -0.497        -32.839   \n",
       "5267          1.567          2.206         0.951         12.581   \n",
       "5268         10.496         -0.232        -1.471         29.735   \n",
       "\n",
       "      D_passing_rushing_td  D_def_interceptions_int  D_def_interceptions_td  \\\n",
       "5264                -1.125                   -1.165                  -0.193   \n",
       "5265                 0.024                   -0.155                  -0.104   \n",
       "5266                -1.727                   -0.833                  -0.034   \n",
       "5267                 1.320                    1.064                   0.080   \n",
       "5268                -1.018                    0.526                   0.460   \n",
       "\n",
       "      D_def_interceptions_yds  D_fumbles_ff  D_fumbles_fr  D_fumbles_td  \\\n",
       "5264                   -8.337         0.421        -0.257         0.277   \n",
       "5265                    0.189         0.511        -0.168         0.000   \n",
       "5266                  -13.352        -0.654        -0.109         0.207   \n",
       "5267                   13.771        -0.396        -0.668        -0.155   \n",
       "5268                   24.419         1.353         2.059         0.000   \n",
       "\n",
       "      D_fumbles_yds   D_sk  D_tackles_ast  D_tackles_comb  D_tackles_solo  \\\n",
       "5264         25.928  0.859         -2.725           5.923           8.648   \n",
       "5265          1.961  0.267         -2.540          -1.567           0.973   \n",
       "5266         14.747  0.109         -8.664          -8.438           0.226   \n",
       "5267        -14.084 -0.516         -2.174          -5.335          -3.160   \n",
       "5268         -0.919  0.618         -1.915          -3.603          -1.688   \n",
       "\n",
       "      D_punting_pnt  D_punting_avg  D_scoring_fga  D_scoring_fgp  \\\n",
       "5264          0.551          2.611          1.207          0.139   \n",
       "5265          0.893          0.897         -0.082          0.198   \n",
       "5266         -0.408          1.400          0.973          0.093   \n",
       "5267          0.132         -1.046         -1.315         -0.326   \n",
       "5268         -1.445         -0.773          0.985          0.460   \n",
       "\n",
       "      D_scoring_xpa  D_scoring_xpp  D_Final  D_Final_Allowed  D_start_odds  \\\n",
       "5264         -1.272         -0.004   -5.790           -1.099         0.349   \n",
       "5265         -0.369         -0.064   -0.484            2.681         3.104   \n",
       "5266         -1.516         -0.004   -8.754           -2.969         1.488   \n",
       "5267          1.278         -0.052    3.839            3.252        -0.272   \n",
       "5268          0.000          0.000    0.062           -6.312        -1.181   \n",
       "\n",
       "      D_halftime_odds  D_datediff  D_pythagorean  kick_punt_umap_dim_1  \\\n",
       "5264            0.809         2.0         -0.073             -0.944908   \n",
       "5265           -2.631        -1.0         -0.178              4.765425   \n",
       "5266           -1.877        -1.0         -0.126              0.746289   \n",
       "5267           -2.171         0.0          0.104              6.982881   \n",
       "5268           -8.327         0.0          0.026             -2.863090   \n",
       "\n",
       "      kick_punt_umap_dim_2  \n",
       "5264              9.706598  \n",
       "5265              5.378789  \n",
       "5266             10.155971  \n",
       "5267              4.331357  \n",
       "5268              8.433458  "
      ]
     },
     "execution_count": 5,
     "metadata": {},
     "output_type": "execute_result"
    }
   ],
   "source": [
    "test_performance_df[:5]\n",
    "# print(test_performance_df['H_start_odds'][:5])\n",
    "# print(test_performance_df['V_start_odds'][:5])"
   ]
  },
  {
   "cell_type": "markdown",
   "id": "9bcfc250",
   "metadata": {},
   "source": [
    "# Columns to use\n",
    "(TODO)"
   ]
  },
  {
   "cell_type": "markdown",
   "id": "62db79ec",
   "metadata": {},
   "source": [
    "## 1. Separate continuous, categorical, and label column names\n",
    "\n",
    "Pretty much everything is continuous. \n",
    "\n",
    "Note: the y_col is what you're trying to predict\n",
    "\n",
    "## Feature engineering\n",
    "New Columns\n",
    "- **h_win**: Home team won\n"
   ]
  },
  {
   "cell_type": "code",
   "execution_count": 6,
   "id": "1a3960b3",
   "metadata": {
    "scrolled": true
   },
   "outputs": [
    {
     "name": "stdout",
     "output_type": "stream",
     "text": [
      "(5264, 67)\n",
      "(5264, 48)\n",
      "(191, 5)\n",
      "      H_Won  H_start_odds  V_start_odds  H_halftime_odds  V_halftime_odds\n",
      "5459    0.0      1.724771      2.073398              0.0              0.0\n",
      "5460    0.0      4.991514      1.159063              0.0              0.0\n",
      "5461    1.0      4.513858      1.188369              0.0              0.0\n",
      "5462    0.0      3.804017      1.250000              0.0              0.0\n",
      "5463    0.0      1.790476      1.986097              0.0              0.0\n"
     ]
    }
   ],
   "source": [
    "cat_cols = []\n",
    "\n",
    "cont_cols = [col for col in nfl_utils.cont_cols if col not in nfl_utils.drop_cols]\n",
    "\n",
    "\n",
    "y_col = ['H_Won'] # Old\n",
    "y_col = ['H_Won', 'H_start_odds', 'V_start_odds']\n",
    "y_col_perf = ['H_Won', 'H_start_odds', 'V_start_odds', 'H_halftime_odds', 'V_halftime_odds']\n",
    "\n",
    "\n",
    "# create cont_df and y_df from the df\n",
    "print(df.shape)\n",
    "cont_df = df[cont_cols]\n",
    "y_df = df[y_col]\n",
    "\n",
    "# test performance set\n",
    "perf_conts_df = test_performance_df[cont_cols]\n",
    "perf_y_df = test_performance_df[y_col_perf]\n",
    "perf_date_df = test_performance_df[['Date','Home_Team', 'Visitor_Team']]\n",
    "\n",
    "# print(cont_df.dtypes)\n",
    "print(cont_df.shape)\n",
    "print(perf_y_df.shape)\n",
    "print(perf_y_df.tail())\n",
    "# print(perf_conts_df.tail())\n"
   ]
  },
  {
   "cell_type": "code",
   "execution_count": 7,
   "id": "2a936f59-3205-422f-b760-7296518b2739",
   "metadata": {},
   "outputs": [
    {
     "name": "stdout",
     "output_type": "stream",
     "text": [
      "      H_Won  H_start_odds  V_start_odds  H_halftime_odds  V_halftime_odds\n",
      "5264    1.0      2.073398      1.724771         2.386667         1.577778\n",
      "5265    0.0      4.307745      1.203585         1.263333         3.894444\n",
      "5266    1.0      2.885004      1.396731         1.345556         3.222222\n",
      "5267    0.0      1.757009      2.028809         1.301111         3.472222\n",
      "5268    1.0      1.461897      2.642566         1.056667         9.383333\n"
     ]
    },
    {
     "data": {
      "text/html": [
       "<div>\n",
       "<style scoped>\n",
       "    .dataframe tbody tr th:only-of-type {\n",
       "        vertical-align: middle;\n",
       "    }\n",
       "\n",
       "    .dataframe tbody tr th {\n",
       "        vertical-align: top;\n",
       "    }\n",
       "\n",
       "    .dataframe thead th {\n",
       "        text-align: right;\n",
       "    }\n",
       "</style>\n",
       "<table border=\"1\" class=\"dataframe\">\n",
       "  <thead>\n",
       "    <tr style=\"text-align: right;\">\n",
       "      <th></th>\n",
       "      <th>D_First_Downs</th>\n",
       "      <th>D_Rush</th>\n",
       "      <th>D_Yds</th>\n",
       "      <th>D_TDs</th>\n",
       "      <th>D_Cmp</th>\n",
       "      <th>D_Att</th>\n",
       "      <th>D_Yd</th>\n",
       "      <th>D_INT</th>\n",
       "      <th>D_Sacked</th>\n",
       "      <th>D_Sacked_Yards</th>\n",
       "      <th>D_Total_Yards</th>\n",
       "      <th>D_Fumbles</th>\n",
       "      <th>D_Lost</th>\n",
       "      <th>D_Turnovers</th>\n",
       "      <th>D_Penalties</th>\n",
       "      <th>D_Fourth_Down_Conv</th>\n",
       "      <th>D_Time_of_Possession</th>\n",
       "      <th>D_passing_att</th>\n",
       "      <th>D_passing_cmp</th>\n",
       "      <th>D_passing_int</th>\n",
       "      <th>D_passing_lng</th>\n",
       "      <th>D_passing_sk</th>\n",
       "      <th>D_passing_td</th>\n",
       "      <th>D_receiving_lng</th>\n",
       "      <th>D_rushing_att</th>\n",
       "      <th>D_rushing_lng</th>\n",
       "      <th>D_rushing_td</th>\n",
       "      <th>D_rushing_yds</th>\n",
       "      <th>D_def_interceptions_int</th>\n",
       "      <th>D_def_interceptions_td</th>\n",
       "      <th>D_def_interceptions_yds</th>\n",
       "      <th>D_fumbles_fr</th>\n",
       "      <th>D_fumbles_td</th>\n",
       "      <th>D_fumbles_yds</th>\n",
       "      <th>D_sk</th>\n",
       "      <th>D_tackles_ast</th>\n",
       "      <th>D_tackles_comb</th>\n",
       "      <th>D_tackles_solo</th>\n",
       "      <th>kick_punt_umap_dim_1</th>\n",
       "      <th>kick_punt_umap_dim_2</th>\n",
       "      <th>D_punting_pnt</th>\n",
       "      <th>D_punting_avg</th>\n",
       "      <th>D_scoring_fga</th>\n",
       "      <th>D_scoring_fgp</th>\n",
       "      <th>D_scoring_xpa</th>\n",
       "      <th>D_scoring_xpp</th>\n",
       "      <th>D_pythagorean</th>\n",
       "      <th>D_start_odds</th>\n",
       "    </tr>\n",
       "  </thead>\n",
       "  <tbody>\n",
       "    <tr>\n",
       "      <th>0</th>\n",
       "      <td>2.265</td>\n",
       "      <td>5.140</td>\n",
       "      <td>-8.261</td>\n",
       "      <td>31.290</td>\n",
       "      <td>-8.121</td>\n",
       "      <td>43.430</td>\n",
       "      <td>4.074</td>\n",
       "      <td>-0.684</td>\n",
       "      <td>-0.044</td>\n",
       "      <td>-4.750</td>\n",
       "      <td>134.107</td>\n",
       "      <td>-0.342</td>\n",
       "      <td>-0.103</td>\n",
       "      <td>-1.526</td>\n",
       "      <td>22.515</td>\n",
       "      <td>35.846</td>\n",
       "      <td>-1.945</td>\n",
       "      <td>15.846</td>\n",
       "      <td>8.055</td>\n",
       "      <td>-1.257</td>\n",
       "      <td>34.941</td>\n",
       "      <td>-2.048</td>\n",
       "      <td>1.702</td>\n",
       "      <td>32.967</td>\n",
       "      <td>-6.551</td>\n",
       "      <td>24.316</td>\n",
       "      <td>-0.099</td>\n",
       "      <td>-11.221</td>\n",
       "      <td>0.180</td>\n",
       "      <td>0.276</td>\n",
       "      <td>10.643</td>\n",
       "      <td>-0.835</td>\n",
       "      <td>0.000</td>\n",
       "      <td>-4.599</td>\n",
       "      <td>0.526</td>\n",
       "      <td>0.0</td>\n",
       "      <td>0.0</td>\n",
       "      <td>0.0</td>\n",
       "      <td>5.291422</td>\n",
       "      <td>9.552850</td>\n",
       "      <td>0.599</td>\n",
       "      <td>-1.273</td>\n",
       "      <td>0.662</td>\n",
       "      <td>-0.094</td>\n",
       "      <td>2.044</td>\n",
       "      <td>0.441</td>\n",
       "      <td>0.114</td>\n",
       "      <td>1.181</td>\n",
       "    </tr>\n",
       "    <tr>\n",
       "      <th>1</th>\n",
       "      <td>-3.629</td>\n",
       "      <td>-29.721</td>\n",
       "      <td>-20.239</td>\n",
       "      <td>105.471</td>\n",
       "      <td>-4.695</td>\n",
       "      <td>135.596</td>\n",
       "      <td>-6.074</td>\n",
       "      <td>-0.011</td>\n",
       "      <td>-6.794</td>\n",
       "      <td>-1.007</td>\n",
       "      <td>-58.301</td>\n",
       "      <td>0.239</td>\n",
       "      <td>0.537</td>\n",
       "      <td>0.941</td>\n",
       "      <td>-2.555</td>\n",
       "      <td>13.787</td>\n",
       "      <td>-5.022</td>\n",
       "      <td>-2.121</td>\n",
       "      <td>1.048</td>\n",
       "      <td>1.272</td>\n",
       "      <td>19.176</td>\n",
       "      <td>1.702</td>\n",
       "      <td>0.835</td>\n",
       "      <td>7.434</td>\n",
       "      <td>-14.743</td>\n",
       "      <td>-19.537</td>\n",
       "      <td>-2.132</td>\n",
       "      <td>-82.452</td>\n",
       "      <td>-0.820</td>\n",
       "      <td>0.000</td>\n",
       "      <td>2.096</td>\n",
       "      <td>1.397</td>\n",
       "      <td>-0.165</td>\n",
       "      <td>-11.360</td>\n",
       "      <td>-1.272</td>\n",
       "      <td>0.0</td>\n",
       "      <td>0.0</td>\n",
       "      <td>0.0</td>\n",
       "      <td>7.618100</td>\n",
       "      <td>7.267665</td>\n",
       "      <td>-0.864</td>\n",
       "      <td>5.719</td>\n",
       "      <td>1.636</td>\n",
       "      <td>-0.153</td>\n",
       "      <td>-1.904</td>\n",
       "      <td>0.099</td>\n",
       "      <td>-0.063</td>\n",
       "      <td>1.330</td>\n",
       "    </tr>\n",
       "    <tr>\n",
       "      <th>2</th>\n",
       "      <td>2.647</td>\n",
       "      <td>-7.419</td>\n",
       "      <td>-4.353</td>\n",
       "      <td>41.000</td>\n",
       "      <td>3.283</td>\n",
       "      <td>62.070</td>\n",
       "      <td>-4.474</td>\n",
       "      <td>-0.184</td>\n",
       "      <td>-3.724</td>\n",
       "      <td>-4.224</td>\n",
       "      <td>65.592</td>\n",
       "      <td>-1.029</td>\n",
       "      <td>-0.110</td>\n",
       "      <td>-1.324</td>\n",
       "      <td>-13.379</td>\n",
       "      <td>13.787</td>\n",
       "      <td>-1.588</td>\n",
       "      <td>0.430</td>\n",
       "      <td>0.305</td>\n",
       "      <td>-0.460</td>\n",
       "      <td>2.772</td>\n",
       "      <td>-2.246</td>\n",
       "      <td>0.033</td>\n",
       "      <td>21.437</td>\n",
       "      <td>-3.029</td>\n",
       "      <td>10.765</td>\n",
       "      <td>-0.415</td>\n",
       "      <td>-4.886</td>\n",
       "      <td>-0.952</td>\n",
       "      <td>-0.165</td>\n",
       "      <td>-10.676</td>\n",
       "      <td>-0.140</td>\n",
       "      <td>-0.460</td>\n",
       "      <td>-21.176</td>\n",
       "      <td>-0.165</td>\n",
       "      <td>0.0</td>\n",
       "      <td>0.0</td>\n",
       "      <td>0.0</td>\n",
       "      <td>2.573103</td>\n",
       "      <td>1.891357</td>\n",
       "      <td>-0.989</td>\n",
       "      <td>-4.020</td>\n",
       "      <td>0.901</td>\n",
       "      <td>0.242</td>\n",
       "      <td>-1.007</td>\n",
       "      <td>-0.526</td>\n",
       "      <td>0.179</td>\n",
       "      <td>0.741</td>\n",
       "    </tr>\n",
       "    <tr>\n",
       "      <th>3</th>\n",
       "      <td>6.827</td>\n",
       "      <td>-3.625</td>\n",
       "      <td>2.011</td>\n",
       "      <td>-21.217</td>\n",
       "      <td>5.103</td>\n",
       "      <td>37.158</td>\n",
       "      <td>7.551</td>\n",
       "      <td>2.173</td>\n",
       "      <td>-2.059</td>\n",
       "      <td>-13.463</td>\n",
       "      <td>144.618</td>\n",
       "      <td>0.544</td>\n",
       "      <td>1.187</td>\n",
       "      <td>3.801</td>\n",
       "      <td>-11.202</td>\n",
       "      <td>49.173</td>\n",
       "      <td>5.379</td>\n",
       "      <td>14.000</td>\n",
       "      <td>10.915</td>\n",
       "      <td>3.441</td>\n",
       "      <td>21.096</td>\n",
       "      <td>-3.386</td>\n",
       "      <td>-0.460</td>\n",
       "      <td>47.860</td>\n",
       "      <td>-0.140</td>\n",
       "      <td>-5.044</td>\n",
       "      <td>1.118</td>\n",
       "      <td>-11.184</td>\n",
       "      <td>0.614</td>\n",
       "      <td>0.165</td>\n",
       "      <td>8.996</td>\n",
       "      <td>0.937</td>\n",
       "      <td>0.000</td>\n",
       "      <td>0.662</td>\n",
       "      <td>0.732</td>\n",
       "      <td>0.0</td>\n",
       "      <td>0.0</td>\n",
       "      <td>0.0</td>\n",
       "      <td>4.044179</td>\n",
       "      <td>8.739308</td>\n",
       "      <td>-4.794</td>\n",
       "      <td>-4.150</td>\n",
       "      <td>2.202</td>\n",
       "      <td>0.255</td>\n",
       "      <td>-0.390</td>\n",
       "      <td>-0.360</td>\n",
       "      <td>0.248</td>\n",
       "      <td>-5.646</td>\n",
       "    </tr>\n",
       "    <tr>\n",
       "      <th>4</th>\n",
       "      <td>3.110</td>\n",
       "      <td>-15.445</td>\n",
       "      <td>10.092</td>\n",
       "      <td>-12.125</td>\n",
       "      <td>-0.239</td>\n",
       "      <td>-82.890</td>\n",
       "      <td>1.221</td>\n",
       "      <td>0.368</td>\n",
       "      <td>-3.026</td>\n",
       "      <td>0.585</td>\n",
       "      <td>13.544</td>\n",
       "      <td>0.518</td>\n",
       "      <td>-0.544</td>\n",
       "      <td>-0.162</td>\n",
       "      <td>11.952</td>\n",
       "      <td>6.434</td>\n",
       "      <td>1.794</td>\n",
       "      <td>-8.794</td>\n",
       "      <td>-8.033</td>\n",
       "      <td>-0.360</td>\n",
       "      <td>-3.371</td>\n",
       "      <td>0.007</td>\n",
       "      <td>-1.228</td>\n",
       "      <td>-34.746</td>\n",
       "      <td>9.721</td>\n",
       "      <td>-6.382</td>\n",
       "      <td>0.754</td>\n",
       "      <td>40.412</td>\n",
       "      <td>-0.044</td>\n",
       "      <td>-0.276</td>\n",
       "      <td>-18.860</td>\n",
       "      <td>-1.121</td>\n",
       "      <td>0.276</td>\n",
       "      <td>1.985</td>\n",
       "      <td>-0.298</td>\n",
       "      <td>0.0</td>\n",
       "      <td>0.0</td>\n",
       "      <td>0.0</td>\n",
       "      <td>3.613956</td>\n",
       "      <td>2.804782</td>\n",
       "      <td>-1.349</td>\n",
       "      <td>-5.401</td>\n",
       "      <td>-0.890</td>\n",
       "      <td>0.103</td>\n",
       "      <td>-0.022</td>\n",
       "      <td>0.000</td>\n",
       "      <td>0.007</td>\n",
       "      <td>1.181</td>\n",
       "    </tr>\n",
       "  </tbody>\n",
       "</table>\n",
       "</div>"
      ],
      "text/plain": [
       "   D_First_Downs  D_Rush   D_Yds    D_TDs  D_Cmp    D_Att   D_Yd  D_INT  \\\n",
       "0          2.265   5.140  -8.261   31.290 -8.121   43.430  4.074 -0.684   \n",
       "1         -3.629 -29.721 -20.239  105.471 -4.695  135.596 -6.074 -0.011   \n",
       "2          2.647  -7.419  -4.353   41.000  3.283   62.070 -4.474 -0.184   \n",
       "3          6.827  -3.625   2.011  -21.217  5.103   37.158  7.551  2.173   \n",
       "4          3.110 -15.445  10.092  -12.125 -0.239  -82.890  1.221  0.368   \n",
       "\n",
       "   D_Sacked  D_Sacked_Yards  D_Total_Yards  D_Fumbles  D_Lost  D_Turnovers  \\\n",
       "0    -0.044          -4.750        134.107     -0.342  -0.103       -1.526   \n",
       "1    -6.794          -1.007        -58.301      0.239   0.537        0.941   \n",
       "2    -3.724          -4.224         65.592     -1.029  -0.110       -1.324   \n",
       "3    -2.059         -13.463        144.618      0.544   1.187        3.801   \n",
       "4    -3.026           0.585         13.544      0.518  -0.544       -0.162   \n",
       "\n",
       "   D_Penalties  D_Fourth_Down_Conv  D_Time_of_Possession  D_passing_att  \\\n",
       "0       22.515              35.846                -1.945         15.846   \n",
       "1       -2.555              13.787                -5.022         -2.121   \n",
       "2      -13.379              13.787                -1.588          0.430   \n",
       "3      -11.202              49.173                 5.379         14.000   \n",
       "4       11.952               6.434                 1.794         -8.794   \n",
       "\n",
       "   D_passing_cmp  D_passing_int  D_passing_lng  D_passing_sk  D_passing_td  \\\n",
       "0          8.055         -1.257         34.941        -2.048         1.702   \n",
       "1          1.048          1.272         19.176         1.702         0.835   \n",
       "2          0.305         -0.460          2.772        -2.246         0.033   \n",
       "3         10.915          3.441         21.096        -3.386        -0.460   \n",
       "4         -8.033         -0.360         -3.371         0.007        -1.228   \n",
       "\n",
       "   D_receiving_lng  D_rushing_att  D_rushing_lng  D_rushing_td  D_rushing_yds  \\\n",
       "0           32.967         -6.551         24.316        -0.099        -11.221   \n",
       "1            7.434        -14.743        -19.537        -2.132        -82.452   \n",
       "2           21.437         -3.029         10.765        -0.415         -4.886   \n",
       "3           47.860         -0.140         -5.044         1.118        -11.184   \n",
       "4          -34.746          9.721         -6.382         0.754         40.412   \n",
       "\n",
       "   D_def_interceptions_int  D_def_interceptions_td  D_def_interceptions_yds  \\\n",
       "0                    0.180                   0.276                   10.643   \n",
       "1                   -0.820                   0.000                    2.096   \n",
       "2                   -0.952                  -0.165                  -10.676   \n",
       "3                    0.614                   0.165                    8.996   \n",
       "4                   -0.044                  -0.276                  -18.860   \n",
       "\n",
       "   D_fumbles_fr  D_fumbles_td  D_fumbles_yds   D_sk  D_tackles_ast  \\\n",
       "0        -0.835         0.000         -4.599  0.526            0.0   \n",
       "1         1.397        -0.165        -11.360 -1.272            0.0   \n",
       "2        -0.140        -0.460        -21.176 -0.165            0.0   \n",
       "3         0.937         0.000          0.662  0.732            0.0   \n",
       "4        -1.121         0.276          1.985 -0.298            0.0   \n",
       "\n",
       "   D_tackles_comb  D_tackles_solo  kick_punt_umap_dim_1  kick_punt_umap_dim_2  \\\n",
       "0             0.0             0.0              5.291422              9.552850   \n",
       "1             0.0             0.0              7.618100              7.267665   \n",
       "2             0.0             0.0              2.573103              1.891357   \n",
       "3             0.0             0.0              4.044179              8.739308   \n",
       "4             0.0             0.0              3.613956              2.804782   \n",
       "\n",
       "   D_punting_pnt  D_punting_avg  D_scoring_fga  D_scoring_fgp  D_scoring_xpa  \\\n",
       "0          0.599         -1.273          0.662         -0.094          2.044   \n",
       "1         -0.864          5.719          1.636         -0.153         -1.904   \n",
       "2         -0.989         -4.020          0.901          0.242         -1.007   \n",
       "3         -4.794         -4.150          2.202          0.255         -0.390   \n",
       "4         -1.349         -5.401         -0.890          0.103         -0.022   \n",
       "\n",
       "   D_scoring_xpp  D_pythagorean  D_start_odds  \n",
       "0          0.441          0.114         1.181  \n",
       "1          0.099         -0.063         1.330  \n",
       "2         -0.526          0.179         0.741  \n",
       "3         -0.360          0.248        -5.646  \n",
       "4          0.000          0.007         1.181  "
      ]
     },
     "execution_count": 7,
     "metadata": {},
     "output_type": "execute_result"
    }
   ],
   "source": [
    "print(perf_y_df[:5])\n",
    "cont_df[:5]"
   ]
  },
  {
   "cell_type": "markdown",
   "id": "05613417",
   "metadata": {},
   "source": [
    "#### 1a. Normalize cont_df\n",
    "StandardScaler is instead used by the pipeline"
   ]
  },
  {
   "cell_type": "code",
   "execution_count": 8,
   "id": "a7e76a89",
   "metadata": {},
   "outputs": [],
   "source": [
    "standard_scaler = preprocessing.StandardScaler()\n",
    "cont_scaled = standard_scaler.fit_transform(cont_df.values)\n",
    "cont_df = pd.DataFrame(cont_scaled)\n",
    "# print(cont_df.head())\n",
    "\n",
    "# test performance set\n",
    "perf_conts_df_scaled = standard_scaler.fit_transform(perf_conts_df.values)\n",
    "perf_conts_df = pd.DataFrame(perf_conts_df_scaled)"
   ]
  },
  {
   "cell_type": "markdown",
   "id": "1b1912ae",
   "metadata": {},
   "source": [
    "### 3. Create an array of continuous values\n",
    "Numpy array 'conts' containing stack of each continuous column"
   ]
  },
  {
   "cell_type": "code",
   "execution_count": 9,
   "id": "72c326ab",
   "metadata": {},
   "outputs": [],
   "source": [
    "conts = np.stack([cont_df[col].values for col in list(cont_df.columns)], 1)\n",
    "conts[:5]\n",
    "\n",
    "y_col = np.stack([y_df[col].values for col in y_col], 1)\n",
    "\n",
    "# test performance set\n",
    "perf_conts = np.stack([perf_conts_df[col].values for col in list(perf_conts_df.columns)], 1)\n",
    "perf_y_col = np.stack([perf_y_df[col].values for col in list(perf_y_df.columns)], 1)\n",
    "perf_date_col = np.stack([perf_date_df[col].values for col in list(perf_date_df.columns)], 1)\n",
    "\n",
    "\n",
    "conts_train = conts\n",
    "y_train = y_col"
   ]
  },
  {
   "cell_type": "markdown",
   "id": "02a2547a",
   "metadata": {},
   "source": [
    "### 4. Convert conts to tensor"
   ]
  },
  {
   "cell_type": "code",
   "execution_count": 10,
   "id": "7b7db899",
   "metadata": {},
   "outputs": [
    {
     "name": "stdout",
     "output_type": "stream",
     "text": [
      "(5264, 48)\n",
      "(5264, 3)\n"
     ]
    }
   ],
   "source": [
    "print(conts.shape)\n",
    "print(y_col.shape)"
   ]
  },
  {
   "cell_type": "code",
   "execution_count": 11,
   "id": "42ac789a",
   "metadata": {},
   "outputs": [],
   "source": [
    "# Handled by model.fit()\n",
    "# conts = torch.tensor(conts, dtype=torch.float32)\n",
    "# y_col = torch.tensor(y_col, dtype=torch.float32)\n"
   ]
  },
  {
   "cell_type": "code",
   "execution_count": 12,
   "id": "cb278a38-cb66-41d3-9652-85996190807f",
   "metadata": {},
   "outputs": [],
   "source": [
    "\"\"\"\n",
    "Want: \n",
    "    An array > 1 elements for PCC formula\n",
    "    A smaller array for kelly_criterion\n",
    "    \n",
    "\n",
    "\n",
    "x: 1d array of predictions between -1 and 1 where negative number means visitor predicted to win\n",
    "y: ['H_Won', 'H_start_odds', 'V_start_odds']\n",
    "pearson_multiplier: constant to multiply the pearson correlation coefficient's result by\n",
    "max_bet_pct: max percentage allowed per bet.\n",
    "return_res_array: Skip the torch.cumprod part\n",
    "\"\"\"\n",
    "def nfl_custom_criterion(x, y, pearson_multiplier=0.5, max_bet_pct=0.1, return_res_array=False):\n",
    "    # ------------------------------------------------\n",
    "    # Preliminary calculations\n",
    "    # ------------------------------------------------\n",
    "    # acct_value = 100 # Preset account value\n",
    "    batch_size = len(x)\n",
    "    h_start_odds = y[:,1]\n",
    "    v_start_odds = y[:,2]\n",
    "    h_won = y[:,0]\n",
    "    y_decimal_odds = torch.where(x > 0, h_start_odds, v_start_odds) # Decimal odds for model's predicted outcome\n",
    "    y_prob = 1 / y_decimal_odds                  # Implied Probability (regardless of correct prediction)\n",
    "    x_H_Won = torch.round(torch.sigmoid(20 * x)) # H_won for predicted bets (Converts model's -1 to 1 range to 0 to 1)\n",
    "                                                 # Sigmoid so that it's differentiable. The 20 is arbitrarily large number\n",
    "    y_incorrect_prediction = torch.abs((x_H_Won - h_won))        # 1 if wrong bet, otherwise 0. Used to reset kelly when wrong\n",
    "    y_incorrect_prediction_mult_two = 2 * y_incorrect_prediction   # 2 if wrong bet, 0 if correct\n",
    "\n",
    "    #x = torch.abs(x)         # OLD VERSION\n",
    "    x_prob = torch.where(x > 0, (x + 1) / 2, (1 - x) / 2)\n",
    "    x = x_prob                # x is now the implied probability(?) of your prediction.\n",
    "                              # It's a number between 0 and 1 (formerly -1 and 1) representing the model's predicted probability of a win.\n",
    "                              # This now only shows the probability. Not whether it was correct & not for which side (home vs visitor)\n",
    "\n",
    "    \n",
    "    # ------------------------------------------------\n",
    "    # 1. Calculate the Pearson Correlation Coefficient\n",
    "    #    Currently includes cases where predicted wrong\n",
    "    #    ^ This is filtered out after step 2\n",
    "    # ------------------------------------------------\n",
    "    n = x.size(0)\n",
    "    sum_x = torch.sum(x)\n",
    "    sum_x_squared = torch.sum(x**2)\n",
    "    sum_y = torch.sum(y_prob)\n",
    "    sum_y_squared = torch.sum(y_prob**2)\n",
    "    sum_pow_x = torch.sum(x**2)\n",
    "    sum_pow_y = torch.sum(y_prob**2)\n",
    "    x_mul_y = torch.mul(x, y_prob)\n",
    "    sum_x_mul_y = torch.sum(x_mul_y)\n",
    "\n",
    "    \n",
    "    # PCC Formula (eps to avoid NaN)\n",
    "    eps = 1e-8\n",
    "    pcc_numerator = n * sum_x_mul_y - sum_x * sum_y\n",
    "    pcc_denominator_one = torch.sqrt(n * sum_pow_x - sum_x_squared + eps)\n",
    "    pcc_denominator_two = torch.sqrt(n * sum_pow_y - sum_y_squared + eps)\n",
    "    pcc = pcc_numerator / (pcc_denominator_one * pcc_denominator_two + eps)\n",
    "    pcc = pearson_multiplier * torch.abs(pcc)\n",
    "\n",
    "    \n",
    "    # ------------------------------------------------\n",
    "    # 2. Calculate the kelly criterion\n",
    "    #    Entirely wrong predictions are negated and kept in \"incorrect_bets\" (pcc not applied to wrong predictions)\n",
    "    #    Correct predictions are kept in \"correct_bets\". Pcc is applied to this & stored in pcc_adjusted_correct_bets\n",
    "    #    Possible issue: This always bets max_bet_pct\n",
    "    #    The result is cumulatively calculated. i.e. The sum of the previous values are used to calculate the next one\n",
    "    # ------------------------------------------------\n",
    "    # kelly_criterion = x - ((1 - x) / y_decimal_odds)  # OLD VERSION\n",
    "    kelly_criterion = x - ((1 - x) / (y_decimal_odds - 1))\n",
    "    bet_multiplier = torch.clamp(kelly_criterion, min=0)   # Kelly results that are negative are ignored\n",
    "    bet_multiplier = bet_multiplier*max_bet_pct            # Scale down the bets to the maximum allowed percentage per bet\n",
    "\n",
    "\n",
    "    # 4/5/25 adjustment of kelly\n",
    "    #    Want to use cumprod. Cumsum does nothing and is the same as torch.sum in this scenario?\n",
    "    #    Basically start with max_bet_pct and return as if you made the bets sequentially\n",
    "    correct_bet_multiplier = bet_multiplier - (bet_multiplier * y_incorrect_prediction)          # Correct bets after kelly. Bet multiplier or 0\n",
    "    correct_bet_multiplier = correct_bet_multiplier * (1 - pcc)                                  # \"correct_bet_multiplier\" penalized by pcc\n",
    "    assert torch.all(correct_bet_multiplier <= max_bet_pct), \"Correct bet mult. can't exceed max bet pct\"\n",
    "\n",
    "    correct_bet_multiplier = correct_bet_multiplier * y_decimal_odds                             # Bet multiplier taking market odds into account\n",
    "    incorrect_bet_multiplier = bet_multiplier - (bet_multiplier * y_incorrect_prediction_mult_two) # Negative numbers are incorrect bets\n",
    "    incorrect_bet_multiplier = torch.clamp(incorrect_bet_multiplier, max=0)                      # Restrict to 0 or negative\n",
    "    combined_bet_multiplier = correct_bet_multiplier + incorrect_bet_multiplier                  # Combine correct & incorrect bet multipliers\n",
    "    combined_bet_multiplier = combined_bet_multiplier + 1                                        # Converts to format friendly to cumprod\n",
    "                                                                                                 # Ex: loss=-0.3, profit=0.3 --> loss=0.7, profit=1.3\n",
    "\n",
    "    assert torch.all((x >= 0) & (x <= 1)), \"Probabilities must be between 0 and 1\"\n",
    "    assert torch.all(y_decimal_odds > 1), \"Decimal odds must be greater than 1\"\n",
    "    assert torch.all(kelly_criterion <= 1), \"Kelly Criterion cannot be greater than 1\"\n",
    "    assert torch.all(incorrect_bet_multiplier >= -max_bet_pct), \"Incorrect bet mult. can't exceed max bet pct\"\n",
    "    \n",
    "    # ------------------------------------------------\n",
    "    # Combine & Return\n",
    "    #     Negate everything for Adam & optuna\n",
    "    # ------------------------------------------------\n",
    "    if return_res_array:\n",
    "        return combined_bet_multiplier\n",
    "        \n",
    "    # Prepend max_bet_pct to the tensor before torch.cumprod\n",
    "    res = torch.sum(combined_bet_multiplier) / batch_size\n",
    "    # print(res)\n",
    "    return -res"
   ]
  },
  {
   "cell_type": "code",
   "execution_count": 13,
   "id": "9875b494",
   "metadata": {
    "scrolled": true
   },
   "outputs": [],
   "source": [
    "class TabularModelUpdated(nn.Module, BaseEstimator, RegressorMixin):\n",
    "    def __init__(self, n_cont, out_sz, layer_shape, p=0.5, optimizer_class=torch.optim.Adam,\n",
    "                 lr=0.001, confidence_threshold=0.1, batch_size=1000):\n",
    "        super().__init__()\n",
    "        # Model architecture params\n",
    "        self.layer_shape = layer_shape\n",
    "        self.batch_size = batch_size\n",
    "        self.n_cont = n_cont\n",
    "        self.out_sz = out_sz\n",
    "        self.p = p\n",
    "        self.lr = lr\n",
    "\n",
    "        # Training params\n",
    "        # self.criterion = criterion\n",
    "        self.confidence_threshold = confidence_threshold\n",
    "        self.device = torch.device(\"cuda\" if torch.cuda.is_available() else \"cpu\")\n",
    "        \n",
    "        # Variable that holds the list of layers\n",
    "        layerlist = []\n",
    "        n_in = n_cont # no embed again\n",
    "        # Iterate through the passed in \"layers\" parameter (ie, [200,100]) to build a list of layers\n",
    "        for i, width in enumerate(self.layer_shape):\n",
    "            # First layer gets special treatment\n",
    "            if i == 0:\n",
    "                layerlist.extend([\n",
    "                    nn.Linear(n_in, width),\n",
    "                    nn.Mish(),  # Mish instead of ReLU\n",
    "                    nn.BatchNorm1d(width),\n",
    "                    nn.Dropout(p/2)  # Less dropout in earlier layers\n",
    "                ])\n",
    "            else:\n",
    "                layerlist.extend([\n",
    "                    nn.Linear(n_in, width),\n",
    "                    nn.Mish(),\n",
    "                    nn.BatchNorm1d(width),\n",
    "                    nn.Dropout(p)\n",
    "                ])\n",
    "            n_in = width\n",
    "        # layerlist.append(nn.Linear(layers[-1], out_sz))\n",
    "        \n",
    "        # Final layer\n",
    "        layerlist.extend([nn.Linear(self.layer_shape[-1], out_sz)])\n",
    "        \n",
    "        # Convert the list of layers into an attribute\n",
    "        self.layers = nn.Sequential(*layerlist).to(self.device)\n",
    "        \n",
    "        # Initialize the optimizer & scheduler\n",
    "        self.optimizer = optimizer_class(self.parameters(), lr=self.lr)\n",
    "        self.scheduler = torch.optim.lr_scheduler.ReduceLROnPlateau(self.optimizer, mode='min',\n",
    "                                                                    factor=0.1, patience=10,\n",
    "                                                                    threshold=0.0001,threshold_mode='rel',\n",
    "                                                                    cooldown=0, min_lr=0, eps=1e-08)\n",
    "        \n",
    "    def forward(self, x_cont):\n",
    "        # x_cont = self.bn_cont(x_cont)  # Normalize the incoming continuous data\n",
    "        x = self.layers(x_cont)        # Set up model layers\n",
    "        return torch.clamp(x, -1, 1)\n",
    "    \n",
    "    def fit(self, X, y):\n",
    "        \"\"\"\n",
    "        For sklearn pipeline\n",
    "        \"\"\"\n",
    "        # Convert X,y to torch.tensor if needed\n",
    "        if not isinstance(X, torch.Tensor):\n",
    "            X = torch.FloatTensor(X).to(self.device)\n",
    "        if not isinstance(y, torch.Tensor):\n",
    "            y = torch.FloatTensor(y).to(self.device)\n",
    "        \n",
    "        # Initialize optimizer\n",
    "        # optimizer = self.optimizer_class(self.parameters(), lr=self.lr)\n",
    "        # Verify optimizer exists\n",
    "        if not hasattr(self, 'optimizer'):\n",
    "            raise ValueError(\"Optimizer not initialized. Set self.optimizer in __init__.\")\n",
    "\n",
    "        dataset = TensorDataset(X, y)\n",
    "        dataloader = DataLoader(dataset, batch_size=self.batch_size, shuffle=False)\n",
    "        \n",
    "        # Training loop\n",
    "        running_loss = []    # This is only for training over final dataset\n",
    "        self.train()\n",
    "        for X_batch, y_batch in dataloader:\n",
    "            self.optimizer.zero_grad()\n",
    "            y_pred = self.forward(X_batch)[:,0]\n",
    "            #loss = self.criterion(y_pred, y_batch)\n",
    "            loss = nfl_custom_criterion(y_pred, y_batch)\n",
    "            running_loss.append(loss)\n",
    "            loss.backward()\n",
    "            self.optimizer.step()\n",
    "        # return self  # TODO: This being replaced w/ loss might break things\n",
    "        return torch.mean(torch.stack(running_loss))\n",
    "\n",
    "    def step_lr(self, val_loss):\n",
    "        \"\"\"\n",
    "        Since CV is run outside of this class, we need to update the local self.optimizer variable\n",
    "        after each CV fold.\n",
    "        \"\"\"\n",
    "        self.scheduler.step(val_loss)\n",
    "    \n",
    "    def predict(self, X):\n",
    "        self.eval()\n",
    "        if not isinstance(X, torch.Tensor):\n",
    "            X = torch.FloatTensor(X).to(self.device)\n",
    "        with torch.no_grad():\n",
    "            y_pred = self(X).squeeze()\n",
    "        return y_pred\n",
    "        \n",
    "    def score(self, X, y):\n",
    "        \"\"\"\n",
    "        12/5 - this isn't called at all if 'scoring' is defined\n",
    "        \"\"\"\n",
    "        self.eval()\n",
    "    \n",
    "        if not isinstance(X, torch.Tensor):\n",
    "            X = torch.FloatTensor(X)\n",
    "        if not isinstance(y, torch.Tensor):\n",
    "            y = torch.FloatTensor(y)\n",
    "    \n",
    "        dataset = TensorDataset(X, y)\n",
    "        dataloader = DataLoader(dataset, batch_size=self.batch_size, shuffle=False)\n",
    "    \n",
    "        total_loss = 0.0\n",
    "        count = 0\n",
    "    \n",
    "        with torch.no_grad():\n",
    "            for X_batch, y_batch in dataloader:\n",
    "                y_pred = self.forward(X_batch)[:, 0]  # [batch_size]\n",
    "                batch_loss = nfl_custom_criterion(y_pred, y_batch)  # scalar\n",
    "                total_loss += batch_loss.item() * len(X_batch)\n",
    "                count += len(X_batch)\n",
    "    \n",
    "        return total_loss / count"
   ]
  },
  {
   "cell_type": "code",
   "execution_count": 14,
   "id": "94b31ab2",
   "metadata": {},
   "outputs": [],
   "source": [
    "def objective(trial, override_params=None):\n",
    "    \"\"\"\n",
    "    When doing optuna training: trial is defined, override_params left as None\n",
    "    when recreating model using best parameters (override_params): trial is None, override_params are defined\n",
    "    \"\"\"\n",
    "    is_training = trial != None\n",
    "    # --- Suggest hyperparameters ---\n",
    "    # criterion = trial.suggest_categorical('criterion', nfl_utils.map_losses(None).keys())\n",
    "    if is_training:\n",
    "        batch_size = trial.suggest_categorical('batch_size', [100, 400, 1000, 3000])\n",
    "        first_layer_size = trial.suggest_categorical('first_layer_size', [64, 56, 48, 32, 16, 12])\n",
    "        min_layers = math.floor(math.sqrt(first_layer_size))\n",
    "        num_layers = trial.suggest_int('num_layers', 2, min_layers)\n",
    "        confidence_threshold = trial.suggest_float('confidence_threshold', 0, 0.05)\n",
    "        dropout = trial.suggest_float('dropout', 0.28, 0.38)\n",
    "        lr = trial.suggest_float('lr', 1e-3, 1e-2, log=True)\n",
    "    else:\n",
    "        batch_size = override_params[\"batch_size\"]\n",
    "        first_layer_size = override_params[\"first_layer_size\"]\n",
    "        num_layers = override_params[\"num_layers\"]\n",
    "        confidence_threshold = override_params[\"confidence_threshold\"]\n",
    "        dropout = override_params[\"dropout\"]\n",
    "        lr = override_params[\"lr\"]\n",
    "    \n",
    "    layer_shape = [first_layer_size]\n",
    "    for i in range(1, num_layers):\n",
    "        layer_shape.append(first_layer_size//(2*i))\n",
    "\n",
    "    # Set random state to have consistent results (42 is arbitrary)\n",
    "    set_all_seeds()\n",
    "    n_splits = 5\n",
    "    kf = KFold(n_splits=n_splits, shuffle=False)\n",
    "\n",
    "    # Split once\n",
    "    X_train_fold = []\n",
    "    X_val = []\n",
    "    y_train_fold = []\n",
    "    y_val = []\n",
    "    models = []\n",
    "    for train_index, val_index in kf.split(conts_train):\n",
    "        # print(f\"train {train_index.shape} val {val_index.shape}\")\n",
    "        X_train_fold.append(torch.FloatTensor(conts_train[train_index]).to(device))\n",
    "        X_val.append(torch.FloatTensor(conts_train[val_index]).to(device))\n",
    "\n",
    "        y_train_fold.append(torch.FloatTensor(y_train[train_index]).to(device))\n",
    "        y_val.append(torch.FloatTensor(y_train[val_index]).to(device))\n",
    "\n",
    "        model = TabularModelUpdated(\n",
    "            n_cont=conts.shape[1],\n",
    "            out_sz=1,\n",
    "            layer_shape=layer_shape,\n",
    "            p=dropout,     # Dropout\n",
    "            # criterion=nfl_utils.map_losses(criterion),\n",
    "            optimizer_class=torch.optim.Adam,\n",
    "            lr=lr,   # Learning rate \n",
    "            confidence_threshold=confidence_threshold,\n",
    "            batch_size=batch_size\n",
    "        )\n",
    "        models.append(model)\n",
    "\n",
    "    # If not training, ignore CV\n",
    "    if is_training is False:\n",
    "        # put everything in one fold to ignore CV\n",
    "        n_splits = 1 \n",
    "        X_train_fold.append(torch.FloatTensor(conts_train).to(device))\n",
    "        y_train_fold.append(torch.FloatTensor(y_train).to(device))\n",
    "        # X_val & y_val is not used since we train on whole dataset\n",
    "    \n",
    "    # Run once on each split, track average loss, stop if > max patience\n",
    "    max_patience = 10\n",
    "    current_patience = max_patience\n",
    "    tracked_loss = 0.0\n",
    "    n_epochs = 0\n",
    "    while current_patience > 0 or n_epochs < 10:\n",
    "        n_epochs = n_epochs + 1\n",
    "        running_loss = []\n",
    "        for i in range(0,n_splits):\n",
    "            # ----- Train -----\n",
    "            model_score = models[i].fit(X_train_fold[i], y_train_fold[i])\n",
    "\n",
    "            # ----- Eval -----\n",
    "            # print(f\"los: {models[i].score(X_val[i], y_val[i])} type: {type(models[i].score(X_val[i], y_val[i]))}\")\n",
    "            if is_training:\n",
    "                model_score = models[i].score(X_val[i], y_val[i])\n",
    "            else:\n",
    "                model_score = model_score.detach().numpy()\n",
    "            running_loss.append(model_score)\n",
    "            models[i].step_lr(model_score)\n",
    "\n",
    "        # print(f\"{running_loss} at {n_epochs}\")\n",
    "        running_loss = np.mean(running_loss)\n",
    "        # print(f\"rloss: {running_loss}\")\n",
    "        \n",
    "        # ----- Current epoch loss < previous -----\n",
    "        # print(f\"{tracked_loss} {running_loss} {tracked_loss > running_loss}\")\n",
    "        if tracked_loss > running_loss:\n",
    "            current_patience = max_patience\n",
    "            tracked_loss = running_loss\n",
    "        else:\n",
    "            current_patience = current_patience - 1\n",
    "\n",
    "    # Return the tracked_loss if in optuna training (trial != None)\n",
    "    if is_training:\n",
    "        trial.suggest_int('n_epochs', n_epochs, n_epochs)\n",
    "        trial.report(tracked_loss, n_epochs)\n",
    "        return tracked_loss\n",
    "\n",
    "    # When not training, only the first model is relevant since CV is ignored\n",
    "    return models[0]\n",
    "\n",
    "def print_callback(study, trial):\n",
    "    print(f\"Trial {trial.number} finished with value: {trial.value}\")\n",
    "    print(f\"Best trial so far: {study.best_trial.number}, value: {study.best_trial.value}\")"
   ]
  },
  {
   "cell_type": "code",
   "execution_count": 16,
   "id": "fd663af5",
   "metadata": {
    "scrolled": true
   },
   "outputs": [
    {
     "name": "stderr",
     "output_type": "stream",
     "text": [
      "[I 2025-04-06 18:55:32,008] A new study created in memory with name: no-name-b709aa54-e381-4779-8754-7aa1f6a8f509\n",
      "[I 2025-04-06 18:55:49,152] Trial 0 finished with value: -4694399267.05 and parameters: {'batch_size': 3000, 'first_layer_size': 16, 'num_layers': 3, 'confidence_threshold': 0.012322704464725331, 'dropout': 0.31378484943835805, 'lr': 0.0010881917656910436, 'n_epochs': 50}. Best is trial 0 with value: -4694399267.05.\n"
     ]
    },
    {
     "name": "stdout",
     "output_type": "stream",
     "text": [
      "Trial 0 finished with value: -4694399267.05\n",
      "Best trial so far: 0, value: -4694399267.05\n"
     ]
    },
    {
     "name": "stderr",
     "output_type": "stream",
     "text": [
      "[I 2025-04-06 18:56:06,517] Trial 1 finished with value: -32507704505.6 and parameters: {'batch_size': 3000, 'first_layer_size': 16, 'num_layers': 3, 'confidence_threshold': 0.041285346202836776, 'dropout': 0.3256359987731165, 'lr': 0.008882004305843943, 'n_epochs': 50}. Best is trial 1 with value: -32507704505.6.\n"
     ]
    },
    {
     "name": "stdout",
     "output_type": "stream",
     "text": [
      "Trial 1 finished with value: -32507704505.6\n",
      "Best trial so far: 1, value: -32507704505.6\n"
     ]
    },
    {
     "name": "stderr",
     "output_type": "stream",
     "text": [
      "[I 2025-04-06 18:56:28,363] Trial 2 finished with value: -854077632614.4 and parameters: {'batch_size': 1000, 'first_layer_size': 32, 'num_layers': 4, 'confidence_threshold': 0.012325799612466388, 'dropout': 0.2987029276483133, 'lr': 0.001082159228741394, 'n_epochs': 50}. Best is trial 2 with value: -854077632614.4.\n"
     ]
    },
    {
     "name": "stdout",
     "output_type": "stream",
     "text": [
      "Trial 2 finished with value: -854077632614.4\n",
      "Best trial so far: 2, value: -854077632614.4\n"
     ]
    },
    {
     "name": "stderr",
     "output_type": "stream",
     "text": [
      "[I 2025-04-06 18:56:48,175] Trial 3 finished with value: -3013567066784.0 and parameters: {'batch_size': 1000, 'first_layer_size': 16, 'num_layers': 2, 'confidence_threshold': 0.0065760206336920425, 'dropout': 0.31278221325016364, 'lr': 0.0012913983048685829, 'n_epochs': 53}. Best is trial 3 with value: -3013567066784.0.\n"
     ]
    },
    {
     "name": "stdout",
     "output_type": "stream",
     "text": [
      "Trial 3 finished with value: -3013567066784.0\n",
      "Best trial so far: 3, value: -3013567066784.0\n"
     ]
    },
    {
     "name": "stderr",
     "output_type": "stream",
     "text": [
      "[I 2025-04-06 18:57:07,627] Trial 4 finished with value: -5377212505.6 and parameters: {'batch_size': 3000, 'first_layer_size': 32, 'num_layers': 3, 'confidence_threshold': 0.0044355870831241815, 'dropout': 0.29480154457335517, 'lr': 0.0056694584421884565, 'n_epochs': 50}. Best is trial 3 with value: -3013567066784.0.\n"
     ]
    },
    {
     "name": "stdout",
     "output_type": "stream",
     "text": [
      "Trial 4 finished with value: -5377212505.6\n",
      "Best trial so far: 3, value: -3013567066784.0\n"
     ]
    },
    {
     "name": "stderr",
     "output_type": "stream",
     "text": [
      "[I 2025-04-06 18:58:10,376] Trial 5 finished with value: -4566659977625.6 and parameters: {'batch_size': 100, 'first_layer_size': 56, 'num_layers': 2, 'confidence_threshold': 0.01871844651907653, 'dropout': 0.3446119963864044, 'lr': 0.001539335558041041, 'n_epochs': 50}. Best is trial 5 with value: -4566659977625.6.\n"
     ]
    },
    {
     "name": "stdout",
     "output_type": "stream",
     "text": [
      "Trial 5 finished with value: -4566659977625.6\n",
      "Best trial so far: 5, value: -4566659977625.6\n"
     ]
    },
    {
     "name": "stderr",
     "output_type": "stream",
     "text": [
      "[I 2025-04-06 18:59:03,124] Trial 6 finished with value: -56145887413990.4 and parameters: {'batch_size': 100, 'first_layer_size': 12, 'num_layers': 2, 'confidence_threshold': 0.03432279414425307, 'dropout': 0.3549338686656503, 'lr': 0.0017244785989805071, 'n_epochs': 50}. Best is trial 6 with value: -56145887413990.4.\n"
     ]
    },
    {
     "name": "stdout",
     "output_type": "stream",
     "text": [
      "Trial 6 finished with value: -56145887413990.4\n",
      "Best trial so far: 6, value: -56145887413990.4\n"
     ]
    },
    {
     "name": "stderr",
     "output_type": "stream",
     "text": [
      "[I 2025-04-06 18:59:29,117] Trial 7 finished with value: -4606397839667.2 and parameters: {'batch_size': 1000, 'first_layer_size': 48, 'num_layers': 3, 'confidence_threshold': 0.03363255622697286, 'dropout': 0.35797188419311854, 'lr': 0.002642987505712631, 'n_epochs': 50}. Best is trial 6 with value: -56145887413990.4.\n"
     ]
    },
    {
     "name": "stdout",
     "output_type": "stream",
     "text": [
      "Trial 7 finished with value: -4606397839667.2\n",
      "Best trial so far: 6, value: -56145887413990.4\n"
     ]
    },
    {
     "name": "stderr",
     "output_type": "stream",
     "text": [
      "[I 2025-04-06 19:00:34,736] Trial 8 finished with value: -82144354242150.4 and parameters: {'batch_size': 100, 'first_layer_size': 48, 'num_layers': 2, 'confidence_threshold': 0.011788348951225332, 'dropout': 0.3474735025410615, 'lr': 0.004629850515195867, 'n_epochs': 53}. Best is trial 8 with value: -82144354242150.4.\n"
     ]
    },
    {
     "name": "stdout",
     "output_type": "stream",
     "text": [
      "Trial 8 finished with value: -82144354242150.4\n",
      "Best trial so far: 8, value: -82144354242150.4\n"
     ]
    },
    {
     "name": "stderr",
     "output_type": "stream",
     "text": [
      "[I 2025-04-06 19:01:44,231] Trial 9 finished with value: -10910806813286.4 and parameters: {'batch_size': 100, 'first_layer_size': 48, 'num_layers': 4, 'confidence_threshold': 0.0054097877012570465, 'dropout': 0.3705059063352554, 'lr': 0.001694389556479787, 'n_epochs': 50}. Best is trial 8 with value: -82144354242150.4.\n"
     ]
    },
    {
     "name": "stdout",
     "output_type": "stream",
     "text": [
      "Trial 9 finished with value: -10910806813286.4\n",
      "Best trial so far: 8, value: -82144354242150.4\n"
     ]
    },
    {
     "name": "stderr",
     "output_type": "stream",
     "text": [
      "[I 2025-04-06 19:02:30,506] Trial 10 finished with value: -7599564202639.0 and parameters: {'batch_size': 400, 'first_layer_size': 64, 'num_layers': 7, 'confidence_threshold': 0.02337699801505614, 'dropout': 0.37605859888453924, 'lr': 0.0041852649911817705, 'n_epochs': 50}. Best is trial 8 with value: -82144354242150.4.\n"
     ]
    },
    {
     "name": "stdout",
     "output_type": "stream",
     "text": [
      "Trial 10 finished with value: -7599564202639.0\n",
      "Best trial so far: 8, value: -82144354242150.4\n"
     ]
    },
    {
     "name": "stderr",
     "output_type": "stream",
     "text": [
      "[I 2025-04-06 19:03:24,903] Trial 11 finished with value: -53433482702336.0 and parameters: {'batch_size': 100, 'first_layer_size': 12, 'num_layers': 2, 'confidence_threshold': 0.03294101724296215, 'dropout': 0.3436333749047128, 'lr': 0.0027619306546269153, 'n_epochs': 50}. Best is trial 8 with value: -82144354242150.4.\n"
     ]
    },
    {
     "name": "stdout",
     "output_type": "stream",
     "text": [
      "Trial 11 finished with value: -53433482702336.0\n",
      "Best trial so far: 8, value: -82144354242150.4\n"
     ]
    },
    {
     "name": "stderr",
     "output_type": "stream",
     "text": [
      "[I 2025-04-06 19:04:20,368] Trial 12 finished with value: -119593241898227.2 and parameters: {'batch_size': 100, 'first_layer_size': 12, 'num_layers': 2, 'confidence_threshold': 0.04845303251283521, 'dropout': 0.35381437104402846, 'lr': 0.0021938890949077068, 'n_epochs': 50}. Best is trial 12 with value: -119593241898227.2.\n"
     ]
    },
    {
     "name": "stdout",
     "output_type": "stream",
     "text": [
      "Trial 12 finished with value: -119593241898227.2\n",
      "Best trial so far: 12, value: -119593241898227.2\n"
     ]
    },
    {
     "name": "stderr",
     "output_type": "stream",
     "text": [
      "[I 2025-04-06 19:05:15,864] Trial 13 finished with value: -312696823790336.0 and parameters: {'batch_size': 100, 'first_layer_size': 12, 'num_layers': 2, 'confidence_threshold': 0.048900644353775405, 'dropout': 0.33920262467053125, 'lr': 0.0041248408419029565, 'n_epochs': 50}. Best is trial 13 with value: -312696823790336.0.\n"
     ]
    },
    {
     "name": "stdout",
     "output_type": "stream",
     "text": [
      "Trial 13 finished with value: -312696823790336.0\n",
      "Best trial so far: 13, value: -312696823790336.0\n"
     ]
    },
    {
     "name": "stderr",
     "output_type": "stream",
     "text": [
      "[I 2025-04-06 19:05:42,322] Trial 14 finished with value: -2246312907069.831 and parameters: {'batch_size': 400, 'first_layer_size': 12, 'num_layers': 2, 'confidence_threshold': 0.049579531773586386, 'dropout': 0.3297442240019445, 'lr': 0.0021251487068006778, 'n_epochs': 50}. Best is trial 13 with value: -312696823790336.0.\n"
     ]
    },
    {
     "name": "stdout",
     "output_type": "stream",
     "text": [
      "Trial 14 finished with value: -2246312907069.831\n",
      "Best trial so far: 13, value: -312696823790336.0\n"
     ]
    },
    {
     "name": "stderr",
     "output_type": "stream",
     "text": [
      "[I 2025-04-06 19:06:43,759] Trial 15 finished with value: -177134286323712.0 and parameters: {'batch_size': 100, 'first_layer_size': 12, 'num_layers': 2, 'confidence_threshold': 0.049037998187856514, 'dropout': 0.28042611501320835, 'lr': 0.0037748035067084384, 'n_epochs': 54}. Best is trial 13 with value: -312696823790336.0.\n"
     ]
    },
    {
     "name": "stdout",
     "output_type": "stream",
     "text": [
      "Trial 15 finished with value: -177134286323712.0\n",
      "Best trial so far: 13, value: -312696823790336.0\n"
     ]
    },
    {
     "name": "stderr",
     "output_type": "stream",
     "text": [
      "[I 2025-04-06 19:07:43,488] Trial 16 finished with value: -670441396106035.2 and parameters: {'batch_size': 100, 'first_layer_size': 12, 'num_layers': 2, 'confidence_threshold': 0.04202338126682067, 'dropout': 0.2825528343331923, 'lr': 0.006945491821611467, 'n_epochs': 50}. Best is trial 16 with value: -670441396106035.2.\n"
     ]
    },
    {
     "name": "stdout",
     "output_type": "stream",
     "text": [
      "Trial 16 finished with value: -670441396106035.2\n",
      "Best trial so far: 16, value: -670441396106035.2\n"
     ]
    },
    {
     "name": "stderr",
     "output_type": "stream",
     "text": [
      "[I 2025-04-06 19:10:12,092] Trial 17 finished with value: -181632670341529.6 and parameters: {'batch_size': 100, 'first_layer_size': 56, 'num_layers': 6, 'confidence_threshold': 0.041323752617251935, 'dropout': 0.2830111640747521, 'lr': 0.007330065200271172, 'n_epochs': 69}. Best is trial 16 with value: -670441396106035.2.\n"
     ]
    },
    {
     "name": "stdout",
     "output_type": "stream",
     "text": [
      "Trial 17 finished with value: -181632670341529.6\n",
      "Best trial so far: 16, value: -670441396106035.2\n"
     ]
    },
    {
     "name": "stderr",
     "output_type": "stream",
     "text": [
      "[I 2025-04-06 19:11:02,745] Trial 18 finished with value: -12642519062399.65 and parameters: {'batch_size': 400, 'first_layer_size': 64, 'num_layers': 8, 'confidence_threshold': 0.04205646596380671, 'dropout': 0.32009379872478394, 'lr': 0.006726519280437443, 'n_epochs': 50}. Best is trial 16 with value: -670441396106035.2.\n"
     ]
    },
    {
     "name": "stdout",
     "output_type": "stream",
     "text": [
      "Trial 18 finished with value: -12642519062399.65\n",
      "Best trial so far: 16, value: -670441396106035.2\n"
     ]
    },
    {
     "name": "stderr",
     "output_type": "stream",
     "text": [
      "[I 2025-04-06 19:12:00,401] Trial 19 finished with value: -54379964448768.0 and parameters: {'batch_size': 100, 'first_layer_size': 12, 'num_layers': 2, 'confidence_threshold': 0.027188523375366376, 'dropout': 0.33528113899954887, 'lr': 0.009178859224208292, 'n_epochs': 50}. Best is trial 16 with value: -670441396106035.2.\n"
     ]
    },
    {
     "name": "stdout",
     "output_type": "stream",
     "text": [
      "Trial 19 finished with value: -54379964448768.0\n",
      "Best trial so far: 16, value: -670441396106035.2\n"
     ]
    },
    {
     "name": "stderr",
     "output_type": "stream",
     "text": [
      "[I 2025-04-06 19:12:57,874] Trial 20 finished with value: -53664633087590.4 and parameters: {'batch_size': 100, 'first_layer_size': 12, 'num_layers': 2, 'confidence_threshold': 0.04429143495343815, 'dropout': 0.303528790470756, 'lr': 0.005271443219224218, 'n_epochs': 50}. Best is trial 16 with value: -670441396106035.2.\n"
     ]
    },
    {
     "name": "stdout",
     "output_type": "stream",
     "text": [
      "Trial 20 finished with value: -53664633087590.4\n",
      "Best trial so far: 16, value: -670441396106035.2\n"
     ]
    },
    {
     "name": "stderr",
     "output_type": "stream",
     "text": [
      "[I 2025-04-06 19:14:45,010] Trial 21 finished with value: -7763027724288.0 and parameters: {'batch_size': 100, 'first_layer_size': 56, 'num_layers': 6, 'confidence_threshold': 0.03697167640555309, 'dropout': 0.2853097568366426, 'lr': 0.007056188312389713, 'n_epochs': 50}. Best is trial 16 with value: -670441396106035.2.\n"
     ]
    },
    {
     "name": "stdout",
     "output_type": "stream",
     "text": [
      "Trial 21 finished with value: -7763027724288.0\n",
      "Best trial so far: 16, value: -670441396106035.2\n"
     ]
    },
    {
     "name": "stderr",
     "output_type": "stream",
     "text": [
      "[I 2025-04-06 19:16:42,155] Trial 22 finished with value: -994001796960256.0 and parameters: {'batch_size': 100, 'first_layer_size': 56, 'num_layers': 5, 'confidence_threshold': 0.03846293443448438, 'dropout': 0.2902778009435907, 'lr': 0.00712625667501608, 'n_epochs': 60}. Best is trial 22 with value: -994001796960256.0.\n"
     ]
    },
    {
     "name": "stdout",
     "output_type": "stream",
     "text": [
      "Trial 22 finished with value: -994001796960256.0\n",
      "Best trial so far: 22, value: -994001796960256.0\n"
     ]
    },
    {
     "name": "stderr",
     "output_type": "stream",
     "text": [
      "[I 2025-04-06 19:18:24,691] Trial 23 finished with value: -22633728628080.2 and parameters: {'batch_size': 100, 'first_layer_size': 56, 'num_layers': 5, 'confidence_threshold': 0.04526487625056581, 'dropout': 0.2961413337302844, 'lr': 0.003585604163694455, 'n_epochs': 50}. Best is trial 22 with value: -994001796960256.0.\n"
     ]
    },
    {
     "name": "stdout",
     "output_type": "stream",
     "text": [
      "Trial 23 finished with value: -22633728628080.2\n",
      "Best trial so far: 22, value: -994001796960256.0\n"
     ]
    },
    {
     "name": "stderr",
     "output_type": "stream",
     "text": [
      "[I 2025-04-06 19:20:12,664] Trial 24 finished with value: -33257773966794.46 and parameters: {'batch_size': 100, 'first_layer_size': 56, 'num_layers': 5, 'confidence_threshold': 0.03794614876147974, 'dropout': 0.28928384414970154, 'lr': 0.0054394226898190805, 'n_epochs': 55}. Best is trial 22 with value: -994001796960256.0.\n"
     ]
    },
    {
     "name": "stdout",
     "output_type": "stream",
     "text": [
      "Trial 24 finished with value: -33257773966794.46\n",
      "Best trial so far: 22, value: -994001796960256.0\n"
     ]
    },
    {
     "name": "stderr",
     "output_type": "stream",
     "text": [
      "[I 2025-04-06 19:21:09,788] Trial 25 finished with value: -155960006843340.8 and parameters: {'batch_size': 100, 'first_layer_size': 12, 'num_layers': 2, 'confidence_threshold': 0.029618958251356287, 'dropout': 0.30580381013616065, 'lr': 0.007688608723561184, 'n_epochs': 50}. Best is trial 22 with value: -994001796960256.0.\n"
     ]
    },
    {
     "name": "stdout",
     "output_type": "stream",
     "text": [
      "Trial 25 finished with value: -155960006843340.8\n",
      "Best trial so far: 22, value: -994001796960256.0\n"
     ]
    },
    {
     "name": "stderr",
     "output_type": "stream",
     "text": [
      "[I 2025-04-06 19:21:36,418] Trial 26 finished with value: -3011310638694.4 and parameters: {'batch_size': 1000, 'first_layer_size': 32, 'num_layers': 4, 'confidence_threshold': 0.04496019675141039, 'dropout': 0.31861704092876353, 'lr': 0.009995983435537531, 'n_epochs': 50}. Best is trial 22 with value: -994001796960256.0.\n"
     ]
    },
    {
     "name": "stdout",
     "output_type": "stream",
     "text": [
      "Trial 26 finished with value: -3011310638694.4\n",
      "Best trial so far: 22, value: -994001796960256.0\n"
     ]
    },
    {
     "name": "stderr",
     "output_type": "stream",
     "text": [
      "[I 2025-04-06 19:22:22,691] Trial 27 finished with value: -247768935286381.5 and parameters: {'batch_size': 400, 'first_layer_size': 64, 'num_layers': 6, 'confidence_threshold': 0.0372512022596287, 'dropout': 0.2890938232601704, 'lr': 0.006133973919766322, 'n_epochs': 50}. Best is trial 22 with value: -994001796960256.0.\n"
     ]
    },
    {
     "name": "stdout",
     "output_type": "stream",
     "text": [
      "Trial 27 finished with value: -247768935286381.5\n",
      "Best trial so far: 22, value: -994001796960256.0\n"
     ]
    },
    {
     "name": "stderr",
     "output_type": "stream",
     "text": [
      "[I 2025-04-06 19:22:54,010] Trial 28 finished with value: -271605405113.6 and parameters: {'batch_size': 3000, 'first_layer_size': 56, 'num_layers': 5, 'confidence_threshold': 0.02283067677452125, 'dropout': 0.33612268406958484, 'lr': 0.004529058409253121, 'n_epochs': 57}. Best is trial 22 with value: -994001796960256.0.\n"
     ]
    },
    {
     "name": "stdout",
     "output_type": "stream",
     "text": [
      "Trial 28 finished with value: -271605405113.6\n",
      "Best trial so far: 22, value: -994001796960256.0\n"
     ]
    },
    {
     "name": "stderr",
     "output_type": "stream",
     "text": [
      "[I 2025-04-06 19:23:18,040] Trial 29 finished with value: -4313995849.6 and parameters: {'batch_size': 3000, 'first_layer_size': 16, 'num_layers': 3, 'confidence_threshold': 0.03940278771628343, 'dropout': 0.30891920654400634, 'lr': 0.003215794397554204, 'n_epochs': 56}. Best is trial 22 with value: -994001796960256.0.\n"
     ]
    },
    {
     "name": "stdout",
     "output_type": "stream",
     "text": [
      "Trial 29 finished with value: -4313995849.6\n",
      "Best trial so far: 22, value: -994001796960256.0\n"
     ]
    },
    {
     "name": "stderr",
     "output_type": "stream",
     "text": [
      "[I 2025-04-06 19:24:15,435] Trial 30 finished with value: -36576082285977.6 and parameters: {'batch_size': 100, 'first_layer_size': 12, 'num_layers': 2, 'confidence_threshold': 0.04601911282630488, 'dropout': 0.31898197331109995, 'lr': 0.008421172802682805, 'n_epochs': 50}. Best is trial 22 with value: -994001796960256.0.\n"
     ]
    },
    {
     "name": "stdout",
     "output_type": "stream",
     "text": [
      "Trial 30 finished with value: -36576082285977.6\n",
      "Best trial so far: 22, value: -994001796960256.0\n"
     ]
    },
    {
     "name": "stderr",
     "output_type": "stream",
     "text": [
      "[I 2025-04-06 19:25:02,456] Trial 31 finished with value: -35247678218987.65 and parameters: {'batch_size': 400, 'first_layer_size': 64, 'num_layers': 6, 'confidence_threshold': 0.030366806177438203, 'dropout': 0.29233808214402673, 'lr': 0.005738076888396547, 'n_epochs': 50}. Best is trial 22 with value: -994001796960256.0.\n"
     ]
    },
    {
     "name": "stdout",
     "output_type": "stream",
     "text": [
      "Trial 31 finished with value: -35247678218987.65\n",
      "Best trial so far: 22, value: -994001796960256.0\n"
     ]
    },
    {
     "name": "stderr",
     "output_type": "stream",
     "text": [
      "[I 2025-04-06 19:25:51,679] Trial 32 finished with value: -3391687322634.293 and parameters: {'batch_size': 400, 'first_layer_size': 64, 'num_layers': 7, 'confidence_threshold': 0.036489259355575884, 'dropout': 0.2868023617576026, 'lr': 0.006325828031402584, 'n_epochs': 50}. Best is trial 22 with value: -994001796960256.0.\n"
     ]
    },
    {
     "name": "stdout",
     "output_type": "stream",
     "text": [
      "Trial 32 finished with value: -3391687322634.293\n",
      "Best trial so far: 22, value: -994001796960256.0\n"
     ]
    },
    {
     "name": "stderr",
     "output_type": "stream",
     "text": [
      "[I 2025-04-06 19:26:39,388] Trial 33 finished with value: -650955949754.8031 and parameters: {'batch_size': 400, 'first_layer_size': 64, 'num_layers': 7, 'confidence_threshold': 0.04071375930071741, 'dropout': 0.3042980974891955, 'lr': 0.004657537270494265, 'n_epochs': 50}. Best is trial 22 with value: -994001796960256.0.\n"
     ]
    },
    {
     "name": "stdout",
     "output_type": "stream",
     "text": [
      "Trial 33 finished with value: -650955949754.8031\n",
      "Best trial so far: 22, value: -994001796960256.0\n"
     ]
    },
    {
     "name": "stderr",
     "output_type": "stream",
     "text": [
      "[I 2025-04-06 19:27:13,384] Trial 34 finished with value: -2657528125657.6 and parameters: {'batch_size': 400, 'first_layer_size': 16, 'num_layers': 3, 'confidence_threshold': 0.04279279563035359, 'dropout': 0.29901100051980656, 'lr': 0.007830374159253322, 'n_epochs': 50}. Best is trial 22 with value: -994001796960256.0.\n"
     ]
    },
    {
     "name": "stdout",
     "output_type": "stream",
     "text": [
      "Trial 34 finished with value: -2657528125657.6\n",
      "Best trial so far: 22, value: -994001796960256.0\n"
     ]
    },
    {
     "name": "stderr",
     "output_type": "stream",
     "text": [
      "[I 2025-04-06 19:27:50,319] Trial 35 finished with value: -141803008510.0 and parameters: {'batch_size': 3000, 'first_layer_size': 64, 'num_layers': 4, 'confidence_threshold': 0.04679592106777457, 'dropout': 0.29046759458915117, 'lr': 0.006136621252791003, 'n_epochs': 58}. Best is trial 22 with value: -994001796960256.0.\n"
     ]
    },
    {
     "name": "stdout",
     "output_type": "stream",
     "text": [
      "Trial 35 finished with value: -141803008510.0\n",
      "Best trial so far: 22, value: -994001796960256.0\n"
     ]
    },
    {
     "name": "stderr",
     "output_type": "stream",
     "text": [
      "[I 2025-04-06 19:28:13,963] Trial 36 finished with value: -3504547596329.2 and parameters: {'batch_size': 1000, 'first_layer_size': 32, 'num_layers': 3, 'confidence_threshold': 0.03621698230533053, 'dropout': 0.2992691614203966, 'lr': 0.005305157417022689, 'n_epochs': 50}. Best is trial 22 with value: -994001796960256.0.\n"
     ]
    },
    {
     "name": "stdout",
     "output_type": "stream",
     "text": [
      "Trial 36 finished with value: -3504547596329.2\n",
      "Best trial so far: 22, value: -994001796960256.0\n"
     ]
    },
    {
     "name": "stderr",
     "output_type": "stream",
     "text": [
      "[I 2025-04-06 19:29:02,291] Trial 37 finished with value: -12307017779827.432 and parameters: {'batch_size': 400, 'first_layer_size': 56, 'num_layers': 5, 'confidence_threshold': 0.030129884062672196, 'dropout': 0.3133359622651886, 'lr': 0.003952589414541509, 'n_epochs': 50}. Best is trial 22 with value: -994001796960256.0.\n"
     ]
    },
    {
     "name": "stdout",
     "output_type": "stream",
     "text": [
      "Trial 37 finished with value: -12307017779827.432\n",
      "Best trial so far: 22, value: -994001796960256.0\n"
     ]
    },
    {
     "name": "stderr",
     "output_type": "stream",
     "text": [
      "[I 2025-04-06 19:30:01,243] Trial 38 finished with value: -110194478600908.8 and parameters: {'batch_size': 100, 'first_layer_size': 12, 'num_layers': 2, 'confidence_threshold': 0.03835981097874043, 'dropout': 0.3263625823599127, 'lr': 0.004997858140858983, 'n_epochs': 50}. Best is trial 22 with value: -994001796960256.0.\n"
     ]
    },
    {
     "name": "stdout",
     "output_type": "stream",
     "text": [
      "Trial 38 finished with value: -110194478600908.8\n",
      "Best trial so far: 22, value: -994001796960256.0\n"
     ]
    },
    {
     "name": "stderr",
     "output_type": "stream",
     "text": [
      "[I 2025-04-06 19:30:27,704] Trial 39 finished with value: -606805933715.2 and parameters: {'batch_size': 1000, 'first_layer_size': 16, 'num_layers': 3, 'confidence_threshold': 0.017686922971686107, 'dropout': 0.28000080737052285, 'lr': 0.006383332490162863, 'n_epochs': 50}. Best is trial 22 with value: -994001796960256.0.\n"
     ]
    },
    {
     "name": "stdout",
     "output_type": "stream",
     "text": [
      "Trial 39 finished with value: -606805933715.2\n",
      "Best trial so far: 22, value: -994001796960256.0\n"
     ]
    },
    {
     "name": "stderr",
     "output_type": "stream",
     "text": [
      "[I 2025-04-06 19:31:00,143] Trial 40 finished with value: -180055222265.6 and parameters: {'batch_size': 3000, 'first_layer_size': 48, 'num_layers': 5, 'confidence_threshold': 0.043536829329089324, 'dropout': 0.3372554804092889, 'lr': 0.00846243145977752, 'n_epochs': 65}. Best is trial 22 with value: -994001796960256.0.\n"
     ]
    },
    {
     "name": "stdout",
     "output_type": "stream",
     "text": [
      "Trial 40 finished with value: -180055222265.6\n",
      "Best trial so far: 22, value: -994001796960256.0\n"
     ]
    },
    {
     "name": "stderr",
     "output_type": "stream",
     "text": [
      "[I 2025-04-06 19:32:55,675] Trial 41 finished with value: -158673815479910.4 and parameters: {'batch_size': 100, 'first_layer_size': 56, 'num_layers': 6, 'confidence_threshold': 0.04084918989016517, 'dropout': 0.2841172648342286, 'lr': 0.007168194414686637, 'n_epochs': 50}. Best is trial 22 with value: -994001796960256.0.\n"
     ]
    },
    {
     "name": "stdout",
     "output_type": "stream",
     "text": [
      "Trial 41 finished with value: -158673815479910.4\n",
      "Best trial so far: 22, value: -994001796960256.0\n"
     ]
    },
    {
     "name": "stderr",
     "output_type": "stream",
     "text": [
      "[I 2025-04-06 19:34:44,842] Trial 42 finished with value: -1095218897586585.6 and parameters: {'batch_size': 100, 'first_layer_size': 56, 'num_layers': 6, 'confidence_threshold': 0.040564642834425686, 'dropout': 0.2929450421814862, 'lr': 0.007402541258339619, 'n_epochs': 50}. Best is trial 42 with value: -1095218897586585.6.\n"
     ]
    },
    {
     "name": "stdout",
     "output_type": "stream",
     "text": [
      "Trial 42 finished with value: -1095218897586585.6\n",
      "Best trial so far: 42, value: -1095218897586585.6\n"
     ]
    },
    {
     "name": "stderr",
     "output_type": "stream",
     "text": [
      "[I 2025-04-06 19:36:30,712] Trial 43 finished with value: -196079317636864.0 and parameters: {'batch_size': 100, 'first_layer_size': 56, 'num_layers': 6, 'confidence_threshold': 0.03398031847561013, 'dropout': 0.29280115663102757, 'lr': 0.00981295374060244, 'n_epochs': 50}. Best is trial 42 with value: -1095218897586585.6.\n"
     ]
    },
    {
     "name": "stdout",
     "output_type": "stream",
     "text": [
      "Trial 43 finished with value: -196079317636864.0\n",
      "Best trial so far: 42, value: -1095218897586585.6\n"
     ]
    },
    {
     "name": "stderr",
     "output_type": "stream",
     "text": [
      "[I 2025-04-06 19:38:16,186] Trial 44 finished with value: -114435520098508.8 and parameters: {'batch_size': 100, 'first_layer_size': 56, 'num_layers': 6, 'confidence_threshold': 0.04731495230396218, 'dropout': 0.36342950240753213, 'lr': 0.005958478896733804, 'n_epochs': 50}. Best is trial 42 with value: -1095218897586585.6.\n"
     ]
    },
    {
     "name": "stdout",
     "output_type": "stream",
     "text": [
      "Trial 44 finished with value: -114435520098508.8\n",
      "Best trial so far: 42, value: -1095218897586585.6\n"
     ]
    },
    {
     "name": "stderr",
     "output_type": "stream",
     "text": [
      "[I 2025-04-06 19:39:28,806] Trial 45 finished with value: -65451341534604.8 and parameters: {'batch_size': 100, 'first_layer_size': 32, 'num_layers': 4, 'confidence_threshold': 0.0016014459864025152, 'dropout': 0.2972125420042812, 'lr': 0.0011769792950032353, 'n_epochs': 50}. Best is trial 42 with value: -1095218897586585.6.\n"
     ]
    },
    {
     "name": "stdout",
     "output_type": "stream",
     "text": [
      "Trial 45 finished with value: -65451341534604.8\n",
      "Best trial so far: 42, value: -1095218897586585.6\n"
     ]
    },
    {
     "name": "stderr",
     "output_type": "stream",
     "text": [
      "[I 2025-04-06 19:41:20,688] Trial 46 finished with value: -3445662457491.2 and parameters: {'batch_size': 100, 'first_layer_size': 64, 'num_layers': 7, 'confidence_threshold': 0.03273726064866342, 'dropout': 0.2886932061285993, 'lr': 0.00837185600443397, 'n_epochs': 50}. Best is trial 42 with value: -1095218897586585.6.\n"
     ]
    },
    {
     "name": "stdout",
     "output_type": "stream",
     "text": [
      "Trial 46 finished with value: -3445662457491.2\n",
      "Best trial so far: 42, value: -1095218897586585.6\n"
     ]
    },
    {
     "name": "stderr",
     "output_type": "stream",
     "text": [
      "[I 2025-04-06 19:42:17,228] Trial 47 finished with value: -112761698104934.4 and parameters: {'batch_size': 100, 'first_layer_size': 12, 'num_layers': 2, 'confidence_threshold': 0.03901534331373824, 'dropout': 0.3487799023215197, 'lr': 0.006740415561905032, 'n_epochs': 50}. Best is trial 42 with value: -1095218897586585.6.\n"
     ]
    },
    {
     "name": "stdout",
     "output_type": "stream",
     "text": [
      "Trial 47 finished with value: -112761698104934.4\n",
      "Best trial so far: 42, value: -1095218897586585.6\n"
     ]
    },
    {
     "name": "stderr",
     "output_type": "stream",
     "text": [
      "[I 2025-04-06 19:42:57,686] Trial 48 finished with value: -15185023367521.6 and parameters: {'batch_size': 400, 'first_layer_size': 48, 'num_layers': 5, 'confidence_threshold': 0.035628423500812904, 'dropout': 0.3009959467081961, 'lr': 0.003357297077875375, 'n_epochs': 50}. Best is trial 42 with value: -1095218897586585.6.\n"
     ]
    },
    {
     "name": "stdout",
     "output_type": "stream",
     "text": [
      "Trial 48 finished with value: -15185023367521.6\n",
      "Best trial so far: 42, value: -1095218897586585.6\n"
     ]
    },
    {
     "name": "stderr",
     "output_type": "stream",
     "text": [
      "[I 2025-04-06 19:43:52,757] Trial 49 finished with value: -26156865340416.0 and parameters: {'batch_size': 100, 'first_layer_size': 12, 'num_layers': 2, 'confidence_threshold': 0.04759528690962961, 'dropout': 0.29455341588942835, 'lr': 0.002700923676270975, 'n_epochs': 50}. Best is trial 42 with value: -1095218897586585.6.\n"
     ]
    },
    {
     "name": "stdout",
     "output_type": "stream",
     "text": [
      "Trial 49 finished with value: -26156865340416.0\n",
      "Best trial so far: 42, value: -1095218897586585.6\n"
     ]
    },
    {
     "name": "stderr",
     "output_type": "stream",
     "text": [
      "[I 2025-04-06 19:44:25,383] Trial 50 finished with value: -15304578191101.4 and parameters: {'batch_size': 1000, 'first_layer_size': 56, 'num_layers': 6, 'confidence_threshold': 0.049797504251247376, 'dropout': 0.3095679090394514, 'lr': 0.004429240875965347, 'n_epochs': 50}. Best is trial 42 with value: -1095218897586585.6.\n"
     ]
    },
    {
     "name": "stdout",
     "output_type": "stream",
     "text": [
      "Trial 50 finished with value: -15304578191101.4\n",
      "Best trial so far: 42, value: -1095218897586585.6\n"
     ]
    },
    {
     "name": "stderr",
     "output_type": "stream",
     "text": [
      "[I 2025-04-06 19:46:23,480] Trial 51 finished with value: -1271291448616550.5 and parameters: {'batch_size': 100, 'first_layer_size': 56, 'num_layers': 6, 'confidence_threshold': 0.03465028129956627, 'dropout': 0.29249556069963106, 'lr': 0.009964492443019689, 'n_epochs': 57}. Best is trial 51 with value: -1271291448616550.5.\n"
     ]
    },
    {
     "name": "stdout",
     "output_type": "stream",
     "text": [
      "Trial 51 finished with value: -1271291448616550.5\n",
      "Best trial so far: 51, value: -1271291448616550.5\n"
     ]
    },
    {
     "name": "stderr",
     "output_type": "stream",
     "text": [
      "[I 2025-04-06 19:48:29,497] Trial 52 finished with value: -118778661339136.0 and parameters: {'batch_size': 100, 'first_layer_size': 56, 'num_layers': 6, 'confidence_threshold': 0.040458359985096004, 'dropout': 0.2847345318518357, 'lr': 0.007842610114495038, 'n_epochs': 59}. Best is trial 51 with value: -1271291448616550.5.\n"
     ]
    },
    {
     "name": "stdout",
     "output_type": "stream",
     "text": [
      "Trial 52 finished with value: -118778661339136.0\n",
      "Best trial so far: 51, value: -1271291448616550.5\n"
     ]
    },
    {
     "name": "stderr",
     "output_type": "stream",
     "text": [
      "[I 2025-04-06 19:50:50,869] Trial 53 finished with value: -86482037426862.03 and parameters: {'batch_size': 100, 'first_layer_size': 56, 'num_layers': 6, 'confidence_threshold': 0.03235752085524097, 'dropout': 0.340019713067111, 'lr': 0.009391229030087501, 'n_epochs': 66}. Best is trial 51 with value: -1271291448616550.5.\n"
     ]
    },
    {
     "name": "stdout",
     "output_type": "stream",
     "text": [
      "Trial 53 finished with value: -86482037426862.03\n",
      "Best trial so far: 51, value: -1271291448616550.5\n"
     ]
    },
    {
     "name": "stderr",
     "output_type": "stream",
     "text": [
      "[I 2025-04-06 19:52:55,433] Trial 54 finished with value: -177371421274931.2 and parameters: {'batch_size': 100, 'first_layer_size': 56, 'num_layers': 7, 'confidence_threshold': 0.043588502627579066, 'dropout': 0.28940422409942756, 'lr': 0.008573362771860403, 'n_epochs': 56}. Best is trial 51 with value: -1271291448616550.5.\n"
     ]
    },
    {
     "name": "stdout",
     "output_type": "stream",
     "text": [
      "Trial 54 finished with value: -177371421274931.2\n",
      "Best trial so far: 51, value: -1271291448616550.5\n"
     ]
    },
    {
     "name": "stderr",
     "output_type": "stream",
     "text": [
      "[I 2025-04-06 19:53:58,130] Trial 55 finished with value: -126976837121843.2 and parameters: {'batch_size': 100, 'first_layer_size': 12, 'num_layers': 2, 'confidence_threshold': 0.04259812408682679, 'dropout': 0.2800979995030014, 'lr': 0.007395423635922674, 'n_epochs': 54}. Best is trial 51 with value: -1271291448616550.5.\n"
     ]
    },
    {
     "name": "stdout",
     "output_type": "stream",
     "text": [
      "Trial 55 finished with value: -126976837121843.2\n",
      "Best trial so far: 51, value: -1271291448616550.5\n"
     ]
    },
    {
     "name": "stderr",
     "output_type": "stream",
     "text": [
      "[I 2025-04-06 19:55:36,636] Trial 56 finished with value: -301723653168691.2 and parameters: {'batch_size': 100, 'first_layer_size': 56, 'num_layers': 5, 'confidence_threshold': 0.034922520242625446, 'dropout': 0.29448490939380356, 'lr': 0.004934060882877377, 'n_epochs': 50}. Best is trial 51 with value: -1271291448616550.5.\n"
     ]
    },
    {
     "name": "stdout",
     "output_type": "stream",
     "text": [
      "Trial 56 finished with value: -301723653168691.2\n",
      "Best trial so far: 51, value: -1271291448616550.5\n"
     ]
    },
    {
     "name": "stderr",
     "output_type": "stream",
     "text": [
      "[I 2025-04-06 19:57:12,722] Trial 57 finished with value: -107905393031372.8 and parameters: {'batch_size': 100, 'first_layer_size': 56, 'num_layers': 5, 'confidence_threshold': 0.026775119226835335, 'dropout': 0.2956174273819975, 'lr': 0.004979428439851257, 'n_epochs': 50}. Best is trial 51 with value: -1271291448616550.5.\n"
     ]
    },
    {
     "name": "stdout",
     "output_type": "stream",
     "text": [
      "Trial 57 finished with value: -107905393031372.8\n",
      "Best trial so far: 51, value: -1271291448616550.5\n"
     ]
    },
    {
     "name": "stderr",
     "output_type": "stream",
     "text": [
      "[I 2025-04-06 19:58:40,658] Trial 58 finished with value: -49786346582732.8 and parameters: {'batch_size': 100, 'first_layer_size': 56, 'num_layers': 4, 'confidence_threshold': 0.031629385200877776, 'dropout': 0.33175858173613937, 'lr': 0.003993080542988686, 'n_epochs': 50}. Best is trial 51 with value: -1271291448616550.5.\n"
     ]
    },
    {
     "name": "stdout",
     "output_type": "stream",
     "text": [
      "Trial 58 finished with value: -49786346582732.8\n",
      "Best trial so far: 51, value: -1271291448616550.5\n"
     ]
    },
    {
     "name": "stderr",
     "output_type": "stream",
     "text": [
      "[I 2025-04-06 20:00:20,579] Trial 59 finished with value: -66755864283123.2 and parameters: {'batch_size': 100, 'first_layer_size': 56, 'num_layers': 5, 'confidence_threshold': 0.027411610400160085, 'dropout': 0.3014360322487837, 'lr': 0.003563733613209977, 'n_epochs': 50}. Best is trial 51 with value: -1271291448616550.5.\n"
     ]
    },
    {
     "name": "stdout",
     "output_type": "stream",
     "text": [
      "Trial 59 finished with value: -66755864283123.2\n",
      "Best trial so far: 51, value: -1271291448616550.5\n"
     ]
    },
    {
     "name": "stderr",
     "output_type": "stream",
     "text": [
      "[I 2025-04-06 20:01:53,015] Trial 60 finished with value: -8573541509644.8 and parameters: {'batch_size': 100, 'first_layer_size': 56, 'num_layers': 5, 'confidence_threshold': 0.03433834486785106, 'dropout': 0.3234425470999295, 'lr': 0.0024036317469622527, 'n_epochs': 50}. Best is trial 51 with value: -1271291448616550.5.\n"
     ]
    },
    {
     "name": "stdout",
     "output_type": "stream",
     "text": [
      "Trial 60 finished with value: -8573541509644.8\n",
      "Best trial so far: 51, value: -1271291448616550.5\n"
     ]
    },
    {
     "name": "stderr",
     "output_type": "stream",
     "text": [
      "[I 2025-04-06 20:02:58,134] Trial 61 finished with value: -717139390059481.6 and parameters: {'batch_size': 100, 'first_layer_size': 12, 'num_layers': 2, 'confidence_threshold': 0.035163691121561924, 'dropout': 0.28736049812818343, 'lr': 0.006568214754930128, 'n_epochs': 59}. Best is trial 51 with value: -1271291448616550.5.\n"
     ]
    },
    {
     "name": "stdout",
     "output_type": "stream",
     "text": [
      "Trial 61 finished with value: -717139390059481.6\n",
      "Best trial so far: 51, value: -1271291448616550.5\n"
     ]
    },
    {
     "name": "stderr",
     "output_type": "stream",
     "text": [
      "[I 2025-04-06 20:03:52,808] Trial 62 finished with value: -309025012229690.4 and parameters: {'batch_size': 100, 'first_layer_size': 12, 'num_layers': 2, 'confidence_threshold': 0.034998526241164424, 'dropout': 0.2849384205287043, 'lr': 0.0066385581472873725, 'n_epochs': 50}. Best is trial 51 with value: -1271291448616550.5.\n"
     ]
    },
    {
     "name": "stdout",
     "output_type": "stream",
     "text": [
      "Trial 62 finished with value: -309025012229690.4\n",
      "Best trial so far: 51, value: -1271291448616550.5\n"
     ]
    },
    {
     "name": "stderr",
     "output_type": "stream",
     "text": [
      "[I 2025-04-06 20:04:49,302] Trial 63 finished with value: -89307150943846.4 and parameters: {'batch_size': 100, 'first_layer_size': 12, 'num_layers': 2, 'confidence_threshold': 0.03958464358280097, 'dropout': 0.2833147047565284, 'lr': 0.006768383082531698, 'n_epochs': 50}. Best is trial 51 with value: -1271291448616550.5.\n"
     ]
    },
    {
     "name": "stdout",
     "output_type": "stream",
     "text": [
      "Trial 63 finished with value: -89307150943846.4\n",
      "Best trial so far: 51, value: -1271291448616550.5\n"
     ]
    },
    {
     "name": "stderr",
     "output_type": "stream",
     "text": [
      "[I 2025-04-06 20:05:46,861] Trial 64 finished with value: -31723373637760.0 and parameters: {'batch_size': 100, 'first_layer_size': 12, 'num_layers': 2, 'confidence_threshold': 0.04458642834930782, 'dropout': 0.2857985575903807, 'lr': 0.009086037679064322, 'n_epochs': 53}. Best is trial 51 with value: -1271291448616550.5.\n"
     ]
    },
    {
     "name": "stdout",
     "output_type": "stream",
     "text": [
      "Trial 64 finished with value: -31723373637760.0\n",
      "Best trial so far: 51, value: -1271291448616550.5\n"
     ]
    },
    {
     "name": "stderr",
     "output_type": "stream",
     "text": [
      "[I 2025-04-06 20:06:50,804] Trial 65 finished with value: -46074813420467.2 and parameters: {'batch_size': 100, 'first_layer_size': 12, 'num_layers': 2, 'confidence_threshold': 0.009636033401880711, 'dropout': 0.29062157635365293, 'lr': 0.005595206642700387, 'n_epochs': 59}. Best is trial 51 with value: -1271291448616550.5.\n"
     ]
    },
    {
     "name": "stdout",
     "output_type": "stream",
     "text": [
      "Trial 65 finished with value: -46074813420467.2\n",
      "Best trial so far: 51, value: -1271291448616550.5\n"
     ]
    },
    {
     "name": "stderr",
     "output_type": "stream",
     "text": [
      "[I 2025-04-06 20:07:45,078] Trial 66 finished with value: -136904097329766.4 and parameters: {'batch_size': 100, 'first_layer_size': 12, 'num_layers': 2, 'confidence_threshold': 0.037993481737613924, 'dropout': 0.28666797196605176, 'lr': 0.007690770599447193, 'n_epochs': 50}. Best is trial 51 with value: -1271291448616550.5.\n"
     ]
    },
    {
     "name": "stdout",
     "output_type": "stream",
     "text": [
      "Trial 66 finished with value: -136904097329766.4\n",
      "Best trial so far: 51, value: -1271291448616550.5\n"
     ]
    },
    {
     "name": "stderr",
     "output_type": "stream",
     "text": [
      "[I 2025-04-06 20:08:38,790] Trial 67 finished with value: -60358005837004.8 and parameters: {'batch_size': 100, 'first_layer_size': 12, 'num_layers': 2, 'confidence_threshold': 0.04242311428340243, 'dropout': 0.3071732901407716, 'lr': 0.0067204890995242106, 'n_epochs': 50}. Best is trial 51 with value: -1271291448616550.5.\n"
     ]
    },
    {
     "name": "stdout",
     "output_type": "stream",
     "text": [
      "Trial 67 finished with value: -60358005837004.8\n",
      "Best trial so far: 51, value: -1271291448616550.5\n"
     ]
    },
    {
     "name": "stderr",
     "output_type": "stream",
     "text": [
      "[I 2025-04-06 20:09:33,089] Trial 68 finished with value: -152980607406387.2 and parameters: {'batch_size': 100, 'first_layer_size': 12, 'num_layers': 2, 'confidence_threshold': 0.021011883419404707, 'dropout': 0.28219530161464246, 'lr': 0.007976302303548764, 'n_epochs': 50}. Best is trial 51 with value: -1271291448616550.5.\n"
     ]
    },
    {
     "name": "stdout",
     "output_type": "stream",
     "text": [
      "Trial 68 finished with value: -152980607406387.2\n",
      "Best trial so far: 51, value: -1271291448616550.5\n"
     ]
    },
    {
     "name": "stderr",
     "output_type": "stream",
     "text": [
      "[I 2025-04-06 20:09:52,095] Trial 69 finished with value: -2161205094.2 and parameters: {'batch_size': 3000, 'first_layer_size': 12, 'num_layers': 2, 'confidence_threshold': 0.031331230386520206, 'dropout': 0.34314092061823365, 'lr': 0.0018751859565639658, 'n_epochs': 52}. Best is trial 51 with value: -1271291448616550.5.\n"
     ]
    },
    {
     "name": "stdout",
     "output_type": "stream",
     "text": [
      "Trial 69 finished with value: -2161205094.2\n",
      "Best trial so far: 51, value: -1271291448616550.5\n"
     ]
    },
    {
     "name": "stderr",
     "output_type": "stream",
     "text": [
      "[I 2025-04-06 20:10:46,318] Trial 70 finished with value: -52344603119616.0 and parameters: {'batch_size': 100, 'first_layer_size': 12, 'num_layers': 2, 'confidence_threshold': 0.045912254982854644, 'dropout': 0.2925331114372431, 'lr': 0.002921120315718948, 'n_epochs': 50}. Best is trial 51 with value: -1271291448616550.5.\n"
     ]
    },
    {
     "name": "stdout",
     "output_type": "stream",
     "text": [
      "Trial 70 finished with value: -52344603119616.0\n",
      "Best trial so far: 51, value: -1271291448616550.5\n"
     ]
    },
    {
     "name": "stderr",
     "output_type": "stream",
     "text": [
      "[I 2025-04-06 20:12:02,437] Trial 71 finished with value: -34671687152742.4 and parameters: {'batch_size': 100, 'first_layer_size': 56, 'num_layers': 3, 'confidence_threshold': 0.03516052567496809, 'dropout': 0.29423640642307974, 'lr': 0.004803657172229916, 'n_epochs': 50}. Best is trial 51 with value: -1271291448616550.5.\n"
     ]
    },
    {
     "name": "stdout",
     "output_type": "stream",
     "text": [
      "Trial 71 finished with value: -34671687152742.4\n",
      "Best trial so far: 51, value: -1271291448616550.5\n"
     ]
    },
    {
     "name": "stderr",
     "output_type": "stream",
     "text": [
      "[I 2025-04-06 20:13:02,294] Trial 72 finished with value: -102613860696064.0 and parameters: {'batch_size': 100, 'first_layer_size': 16, 'num_layers': 3, 'confidence_threshold': 0.03546476647540612, 'dropout': 0.2866369945271992, 'lr': 0.005739143123744825, 'n_epochs': 50}. Best is trial 51 with value: -1271291448616550.5.\n"
     ]
    },
    {
     "name": "stdout",
     "output_type": "stream",
     "text": [
      "Trial 72 finished with value: -102613860696064.0\n",
      "Best trial so far: 51, value: -1271291448616550.5\n"
     ]
    },
    {
     "name": "stderr",
     "output_type": "stream",
     "text": [
      "[I 2025-04-06 20:14:06,809] Trial 73 finished with value: -94446730028953.6 and parameters: {'batch_size': 100, 'first_layer_size': 48, 'num_layers': 3, 'confidence_threshold': 0.03741398570876246, 'dropout': 0.3797069377091044, 'lr': 0.006442585563146517, 'n_epochs': 50}. Best is trial 51 with value: -1271291448616550.5.\n"
     ]
    },
    {
     "name": "stdout",
     "output_type": "stream",
     "text": [
      "Trial 73 finished with value: -94446730028953.6\n",
      "Best trial so far: 51, value: -1271291448616550.5\n"
     ]
    },
    {
     "name": "stderr",
     "output_type": "stream",
     "text": [
      "[I 2025-04-06 20:15:14,890] Trial 74 finished with value: -245798977486182.4 and parameters: {'batch_size': 100, 'first_layer_size': 32, 'num_layers': 4, 'confidence_threshold': 0.029277624732664174, 'dropout': 0.2979689504552286, 'lr': 0.007176416284094235, 'n_epochs': 50}. Best is trial 51 with value: -1271291448616550.5.\n"
     ]
    },
    {
     "name": "stdout",
     "output_type": "stream",
     "text": [
      "Trial 74 finished with value: -245798977486182.4\n",
      "Best trial so far: 51, value: -1271291448616550.5\n"
     ]
    },
    {
     "name": "stderr",
     "output_type": "stream",
     "text": [
      "[I 2025-04-06 20:16:59,047] Trial 75 finished with value: -112032504184348.8 and parameters: {'batch_size': 100, 'first_layer_size': 56, 'num_layers': 6, 'confidence_threshold': 0.033555074272450906, 'dropout': 0.3027904518343116, 'lr': 0.004292190546689166, 'n_epochs': 53}. Best is trial 51 with value: -1271291448616550.5.\n"
     ]
    },
    {
     "name": "stdout",
     "output_type": "stream",
     "text": [
      "Trial 75 finished with value: -112032504184348.8\n",
      "Best trial so far: 51, value: -1271291448616550.5\n"
     ]
    },
    {
     "name": "stderr",
     "output_type": "stream",
     "text": [
      "[I 2025-04-06 20:17:19,358] Trial 76 finished with value: -1101473639891.8562 and parameters: {'batch_size': 1000, 'first_layer_size': 12, 'num_layers': 2, 'confidence_threshold': 0.039875375695566595, 'dropout': 0.29127604449241057, 'lr': 0.005365124061528609, 'n_epochs': 50}. Best is trial 51 with value: -1271291448616550.5.\n"
     ]
    },
    {
     "name": "stdout",
     "output_type": "stream",
     "text": [
      "Trial 76 finished with value: -1101473639891.8562\n",
      "Best trial so far: 51, value: -1271291448616550.5\n"
     ]
    },
    {
     "name": "stderr",
     "output_type": "stream",
     "text": [
      "[I 2025-04-06 20:19:07,919] Trial 77 finished with value: -779581851685888.0 and parameters: {'batch_size': 100, 'first_layer_size': 56, 'num_layers': 5, 'confidence_threshold': 0.036490133500936245, 'dropout': 0.28261584205995033, 'lr': 0.005982740177438876, 'n_epochs': 60}. Best is trial 51 with value: -1271291448616550.5.\n"
     ]
    },
    {
     "name": "stdout",
     "output_type": "stream",
     "text": [
      "Trial 77 finished with value: -779581851685888.0\n",
      "Best trial so far: 51, value: -1271291448616550.5\n"
     ]
    },
    {
     "name": "stderr",
     "output_type": "stream",
     "text": [
      "[I 2025-04-06 20:20:01,076] Trial 78 finished with value: -995899984208332.8 and parameters: {'batch_size': 100, 'first_layer_size': 12, 'num_layers': 2, 'confidence_threshold': 0.03701357292894247, 'dropout': 0.2825009355002688, 'lr': 0.006002202455115294, 'n_epochs': 50}. Best is trial 51 with value: -1271291448616550.5.\n"
     ]
    },
    {
     "name": "stdout",
     "output_type": "stream",
     "text": [
      "Trial 78 finished with value: -995899984208332.8\n",
      "Best trial so far: 51, value: -1271291448616550.5\n"
     ]
    },
    {
     "name": "stderr",
     "output_type": "stream",
     "text": [
      "[I 2025-04-06 20:21:14,893] Trial 79 finished with value: -8103316900979.2 and parameters: {'batch_size': 100, 'first_layer_size': 56, 'num_layers': 3, 'confidence_threshold': 0.0416281731429046, 'dropout': 0.2822723302448261, 'lr': 0.0059092105651133466, 'n_epochs': 50}. Best is trial 51 with value: -1271291448616550.5.\n"
     ]
    },
    {
     "name": "stdout",
     "output_type": "stream",
     "text": [
      "Trial 79 finished with value: -8103316900979.2\n",
      "Best trial so far: 51, value: -1271291448616550.5\n"
     ]
    },
    {
     "name": "stderr",
     "output_type": "stream",
     "text": [
      "[I 2025-04-06 20:21:34,267] Trial 80 finished with value: -4282718021.2 and parameters: {'batch_size': 3000, 'first_layer_size': 12, 'num_layers': 2, 'confidence_threshold': 0.03706896546370111, 'dropout': 0.28794586372298586, 'lr': 0.008137263719857029, 'n_epochs': 52}. Best is trial 51 with value: -1271291448616550.5.\n"
     ]
    },
    {
     "name": "stdout",
     "output_type": "stream",
     "text": [
      "Trial 80 finished with value: -4282718021.2\n",
      "Best trial so far: 51, value: -1271291448616550.5\n"
     ]
    },
    {
     "name": "stderr",
     "output_type": "stream",
     "text": [
      "[I 2025-04-06 20:22:27,536] Trial 81 finished with value: -222329527185408.0 and parameters: {'batch_size': 100, 'first_layer_size': 12, 'num_layers': 2, 'confidence_threshold': 0.03888895255585152, 'dropout': 0.2830567693933824, 'lr': 0.006957903948722735, 'n_epochs': 50}. Best is trial 51 with value: -1271291448616550.5.\n"
     ]
    },
    {
     "name": "stdout",
     "output_type": "stream",
     "text": [
      "Trial 81 finished with value: -222329527185408.0\n",
      "Best trial so far: 51, value: -1271291448616550.5\n"
     ]
    },
    {
     "name": "stderr",
     "output_type": "stream",
     "text": [
      "[I 2025-04-06 20:23:22,335] Trial 82 finished with value: -381451729074071.7 and parameters: {'batch_size': 100, 'first_layer_size': 12, 'num_layers': 2, 'confidence_threshold': 0.03632172718401159, 'dropout': 0.2853277478205278, 'lr': 0.006431737301318864, 'n_epochs': 52}. Best is trial 51 with value: -1271291448616550.5.\n"
     ]
    },
    {
     "name": "stdout",
     "output_type": "stream",
     "text": [
      "Trial 82 finished with value: -381451729074071.7\n",
      "Best trial so far: 51, value: -1271291448616550.5\n"
     ]
    },
    {
     "name": "stderr",
     "output_type": "stream",
     "text": [
      "[I 2025-04-06 20:24:14,849] Trial 83 finished with value: -70352110208704.0 and parameters: {'batch_size': 100, 'first_layer_size': 12, 'num_layers': 2, 'confidence_threshold': 0.03674569486451622, 'dropout': 0.2802106742904133, 'lr': 0.006173210634506798, 'n_epochs': 50}. Best is trial 51 with value: -1271291448616550.5.\n"
     ]
    },
    {
     "name": "stdout",
     "output_type": "stream",
     "text": [
      "Trial 83 finished with value: -70352110208704.0\n",
      "Best trial so far: 51, value: -1271291448616550.5\n"
     ]
    },
    {
     "name": "stderr",
     "output_type": "stream",
     "text": [
      "[I 2025-04-06 20:25:07,456] Trial 84 finished with value: -169927767285350.4 and parameters: {'batch_size': 100, 'first_layer_size': 12, 'num_layers': 2, 'confidence_threshold': 0.041034118315769634, 'dropout': 0.3500553298868954, 'lr': 0.007486580522688814, 'n_epochs': 50}. Best is trial 51 with value: -1271291448616550.5.\n"
     ]
    },
    {
     "name": "stdout",
     "output_type": "stream",
     "text": [
      "Trial 84 finished with value: -169927767285350.4\n",
      "Best trial so far: 51, value: -1271291448616550.5\n"
     ]
    },
    {
     "name": "stderr",
     "output_type": "stream",
     "text": [
      "[I 2025-04-06 20:26:00,715] Trial 85 finished with value: -312788611883678.4 and parameters: {'batch_size': 100, 'first_layer_size': 16, 'num_layers': 2, 'confidence_threshold': 0.03844645408598479, 'dropout': 0.2887030274631927, 'lr': 0.008867323067334256, 'n_epochs': 50}. Best is trial 51 with value: -1271291448616550.5.\n"
     ]
    },
    {
     "name": "stdout",
     "output_type": "stream",
     "text": [
      "Trial 85 finished with value: -312788611883678.4\n",
      "Best trial so far: 51, value: -1271291448616550.5\n"
     ]
    },
    {
     "name": "stderr",
     "output_type": "stream",
     "text": [
      "[I 2025-04-06 20:27:02,912] Trial 86 finished with value: -243275155245286.4 and parameters: {'batch_size': 100, 'first_layer_size': 16, 'num_layers': 2, 'confidence_threshold': 0.03888794056015962, 'dropout': 0.28892002113312215, 'lr': 0.00881615113352306, 'n_epochs': 58}. Best is trial 51 with value: -1271291448616550.5.\n"
     ]
    },
    {
     "name": "stdout",
     "output_type": "stream",
     "text": [
      "Trial 86 finished with value: -243275155245286.4\n",
      "Best trial so far: 51, value: -1271291448616550.5\n"
     ]
    },
    {
     "name": "stderr",
     "output_type": "stream",
     "text": [
      "[I 2025-04-06 20:27:55,510] Trial 87 finished with value: -45445278153932.8 and parameters: {'batch_size': 100, 'first_layer_size': 16, 'num_layers': 2, 'confidence_threshold': 0.03323358237805603, 'dropout': 0.28705340969007476, 'lr': 0.009865190477400842, 'n_epochs': 50}. Best is trial 51 with value: -1271291448616550.5.\n"
     ]
    },
    {
     "name": "stdout",
     "output_type": "stream",
     "text": [
      "Trial 87 finished with value: -45445278153932.8\n",
      "Best trial so far: 51, value: -1271291448616550.5\n"
     ]
    },
    {
     "name": "stderr",
     "output_type": "stream",
     "text": [
      "[I 2025-04-06 20:28:48,455] Trial 88 finished with value: -307878327589171.2 and parameters: {'batch_size': 100, 'first_layer_size': 16, 'num_layers': 2, 'confidence_threshold': 0.03649756124757859, 'dropout': 0.29182120076649326, 'lr': 0.009354763964987148, 'n_epochs': 50}. Best is trial 51 with value: -1271291448616550.5.\n"
     ]
    },
    {
     "name": "stdout",
     "output_type": "stream",
     "text": [
      "Trial 88 finished with value: -307878327589171.2\n",
      "Best trial so far: 51, value: -1271291448616550.5\n"
     ]
    },
    {
     "name": "stderr",
     "output_type": "stream",
     "text": [
      "[I 2025-04-06 20:29:08,155] Trial 89 finished with value: -245244339866.98438 and parameters: {'batch_size': 1000, 'first_layer_size': 16, 'num_layers': 2, 'confidence_threshold': 0.038161156119597875, 'dropout': 0.28273591107623075, 'lr': 0.00899047964882979, 'n_epochs': 50}. Best is trial 51 with value: -1271291448616550.5.\n"
     ]
    },
    {
     "name": "stdout",
     "output_type": "stream",
     "text": [
      "Trial 89 finished with value: -245244339866.98438\n",
      "Best trial so far: 51, value: -1271291448616550.5\n"
     ]
    },
    {
     "name": "stderr",
     "output_type": "stream",
     "text": [
      "[I 2025-04-06 20:30:18,832] Trial 90 finished with value: -342547457236428.8 and parameters: {'batch_size': 100, 'first_layer_size': 32, 'num_layers': 4, 'confidence_threshold': 0.02873472670527777, 'dropout': 0.29695305032780156, 'lr': 0.008138411136904057, 'n_epochs': 51}. Best is trial 51 with value: -1271291448616550.5.\n"
     ]
    },
    {
     "name": "stdout",
     "output_type": "stream",
     "text": [
      "Trial 90 finished with value: -342547457236428.8\n",
      "Best trial so far: 51, value: -1271291448616550.5\n"
     ]
    },
    {
     "name": "stderr",
     "output_type": "stream",
     "text": [
      "[I 2025-04-06 20:31:25,613] Trial 91 finished with value: -93847725705224.0 and parameters: {'batch_size': 100, 'first_layer_size': 32, 'num_layers': 4, 'confidence_threshold': 0.029100443691238473, 'dropout': 0.293186927366183, 'lr': 0.008228354550633536, 'n_epochs': 50}. Best is trial 51 with value: -1271291448616550.5.\n"
     ]
    },
    {
     "name": "stdout",
     "output_type": "stream",
     "text": [
      "Trial 91 finished with value: -93847725705224.0\n",
      "Best trial so far: 51, value: -1271291448616550.5\n"
     ]
    },
    {
     "name": "stderr",
     "output_type": "stream",
     "text": [
      "[I 2025-04-06 20:32:39,642] Trial 92 finished with value: -166563770998784.0 and parameters: {'batch_size': 100, 'first_layer_size': 32, 'num_layers': 4, 'confidence_threshold': 0.0315828207034393, 'dropout': 0.29804227776822706, 'lr': 0.0074638503147380665, 'n_epochs': 55}. Best is trial 51 with value: -1271291448616550.5.\n"
     ]
    },
    {
     "name": "stdout",
     "output_type": "stream",
     "text": [
      "Trial 92 finished with value: -166563770998784.0\n",
      "Best trial so far: 51, value: -1271291448616550.5\n"
     ]
    },
    {
     "name": "stderr",
     "output_type": "stream",
     "text": [
      "[I 2025-04-06 20:33:48,587] Trial 93 finished with value: -47965605721292.8 and parameters: {'batch_size': 100, 'first_layer_size': 32, 'num_layers': 4, 'confidence_threshold': 0.024393192686547042, 'dropout': 0.2904059290527476, 'lr': 0.007059949908368468, 'n_epochs': 50}. Best is trial 51 with value: -1271291448616550.5.\n"
     ]
    },
    {
     "name": "stdout",
     "output_type": "stream",
     "text": [
      "Trial 93 finished with value: -47965605721292.8\n",
      "Best trial so far: 51, value: -1271291448616550.5\n"
     ]
    },
    {
     "name": "stderr",
     "output_type": "stream",
     "text": [
      "[I 2025-04-06 20:34:55,944] Trial 94 finished with value: -146559497175628.8 and parameters: {'batch_size': 100, 'first_layer_size': 32, 'num_layers': 4, 'confidence_threshold': 0.040562904364098235, 'dropout': 0.285330077842927, 'lr': 0.008741086559281585, 'n_epochs': 50}. Best is trial 51 with value: -1271291448616550.5.\n"
     ]
    },
    {
     "name": "stdout",
     "output_type": "stream",
     "text": [
      "Trial 94 finished with value: -146559497175628.8\n",
      "Best trial so far: 51, value: -1271291448616550.5\n"
     ]
    },
    {
     "name": "stderr",
     "output_type": "stream",
     "text": [
      "[I 2025-04-06 20:36:25,585] Trial 95 finished with value: -32855127708985.6 and parameters: {'batch_size': 100, 'first_layer_size': 56, 'num_layers': 5, 'confidence_threshold': 0.035957307387528004, 'dropout': 0.29622887621725585, 'lr': 0.009486662867478969, 'n_epochs': 50}. Best is trial 51 with value: -1271291448616550.5.\n"
     ]
    },
    {
     "name": "stdout",
     "output_type": "stream",
     "text": [
      "Trial 95 finished with value: -32855127708985.6\n",
      "Best trial so far: 51, value: -1271291448616550.5\n"
     ]
    },
    {
     "name": "stderr",
     "output_type": "stream",
     "text": [
      "[I 2025-04-06 20:37:54,989] Trial 96 finished with value: -194445694548787.2 and parameters: {'batch_size': 100, 'first_layer_size': 48, 'num_layers': 6, 'confidence_threshold': 0.043527987473669094, 'dropout': 0.2879985024024887, 'lr': 0.006531440417255293, 'n_epochs': 54}. Best is trial 51 with value: -1271291448616550.5.\n"
     ]
    },
    {
     "name": "stdout",
     "output_type": "stream",
     "text": [
      "Trial 96 finished with value: -194445694548787.2\n",
      "Best trial so far: 51, value: -1271291448616550.5\n"
     ]
    },
    {
     "name": "stderr",
     "output_type": "stream",
     "text": [
      "[I 2025-04-06 20:39:25,071] Trial 97 finished with value: -34119071355955.2 and parameters: {'batch_size': 100, 'first_layer_size': 56, 'num_layers': 5, 'confidence_threshold': 0.027851355064313615, 'dropout': 0.28170096119691934, 'lr': 0.0059980899225959144, 'n_epochs': 50}. Best is trial 51 with value: -1271291448616550.5.\n"
     ]
    },
    {
     "name": "stdout",
     "output_type": "stream",
     "text": [
      "Trial 97 finished with value: -34119071355955.2\n",
      "Best trial so far: 51, value: -1271291448616550.5\n"
     ]
    },
    {
     "name": "stderr",
     "output_type": "stream",
     "text": [
      "[I 2025-04-06 20:41:10,517] Trial 98 finished with value: -10963350145618.422 and parameters: {'batch_size': 100, 'first_layer_size': 56, 'num_layers': 7, 'confidence_threshold': 0.03946487422602535, 'dropout': 0.29985961352955803, 'lr': 0.00781942868119755, 'n_epochs': 50}. Best is trial 51 with value: -1271291448616550.5.\n"
     ]
    },
    {
     "name": "stdout",
     "output_type": "stream",
     "text": [
      "Trial 98 finished with value: -10963350145618.422\n",
      "Best trial so far: 51, value: -1271291448616550.5\n"
     ]
    },
    {
     "name": "stderr",
     "output_type": "stream",
     "text": [
      "[I 2025-04-06 20:41:33,209] Trial 99 finished with value: -1992271276.8 and parameters: {'batch_size': 3000, 'first_layer_size': 16, 'num_layers': 3, 'confidence_threshold': 0.02566160009979393, 'dropout': 0.28435515457806876, 'lr': 0.005179180621575819, 'n_epochs': 56}. Best is trial 51 with value: -1271291448616550.5.\n"
     ]
    },
    {
     "name": "stdout",
     "output_type": "stream",
     "text": [
      "Trial 99 finished with value: -1992271276.8\n",
      "Best trial so far: 51, value: -1271291448616550.5\n"
     ]
    },
    {
     "name": "stderr",
     "output_type": "stream",
     "text": [
      "[I 2025-04-06 20:42:40,754] Trial 100 finished with value: -34541899290931.2 and parameters: {'batch_size': 100, 'first_layer_size': 32, 'num_layers': 4, 'confidence_threshold': 0.03390368027368436, 'dropout': 0.29088822516834045, 'lr': 0.001449979333582807, 'n_epochs': 50}. Best is trial 51 with value: -1271291448616550.5.\n"
     ]
    },
    {
     "name": "stdout",
     "output_type": "stream",
     "text": [
      "Trial 100 finished with value: -34541899290931.2\n",
      "Best trial so far: 51, value: -1271291448616550.5\n"
     ]
    },
    {
     "name": "stderr",
     "output_type": "stream",
     "text": [
      "[I 2025-04-06 20:43:35,383] Trial 101 finished with value: -245722052349920.0 and parameters: {'batch_size': 100, 'first_layer_size': 12, 'num_layers': 2, 'confidence_threshold': 0.04192965907214271, 'dropout': 0.2879774821312001, 'lr': 0.00558843862002121, 'n_epochs': 50}. Best is trial 51 with value: -1271291448616550.5.\n"
     ]
    },
    {
     "name": "stdout",
     "output_type": "stream",
     "text": [
      "Trial 101 finished with value: -245722052349920.0\n",
      "Best trial so far: 51, value: -1271291448616550.5\n"
     ]
    },
    {
     "name": "stderr",
     "output_type": "stream",
     "text": [
      "[I 2025-04-06 20:44:30,341] Trial 102 finished with value: -138179196608819.2 and parameters: {'batch_size': 100, 'first_layer_size': 12, 'num_layers': 2, 'confidence_threshold': 0.03744526823905053, 'dropout': 0.285432900290234, 'lr': 0.006247668199150052, 'n_epochs': 50}. Best is trial 51 with value: -1271291448616550.5.\n"
     ]
    },
    {
     "name": "stdout",
     "output_type": "stream",
     "text": [
      "Trial 102 finished with value: -138179196608819.2\n",
      "Best trial so far: 51, value: -1271291448616550.5\n"
     ]
    },
    {
     "name": "stderr",
     "output_type": "stream",
     "text": [
      "[I 2025-04-06 20:45:24,466] Trial 103 finished with value: -152216269108019.2 and parameters: {'batch_size': 100, 'first_layer_size': 12, 'num_layers': 2, 'confidence_threshold': 0.04871314682141883, 'dropout': 0.2956095927444117, 'lr': 0.006947356392467312, 'n_epochs': 50}. Best is trial 51 with value: -1271291448616550.5.\n"
     ]
    },
    {
     "name": "stdout",
     "output_type": "stream",
     "text": [
      "Trial 103 finished with value: -152216269108019.2\n",
      "Best trial so far: 51, value: -1271291448616550.5\n"
     ]
    },
    {
     "name": "stderr",
     "output_type": "stream",
     "text": [
      "[I 2025-04-06 20:46:55,147] Trial 104 finished with value: -136741189753446.4 and parameters: {'batch_size': 100, 'first_layer_size': 56, 'num_layers': 5, 'confidence_threshold': 0.03068686643118392, 'dropout': 0.33331839352814363, 'lr': 0.00740266858671755, 'n_epochs': 50}. Best is trial 51 with value: -1271291448616550.5.\n"
     ]
    },
    {
     "name": "stdout",
     "output_type": "stream",
     "text": [
      "Trial 104 finished with value: -136741189753446.4\n",
      "Best trial so far: 51, value: -1271291448616550.5\n"
     ]
    },
    {
     "name": "stderr",
     "output_type": "stream",
     "text": [
      "[I 2025-04-06 20:47:20,151] Trial 105 finished with value: -112908950267510.42 and parameters: {'batch_size': 400, 'first_layer_size': 12, 'num_layers': 2, 'confidence_threshold': 0.032354115905057275, 'dropout': 0.2934887734075834, 'lr': 0.008490885221866605, 'n_epochs': 50}. Best is trial 51 with value: -1271291448616550.5.\n"
     ]
    },
    {
     "name": "stdout",
     "output_type": "stream",
     "text": [
      "Trial 105 finished with value: -112908950267510.42\n",
      "Best trial so far: 51, value: -1271291448616550.5\n"
     ]
    },
    {
     "name": "stderr",
     "output_type": "stream",
     "text": [
      "[I 2025-04-06 20:48:39,245] Trial 106 finished with value: -123542216571002.4 and parameters: {'batch_size': 100, 'first_layer_size': 64, 'num_layers': 3, 'confidence_threshold': 0.034382556015637736, 'dropout': 0.28107693446723997, 'lr': 0.00794339364179239, 'n_epochs': 50}. Best is trial 51 with value: -1271291448616550.5.\n"
     ]
    },
    {
     "name": "stdout",
     "output_type": "stream",
     "text": [
      "Trial 106 finished with value: -123542216571002.4\n",
      "Best trial so far: 51, value: -1271291448616550.5\n"
     ]
    },
    {
     "name": "stderr",
     "output_type": "stream",
     "text": [
      "[I 2025-04-06 20:50:24,445] Trial 107 finished with value: -138818666090393.6 and parameters: {'batch_size': 100, 'first_layer_size': 56, 'num_layers': 6, 'confidence_threshold': 0.043749324929784436, 'dropout': 0.32805823569660264, 'lr': 0.005796165099706384, 'n_epochs': 50}. Best is trial 51 with value: -1271291448616550.5.\n"
     ]
    },
    {
     "name": "stdout",
     "output_type": "stream",
     "text": [
      "Trial 107 finished with value: -138818666090393.6\n",
      "Best trial so far: 51, value: -1271291448616550.5\n"
     ]
    },
    {
     "name": "stderr",
     "output_type": "stream",
     "text": [
      "[I 2025-04-06 20:51:16,158] Trial 108 finished with value: -54982377432268.8 and parameters: {'batch_size': 100, 'first_layer_size': 12, 'num_layers': 2, 'confidence_threshold': 0.038553393944884724, 'dropout': 0.3157619449786631, 'lr': 0.006428621331594752, 'n_epochs': 50}. Best is trial 51 with value: -1271291448616550.5.\n"
     ]
    },
    {
     "name": "stdout",
     "output_type": "stream",
     "text": [
      "Trial 108 finished with value: -54982377432268.8\n",
      "Best trial so far: 51, value: -1271291448616550.5\n"
     ]
    },
    {
     "name": "stderr",
     "output_type": "stream",
     "text": [
      "[I 2025-04-06 20:51:47,628] Trial 109 finished with value: -7933062626570.2 and parameters: {'batch_size': 1000, 'first_layer_size': 56, 'num_layers': 6, 'confidence_threshold': 0.04525282138035357, 'dropout': 0.33880813847106284, 'lr': 0.007593819197413289, 'n_epochs': 50}. Best is trial 51 with value: -1271291448616550.5.\n"
     ]
    },
    {
     "name": "stdout",
     "output_type": "stream",
     "text": [
      "Trial 109 finished with value: -7933062626570.2\n",
      "Best trial so far: 51, value: -1271291448616550.5\n"
     ]
    },
    {
     "name": "stderr",
     "output_type": "stream",
     "text": [
      "[I 2025-04-06 20:53:15,461] Trial 110 finished with value: -79733948685772.8 and parameters: {'batch_size': 100, 'first_layer_size': 48, 'num_layers': 5, 'confidence_threshold': 0.040043458993158504, 'dropout': 0.2893488798210384, 'lr': 0.00825836587937784, 'n_epochs': 57}. Best is trial 51 with value: -1271291448616550.5.\n"
     ]
    },
    {
     "name": "stdout",
     "output_type": "stream",
     "text": [
      "Trial 110 finished with value: -79733948685772.8\n",
      "Best trial so far: 51, value: -1271291448616550.5\n"
     ]
    },
    {
     "name": "stderr",
     "output_type": "stream",
     "text": [
      "[I 2025-04-06 20:54:08,684] Trial 111 finished with value: -31934381345996.8 and parameters: {'batch_size': 100, 'first_layer_size': 12, 'num_layers': 2, 'confidence_threshold': 0.03511849259017647, 'dropout': 0.2847605233689564, 'lr': 0.0064856006442934174, 'n_epochs': 50}. Best is trial 51 with value: -1271291448616550.5.\n"
     ]
    },
    {
     "name": "stdout",
     "output_type": "stream",
     "text": [
      "Trial 111 finished with value: -31934381345996.8\n",
      "Best trial so far: 51, value: -1271291448616550.5\n"
     ]
    },
    {
     "name": "stderr",
     "output_type": "stream",
     "text": [
      "[I 2025-04-06 20:55:05,216] Trial 112 finished with value: -247582359379148.8 and parameters: {'batch_size': 100, 'first_layer_size': 12, 'num_layers': 2, 'confidence_threshold': 0.03609475696280681, 'dropout': 0.28396702642147403, 'lr': 0.00694455786271687, 'n_epochs': 50}. Best is trial 51 with value: -1271291448616550.5.\n"
     ]
    },
    {
     "name": "stdout",
     "output_type": "stream",
     "text": [
      "Trial 112 finished with value: -247582359379148.8\n",
      "Best trial so far: 51, value: -1271291448616550.5\n"
     ]
    },
    {
     "name": "stderr",
     "output_type": "stream",
     "text": [
      "[I 2025-04-06 20:55:58,752] Trial 113 finished with value: -186729013538240.0 and parameters: {'batch_size': 100, 'first_layer_size': 12, 'num_layers': 2, 'confidence_threshold': 0.01627118635319539, 'dropout': 0.2865232212370768, 'lr': 0.0065853374805734935, 'n_epochs': 50}. Best is trial 51 with value: -1271291448616550.5.\n"
     ]
    },
    {
     "name": "stdout",
     "output_type": "stream",
     "text": [
      "Trial 113 finished with value: -186729013538240.0\n",
      "Best trial so far: 51, value: -1271291448616550.5\n"
     ]
    },
    {
     "name": "stderr",
     "output_type": "stream",
     "text": [
      "[I 2025-04-06 20:56:51,910] Trial 114 finished with value: -31646341697331.2 and parameters: {'batch_size': 100, 'first_layer_size': 12, 'num_layers': 2, 'confidence_threshold': 0.03785889884441062, 'dropout': 0.3644788204644109, 'lr': 0.007211913092329149, 'n_epochs': 50}. Best is trial 51 with value: -1271291448616550.5.\n"
     ]
    },
    {
     "name": "stdout",
     "output_type": "stream",
     "text": [
      "Trial 114 finished with value: -31646341697331.2\n",
      "Best trial so far: 51, value: -1271291448616550.5\n"
     ]
    },
    {
     "name": "stderr",
     "output_type": "stream",
     "text": [
      "[I 2025-04-06 20:57:46,770] Trial 115 finished with value: -262938207693926.4 and parameters: {'batch_size': 100, 'first_layer_size': 12, 'num_layers': 2, 'confidence_threshold': 0.03426327932167216, 'dropout': 0.2900097023833217, 'lr': 0.009980647264049075, 'n_epochs': 50}. Best is trial 51 with value: -1271291448616550.5.\n"
     ]
    },
    {
     "name": "stdout",
     "output_type": "stream",
     "text": [
      "Trial 115 finished with value: -262938207693926.4\n",
      "Best trial so far: 51, value: -1271291448616550.5\n"
     ]
    },
    {
     "name": "stderr",
     "output_type": "stream",
     "text": [
      "[I 2025-04-06 20:58:39,440] Trial 116 finished with value: -225580059493580.8 and parameters: {'batch_size': 100, 'first_layer_size': 12, 'num_layers': 2, 'confidence_threshold': 0.03583073346232842, 'dropout': 0.2823727377144851, 'lr': 0.006149730128154831, 'n_epochs': 50}. Best is trial 51 with value: -1271291448616550.5.\n"
     ]
    },
    {
     "name": "stdout",
     "output_type": "stream",
     "text": [
      "Trial 116 finished with value: -225580059493580.8\n",
      "Best trial so far: 51, value: -1271291448616550.5\n"
     ]
    },
    {
     "name": "stderr",
     "output_type": "stream",
     "text": [
      "[I 2025-04-06 21:00:17,779] Trial 117 finished with value: -194590583250944.0 and parameters: {'batch_size': 100, 'first_layer_size': 56, 'num_layers': 6, 'confidence_threshold': 0.032985459444977855, 'dropout': 0.2801098161695434, 'lr': 0.008832268229509116, 'n_epochs': 50}. Best is trial 51 with value: -1271291448616550.5.\n"
     ]
    },
    {
     "name": "stdout",
     "output_type": "stream",
     "text": [
      "Trial 117 finished with value: -194590583250944.0\n",
      "Best trial so far: 51, value: -1271291448616550.5\n"
     ]
    },
    {
     "name": "stderr",
     "output_type": "stream",
     "text": [
      "[I 2025-04-06 21:01:14,877] Trial 118 finished with value: -46446170479001.6 and parameters: {'batch_size': 100, 'first_layer_size': 16, 'num_layers': 2, 'confidence_threshold': 0.04156981180715785, 'dropout': 0.2866506597293647, 'lr': 0.005199479940547384, 'n_epochs': 50}. Best is trial 51 with value: -1271291448616550.5.\n"
     ]
    },
    {
     "name": "stdout",
     "output_type": "stream",
     "text": [
      "Trial 118 finished with value: -46446170479001.6\n",
      "Best trial so far: 51, value: -1271291448616550.5\n"
     ]
    },
    {
     "name": "stderr",
     "output_type": "stream",
     "text": [
      "[I 2025-04-06 21:02:07,895] Trial 119 finished with value: -21110690807961.6 and parameters: {'batch_size': 100, 'first_layer_size': 12, 'num_layers': 2, 'confidence_threshold': 0.046448108526385215, 'dropout': 0.29245991895769113, 'lr': 0.00552507506586668, 'n_epochs': 50}. Best is trial 51 with value: -1271291448616550.5.\n"
     ]
    },
    {
     "name": "stdout",
     "output_type": "stream",
     "text": [
      "Trial 119 finished with value: -21110690807961.6\n",
      "Best trial so far: 51, value: -1271291448616550.5\n"
     ]
    },
    {
     "name": "stderr",
     "output_type": "stream",
     "text": [
      "[I 2025-04-06 21:02:27,924] Trial 120 finished with value: -7580954144.8 and parameters: {'batch_size': 3000, 'first_layer_size': 32, 'num_layers': 2, 'confidence_threshold': 0.037041224427474234, 'dropout': 0.2837638448058047, 'lr': 0.006827042539081309, 'n_epochs': 50}. Best is trial 51 with value: -1271291448616550.5.\n"
     ]
    },
    {
     "name": "stdout",
     "output_type": "stream",
     "text": [
      "Trial 120 finished with value: -7580954144.8\n",
      "Best trial so far: 51, value: -1271291448616550.5\n"
     ]
    },
    {
     "name": "stderr",
     "output_type": "stream",
     "text": [
      "[I 2025-04-06 21:03:24,523] Trial 121 finished with value: -1756081089942937.5 and parameters: {'batch_size': 100, 'first_layer_size': 16, 'num_layers': 2, 'confidence_threshold': 0.03489120689273306, 'dropout': 0.29423607324535794, 'lr': 0.009613362543526419, 'n_epochs': 53}. Best is trial 121 with value: -1756081089942937.5.\n"
     ]
    },
    {
     "name": "stdout",
     "output_type": "stream",
     "text": [
      "Trial 121 finished with value: -1756081089942937.5\n",
      "Best trial so far: 121, value: -1756081089942937.5\n"
     ]
    },
    {
     "name": "stderr",
     "output_type": "stream",
     "text": [
      "[I 2025-04-06 21:04:28,555] Trial 122 finished with value: -556507285402419.2 and parameters: {'batch_size': 100, 'first_layer_size': 16, 'num_layers': 2, 'confidence_threshold': 0.03472053789748402, 'dropout': 0.3416149227492335, 'lr': 0.009509451215082372, 'n_epochs': 57}. Best is trial 121 with value: -1756081089942937.5.\n"
     ]
    },
    {
     "name": "stdout",
     "output_type": "stream",
     "text": [
      "Trial 122 finished with value: -556507285402419.2\n",
      "Best trial so far: 121, value: -1756081089942937.5\n"
     ]
    },
    {
     "name": "stderr",
     "output_type": "stream",
     "text": [
      "[W 2025-04-06 21:05:21,573] Trial 123 failed with parameters: {'batch_size': 100, 'first_layer_size': 16, 'num_layers': 2, 'confidence_threshold': 0.03194546851109761, 'dropout': 0.35170093612649544, 'lr': 0.009488231312977376} because of the following error: KeyboardInterrupt().\n",
      "Traceback (most recent call last):\n",
      "  File \"/Users/forbesjon2/anaconda3/envs/pytorchenv/lib/python3.9/site-packages/optuna/study/_optimize.py\", line 197, in _run_trial\n",
      "    value_or_values = func(trial)\n",
      "  File \"/var/folders/k0/7b4qgkdx2vb9ml4ktdckf0hc0000gn/T/ipykernel_2810/3796319085.py\", line 61, in objective\n",
      "    models[i].fit(X_train_fold[i], y_train_fold[i])\n",
      "  File \"/Users/forbesjon2/anaconda3/envs/pytorchenv/lib/python3.9/site-packages/sklearn/pipeline.py\", line 394, in fit\n",
      "    self._final_estimator.fit(Xt, y, **fit_params_last_step)\n",
      "  File \"/var/folders/k0/7b4qgkdx2vb9ml4ktdckf0hc0000gn/T/ipykernel_2810/1960948281.py\", line 87, in fit\n",
      "    loss.backward()\n",
      "  File \"/Users/forbesjon2/anaconda3/envs/pytorchenv/lib/python3.9/site-packages/torch/_tensor.py\", line 525, in backward\n",
      "    torch.autograd.backward(\n",
      "  File \"/Users/forbesjon2/anaconda3/envs/pytorchenv/lib/python3.9/site-packages/torch/autograd/__init__.py\", line 267, in backward\n",
      "    _engine_run_backward(\n",
      "  File \"/Users/forbesjon2/anaconda3/envs/pytorchenv/lib/python3.9/site-packages/torch/autograd/graph.py\", line 744, in _engine_run_backward\n",
      "    return Variable._execution_engine.run_backward(  # Calls into the C++ engine to run the backward pass\n",
      "KeyboardInterrupt\n",
      "[W 2025-04-06 21:05:21,582] Trial 123 failed with value None.\n"
     ]
    },
    {
     "ename": "KeyboardInterrupt",
     "evalue": "",
     "output_type": "error",
     "traceback": [
      "\u001b[0;31m---------------------------------------------------------------------------\u001b[0m",
      "\u001b[0;31mKeyboardInterrupt\u001b[0m                         Traceback (most recent call last)",
      "Cell \u001b[0;32mIn[16], line 10\u001b[0m\n\u001b[1;32m      8\u001b[0m \u001b[38;5;66;03m# Uncomment to run\u001b[39;00m\n\u001b[1;32m      9\u001b[0m \u001b[38;5;28;01mif\u001b[39;00m \u001b[38;5;28;01mTrue\u001b[39;00m:\n\u001b[0;32m---> 10\u001b[0m     \u001b[43mstudy\u001b[49m\u001b[38;5;241;43m.\u001b[39;49m\u001b[43moptimize\u001b[49m\u001b[43m(\u001b[49m\u001b[43mobjective\u001b[49m\u001b[43m,\u001b[49m\u001b[43m \u001b[49m\u001b[43mn_trials\u001b[49m\u001b[38;5;241;43m=\u001b[39;49m\u001b[38;5;241;43m200\u001b[39;49m\u001b[43m,\u001b[49m\u001b[43m \u001b[49m\u001b[43mcallbacks\u001b[49m\u001b[38;5;241;43m=\u001b[39;49m\u001b[43m[\u001b[49m\u001b[43mprint_callback\u001b[49m\u001b[43m]\u001b[49m\u001b[43m)\u001b[49m\n\u001b[1;32m     11\u001b[0m     \u001b[38;5;66;03m# study.optimize(objective, n_trials=3)\u001b[39;00m\n\u001b[1;32m     12\u001b[0m     \u001b[38;5;28mprint\u001b[39m(\u001b[38;5;124m\"\u001b[39m\u001b[38;5;124mBest trial:\u001b[39m\u001b[38;5;124m\"\u001b[39m)\n",
      "File \u001b[0;32m~/anaconda3/envs/pytorchenv/lib/python3.9/site-packages/optuna/study/study.py:475\u001b[0m, in \u001b[0;36mStudy.optimize\u001b[0;34m(self, func, n_trials, timeout, n_jobs, catch, callbacks, gc_after_trial, show_progress_bar)\u001b[0m\n\u001b[1;32m    373\u001b[0m \u001b[38;5;28;01mdef\u001b[39;00m \u001b[38;5;21moptimize\u001b[39m(\n\u001b[1;32m    374\u001b[0m     \u001b[38;5;28mself\u001b[39m,\n\u001b[1;32m    375\u001b[0m     func: ObjectiveFuncType,\n\u001b[0;32m   (...)\u001b[0m\n\u001b[1;32m    382\u001b[0m     show_progress_bar: \u001b[38;5;28mbool\u001b[39m \u001b[38;5;241m=\u001b[39m \u001b[38;5;28;01mFalse\u001b[39;00m,\n\u001b[1;32m    383\u001b[0m ) \u001b[38;5;241m-\u001b[39m\u001b[38;5;241m>\u001b[39m \u001b[38;5;28;01mNone\u001b[39;00m:\n\u001b[1;32m    384\u001b[0m     \u001b[38;5;124;03m\"\"\"Optimize an objective function.\u001b[39;00m\n\u001b[1;32m    385\u001b[0m \n\u001b[1;32m    386\u001b[0m \u001b[38;5;124;03m    Optimization is done by choosing a suitable set of hyperparameter values from a given\u001b[39;00m\n\u001b[0;32m   (...)\u001b[0m\n\u001b[1;32m    473\u001b[0m \u001b[38;5;124;03m            If nested invocation of this method occurs.\u001b[39;00m\n\u001b[1;32m    474\u001b[0m \u001b[38;5;124;03m    \"\"\"\u001b[39;00m\n\u001b[0;32m--> 475\u001b[0m     \u001b[43m_optimize\u001b[49m\u001b[43m(\u001b[49m\n\u001b[1;32m    476\u001b[0m \u001b[43m        \u001b[49m\u001b[43mstudy\u001b[49m\u001b[38;5;241;43m=\u001b[39;49m\u001b[38;5;28;43mself\u001b[39;49m\u001b[43m,\u001b[49m\n\u001b[1;32m    477\u001b[0m \u001b[43m        \u001b[49m\u001b[43mfunc\u001b[49m\u001b[38;5;241;43m=\u001b[39;49m\u001b[43mfunc\u001b[49m\u001b[43m,\u001b[49m\n\u001b[1;32m    478\u001b[0m \u001b[43m        \u001b[49m\u001b[43mn_trials\u001b[49m\u001b[38;5;241;43m=\u001b[39;49m\u001b[43mn_trials\u001b[49m\u001b[43m,\u001b[49m\n\u001b[1;32m    479\u001b[0m \u001b[43m        \u001b[49m\u001b[43mtimeout\u001b[49m\u001b[38;5;241;43m=\u001b[39;49m\u001b[43mtimeout\u001b[49m\u001b[43m,\u001b[49m\n\u001b[1;32m    480\u001b[0m \u001b[43m        \u001b[49m\u001b[43mn_jobs\u001b[49m\u001b[38;5;241;43m=\u001b[39;49m\u001b[43mn_jobs\u001b[49m\u001b[43m,\u001b[49m\n\u001b[1;32m    481\u001b[0m \u001b[43m        \u001b[49m\u001b[43mcatch\u001b[49m\u001b[38;5;241;43m=\u001b[39;49m\u001b[38;5;28;43mtuple\u001b[39;49m\u001b[43m(\u001b[49m\u001b[43mcatch\u001b[49m\u001b[43m)\u001b[49m\u001b[43m \u001b[49m\u001b[38;5;28;43;01mif\u001b[39;49;00m\u001b[43m \u001b[49m\u001b[38;5;28;43misinstance\u001b[39;49m\u001b[43m(\u001b[49m\u001b[43mcatch\u001b[49m\u001b[43m,\u001b[49m\u001b[43m \u001b[49m\u001b[43mIterable\u001b[49m\u001b[43m)\u001b[49m\u001b[43m \u001b[49m\u001b[38;5;28;43;01melse\u001b[39;49;00m\u001b[43m \u001b[49m\u001b[43m(\u001b[49m\u001b[43mcatch\u001b[49m\u001b[43m,\u001b[49m\u001b[43m)\u001b[49m\u001b[43m,\u001b[49m\n\u001b[1;32m    482\u001b[0m \u001b[43m        \u001b[49m\u001b[43mcallbacks\u001b[49m\u001b[38;5;241;43m=\u001b[39;49m\u001b[43mcallbacks\u001b[49m\u001b[43m,\u001b[49m\n\u001b[1;32m    483\u001b[0m \u001b[43m        \u001b[49m\u001b[43mgc_after_trial\u001b[49m\u001b[38;5;241;43m=\u001b[39;49m\u001b[43mgc_after_trial\u001b[49m\u001b[43m,\u001b[49m\n\u001b[1;32m    484\u001b[0m \u001b[43m        \u001b[49m\u001b[43mshow_progress_bar\u001b[49m\u001b[38;5;241;43m=\u001b[39;49m\u001b[43mshow_progress_bar\u001b[49m\u001b[43m,\u001b[49m\n\u001b[1;32m    485\u001b[0m \u001b[43m    \u001b[49m\u001b[43m)\u001b[49m\n",
      "File \u001b[0;32m~/anaconda3/envs/pytorchenv/lib/python3.9/site-packages/optuna/study/_optimize.py:63\u001b[0m, in \u001b[0;36m_optimize\u001b[0;34m(study, func, n_trials, timeout, n_jobs, catch, callbacks, gc_after_trial, show_progress_bar)\u001b[0m\n\u001b[1;32m     61\u001b[0m \u001b[38;5;28;01mtry\u001b[39;00m:\n\u001b[1;32m     62\u001b[0m     \u001b[38;5;28;01mif\u001b[39;00m n_jobs \u001b[38;5;241m==\u001b[39m \u001b[38;5;241m1\u001b[39m:\n\u001b[0;32m---> 63\u001b[0m         \u001b[43m_optimize_sequential\u001b[49m\u001b[43m(\u001b[49m\n\u001b[1;32m     64\u001b[0m \u001b[43m            \u001b[49m\u001b[43mstudy\u001b[49m\u001b[43m,\u001b[49m\n\u001b[1;32m     65\u001b[0m \u001b[43m            \u001b[49m\u001b[43mfunc\u001b[49m\u001b[43m,\u001b[49m\n\u001b[1;32m     66\u001b[0m \u001b[43m            \u001b[49m\u001b[43mn_trials\u001b[49m\u001b[43m,\u001b[49m\n\u001b[1;32m     67\u001b[0m \u001b[43m            \u001b[49m\u001b[43mtimeout\u001b[49m\u001b[43m,\u001b[49m\n\u001b[1;32m     68\u001b[0m \u001b[43m            \u001b[49m\u001b[43mcatch\u001b[49m\u001b[43m,\u001b[49m\n\u001b[1;32m     69\u001b[0m \u001b[43m            \u001b[49m\u001b[43mcallbacks\u001b[49m\u001b[43m,\u001b[49m\n\u001b[1;32m     70\u001b[0m \u001b[43m            \u001b[49m\u001b[43mgc_after_trial\u001b[49m\u001b[43m,\u001b[49m\n\u001b[1;32m     71\u001b[0m \u001b[43m            \u001b[49m\u001b[43mreseed_sampler_rng\u001b[49m\u001b[38;5;241;43m=\u001b[39;49m\u001b[38;5;28;43;01mFalse\u001b[39;49;00m\u001b[43m,\u001b[49m\n\u001b[1;32m     72\u001b[0m \u001b[43m            \u001b[49m\u001b[43mtime_start\u001b[49m\u001b[38;5;241;43m=\u001b[39;49m\u001b[38;5;28;43;01mNone\u001b[39;49;00m\u001b[43m,\u001b[49m\n\u001b[1;32m     73\u001b[0m \u001b[43m            \u001b[49m\u001b[43mprogress_bar\u001b[49m\u001b[38;5;241;43m=\u001b[39;49m\u001b[43mprogress_bar\u001b[49m\u001b[43m,\u001b[49m\n\u001b[1;32m     74\u001b[0m \u001b[43m        \u001b[49m\u001b[43m)\u001b[49m\n\u001b[1;32m     75\u001b[0m     \u001b[38;5;28;01melse\u001b[39;00m:\n\u001b[1;32m     76\u001b[0m         \u001b[38;5;28;01mif\u001b[39;00m n_jobs \u001b[38;5;241m==\u001b[39m \u001b[38;5;241m-\u001b[39m\u001b[38;5;241m1\u001b[39m:\n",
      "File \u001b[0;32m~/anaconda3/envs/pytorchenv/lib/python3.9/site-packages/optuna/study/_optimize.py:160\u001b[0m, in \u001b[0;36m_optimize_sequential\u001b[0;34m(study, func, n_trials, timeout, catch, callbacks, gc_after_trial, reseed_sampler_rng, time_start, progress_bar)\u001b[0m\n\u001b[1;32m    157\u001b[0m         \u001b[38;5;28;01mbreak\u001b[39;00m\n\u001b[1;32m    159\u001b[0m \u001b[38;5;28;01mtry\u001b[39;00m:\n\u001b[0;32m--> 160\u001b[0m     frozen_trial \u001b[38;5;241m=\u001b[39m \u001b[43m_run_trial\u001b[49m\u001b[43m(\u001b[49m\u001b[43mstudy\u001b[49m\u001b[43m,\u001b[49m\u001b[43m \u001b[49m\u001b[43mfunc\u001b[49m\u001b[43m,\u001b[49m\u001b[43m \u001b[49m\u001b[43mcatch\u001b[49m\u001b[43m)\u001b[49m\n\u001b[1;32m    161\u001b[0m \u001b[38;5;28;01mfinally\u001b[39;00m:\n\u001b[1;32m    162\u001b[0m     \u001b[38;5;66;03m# The following line mitigates memory problems that can be occurred in some\u001b[39;00m\n\u001b[1;32m    163\u001b[0m     \u001b[38;5;66;03m# environments (e.g., services that use computing containers such as GitHub Actions).\u001b[39;00m\n\u001b[1;32m    164\u001b[0m     \u001b[38;5;66;03m# Please refer to the following PR for further details:\u001b[39;00m\n\u001b[1;32m    165\u001b[0m     \u001b[38;5;66;03m# https://github.com/optuna/optuna/pull/325.\u001b[39;00m\n\u001b[1;32m    166\u001b[0m     \u001b[38;5;28;01mif\u001b[39;00m gc_after_trial:\n",
      "File \u001b[0;32m~/anaconda3/envs/pytorchenv/lib/python3.9/site-packages/optuna/study/_optimize.py:248\u001b[0m, in \u001b[0;36m_run_trial\u001b[0;34m(study, func, catch)\u001b[0m\n\u001b[1;32m    241\u001b[0m         \u001b[38;5;28;01massert\u001b[39;00m \u001b[38;5;28;01mFalse\u001b[39;00m, \u001b[38;5;124m\"\u001b[39m\u001b[38;5;124mShould not reach.\u001b[39m\u001b[38;5;124m\"\u001b[39m\n\u001b[1;32m    243\u001b[0m \u001b[38;5;28;01mif\u001b[39;00m (\n\u001b[1;32m    244\u001b[0m     frozen_trial\u001b[38;5;241m.\u001b[39mstate \u001b[38;5;241m==\u001b[39m TrialState\u001b[38;5;241m.\u001b[39mFAIL\n\u001b[1;32m    245\u001b[0m     \u001b[38;5;129;01mand\u001b[39;00m func_err \u001b[38;5;129;01mis\u001b[39;00m \u001b[38;5;129;01mnot\u001b[39;00m \u001b[38;5;28;01mNone\u001b[39;00m\n\u001b[1;32m    246\u001b[0m     \u001b[38;5;129;01mand\u001b[39;00m \u001b[38;5;129;01mnot\u001b[39;00m \u001b[38;5;28misinstance\u001b[39m(func_err, catch)\n\u001b[1;32m    247\u001b[0m ):\n\u001b[0;32m--> 248\u001b[0m     \u001b[38;5;28;01mraise\u001b[39;00m func_err\n\u001b[1;32m    249\u001b[0m \u001b[38;5;28;01mreturn\u001b[39;00m frozen_trial\n",
      "File \u001b[0;32m~/anaconda3/envs/pytorchenv/lib/python3.9/site-packages/optuna/study/_optimize.py:197\u001b[0m, in \u001b[0;36m_run_trial\u001b[0;34m(study, func, catch)\u001b[0m\n\u001b[1;32m    195\u001b[0m \u001b[38;5;28;01mwith\u001b[39;00m get_heartbeat_thread(trial\u001b[38;5;241m.\u001b[39m_trial_id, study\u001b[38;5;241m.\u001b[39m_storage):\n\u001b[1;32m    196\u001b[0m     \u001b[38;5;28;01mtry\u001b[39;00m:\n\u001b[0;32m--> 197\u001b[0m         value_or_values \u001b[38;5;241m=\u001b[39m \u001b[43mfunc\u001b[49m\u001b[43m(\u001b[49m\u001b[43mtrial\u001b[49m\u001b[43m)\u001b[49m\n\u001b[1;32m    198\u001b[0m     \u001b[38;5;28;01mexcept\u001b[39;00m exceptions\u001b[38;5;241m.\u001b[39mTrialPruned \u001b[38;5;28;01mas\u001b[39;00m e:\n\u001b[1;32m    199\u001b[0m         \u001b[38;5;66;03m# TODO(mamu): Handle multi-objective cases.\u001b[39;00m\n\u001b[1;32m    200\u001b[0m         state \u001b[38;5;241m=\u001b[39m TrialState\u001b[38;5;241m.\u001b[39mPRUNED\n",
      "Cell \u001b[0;32mIn[14], line 61\u001b[0m, in \u001b[0;36mobjective\u001b[0;34m(trial)\u001b[0m\n\u001b[1;32m     58\u001b[0m running_loss \u001b[38;5;241m=\u001b[39m []\n\u001b[1;32m     59\u001b[0m \u001b[38;5;28;01mfor\u001b[39;00m i \u001b[38;5;129;01min\u001b[39;00m \u001b[38;5;28mrange\u001b[39m(\u001b[38;5;241m0\u001b[39m,n_splits):\n\u001b[1;32m     60\u001b[0m     \u001b[38;5;66;03m# ----- Train -----\u001b[39;00m\n\u001b[0;32m---> 61\u001b[0m     \u001b[43mmodels\u001b[49m\u001b[43m[\u001b[49m\u001b[43mi\u001b[49m\u001b[43m]\u001b[49m\u001b[38;5;241;43m.\u001b[39;49m\u001b[43mfit\u001b[49m\u001b[43m(\u001b[49m\u001b[43mX_train_fold\u001b[49m\u001b[43m[\u001b[49m\u001b[43mi\u001b[49m\u001b[43m]\u001b[49m\u001b[43m,\u001b[49m\u001b[43m \u001b[49m\u001b[43my_train_fold\u001b[49m\u001b[43m[\u001b[49m\u001b[43mi\u001b[49m\u001b[43m]\u001b[49m\u001b[43m)\u001b[49m\n\u001b[1;32m     63\u001b[0m     \u001b[38;5;66;03m# ----- Eval -----\u001b[39;00m\n\u001b[1;32m     64\u001b[0m     \u001b[38;5;66;03m# print(f\"los: {models[i].score(X_val[i], y_val[i])} type: {type(models[i].score(X_val[i], y_val[i]))}\")\u001b[39;00m\n\u001b[1;32m     65\u001b[0m     running_loss\u001b[38;5;241m.\u001b[39mappend(models[i]\u001b[38;5;241m.\u001b[39mscore(X_val[i], y_val[i]))\n",
      "File \u001b[0;32m~/anaconda3/envs/pytorchenv/lib/python3.9/site-packages/sklearn/pipeline.py:394\u001b[0m, in \u001b[0;36mPipeline.fit\u001b[0;34m(self, X, y, **fit_params)\u001b[0m\n\u001b[1;32m    392\u001b[0m     \u001b[38;5;28;01mif\u001b[39;00m \u001b[38;5;28mself\u001b[39m\u001b[38;5;241m.\u001b[39m_final_estimator \u001b[38;5;241m!=\u001b[39m \u001b[38;5;124m\"\u001b[39m\u001b[38;5;124mpassthrough\u001b[39m\u001b[38;5;124m\"\u001b[39m:\n\u001b[1;32m    393\u001b[0m         fit_params_last_step \u001b[38;5;241m=\u001b[39m fit_params_steps[\u001b[38;5;28mself\u001b[39m\u001b[38;5;241m.\u001b[39msteps[\u001b[38;5;241m-\u001b[39m\u001b[38;5;241m1\u001b[39m][\u001b[38;5;241m0\u001b[39m]]\n\u001b[0;32m--> 394\u001b[0m         \u001b[38;5;28;43mself\u001b[39;49m\u001b[38;5;241;43m.\u001b[39;49m\u001b[43m_final_estimator\u001b[49m\u001b[38;5;241;43m.\u001b[39;49m\u001b[43mfit\u001b[49m\u001b[43m(\u001b[49m\u001b[43mXt\u001b[49m\u001b[43m,\u001b[49m\u001b[43m \u001b[49m\u001b[43my\u001b[49m\u001b[43m,\u001b[49m\u001b[43m \u001b[49m\u001b[38;5;241;43m*\u001b[39;49m\u001b[38;5;241;43m*\u001b[39;49m\u001b[43mfit_params_last_step\u001b[49m\u001b[43m)\u001b[49m\n\u001b[1;32m    396\u001b[0m \u001b[38;5;28;01mreturn\u001b[39;00m \u001b[38;5;28mself\u001b[39m\n",
      "Cell \u001b[0;32mIn[13], line 87\u001b[0m, in \u001b[0;36mTabularModelUpdated.fit\u001b[0;34m(self, X, y)\u001b[0m\n\u001b[1;32m     85\u001b[0m     loss \u001b[38;5;241m=\u001b[39m nfl_custom_criterion(y_pred, y_batch)\n\u001b[1;32m     86\u001b[0m     \u001b[38;5;66;03m#print(loss)\u001b[39;00m\n\u001b[0;32m---> 87\u001b[0m     \u001b[43mloss\u001b[49m\u001b[38;5;241;43m.\u001b[39;49m\u001b[43mbackward\u001b[49m\u001b[43m(\u001b[49m\u001b[43m)\u001b[49m\n\u001b[1;32m     88\u001b[0m     \u001b[38;5;28mself\u001b[39m\u001b[38;5;241m.\u001b[39moptimizer\u001b[38;5;241m.\u001b[39mstep()\n\u001b[1;32m     89\u001b[0m \u001b[38;5;28;01mreturn\u001b[39;00m \u001b[38;5;28mself\u001b[39m\n",
      "File \u001b[0;32m~/anaconda3/envs/pytorchenv/lib/python3.9/site-packages/torch/_tensor.py:525\u001b[0m, in \u001b[0;36mTensor.backward\u001b[0;34m(self, gradient, retain_graph, create_graph, inputs)\u001b[0m\n\u001b[1;32m    515\u001b[0m \u001b[38;5;28;01mif\u001b[39;00m has_torch_function_unary(\u001b[38;5;28mself\u001b[39m):\n\u001b[1;32m    516\u001b[0m     \u001b[38;5;28;01mreturn\u001b[39;00m handle_torch_function(\n\u001b[1;32m    517\u001b[0m         Tensor\u001b[38;5;241m.\u001b[39mbackward,\n\u001b[1;32m    518\u001b[0m         (\u001b[38;5;28mself\u001b[39m,),\n\u001b[0;32m   (...)\u001b[0m\n\u001b[1;32m    523\u001b[0m         inputs\u001b[38;5;241m=\u001b[39minputs,\n\u001b[1;32m    524\u001b[0m     )\n\u001b[0;32m--> 525\u001b[0m \u001b[43mtorch\u001b[49m\u001b[38;5;241;43m.\u001b[39;49m\u001b[43mautograd\u001b[49m\u001b[38;5;241;43m.\u001b[39;49m\u001b[43mbackward\u001b[49m\u001b[43m(\u001b[49m\n\u001b[1;32m    526\u001b[0m \u001b[43m    \u001b[49m\u001b[38;5;28;43mself\u001b[39;49m\u001b[43m,\u001b[49m\u001b[43m \u001b[49m\u001b[43mgradient\u001b[49m\u001b[43m,\u001b[49m\u001b[43m \u001b[49m\u001b[43mretain_graph\u001b[49m\u001b[43m,\u001b[49m\u001b[43m \u001b[49m\u001b[43mcreate_graph\u001b[49m\u001b[43m,\u001b[49m\u001b[43m \u001b[49m\u001b[43minputs\u001b[49m\u001b[38;5;241;43m=\u001b[39;49m\u001b[43minputs\u001b[49m\n\u001b[1;32m    527\u001b[0m \u001b[43m\u001b[49m\u001b[43m)\u001b[49m\n",
      "File \u001b[0;32m~/anaconda3/envs/pytorchenv/lib/python3.9/site-packages/torch/autograd/__init__.py:267\u001b[0m, in \u001b[0;36mbackward\u001b[0;34m(tensors, grad_tensors, retain_graph, create_graph, grad_variables, inputs)\u001b[0m\n\u001b[1;32m    262\u001b[0m     retain_graph \u001b[38;5;241m=\u001b[39m create_graph\n\u001b[1;32m    264\u001b[0m \u001b[38;5;66;03m# The reason we repeat the same comment below is that\u001b[39;00m\n\u001b[1;32m    265\u001b[0m \u001b[38;5;66;03m# some Python versions print out the first line of a multi-line function\u001b[39;00m\n\u001b[1;32m    266\u001b[0m \u001b[38;5;66;03m# calls in the traceback and some print out the last line\u001b[39;00m\n\u001b[0;32m--> 267\u001b[0m \u001b[43m_engine_run_backward\u001b[49m\u001b[43m(\u001b[49m\n\u001b[1;32m    268\u001b[0m \u001b[43m    \u001b[49m\u001b[43mtensors\u001b[49m\u001b[43m,\u001b[49m\n\u001b[1;32m    269\u001b[0m \u001b[43m    \u001b[49m\u001b[43mgrad_tensors_\u001b[49m\u001b[43m,\u001b[49m\n\u001b[1;32m    270\u001b[0m \u001b[43m    \u001b[49m\u001b[43mretain_graph\u001b[49m\u001b[43m,\u001b[49m\n\u001b[1;32m    271\u001b[0m \u001b[43m    \u001b[49m\u001b[43mcreate_graph\u001b[49m\u001b[43m,\u001b[49m\n\u001b[1;32m    272\u001b[0m \u001b[43m    \u001b[49m\u001b[43minputs\u001b[49m\u001b[43m,\u001b[49m\n\u001b[1;32m    273\u001b[0m \u001b[43m    \u001b[49m\u001b[43mallow_unreachable\u001b[49m\u001b[38;5;241;43m=\u001b[39;49m\u001b[38;5;28;43;01mTrue\u001b[39;49;00m\u001b[43m,\u001b[49m\n\u001b[1;32m    274\u001b[0m \u001b[43m    \u001b[49m\u001b[43maccumulate_grad\u001b[49m\u001b[38;5;241;43m=\u001b[39;49m\u001b[38;5;28;43;01mTrue\u001b[39;49;00m\u001b[43m,\u001b[49m\n\u001b[1;32m    275\u001b[0m \u001b[43m\u001b[49m\u001b[43m)\u001b[49m\n",
      "File \u001b[0;32m~/anaconda3/envs/pytorchenv/lib/python3.9/site-packages/torch/autograd/graph.py:744\u001b[0m, in \u001b[0;36m_engine_run_backward\u001b[0;34m(t_outputs, *args, **kwargs)\u001b[0m\n\u001b[1;32m    742\u001b[0m     unregister_hooks \u001b[38;5;241m=\u001b[39m _register_logging_hooks_on_whole_graph(t_outputs)\n\u001b[1;32m    743\u001b[0m \u001b[38;5;28;01mtry\u001b[39;00m:\n\u001b[0;32m--> 744\u001b[0m     \u001b[38;5;28;01mreturn\u001b[39;00m \u001b[43mVariable\u001b[49m\u001b[38;5;241;43m.\u001b[39;49m\u001b[43m_execution_engine\u001b[49m\u001b[38;5;241;43m.\u001b[39;49m\u001b[43mrun_backward\u001b[49m\u001b[43m(\u001b[49m\u001b[43m  \u001b[49m\u001b[38;5;66;43;03m# Calls into the C++ engine to run the backward pass\u001b[39;49;00m\n\u001b[1;32m    745\u001b[0m \u001b[43m        \u001b[49m\u001b[43mt_outputs\u001b[49m\u001b[43m,\u001b[49m\u001b[43m \u001b[49m\u001b[38;5;241;43m*\u001b[39;49m\u001b[43margs\u001b[49m\u001b[43m,\u001b[49m\u001b[43m \u001b[49m\u001b[38;5;241;43m*\u001b[39;49m\u001b[38;5;241;43m*\u001b[39;49m\u001b[43mkwargs\u001b[49m\n\u001b[1;32m    746\u001b[0m \u001b[43m    \u001b[49m\u001b[43m)\u001b[49m  \u001b[38;5;66;03m# Calls into the C++ engine to run the backward pass\u001b[39;00m\n\u001b[1;32m    747\u001b[0m \u001b[38;5;28;01mfinally\u001b[39;00m:\n\u001b[1;32m    748\u001b[0m     \u001b[38;5;28;01mif\u001b[39;00m attach_logging_hooks:\n",
      "\u001b[0;31mKeyboardInterrupt\u001b[0m: "
     ]
    }
   ],
   "source": [
    "study = optuna.create_study(\n",
    "    direction='minimize',\n",
    "    pruner=optuna.pruners.HyperbandPruner(\n",
    "        min_resource=1,\n",
    "        max_resource=1000\n",
    "    )\n",
    ")\n",
    "# Uncomment to run\n",
    "if True:\n",
    "    study.optimize(objective, n_trials=200, callbacks=[print_callback])\n",
    "    # study.optimize(objective, n_trials=3)\n",
    "    print(\"Best trial:\")\n",
    "    trial = study.best_trial\n",
    "    print(\"Value: \", trial.value)\n",
    "    print(\"Params: \")\n",
    "    for key, value in trial.params.items():\n",
    "        print(f\"    {key}: {value}\")\n"
   ]
  },
  {
   "cell_type": "code",
   "execution_count": 17,
   "id": "d65ea5b9",
   "metadata": {
    "scrolled": true
   },
   "outputs": [
    {
     "data": {
      "image/png": "[encoded data removed]",
      "text/plain": [
       "<Figure size 1200x600 with 1 Axes>"
      ]
     },
     "metadata": {},
     "output_type": "display_data"
    }
   ],
   "source": [
    "# best_params = study.best_trial.params\n",
    "# Trial 121 finished with value: -1756081089942937.5 and parameters:\n",
    "best_params = {'batch_size': 100, 'first_layer_size': 16, 'num_layers': 2, 'confidence_threshold': 0.03489120689273306, 'dropout': 0.29423607324535794, 'lr': 0.009613362543526419, 'n_epochs': 53}\n",
    "\n",
    "model = objective(None, best_params)\n",
    "probas = model.predict(perf_conts)\n",
    "perf_y_col_tensor = torch.FloatTensor(perf_y_col).to(device)\n",
    "\n",
    "performance_tensor = nfl_custom_criterion(probas, perf_y_col_tensor, 0.5, 0.1, True)\n",
    "\n",
    "\n",
    "y_axis = torch.cumprod(performance_tensor, dim=0).numpy()\n",
    "x_axis = np.arange(len(y_axis))\n",
    "\n",
    "plt.figure(figsize=(12, 6))\n",
    "plt.plot(x_axis, y_axis)\n",
    "# plt.title(f'Backtest Results\\nWin Rate: {win_rate:.2%} | ROI: {roi:.2%} | Max DD: {max_drawdown:.2%}')\n",
    "plt.xlabel('Number of Games')\n",
    "plt.ylabel('Account Value')\n",
    "plt.grid(True)\n",
    "plt.show()\n",
    "# print(performance_tensor)"
   ]
  },
  {
   "cell_type": "code",
   "execution_count": 17,
   "id": "8f5844eb-ecd7-44ff-8e36-e60139554f31",
   "metadata": {},
   "outputs": [
    {
     "name": "stdout",
     "output_type": "stream",
     "text": [
      "tensor([0.9000, 1.0981, 0.9000, 0.9353, 1.0000, 1.0981, 1.0981, 1.0758, 1.0000,\n",
      "        0.9000, 1.0825, 1.0981, 0.9332, 0.9358, 0.9000, 1.0000, 1.0064, 1.0981,\n",
      "        1.0179, 1.0981, 1.0981, 1.0639, 1.0840, 0.9000, 1.0981, 1.0981, 1.0934,\n",
      "        1.0782, 1.0000, 1.0981, 1.0448, 1.0981, 1.0981, 0.9000, 0.9470, 1.0500,\n",
      "        0.9000, 0.9225, 0.9779, 1.0981, 1.0000, 1.0977, 1.0014, 1.0832, 1.0000,\n",
      "        1.0000, 1.0670, 1.0319, 1.0981, 1.0981, 1.0981, 1.0981, 1.0981, 1.0981,\n",
      "        1.0981, 0.9777, 1.0883, 1.0981, 1.0981, 0.9969, 0.9000, 1.0000, 1.0237,\n",
      "        1.0094, 1.0665, 1.0569, 0.9310, 1.0656, 0.9110, 1.0981, 1.0981, 1.0981,\n",
      "        1.0412, 1.0000, 1.0963, 0.9614, 0.9186, 1.0252, 1.0604, 0.9000, 1.0237,\n",
      "        1.0000, 0.9000, 1.0981, 0.9000, 1.0981, 1.0000, 1.0157, 1.0807, 1.0408,\n",
      "        1.0692, 0.9000, 1.0000, 1.0823, 1.0454, 1.0000, 1.0870, 1.0981, 1.0981,\n",
      "        1.0000, 1.0000, 1.0000, 1.0000, 1.0981, 1.0981, 1.0000, 0.9616, 1.0000,\n",
      "        1.0000, 1.0981, 1.0981, 1.0981, 1.0981, 0.9741, 1.0478, 1.0735, 1.0981,\n",
      "        0.9563, 1.0355, 1.0981, 1.0981, 1.0246, 1.0000, 1.0981, 1.0000, 0.9377,\n",
      "        1.0000, 0.9736, 1.0449, 0.9000, 1.0000, 1.0770, 1.0000, 1.0981, 1.0000,\n",
      "        1.0837, 1.0000, 1.0981, 0.9294, 1.0000, 1.0551, 1.0677, 1.0782, 1.0000,\n",
      "        1.0981, 1.0981, 1.0652, 1.0981, 1.0432, 0.9995, 1.0981, 1.0000, 1.0981,\n",
      "        1.0843, 0.9718, 1.0000, 1.0336, 0.9945, 1.0000, 1.0000, 1.0981, 0.9000,\n",
      "        0.9837, 1.0000, 1.0981, 1.0981, 1.0757, 1.0981, 1.0014, 1.0672, 0.9000,\n",
      "        1.0981, 1.0981, 0.9000, 0.9000, 1.0981, 1.0000, 1.0981, 1.0288, 0.9684,\n",
      "        1.0981, 0.9300, 0.9952, 1.0981, 1.0000, 0.9000, 1.0000, 1.0981, 0.9000,\n",
      "        1.0981, 0.9775])\n"
     ]
    }
   ],
   "source": [
    "performance_tensor = nfl_custom_criterion(probas, perf_y_col_tensor, 0.5, 0.1, True)\n",
    "\n",
    "print(performance_tensor)"
   ]
  },
  {
   "cell_type": "code",
   "execution_count": 18,
   "id": "ee7c7a4f-eaad-4145-bcd6-765ed7d1c8de",
   "metadata": {},
   "outputs": [
    {
     "name": "stdout",
     "output_type": "stream",
     "text": [
      "[0.9        1.099894   0.9        1.099894   0.9        0.9\n",
      " 1.099894   1.099894   1.099894   0.9        1.099894   1.099894\n",
      " 1.099894   1.099894   0.9        1.099894   1.         1.099894\n",
      " 1.0913885  1.099894   1.099894   1.099894   1.099894   1.099894\n",
      " 1.099894   1.099894   1.099894   1.099894   0.92440385 1.099894\n",
      " 1.099894   1.099894   1.099894   0.9        0.9        1.099894\n",
      " 1.0952361  0.9        1.         1.099894   0.9        1.099894\n",
      " 1.099894   1.099894   1.099894   0.9        1.099894   1.099894\n",
      " 1.099894   1.099894   1.099894   1.099894   1.099894   1.099894\n",
      " 1.099894   1.099894   1.099894   1.099894   1.099894   0.9\n",
      " 0.9        1.099894   1.099894   1.099894   0.9        1.099894\n",
      " 0.9        1.099894   0.9        1.099894   1.099894   1.099894\n",
      " 1.099894   1.099894   1.099894   0.9        0.9        1.099894\n",
      " 1.099894   0.9        1.099894   1.099894   0.9        1.099894\n",
      " 0.9        1.099894   1.099894   1.099894   1.099894   1.099894\n",
      " 1.099894   0.9        1.099894   1.099894   1.099894   1.099894\n",
      " 1.099894   1.099894   1.099894   1.099894   1.099894   1.099894\n",
      " 0.92459905 1.099894   1.099894   0.9        0.9        1.099894\n",
      " 0.9        1.099894   1.099894   1.099894   1.099894   0.9\n",
      " 1.099894   1.099894   1.099894   0.9        1.099894   1.099894\n",
      " 1.099894   1.099894   0.9        1.099894   0.9        1.099894\n",
      " 1.099894   0.9        1.099894   0.9        1.099894   1.099894\n",
      " 0.9        1.099894   0.9        1.099894   1.099894   1.099894\n",
      " 0.9668721  1.099894   1.099894   1.099894   1.099894   0.9\n",
      " 1.099894   1.099894   1.099894   1.099894   1.099894   0.9\n",
      " 1.099894   1.099894   1.099894   1.099894   0.9        1.099894\n",
      " 1.099894   1.099894   1.099894   0.9        1.099894   0.9\n",
      " 1.099894   1.099894   1.099894   1.099894   1.099894   1.099894\n",
      " 1.099894   1.099894   0.9        1.099894   1.099894   0.9\n",
      " 0.9        1.099894   1.099894   1.099894   1.099894   1.099894\n",
      " 1.099894   1.099894   0.9        1.099894   1.099894   0.9\n",
      " 0.9        1.099894   0.9        1.099894   1.099894  ]\n",
      "[['2024-01-21' 'KAN' 'BUF']\n",
      " ['2024-01-28' 'DET' 'SFO']\n",
      " ['2024-01-28' 'KAN' 'BAL']\n",
      " ['2024-02-11' 'SFO' 'KAN']\n",
      " ['2024-10-10' 'SFO' 'SEA']\n",
      " ['2024-10-13' 'JAX' 'CHI']\n",
      " ['2024-10-13' 'ARI' 'GNB']\n",
      " ['2024-10-13' 'CIN' 'NYG']\n",
      " ['2024-10-13' 'PIT' 'LVR']\n",
      " ['2024-10-13' 'TAM' 'NOR']\n",
      " ['2024-10-13' 'HOU' 'NWE']\n",
      " ['2024-10-13' 'WAS' 'BAL']\n",
      " ['2024-10-13' 'ATL' 'CAR']\n",
      " ['2024-10-14' 'BUF' 'NYJ']\n",
      " ['2024-10-17' 'DEN' 'NOR']\n",
      " ['2024-10-20' 'PHI' 'NYG']\n",
      " ['2024-10-20' 'DET' 'MIN']\n",
      " ['2024-10-20' 'CAR' 'WAS']\n",
      " ['2024-10-20' 'SEA' 'ATL']\n",
      " ['2024-10-20' 'HOU' 'GNB']\n",
      " ['2024-10-20' 'MIA' 'IND']\n",
      " ['2024-10-20' 'TEN' 'BUF']\n",
      " ['2024-10-20' 'CIN' 'CLE']\n",
      " ['2024-10-20' 'KAN' 'SFO']\n",
      " ['2024-10-20' 'NWE' 'JAX']\n",
      " ['2024-10-20' 'NYJ' 'PIT']\n",
      " ['2024-10-21' 'BAL' 'TAM']\n",
      " ['2024-10-21' 'LAC' 'ARI']\n",
      " ['2024-10-24' 'MIN' 'LAR']\n",
      " ['2024-10-27' 'CAR' 'DEN']\n",
      " ['2024-10-27' 'CHI' 'WAS']\n",
      " ['2024-10-27' 'TEN' 'DET']\n",
      " ['2024-10-27' 'DAL' 'SFO']\n",
      " ['2024-10-27' 'ATL' 'TAM']\n",
      " ['2024-10-27' 'BAL' 'CLE']\n",
      " ['2024-10-27' 'KAN' 'LVR']\n",
      " ['2024-10-27' 'BUF' 'SEA']\n",
      " ['2024-10-27' 'PHI' 'CIN']\n",
      " ['2024-10-27' 'ARI' 'MIA']\n",
      " ['2024-10-27' 'IND' 'HOU']\n",
      " ['2024-10-27' 'NYJ' 'NWE']\n",
      " ['2024-10-27' 'GNB' 'JAX']\n",
      " ['2024-10-27' 'NOR' 'LAC']\n",
      " ['2024-10-28' 'NYG' 'PIT']\n",
      " ['2024-10-31' 'HOU' 'NYJ']\n",
      " ['2024-11-03' 'NOR' 'CAR']\n",
      " ['2024-11-03' 'LAC' 'CLE']\n",
      " ['2024-11-03' 'DET' 'GNB']\n",
      " ['2024-11-03' 'DAL' 'ATL']\n",
      " ['2024-11-03' 'WAS' 'NYG']\n",
      " ['2024-11-03' 'IND' 'MIN']\n",
      " ['2024-11-03' 'LVR' 'CIN']\n",
      " ['2024-11-03' 'DEN' 'BAL']\n",
      " ['2024-11-03' 'MIA' 'BUF']\n",
      " ['2024-11-03' 'JAX' 'PHI']\n",
      " ['2024-11-03' 'CHI' 'ARI']\n",
      " ['2024-11-04' 'TAM' 'KAN']\n",
      " ['2024-11-07' 'CIN' 'BAL']\n",
      " ['2024-11-10' 'TEN' 'LAC']\n",
      " ['2024-11-10' 'ATL' 'NOR']\n",
      " ['2024-11-10' 'NWE' 'CHI']\n",
      " ['2024-11-10' 'MIN' 'JAX']\n",
      " ['2024-11-10' 'DET' 'HOU']\n",
      " ['2024-11-10' 'BUF' 'IND']\n",
      " ['2024-11-10' 'NYG' 'CAR']\n",
      " ['2024-11-10' 'DEN' 'KAN']\n",
      " ['2024-11-10' 'PIT' 'WAS']\n",
      " ['2024-11-10' 'PHI' 'DAL']\n",
      " ['2024-11-10' 'SFO' 'TAM']\n",
      " ['2024-11-14' 'WAS' 'PHI']\n",
      " ['2024-11-17' 'LVR' 'MIA']\n",
      " ['2024-11-17' 'JAX' 'DET']\n",
      " ['2024-11-17' 'GNB' 'CHI']\n",
      " ['2024-11-17' 'KAN' 'BUF']\n",
      " ['2024-11-17' 'CLE' 'NOR']\n",
      " ['2024-11-17' 'BAL' 'PIT']\n",
      " ['2024-11-17' 'IND' 'NYJ']\n",
      " ['2024-11-17' 'MIN' 'TEN']\n",
      " ['2024-11-17' 'ATL' 'DEN']\n",
      " ['2024-11-17' 'SEA' 'SFO']\n",
      " ['2024-11-17' 'CIN' 'LAC']\n",
      " ['2024-11-18' 'HOU' 'DAL']\n",
      " ['2024-11-21' 'PIT' 'CLE']\n",
      " ['2024-11-24' 'NWE' 'MIA']\n",
      " ['2024-11-24' 'DAL' 'WAS']\n",
      " ['2024-11-24' 'TAM' 'NYG']\n",
      " ['2024-11-24' 'SFO' 'GNB']\n",
      " ['2024-11-24' 'ARI' 'SEA']\n",
      " ['2024-11-24' 'DEN' 'LVR']\n",
      " ['2024-11-24' 'DET' 'IND']\n",
      " ['2024-11-24' 'KAN' 'CAR']\n",
      " ['2024-11-24' 'TEN' 'HOU']\n",
      " ['2024-11-24' 'PHI' 'LAR']\n",
      " ['2024-11-24' 'MIN' 'CHI']\n",
      " ['2024-11-25' 'BAL' 'LAC']\n",
      " ['2024-11-28' 'NYG' 'DAL']\n",
      " ['2024-11-28' 'MIA' 'GNB']\n",
      " ['2024-11-28' 'CHI' 'DET']\n",
      " ['2024-11-29' 'LVR' 'KAN']\n",
      " ['2024-12-01' 'IND' 'NWE']\n",
      " ['2024-12-01' 'HOU' 'JAX']\n",
      " ['2024-12-01' 'TAM' 'CAR']\n",
      " ['2024-12-01' 'SEA' 'NYJ']\n",
      " ['2024-12-01' 'ARI' 'MIN']\n",
      " ['2024-12-01' 'TEN' 'WAS']\n",
      " ['2024-12-01' 'LAC' 'ATL']\n",
      " ['2024-12-01' 'PHI' 'BAL']\n",
      " ['2024-12-01' 'SFO' 'BUF']\n",
      " ['2024-12-01' 'PIT' 'CIN']\n",
      " ['2024-12-02' 'CLE' 'DEN']\n",
      " ['2024-12-05' 'GNB' 'DET']\n",
      " ['2024-12-08' 'CLE' 'PIT']\n",
      " ['2024-12-08' 'NYJ' 'MIA']\n",
      " ['2024-12-08' 'BUF' 'LAR']\n",
      " ['2024-12-08' 'LAC' 'KAN']\n",
      " ['2024-12-08' 'CHI' 'SFO']\n",
      " ['2024-12-08' 'LVR' 'TAM']\n",
      " ['2024-12-08' 'SEA' 'ARI']\n",
      " ['2024-12-08' 'NOR' 'NYG']\n",
      " ['2024-12-08' 'CAR' 'PHI']\n",
      " ['2024-12-08' 'ATL' 'MIN']\n",
      " ['2024-12-09' 'CIN' 'DAL']\n",
      " ['2024-12-12' 'LAR' 'SFO']\n",
      " ['2024-12-15' 'NWE' 'ARI']\n",
      " ['2024-12-15' 'MIA' 'HOU']\n",
      " ['2024-12-15' 'WAS' 'NOR']\n",
      " ['2024-12-15' 'PIT' 'PHI']\n",
      " ['2024-12-15' 'DAL' 'CAR']\n",
      " ['2024-12-15' 'BAL' 'NYG']\n",
      " ['2024-12-15' 'BUF' 'DET']\n",
      " ['2024-12-15' 'KAN' 'CLE']\n",
      " ['2024-12-15' 'GNB' 'SEA']\n",
      " ['2024-12-15' 'NYJ' 'JAX']\n",
      " ['2024-12-15' 'IND' 'DEN']\n",
      " ['2024-12-15' 'TAM' 'LAC']\n",
      " ['2024-12-15' 'CIN' 'TEN']\n",
      " ['2024-12-16' 'ATL' 'LVR']\n",
      " ['2024-12-16' 'CHI' 'MIN']\n",
      " ['2024-12-19' 'DEN' 'LAC']\n",
      " ['2024-12-21' 'PIT' 'BAL']\n",
      " ['2024-12-21' 'HOU' 'KAN']\n",
      " ['2024-12-22' 'JAX' 'LVR']\n",
      " ['2024-12-22' 'TEN' 'IND']\n",
      " ['2024-12-22' 'ARI' 'CAR']\n",
      " ['2024-12-22' 'NWE' 'BUF']\n",
      " ['2024-12-22' 'CLE' 'CIN']\n",
      " ['2024-12-22' 'SFO' 'MIA']\n",
      " ['2024-12-22' 'DET' 'CHI']\n",
      " ['2024-12-22' 'PHI' 'WAS']\n",
      " ['2024-12-22' 'TAM' 'DAL']\n",
      " ['2024-12-22' 'NYG' 'ATL']\n",
      " ['2024-12-22' 'MIN' 'SEA']\n",
      " ['2024-12-23' 'NOR' 'GNB']\n",
      " ['2024-12-25' 'BAL' 'HOU']\n",
      " ['2024-12-25' 'KAN' 'PIT']\n",
      " ['2024-12-26' 'SEA' 'CHI']\n",
      " ['2024-12-28' 'DEN' 'CIN']\n",
      " ['2024-12-28' 'LAC' 'NWE']\n",
      " ['2024-12-29' 'GNB' 'MIN']\n",
      " ['2024-12-29' 'IND' 'NYG']\n",
      " ['2024-12-29' 'DAL' 'PHI']\n",
      " ['2024-12-29' 'LVR' 'NOR']\n",
      " ['2024-12-29' 'TEN' 'JAX']\n",
      " ['2024-12-29' 'MIA' 'CLE']\n",
      " ['2024-12-29' 'ATL' 'WAS']\n",
      " ['2024-12-29' 'CAR' 'TAM']\n",
      " ['2024-12-30' 'DET' 'SFO']\n",
      " ['2025-01-04' 'CLE' 'BAL']\n",
      " ['2025-01-05' 'WAS' 'DAL']\n",
      " ['2025-01-05' 'KAN' 'DEN']\n",
      " ['2025-01-05' 'CHI' 'GNB']\n",
      " ['2025-01-05' 'MIN' 'DET']\n",
      " ['2025-01-05' 'NYG' 'PHI']\n",
      " ['2025-01-05' 'CAR' 'ATL']\n",
      " ['2025-01-05' 'BUF' 'NWE']\n",
      " ['2025-01-05' 'SFO' 'ARI']\n",
      " ['2025-01-05' 'LAC' 'LVR']\n",
      " ['2025-01-05' 'NOR' 'TAM']\n",
      " ['2025-01-05' 'MIA' 'NYJ']\n",
      " ['2025-01-05' 'HOU' 'TEN']\n",
      " ['2025-01-05' 'JAX' 'IND']\n",
      " ['2025-01-05' 'SEA' 'LAR']\n",
      " ['2025-01-11' 'LAC' 'HOU']\n",
      " ['2025-01-12' 'DEN' 'BUF']\n",
      " ['2025-01-12' 'GNB' 'PHI']\n",
      " ['2025-01-12' 'WAS' 'TAM']\n",
      " ['2025-01-13' 'MIN' 'LAR']\n",
      " ['2025-01-18' 'HOU' 'KAN']\n",
      " ['2025-01-18' 'WAS' 'DET']\n",
      " ['2025-01-19' 'LAR' 'PHI']\n",
      " ['2025-01-19' 'BAL' 'BUF']]\n",
      "2024-02-11: acct_val: 100.00 usable cash: 100.00 won: False\n",
      "2024-10-10: acct_val: 90.00 usable cash: 90.00 won: True\n",
      "2024-10-13: acct_val: 98.99 usable cash: 98.99 won: False\n",
      "2024-10-14: acct_val: 89.09 usable cash: 89.09 won: False\n",
      "2024-10-14: acct_val: 80.18 usable cash: 89.09 won: True\n",
      "2024-10-14: acct_val: 88.19 usable cash: 89.09 won: True\n",
      "2024-10-14: acct_val: 97.00 usable cash: 89.09 won: True\n",
      "2024-10-14: acct_val: 106.69 usable cash: 89.09 won: False\n",
      "2024-10-14: acct_val: 96.02 usable cash: 89.09 won: True\n",
      "2024-10-14: acct_val: 105.61 usable cash: 89.09 won: True\n",
      "2024-10-14: acct_val: 116.16 usable cash: 89.09 won: True\n",
      "2024-10-17: acct_val: 127.77 usable cash: 127.77 won: True\n",
      "2024-10-20: acct_val: 140.53 usable cash: 140.53 won: False\n",
      "2024-10-21: acct_val: 126.48 usable cash: 126.48 won: True\n",
      "2024-10-21: acct_val: 139.11 usable cash: 126.48 won: False\n",
      "2024-10-21: acct_val: 139.11 usable cash: 126.48 won: True\n",
      "2024-10-21: acct_val: 153.01 usable cash: 126.48 won: True\n",
      "2024-10-21: acct_val: 166.99 usable cash: 126.48 won: True\n",
      "2024-10-21: acct_val: 183.68 usable cash: 126.48 won: True\n",
      "2024-10-21: acct_val: 202.02 usable cash: 126.48 won: True\n",
      "2024-10-21: acct_val: 222.20 usable cash: 126.48 won: True\n",
      "2024-10-21: acct_val: 244.40 usable cash: 126.48 won: True\n",
      "2024-10-21: acct_val: 268.82 usable cash: 126.48 won: True\n",
      "2024-10-24: acct_val: 295.67 usable cash: 295.67 won: True\n",
      "2024-10-24: acct_val: 325.20 usable cash: 295.67 won: True\n",
      "2024-10-27: acct_val: 357.69 usable cash: 357.69 won: False\n",
      "2024-10-28: acct_val: 330.65 usable cash: 330.65 won: True\n",
      "2024-10-28: acct_val: 363.68 usable cash: 330.65 won: True\n",
      "2024-10-28: acct_val: 400.01 usable cash: 330.65 won: True\n",
      "2024-10-28: acct_val: 439.97 usable cash: 330.65 won: True\n",
      "2024-10-28: acct_val: 483.92 usable cash: 330.65 won: False\n",
      "2024-10-28: acct_val: 435.53 usable cash: 330.65 won: False\n",
      "2024-10-28: acct_val: 391.97 usable cash: 330.65 won: True\n",
      "2024-10-28: acct_val: 431.13 usable cash: 330.65 won: True\n",
      "2024-10-28: acct_val: 472.19 usable cash: 330.65 won: False\n",
      "2024-10-28: acct_val: 424.97 usable cash: 330.65 won: False\n",
      "2024-10-31: acct_val: 424.97 usable cash: 424.97 won: True\n",
      "2024-11-03: acct_val: 467.42 usable cash: 467.42 won: True\n",
      "2024-11-04: acct_val: 514.11 usable cash: 514.11 won: False\n",
      "2024-11-04: acct_val: 462.70 usable cash: 514.11 won: True\n",
      "2024-11-04: acct_val: 508.92 usable cash: 514.11 won: True\n",
      "2024-11-04: acct_val: 559.76 usable cash: 514.11 won: True\n",
      "2024-11-04: acct_val: 615.68 usable cash: 514.11 won: True\n",
      "2024-11-04: acct_val: 677.18 usable cash: 514.11 won: True\n",
      "2024-11-04: acct_val: 744.83 usable cash: 514.11 won: True\n",
      "2024-11-04: acct_val: 819.23 usable cash: 514.11 won: True\n",
      "2024-11-04: acct_val: 901.07 usable cash: 514.11 won: True\n",
      "2024-11-04: acct_val: 991.08 usable cash: 514.11 won: True\n",
      "2024-11-07: acct_val: 1090.08 usable cash: 1090.08 won: True\n",
      "2024-11-10: acct_val: 1198.98 usable cash: 1198.98 won: True\n",
      "2024-11-14: acct_val: 1318.75 usable cash: 1318.75 won: True\n",
      "2024-11-14: acct_val: 1450.48 usable cash: 1318.75 won: False\n",
      "2024-11-14: acct_val: 1305.44 usable cash: 1318.75 won: False\n",
      "2024-11-14: acct_val: 1174.89 usable cash: 1318.75 won: True\n",
      "2024-11-14: acct_val: 1292.26 usable cash: 1318.75 won: True\n",
      "2024-11-14: acct_val: 1421.35 usable cash: 1318.75 won: True\n",
      "2024-11-14: acct_val: 1563.33 usable cash: 1318.75 won: False\n",
      "2024-11-14: acct_val: 1407.00 usable cash: 1318.75 won: True\n",
      "2024-11-14: acct_val: 1547.55 usable cash: 1318.75 won: False\n",
      "2024-11-14: acct_val: 1392.79 usable cash: 1318.75 won: True\n",
      "2024-11-17: acct_val: 1531.92 usable cash: 1531.92 won: True\n",
      "2024-11-18: acct_val: 1684.95 usable cash: 1684.95 won: True\n",
      "2024-11-18: acct_val: 1853.27 usable cash: 1684.95 won: True\n",
      "2024-11-18: acct_val: 2038.40 usable cash: 1684.95 won: True\n",
      "2024-11-18: acct_val: 2242.03 usable cash: 1684.95 won: True\n",
      "2024-11-18: acct_val: 2465.99 usable cash: 1684.95 won: True\n",
      "2024-11-18: acct_val: 2712.33 usable cash: 1684.95 won: False\n",
      "2024-11-18: acct_val: 2441.09 usable cash: 1684.95 won: False\n",
      "2024-11-18: acct_val: 2196.99 usable cash: 1684.95 won: True\n",
      "2024-11-18: acct_val: 2416.45 usable cash: 1684.95 won: True\n",
      "2024-11-18: acct_val: 2657.84 usable cash: 1684.95 won: False\n",
      "2024-11-21: acct_val: 2392.06 usable cash: 2392.06 won: True\n",
      "2024-11-24: acct_val: 2631.01 usable cash: 2631.01 won: False\n",
      "2024-11-25: acct_val: 2367.91 usable cash: 2367.91 won: True\n",
      "2024-11-25: acct_val: 2604.45 usable cash: 2367.91 won: False\n",
      "2024-11-25: acct_val: 2344.00 usable cash: 2367.91 won: True\n",
      "2024-11-25: acct_val: 2578.15 usable cash: 2367.91 won: True\n",
      "2024-11-25: acct_val: 2835.70 usable cash: 2367.91 won: True\n",
      "2024-11-25: acct_val: 3118.97 usable cash: 2367.91 won: True\n",
      "2024-11-25: acct_val: 3430.53 usable cash: 2367.91 won: True\n",
      "2024-11-25: acct_val: 3773.22 usable cash: 2367.91 won: True\n",
      "2024-11-25: acct_val: 4150.14 usable cash: 2367.91 won: False\n",
      "2024-11-25: acct_val: 3735.13 usable cash: 2367.91 won: True\n",
      "2024-11-28: acct_val: 4108.25 usable cash: 4108.25 won: True\n",
      "2024-11-29: acct_val: 4518.64 usable cash: 4518.64 won: True\n",
      "2024-11-29: acct_val: 4970.02 usable cash: 4518.64 won: True\n",
      "2024-11-29: acct_val: 5466.50 usable cash: 4518.64 won: True\n",
      "2024-12-01: acct_val: 6012.57 usable cash: 6012.57 won: True\n",
      "2024-12-02: acct_val: 6613.19 usable cash: 6613.19 won: True\n",
      "2024-12-02: acct_val: 7273.80 usable cash: 6613.19 won: True\n",
      "2024-12-02: acct_val: 8000.41 usable cash: 6613.19 won: True\n",
      "2024-12-02: acct_val: 8799.61 usable cash: 6613.19 won: False\n",
      "2024-12-02: acct_val: 8136.11 usable cash: 6613.19 won: True\n",
      "2024-12-02: acct_val: 8948.86 usable cash: 6613.19 won: True\n",
      "2024-12-02: acct_val: 9842.80 usable cash: 6613.19 won: False\n",
      "2024-12-02: acct_val: 8858.52 usable cash: 6613.19 won: False\n",
      "2024-12-02: acct_val: 7972.66 usable cash: 6613.19 won: True\n",
      "2024-12-02: acct_val: 8769.09 usable cash: 6613.19 won: False\n",
      "2024-12-05: acct_val: 7892.18 usable cash: 7892.18 won: True\n",
      "2024-12-08: acct_val: 8680.56 usable cash: 8680.56 won: True\n",
      "2024-12-09: acct_val: 9547.70 usable cash: 9547.70 won: True\n",
      "2024-12-09: acct_val: 10501.45 usable cash: 9547.70 won: True\n",
      "2024-12-09: acct_val: 11550.49 usable cash: 9547.70 won: False\n",
      "2024-12-09: acct_val: 10395.44 usable cash: 9547.70 won: True\n",
      "2024-12-09: acct_val: 11433.88 usable cash: 9547.70 won: True\n",
      "2024-12-09: acct_val: 12576.06 usable cash: 9547.70 won: True\n",
      "2024-12-09: acct_val: 13832.33 usable cash: 9547.70 won: False\n",
      "2024-12-09: acct_val: 12449.10 usable cash: 9547.70 won: True\n",
      "2024-12-09: acct_val: 13692.69 usable cash: 9547.70 won: True\n",
      "2024-12-09: acct_val: 15060.50 usable cash: 9547.70 won: True\n",
      "2024-12-12: acct_val: 16564.96 usable cash: 16564.96 won: True\n",
      "2024-12-15: acct_val: 18219.70 usable cash: 18219.70 won: False\n",
      "2024-12-16: acct_val: 16397.73 usable cash: 16397.73 won: True\n",
      "2024-12-16: acct_val: 18035.76 usable cash: 16397.73 won: False\n",
      "2024-12-16: acct_val: 16232.19 usable cash: 16397.73 won: True\n",
      "2024-12-16: acct_val: 17853.69 usable cash: 16397.73 won: True\n",
      "2024-12-16: acct_val: 19637.16 usable cash: 16397.73 won: False\n",
      "2024-12-16: acct_val: 17673.45 usable cash: 16397.73 won: True\n",
      "2024-12-16: acct_val: 19438.92 usable cash: 16397.73 won: False\n",
      "2024-12-16: acct_val: 17495.03 usable cash: 16397.73 won: True\n",
      "2024-12-16: acct_val: 19242.68 usable cash: 16397.73 won: True\n",
      "2024-12-16: acct_val: 21164.90 usable cash: 16397.73 won: False\n",
      "2024-12-19: acct_val: 19048.41 usable cash: 19048.41 won: True\n",
      "2024-12-19: acct_val: 20951.24 usable cash: 19048.41 won: True\n",
      "2024-12-21: acct_val: 23044.14 usable cash: 23044.14 won: False\n",
      "2024-12-22: acct_val: 22280.74 usable cash: 22280.74 won: True\n",
      "2024-12-22: acct_val: 24506.45 usable cash: 22280.74 won: True\n",
      "2024-12-23: acct_val: 26954.50 usable cash: 26954.50 won: True\n",
      "2024-12-23: acct_val: 29647.09 usable cash: 26954.50 won: True\n",
      "2024-12-23: acct_val: 32608.66 usable cash: 26954.50 won: False\n",
      "2024-12-23: acct_val: 29347.79 usable cash: 26954.50 won: True\n",
      "2024-12-23: acct_val: 32279.46 usable cash: 26954.50 won: True\n",
      "2024-12-23: acct_val: 35503.99 usable cash: 26954.50 won: True\n",
      "2024-12-23: acct_val: 39050.62 usable cash: 26954.50 won: True\n",
      "2024-12-23: acct_val: 42951.55 usable cash: 26954.50 won: True\n",
      "2024-12-23: acct_val: 47242.15 usable cash: 26954.50 won: False\n",
      "2024-12-23: acct_val: 42517.94 usable cash: 26954.50 won: True\n",
      "2024-12-25: acct_val: 46765.23 usable cash: 46765.23 won: True\n",
      "2024-12-26: acct_val: 51436.79 usable cash: 51436.79 won: True\n",
      "2024-12-26: acct_val: 56575.02 usable cash: 51436.79 won: False\n",
      "2024-12-28: acct_val: 50917.52 usable cash: 50917.52 won: True\n",
      "2024-12-29: acct_val: 56003.88 usable cash: 56003.88 won: True\n",
      "2024-12-29: acct_val: 61598.33 usable cash: 56003.88 won: True\n",
      "2024-12-30: acct_val: 67751.64 usable cash: 67751.64 won: True\n",
      "2024-12-30: acct_val: 74519.62 usable cash: 67751.64 won: False\n",
      "2024-12-30: acct_val: 67067.66 usable cash: 67751.64 won: True\n",
      "2024-12-30: acct_val: 73767.32 usable cash: 67751.64 won: False\n",
      "2024-12-30: acct_val: 66390.58 usable cash: 67751.64 won: True\n",
      "2024-12-30: acct_val: 73022.61 usable cash: 67751.64 won: True\n",
      "2024-12-30: acct_val: 80317.13 usable cash: 67751.64 won: True\n",
      "2024-12-30: acct_val: 88340.34 usable cash: 67751.64 won: True\n",
      "2025-01-04: acct_val: 97165.01 usable cash: 97165.01 won: True\n",
      "2025-01-05: acct_val: 106871.21 usable cash: 106871.21 won: True\n",
      "2025-01-11: acct_val: 117547.01 usable cash: 117547.01 won: True\n",
      "2025-01-11: acct_val: 129289.26 usable cash: 117547.01 won: True\n",
      "2025-01-11: acct_val: 142204.49 usable cash: 117547.01 won: False\n",
      "2025-01-11: acct_val: 127984.03 usable cash: 117547.01 won: True\n",
      "2025-01-11: acct_val: 140768.88 usable cash: 117547.01 won: True\n",
      "2025-01-11: acct_val: 154830.85 usable cash: 117547.01 won: False\n",
      "2025-01-11: acct_val: 139347.76 usable cash: 117547.01 won: False\n",
      "2025-01-11: acct_val: 125412.98 usable cash: 117547.01 won: True\n",
      "2025-01-11: acct_val: 137940.99 usable cash: 117547.01 won: True\n",
      "2025-01-11: acct_val: 151720.48 usable cash: 117547.01 won: True\n",
      "2025-01-12: acct_val: 166876.45 usable cash: 166876.45 won: False\n",
      "2025-01-13: acct_val: 150188.80 usable cash: 150188.80 won: True\n",
      "2025-01-13: acct_val: 165191.77 usable cash: 150188.80 won: True\n",
      "2025-01-13: acct_val: 181693.44 usable cash: 150188.80 won: False\n",
      "2025-01-18: acct_val: 163524.09 usable cash: 163524.09 won: False\n",
      "2025-01-19: acct_val: 147171.68 usable cash: 147171.68 won: True\n",
      "2025-01-19: acct_val: 161873.25 usable cash: 147171.68 won: False\n"
     ]
    },
    {
     "data": {
      "image/png": "[encoded data removed]",
      "text/plain": [
       "<Figure size 1200x600 with 1 Axes>"
      ]
     },
     "metadata": {},
     "output_type": "display_data"
    },
    {
     "data": {
      "text/plain": [
       "{'final_value': 145685.92536532413,\n",
       " 'roi': 1455.8592536532412,\n",
       " 'win_rate': 0.7380952380952381,\n",
       " 'max_drawdown': 0.19817730361801306,\n",
       " 'total_bets': 170}"
      ]
     },
     "execution_count": 18,
     "metadata": {},
     "output_type": "execute_result"
    }
   ],
   "source": [
    "performance_tensor = nfl_custom_criterion(probas, perf_y_col_tensor, 0.5, 0.1, True).numpy()\n",
    "print(performance_tensor)\n",
    "print(perf_date_col)\n",
    "nfl_utils.backtest_model_custom_loss(performance_tensor, perf_date_col, initial_capital=100, show_plot=True)"
   ]
  },
  {
   "cell_type": "code",
   "execution_count": 95,
   "id": "92020224-b9cf-4c61-9dbc-3d0a536d2286",
   "metadata": {},
   "outputs": [
    {
     "name": "stdout",
     "output_type": "stream",
     "text": [
      "['2024-10-14' 'BUF' 'NYJ']\n",
      "2024-10-14: w_odds:1.36 acct_val: 1000.00 usable cash: 900.00 won: False\n",
      "2024-10-14: w_odds:1.43 acct_val: 900.00 usable cash: 810.00 won: False\n",
      "2024-10-14: w_odds:1.58 acct_val: 810.00 usable cash: 729.00 won: False\n",
      "2024-10-14: w_odds:1.46 acct_val: 729.00 usable cash: 656.10 won: False\n",
      "2024-10-14: w_odds:1.30 acct_val: 656.10 usable cash: 590.49 won: False\n",
      "2024-10-14: w_odds:1.25 acct_val: 590.49 usable cash: 531.44 won: False\n",
      "2024-10-14: w_odds:1.33 acct_val: 531.44 usable cash: 478.30 won: False\n",
      "['2024-10-17' 'DEN' 'NOR']\n",
      "2024-10-17: w_odds:1.83 acct_val: 478.30 usable cash: 430.47 won: False\n",
      "['2024-10-20' 'PHI' 'NYG']\n",
      "2024-10-20: w_odds:1.58 acct_val: 430.47 usable cash: 387.42 won: False\n",
      "['2024-10-21' 'BAL' 'TAM']\n",
      "2024-10-21: w_odds:1.58 acct_val: 387.42 usable cash: 348.68 won: False\n",
      "2024-10-21: w_odds:1.94 acct_val: 348.68 usable cash: 313.81 won: False\n",
      "2024-10-21: w_odds:1.12 acct_val: 313.81 usable cash: 282.43 won: False\n",
      "2024-10-21: w_odds:1.58 acct_val: 282.43 usable cash: 254.19 won: False\n",
      "2024-10-21: w_odds:1.58 acct_val: 254.19 usable cash: 228.77 won: False\n",
      "2024-10-21: w_odds:1.16 acct_val: 228.77 usable cash: 205.89 won: True\n",
      "2024-10-21: w_odds:1.36 acct_val: 232.41 usable cash: 182.65 won: False\n",
      "2024-10-21: w_odds:2.07 acct_val: 209.17 usable cash: 161.73 won: False\n",
      "2024-10-21: w_odds:1.25 acct_val: 188.25 usable cash: 142.91 won: False\n",
      "2024-10-21: w_odds:2.07 acct_val: 169.42 usable cash: 125.97 won: False\n",
      "['2024-10-27' 'CAR' 'DEN']\n",
      "2024-10-27: w_odds:1.43 acct_val: 152.48 usable cash: 137.23 won: False\n",
      "2024-10-27: w_odds:1.94 acct_val: 137.23 usable cash: 123.51 won: False\n",
      "['2024-10-28' 'NYG' 'PIT']\n",
      "2024-10-28: w_odds:1.05 acct_val: 123.51 usable cash: 112.28 won: True\n",
      "2024-10-28: w_odds:1.79 acct_val: 124.10 usable cash: 101.00 won: True\n",
      "2024-10-28: w_odds:1.06 acct_val: 133.02 usable cash: 88.91 won: False\n",
      "2024-10-28: w_odds:1.36 acct_val: 120.93 usable cash: 77.91 won: False\n",
      "2024-10-28: w_odds:1.79 acct_val: 109.93 usable cash: 67.92 won: False\n",
      "2024-10-28: w_odds:1.17 acct_val: 99.94 usable cash: 58.83 won: False\n",
      "2024-10-28: w_odds:1.58 acct_val: 90.85 usable cash: 50.58 won: False\n",
      "2024-10-28: w_odds:2.07 acct_val: 82.59 usable cash: 43.07 won: False\n",
      "2024-10-28: w_odds:1.40 acct_val: 75.09 usable cash: 36.24 won: False\n",
      "2024-10-28: w_odds:1.46 acct_val: 68.26 usable cash: 30.04 won: False\n",
      "2024-10-28: w_odds:1.25 acct_val: 62.05 usable cash: 24.39 won: False\n",
      "['2024-10-31' 'HOU' 'NYJ']\n",
      "2024-10-31: w_odds:1.33 acct_val: 56.41 usable cash: 50.77 won: True\n",
      "['2024-11-03' 'LAC' 'CLE']\n",
      "2024-11-03: w_odds:1.72 acct_val: 58.27 usable cash: 52.45 won: True\n",
      "['2024-11-04' 'TAM' 'KAN']\n",
      "2024-11-04: w_odds:1.76 acct_val: 62.50 usable cash: 56.25 won: False\n",
      "2024-11-04: w_odds:1.72 acct_val: 56.25 usable cash: 50.62 won: False\n",
      "2024-11-04: w_odds:1.58 acct_val: 50.62 usable cash: 45.56 won: False\n",
      "2024-11-04: w_odds:1.43 acct_val: 45.56 usable cash: 41.00 won: False\n",
      "2024-11-04: w_odds:1.33 acct_val: 41.00 usable cash: 36.90 won: False\n",
      "2024-11-04: w_odds:1.20 acct_val: 36.90 usable cash: 33.21 won: False\n",
      "2024-11-04: w_odds:1.16 acct_val: 33.21 usable cash: 29.89 won: False\n",
      "2024-11-04: w_odds:1.33 acct_val: 29.89 usable cash: 26.90 won: False\n",
      "2024-11-04: w_odds:1.20 acct_val: 26.90 usable cash: 24.21 won: True\n",
      "2024-11-04: w_odds:1.79 acct_val: 27.45 usable cash: 21.47 won: True\n",
      "['2024-11-07' 'CIN' 'BAL']\n",
      "2024-11-07: w_odds:1.16 acct_val: 29.62 usable cash: 26.66 won: False\n",
      "['2024-11-10' 'TEN' 'LAC']\n",
      "2024-11-10: w_odds:1.33 acct_val: 26.66 usable cash: 23.99 won: False\n",
      "['2024-11-14' 'WAS' 'PHI']\n",
      "2024-11-14: w_odds:1.19 acct_val: 23.99 usable cash: 21.59 won: False\n",
      "2024-11-14: w_odds:1.25 acct_val: 21.59 usable cash: 19.43 won: False\n",
      "2024-11-14: w_odds:1.43 acct_val: 19.43 usable cash: 17.49 won: False\n",
      "2024-11-14: w_odds:1.40 acct_val: 17.49 usable cash: 15.74 won: False\n",
      "2024-11-14: w_odds:1.25 acct_val: 15.74 usable cash: 14.17 won: False\n",
      "2024-11-14: w_odds:2.03 acct_val: 14.17 usable cash: 12.75 won: True\n",
      "2024-11-14: w_odds:1.25 acct_val: 15.62 usable cash: 11.19 won: False\n",
      "2024-11-14: w_odds:1.30 acct_val: 14.06 usable cash: 9.78 won: False\n",
      "['2024-11-17' 'LVR' 'MIA']\n",
      "2024-11-17: w_odds:1.43 acct_val: 12.66 usable cash: 11.39 won: False\n",
      "['2024-11-18' 'HOU' 'DAL']\n",
      "2024-11-18: w_odds:1.20 acct_val: 11.39 usable cash: 10.25 won: False\n",
      "2024-11-18: w_odds:1.04 acct_val: 10.25 usable cash: 9.23 won: False\n",
      "2024-11-18: w_odds:1.33 acct_val: 9.23 usable cash: 8.30 won: False\n",
      "2024-11-18: w_odds:1.72 acct_val: 8.30 usable cash: 7.47 won: True\n",
      "2024-11-18: w_odds:1.94 acct_val: 8.91 usable cash: 6.58 won: True\n",
      "2024-11-18: w_odds:1.33 acct_val: 9.74 usable cash: 5.61 won: False\n",
      "2024-11-18: w_odds:1.76 acct_val: 8.77 usable cash: 4.73 won: False\n",
      "2024-11-18: w_odds:1.83 acct_val: 7.89 usable cash: 3.94 won: False\n",
      "['2024-11-24' 'NWE' 'MIA']\n",
      "2024-11-24: w_odds:1.25 acct_val: 7.10 usable cash: 6.39 won: False\n",
      "['2024-11-25' 'BAL' 'LAC']\n",
      "2024-11-25: w_odds:1.20 acct_val: 6.39 usable cash: 5.75 won: False\n",
      "2024-11-25: w_odds:1.33 acct_val: 5.75 usable cash: 5.18 won: False\n",
      "2024-11-25: w_odds:1.33 acct_val: 5.18 usable cash: 4.66 won: True\n",
      "2024-11-25: w_odds:1.94 acct_val: 5.35 usable cash: 4.12 won: False\n",
      "2024-11-25: w_odds:1.36 acct_val: 4.81 usable cash: 3.64 won: False\n",
      "2024-11-25: w_odds:1.25 acct_val: 4.33 usable cash: 3.21 won: False\n",
      "2024-11-25: w_odds:1.09 acct_val: 3.90 usable cash: 2.82 won: False\n",
      "2024-11-25: w_odds:1.58 acct_val: 3.51 usable cash: 2.47 won: False\n",
      "2024-11-25: w_odds:1.58 acct_val: 3.16 usable cash: 2.15 won: False\n",
      "['2024-11-28' 'NYG' 'DAL']\n",
      "2024-11-28: w_odds:1.58 acct_val: 2.84 usable cash: 2.56 won: False\n",
      "['2024-11-29' 'LVR' 'KAN']\n",
      "2024-11-29: w_odds:1.43 acct_val: 2.56 usable cash: 2.30 won: False\n",
      "2024-11-29: w_odds:1.46 acct_val: 2.30 usable cash: 2.07 won: True\n",
      "2024-11-29: w_odds:1.12 acct_val: 2.41 usable cash: 1.83 won: False\n",
      "['2024-12-01' 'IND' 'NWE']\n",
      "2024-12-01: w_odds:1.04 acct_val: 2.17 usable cash: 1.95 won: False\n",
      "['2024-12-02' 'CLE' 'DEN']\n",
      "2024-12-02: w_odds:1.72 acct_val: 1.95 usable cash: 1.76 won: True\n",
      "2024-12-02: w_odds:1.58 acct_val: 2.09 usable cash: 1.55 won: False\n",
      "2024-12-02: w_odds:1.30 acct_val: 1.88 usable cash: 1.36 won: False\n",
      "2024-12-02: w_odds:1.99 acct_val: 1.69 usable cash: 1.19 won: False\n",
      "2024-12-02: w_odds:1.46 acct_val: 1.52 usable cash: 1.04 won: False\n",
      "2024-12-02: w_odds:1.33 acct_val: 1.37 usable cash: 0.90 won: True\n",
      "2024-12-02: w_odds:1.83 acct_val: 1.42 usable cash: 0.76 won: False\n",
      "2024-12-02: w_odds:1.30 acct_val: 1.28 usable cash: 0.63 won: True\n",
      "['2024-12-05' 'GNB' 'DET']\n",
      "2024-12-05: w_odds:1.30 acct_val: 1.31 usable cash: 1.18 won: False\n",
      "['2024-12-08' 'CLE' 'PIT']\n",
      "2024-12-08: w_odds:1.46 acct_val: 1.18 usable cash: 1.06 won: False\n",
      "['2024-12-09' 'CIN' 'DAL']\n",
      "2024-12-09: w_odds:1.33 acct_val: 1.06 usable cash: 0.96 won: False\n",
      "2024-12-09: w_odds:1.30 acct_val: 0.96 usable cash: 0.86 won: False\n",
      "2024-12-09: w_odds:1.40 acct_val: 0.86 usable cash: 0.78 won: False\n",
      "2024-12-09: w_odds:1.58 acct_val: 0.78 usable cash: 0.70 won: False\n",
      "2024-12-09: w_odds:1.30 acct_val: 0.70 usable cash: 0.63 won: False\n",
      "2024-12-09: w_odds:1.36 acct_val: 0.63 usable cash: 0.57 won: False\n",
      "2024-12-09: w_odds:1.02 acct_val: 0.57 usable cash: 0.51 won: False\n",
      "2024-12-09: w_odds:1.33 acct_val: 0.51 usable cash: 0.46 won: False\n",
      "['2024-12-15' 'NWE' 'ARI']\n",
      "2024-12-15: w_odds:1.40 acct_val: 0.46 usable cash: 0.41 won: False\n",
      "['2024-12-16' 'ATL' 'LVR']\n",
      "2024-12-16: w_odds:1.33 acct_val: 0.41 usable cash: 0.38 won: False\n",
      "2024-12-16: w_odds:1.72 acct_val: 0.38 usable cash: 0.35 won: True\n",
      "2024-12-16: w_odds:1.20 acct_val: 0.40 usable cash: 0.31 won: False\n",
      "2024-12-16: w_odds:1.36 acct_val: 0.37 usable cash: 0.28 won: False\n",
      "2024-12-16: w_odds:2.07 acct_val: 0.34 usable cash: 0.25 won: False\n",
      "2024-12-16: w_odds:0.96 acct_val: 0.31 usable cash: 0.23 won: False\n",
      "2024-12-16: w_odds:2.03 acct_val: 0.28 usable cash: 0.21 won: False\n",
      "2024-12-16: w_odds:1.43 acct_val: 0.26 usable cash: 0.18 won: False\n",
      "2024-12-16: w_odds:1.58 acct_val: 0.24 usable cash: 0.16 won: False\n",
      "2024-12-16: w_odds:1.46 acct_val: 0.22 usable cash: 0.15 won: False\n",
      "2024-12-16: w_odds:1.40 acct_val: 0.20 usable cash: 0.13 won: False\n",
      "2024-12-16: w_odds:1.33 acct_val: 0.18 usable cash: 0.11 won: False\n",
      "['2024-12-19' 'DEN' 'LAC']\n",
      "2024-12-19: w_odds:1.33 acct_val: 0.17 usable cash: 0.15 won: False\n",
      "2024-12-19: w_odds:1.25 acct_val: 0.15 usable cash: 0.14 won: False\n",
      "['2024-12-21' 'PIT' 'BAL']\n",
      "2024-12-21: w_odds:1.72 acct_val: 0.14 usable cash: 0.12 won: True\n",
      "['2024-12-22' 'JAX' 'LVR']\n",
      "2024-12-22: w_odds:1.25 acct_val: 0.15 usable cash: 0.13 won: False\n",
      "2024-12-22: w_odds:1.46 acct_val: 0.13 usable cash: 0.12 won: False\n",
      "['2024-12-23' 'NOR' 'GNB']\n",
      "2024-12-23: w_odds:1.72 acct_val: 0.12 usable cash: 0.11 won: False\n",
      "2024-12-23: w_odds:1.43 acct_val: 0.11 usable cash: 0.10 won: True\n",
      "2024-12-23: w_odds:1.02 acct_val: 0.11 usable cash: 0.08 won: False\n",
      "2024-12-23: w_odds:1.12 acct_val: 0.10 usable cash: 0.07 won: False\n",
      "2024-12-23: w_odds:1.99 acct_val: 0.09 usable cash: 0.07 won: False\n",
      "2024-12-23: w_odds:1.25 acct_val: 0.08 usable cash: 0.06 won: False\n",
      "2024-12-23: w_odds:1.16 acct_val: 0.07 usable cash: 0.05 won: False\n",
      "2024-12-23: w_odds:1.72 acct_val: 0.07 usable cash: 0.04 won: False\n",
      "['2024-12-25' 'BAL' 'HOU']\n",
      "2024-12-25: w_odds:1.02 acct_val: 0.06 usable cash: 0.05 won: False\n",
      "['2024-12-26' 'SEA' 'CHI']\n",
      "2024-12-26: w_odds:1.30 acct_val: 0.05 usable cash: 0.05 won: False\n",
      "2024-12-26: w_odds:1.76 acct_val: 0.05 usable cash: 0.04 won: False\n",
      "['2024-12-28' 'DEN' 'CIN']\n",
      "2024-12-28: w_odds:1.40 acct_val: 0.04 usable cash: 0.04 won: False\n",
      "['2024-12-29' 'GNB' 'MIN']\n",
      "2024-12-29: w_odds:1.58 acct_val: 0.04 usable cash: 0.03 won: False\n",
      "2024-12-29: w_odds:1.33 acct_val: 0.03 usable cash: 0.03 won: False\n",
      "['2024-12-30' 'DET' 'SFO']\n",
      "2024-12-30: w_odds:1.83 acct_val: 0.03 usable cash: 0.03 won: False\n",
      "2024-12-30: w_odds:1.20 acct_val: 0.03 usable cash: 0.03 won: False\n",
      "2024-12-30: w_odds:1.79 acct_val: 0.03 usable cash: 0.02 won: False\n",
      "2024-12-30: w_odds:1.83 acct_val: 0.02 usable cash: 0.02 won: True\n",
      "2024-12-30: w_odds:1.58 acct_val: 0.02 usable cash: 0.02 won: False\n",
      "2024-12-30: w_odds:1.46 acct_val: 0.02 usable cash: 0.02 won: False\n",
      "2024-12-30: w_odds:1.12 acct_val: 0.02 usable cash: 0.01 won: False\n",
      "['2025-01-04' 'CLE' 'BAL']\n",
      "2025-01-04: w_odds:1.43 acct_val: 0.02 usable cash: 0.02 won: False\n",
      "['2025-01-05' 'WAS' 'DAL']\n",
      "2025-01-05: w_odds:0.96 acct_val: 0.02 usable cash: 0.01 won: False\n",
      "['2025-01-11' 'LAC' 'HOU']\n",
      "2025-01-11: w_odds:1.25 acct_val: 0.01 usable cash: 0.01 won: False\n",
      "2025-01-11: w_odds:1.08 acct_val: 0.01 usable cash: 0.01 won: False\n",
      "2025-01-11: w_odds:1.58 acct_val: 0.01 usable cash: 0.01 won: False\n",
      "2025-01-11: w_odds:1.58 acct_val: 0.01 usable cash: 0.01 won: False\n",
      "2025-01-11: w_odds:1.38 acct_val: 0.01 usable cash: 0.01 won: False\n",
      "2025-01-11: w_odds:1.25 acct_val: 0.01 usable cash: 0.01 won: False\n",
      "2025-01-11: w_odds:0.99 acct_val: 0.01 usable cash: 0.01 won: False\n",
      "2025-01-11: w_odds:1.76 acct_val: 0.01 usable cash: 0.01 won: True\n",
      "2025-01-11: w_odds:1.72 acct_val: 0.01 usable cash: 0.01 won: False\n",
      "2025-01-11: w_odds:1.46 acct_val: 0.01 usable cash: 0.01 won: False\n",
      "2025-01-11: w_odds:1.20 acct_val: 0.01 usable cash: 0.00 won: False\n",
      "['2025-01-12' 'DEN' 'BUF']\n",
      "2025-01-12: w_odds:2.07 acct_val: 0.01 usable cash: 0.01 won: True\n",
      "['2025-01-13' 'MIN' 'LAR']\n",
      "2025-01-13: w_odds:1.20 acct_val: 0.01 usable cash: 0.01 won: False\n",
      "2025-01-13: w_odds:1.36 acct_val: 0.01 usable cash: 0.01 won: False\n",
      "['2025-01-18' 'HOU' 'KAN']\n",
      "2025-01-18: w_odds:2.07 acct_val: 0.01 usable cash: 0.00 won: True\n",
      "['2025-01-19' 'LAR' 'PHI']\n",
      "2025-01-19: w_odds:1.16 acct_val: 0.01 usable cash: 0.01 won: False\n"
     ]
    },
    {
     "data": {
      "image/png": "[encoded data removed]",
      "text/plain": [
       "<Figure size 1200x600 with 1 Axes>"
      ]
     },
     "metadata": {},
     "output_type": "display_data"
    },
    {
     "data": {
      "text/plain": [
       "{'final_value': 0.005379082512624256,\n",
       " 'roi': -0.9999946209174874,\n",
       " 'win_rate': 0.1437908496732026,\n",
       " 'max_drawdown': 0.9999946209174874,\n",
       " 'total_bets': 153}"
      ]
     },
     "execution_count": 95,
     "metadata": {},
     "output_type": "execute_result"
    }
   ],
   "source": [
    "nfl_utils.backtest_model(model, perf_conts, perf_y_col, perf_date_col, initial_capital=1000, position_size=0.1, \n",
    "                   confidence_threshold=0.0, show_plot=True, max_won_odds=2.2)"
   ]
  },
  {
   "cell_type": "markdown",
   "id": "5109e37c",
   "metadata": {},
   "source": [
    "Value:  0.37491718013436764\n",
    "\n",
    "Params: \n",
    "    first_layer_size: 8\n",
    "    num_layers: 2\n",
    "    n_epochs: 39\n",
    "    dropout: 0.47875406200808335\n",
    "    lr: 0.009997751942238913\n",
    "    \n",
    "\n",
    "\n",
    "Value:  0.3759073484440955\n",
    "Params: \n",
    "    first_layer_size: 8\n",
    "    num_layers: 2\n",
    "    n_epochs: 68\n",
    "    dropout: 0.4497689844977892\n",
    "    lr: 0.007977206154472633\n",
    "    \n",
    "    \n",
    "    \n",
    "12/6\n",
    "\n",
    "Trial 206 finished with value: 0.547218605316966 and parameters: {'criterion': 'MSELoss', 'first_layer_size': 32, 'num_layers': 5, 'confidence_threshold': 0.05966702820817666, 'n_epochs': 379, 'dropout': 0.36961850006275193, 'lr': 0.008649806179332952}. Best is trial 206 with value: 0.547218605316966.\n",
    "\n",
    "[I 2024-12-06 12:49:28,047] Trial 579 finished with value: 0.5335308702482566 and parameters: {'criterion': 'SmoothL1Loss', 'first_layer_size': 16, 'num_layers': 3, 'confidence_threshold': 0.059979796814548306, 'n_epochs': 481, 'dropout': 0.2511747953677191, 'lr': 0.007942836869449217}. Best is trial 579 with value: 0.5335308702482566.\n",
    "\n",
    "\n",
    "[I 2024-12-06 14:53:00,850] Trial 385 finished with value: 0.5547767877242975 and parameters: {'criterion': 'MSELoss', 'first_layer_size': 56, 'num_layers': 6, 'confidence_threshold': 0.003263372268063613, 'n_epochs': 300, 'dropout': 0.3153661030384182, 'lr': 0.00593138298730814}. Best is trial 385 with value: 0.5547767877242975.\n",
    "\n",
    "[I 2024-12-06 15:32:38,969] Trial 583 finished with value: 0.550872165273167 and parameters: {'criterion': 'MSELoss', 'first_layer_size': 56, 'num_layers': 7, 'confidence_threshold': 0.010458110701511005, 'n_epochs': 336, 'dropout': 0.3188974735143638, 'lr': 0.006976522077116529}. Best is trial 385 with value: 0.5547767877242975.\n",
    "\n",
    "[I 2024-12-06 15:55:26,133] Trial 669 finished with value: 0.5645423555160363 and parameters: {'criterion': 'MSELoss', 'first_layer_size': 56, 'num_layers': 7, 'confidence_threshold': 0.0243907527056759, 'n_epochs': 370, 'dropout': 0.32998724447261185, 'lr': 0.0075018456671685696}. Best is trial 669 with value: 0.5645423555160363.\n",
    "\n",
    "[I 2024-12-06 20:33:46,555] Trial 1737 finished with value: 0.5716002919237433 and parameters: {'criterion': 'MSELoss', 'first_layer_size': 56, 'num_layers': 7, 'confidence_threshold': 0.015368961704784596, 'n_epochs': 328, 'dropout': 0.348927921024466, 'lr': 0.009575624984802092}. Best is trial 1737 with value: 0.5716002919237433.\n",
    "\n",
    "\n",
    "[I 2024-12-06 21:17:06,545] Trial 1889 finished with value: 0.5739803740995499 and parameters: {'criterion': 'MSELoss', 'first_layer_size': 56, 'num_layers': 7, 'confidence_threshold': 0.014029751567812504, 'n_epochs': 357, 'dropout': 0.34275064196127053, 'lr': 0.008692336113071646}. Best is trial 1889 with value: 0.5739803740995499.\n",
    "\n",
    "[I 2024-12-10 09:39:54,796] Trial 1612 finished with value: 0.5748324966932515 and parameters: {'criterion': 'MSELoss', 'first_layer_size': 64, 'num_layers': 7, 'confidence_threshold': 0.003855147984840053, 'dropout': 0.3182765851196762, 'lr': 0.008210651343970551, 'n_epochs': 219}. Best is trial 1612 with value: 0.5748324966932515.\n",
    "\n",
    "\n",
    "\n",
    "Trial 1749 finished with value: 0.5772962775717783 and parameters: {'criterion': 'MSELoss', 'first_layer_size': 64, 'num_layers': 7, 'confidence_threshold': 1.8653941637231173e-05, 'dropout': 0.3181431308672629, 'lr': 0.009969598746996452, 'n_epochs': 231}.\n",
    "\n",
    "\n"
   ]
  },
  {
   "cell_type": "code",
   "execution_count": 18,
   "id": "eb328981",
   "metadata": {},
   "outputs": [
    {
     "name": "stdout",
     "output_type": "stream",
     "text": [
      "['2024-02-11' 'SFO' 'KAN']\n",
      "2024-02-11: w_odds:2.89 acct_val: 1000.00 usable cash: 900.00 won: False\n",
      "['2024-10-10' 'SFO' 'SEA']\n",
      "2024-10-10: w_odds:2.03 acct_val: 900.00 usable cash: 810.00 won: False\n",
      "['2024-10-13' 'JAX' 'CHI']\n",
      "2024-10-13: w_odds:1.46 acct_val: 810.00 usable cash: 729.00 won: False\n",
      "['2024-10-14' 'BUF' 'NYJ']\n",
      "2024-10-14: w_odds:1.99 acct_val: 729.00 usable cash: 656.10 won: False\n",
      "2024-10-14: w_odds:1.36 acct_val: 656.10 usable cash: 590.49 won: False\n",
      "2024-10-14: w_odds:1.43 acct_val: 590.49 usable cash: 531.44 won: True\n",
      "2024-10-14: w_odds:1.58 acct_val: 615.80 usable cash: 469.86 won: True\n",
      "2024-10-14: w_odds:1.46 acct_val: 651.67 usable cash: 404.69 won: False\n",
      "2024-10-14: w_odds:1.30 acct_val: 586.50 usable cash: 346.04 won: True\n",
      "2024-10-14: w_odds:1.25 acct_val: 604.00 usable cash: 285.64 won: False\n",
      "2024-10-14: w_odds:1.33 acct_val: 543.60 usable cash: 231.29 won: True\n",
      "['2024-10-17' 'DEN' 'NOR']\n",
      "2024-10-17: w_odds:1.83 acct_val: 561.51 usable cash: 505.36 won: False\n",
      "['2024-10-20' 'PHI' 'NYG']\n",
      "2024-10-20: w_odds:1.58 acct_val: 505.36 usable cash: 454.83 won: False\n",
      "['2024-10-21' 'BAL' 'TAM']\n",
      "2024-10-21: w_odds:1.58 acct_val: 454.83 usable cash: 413.48 won: True\n",
      "2024-10-21: w_odds:1.94 acct_val: 478.91 usable cash: 369.94 won: False\n",
      "2024-10-21: w_odds:1.12 acct_val: 435.37 usable cash: 330.36 won: False\n",
      "2024-10-21: w_odds:2.32 acct_val: 395.79 usable cash: 294.38 won: True\n",
      "2024-10-21: w_odds:1.58 acct_val: 443.42 usable cash: 254.07 won: False\n",
      "2024-10-21: w_odds:1.58 acct_val: 403.11 usable cash: 217.42 won: False\n",
      "2024-10-21: w_odds:1.16 acct_val: 366.46 usable cash: 184.11 won: False\n",
      "2024-10-21: w_odds:1.36 acct_val: 333.15 usable cash: 153.82 won: True\n",
      "2024-10-21: w_odds:2.07 acct_val: 344.12 usable cash: 122.54 won: True\n",
      "2024-10-21: w_odds:1.25 acct_val: 377.70 usable cash: 88.20 won: False\n",
      "2024-10-21: w_odds:2.07 acct_val: 343.36 usable cash: 56.99 won: True\n",
      "['2024-10-24' 'MIN' 'LAR']\n",
      "2024-10-24: w_odds:1.43 acct_val: 376.87 usable cash: 339.18 won: True\n",
      "2024-10-24: w_odds:1.94 acct_val: 393.02 usable cash: 299.88 won: False\n",
      "['2024-10-27' 'CAR' 'DEN']\n",
      "2024-10-27: w_odds:2.32 acct_val: 353.72 usable cash: 318.35 won: False\n",
      "['2024-10-28' 'NYG' 'PIT']\n",
      "2024-10-28: w_odds:1.05 acct_val: 318.35 usable cash: 295.61 won: False\n",
      "2024-10-28: w_odds:1.79 acct_val: 295.61 usable cash: 274.49 won: False\n",
      "2024-10-28: w_odds:1.06 acct_val: 274.49 usable cash: 254.89 won: False\n",
      "2024-10-28: w_odds:1.36 acct_val: 254.89 usable cash: 236.68 won: False\n",
      "2024-10-28: w_odds:1.79 acct_val: 236.68 usable cash: 219.78 won: False\n",
      "2024-10-28: w_odds:4.31 acct_val: 219.78 usable cash: 204.08 won: False\n",
      "2024-10-28: w_odds:1.17 acct_val: 204.08 usable cash: 189.50 won: True\n",
      "2024-10-28: w_odds:1.58 acct_val: 206.59 usable cash: 174.74 won: True\n",
      "2024-10-28: w_odds:2.07 acct_val: 215.18 usable cash: 159.37 won: True\n",
      "2024-10-28: w_odds:2.76 acct_val: 231.68 usable cash: 142.83 won: False\n",
      "2024-10-28: w_odds:1.40 acct_val: 215.13 usable cash: 127.46 won: False\n",
      "2024-10-28: w_odds:3.80 acct_val: 199.76 usable cash: 113.19 won: False\n",
      "2024-10-28: w_odds:1.46 acct_val: 185.49 usable cash: 99.94 won: True\n",
      "2024-10-28: w_odds:1.25 acct_val: 191.61 usable cash: 86.25 won: False\n",
      "['2024-10-31' 'HOU' 'NYJ']\n",
      "2024-10-31: w_odds:1.33 acct_val: 177.93 usable cash: 160.14 won: False\n",
      "['2024-11-03' 'NOR' 'CAR']\n",
      "2024-11-03: w_odds:1.72 acct_val: 160.14 usable cash: 144.12 won: False\n",
      "['2024-11-04' 'TAM' 'KAN']\n",
      "2024-11-04: w_odds:3.80 acct_val: 144.12 usable cash: 131.02 won: False\n",
      "2024-11-04: w_odds:1.76 acct_val: 131.02 usable cash: 119.11 won: True\n",
      "2024-11-04: w_odds:1.72 acct_val: 140.04 usable cash: 106.38 won: False\n",
      "2024-11-04: w_odds:1.58 acct_val: 127.31 usable cash: 94.80 won: False\n",
      "2024-11-04: w_odds:1.43 acct_val: 115.73 usable cash: 84.28 won: True\n",
      "2024-11-04: w_odds:1.33 acct_val: 120.24 usable cash: 73.35 won: False\n",
      "2024-11-04: w_odds:1.20 acct_val: 109.31 usable cash: 63.42 won: False\n",
      "2024-11-04: w_odds:1.16 acct_val: 99.37 usable cash: 54.38 won: False\n",
      "2024-11-04: w_odds:1.33 acct_val: 90.34 usable cash: 46.17 won: False\n",
      "2024-11-04: w_odds:1.20 acct_val: 82.13 usable cash: 38.70 won: False\n",
      "2024-11-04: w_odds:1.79 acct_val: 74.66 usable cash: 31.92 won: False\n",
      "['2024-11-07' 'CIN' 'BAL']\n",
      "2024-11-07: w_odds:1.16 acct_val: 67.87 usable cash: 61.09 won: False\n",
      "['2024-11-10' 'TEN' 'LAC']\n",
      "2024-11-10: w_odds:1.33 acct_val: 61.09 usable cash: 54.98 won: False\n",
      "['2024-11-14' 'WAS' 'PHI']\n",
      "2024-11-14: w_odds:1.19 acct_val: 54.98 usable cash: 49.98 won: False\n",
      "2024-11-14: w_odds:2.64 acct_val: 49.98 usable cash: 45.44 won: False\n",
      "2024-11-14: w_odds:3.22 acct_val: 45.44 usable cash: 41.31 won: False\n",
      "2024-11-14: w_odds:1.25 acct_val: 41.31 usable cash: 37.55 won: True\n",
      "2024-11-14: w_odds:1.43 acct_val: 42.24 usable cash: 33.71 won: True\n",
      "2024-11-14: w_odds:1.40 acct_val: 43.89 usable cash: 29.72 won: True\n",
      "2024-11-14: w_odds:3.42 acct_val: 45.47 usable cash: 25.59 won: True\n",
      "2024-11-14: w_odds:1.25 acct_val: 55.47 usable cash: 20.54 won: False\n",
      "2024-11-14: w_odds:2.03 acct_val: 50.43 usable cash: 15.96 won: False\n",
      "2024-11-14: w_odds:1.25 acct_val: 45.84 usable cash: 11.79 won: True\n",
      "2024-11-14: w_odds:1.30 acct_val: 46.88 usable cash: 7.53 won: False\n",
      "['2024-11-17' 'LVR' 'MIA']\n",
      "2024-11-17: w_odds:1.43 acct_val: 42.62 usable cash: 38.36 won: False\n",
      "['2024-11-18' 'HOU' 'DAL']\n",
      "2024-11-18: w_odds:1.20 acct_val: 38.36 usable cash: 34.87 won: False\n",
      "2024-11-18: w_odds:1.04 acct_val: 34.87 usable cash: 31.70 won: False\n",
      "2024-11-18: w_odds:1.33 acct_val: 31.70 usable cash: 28.82 won: True\n",
      "2024-11-18: w_odds:1.72 acct_val: 32.65 usable cash: 25.85 won: False\n",
      "2024-11-18: w_odds:1.94 acct_val: 29.68 usable cash: 23.15 won: False\n",
      "2024-11-18: w_odds:2.32 acct_val: 26.99 usable cash: 20.70 won: False\n",
      "2024-11-18: w_odds:2.76 acct_val: 24.53 usable cash: 18.47 won: False\n",
      "2024-11-18: w_odds:1.33 acct_val: 22.30 usable cash: 16.44 won: True\n",
      "2024-11-18: w_odds:1.76 acct_val: 22.97 usable cash: 14.35 won: False\n",
      "2024-11-18: w_odds:3.22 acct_val: 20.88 usable cash: 12.46 won: False\n",
      "2024-11-18: w_odds:1.83 acct_val: 18.98 usable cash: 10.73 won: False\n",
      "['2024-11-21' 'PIT' 'CLE']\n",
      "2024-11-21: w_odds:1.25 acct_val: 17.26 usable cash: 15.53 won: True\n",
      "['2024-11-24' 'NWE' 'MIA']\n",
      "2024-11-24: w_odds:2.64 acct_val: 17.69 usable cash: 15.92 won: False\n",
      "['2024-11-25' 'BAL' 'LAC']\n",
      "2024-11-25: w_odds:1.20 acct_val: 15.92 usable cash: 14.47 won: False\n",
      "2024-11-25: w_odds:6.74 acct_val: 14.47 usable cash: 13.16 won: False\n",
      "2024-11-25: w_odds:1.33 acct_val: 13.16 usable cash: 11.96 won: True\n",
      "2024-11-25: w_odds:1.33 acct_val: 13.55 usable cash: 10.73 won: False\n",
      "2024-11-25: w_odds:1.94 acct_val: 12.32 usable cash: 9.61 won: False\n",
      "2024-11-25: w_odds:1.36 acct_val: 11.20 usable cash: 8.59 won: True\n",
      "2024-11-25: w_odds:1.25 acct_val: 11.57 usable cash: 7.54 won: True\n",
      "2024-11-25: w_odds:1.09 acct_val: 11.83 usable cash: 6.46 won: True\n",
      "2024-11-25: w_odds:4.51 acct_val: 11.93 usable cash: 5.38 won: False\n",
      "2024-11-25: w_odds:1.58 acct_val: 10.85 usable cash: 4.39 won: True\n",
      "2024-11-25: w_odds:1.58 acct_val: 11.42 usable cash: 3.35 won: True\n",
      "['2024-11-28' 'NYG' 'DAL']\n",
      "2024-11-28: w_odds:1.58 acct_val: 12.03 usable cash: 10.82 won: False\n",
      "['2024-11-29' 'LVR' 'KAN']\n",
      "2024-11-29: w_odds:1.43 acct_val: 10.82 usable cash: 9.74 won: False\n",
      "2024-11-29: w_odds:1.46 acct_val: 9.74 usable cash: 8.77 won: False\n",
      "2024-11-29: w_odds:1.12 acct_val: 8.77 usable cash: 7.89 won: False\n",
      "['2024-12-01' 'IND' 'NWE']\n",
      "2024-12-01: w_odds:1.04 acct_val: 7.89 usable cash: 7.10 won: False\n",
      "['2024-12-02' 'CLE' 'DEN']\n",
      "2024-12-02: w_odds:1.72 acct_val: 7.10 usable cash: 6.39 won: True\n",
      "2024-12-02: w_odds:1.58 acct_val: 7.62 usable cash: 5.63 won: True\n",
      "2024-12-02: w_odds:1.30 acct_val: 8.06 usable cash: 4.82 won: True\n",
      "2024-12-02: w_odds:1.99 acct_val: 8.30 usable cash: 3.99 won: False\n",
      "2024-12-02: w_odds:1.46 acct_val: 7.47 usable cash: 3.25 won: False\n",
      "2024-12-02: w_odds:1.33 acct_val: 6.72 usable cash: 2.57 won: False\n",
      "2024-12-02: w_odds:1.83 acct_val: 6.05 usable cash: 1.97 won: False\n",
      "2024-12-02: w_odds:2.32 acct_val: 5.45 usable cash: 1.42 won: False\n",
      "2024-12-02: w_odds:1.30 acct_val: 4.90 usable cash: 0.93 won: False\n",
      "2024-12-02: w_odds:2.32 acct_val: 4.41 usable cash: 0.49 won: False\n",
      "['2024-12-05' 'GNB' 'DET']\n",
      "2024-12-05: w_odds:1.30 acct_val: 3.97 usable cash: 3.57 won: False\n",
      "['2024-12-08' 'CLE' 'PIT']\n",
      "2024-12-08: w_odds:1.46 acct_val: 3.57 usable cash: 3.22 won: False\n",
      "['2024-12-09' 'CIN' 'DAL']\n",
      "2024-12-09: w_odds:1.33 acct_val: 3.22 usable cash: 2.89 won: False\n",
      "2024-12-09: w_odds:1.30 acct_val: 2.89 usable cash: 2.60 won: False\n",
      "2024-12-09: w_odds:2.64 acct_val: 2.60 usable cash: 2.34 won: False\n",
      "2024-12-09: w_odds:1.40 acct_val: 2.34 usable cash: 2.11 won: False\n",
      "2024-12-09: w_odds:1.58 acct_val: 2.11 usable cash: 1.90 won: False\n",
      "2024-12-09: w_odds:1.30 acct_val: 1.90 usable cash: 1.71 won: False\n",
      "2024-12-09: w_odds:2.32 acct_val: 1.71 usable cash: 1.54 won: False\n",
      "2024-12-09: w_odds:1.36 acct_val: 1.54 usable cash: 1.38 won: True\n",
      "2024-12-09: w_odds:1.02 acct_val: 1.59 usable cash: 1.22 won: False\n",
      "2024-12-09: w_odds:1.33 acct_val: 1.43 usable cash: 1.08 won: False\n",
      "['2024-12-12' 'LAR' 'SFO']\n",
      "2024-12-12: w_odds:1.40 acct_val: 1.29 usable cash: 1.16 won: True\n",
      "['2024-12-15' 'NWE' 'ARI']\n",
      "2024-12-15: w_odds:2.32 acct_val: 1.34 usable cash: 1.21 won: False\n",
      "['2024-12-16' 'ATL' 'LVR']\n",
      "2024-12-16: w_odds:1.33 acct_val: 1.21 usable cash: 1.11 won: False\n",
      "2024-12-16: w_odds:1.72 acct_val: 1.11 usable cash: 1.03 won: True\n",
      "2024-12-16: w_odds:1.20 acct_val: 1.18 usable cash: 0.94 won: True\n",
      "2024-12-16: w_odds:1.36 acct_val: 1.20 usable cash: 0.85 won: False\n",
      "2024-12-16: w_odds:2.07 acct_val: 1.10 usable cash: 0.76 won: False\n",
      "2024-12-16: w_odds:0.96 acct_val: 1.02 usable cash: 0.68 won: True\n",
      "2024-12-16: w_odds:2.03 acct_val: 1.02 usable cash: 0.61 won: False\n",
      "2024-12-16: w_odds:1.43 acct_val: 0.94 usable cash: 0.53 won: False\n",
      "2024-12-16: w_odds:1.58 acct_val: 0.87 usable cash: 0.47 won: True\n",
      "2024-12-16: w_odds:1.46 acct_val: 0.90 usable cash: 0.40 won: False\n",
      "2024-12-16: w_odds:1.40 acct_val: 0.83 usable cash: 0.33 won: False\n",
      "2024-12-16: w_odds:2.32 acct_val: 0.77 usable cash: 0.27 won: False\n",
      "2024-12-16: w_odds:1.33 acct_val: 0.71 usable cash: 0.22 won: True\n",
      "['2024-12-19' 'DEN' 'LAC']\n",
      "2024-12-19: w_odds:1.33 acct_val: 0.73 usable cash: 0.66 won: True\n",
      "2024-12-19: w_odds:1.25 acct_val: 0.75 usable cash: 0.58 won: False\n",
      "['2024-12-21' 'PIT' 'BAL']\n",
      "2024-12-21: w_odds:1.72 acct_val: 0.68 usable cash: 0.61 won: False\n",
      "['2024-12-22' 'JAX' 'LVR']\n",
      "2024-12-22: w_odds:1.25 acct_val: 0.61 usable cash: 0.55 won: False\n",
      "2024-12-22: w_odds:1.46 acct_val: 0.55 usable cash: 0.49 won: False\n",
      "['2024-12-23' 'NOR' 'GNB']\n",
      "2024-12-23: w_odds:1.72 acct_val: 0.49 usable cash: 0.45 won: False\n",
      "2024-12-23: w_odds:1.43 acct_val: 0.45 usable cash: 0.41 won: False\n",
      "2024-12-23: w_odds:3.04 acct_val: 0.41 usable cash: 0.37 won: False\n",
      "2024-12-23: w_odds:1.02 acct_val: 0.37 usable cash: 0.34 won: False\n",
      "2024-12-23: w_odds:1.12 acct_val: 0.34 usable cash: 0.31 won: False\n",
      "2024-12-23: w_odds:1.99 acct_val: 0.31 usable cash: 0.28 won: False\n",
      "2024-12-23: w_odds:1.25 acct_val: 0.28 usable cash: 0.25 won: True\n",
      "2024-12-23: w_odds:2.76 acct_val: 0.29 usable cash: 0.23 won: False\n",
      "2024-12-23: w_odds:2.89 acct_val: 0.26 usable cash: 0.20 won: False\n",
      "2024-12-23: w_odds:1.16 acct_val: 0.24 usable cash: 0.18 won: False\n",
      "2024-12-23: w_odds:1.72 acct_val: 0.21 usable cash: 0.16 won: True\n",
      "['2024-12-25' 'BAL' 'HOU']\n",
      "2024-12-25: w_odds:1.02 acct_val: 0.23 usable cash: 0.21 won: False\n",
      "['2024-12-26' 'SEA' 'CHI']\n",
      "2024-12-26: w_odds:1.30 acct_val: 0.21 usable cash: 0.19 won: True\n",
      "2024-12-26: w_odds:1.76 acct_val: 0.21 usable cash: 0.16 won: False\n",
      "['2024-12-28' 'DEN' 'CIN']\n",
      "2024-12-28: w_odds:1.40 acct_val: 0.19 usable cash: 0.17 won: False\n",
      "['2024-12-29' 'GNB' 'MIN']\n",
      "2024-12-29: w_odds:1.58 acct_val: 0.17 usable cash: 0.15 won: False\n",
      "2024-12-29: w_odds:1.33 acct_val: 0.15 usable cash: 0.14 won: False\n",
      "['2024-12-30' 'DET' 'SFO']\n",
      "2024-12-30: w_odds:1.83 acct_val: 0.14 usable cash: 0.13 won: False\n",
      "2024-12-30: w_odds:4.31 acct_val: 0.13 usable cash: 0.11 won: False\n",
      "2024-12-30: w_odds:1.20 acct_val: 0.11 usable cash: 0.10 won: False\n",
      "2024-12-30: w_odds:1.79 acct_val: 0.10 usable cash: 0.09 won: False\n",
      "2024-12-30: w_odds:1.83 acct_val: 0.09 usable cash: 0.08 won: False\n",
      "2024-12-30: w_odds:1.58 acct_val: 0.08 usable cash: 0.07 won: False\n",
      "2024-12-30: w_odds:1.46 acct_val: 0.07 usable cash: 0.07 won: False\n",
      "2024-12-30: w_odds:1.12 acct_val: 0.07 usable cash: 0.06 won: False\n",
      "['2025-01-04' 'CLE' 'BAL']\n",
      "2025-01-04: w_odds:1.43 acct_val: 0.06 usable cash: 0.05 won: True\n",
      "['2025-01-05' 'WAS' 'DAL']\n",
      "2025-01-05: w_odds:0.96 acct_val: 0.06 usable cash: 0.06 won: False\n",
      "['2025-01-11' 'LAC' 'HOU']\n",
      "2025-01-11: w_odds:1.25 acct_val: 0.06 usable cash: 0.05 won: True\n",
      "2025-01-11: w_odds:1.08 acct_val: 0.06 usable cash: 0.05 won: False\n",
      "2025-01-11: w_odds:5.75 acct_val: 0.05 usable cash: 0.04 won: False\n",
      "2025-01-11: w_odds:1.58 acct_val: 0.05 usable cash: 0.04 won: False\n",
      "2025-01-11: w_odds:1.58 acct_val: 0.05 usable cash: 0.04 won: False\n",
      "2025-01-11: w_odds:4.51 acct_val: 0.04 usable cash: 0.03 won: False\n",
      "2025-01-11: w_odds:2.64 acct_val: 0.04 usable cash: 0.03 won: False\n",
      "2025-01-11: w_odds:1.38 acct_val: 0.04 usable cash: 0.03 won: False\n",
      "2025-01-11: w_odds:1.25 acct_val: 0.03 usable cash: 0.03 won: True\n",
      "2025-01-11: w_odds:0.99 acct_val: 0.03 usable cash: 0.02 won: False\n",
      "2025-01-11: w_odds:1.76 acct_val: 0.03 usable cash: 0.02 won: False\n",
      "2025-01-11: w_odds:1.72 acct_val: 0.03 usable cash: 0.02 won: False\n",
      "2025-01-11: w_odds:1.46 acct_val: 0.03 usable cash: 0.02 won: False\n",
      "2025-01-11: w_odds:1.20 acct_val: 0.03 usable cash: 0.02 won: True\n",
      "['2025-01-12' 'DEN' 'BUF']\n",
      "2025-01-12: w_odds:2.07 acct_val: 0.03 usable cash: 0.02 won: True\n",
      "['2025-01-13' 'MIN' 'LAR']\n",
      "2025-01-13: w_odds:1.20 acct_val: 0.03 usable cash: 0.03 won: False\n",
      "2025-01-13: w_odds:1.36 acct_val: 0.03 usable cash: 0.02 won: False\n",
      "2025-01-13: w_odds:2.32 acct_val: 0.02 usable cash: 0.02 won: False\n",
      "['2025-01-18' 'HOU' 'KAN']\n",
      "2025-01-18: w_odds:2.07 acct_val: 0.02 usable cash: 0.02 won: False\n",
      "['2025-01-19' 'LAR' 'PHI']\n",
      "2025-01-19: w_odds:1.16 acct_val: 0.02 usable cash: 0.02 won: False\n",
      "2025-01-19: w_odds:4.51 acct_val: 0.02 usable cash: 0.02 won: False\n"
     ]
    },
    {
     "data": {
      "image/png": "[encoded data removed]",
      "text/plain": [
       "<Figure size 1200x600 with 1 Axes>"
      ]
     },
     "metadata": {},
     "output_type": "display_data"
    },
    {
     "data": {
      "text/plain": [
       "{'final_value': 0.015363152411150683,\n",
       " 'roi': -0.9999846368475889,\n",
       " 'win_rate': 0.2620320855614973,\n",
       " 'max_drawdown': 0.9999846368475889,\n",
       " 'total_bets': 187}"
      ]
     },
     "execution_count": 18,
     "metadata": {},
     "output_type": "execute_result"
    }
   ],
   "source": [
    "nfl_utils.backtest_model(pipeline, perf_conts, perf_y_col, perf_date_col, initial_capital=1000, position_size=0.05, confidence_threshold=best_params['confidence_threshold'], show_plot=True)\n"
   ]
  },
  {
   "cell_type": "code",
   "execution_count": 19,
   "id": "5b4e2bce",
   "metadata": {},
   "outputs": [
    {
     "name": "stdout",
     "output_type": "stream",
     "text": [
      "0.25654450261780104\n"
     ]
    }
   ],
   "source": [
    "# Remove outside of confidence threshold\n",
    "mask = (probas < 0.5 - confidence_threshold) | (probas > 0.5 + confidence_threshold)\n",
    "predictions = np.where(mask, probas, np.nan)\n",
    "\n",
    "# Use numpy mask for nan values\n",
    "valid_mask = ~np.isnan(predictions)\n",
    "valid_predictions = predictions[valid_mask]\n",
    "valid_mask = valid_mask.flatten()\n",
    "perf_y_col_mask = perf_y_col[valid_mask]\n",
    "\n",
    "\n",
    "true_values = perf_y_col_mask[:,0].astype(np.int32)\n",
    "pred_values = valid_predictions.flatten()\n",
    "pred_values_int = np.rint(valid_predictions).flatten().astype(np.int32)\n",
    "\n",
    "model_win_prob = (1.0*(true_values == pred_values_int).sum()) / (true_values.shape[0])\n",
    "print(model_win_prob)"
   ]
  },
  {
   "cell_type": "markdown",
   "id": "055d6ca8",
   "metadata": {},
   "source": [
    "# Using XGBoost"
   ]
  },
  {
   "cell_type": "code",
   "execution_count": 20,
   "id": "de68871b",
   "metadata": {},
   "outputs": [
    {
     "data": {
      "text/plain": [
       "(5264, 49)"
      ]
     },
     "execution_count": 20,
     "metadata": {},
     "output_type": "execute_result"
    }
   ],
   "source": [
    "conts_train.shape"
   ]
  },
  {
   "cell_type": "code",
   "execution_count": null,
   "id": "918c222c",
   "metadata": {},
   "outputs": [],
   "source": []
  },
  {
   "cell_type": "code",
   "execution_count": null,
   "id": "dc8524f7",
   "metadata": {
    "scrolled": true
   },
   "outputs": [
    {
     "name": "stdout",
     "output_type": "stream",
     "text": [
      "Fitting 5 folds for each of 144 candidates, totalling 720 fits\n"
     ]
    }
   ],
   "source": [
    "# Fit the model\n",
    "param_grid = {\n",
    "    'learning_rate': [ 0.008, 0.01, 0.03],           # Removed 0.5, 1 as they're often too aggressive\n",
    "    'max_depth': [3, 6, 9],                      # Simplified to 3 values, covering shallow to deep\n",
    "    'n_estimators': [100, 200],                  # Removed extremes, these are most common sweet spots\n",
    "    'subsample': [0.8, 1.0],                     # Removed 0.6 as it might be too aggressive for this dataset size\n",
    "    'colsample_bytree': [0.8, 1.0],              # Same as above\n",
    "    'min_child_weight': [1, 3],                  # Removed 5 as it might be too restrictive\n",
    "}\n",
    "aparam_grid = {\n",
    "    'learning_rate': [0.005, 0.01, 0.05],        # Removed 0.5, 1 as they're often too aggressive\n",
    "    'max_depth': [3],                         # Simplified to 3 values, covering shallow to deep\n",
    "    'n_estimators': [300, 350, 400],             # Removed extremes, these are most common sweet spots\n",
    "    'subsample': [0.5, 0.6, 0.7],                # Removed 0.6 as it might be too aggressive for this dataset size\n",
    "    'colsample_bytree': [0.5, 0.6, 0.7],         # Same as above\n",
    "    'min_child_weight': [3, 4],                  # Removed 5 as it might be too restrictive\n",
    "}\n",
    "\n",
    "# model = XGBClassifier(use_label_encoder=False, eval_metric='logloss')\n",
    "model = XGBRegressor(objective='reg:squarederror')\n",
    "\n",
    "# Create a custom scorer using the F1 score\n",
    "# f1_scorer = make_scorer(f1_score, average='weighted')\n",
    "# Tune hyperparameters using GridSearchCV with the custom F1 scorer\n",
    "# grid_search = GridSearchCV(model, param_grid, scoring=f1_scorer, cv=5, verbose=1)\n",
    "grid_search = GridSearchCV(model, param_grid, scoring='neg_mean_squared_error', cv=5, verbose=1)\n",
    "grid_search.fit(conts_train, y_train)\n"
   ]
  },
  {
   "cell_type": "code",
   "execution_count": null,
   "id": "0acdae5f",
   "metadata": {},
   "outputs": [],
   "source": [
    "print(grid_search.best_params_)"
   ]
  },
  {
   "cell_type": "code",
   "execution_count": null,
   "id": "7ee2ec9d",
   "metadata": {
    "scrolled": true
   },
   "outputs": [],
   "source": [
    "\n",
    "# train final model w/ early stopping\n",
    "model = XGBClassifier(\n",
    "    eval_metric='logloss',\n",
    "    early_stopping_rounds=10,\n",
    "    # **grid_search.best_params_,\n",
    "    # **{'colsample_bytree': 1.0, 'learning_rate': 0.01, 'max_depth': 6, 'min_child_weight': 3, 'n_estimators': 200, 'subsample': 0.8}\n",
    "    # 66.5%, dd 31.4%\n",
    "    # {'colsample_bytree': 0.8, 'learning_rate': 0.01, 'max_depth': 3, 'min_child_weight': 3, 'n_estimators': 200, 'subsample': 0.8}\n",
    "    # 66.5%, dd 30.9%\n",
    "    # {'colsample_bytree': 1.0, 'learning_rate': 0.005, 'max_depth': 5, 'min_child_weight': 3, 'n_estimators': 300, 'subsample': 0.6}\n",
    ")\n",
    "model = XGBRegressor(\n",
    "    objective='reg:squarederror', \n",
    "    # **grid_search.best_params_,\n",
    "    # 67.3 w/ kelly adjustments 0.2, 0.01\n",
    "    # {'colsample_bytree': 0.6, 'learning_rate': 0.01, 'max_depth': 3, 'min_child_weight': 4, 'n_estimators': 350, 'subsample': 0.6}\n",
    "    # 67.2, dd 28.68 kelly 0.25, 0.014\n",
    "    # **{'colsample_bytree': 0.7, 'learning_rate': 0.01, 'max_depth': 3, 'min_child_weight': 3, 'n_estimators': 350, 'subsample': 0.5}\n",
    "    \n",
    "   # **{'colsample_bytree': 0.6, 'learning_rate': 0.01, 'max_depth': 3, 'min_child_weight': 3, 'n_estimators': 300, 'subsample': 0.5}\n",
    "    **{'colsample_bytree': 1.0, 'learning_rate': 0.03, 'max_depth': 3, 'min_child_weight': 3, 'n_estimators': 100, 'subsample': 0.8}\n",
    "\n",
    "\n",
    ")\n",
    "model.fit(\n",
    "    conts_train,\n",
    "    y_train,\n",
    "    eval_set=[(conts_train, y_train)], # , (holdout_conts, holdout_y)\n",
    "    verbose=True\n",
    ")"
   ]
  },
  {
   "cell_type": "code",
   "execution_count": null,
   "id": "0ef6e5d2",
   "metadata": {},
   "outputs": [],
   "source": [
    "# perf_conts.shape\n",
    "perf_y_col.shape\n",
    "perf_y_col[0]"
   ]
  },
  {
   "cell_type": "code",
   "execution_count": null,
   "id": "177675db",
   "metadata": {},
   "outputs": [],
   "source": [
    "# Make predictions for test data\n",
    "# model = grid_search.best_estimator_\n",
    "y_pred = model.predict(perf_conts)\n",
    "\n",
    "nfl_utils.backtest_model(model, perf_conts, perf_y_col, perf_date_col, initial_capital=1000, position_size=0.1, \n",
    "                   confidence_threshold=0.0, show_plot=True, max_won_odds=2.2)"
   ]
  },
  {
   "cell_type": "code",
   "execution_count": null,
   "id": "5fb3d7cf",
   "metadata": {
    "scrolled": true
   },
   "outputs": [],
   "source": [
    "# Make confusion matrix\n",
    "cm = confusion_matrix(perf_y_col[:,0], y_pred)\n",
    "sns.heatmap(cm, annot=True, fmt='d', cmap='Blues')\n",
    "plt.xlabel('Predicted Labels')\n",
    "plt.ylabel('True Labels')\n",
    "plt.title('Confusion Matrix')\n",
    "plt.show()"
   ]
  },
  {
   "cell_type": "markdown",
   "id": "e7025ece",
   "metadata": {},
   "source": [
    "## Save XGBoost model"
   ]
  },
  {
   "cell_type": "code",
   "execution_count": null,
   "id": "50cc9ed2",
   "metadata": {},
   "outputs": [],
   "source": [
    "model.save_model('xgboost_model.bin')"
   ]
  },
  {
   "cell_type": "code",
   "execution_count": null,
   "id": "79e94a74",
   "metadata": {},
   "outputs": [],
   "source": []
  },
  {
   "cell_type": "code",
   "execution_count": null,
   "id": "41d6577d",
   "metadata": {},
   "outputs": [],
   "source": []
  },
  {
   "cell_type": "markdown",
   "id": "a8a1a349",
   "metadata": {},
   "source": []
  },
  {
   "cell_type": "code",
   "execution_count": null,
   "id": "b705bd4b",
   "metadata": {},
   "outputs": [],
   "source": []
  }
 ],
 "metadata": {
  "kernelspec": {
   "display_name": "Python 3 (ipykernel)",
   "language": "python",
   "name": "python3"
  },
  "language_info": {
   "codemirror_mode": {
    "name": "ipython",
    "version": 3
   },
   "file_extension": ".py",
   "mimetype": "text/x-python",
   "name": "python",
   "nbconvert_exporter": "python",
   "pygments_lexer": "ipython3",
   "version": "3.9.21"
  }
 },
 "nbformat": 4,
 "nbformat_minor": 5
}
