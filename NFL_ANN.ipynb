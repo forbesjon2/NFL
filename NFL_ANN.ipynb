{
 "cells": [
  {
   "cell_type": "code",
   "execution_count": 1,
   "id": "70409bb3",
   "metadata": {},
   "outputs": [],
   "source": [
    "import torch\n",
    "import torch.nn as nn\n",
    "from torch.utils.data import DataLoader, TensorDataset\n",
    "import numpy as np\n",
    "import pandas as pd\n",
    "import pickle\n",
    "import math\n",
    "import optuna\n",
    "import matplotlib.pyplot as plt\n",
    "from sklearn.utils import shuffle\n",
    "from sklearn.model_selection import KFold\n",
    "from sklearn import preprocessing\n",
    "from NFLUtils import NFLUtils\n",
    "nfl_utils = NFLUtils()\n",
    "\n",
    "%matplotlib inline\n",
    "\n",
    "# ANN\n",
    "from sklearn.pipeline import Pipeline\n",
    "from sklearn.base import BaseEstimator, ClassifierMixin\n",
    "from sklearn.preprocessing import StandardScaler\n",
    "from sklearn.linear_model import LinearRegression\n",
    "from sklearn.model_selection import cross_val_score\n",
    "from sklearn.metrics import f1_score\n",
    "\n",
    "import logging\n",
    "# Set up logging\n",
    "logging.basicConfig(level=logging.INFO)\n",
    "# Set pandas display option to show all columns\n",
    "pd.set_option('display.max_columns', None)\n",
    "\n",
    "# XGBoost \n",
    "from xgboost import XGBClassifier, XGBRegressor\n",
    "from sklearn.metrics import accuracy_score, confusion_matrix, make_scorer, f1_score\n",
    "from sklearn.model_selection import GridSearchCV, RandomizedSearchCV\n",
    "import seaborn as sns # confusion matrix\n",
    "\n",
    "# Set device to GPU if available \n",
    "device = torch.device('cuda' if torch.cuda.is_available() else 'cpu')"
   ]
  },
  {
   "cell_type": "code",
   "execution_count": 2,
   "id": "556dd56a",
   "metadata": {},
   "outputs": [],
   "source": [
    "def set_all_seeds(seed=42):\n",
    "    np.random.seed(seed)\n",
    "    torch.manual_seed(seed)\n",
    "    torch.cuda.manual_seed_all(seed)\n",
    "    torch.backends.cudnn.deterministic = True\n",
    "    torch.backends.cudnn.benchmark = False"
   ]
  },
  {
   "cell_type": "markdown",
   "id": "ddff2364",
   "metadata": {},
   "source": [
    "### Load CSV & UMAP model\n",
    "cp Combined.csv ~/drive/Notes/ML/Pytorch/footballData/"
   ]
  },
  {
   "cell_type": "code",
   "execution_count": 3,
   "id": "dfebbf64",
   "metadata": {},
   "outputs": [
    {
     "name": "stdout",
     "output_type": "stream",
     "text": [
      "<class 'pandas.core.frame.DataFrame'>\n",
      "RangeIndex: 5464 entries, 0 to 5463\n",
      "Data columns (total 62 columns):\n",
      " #   Column                   Non-Null Count  Dtype  \n",
      "---  ------                   --------------  -----  \n",
      " 0   Unnamed: 0               5464 non-null   int64  \n",
      " 1   Season                   5464 non-null   int64  \n",
      " 2   Date                     5464 non-null   object \n",
      " 3   Home_Team                5464 non-null   object \n",
      " 4   Visitor_Team             5464 non-null   object \n",
      " 5   H_halftime_odds          5464 non-null   float64\n",
      " 6   V_halftime_odds          5464 non-null   float64\n",
      " 7   H_start_odds             5464 non-null   float64\n",
      " 8   V_start_odds             5464 non-null   float64\n",
      " 9   H_Won                    5464 non-null   float64\n",
      " 10  D_First_Downs            5464 non-null   float64\n",
      " 11  D_Rush                   5464 non-null   float64\n",
      " 12  D_Yds                    5464 non-null   float64\n",
      " 13  D_TDs                    5464 non-null   float64\n",
      " 14  D_Att                    5464 non-null   float64\n",
      " 15  D_Sacked                 5464 non-null   float64\n",
      " 16  D_Sacked_Yards           5464 non-null   float64\n",
      " 17  D_Total_Yards            5464 non-null   float64\n",
      " 18  D_Fumbles                5464 non-null   float64\n",
      " 19  D_Turnovers              5464 non-null   float64\n",
      " 20  D_Penalties              5464 non-null   float64\n",
      " 21  D_Fourth_Down_Conv       5464 non-null   float64\n",
      " 22  D_Time_of_Possession     5464 non-null   float64\n",
      " 23  D_passing_att            5464 non-null   float64\n",
      " 24  D_passing_cmp            5464 non-null   float64\n",
      " 25  D_passing_int            5464 non-null   float64\n",
      " 26  D_passing_lng            5464 non-null   float64\n",
      " 27  D_passing_sk             5464 non-null   float64\n",
      " 28  D_passing_td             5464 non-null   float64\n",
      " 29  D_receiving_lng          5464 non-null   float64\n",
      " 30  D_rushing_att            5464 non-null   float64\n",
      " 31  D_rushing_lng            5464 non-null   float64\n",
      " 32  D_rushing_td             5464 non-null   float64\n",
      " 33  D_rushing_yds            5464 non-null   float64\n",
      " 34  D_passing_rushing_td     5464 non-null   float64\n",
      " 35  D_def_interceptions_int  5464 non-null   float64\n",
      " 36  D_def_interceptions_td   5464 non-null   float64\n",
      " 37  D_def_interceptions_yds  5464 non-null   float64\n",
      " 38  D_fumbles_ff             5464 non-null   float64\n",
      " 39  D_fumbles_fr             5464 non-null   float64\n",
      " 40  D_fumbles_td             5464 non-null   float64\n",
      " 41  D_fumbles_yds            5464 non-null   float64\n",
      " 42  D_sk                     5464 non-null   float64\n",
      " 43  D_tackles_ast            5464 non-null   float64\n",
      " 44  D_tackles_comb           5464 non-null   float64\n",
      " 45  D_kick_punt_returns_lng  5464 non-null   float64\n",
      " 46  D_kick_punt_returns_rt   5464 non-null   float64\n",
      " 47  D_kick_punt_returns_yds  5464 non-null   float64\n",
      " 48  D_punting_pnt            5464 non-null   float64\n",
      " 49  D_punting_avg            5464 non-null   float64\n",
      " 50  D_scoring_fga            5464 non-null   float64\n",
      " 51  D_scoring_fgp            5464 non-null   float64\n",
      " 52  D_scoring_xpa            5464 non-null   float64\n",
      " 53  D_scoring_xpp            5464 non-null   float64\n",
      " 54  D_Final                  5464 non-null   float64\n",
      " 55  D_Final_Allowed          5464 non-null   float64\n",
      " 56  D_start_odds             5464 non-null   float64\n",
      " 57  D_halftime_odds          5464 non-null   float64\n",
      " 58  D_datediff               5464 non-null   float64\n",
      " 59  D_pythagorean            5464 non-null   float64\n",
      " 60  kick_punt_umap_dim_1     5264 non-null   float64\n",
      " 61  kick_punt_umap_dim_2     5264 non-null   float64\n",
      "dtypes: float64(57), int64(2), object(3)\n",
      "memory usage: 2.6+ MB\n",
      "df after perf set removed: (5264, 62)\n",
      "performance set size: (200, 62)\n",
      "df after missing odds removed: (5264, 62)\n",
      "df perf after missing odds removed: (191, 62)\n",
      "<class 'umap.umap_.UMAP'>\n"
     ]
    }
   ],
   "source": [
    "# Load CSV\n",
    "df = pd.read_csv(\"./footballData/CombinedSlidingWindow4.csv\", index_col=False, low_memory=False)\n",
    "\n",
    "df.info()\n",
    "\n",
    "# The performance set's size is defined in the SlidingWindowNFL-1 file. When kick_punt_umap_dim_1 (or 2) is blank\n",
    "test_performance_df = df[df['kick_punt_umap_dim_1'].isna()]\n",
    "df = df[df['kick_punt_umap_dim_1'].isna() == False]\n",
    "print(f'df after perf set removed: {df.shape}')\n",
    "print(f'performance set size: {test_performance_df.shape}')\n",
    "\n",
    "# Remove missing odds data (Ignore data with no odds?)\n",
    "test_performance_df = test_performance_df[test_performance_df['D_start_odds'] != 0.0]\n",
    "\n",
    "print(f'df after missing odds removed: {df.shape}')\n",
    "print(f'df perf after missing odds removed: {test_performance_df.shape}')\n",
    "\n",
    "# Load the UMAP\n",
    "filename = \"kick_punt_umap.sav\"\n",
    "umap_model = None\n",
    "try:\n",
    "    with open(filename, 'rb') as file:\n",
    "        umap_model = pickle.load(file)\n",
    "        print(type(umap_model))\n",
    "except EOFError:\n",
    "    print(\"The file is empty or corrupt. Please check its content.\")"
   ]
  },
  {
   "cell_type": "markdown",
   "id": "3e26c9e0",
   "metadata": {},
   "source": [
    "### Remove items w/ missing odds data, apply UMAP to performance set"
   ]
  },
  {
   "cell_type": "code",
   "execution_count": 4,
   "id": "593aec0f",
   "metadata": {},
   "outputs": [
    {
     "name": "stdout",
     "output_type": "stream",
     "text": [
      "(191, 62)\n"
     ]
    },
    {
     "name": "stderr",
     "output_type": "stream",
     "text": [
      "OMP: Info #276: omp_set_nested routine deprecated, please use omp_set_max_active_levels instead.\n"
     ]
    },
    {
     "name": "stdout",
     "output_type": "stream",
     "text": [
      "(191, 2)\n"
     ]
    }
   ],
   "source": [
    "# Remove missing odds data\n",
    "test_performance_df = test_performance_df[test_performance_df['D_start_odds'] != 0.0]\n",
    "print(test_performance_df.shape)\n",
    "\n",
    "# ---- Apply UMAP to performance set ----\n",
    "# Fit standardScaler on the training set\n",
    "umap_columns = [\"D_kick_punt_returns_lng\", \"D_kick_punt_returns_rt\", \"D_kick_punt_returns_yds\"]\n",
    "umap_train_df = df[umap_columns]\n",
    "umap_scaler = StandardScaler().fit(umap_train_df)\n",
    "\n",
    "# Scale the test set\n",
    "scaled_return_game_df = umap_scaler.transform(test_performance_df[umap_columns])\n",
    "\n",
    "if umap_model is None:\n",
    "    print(\"UMAP not correctly loaded FIX NOW\")\n",
    "\n",
    "umap_embedding = umap_model.transform(scaled_return_game_df)\n",
    "print(umap_embedding.shape)\n",
    "\n",
    "# Create the two new columns, drop the 4\n",
    "test_performance_df['kick_punt_umap_dim_1'] = umap_embedding[:,0]\n",
    "test_performance_df['kick_punt_umap_dim_2'] = umap_embedding[:,1]\n",
    "\n",
    "test_performance_df.drop(umap_columns, axis=1, inplace=True)\n",
    "df.drop(umap_columns, axis=1, inplace=True)\n",
    "\n"
   ]
  },
  {
   "cell_type": "code",
   "execution_count": 5,
   "id": "fd9bfcf9-0964-4ed7-8fcb-3512b324b220",
   "metadata": {},
   "outputs": [
    {
     "data": {
      "text/html": [
       "<div>\n",
       "<style scoped>\n",
       "    .dataframe tbody tr th:only-of-type {\n",
       "        vertical-align: middle;\n",
       "    }\n",
       "\n",
       "    .dataframe tbody tr th {\n",
       "        vertical-align: top;\n",
       "    }\n",
       "\n",
       "    .dataframe thead th {\n",
       "        text-align: right;\n",
       "    }\n",
       "</style>\n",
       "<table border=\"1\" class=\"dataframe\">\n",
       "  <thead>\n",
       "    <tr style=\"text-align: right;\">\n",
       "      <th></th>\n",
       "      <th>Unnamed: 0</th>\n",
       "      <th>Season</th>\n",
       "      <th>Date</th>\n",
       "      <th>Home_Team</th>\n",
       "      <th>Visitor_Team</th>\n",
       "      <th>H_halftime_odds</th>\n",
       "      <th>V_halftime_odds</th>\n",
       "      <th>H_start_odds</th>\n",
       "      <th>V_start_odds</th>\n",
       "      <th>H_Won</th>\n",
       "      <th>D_First_Downs</th>\n",
       "      <th>D_Rush</th>\n",
       "      <th>D_Yds</th>\n",
       "      <th>D_TDs</th>\n",
       "      <th>D_Att</th>\n",
       "      <th>D_Sacked</th>\n",
       "      <th>D_Sacked_Yards</th>\n",
       "      <th>D_Total_Yards</th>\n",
       "      <th>D_Fumbles</th>\n",
       "      <th>D_Turnovers</th>\n",
       "      <th>D_Penalties</th>\n",
       "      <th>D_Fourth_Down_Conv</th>\n",
       "      <th>D_Time_of_Possession</th>\n",
       "      <th>D_passing_att</th>\n",
       "      <th>D_passing_cmp</th>\n",
       "      <th>D_passing_int</th>\n",
       "      <th>D_passing_lng</th>\n",
       "      <th>D_passing_sk</th>\n",
       "      <th>D_passing_td</th>\n",
       "      <th>D_receiving_lng</th>\n",
       "      <th>D_rushing_att</th>\n",
       "      <th>D_rushing_lng</th>\n",
       "      <th>D_rushing_td</th>\n",
       "      <th>D_rushing_yds</th>\n",
       "      <th>D_passing_rushing_td</th>\n",
       "      <th>D_def_interceptions_int</th>\n",
       "      <th>D_def_interceptions_td</th>\n",
       "      <th>D_def_interceptions_yds</th>\n",
       "      <th>D_fumbles_ff</th>\n",
       "      <th>D_fumbles_fr</th>\n",
       "      <th>D_fumbles_td</th>\n",
       "      <th>D_fumbles_yds</th>\n",
       "      <th>D_sk</th>\n",
       "      <th>D_tackles_ast</th>\n",
       "      <th>D_tackles_comb</th>\n",
       "      <th>D_punting_pnt</th>\n",
       "      <th>D_punting_avg</th>\n",
       "      <th>D_scoring_fga</th>\n",
       "      <th>D_scoring_fgp</th>\n",
       "      <th>D_scoring_xpa</th>\n",
       "      <th>D_scoring_xpp</th>\n",
       "      <th>D_Final</th>\n",
       "      <th>D_Final_Allowed</th>\n",
       "      <th>D_start_odds</th>\n",
       "      <th>D_halftime_odds</th>\n",
       "      <th>D_datediff</th>\n",
       "      <th>D_pythagorean</th>\n",
       "      <th>kick_punt_umap_dim_1</th>\n",
       "      <th>kick_punt_umap_dim_2</th>\n",
       "    </tr>\n",
       "  </thead>\n",
       "  <tbody>\n",
       "    <tr>\n",
       "      <th>5264</th>\n",
       "      <td>7449</td>\n",
       "      <td>2023</td>\n",
       "      <td>2024-01-21</td>\n",
       "      <td>KAN</td>\n",
       "      <td>BUF</td>\n",
       "      <td>2.386667</td>\n",
       "      <td>1.577778</td>\n",
       "      <td>2.073398</td>\n",
       "      <td>1.724771</td>\n",
       "      <td>1.0</td>\n",
       "      <td>-5.233</td>\n",
       "      <td>17.242</td>\n",
       "      <td>-2.987</td>\n",
       "      <td>-15.709</td>\n",
       "      <td>-96.021</td>\n",
       "      <td>4.730</td>\n",
       "      <td>1.023</td>\n",
       "      <td>-61.716</td>\n",
       "      <td>-0.632</td>\n",
       "      <td>-0.631</td>\n",
       "      <td>0.755</td>\n",
       "      <td>32.122</td>\n",
       "      <td>-5.573</td>\n",
       "      <td>3.233</td>\n",
       "      <td>0.864</td>\n",
       "      <td>-0.456</td>\n",
       "      <td>-1.058</td>\n",
       "      <td>0.125</td>\n",
       "      <td>-0.128</td>\n",
       "      <td>7.821</td>\n",
       "      <td>-11.879</td>\n",
       "      <td>-4.020</td>\n",
       "      <td>-0.786</td>\n",
       "      <td>-32.182</td>\n",
       "      <td>-0.914</td>\n",
       "      <td>-1.455</td>\n",
       "      <td>-0.240</td>\n",
       "      <td>-9.988</td>\n",
       "      <td>0.526</td>\n",
       "      <td>-0.169</td>\n",
       "      <td>0.277</td>\n",
       "      <td>25.995</td>\n",
       "      <td>1.133</td>\n",
       "      <td>-2.529</td>\n",
       "      <td>8.645</td>\n",
       "      <td>0.721</td>\n",
       "      <td>2.949</td>\n",
       "      <td>1.506</td>\n",
       "      <td>0.228</td>\n",
       "      <td>-1.316</td>\n",
       "      <td>-0.013</td>\n",
       "      <td>-5.027</td>\n",
       "      <td>-0.352</td>\n",
       "      <td>0.349</td>\n",
       "      <td>0.809</td>\n",
       "      <td>2.0</td>\n",
       "      <td>-0.073</td>\n",
       "      <td>-1.816091</td>\n",
       "      <td>9.709170</td>\n",
       "    </tr>\n",
       "    <tr>\n",
       "      <th>5265</th>\n",
       "      <td>7444</td>\n",
       "      <td>2023</td>\n",
       "      <td>2024-01-28</td>\n",
       "      <td>DET</td>\n",
       "      <td>SFO</td>\n",
       "      <td>1.263333</td>\n",
       "      <td>3.894444</td>\n",
       "      <td>4.307745</td>\n",
       "      <td>1.203585</td>\n",
       "      <td>0.0</td>\n",
       "      <td>-0.372</td>\n",
       "      <td>-13.742</td>\n",
       "      <td>-0.238</td>\n",
       "      <td>-10.965</td>\n",
       "      <td>8.056</td>\n",
       "      <td>4.363</td>\n",
       "      <td>-1.095</td>\n",
       "      <td>3.401</td>\n",
       "      <td>0.212</td>\n",
       "      <td>-0.425</td>\n",
       "      <td>18.047</td>\n",
       "      <td>29.457</td>\n",
       "      <td>-1.453</td>\n",
       "      <td>3.159</td>\n",
       "      <td>3.515</td>\n",
       "      <td>-0.292</td>\n",
       "      <td>-3.346</td>\n",
       "      <td>-0.426</td>\n",
       "      <td>-0.040</td>\n",
       "      <td>7.841</td>\n",
       "      <td>-1.729</td>\n",
       "      <td>-18.916</td>\n",
       "      <td>0.261</td>\n",
       "      <td>-30.240</td>\n",
       "      <td>0.221</td>\n",
       "      <td>-0.158</td>\n",
       "      <td>-0.085</td>\n",
       "      <td>3.741</td>\n",
       "      <td>0.676</td>\n",
       "      <td>-0.213</td>\n",
       "      <td>0.000</td>\n",
       "      <td>2.740</td>\n",
       "      <td>0.631</td>\n",
       "      <td>-2.386</td>\n",
       "      <td>-1.306</td>\n",
       "      <td>1.009</td>\n",
       "      <td>1.431</td>\n",
       "      <td>-0.111</td>\n",
       "      <td>0.265</td>\n",
       "      <td>-0.153</td>\n",
       "      <td>-0.014</td>\n",
       "      <td>1.441</td>\n",
       "      <td>2.452</td>\n",
       "      <td>3.104</td>\n",
       "      <td>-2.631</td>\n",
       "      <td>-1.0</td>\n",
       "      <td>-0.178</td>\n",
       "      <td>5.034655</td>\n",
       "      <td>6.042508</td>\n",
       "    </tr>\n",
       "    <tr>\n",
       "      <th>5266</th>\n",
       "      <td>7445</td>\n",
       "      <td>2023</td>\n",
       "      <td>2024-01-28</td>\n",
       "      <td>KAN</td>\n",
       "      <td>BAL</td>\n",
       "      <td>1.345556</td>\n",
       "      <td>3.222222</td>\n",
       "      <td>2.885004</td>\n",
       "      <td>1.396731</td>\n",
       "      <td>1.0</td>\n",
       "      <td>0.069</td>\n",
       "      <td>-44.346</td>\n",
       "      <td>-3.191</td>\n",
       "      <td>11.977</td>\n",
       "      <td>21.311</td>\n",
       "      <td>-0.159</td>\n",
       "      <td>-9.885</td>\n",
       "      <td>1.517</td>\n",
       "      <td>-0.661</td>\n",
       "      <td>0.089</td>\n",
       "      <td>2.567</td>\n",
       "      <td>-21.801</td>\n",
       "      <td>1.449</td>\n",
       "      <td>8.621</td>\n",
       "      <td>4.783</td>\n",
       "      <td>0.487</td>\n",
       "      <td>-3.435</td>\n",
       "      <td>-1.162</td>\n",
       "      <td>-1.387</td>\n",
       "      <td>-15.969</td>\n",
       "      <td>-2.393</td>\n",
       "      <td>-16.718</td>\n",
       "      <td>-0.296</td>\n",
       "      <td>-22.318</td>\n",
       "      <td>-1.683</td>\n",
       "      <td>-0.806</td>\n",
       "      <td>-0.011</td>\n",
       "      <td>-13.917</td>\n",
       "      <td>-1.068</td>\n",
       "      <td>-0.167</td>\n",
       "      <td>0.207</td>\n",
       "      <td>15.009</td>\n",
       "      <td>0.170</td>\n",
       "      <td>-10.952</td>\n",
       "      <td>-11.826</td>\n",
       "      <td>-0.849</td>\n",
       "      <td>1.145</td>\n",
       "      <td>1.322</td>\n",
       "      <td>0.107</td>\n",
       "      <td>-1.480</td>\n",
       "      <td>-0.013</td>\n",
       "      <td>-7.266</td>\n",
       "      <td>-2.992</td>\n",
       "      <td>1.488</td>\n",
       "      <td>-1.877</td>\n",
       "      <td>-1.0</td>\n",
       "      <td>-0.126</td>\n",
       "      <td>1.017909</td>\n",
       "      <td>10.463038</td>\n",
       "    </tr>\n",
       "    <tr>\n",
       "      <th>5267</th>\n",
       "      <td>7645</td>\n",
       "      <td>2023</td>\n",
       "      <td>2024-02-11</td>\n",
       "      <td>SFO</td>\n",
       "      <td>KAN</td>\n",
       "      <td>1.301111</td>\n",
       "      <td>3.472222</td>\n",
       "      <td>1.757009</td>\n",
       "      <td>2.028809</td>\n",
       "      <td>0.0</td>\n",
       "      <td>1.647</td>\n",
       "      <td>32.044</td>\n",
       "      <td>4.502</td>\n",
       "      <td>-57.237</td>\n",
       "      <td>-36.737</td>\n",
       "      <td>-1.440</td>\n",
       "      <td>7.760</td>\n",
       "      <td>28.547</td>\n",
       "      <td>-0.720</td>\n",
       "      <td>-0.144</td>\n",
       "      <td>-5.344</td>\n",
       "      <td>-20.965</td>\n",
       "      <td>3.099</td>\n",
       "      <td>1.080</td>\n",
       "      <td>0.941</td>\n",
       "      <td>0.384</td>\n",
       "      <td>8.206</td>\n",
       "      <td>1.219</td>\n",
       "      <td>0.349</td>\n",
       "      <td>8.171</td>\n",
       "      <td>0.820</td>\n",
       "      <td>-5.505</td>\n",
       "      <td>0.875</td>\n",
       "      <td>2.493</td>\n",
       "      <td>1.224</td>\n",
       "      <td>1.109</td>\n",
       "      <td>0.080</td>\n",
       "      <td>14.806</td>\n",
       "      <td>-0.568</td>\n",
       "      <td>-0.790</td>\n",
       "      <td>-0.146</td>\n",
       "      <td>-13.610</td>\n",
       "      <td>0.056</td>\n",
       "      <td>-4.949</td>\n",
       "      <td>-8.703</td>\n",
       "      <td>0.505</td>\n",
       "      <td>-1.003</td>\n",
       "      <td>-1.408</td>\n",
       "      <td>-0.375</td>\n",
       "      <td>1.169</td>\n",
       "      <td>-0.061</td>\n",
       "      <td>2.762</td>\n",
       "      <td>3.159</td>\n",
       "      <td>-0.272</td>\n",
       "      <td>-2.171</td>\n",
       "      <td>0.0</td>\n",
       "      <td>0.104</td>\n",
       "      <td>6.973550</td>\n",
       "      <td>5.255773</td>\n",
       "    </tr>\n",
       "    <tr>\n",
       "      <th>5268</th>\n",
       "      <td>7808</td>\n",
       "      <td>2024</td>\n",
       "      <td>2024-10-10</td>\n",
       "      <td>SFO</td>\n",
       "      <td>SEA</td>\n",
       "      <td>1.056667</td>\n",
       "      <td>9.383333</td>\n",
       "      <td>1.461897</td>\n",
       "      <td>2.642566</td>\n",
       "      <td>1.0</td>\n",
       "      <td>-4.958</td>\n",
       "      <td>6.489</td>\n",
       "      <td>4.651</td>\n",
       "      <td>-22.117</td>\n",
       "      <td>-71.139</td>\n",
       "      <td>-0.714</td>\n",
       "      <td>-4.221</td>\n",
       "      <td>8.161</td>\n",
       "      <td>1.450</td>\n",
       "      <td>-0.186</td>\n",
       "      <td>-24.648</td>\n",
       "      <td>5.888</td>\n",
       "      <td>1.479</td>\n",
       "      <td>-12.781</td>\n",
       "      <td>-10.602</td>\n",
       "      <td>-0.471</td>\n",
       "      <td>-1.445</td>\n",
       "      <td>-0.758</td>\n",
       "      <td>0.452</td>\n",
       "      <td>4.037</td>\n",
       "      <td>9.005</td>\n",
       "      <td>-3.662</td>\n",
       "      <td>-1.432</td>\n",
       "      <td>25.173</td>\n",
       "      <td>-0.980</td>\n",
       "      <td>0.292</td>\n",
       "      <td>0.460</td>\n",
       "      <td>23.952</td>\n",
       "      <td>1.212</td>\n",
       "      <td>1.978</td>\n",
       "      <td>0.000</td>\n",
       "      <td>-0.919</td>\n",
       "      <td>0.842</td>\n",
       "      <td>-0.910</td>\n",
       "      <td>-4.699</td>\n",
       "      <td>-1.600</td>\n",
       "      <td>-0.863</td>\n",
       "      <td>0.947</td>\n",
       "      <td>0.382</td>\n",
       "      <td>0.095</td>\n",
       "      <td>0.000</td>\n",
       "      <td>0.105</td>\n",
       "      <td>-5.610</td>\n",
       "      <td>-1.181</td>\n",
       "      <td>-8.327</td>\n",
       "      <td>0.0</td>\n",
       "      <td>0.026</td>\n",
       "      <td>-2.135451</td>\n",
       "      <td>8.175879</td>\n",
       "    </tr>\n",
       "  </tbody>\n",
       "</table>\n",
       "</div>"
      ],
      "text/plain": [
       "      Unnamed: 0  Season        Date Home_Team Visitor_Team  H_halftime_odds  \\\n",
       "5264        7449    2023  2024-01-21       KAN          BUF         2.386667   \n",
       "5265        7444    2023  2024-01-28       DET          SFO         1.263333   \n",
       "5266        7445    2023  2024-01-28       KAN          BAL         1.345556   \n",
       "5267        7645    2023  2024-02-11       SFO          KAN         1.301111   \n",
       "5268        7808    2024  2024-10-10       SFO          SEA         1.056667   \n",
       "\n",
       "      V_halftime_odds  H_start_odds  V_start_odds  H_Won  D_First_Downs  \\\n",
       "5264         1.577778      2.073398      1.724771    1.0         -5.233   \n",
       "5265         3.894444      4.307745      1.203585    0.0         -0.372   \n",
       "5266         3.222222      2.885004      1.396731    1.0          0.069   \n",
       "5267         3.472222      1.757009      2.028809    0.0          1.647   \n",
       "5268         9.383333      1.461897      2.642566    1.0         -4.958   \n",
       "\n",
       "      D_Rush  D_Yds   D_TDs   D_Att  D_Sacked  D_Sacked_Yards  D_Total_Yards  \\\n",
       "5264  17.242 -2.987 -15.709 -96.021     4.730           1.023        -61.716   \n",
       "5265 -13.742 -0.238 -10.965   8.056     4.363          -1.095          3.401   \n",
       "5266 -44.346 -3.191  11.977  21.311    -0.159          -9.885          1.517   \n",
       "5267  32.044  4.502 -57.237 -36.737    -1.440           7.760         28.547   \n",
       "5268   6.489  4.651 -22.117 -71.139    -0.714          -4.221          8.161   \n",
       "\n",
       "      D_Fumbles  D_Turnovers  D_Penalties  D_Fourth_Down_Conv  \\\n",
       "5264     -0.632       -0.631        0.755              32.122   \n",
       "5265      0.212       -0.425       18.047              29.457   \n",
       "5266     -0.661        0.089        2.567             -21.801   \n",
       "5267     -0.720       -0.144       -5.344             -20.965   \n",
       "5268      1.450       -0.186      -24.648               5.888   \n",
       "\n",
       "      D_Time_of_Possession  D_passing_att  D_passing_cmp  D_passing_int  \\\n",
       "5264                -5.573          3.233          0.864         -0.456   \n",
       "5265                -1.453          3.159          3.515         -0.292   \n",
       "5266                 1.449          8.621          4.783          0.487   \n",
       "5267                 3.099          1.080          0.941          0.384   \n",
       "5268                 1.479        -12.781        -10.602         -0.471   \n",
       "\n",
       "      D_passing_lng  D_passing_sk  D_passing_td  D_receiving_lng  \\\n",
       "5264         -1.058         0.125        -0.128            7.821   \n",
       "5265         -3.346        -0.426        -0.040            7.841   \n",
       "5266         -3.435        -1.162        -1.387          -15.969   \n",
       "5267          8.206         1.219         0.349            8.171   \n",
       "5268         -1.445        -0.758         0.452            4.037   \n",
       "\n",
       "      D_rushing_att  D_rushing_lng  D_rushing_td  D_rushing_yds  \\\n",
       "5264        -11.879         -4.020        -0.786        -32.182   \n",
       "5265         -1.729        -18.916         0.261        -30.240   \n",
       "5266         -2.393        -16.718        -0.296        -22.318   \n",
       "5267          0.820         -5.505         0.875          2.493   \n",
       "5268          9.005         -3.662        -1.432         25.173   \n",
       "\n",
       "      D_passing_rushing_td  D_def_interceptions_int  D_def_interceptions_td  \\\n",
       "5264                -0.914                   -1.455                  -0.240   \n",
       "5265                 0.221                   -0.158                  -0.085   \n",
       "5266                -1.683                   -0.806                  -0.011   \n",
       "5267                 1.224                    1.109                   0.080   \n",
       "5268                -0.980                    0.292                   0.460   \n",
       "\n",
       "      D_def_interceptions_yds  D_fumbles_ff  D_fumbles_fr  D_fumbles_td  \\\n",
       "5264                   -9.988         0.526        -0.169         0.277   \n",
       "5265                    3.741         0.676        -0.213         0.000   \n",
       "5266                  -13.917        -1.068        -0.167         0.207   \n",
       "5267                   14.806        -0.568        -0.790        -0.146   \n",
       "5268                   23.952         1.212         1.978         0.000   \n",
       "\n",
       "      D_fumbles_yds   D_sk  D_tackles_ast  D_tackles_comb  D_punting_pnt  \\\n",
       "5264         25.995  1.133         -2.529           8.645          0.721   \n",
       "5265          2.740  0.631         -2.386          -1.306          1.009   \n",
       "5266         15.009  0.170        -10.952         -11.826         -0.849   \n",
       "5267        -13.610  0.056         -4.949          -8.703          0.505   \n",
       "5268         -0.919  0.842         -0.910          -4.699         -1.600   \n",
       "\n",
       "      D_punting_avg  D_scoring_fga  D_scoring_fgp  D_scoring_xpa  \\\n",
       "5264          2.949          1.506          0.228         -1.316   \n",
       "5265          1.431         -0.111          0.265         -0.153   \n",
       "5266          1.145          1.322          0.107         -1.480   \n",
       "5267         -1.003         -1.408         -0.375          1.169   \n",
       "5268         -0.863          0.947          0.382          0.095   \n",
       "\n",
       "      D_scoring_xpp  D_Final  D_Final_Allowed  D_start_odds  D_halftime_odds  \\\n",
       "5264         -0.013   -5.027           -0.352         0.349            0.809   \n",
       "5265         -0.014    1.441            2.452         3.104           -2.631   \n",
       "5266         -0.013   -7.266           -2.992         1.488           -1.877   \n",
       "5267         -0.061    2.762            3.159        -0.272           -2.171   \n",
       "5268          0.000    0.105           -5.610        -1.181           -8.327   \n",
       "\n",
       "      D_datediff  D_pythagorean  kick_punt_umap_dim_1  kick_punt_umap_dim_2  \n",
       "5264         2.0         -0.073             -1.816091              9.709170  \n",
       "5265        -1.0         -0.178              5.034655              6.042508  \n",
       "5266        -1.0         -0.126              1.017909             10.463038  \n",
       "5267         0.0          0.104              6.973550              5.255773  \n",
       "5268         0.0          0.026             -2.135451              8.175879  "
      ]
     },
     "execution_count": 5,
     "metadata": {},
     "output_type": "execute_result"
    }
   ],
   "source": [
    "test_performance_df[:5]\n",
    "# print(test_performance_df['H_start_odds'][:5])\n",
    "# print(test_performance_df['V_start_odds'][:5])"
   ]
  },
  {
   "cell_type": "markdown",
   "id": "9bcfc250",
   "metadata": {},
   "source": [
    "# Columns to use\n",
    "(TODO)"
   ]
  },
  {
   "cell_type": "markdown",
   "id": "62db79ec",
   "metadata": {},
   "source": [
    "## 1. Separate continuous, categorical, and label column names\n",
    "\n",
    "Pretty much everything is continuous. \n",
    "\n",
    "Note: the y_col is what you're trying to predict\n",
    "\n",
    "## Feature engineering\n",
    "New Columns\n",
    "- **h_win**: Home team won\n"
   ]
  },
  {
   "cell_type": "code",
   "execution_count": 6,
   "id": "1a3960b3",
   "metadata": {
    "scrolled": true
   },
   "outputs": [
    {
     "name": "stdout",
     "output_type": "stream",
     "text": [
      "(5264, 59)\n",
      "(5264, 44)\n",
      "(191, 5)\n",
      "      H_Won  H_start_odds  V_start_odds  H_halftime_odds  V_halftime_odds\n",
      "5459    0.0      1.724771      2.073398              0.0              0.0\n",
      "5460    0.0      4.991514      1.159063              0.0              0.0\n",
      "5461    1.0      4.513858      1.188369              0.0              0.0\n",
      "5462    0.0      3.804017      1.250000              0.0              0.0\n",
      "5463    0.0      1.790476      1.986097              0.0              0.0\n"
     ]
    }
   ],
   "source": [
    "cat_cols = []\n",
    "\n",
    "cont_cols = [col for col in nfl_utils.cont_cols if col not in nfl_utils.drop_cols]\n",
    "\n",
    "\n",
    "y_col = ['H_Won'] # Old\n",
    "y_col = ['H_Won', 'H_start_odds', 'V_start_odds']\n",
    "y_col_perf = ['H_Won', 'H_start_odds', 'V_start_odds', 'H_halftime_odds', 'V_halftime_odds']\n",
    "\n",
    "\n",
    "# create cont_df and y_df from the df\n",
    "print(df.shape)\n",
    "cont_df = df[cont_cols]\n",
    "y_df = df[y_col]\n",
    "\n",
    "# test performance set\n",
    "perf_conts_df = test_performance_df[cont_cols]\n",
    "perf_y_df = test_performance_df[y_col_perf]\n",
    "perf_date_df = test_performance_df[['Date','Home_Team', 'Visitor_Team']]\n",
    "\n",
    "# print(cont_df.dtypes)\n",
    "print(cont_df.shape)\n",
    "print(perf_y_df.shape)\n",
    "print(perf_y_df.tail())\n",
    "# print(perf_conts_df.tail())\n"
   ]
  },
  {
   "cell_type": "code",
   "execution_count": 7,
   "id": "2a936f59-3205-422f-b760-7296518b2739",
   "metadata": {},
   "outputs": [
    {
     "name": "stdout",
     "output_type": "stream",
     "text": [
      "      H_Won  H_start_odds  V_start_odds  H_halftime_odds  V_halftime_odds\n",
      "5264    1.0      2.073398      1.724771         2.386667         1.577778\n",
      "5265    0.0      4.307745      1.203585         1.263333         3.894444\n",
      "5266    1.0      2.885004      1.396731         1.345556         3.222222\n",
      "5267    0.0      1.757009      2.028809         1.301111         3.472222\n",
      "5268    1.0      1.461897      2.642566         1.056667         9.383333\n"
     ]
    },
    {
     "data": {
      "text/html": [
       "<div>\n",
       "<style scoped>\n",
       "    .dataframe tbody tr th:only-of-type {\n",
       "        vertical-align: middle;\n",
       "    }\n",
       "\n",
       "    .dataframe tbody tr th {\n",
       "        vertical-align: top;\n",
       "    }\n",
       "\n",
       "    .dataframe thead th {\n",
       "        text-align: right;\n",
       "    }\n",
       "</style>\n",
       "<table border=\"1\" class=\"dataframe\">\n",
       "  <thead>\n",
       "    <tr style=\"text-align: right;\">\n",
       "      <th></th>\n",
       "      <th>D_First_Downs</th>\n",
       "      <th>D_Rush</th>\n",
       "      <th>D_Yds</th>\n",
       "      <th>D_TDs</th>\n",
       "      <th>D_Att</th>\n",
       "      <th>D_Sacked</th>\n",
       "      <th>D_Sacked_Yards</th>\n",
       "      <th>D_Total_Yards</th>\n",
       "      <th>D_Fumbles</th>\n",
       "      <th>D_Turnovers</th>\n",
       "      <th>D_Penalties</th>\n",
       "      <th>D_Fourth_Down_Conv</th>\n",
       "      <th>D_Time_of_Possession</th>\n",
       "      <th>D_passing_att</th>\n",
       "      <th>D_passing_cmp</th>\n",
       "      <th>D_passing_int</th>\n",
       "      <th>D_passing_lng</th>\n",
       "      <th>D_passing_sk</th>\n",
       "      <th>D_passing_td</th>\n",
       "      <th>D_receiving_lng</th>\n",
       "      <th>D_rushing_att</th>\n",
       "      <th>D_rushing_lng</th>\n",
       "      <th>D_rushing_td</th>\n",
       "      <th>D_rushing_yds</th>\n",
       "      <th>D_def_interceptions_int</th>\n",
       "      <th>D_def_interceptions_td</th>\n",
       "      <th>D_def_interceptions_yds</th>\n",
       "      <th>D_fumbles_ff</th>\n",
       "      <th>D_fumbles_fr</th>\n",
       "      <th>D_fumbles_td</th>\n",
       "      <th>D_fumbles_yds</th>\n",
       "      <th>D_sk</th>\n",
       "      <th>D_tackles_ast</th>\n",
       "      <th>D_tackles_comb</th>\n",
       "      <th>kick_punt_umap_dim_1</th>\n",
       "      <th>kick_punt_umap_dim_2</th>\n",
       "      <th>D_punting_pnt</th>\n",
       "      <th>D_punting_avg</th>\n",
       "      <th>D_scoring_fga</th>\n",
       "      <th>D_scoring_fgp</th>\n",
       "      <th>D_scoring_xpa</th>\n",
       "      <th>D_scoring_xpp</th>\n",
       "      <th>D_pythagorean</th>\n",
       "      <th>D_start_odds</th>\n",
       "    </tr>\n",
       "  </thead>\n",
       "  <tbody>\n",
       "    <tr>\n",
       "      <th>0</th>\n",
       "      <td>2.458</td>\n",
       "      <td>12.544</td>\n",
       "      <td>-5.783</td>\n",
       "      <td>19.893</td>\n",
       "      <td>23.800</td>\n",
       "      <td>0.823</td>\n",
       "      <td>-3.716</td>\n",
       "      <td>130.102</td>\n",
       "      <td>-0.168</td>\n",
       "      <td>-1.247</td>\n",
       "      <td>24.166</td>\n",
       "      <td>35.846</td>\n",
       "      <td>-1.623</td>\n",
       "      <td>16.687</td>\n",
       "      <td>8.510</td>\n",
       "      <td>-1.188</td>\n",
       "      <td>30.763</td>\n",
       "      <td>-1.752</td>\n",
       "      <td>1.528</td>\n",
       "      <td>31.876</td>\n",
       "      <td>-6.806</td>\n",
       "      <td>24.304</td>\n",
       "      <td>-0.135</td>\n",
       "      <td>-9.370</td>\n",
       "      <td>0.123</td>\n",
       "      <td>0.276</td>\n",
       "      <td>9.709</td>\n",
       "      <td>0.0</td>\n",
       "      <td>-0.739</td>\n",
       "      <td>0.000</td>\n",
       "      <td>-5.688</td>\n",
       "      <td>0.142</td>\n",
       "      <td>0.0</td>\n",
       "      <td>0.0</td>\n",
       "      <td>6.173783</td>\n",
       "      <td>9.196926</td>\n",
       "      <td>0.463</td>\n",
       "      <td>-0.274</td>\n",
       "      <td>0.755</td>\n",
       "      <td>-0.058</td>\n",
       "      <td>1.813</td>\n",
       "      <td>0.384</td>\n",
       "      <td>0.114</td>\n",
       "      <td>1.181</td>\n",
       "    </tr>\n",
       "    <tr>\n",
       "      <th>1</th>\n",
       "      <td>-2.785</td>\n",
       "      <td>-50.035</td>\n",
       "      <td>-19.715</td>\n",
       "      <td>112.129</td>\n",
       "      <td>146.006</td>\n",
       "      <td>-5.386</td>\n",
       "      <td>-1.774</td>\n",
       "      <td>-38.771</td>\n",
       "      <td>0.222</td>\n",
       "      <td>0.963</td>\n",
       "      <td>-5.829</td>\n",
       "      <td>15.574</td>\n",
       "      <td>-4.341</td>\n",
       "      <td>-2.395</td>\n",
       "      <td>0.881</td>\n",
       "      <td>1.251</td>\n",
       "      <td>21.204</td>\n",
       "      <td>1.686</td>\n",
       "      <td>0.916</td>\n",
       "      <td>11.753</td>\n",
       "      <td>-12.632</td>\n",
       "      <td>-16.871</td>\n",
       "      <td>-1.835</td>\n",
       "      <td>-70.724</td>\n",
       "      <td>-0.679</td>\n",
       "      <td>0.000</td>\n",
       "      <td>2.274</td>\n",
       "      <td>0.0</td>\n",
       "      <td>1.242</td>\n",
       "      <td>-0.144</td>\n",
       "      <td>-10.722</td>\n",
       "      <td>-0.989</td>\n",
       "      <td>0.0</td>\n",
       "      <td>0.0</td>\n",
       "      <td>10.883607</td>\n",
       "      <td>12.892086</td>\n",
       "      <td>-0.914</td>\n",
       "      <td>5.188</td>\n",
       "      <td>1.672</td>\n",
       "      <td>-0.036</td>\n",
       "      <td>-1.504</td>\n",
       "      <td>0.180</td>\n",
       "      <td>-0.063</td>\n",
       "      <td>1.330</td>\n",
       "    </tr>\n",
       "    <tr>\n",
       "      <th>2</th>\n",
       "      <td>2.375</td>\n",
       "      <td>-10.388</td>\n",
       "      <td>-6.223</td>\n",
       "      <td>48.076</td>\n",
       "      <td>75.847</td>\n",
       "      <td>-4.661</td>\n",
       "      <td>-6.933</td>\n",
       "      <td>66.426</td>\n",
       "      <td>-0.755</td>\n",
       "      <td>-1.166</td>\n",
       "      <td>-17.059</td>\n",
       "      <td>15.574</td>\n",
       "      <td>-2.231</td>\n",
       "      <td>0.097</td>\n",
       "      <td>-0.543</td>\n",
       "      <td>-0.400</td>\n",
       "      <td>5.771</td>\n",
       "      <td>-2.320</td>\n",
       "      <td>0.162</td>\n",
       "      <td>24.184</td>\n",
       "      <td>-2.963</td>\n",
       "      <td>9.643</td>\n",
       "      <td>-0.313</td>\n",
       "      <td>-2.937</td>\n",
       "      <td>-0.907</td>\n",
       "      <td>-0.144</td>\n",
       "      <td>-8.833</td>\n",
       "      <td>0.0</td>\n",
       "      <td>-0.042</td>\n",
       "      <td>-0.400</td>\n",
       "      <td>-18.496</td>\n",
       "      <td>-0.106</td>\n",
       "      <td>0.0</td>\n",
       "      <td>0.0</td>\n",
       "      <td>2.963156</td>\n",
       "      <td>2.741191</td>\n",
       "      <td>-1.234</td>\n",
       "      <td>-3.694</td>\n",
       "      <td>0.865</td>\n",
       "      <td>0.166</td>\n",
       "      <td>-0.695</td>\n",
       "      <td>-0.409</td>\n",
       "      <td>0.179</td>\n",
       "      <td>0.741</td>\n",
       "    </tr>\n",
       "    <tr>\n",
       "      <th>3</th>\n",
       "      <td>7.449</td>\n",
       "      <td>-12.747</td>\n",
       "      <td>0.834</td>\n",
       "      <td>-15.864</td>\n",
       "      <td>45.930</td>\n",
       "      <td>-1.158</td>\n",
       "      <td>-14.354</td>\n",
       "      <td>154.068</td>\n",
       "      <td>0.556</td>\n",
       "      <td>3.718</td>\n",
       "      <td>-14.652</td>\n",
       "      <td>51.436</td>\n",
       "      <td>5.712</td>\n",
       "      <td>14.515</td>\n",
       "      <td>11.494</td>\n",
       "      <td>3.382</td>\n",
       "      <td>22.413</td>\n",
       "      <td>-3.191</td>\n",
       "      <td>-0.283</td>\n",
       "      <td>53.642</td>\n",
       "      <td>0.534</td>\n",
       "      <td>-7.527</td>\n",
       "      <td>1.139</td>\n",
       "      <td>-10.679</td>\n",
       "      <td>0.709</td>\n",
       "      <td>0.165</td>\n",
       "      <td>9.294</td>\n",
       "      <td>0.0</td>\n",
       "      <td>0.783</td>\n",
       "      <td>0.000</td>\n",
       "      <td>0.662</td>\n",
       "      <td>0.915</td>\n",
       "      <td>0.0</td>\n",
       "      <td>0.0</td>\n",
       "      <td>7.347951</td>\n",
       "      <td>9.682181</td>\n",
       "      <td>-4.908</td>\n",
       "      <td>-3.930</td>\n",
       "      <td>2.026</td>\n",
       "      <td>0.253</td>\n",
       "      <td>-0.192</td>\n",
       "      <td>-0.244</td>\n",
       "      <td>0.248</td>\n",
       "      <td>-5.646</td>\n",
       "    </tr>\n",
       "    <tr>\n",
       "      <th>4</th>\n",
       "      <td>3.060</td>\n",
       "      <td>-10.761</td>\n",
       "      <td>11.879</td>\n",
       "      <td>-13.824</td>\n",
       "      <td>-99.121</td>\n",
       "      <td>-2.287</td>\n",
       "      <td>1.223</td>\n",
       "      <td>0.313</td>\n",
       "      <td>0.597</td>\n",
       "      <td>0.036</td>\n",
       "      <td>16.379</td>\n",
       "      <td>11.556</td>\n",
       "      <td>1.515</td>\n",
       "      <td>-6.552</td>\n",
       "      <td>-7.106</td>\n",
       "      <td>-0.220</td>\n",
       "      <td>-6.811</td>\n",
       "      <td>0.196</td>\n",
       "      <td>-1.366</td>\n",
       "      <td>-39.378</td>\n",
       "      <td>8.608</td>\n",
       "      <td>-6.437</td>\n",
       "      <td>0.775</td>\n",
       "      <td>35.113</td>\n",
       "      <td>-0.089</td>\n",
       "      <td>-0.240</td>\n",
       "      <td>-19.492</td>\n",
       "      <td>0.0</td>\n",
       "      <td>-0.986</td>\n",
       "      <td>0.276</td>\n",
       "      <td>2.467</td>\n",
       "      <td>-0.431</td>\n",
       "      <td>0.0</td>\n",
       "      <td>0.0</td>\n",
       "      <td>2.351245</td>\n",
       "      <td>3.517297</td>\n",
       "      <td>-1.102</td>\n",
       "      <td>-4.524</td>\n",
       "      <td>-0.890</td>\n",
       "      <td>0.055</td>\n",
       "      <td>-0.256</td>\n",
       "      <td>0.000</td>\n",
       "      <td>0.007</td>\n",
       "      <td>1.181</td>\n",
       "    </tr>\n",
       "  </tbody>\n",
       "</table>\n",
       "</div>"
      ],
      "text/plain": [
       "   D_First_Downs  D_Rush   D_Yds    D_TDs    D_Att  D_Sacked  D_Sacked_Yards  \\\n",
       "0          2.458  12.544  -5.783   19.893   23.800     0.823          -3.716   \n",
       "1         -2.785 -50.035 -19.715  112.129  146.006    -5.386          -1.774   \n",
       "2          2.375 -10.388  -6.223   48.076   75.847    -4.661          -6.933   \n",
       "3          7.449 -12.747   0.834  -15.864   45.930    -1.158         -14.354   \n",
       "4          3.060 -10.761  11.879  -13.824  -99.121    -2.287           1.223   \n",
       "\n",
       "   D_Total_Yards  D_Fumbles  D_Turnovers  D_Penalties  D_Fourth_Down_Conv  \\\n",
       "0        130.102     -0.168       -1.247       24.166              35.846   \n",
       "1        -38.771      0.222        0.963       -5.829              15.574   \n",
       "2         66.426     -0.755       -1.166      -17.059              15.574   \n",
       "3        154.068      0.556        3.718      -14.652              51.436   \n",
       "4          0.313      0.597        0.036       16.379              11.556   \n",
       "\n",
       "   D_Time_of_Possession  D_passing_att  D_passing_cmp  D_passing_int  \\\n",
       "0                -1.623         16.687          8.510         -1.188   \n",
       "1                -4.341         -2.395          0.881          1.251   \n",
       "2                -2.231          0.097         -0.543         -0.400   \n",
       "3                 5.712         14.515         11.494          3.382   \n",
       "4                 1.515         -6.552         -7.106         -0.220   \n",
       "\n",
       "   D_passing_lng  D_passing_sk  D_passing_td  D_receiving_lng  D_rushing_att  \\\n",
       "0         30.763        -1.752         1.528           31.876         -6.806   \n",
       "1         21.204         1.686         0.916           11.753        -12.632   \n",
       "2          5.771        -2.320         0.162           24.184         -2.963   \n",
       "3         22.413        -3.191        -0.283           53.642          0.534   \n",
       "4         -6.811         0.196        -1.366          -39.378          8.608   \n",
       "\n",
       "   D_rushing_lng  D_rushing_td  D_rushing_yds  D_def_interceptions_int  \\\n",
       "0         24.304        -0.135         -9.370                    0.123   \n",
       "1        -16.871        -1.835        -70.724                   -0.679   \n",
       "2          9.643        -0.313         -2.937                   -0.907   \n",
       "3         -7.527         1.139        -10.679                    0.709   \n",
       "4         -6.437         0.775         35.113                   -0.089   \n",
       "\n",
       "   D_def_interceptions_td  D_def_interceptions_yds  D_fumbles_ff  \\\n",
       "0                   0.276                    9.709           0.0   \n",
       "1                   0.000                    2.274           0.0   \n",
       "2                  -0.144                   -8.833           0.0   \n",
       "3                   0.165                    9.294           0.0   \n",
       "4                  -0.240                  -19.492           0.0   \n",
       "\n",
       "   D_fumbles_fr  D_fumbles_td  D_fumbles_yds   D_sk  D_tackles_ast  \\\n",
       "0        -0.739         0.000         -5.688  0.142            0.0   \n",
       "1         1.242        -0.144        -10.722 -0.989            0.0   \n",
       "2        -0.042        -0.400        -18.496 -0.106            0.0   \n",
       "3         0.783         0.000          0.662  0.915            0.0   \n",
       "4        -0.986         0.276          2.467 -0.431            0.0   \n",
       "\n",
       "   D_tackles_comb  kick_punt_umap_dim_1  kick_punt_umap_dim_2  D_punting_pnt  \\\n",
       "0             0.0              6.173783              9.196926          0.463   \n",
       "1             0.0             10.883607             12.892086         -0.914   \n",
       "2             0.0              2.963156              2.741191         -1.234   \n",
       "3             0.0              7.347951              9.682181         -4.908   \n",
       "4             0.0              2.351245              3.517297         -1.102   \n",
       "\n",
       "   D_punting_avg  D_scoring_fga  D_scoring_fgp  D_scoring_xpa  D_scoring_xpp  \\\n",
       "0         -0.274          0.755         -0.058          1.813          0.384   \n",
       "1          5.188          1.672         -0.036         -1.504          0.180   \n",
       "2         -3.694          0.865          0.166         -0.695         -0.409   \n",
       "3         -3.930          2.026          0.253         -0.192         -0.244   \n",
       "4         -4.524         -0.890          0.055         -0.256          0.000   \n",
       "\n",
       "   D_pythagorean  D_start_odds  \n",
       "0          0.114         1.181  \n",
       "1         -0.063         1.330  \n",
       "2          0.179         0.741  \n",
       "3          0.248        -5.646  \n",
       "4          0.007         1.181  "
      ]
     },
     "execution_count": 7,
     "metadata": {},
     "output_type": "execute_result"
    }
   ],
   "source": [
    "print(perf_y_df[:5])\n",
    "cont_df[:5]"
   ]
  },
  {
   "cell_type": "markdown",
   "id": "05613417",
   "metadata": {},
   "source": [
    "#### 1a. Normalize cont_df\n",
    "StandardScaler is instead used by the pipeline"
   ]
  },
  {
   "cell_type": "code",
   "execution_count": 8,
   "id": "a7e76a89",
   "metadata": {},
   "outputs": [],
   "source": [
    "# min_max_scaler = preprocessing.MinMaxScaler()\n",
    "# cont_scaled = min_max_scaler.fit_transform(cont_df.values)\n",
    "# cont_df = pd.DataFrame(cont_scaled)\n",
    "# cont_df.head()\n",
    "\n",
    "# # test performance set\n",
    "# perf_conts_df_scaled = min_max_scaler.fit_transform(perf_conts_df.values)\n",
    "# perf_conts_df = pd.DataFrame(perf_conts_df_scaled)"
   ]
  },
  {
   "cell_type": "markdown",
   "id": "1b1912ae",
   "metadata": {},
   "source": [
    "### 3. Create an array of continuous values\n",
    "Numpy array 'conts' containing stack of each continuous column"
   ]
  },
  {
   "cell_type": "code",
   "execution_count": 9,
   "id": "72c326ab",
   "metadata": {},
   "outputs": [],
   "source": [
    "conts = np.stack([cont_df[col].values for col in list(cont_df.columns)], 1)\n",
    "conts[:5]\n",
    "\n",
    "y_col = np.stack([y_df[col].values for col in y_col], 1)\n",
    "\n",
    "# test performance set\n",
    "perf_conts = np.stack([perf_conts_df[col].values for col in list(perf_conts_df.columns)], 1)\n",
    "perf_y_col = np.stack([perf_y_df[col].values for col in list(perf_y_df.columns)], 1)\n",
    "perf_date_col = np.stack([perf_date_df[col].values for col in list(perf_date_df.columns)], 1)\n",
    "\n",
    "\n",
    "conts_train = conts\n",
    "y_train = y_col"
   ]
  },
  {
   "cell_type": "markdown",
   "id": "02a2547a",
   "metadata": {},
   "source": [
    "### 4. Convert conts to tensor"
   ]
  },
  {
   "cell_type": "code",
   "execution_count": 10,
   "id": "7b7db899",
   "metadata": {},
   "outputs": [
    {
     "name": "stdout",
     "output_type": "stream",
     "text": [
      "(5264, 44)\n",
      "(5264, 3)\n"
     ]
    }
   ],
   "source": [
    "print(conts.shape)\n",
    "print(y_col.shape)"
   ]
  },
  {
   "cell_type": "code",
   "execution_count": 11,
   "id": "42ac789a",
   "metadata": {},
   "outputs": [],
   "source": [
    "# Handled by model.fit()\n",
    "# conts = torch.tensor(conts, dtype=torch.float32)\n",
    "# y_col = torch.tensor(y_col, dtype=torch.float32)"
   ]
  },
  {
   "cell_type": "code",
   "execution_count": 12,
   "id": "cb278a38-cb66-41d3-9652-85996190807f",
   "metadata": {},
   "outputs": [],
   "source": [
    "\"\"\"\n",
    "Want: \n",
    "    An array > 1 elements for PCC formula\n",
    "    A smaller array for kelly_criterion\n",
    "    \n",
    "\n",
    "\n",
    "x: 1d array of predictions between -1 and 1 where negative number means visitor predicted to win\n",
    "y: ['H_Won', 'H_start_odds', 'V_start_odds']\n",
    "pearson_multiplier: constant to multiply the pearson correlation coefficient's result by\n",
    "max_bet_size: Amount to multiply to kelly criterion\n",
    "\"\"\"\n",
    "def nfl_custom_criterion(x, y, pearson_multiplier=0.5, max_bet_size=100):\n",
    "    # ------------------------------------------------\n",
    "    # Preliminary calculations\n",
    "    # ------------------------------------------------\n",
    "    h_start_odds = y[:,1]\n",
    "    v_start_odds = y[:,2]\n",
    "    h_won = y[:,0]\n",
    "    y_decimal_odds = torch.where(x > 0, h_start_odds, v_start_odds) # Predicted vs actual odds (regardless of correct prediction)\n",
    "    y_prob = 1 / y_decimal_odds                  # Probability (regardless of correct prediction)\n",
    "    x_H_Won = torch.round(torch.sigmoid(20 * x)) # Sigmoid so that it's differentiable. The 20 is arbitrarily large number\n",
    "    y_correct_prediction = torch.abs((x_H_Won - h_won))        # 1 if wrong bet, otherwise 0. Used to reset kelly when wrong\n",
    "    y_correct_prediction_mult_two = 2 * y_correct_prediction   # 2 if wrong bet, 0 if correct\n",
    "    x = torch.abs(x)\n",
    "\n",
    "    \n",
    "    # ------------------------------------------------\n",
    "    # 1. Calculate the Pearson Correlation Coefficient\n",
    "    # ------------------------------------------------\n",
    "    n = x.size(0)\n",
    "    sum_x = torch.sum(x)\n",
    "    sum_x_squared = torch.sum(x**2)\n",
    "    sum_y = torch.sum(y_prob)\n",
    "    sum_y_squared = torch.sum(y_prob**2)\n",
    "    sum_pow_x = torch.sum(x**2)\n",
    "    sum_pow_y = torch.sum(y_prob**2)\n",
    "    x_mul_y = torch.mul(x, y_prob)\n",
    "    sum_x_mul_y = torch.sum(x_mul_y)\n",
    "\n",
    "    \n",
    "    # PCC Formula (eps to avoid NaN)\n",
    "    eps = 1e-8\n",
    "    pcc_numerator = n * sum_x_mul_y - sum_x * sum_y\n",
    "    pcc_denominator_one = torch.sqrt(n * sum_pow_x - sum_x_squared + eps)\n",
    "    pcc_denominator_two = torch.sqrt(n * sum_pow_y - sum_y_squared + eps)\n",
    "    pcc = pcc_numerator / (pcc_denominator_one * pcc_denominator_two + eps)\n",
    "    pcc = pearson_multiplier * torch.abs(pcc)\n",
    "\n",
    "    \n",
    "    # ------------------------------------------------\n",
    "    # 2. Calculate the kelly criterion\n",
    "    #    Entirely wrong predictions are negated and kept in \"incorrect_bets\" (pcc not applied to wrong predictions)\n",
    "    #    Correct predictions are kept in \"correct_bets\". Pcc is applied to this & stored in pcc_adjusted_correct_bets\n",
    "    #    Possible issue: This always bets max_bet_size\n",
    "    #    The result is cumulatively calculated. i.e. The sum of the previous values are used to calculate the next one\n",
    "    # ------------------------------------------------\n",
    "    kelly_criterion = x - ((1 - x) / y_decimal_odds)\n",
    "    bet_multiplier = torch.clamp(kelly_criterion, min=0)   # Kelly results that are negative are ignored\n",
    "    bet_unadjusted_profit = bet_multiplier*max_bet_size    # Assumes all bets were correct\n",
    "\n",
    "    correct_bets = bet_unadjusted_profit - (bet_unadjusted_profit * y_correct_prediction)   # All correct bets after kelly, profit or 0.\n",
    "    pcc_adjusted_correct_bets = correct_bets * (1 - pcc)                                    # \"correct_bets\" penalized by pcc\n",
    "    incorrect_bets = bet_unadjusted_profit - (bet_unadjusted_profit * y_correct_prediction_mult_two) # Negative numbers are incorrect bets\n",
    "    incorrect_bets = torch.clamp(incorrect_bets, max=0)  # Restrict to 0 or negative.\n",
    "    combined_bets = correct_bets + incorrect_bets        # Profit\n",
    "\n",
    "\n",
    "    # ------------------------------------------------\n",
    "    # Combine & Return\n",
    "    #     Negate everything for Adam & optuna\n",
    "    # ------------------------------------------------\n",
    "    return -torch.cumsum(combined_bets, dim=0)[-1]"
   ]
  },
  {
   "cell_type": "code",
   "execution_count": 13,
   "id": "9875b494",
   "metadata": {
    "scrolled": true
   },
   "outputs": [],
   "source": [
    "class TabularModelUpdated(nn.Module, BaseEstimator, ClassifierMixin):\n",
    "    def __init__(self, n_cont, out_sz, layer_shape, p=0.5, # criterion=nn.MSELoss(),\n",
    "                optimizer_class=torch.optim.Adam, lr=0.001, confidence_threshold=0.1,\n",
    "                batch_size=1000):\n",
    "        super().__init__()\n",
    "        # Model architecture params\n",
    "        self.layer_shape = layer_shape\n",
    "        self.batch_size = batch_size\n",
    "        self.n_cont = n_cont\n",
    "        self.out_sz = out_sz\n",
    "        self.p = p\n",
    "        self.lr = lr\n",
    "        \n",
    "        # Training params\n",
    "        # self.criterion = criterion\n",
    "        self.confidence_threshold = confidence_threshold\n",
    "        \n",
    "        # BatchNorm layer for continuous data\n",
    "        self.bn_cont = nn.BatchNorm1d(n_cont)\n",
    "        \n",
    "        # Variable that holds the list of layers\n",
    "        layerlist = []\n",
    "        n_in = n_cont # no embed again\n",
    "        # Iterate through the passed in \"layers\" parameter (ie, [200,100]) to build a list of layers\n",
    "        for i, width in enumerate(self.layer_shape):\n",
    "            # First layer gets special treatment\n",
    "            if i == 0:\n",
    "                layerlist.extend([\n",
    "                    nn.Linear(n_in, width),\n",
    "                    nn.Mish(),  # Mish instead of ReLU\n",
    "                    nn.BatchNorm1d(width),\n",
    "                    nn.Dropout(p/2)  # Less dropout in earlier layers\n",
    "                ])\n",
    "            else:\n",
    "                layerlist.extend([\n",
    "                    nn.Linear(n_in, width),\n",
    "                    nn.Mish(),\n",
    "                    nn.BatchNorm1d(width),\n",
    "                    nn.Dropout(p)\n",
    "                ])\n",
    "            n_in = width\n",
    "        # layerlist.append(nn.Linear(layers[-1], out_sz))\n",
    "        \n",
    "        # Final layer\n",
    "        layerlist.extend([\n",
    "            nn.Linear(self.layer_shape[-1], out_sz),\n",
    "            # nn.Softmax()  # Ensures output between 0 and 1\n",
    "        ])\n",
    "        # Convert the list of layers into an attribute\n",
    "        self.layers = nn.Sequential(*layerlist)\n",
    "        # Initialize the optimizer\n",
    "        self.optimizer = optimizer_class(self.parameters(), lr=self.lr)\n",
    "\n",
    "        \n",
    "    def forward(self, x_cont):\n",
    "        x_cont = self.bn_cont(x_cont)  # Normalize the incoming continuous data\n",
    "        x = self.layers(x_cont)        # Set up model layers\n",
    "        return torch.clamp(x, -1, 1)\n",
    "    \n",
    "    def fit(self, X, y):\n",
    "        \"\"\"\n",
    "        For sklearn pipeline\n",
    "        \"\"\"\n",
    "        # Convert X,y to torch.tensor if needed\n",
    "        if not isinstance(X, torch.Tensor):\n",
    "            X = torch.FloatTensor(X)\n",
    "        if not isinstance(y, torch.Tensor):\n",
    "            y = torch.FloatTensor(y)\n",
    "        \n",
    "        # Initialize optimizer\n",
    "        # optimizer = self.optimizer_class(self.parameters(), lr=self.lr)\n",
    "\n",
    "        dataset = TensorDataset(X, y)\n",
    "        dataloader = DataLoader(dataset, batch_size=self.batch_size, shuffle=False)\n",
    "        \n",
    "        # Training loop\n",
    "        self.train()\n",
    "        for X_batch, y_batch in dataloader:\n",
    "            self.optimizer.zero_grad()\n",
    "            y_pred = self.forward(X_batch)[:,0]\n",
    "            y_pred.requires_grad_()\n",
    "            y_batch.requires_grad_()\n",
    "            #loss = self.criterion(y_pred, y_batch)\n",
    "            # loss = test_custom_loss(y_pred, y_batch)\n",
    "            loss = nfl_custom_criterion(y_pred, y_batch)\n",
    "            #print(loss)\n",
    "            loss.backward()\n",
    "            self.optimizer.step()\n",
    "        return self\n",
    "    \n",
    "    def predict(self, X):\n",
    "        probas = self.predict_proba(X)\n",
    "        return probas\n",
    "        # print(\"predict\")\n",
    "        # return (probas > 0.5).astype(int)\n",
    "        # return probas\n",
    "    \n",
    "    def predict_proba(self, X):\n",
    "        self.eval()\n",
    "        with torch.no_grad():\n",
    "            if not isinstance(X, torch.Tensor):\n",
    "                X = torch.FloatTensor(X)\n",
    "            return self(X)\n",
    "        \n",
    "    def score(self, X, y):\n",
    "        \"\"\"\n",
    "        12/5 - this isn't called at all if 'scoring' is defined\n",
    "        \"\"\"\n",
    "        probas = self.predict_proba(X)[:, 0]\n",
    "        result = nfl_custom_criterion(probas, y)\n",
    "        return result.item()"
   ]
  },
  {
   "cell_type": "code",
   "execution_count": 14,
   "id": "94b31ab2",
   "metadata": {},
   "outputs": [],
   "source": [
    "def objective(trial):\n",
    "    # --- Suggest hyperparameters ---\n",
    "\n",
    "    # criterion = trial.suggest_categorical('criterion', nfl_utils.map_losses(None).keys())\n",
    "    batch_size = trial.suggest_categorical('batch_size', [100, 400, 1000, 3000])\n",
    "    first_layer_size = trial.suggest_categorical('first_layer_size', [64, 56, 48, 32, 16, 12])\n",
    "    min_layers = math.floor(math.sqrt(first_layer_size))\n",
    "    num_layers = trial.suggest_int('num_layers', 2, min_layers)\n",
    "    confidence_threshold = trial.suggest_float('confidence_threshold', 0, 0.05)\n",
    "    layer_shape = [first_layer_size]\n",
    "    for i in range(1, num_layers):\n",
    "        layer_shape.append(first_layer_size//(2*i))\n",
    "    \n",
    "    # Set random state to have consistent results (42 is arbitrary)\n",
    "    set_all_seeds()\n",
    "    n_splits = 5\n",
    "    kf = KFold(n_splits=n_splits, shuffle=False)\n",
    "\n",
    "    # Split once\n",
    "    X_train_fold = []\n",
    "    X_val = []\n",
    "    y_train_fold = []\n",
    "    y_val = []\n",
    "    models = []\n",
    "    for train_index, val_index in kf.split(conts_train):\n",
    "        # print(f\"train {train_index.shape} val {val_index.shape}\")\n",
    "        X_train_fold.append(torch.FloatTensor(conts_train[train_index]).to(device))\n",
    "        X_val.append(torch.FloatTensor(conts_train[val_index]).to(device))\n",
    "\n",
    "        y_train_fold.append(torch.FloatTensor(y_train[train_index]).to(device))\n",
    "        y_val.append(torch.FloatTensor(y_train[val_index]).to(device))\n",
    "\n",
    "        model = TabularModelUpdated(\n",
    "            n_cont=conts.shape[1],\n",
    "            out_sz=1,\n",
    "            layer_shape=layer_shape,\n",
    "            p=trial.suggest_float('dropout', 0.28, 0.38),     # Dropout\n",
    "            # criterion=nfl_utils.map_losses(criterion),\n",
    "            optimizer_class=torch.optim.Adam,\n",
    "            lr=trial.suggest_float('lr', 1e-3, 1e-2, log=True),   # Learning rate \n",
    "            confidence_threshold=confidence_threshold,\n",
    "            batch_size=batch_size\n",
    "        )\n",
    "        pipeline = Pipeline([\n",
    "            ('scaler', StandardScaler()), # Standardize the numerical features\n",
    "            # ('regressor', LinearRegression()), # Apply a regression model\n",
    "            ('model', model)\n",
    "        ])\n",
    "        models.append(pipeline)\n",
    "\n",
    "    # Run once on each split, track average loss, stop if > max patience\n",
    "    max_patience = 10\n",
    "    current_patience = max_patience\n",
    "    tracked_loss = 0.0\n",
    "    n_epochs = 0\n",
    "    while current_patience > 0 or n_epochs < 50:\n",
    "        n_epochs = n_epochs + 1\n",
    "        running_loss = []\n",
    "        for i in range(0,n_splits):\n",
    "            # ----- Train -----\n",
    "            models[i].fit(X_train_fold[i], y_train_fold[i])\n",
    "\n",
    "            # ----- Eval -----\n",
    "            # print(f\"los: {models[i].score(X_val[i], y_val[i])} type: {type(models[i].score(X_val[i], y_val[i]))}\")\n",
    "            running_loss.append(models[i].score(X_val[i], y_val[i]))\n",
    "            # y_pred = models[i].predict(X_val[i])\n",
    "            # running_loss.append(f1_score(y_val[i], y_pred))\n",
    "        # print(f\"{running_loss} at {n_epochs}\")\n",
    "        running_loss = np.mean(running_loss)\n",
    "        # print(f\"rloss: {running_loss}\")\n",
    "        \n",
    "        # ----- Current epoch loss < previous -----\n",
    "        # print(f\"{tracked_loss} {running_loss} {tracked_loss > running_loss}\")\n",
    "        if tracked_loss > running_loss:\n",
    "            current_patience = max_patience\n",
    "            tracked_loss = running_loss\n",
    "        else:\n",
    "            current_patience = current_patience - 1\n",
    "    trial.suggest_int('n_epochs', n_epochs, n_epochs)\n",
    "    trial.report(tracked_loss, n_epochs)\n",
    "    return tracked_loss\n",
    "\n",
    "def print_callback(study, trial):\n",
    "    print(f\"Trial {trial.number} finished with value: {trial.value}\")\n",
    "    print(f\"Best trial so far: {study.best_trial.number}, value: {study.best_trial.value}\")"
   ]
  },
  {
   "cell_type": "code",
   "execution_count": 15,
   "id": "fd663af5",
   "metadata": {
    "scrolled": true
   },
   "outputs": [
    {
     "name": "stderr",
     "output_type": "stream",
     "text": [
      "[I 2025-03-18 21:48:10,562] A new study created in memory with name: no-name-418e5133-f1e8-4ca3-b050-7fa349cf6ebd\n",
      "[I 2025-03-18 21:48:59,672] Trial 0 finished with value: -31978.61328125 and parameters: {'batch_size': 100, 'first_layer_size': 12, 'num_layers': 3, 'confidence_threshold': 0.04419565320652469, 'dropout': 0.34728100608211687, 'lr': 0.00429949425469877, 'n_epochs': 54}. Best is trial 0 with value: -31978.61328125.\n"
     ]
    },
    {
     "name": "stdout",
     "output_type": "stream",
     "text": [
      "Trial 0 finished with value: -31978.61328125\n",
      "Best trial so far: 0, value: -31978.61328125\n"
     ]
    },
    {
     "name": "stderr",
     "output_type": "stream",
     "text": [
      "[I 2025-03-18 21:49:17,945] Trial 1 finished with value: -30408.992578125 and parameters: {'batch_size': 3000, 'first_layer_size': 48, 'num_layers': 3, 'confidence_threshold': 0.017746384926224074, 'dropout': 0.3797584277471112, 'lr': 0.008283312904733347, 'n_epochs': 50}. Best is trial 0 with value: -31978.61328125.\n"
     ]
    },
    {
     "name": "stdout",
     "output_type": "stream",
     "text": [
      "Trial 1 finished with value: -30408.992578125\n",
      "Best trial so far: 0, value: -31978.61328125\n"
     ]
    },
    {
     "name": "stderr",
     "output_type": "stream",
     "text": [
      "[I 2025-03-18 21:50:07,128] Trial 2 finished with value: -32000.59609375 and parameters: {'batch_size': 100, 'first_layer_size': 12, 'num_layers': 3, 'confidence_threshold': 0.01598900112328863, 'dropout': 0.3266647970171378, 'lr': 0.004382729383466405, 'n_epochs': 50}. Best is trial 2 with value: -32000.59609375.\n"
     ]
    },
    {
     "name": "stdout",
     "output_type": "stream",
     "text": [
      "Trial 2 finished with value: -32000.59609375\n",
      "Best trial so far: 2, value: -32000.59609375\n"
     ]
    },
    {
     "name": "stderr",
     "output_type": "stream",
     "text": [
      "[I 2025-03-18 21:50:39,801] Trial 3 finished with value: -28689.775390625 and parameters: {'batch_size': 3000, 'first_layer_size': 12, 'num_layers': 2, 'confidence_threshold': 0.0358786849486169, 'dropout': 0.2919166322280761, 'lr': 0.001241735362110284, 'n_epochs': 105}. Best is trial 2 with value: -32000.59609375.\n"
     ]
    },
    {
     "name": "stdout",
     "output_type": "stream",
     "text": [
      "Trial 3 finished with value: -28689.775390625\n",
      "Best trial so far: 2, value: -32000.59609375\n"
     ]
    },
    {
     "name": "stderr",
     "output_type": "stream",
     "text": [
      "[I 2025-03-18 21:51:35,147] Trial 4 finished with value: -30493.303515625 and parameters: {'batch_size': 100, 'first_layer_size': 48, 'num_layers': 4, 'confidence_threshold': 0.030366229247039585, 'dropout': 0.3211095690286578, 'lr': 0.0012012150117612591, 'n_epochs': 50}. Best is trial 2 with value: -32000.59609375.\n"
     ]
    },
    {
     "name": "stdout",
     "output_type": "stream",
     "text": [
      "Trial 4 finished with value: -30493.303515625\n",
      "Best trial so far: 2, value: -32000.59609375\n"
     ]
    },
    {
     "name": "stderr",
     "output_type": "stream",
     "text": [
      "[I 2025-03-18 21:51:55,740] Trial 5 finished with value: -30607.38984375 and parameters: {'batch_size': 400, 'first_layer_size': 16, 'num_layers': 2, 'confidence_threshold': 0.0037621564568269816, 'dropout': 0.2932625926453093, 'lr': 0.003138368708100035, 'n_epochs': 50}. Best is trial 2 with value: -32000.59609375.\n"
     ]
    },
    {
     "name": "stdout",
     "output_type": "stream",
     "text": [
      "Trial 5 finished with value: -30607.38984375\n",
      "Best trial so far: 2, value: -32000.59609375\n"
     ]
    },
    {
     "name": "stderr",
     "output_type": "stream",
     "text": [
      "[I 2025-03-18 21:52:15,382] Trial 6 finished with value: -30050.68359375 and parameters: {'batch_size': 1000, 'first_layer_size': 16, 'num_layers': 4, 'confidence_threshold': 0.04328587073030912, 'dropout': 0.3763137872505314, 'lr': 0.003724231807923863, 'n_epochs': 54}. Best is trial 2 with value: -32000.59609375.\n"
     ]
    },
    {
     "name": "stdout",
     "output_type": "stream",
     "text": [
      "Trial 6 finished with value: -30050.68359375\n",
      "Best trial so far: 2, value: -32000.59609375\n"
     ]
    },
    {
     "name": "stderr",
     "output_type": "stream",
     "text": [
      "[I 2025-03-18 21:52:37,113] Trial 7 finished with value: -30196.836328125 and parameters: {'batch_size': 3000, 'first_layer_size': 32, 'num_layers': 3, 'confidence_threshold': 0.016370235688346575, 'dropout': 0.35495387756652674, 'lr': 0.0023789663816872787, 'n_epochs': 62}. Best is trial 2 with value: -32000.59609375.\n"
     ]
    },
    {
     "name": "stdout",
     "output_type": "stream",
     "text": [
      "Trial 7 finished with value: -30196.836328125\n",
      "Best trial so far: 2, value: -32000.59609375\n"
     ]
    },
    {
     "name": "stderr",
     "output_type": "stream",
     "text": [
      "[I 2025-03-18 21:52:54,954] Trial 8 finished with value: -30333.983203125 and parameters: {'batch_size': 3000, 'first_layer_size': 64, 'num_layers': 2, 'confidence_threshold': 0.013249541515103953, 'dropout': 0.36161737809025385, 'lr': 0.006204900800169026, 'n_epochs': 50}. Best is trial 2 with value: -32000.59609375.\n"
     ]
    },
    {
     "name": "stdout",
     "output_type": "stream",
     "text": [
      "Trial 8 finished with value: -30333.983203125\n",
      "Best trial so far: 2, value: -32000.59609375\n"
     ]
    },
    {
     "name": "stderr",
     "output_type": "stream",
     "text": [
      "[I 2025-03-18 21:53:15,523] Trial 9 finished with value: -29752.821484375 and parameters: {'batch_size': 3000, 'first_layer_size': 56, 'num_layers': 4, 'confidence_threshold': 0.026810750029185156, 'dropout': 0.32451357516802865, 'lr': 0.005199889346183752, 'n_epochs': 50}. Best is trial 2 with value: -32000.59609375.\n"
     ]
    },
    {
     "name": "stdout",
     "output_type": "stream",
     "text": [
      "Trial 9 finished with value: -29752.821484375\n",
      "Best trial so far: 2, value: -32000.59609375\n"
     ]
    },
    {
     "name": "stderr",
     "output_type": "stream",
     "text": [
      "[I 2025-03-18 21:54:05,120] Trial 10 finished with value: -30214.136328125 and parameters: {'batch_size': 100, 'first_layer_size': 12, 'num_layers': 3, 'confidence_threshold': 0.0005840704517678479, 'dropout': 0.3060879643282282, 'lr': 0.0022579964077710938, 'n_epochs': 50}. Best is trial 2 with value: -32000.59609375.\n"
     ]
    },
    {
     "name": "stdout",
     "output_type": "stream",
     "text": [
      "Trial 10 finished with value: -30214.136328125\n",
      "Best trial so far: 2, value: -32000.59609375\n"
     ]
    },
    {
     "name": "stderr",
     "output_type": "stream",
     "text": [
      "[I 2025-03-18 21:54:57,850] Trial 11 finished with value: -33130.960546875 and parameters: {'batch_size': 100, 'first_layer_size': 12, 'num_layers': 3, 'confidence_threshold': 0.04931807259455895, 'dropout': 0.3435552721338096, 'lr': 0.004487639990033438, 'n_epochs': 55}. Best is trial 11 with value: -33130.960546875.\n"
     ]
    },
    {
     "name": "stdout",
     "output_type": "stream",
     "text": [
      "Trial 11 finished with value: -33130.960546875\n",
      "Best trial so far: 11, value: -33130.960546875\n"
     ]
    },
    {
     "name": "stderr",
     "output_type": "stream",
     "text": [
      "[I 2025-03-18 21:55:47,898] Trial 12 finished with value: -32916.428125 and parameters: {'batch_size': 100, 'first_layer_size': 12, 'num_layers': 3, 'confidence_threshold': 0.04781331644379813, 'dropout': 0.3390295504535434, 'lr': 0.008550702264983737, 'n_epochs': 50}. Best is trial 11 with value: -33130.960546875.\n"
     ]
    },
    {
     "name": "stdout",
     "output_type": "stream",
     "text": [
      "Trial 12 finished with value: -32916.428125\n",
      "Best trial so far: 11, value: -33130.960546875\n"
     ]
    },
    {
     "name": "stderr",
     "output_type": "stream",
     "text": [
      "[I 2025-03-18 21:56:37,888] Trial 13 finished with value: -32856.60859375 and parameters: {'batch_size': 100, 'first_layer_size': 12, 'num_layers': 3, 'confidence_threshold': 0.04894448129157065, 'dropout': 0.34299541742151984, 'lr': 0.009974177749286066, 'n_epochs': 50}. Best is trial 11 with value: -33130.960546875.\n"
     ]
    },
    {
     "name": "stdout",
     "output_type": "stream",
     "text": [
      "Trial 13 finished with value: -32856.60859375\n",
      "Best trial so far: 11, value: -33130.960546875\n"
     ]
    },
    {
     "name": "stderr",
     "output_type": "stream",
     "text": [
      "[I 2025-03-18 21:57:03,756] Trial 14 finished with value: -30320.44453125 and parameters: {'batch_size': 1000, 'first_layer_size': 56, 'num_layers': 6, 'confidence_threshold': 0.037446214589559004, 'dropout': 0.31348567453451104, 'lr': 0.006282731735926878, 'n_epochs': 50}. Best is trial 11 with value: -33130.960546875.\n"
     ]
    },
    {
     "name": "stdout",
     "output_type": "stream",
     "text": [
      "Trial 14 finished with value: -30320.44453125\n",
      "Best trial so far: 11, value: -33130.960546875\n"
     ]
    },
    {
     "name": "stderr",
     "output_type": "stream",
     "text": [
      "[I 2025-03-18 21:57:33,717] Trial 15 finished with value: -31964.7171875 and parameters: {'batch_size': 400, 'first_layer_size': 32, 'num_layers': 5, 'confidence_threshold': 0.049352032349066266, 'dropout': 0.33833807486992484, 'lr': 0.007865769721799028, 'n_epochs': 50}. Best is trial 11 with value: -33130.960546875.\n"
     ]
    },
    {
     "name": "stdout",
     "output_type": "stream",
     "text": [
      "Trial 15 finished with value: -31964.7171875\n",
      "Best trial so far: 11, value: -33130.960546875\n"
     ]
    },
    {
     "name": "stderr",
     "output_type": "stream",
     "text": [
      "[I 2025-03-18 21:59:16,436] Trial 16 finished with value: -31953.421484375 and parameters: {'batch_size': 100, 'first_layer_size': 64, 'num_layers': 7, 'confidence_threshold': 0.03983239098551187, 'dropout': 0.3669035491881247, 'lr': 0.0030067206743568877, 'n_epochs': 55}. Best is trial 11 with value: -33130.960546875.\n"
     ]
    },
    {
     "name": "stdout",
     "output_type": "stream",
     "text": [
      "Trial 16 finished with value: -31953.421484375\n",
      "Best trial so far: 11, value: -33130.960546875\n"
     ]
    },
    {
     "name": "stderr",
     "output_type": "stream",
     "text": [
      "[I 2025-03-18 22:00:02,468] Trial 17 finished with value: -31592.48046875 and parameters: {'batch_size': 100, 'first_layer_size': 12, 'num_layers': 2, 'confidence_threshold': 0.033247092759639774, 'dropout': 0.3368799905308419, 'lr': 0.0018706562628127373, 'n_epochs': 50}. Best is trial 11 with value: -33130.960546875.\n"
     ]
    },
    {
     "name": "stdout",
     "output_type": "stream",
     "text": [
      "Trial 17 finished with value: -31592.48046875\n",
      "Best trial so far: 11, value: -33130.960546875\n"
     ]
    },
    {
     "name": "stderr",
     "output_type": "stream",
     "text": [
      "[I 2025-03-18 22:00:53,781] Trial 18 finished with value: -32553.0484375 and parameters: {'batch_size': 100, 'first_layer_size': 12, 'num_layers': 3, 'confidence_threshold': 0.023233959471044098, 'dropout': 0.3520443543387407, 'lr': 0.006727422832973634, 'n_epochs': 50}. Best is trial 11 with value: -33130.960546875.\n"
     ]
    },
    {
     "name": "stdout",
     "output_type": "stream",
     "text": [
      "Trial 18 finished with value: -32553.0484375\n",
      "Best trial so far: 11, value: -33130.960546875\n"
     ]
    },
    {
     "name": "stderr",
     "output_type": "stream",
     "text": [
      "[I 2025-03-18 22:01:20,769] Trial 19 finished with value: -33124.996484375 and parameters: {'batch_size': 400, 'first_layer_size': 12, 'num_layers': 3, 'confidence_threshold': 0.04394330423943453, 'dropout': 0.3342832269665124, 'lr': 0.00975274651688585, 'n_epochs': 59}. Best is trial 11 with value: -33130.960546875.\n"
     ]
    },
    {
     "name": "stdout",
     "output_type": "stream",
     "text": [
      "Trial 19 finished with value: -33124.996484375\n",
      "Best trial so far: 11, value: -33130.960546875\n"
     ]
    },
    {
     "name": "stderr",
     "output_type": "stream",
     "text": [
      "[I 2025-03-18 22:01:42,185] Trial 20 finished with value: -30893.18984375 and parameters: {'batch_size': 400, 'first_layer_size': 16, 'num_layers': 2, 'confidence_threshold': 0.04234509813674896, 'dropout': 0.3051720399280992, 'lr': 0.0017203572255870395, 'n_epochs': 50}. Best is trial 11 with value: -33130.960546875.\n"
     ]
    },
    {
     "name": "stdout",
     "output_type": "stream",
     "text": [
      "Trial 20 finished with value: -30893.18984375\n",
      "Best trial so far: 11, value: -33130.960546875\n"
     ]
    },
    {
     "name": "stderr",
     "output_type": "stream",
     "text": [
      "[I 2025-03-18 22:02:05,025] Trial 21 finished with value: -32272.481640625 and parameters: {'batch_size': 400, 'first_layer_size': 12, 'num_layers': 3, 'confidence_threshold': 0.0465836966254776, 'dropout': 0.3352466812845836, 'lr': 0.009659564358665404, 'n_epochs': 50}. Best is trial 11 with value: -33130.960546875.\n"
     ]
    },
    {
     "name": "stdout",
     "output_type": "stream",
     "text": [
      "Trial 21 finished with value: -32272.481640625\n",
      "Best trial so far: 11, value: -33130.960546875\n"
     ]
    },
    {
     "name": "stderr",
     "output_type": "stream",
     "text": [
      "[I 2025-03-18 22:02:27,876] Trial 22 finished with value: -31965.212109375 and parameters: {'batch_size': 400, 'first_layer_size': 12, 'num_layers': 3, 'confidence_threshold': 0.04911225752896743, 'dropout': 0.33209232428607444, 'lr': 0.007474023195878516, 'n_epochs': 50}. Best is trial 11 with value: -33130.960546875.\n"
     ]
    },
    {
     "name": "stdout",
     "output_type": "stream",
     "text": [
      "Trial 22 finished with value: -31965.212109375\n",
      "Best trial so far: 11, value: -33130.960546875\n"
     ]
    },
    {
     "name": "stderr",
     "output_type": "stream",
     "text": [
      "[I 2025-03-18 22:02:45,596] Trial 23 finished with value: -30430.984765625 and parameters: {'batch_size': 1000, 'first_layer_size': 12, 'num_layers': 3, 'confidence_threshold': 0.040356320737594556, 'dropout': 0.34708652279743357, 'lr': 0.004810349420097589, 'n_epochs': 50}. Best is trial 11 with value: -33130.960546875.\n"
     ]
    },
    {
     "name": "stdout",
     "output_type": "stream",
     "text": [
      "Trial 23 finished with value: -30430.984765625\n",
      "Best trial so far: 11, value: -33130.960546875\n"
     ]
    },
    {
     "name": "stderr",
     "output_type": "stream",
     "text": [
      "[I 2025-03-18 22:03:07,772] Trial 24 finished with value: -30975.511328125 and parameters: {'batch_size': 400, 'first_layer_size': 12, 'num_layers': 3, 'confidence_threshold': 0.04521411243614763, 'dropout': 0.3157580256838178, 'lr': 0.005368294989664515, 'n_epochs': 50}. Best is trial 11 with value: -33130.960546875.\n"
     ]
    },
    {
     "name": "stdout",
     "output_type": "stream",
     "text": [
      "Trial 24 finished with value: -30975.511328125\n",
      "Best trial so far: 11, value: -33130.960546875\n"
     ]
    },
    {
     "name": "stderr",
     "output_type": "stream",
     "text": [
      "[I 2025-03-18 22:04:25,385] Trial 25 finished with value: -32318.405859375 and parameters: {'batch_size': 100, 'first_layer_size': 56, 'num_layers': 5, 'confidence_threshold': 0.035644561350875514, 'dropout': 0.3616195255170544, 'lr': 0.008921821300340178, 'n_epochs': 50}. Best is trial 11 with value: -33130.960546875.\n"
     ]
    },
    {
     "name": "stdout",
     "output_type": "stream",
     "text": [
      "Trial 25 finished with value: -32318.405859375\n",
      "Best trial so far: 11, value: -33130.960546875\n"
     ]
    },
    {
     "name": "stderr",
     "output_type": "stream",
     "text": [
      "[I 2025-03-18 22:06:57,582] Trial 26 finished with value: -30696.63984375 and parameters: {'batch_size': 100, 'first_layer_size': 64, 'num_layers': 8, 'confidence_threshold': 0.03925630496732914, 'dropout': 0.33983635013862323, 'lr': 0.007209659304357151, 'n_epochs': 61}. Best is trial 11 with value: -33130.960546875.\n"
     ]
    },
    {
     "name": "stdout",
     "output_type": "stream",
     "text": [
      "Trial 26 finished with value: -30696.63984375\n",
      "Best trial so far: 11, value: -33130.960546875\n"
     ]
    },
    {
     "name": "stderr",
     "output_type": "stream",
     "text": [
      "[I 2025-03-18 22:07:29,423] Trial 27 finished with value: -31884.358203125 and parameters: {'batch_size': 400, 'first_layer_size': 32, 'num_layers': 4, 'confidence_threshold': 0.04589564809431564, 'dropout': 0.33059733842973965, 'lr': 0.005825378400572895, 'n_epochs': 50}. Best is trial 11 with value: -33130.960546875.\n"
     ]
    },
    {
     "name": "stdout",
     "output_type": "stream",
     "text": [
      "Trial 27 finished with value: -31884.358203125\n",
      "Best trial so far: 11, value: -33130.960546875\n"
     ]
    },
    {
     "name": "stderr",
     "output_type": "stream",
     "text": [
      "[I 2025-03-18 22:07:57,776] Trial 28 finished with value: -30443.536328125 and parameters: {'batch_size': 1000, 'first_layer_size': 48, 'num_layers': 4, 'confidence_threshold': 0.031402315306517686, 'dropout': 0.35405848048861444, 'lr': 0.004058646555863101, 'n_epochs': 59}. Best is trial 11 with value: -33130.960546875.\n"
     ]
    },
    {
     "name": "stdout",
     "output_type": "stream",
     "text": [
      "Trial 28 finished with value: -30443.536328125\n",
      "Best trial so far: 11, value: -33130.960546875\n"
     ]
    },
    {
     "name": "stderr",
     "output_type": "stream",
     "text": [
      "[I 2025-03-18 22:08:57,161] Trial 29 finished with value: -31633.8578125 and parameters: {'batch_size': 100, 'first_layer_size': 12, 'num_layers': 3, 'confidence_threshold': 0.04397363771056218, 'dropout': 0.34627759115568535, 'lr': 0.003761019441609322, 'n_epochs': 50}. Best is trial 11 with value: -33130.960546875.\n"
     ]
    },
    {
     "name": "stdout",
     "output_type": "stream",
     "text": [
      "Trial 29 finished with value: -31633.8578125\n",
      "Best trial so far: 11, value: -33130.960546875\n"
     ]
    },
    {
     "name": "stderr",
     "output_type": "stream",
     "text": [
      "[I 2025-03-18 22:09:56,848] Trial 30 finished with value: -32660.825 and parameters: {'batch_size': 100, 'first_layer_size': 12, 'num_layers': 3, 'confidence_threshold': 0.025547781645960933, 'dropout': 0.31959120932938606, 'lr': 0.008472155533039438, 'n_epochs': 50}. Best is trial 11 with value: -33130.960546875.\n"
     ]
    },
    {
     "name": "stdout",
     "output_type": "stream",
     "text": [
      "Trial 30 finished with value: -32660.825\n",
      "Best trial so far: 11, value: -33130.960546875\n"
     ]
    },
    {
     "name": "stderr",
     "output_type": "stream",
     "text": [
      "[I 2025-03-18 22:11:02,684] Trial 31 finished with value: -32989.360546875 and parameters: {'batch_size': 100, 'first_layer_size': 12, 'num_layers': 3, 'confidence_threshold': 0.049090859103059305, 'dropout': 0.3428318321919493, 'lr': 0.009995409195633567, 'n_epochs': 50}. Best is trial 11 with value: -33130.960546875.\n"
     ]
    },
    {
     "name": "stdout",
     "output_type": "stream",
     "text": [
      "Trial 31 finished with value: -32989.360546875\n",
      "Best trial so far: 11, value: -33130.960546875\n"
     ]
    },
    {
     "name": "stderr",
     "output_type": "stream",
     "text": [
      "[I 2025-03-18 22:12:02,586] Trial 32 finished with value: -32652.3765625 and parameters: {'batch_size': 100, 'first_layer_size': 12, 'num_layers': 3, 'confidence_threshold': 0.049955559728283035, 'dropout': 0.34875266248493186, 'lr': 0.009891358880883418, 'n_epochs': 50}. Best is trial 11 with value: -33130.960546875.\n"
     ]
    },
    {
     "name": "stdout",
     "output_type": "stream",
     "text": [
      "Trial 32 finished with value: -32652.3765625\n",
      "Best trial so far: 11, value: -33130.960546875\n"
     ]
    },
    {
     "name": "stderr",
     "output_type": "stream",
     "text": [
      "[I 2025-03-18 22:13:02,609] Trial 33 finished with value: -33600.697265625 and parameters: {'batch_size': 100, 'first_layer_size': 12, 'num_layers': 3, 'confidence_threshold': 0.045991530615726244, 'dropout': 0.32770736635154496, 'lr': 0.00811418945756055, 'n_epochs': 50}. Best is trial 33 with value: -33600.697265625.\n"
     ]
    },
    {
     "name": "stdout",
     "output_type": "stream",
     "text": [
      "Trial 33 finished with value: -33600.697265625\n",
      "Best trial so far: 33, value: -33600.697265625\n"
     ]
    },
    {
     "name": "stderr",
     "output_type": "stream",
     "text": [
      "[I 2025-03-18 22:14:01,083] Trial 34 finished with value: -32355.100390625 and parameters: {'batch_size': 100, 'first_layer_size': 12, 'num_layers': 3, 'confidence_threshold': 0.042178309782791835, 'dropout': 0.327842470852199, 'lr': 0.007222733797412037, 'n_epochs': 50}. Best is trial 33 with value: -33600.697265625.\n"
     ]
    },
    {
     "name": "stdout",
     "output_type": "stream",
     "text": [
      "Trial 34 finished with value: -32355.100390625\n",
      "Best trial so far: 33, value: -33600.697265625\n"
     ]
    },
    {
     "name": "stderr",
     "output_type": "stream",
     "text": [
      "[I 2025-03-18 22:14:55,945] Trial 35 finished with value: -30877.84296875 and parameters: {'batch_size': 100, 'first_layer_size': 48, 'num_layers': 2, 'confidence_threshold': 0.04454184857228351, 'dropout': 0.33177859427924505, 'lr': 0.008338126745805086, 'n_epochs': 50}. Best is trial 33 with value: -33600.697265625.\n"
     ]
    },
    {
     "name": "stdout",
     "output_type": "stream",
     "text": [
      "Trial 35 finished with value: -30877.84296875\n",
      "Best trial so far: 33, value: -33600.697265625\n"
     ]
    },
    {
     "name": "stderr",
     "output_type": "stream",
     "text": [
      "[I 2025-03-18 22:15:25,934] Trial 36 finished with value: -31013.511328125 and parameters: {'batch_size': 400, 'first_layer_size': 12, 'num_layers': 3, 'confidence_threshold': 0.010616260547694845, 'dropout': 0.30867771446204406, 'lr': 0.0046027573343331565, 'n_epochs': 57}. Best is trial 33 with value: -33600.697265625.\n"
     ]
    },
    {
     "name": "stdout",
     "output_type": "stream",
     "text": [
      "Trial 36 finished with value: -31013.511328125\n",
      "Best trial so far: 33, value: -33600.697265625\n"
     ]
    },
    {
     "name": "stderr",
     "output_type": "stream",
     "text": [
      "[I 2025-03-18 22:16:23,183] Trial 37 finished with value: -31042.6875 and parameters: {'batch_size': 100, 'first_layer_size': 12, 'num_layers': 3, 'confidence_threshold': 0.046185654982897145, 'dropout': 0.32325386607443374, 'lr': 0.005575698272090057, 'n_epochs': 50}. Best is trial 33 with value: -33600.697265625.\n"
     ]
    },
    {
     "name": "stdout",
     "output_type": "stream",
     "text": [
      "Trial 37 finished with value: -31042.6875\n",
      "Best trial so far: 33, value: -33600.697265625\n"
     ]
    },
    {
     "name": "stderr",
     "output_type": "stream",
     "text": [
      "[I 2025-03-18 22:17:01,722] Trial 38 finished with value: -30404.499609375 and parameters: {'batch_size': 3000, 'first_layer_size': 16, 'num_layers': 3, 'confidence_threshold': 0.021528527767436884, 'dropout': 0.29824535864003376, 'lr': 0.0027095605613786616, 'n_epochs': 101}. Best is trial 33 with value: -33600.697265625.\n"
     ]
    },
    {
     "name": "stdout",
     "output_type": "stream",
     "text": [
      "Trial 38 finished with value: -30404.499609375\n",
      "Best trial so far: 33, value: -33600.697265625\n"
     ]
    },
    {
     "name": "stderr",
     "output_type": "stream",
     "text": [
      "[I 2025-03-18 22:18:26,230] Trial 39 finished with value: -32934.046875 and parameters: {'batch_size': 100, 'first_layer_size': 48, 'num_layers': 4, 'confidence_threshold': 0.03616666630270001, 'dropout': 0.34316128124841955, 'lr': 0.006662529029027749, 'n_epochs': 61}. Best is trial 33 with value: -33600.697265625.\n"
     ]
    },
    {
     "name": "stdout",
     "output_type": "stream",
     "text": [
      "Trial 39 finished with value: -32934.046875\n",
      "Best trial so far: 33, value: -33600.697265625\n"
     ]
    },
    {
     "name": "stderr",
     "output_type": "stream",
     "text": [
      "[I 2025-03-18 22:18:51,089] Trial 40 finished with value: -28980.53359375 and parameters: {'batch_size': 1000, 'first_layer_size': 32, 'num_layers': 2, 'confidence_threshold': 0.041196708902941664, 'dropout': 0.36189016933363277, 'lr': 0.00140299235171282, 'n_epochs': 60}. Best is trial 33 with value: -33600.697265625.\n"
     ]
    },
    {
     "name": "stdout",
     "output_type": "stream",
     "text": [
      "Trial 40 finished with value: -28980.53359375\n",
      "Best trial so far: 33, value: -33600.697265625\n"
     ]
    },
    {
     "name": "stderr",
     "output_type": "stream",
     "text": [
      "[I 2025-03-18 22:20:01,860] Trial 41 finished with value: -32265.216015625 and parameters: {'batch_size': 100, 'first_layer_size': 48, 'num_layers': 4, 'confidence_threshold': 0.037914678950169214, 'dropout': 0.33281677862808373, 'lr': 0.006454713511201405, 'n_epochs': 50}. Best is trial 33 with value: -33600.697265625.\n"
     ]
    },
    {
     "name": "stdout",
     "output_type": "stream",
     "text": [
      "Trial 41 finished with value: -32265.216015625\n",
      "Best trial so far: 33, value: -33600.697265625\n"
     ]
    },
    {
     "name": "stderr",
     "output_type": "stream",
     "text": [
      "[I 2025-03-18 22:21:17,022] Trial 42 finished with value: -32437.83046875 and parameters: {'batch_size': 100, 'first_layer_size': 48, 'num_layers': 5, 'confidence_threshold': 0.03465379475704315, 'dropout': 0.34649949202780245, 'lr': 0.007390989984022755, 'n_epochs': 50}. Best is trial 33 with value: -33600.697265625.\n"
     ]
    },
    {
     "name": "stdout",
     "output_type": "stream",
     "text": [
      "Trial 42 finished with value: -32437.83046875\n",
      "Best trial so far: 33, value: -33600.697265625\n"
     ]
    },
    {
     "name": "stderr",
     "output_type": "stream",
     "text": [
      "[I 2025-03-18 22:22:31,879] Trial 43 finished with value: -33189.03515625 and parameters: {'batch_size': 100, 'first_layer_size': 48, 'num_layers': 4, 'confidence_threshold': 0.029033810092880676, 'dropout': 0.34326611920118644, 'lr': 0.009236229243847838, 'n_epochs': 62}. Best is trial 33 with value: -33600.697265625.\n"
     ]
    },
    {
     "name": "stdout",
     "output_type": "stream",
     "text": [
      "Trial 43 finished with value: -33189.03515625\n",
      "Best trial so far: 33, value: -33600.697265625\n"
     ]
    },
    {
     "name": "stderr",
     "output_type": "stream",
     "text": [
      "[I 2025-03-18 22:22:52,318] Trial 44 finished with value: -29825.162109375 and parameters: {'batch_size': 3000, 'first_layer_size': 48, 'num_layers': 4, 'confidence_threshold': 0.008477353568235244, 'dropout': 0.32626416684287607, 'lr': 0.008920060099503406, 'n_epochs': 50}. Best is trial 33 with value: -33600.697265625.\n"
     ]
    },
    {
     "name": "stdout",
     "output_type": "stream",
     "text": [
      "Trial 44 finished with value: -29825.162109375\n",
      "Best trial so far: 33, value: -33600.697265625\n"
     ]
    },
    {
     "name": "stderr",
     "output_type": "stream",
     "text": [
      "[I 2025-03-18 22:23:36,391] Trial 45 finished with value: -32453.88984375 and parameters: {'batch_size': 100, 'first_layer_size': 12, 'num_layers': 2, 'confidence_threshold': 0.029884103426236926, 'dropout': 0.357190693872986, 'lr': 0.009263609582455251, 'n_epochs': 50}. Best is trial 33 with value: -33600.697265625.\n"
     ]
    },
    {
     "name": "stdout",
     "output_type": "stream",
     "text": [
      "Trial 45 finished with value: -32453.88984375\n",
      "Best trial so far: 33, value: -33600.697265625\n"
     ]
    },
    {
     "name": "stderr",
     "output_type": "stream",
     "text": [
      "[I 2025-03-18 22:24:59,155] Trial 46 finished with value: -30940.970703125 and parameters: {'batch_size': 100, 'first_layer_size': 56, 'num_layers': 4, 'confidence_threshold': 0.04693655552740346, 'dropout': 0.2825010522599744, 'lr': 0.001026650637358364, 'n_epochs': 60}. Best is trial 33 with value: -33600.697265625.\n"
     ]
    },
    {
     "name": "stdout",
     "output_type": "stream",
     "text": [
      "Trial 46 finished with value: -30940.970703125\n",
      "Best trial so far: 33, value: -33600.697265625\n"
     ]
    },
    {
     "name": "stderr",
     "output_type": "stream",
     "text": [
      "[I 2025-03-18 22:25:33,300] Trial 47 finished with value: -31826.971484375 and parameters: {'batch_size': 400, 'first_layer_size': 64, 'num_layers': 5, 'confidence_threshold': 0.04413756890118117, 'dropout': 0.34172729470400487, 'lr': 0.008013201967587024, 'n_epochs': 50}. Best is trial 33 with value: -33600.697265625.\n"
     ]
    },
    {
     "name": "stdout",
     "output_type": "stream",
     "text": [
      "Trial 47 finished with value: -31826.971484375\n",
      "Best trial so far: 33, value: -33600.697265625\n"
     ]
    },
    {
     "name": "stderr",
     "output_type": "stream",
     "text": [
      "[I 2025-03-18 22:26:25,961] Trial 48 finished with value: -31070.346484375 and parameters: {'batch_size': 100, 'first_layer_size': 16, 'num_layers': 3, 'confidence_threshold': 0.028889861121710336, 'dropout': 0.3757608509842828, 'lr': 0.0034337371315959807, 'n_epochs': 50}. Best is trial 33 with value: -33600.697265625.\n"
     ]
    },
    {
     "name": "stdout",
     "output_type": "stream",
     "text": [
      "Trial 48 finished with value: -31070.346484375\n",
      "Best trial so far: 33, value: -33600.697265625\n"
     ]
    },
    {
     "name": "stderr",
     "output_type": "stream",
     "text": [
      "[I 2025-03-18 22:26:50,174] Trial 49 finished with value: -30637.148828125 and parameters: {'batch_size': 3000, 'first_layer_size': 12, 'num_layers': 2, 'confidence_threshold': 0.01935691950753471, 'dropout': 0.31863510887818525, 'lr': 0.008336497356974263, 'n_epochs': 78}. Best is trial 33 with value: -33600.697265625.\n"
     ]
    },
    {
     "name": "stdout",
     "output_type": "stream",
     "text": [
      "Trial 49 finished with value: -30637.148828125\n",
      "Best trial so far: 33, value: -33600.697265625\n"
     ]
    },
    {
     "name": "stderr",
     "output_type": "stream",
     "text": [
      "[I 2025-03-18 22:27:35,116] Trial 50 finished with value: -33472.67890625 and parameters: {'batch_size': 100, 'first_layer_size': 12, 'num_layers': 2, 'confidence_threshold': 0.04255111848103756, 'dropout': 0.3498234248848932, 'lr': 0.009827512062170399, 'n_epochs': 51}. Best is trial 33 with value: -33600.697265625.\n"
     ]
    },
    {
     "name": "stdout",
     "output_type": "stream",
     "text": [
      "Trial 50 finished with value: -33472.67890625\n",
      "Best trial so far: 33, value: -33600.697265625\n"
     ]
    },
    {
     "name": "stderr",
     "output_type": "stream",
     "text": [
      "[I 2025-03-18 22:28:19,350] Trial 51 finished with value: -33258.096875 and parameters: {'batch_size': 100, 'first_layer_size': 12, 'num_layers': 2, 'confidence_threshold': 0.04785308702019532, 'dropout': 0.35213952908659374, 'lr': 0.009794600135116212, 'n_epochs': 50}. Best is trial 33 with value: -33600.697265625.\n"
     ]
    },
    {
     "name": "stdout",
     "output_type": "stream",
     "text": [
      "Trial 51 finished with value: -33258.096875\n",
      "Best trial so far: 33, value: -33600.697265625\n"
     ]
    },
    {
     "name": "stderr",
     "output_type": "stream",
     "text": [
      "[I 2025-03-18 22:29:03,214] Trial 52 finished with value: -32651.551953125 and parameters: {'batch_size': 100, 'first_layer_size': 12, 'num_layers': 2, 'confidence_threshold': 0.04299970197749004, 'dropout': 0.3505036716723528, 'lr': 0.008871629610638984, 'n_epochs': 50}. Best is trial 33 with value: -33600.697265625.\n"
     ]
    },
    {
     "name": "stdout",
     "output_type": "stream",
     "text": [
      "Trial 52 finished with value: -32651.551953125\n",
      "Best trial so far: 33, value: -33600.697265625\n"
     ]
    },
    {
     "name": "stderr",
     "output_type": "stream",
     "text": [
      "[I 2025-03-18 22:29:47,192] Trial 53 finished with value: -32997.100390625 and parameters: {'batch_size': 100, 'first_layer_size': 12, 'num_layers': 2, 'confidence_threshold': 0.04753826132012441, 'dropout': 0.35800261734090005, 'lr': 0.007919455391239711, 'n_epochs': 50}. Best is trial 33 with value: -33600.697265625.\n"
     ]
    },
    {
     "name": "stdout",
     "output_type": "stream",
     "text": [
      "Trial 53 finished with value: -32997.100390625\n",
      "Best trial so far: 33, value: -33600.697265625\n"
     ]
    },
    {
     "name": "stderr",
     "output_type": "stream",
     "text": [
      "[I 2025-03-18 22:30:31,323] Trial 54 finished with value: -33066.6640625 and parameters: {'batch_size': 100, 'first_layer_size': 12, 'num_layers': 2, 'confidence_threshold': 0.03880329261484031, 'dropout': 0.3690023573873025, 'lr': 0.009149127791587903, 'n_epochs': 50}. Best is trial 33 with value: -33600.697265625.\n"
     ]
    },
    {
     "name": "stdout",
     "output_type": "stream",
     "text": [
      "Trial 54 finished with value: -33066.6640625\n",
      "Best trial so far: 33, value: -33600.697265625\n"
     ]
    },
    {
     "name": "stderr",
     "output_type": "stream",
     "text": [
      "[I 2025-03-18 22:31:17,876] Trial 55 finished with value: -33141.917578125 and parameters: {'batch_size': 100, 'first_layer_size': 12, 'num_layers': 2, 'confidence_threshold': 0.03259703777018662, 'dropout': 0.33644748174827444, 'lr': 0.005950034620950149, 'n_epochs': 53}. Best is trial 33 with value: -33600.697265625.\n"
     ]
    },
    {
     "name": "stdout",
     "output_type": "stream",
     "text": [
      "Trial 55 finished with value: -33141.917578125\n",
      "Best trial so far: 33, value: -33600.697265625\n"
     ]
    },
    {
     "name": "stderr",
     "output_type": "stream",
     "text": [
      "[I 2025-03-18 22:32:03,992] Trial 56 finished with value: -31023.11015625 and parameters: {'batch_size': 100, 'first_layer_size': 32, 'num_layers': 2, 'confidence_threshold': 0.03207263496861098, 'dropout': 0.3524460024323134, 'lr': 0.005058163244474035, 'n_epochs': 50}. Best is trial 33 with value: -33600.697265625.\n"
     ]
    },
    {
     "name": "stdout",
     "output_type": "stream",
     "text": [
      "Trial 56 finished with value: -31023.11015625\n",
      "Best trial so far: 33, value: -33600.697265625\n"
     ]
    },
    {
     "name": "stderr",
     "output_type": "stream",
     "text": [
      "[I 2025-03-18 22:32:59,688] Trial 57 finished with value: -31686.726953125 and parameters: {'batch_size': 100, 'first_layer_size': 56, 'num_layers': 2, 'confidence_threshold': 0.02896222069141285, 'dropout': 0.3365613492887104, 'lr': 0.005917743913959864, 'n_epochs': 50}. Best is trial 33 with value: -33600.697265625.\n"
     ]
    },
    {
     "name": "stdout",
     "output_type": "stream",
     "text": [
      "Trial 57 finished with value: -31686.726953125\n",
      "Best trial so far: 33, value: -33600.697265625\n"
     ]
    },
    {
     "name": "stderr",
     "output_type": "stream",
     "text": [
      "[I 2025-03-18 22:33:43,988] Trial 58 finished with value: -32398.871484375 and parameters: {'batch_size': 100, 'first_layer_size': 12, 'num_layers': 2, 'confidence_threshold': 0.027002211813081614, 'dropout': 0.3450543380110984, 'lr': 0.006844705818322765, 'n_epochs': 50}. Best is trial 33 with value: -33600.697265625.\n"
     ]
    },
    {
     "name": "stdout",
     "output_type": "stream",
     "text": [
      "Trial 58 finished with value: -32398.871484375\n",
      "Best trial so far: 33, value: -33600.697265625\n"
     ]
    },
    {
     "name": "stderr",
     "output_type": "stream",
     "text": [
      "[I 2025-03-18 22:34:54,057] Trial 59 finished with value: -32148.318359375 and parameters: {'batch_size': 100, 'first_layer_size': 64, 'num_layers': 4, 'confidence_threshold': 0.03386210669628805, 'dropout': 0.3388373794303428, 'lr': 0.004304871249577918, 'n_epochs': 50}. Best is trial 33 with value: -33600.697265625.\n"
     ]
    },
    {
     "name": "stdout",
     "output_type": "stream",
     "text": [
      "Trial 59 finished with value: -32148.318359375\n",
      "Best trial so far: 33, value: -33600.697265625\n"
     ]
    },
    {
     "name": "stderr",
     "output_type": "stream",
     "text": [
      "[I 2025-03-18 22:35:13,518] Trial 60 finished with value: -30391.605078125 and parameters: {'batch_size': 1000, 'first_layer_size': 48, 'num_layers': 2, 'confidence_threshold': 0.041330267617191434, 'dropout': 0.36783899294359634, 'lr': 0.006077857908579329, 'n_epochs': 50}. Best is trial 33 with value: -33600.697265625.\n"
     ]
    },
    {
     "name": "stdout",
     "output_type": "stream",
     "text": [
      "Trial 60 finished with value: -30391.605078125\n",
      "Best trial so far: 33, value: -33600.697265625\n"
     ]
    },
    {
     "name": "stderr",
     "output_type": "stream",
     "text": [
      "[I 2025-03-18 22:35:34,234] Trial 61 finished with value: -32420.032421875 and parameters: {'batch_size': 400, 'first_layer_size': 12, 'num_layers': 2, 'confidence_threshold': 0.04825900140027458, 'dropout': 0.3357362212902771, 'lr': 0.007721586250569319, 'n_epochs': 50}. Best is trial 33 with value: -33600.697265625.\n"
     ]
    },
    {
     "name": "stdout",
     "output_type": "stream",
     "text": [
      "Trial 61 finished with value: -32420.032421875\n",
      "Best trial so far: 33, value: -33600.697265625\n"
     ]
    },
    {
     "name": "stderr",
     "output_type": "stream",
     "text": [
      "[I 2025-03-18 22:36:18,827] Trial 62 finished with value: -32767.23203125 and parameters: {'batch_size': 100, 'first_layer_size': 12, 'num_layers': 2, 'confidence_threshold': 0.04489035191267959, 'dropout': 0.3340590685676847, 'lr': 0.009272361555597387, 'n_epochs': 50}. Best is trial 33 with value: -33600.697265625.\n"
     ]
    },
    {
     "name": "stdout",
     "output_type": "stream",
     "text": [
      "Trial 62 finished with value: -32767.23203125\n",
      "Best trial so far: 33, value: -33600.697265625\n"
     ]
    },
    {
     "name": "stderr",
     "output_type": "stream",
     "text": [
      "[I 2025-03-18 22:36:41,190] Trial 63 finished with value: -33251.10703125 and parameters: {'batch_size': 400, 'first_layer_size': 12, 'num_layers': 2, 'confidence_threshold': 0.046920193928794006, 'dropout': 0.34008245693068495, 'lr': 0.007145508208189133, 'n_epochs': 54}. Best is trial 33 with value: -33600.697265625.\n"
     ]
    },
    {
     "name": "stdout",
     "output_type": "stream",
     "text": [
      "Trial 63 finished with value: -33251.10703125\n",
      "Best trial so far: 33, value: -33600.697265625\n"
     ]
    },
    {
     "name": "stderr",
     "output_type": "stream",
     "text": [
      "[I 2025-03-18 22:37:25,395] Trial 64 finished with value: -32875.1765625 and parameters: {'batch_size': 100, 'first_layer_size': 12, 'num_layers': 2, 'confidence_threshold': 0.04674791200867868, 'dropout': 0.32824446392452655, 'lr': 0.007018482491088903, 'n_epochs': 50}. Best is trial 33 with value: -33600.697265625.\n"
     ]
    },
    {
     "name": "stdout",
     "output_type": "stream",
     "text": [
      "Trial 64 finished with value: -32875.1765625\n",
      "Best trial so far: 33, value: -33600.697265625\n"
     ]
    },
    {
     "name": "stderr",
     "output_type": "stream",
     "text": [
      "[I 2025-03-18 22:38:09,703] Trial 65 finished with value: -33577.976953125 and parameters: {'batch_size': 100, 'first_layer_size': 12, 'num_layers': 2, 'confidence_threshold': 0.049815591703377765, 'dropout': 0.35032557361026034, 'lr': 0.007714769715830483, 'n_epochs': 50}. Best is trial 33 with value: -33600.697265625.\n"
     ]
    },
    {
     "name": "stdout",
     "output_type": "stream",
     "text": [
      "Trial 65 finished with value: -33577.976953125\n",
      "Best trial so far: 33, value: -33600.697265625\n"
     ]
    },
    {
     "name": "stderr",
     "output_type": "stream",
     "text": [
      "[I 2025-03-18 22:38:54,072] Trial 66 finished with value: -32415.886328125 and parameters: {'batch_size': 100, 'first_layer_size': 12, 'num_layers': 2, 'confidence_threshold': 0.023763207560565977, 'dropout': 0.35825975524319825, 'lr': 0.007830318922400735, 'n_epochs': 50}. Best is trial 33 with value: -33600.697265625.\n"
     ]
    },
    {
     "name": "stdout",
     "output_type": "stream",
     "text": [
      "Trial 66 finished with value: -32415.886328125\n",
      "Best trial so far: 33, value: -33600.697265625\n"
     ]
    },
    {
     "name": "stderr",
     "output_type": "stream",
     "text": [
      "[I 2025-03-18 22:39:16,346] Trial 67 finished with value: -31469.355078125 and parameters: {'batch_size': 400, 'first_layer_size': 12, 'num_layers': 2, 'confidence_threshold': 0.04783889793576238, 'dropout': 0.34962300437174654, 'lr': 0.008642786965148835, 'n_epochs': 50}. Best is trial 33 with value: -33600.697265625.\n"
     ]
    },
    {
     "name": "stdout",
     "output_type": "stream",
     "text": [
      "Trial 67 finished with value: -31469.355078125\n",
      "Best trial so far: 33, value: -33600.697265625\n"
     ]
    },
    {
     "name": "stderr",
     "output_type": "stream",
     "text": [
      "[I 2025-03-18 22:40:01,592] Trial 68 finished with value: -32449.944921875 and parameters: {'batch_size': 100, 'first_layer_size': 16, 'num_layers': 2, 'confidence_threshold': 0.04306037469445297, 'dropout': 0.3548976652294617, 'lr': 0.006375979403336964, 'n_epochs': 50}. Best is trial 33 with value: -33600.697265625.\n"
     ]
    },
    {
     "name": "stdout",
     "output_type": "stream",
     "text": [
      "Trial 68 finished with value: -32449.944921875\n",
      "Best trial so far: 33, value: -33600.697265625\n"
     ]
    },
    {
     "name": "stderr",
     "output_type": "stream",
     "text": [
      "[I 2025-03-18 22:40:20,807] Trial 69 finished with value: -30919.31953125 and parameters: {'batch_size': 3000, 'first_layer_size': 12, 'num_layers': 2, 'confidence_threshold': 0.0371058230416619, 'dropout': 0.3403350080871947, 'lr': 0.00825539832253928, 'n_epochs': 62}. Best is trial 33 with value: -33600.697265625.\n"
     ]
    },
    {
     "name": "stdout",
     "output_type": "stream",
     "text": [
      "Trial 69 finished with value: -30919.31953125\n",
      "Best trial so far: 33, value: -33600.697265625\n"
     ]
    },
    {
     "name": "stderr",
     "output_type": "stream",
     "text": [
      "[I 2025-03-18 22:41:04,700] Trial 70 finished with value: -32896.919140625 and parameters: {'batch_size': 100, 'first_layer_size': 12, 'num_layers': 2, 'confidence_threshold': 0.04985388856701346, 'dropout': 0.3641232800246941, 'lr': 0.007075507051351185, 'n_epochs': 50}. Best is trial 33 with value: -33600.697265625.\n"
     ]
    },
    {
     "name": "stdout",
     "output_type": "stream",
     "text": [
      "Trial 70 finished with value: -32896.919140625\n",
      "Best trial so far: 33, value: -33600.697265625\n"
     ]
    },
    {
     "name": "stderr",
     "output_type": "stream",
     "text": [
      "[I 2025-03-18 22:41:49,091] Trial 71 finished with value: -32895.33203125 and parameters: {'batch_size': 100, 'first_layer_size': 12, 'num_layers': 2, 'confidence_threshold': 0.04578357997679596, 'dropout': 0.3450740388428472, 'lr': 0.0056897411893505915, 'n_epochs': 50}. Best is trial 33 with value: -33600.697265625.\n"
     ]
    },
    {
     "name": "stdout",
     "output_type": "stream",
     "text": [
      "Trial 71 finished with value: -32895.33203125\n",
      "Best trial so far: 33, value: -33600.697265625\n"
     ]
    },
    {
     "name": "stderr",
     "output_type": "stream",
     "text": [
      "[I 2025-03-18 22:42:34,042] Trial 72 finished with value: -32573.01484375 and parameters: {'batch_size': 100, 'first_layer_size': 12, 'num_layers': 2, 'confidence_threshold': 0.047571564075096245, 'dropout': 0.3517978560027632, 'lr': 0.005016074265053354, 'n_epochs': 50}. Best is trial 33 with value: -33600.697265625.\n"
     ]
    },
    {
     "name": "stdout",
     "output_type": "stream",
     "text": [
      "Trial 72 finished with value: -32573.01484375\n",
      "Best trial so far: 33, value: -33600.697265625\n"
     ]
    },
    {
     "name": "stderr",
     "output_type": "stream",
     "text": [
      "[I 2025-03-18 22:43:18,261] Trial 73 finished with value: -32535.7375 and parameters: {'batch_size': 100, 'first_layer_size': 12, 'num_layers': 2, 'confidence_threshold': 0.04876159464695908, 'dropout': 0.3482774377874454, 'lr': 0.007676655865724045, 'n_epochs': 50}. Best is trial 33 with value: -33600.697265625.\n"
     ]
    },
    {
     "name": "stdout",
     "output_type": "stream",
     "text": [
      "Trial 73 finished with value: -32535.7375\n",
      "Best trial so far: 33, value: -33600.697265625\n"
     ]
    },
    {
     "name": "stderr",
     "output_type": "stream",
     "text": [
      "[I 2025-03-18 22:43:35,381] Trial 74 finished with value: -31142.5953125 and parameters: {'batch_size': 1000, 'first_layer_size': 12, 'num_layers': 2, 'confidence_threshold': 0.04512837308096675, 'dropout': 0.3424575058502481, 'lr': 0.009459839922415714, 'n_epochs': 52}. Best is trial 33 with value: -33600.697265625.\n"
     ]
    },
    {
     "name": "stdout",
     "output_type": "stream",
     "text": [
      "Trial 74 finished with value: -31142.5953125\n",
      "Best trial so far: 33, value: -33600.697265625\n"
     ]
    },
    {
     "name": "stderr",
     "output_type": "stream",
     "text": [
      "[I 2025-03-18 22:44:31,694] Trial 75 finished with value: -31855.085546875 and parameters: {'batch_size': 100, 'first_layer_size': 48, 'num_layers': 3, 'confidence_threshold': 0.04005386925092436, 'dropout': 0.3297718351177642, 'lr': 0.005403087853001935, 'n_epochs': 51}. Best is trial 33 with value: -33600.697265625.\n"
     ]
    },
    {
     "name": "stdout",
     "output_type": "stream",
     "text": [
      "Trial 75 finished with value: -31855.085546875\n",
      "Best trial so far: 33, value: -33600.697265625\n"
     ]
    },
    {
     "name": "stderr",
     "output_type": "stream",
     "text": [
      "[I 2025-03-18 22:44:52,400] Trial 76 finished with value: -31409.107421875 and parameters: {'batch_size': 400, 'first_layer_size': 12, 'num_layers': 2, 'confidence_threshold': 0.04981588115560926, 'dropout': 0.3392869963714333, 'lr': 0.003943335965540414, 'n_epochs': 50}. Best is trial 33 with value: -33600.697265625.\n"
     ]
    },
    {
     "name": "stdout",
     "output_type": "stream",
     "text": [
      "Trial 76 finished with value: -31409.107421875\n",
      "Best trial so far: 33, value: -33600.697265625\n"
     ]
    },
    {
     "name": "stderr",
     "output_type": "stream",
     "text": [
      "[I 2025-03-18 22:45:51,165] Trial 77 finished with value: -32715.369921875 and parameters: {'batch_size': 100, 'first_layer_size': 32, 'num_layers': 4, 'confidence_threshold': 0.026255656817352382, 'dropout': 0.3556436014002744, 'lr': 0.0066445022668350584, 'n_epochs': 50}. Best is trial 33 with value: -33600.697265625.\n"
     ]
    },
    {
     "name": "stdout",
     "output_type": "stream",
     "text": [
      "Trial 77 finished with value: -32715.369921875\n",
      "Best trial so far: 33, value: -33600.697265625\n"
     ]
    },
    {
     "name": "stderr",
     "output_type": "stream",
     "text": [
      "[I 2025-03-18 22:47:05,375] Trial 78 finished with value: -31806.00078125 and parameters: {'batch_size': 100, 'first_layer_size': 56, 'num_layers': 3, 'confidence_threshold': 0.04183260395658853, 'dropout': 0.32502803625209914, 'lr': 0.007371214646982633, 'n_epochs': 55}. Best is trial 33 with value: -33600.697265625.\n"
     ]
    },
    {
     "name": "stdout",
     "output_type": "stream",
     "text": [
      "Trial 78 finished with value: -31806.00078125\n",
      "Best trial so far: 33, value: -33600.697265625\n"
     ]
    },
    {
     "name": "stderr",
     "output_type": "stream",
     "text": [
      "[I 2025-03-18 22:48:27,507] Trial 79 finished with value: -31578.709375 and parameters: {'batch_size': 100, 'first_layer_size': 64, 'num_layers': 6, 'confidence_threshold': 0.046026569495511926, 'dropout': 0.34465810989902124, 'lr': 0.0045732774690462495, 'n_epochs': 50}. Best is trial 33 with value: -33600.697265625.\n"
     ]
    },
    {
     "name": "stdout",
     "output_type": "stream",
     "text": [
      "Trial 79 finished with value: -31578.709375\n",
      "Best trial so far: 33, value: -33600.697265625\n"
     ]
    },
    {
     "name": "stderr",
     "output_type": "stream",
     "text": [
      "[I 2025-03-18 22:48:46,809] Trial 80 finished with value: -32041.224609375 and parameters: {'batch_size': 400, 'first_layer_size': 12, 'num_layers': 2, 'confidence_threshold': 0.043280793002402396, 'dropout': 0.3369477502296736, 'lr': 0.009910043895208826, 'n_epochs': 50}. Best is trial 33 with value: -33600.697265625.\n"
     ]
    },
    {
     "name": "stdout",
     "output_type": "stream",
     "text": [
      "Trial 80 finished with value: -32041.224609375\n",
      "Best trial so far: 33, value: -33600.697265625\n"
     ]
    },
    {
     "name": "stderr",
     "output_type": "stream",
     "text": [
      "[I 2025-03-18 22:49:06,112] Trial 81 finished with value: -31303.441015625 and parameters: {'batch_size': 400, 'first_layer_size': 12, 'num_layers': 2, 'confidence_threshold': 0.048250800130203, 'dropout': 0.3335626624081496, 'lr': 0.008652871172913515, 'n_epochs': 50}. Best is trial 33 with value: -33600.697265625.\n"
     ]
    },
    {
     "name": "stdout",
     "output_type": "stream",
     "text": [
      "Trial 81 finished with value: -31303.441015625\n",
      "Best trial so far: 33, value: -33600.697265625\n"
     ]
    },
    {
     "name": "stderr",
     "output_type": "stream",
     "text": [
      "[I 2025-03-18 22:49:25,389] Trial 82 finished with value: -32224.58359375 and parameters: {'batch_size': 400, 'first_layer_size': 12, 'num_layers': 2, 'confidence_threshold': 0.046741242544625916, 'dropout': 0.3221065411980538, 'lr': 0.009554266752648782, 'n_epochs': 50}. Best is trial 33 with value: -33600.697265625.\n"
     ]
    },
    {
     "name": "stdout",
     "output_type": "stream",
     "text": [
      "Trial 82 finished with value: -32224.58359375\n",
      "Best trial so far: 33, value: -33600.697265625\n"
     ]
    },
    {
     "name": "stderr",
     "output_type": "stream",
     "text": [
      "[I 2025-03-18 22:49:44,701] Trial 83 finished with value: -31481.07265625 and parameters: {'batch_size': 400, 'first_layer_size': 12, 'num_layers': 2, 'confidence_threshold': 0.044089028210583026, 'dropout': 0.34850870839400966, 'lr': 0.008259257481988155, 'n_epochs': 50}. Best is trial 33 with value: -33600.697265625.\n"
     ]
    },
    {
     "name": "stdout",
     "output_type": "stream",
     "text": [
      "Trial 83 finished with value: -31481.07265625\n",
      "Best trial so far: 33, value: -33600.697265625\n"
     ]
    },
    {
     "name": "stderr",
     "output_type": "stream",
     "text": [
      "[I 2025-03-18 22:50:04,111] Trial 84 finished with value: -32048.38671875 and parameters: {'batch_size': 400, 'first_layer_size': 12, 'num_layers': 2, 'confidence_threshold': 0.04102300298339469, 'dropout': 0.32952324420883433, 'lr': 0.008712468374115935, 'n_epochs': 50}. Best is trial 33 with value: -33600.697265625.\n"
     ]
    },
    {
     "name": "stdout",
     "output_type": "stream",
     "text": [
      "Trial 84 finished with value: -32048.38671875\n",
      "Best trial so far: 33, value: -33600.697265625\n"
     ]
    },
    {
     "name": "stderr",
     "output_type": "stream",
     "text": [
      "[I 2025-03-18 22:50:44,709] Trial 85 finished with value: -32670.976953125 and parameters: {'batch_size': 100, 'first_layer_size': 12, 'num_layers': 2, 'confidence_threshold': 0.03185162949051448, 'dropout': 0.35304970632869653, 'lr': 0.009244369992278553, 'n_epochs': 50}. Best is trial 33 with value: -33600.697265625.\n"
     ]
    },
    {
     "name": "stdout",
     "output_type": "stream",
     "text": [
      "Trial 85 finished with value: -32670.976953125\n",
      "Best trial so far: 33, value: -33600.697265625\n"
     ]
    },
    {
     "name": "stderr",
     "output_type": "stream",
     "text": [
      "[I 2025-03-18 22:51:34,110] Trial 86 finished with value: -32597.754296875 and parameters: {'batch_size': 100, 'first_layer_size': 48, 'num_layers': 3, 'confidence_threshold': 0.045048802414681344, 'dropout': 0.3414874710773154, 'lr': 0.007421293053135872, 'n_epochs': 50}. Best is trial 33 with value: -33600.697265625.\n"
     ]
    },
    {
     "name": "stdout",
     "output_type": "stream",
     "text": [
      "Trial 86 finished with value: -32597.754296875\n",
      "Best trial so far: 33, value: -33600.697265625\n"
     ]
    },
    {
     "name": "stderr",
     "output_type": "stream",
     "text": [
      "[I 2025-03-18 22:51:55,761] Trial 87 finished with value: -31624.032421875 and parameters: {'batch_size': 3000, 'first_layer_size': 16, 'num_layers': 3, 'confidence_threshold': 0.04854285676073875, 'dropout': 0.33762439906129416, 'lr': 0.009990416474911924, 'n_epochs': 65}. Best is trial 33 with value: -33600.697265625.\n"
     ]
    },
    {
     "name": "stdout",
     "output_type": "stream",
     "text": [
      "Trial 87 finished with value: -31624.032421875\n",
      "Best trial so far: 33, value: -33600.697265625\n"
     ]
    },
    {
     "name": "stderr",
     "output_type": "stream",
     "text": [
      "[I 2025-03-18 22:52:13,972] Trial 88 finished with value: -31519.827734375 and parameters: {'batch_size': 1000, 'first_layer_size': 12, 'num_layers': 2, 'confidence_threshold': 0.039348245687691664, 'dropout': 0.34676538455006467, 'lr': 0.008079546720654826, 'n_epochs': 57}. Best is trial 33 with value: -33600.697265625.\n"
     ]
    },
    {
     "name": "stdout",
     "output_type": "stream",
     "text": [
      "Trial 88 finished with value: -31519.827734375\n",
      "Best trial so far: 33, value: -33600.697265625\n"
     ]
    },
    {
     "name": "stderr",
     "output_type": "stream",
     "text": [
      "[I 2025-03-18 22:52:34,851] Trial 89 finished with value: -31961.54453125 and parameters: {'batch_size': 400, 'first_layer_size': 12, 'num_layers': 2, 'confidence_threshold': 0.02739798330261308, 'dropout': 0.3315212340723165, 'lr': 0.006094284175885757, 'n_epochs': 50}. Best is trial 33 with value: -33600.697265625.\n"
     ]
    },
    {
     "name": "stdout",
     "output_type": "stream",
     "text": [
      "Trial 89 finished with value: -31961.54453125\n",
      "Best trial so far: 33, value: -33600.697265625\n"
     ]
    },
    {
     "name": "stderr",
     "output_type": "stream",
     "text": [
      "[I 2025-03-18 22:53:21,568] Trial 90 finished with value: -33794.212890625 and parameters: {'batch_size': 100, 'first_layer_size': 12, 'num_layers': 2, 'confidence_threshold': 0.01453305990471148, 'dropout': 0.34397188143862195, 'lr': 0.008934182776286364, 'n_epochs': 53}. Best is trial 90 with value: -33794.212890625.\n"
     ]
    },
    {
     "name": "stdout",
     "output_type": "stream",
     "text": [
      "Trial 90 finished with value: -33794.212890625\n",
      "Best trial so far: 90, value: -33794.212890625\n"
     ]
    },
    {
     "name": "stderr",
     "output_type": "stream",
     "text": [
      "[I 2025-03-18 22:54:06,739] Trial 91 finished with value: -33532.656640625 and parameters: {'batch_size': 100, 'first_layer_size': 12, 'num_layers': 2, 'confidence_threshold': 0.006242267322734321, 'dropout': 0.3513781850819041, 'lr': 0.00899328778607599, 'n_epochs': 50}. Best is trial 90 with value: -33794.212890625.\n"
     ]
    },
    {
     "name": "stdout",
     "output_type": "stream",
     "text": [
      "Trial 91 finished with value: -33532.656640625\n",
      "Best trial so far: 90, value: -33794.212890625\n"
     ]
    },
    {
     "name": "stderr",
     "output_type": "stream",
     "text": [
      "[I 2025-03-18 22:54:53,031] Trial 92 finished with value: -33624.0984375 and parameters: {'batch_size': 100, 'first_layer_size': 12, 'num_layers': 2, 'confidence_threshold': 0.0015988760993932531, 'dropout': 0.3505115882187171, 'lr': 0.009013935924053808, 'n_epochs': 57}. Best is trial 90 with value: -33794.212890625.\n"
     ]
    },
    {
     "name": "stdout",
     "output_type": "stream",
     "text": [
      "Trial 92 finished with value: -33624.0984375\n",
      "Best trial so far: 90, value: -33794.212890625\n"
     ]
    },
    {
     "name": "stderr",
     "output_type": "stream",
     "text": [
      "[I 2025-03-18 22:55:33,700] Trial 93 finished with value: -31887.567578125 and parameters: {'batch_size': 100, 'first_layer_size': 12, 'num_layers': 2, 'confidence_threshold': 0.0001069743018806738, 'dropout': 0.36071295414252996, 'lr': 0.008989729314112417, 'n_epochs': 50}. Best is trial 90 with value: -33794.212890625.\n"
     ]
    },
    {
     "name": "stdout",
     "output_type": "stream",
     "text": [
      "Trial 93 finished with value: -31887.567578125\n",
      "Best trial so far: 90, value: -33794.212890625\n"
     ]
    },
    {
     "name": "stderr",
     "output_type": "stream",
     "text": [
      "[I 2025-03-18 22:56:24,835] Trial 94 finished with value: -32979.615625 and parameters: {'batch_size': 100, 'first_layer_size': 12, 'num_layers': 2, 'confidence_threshold': 0.0035537334361702127, 'dropout': 0.3506616042639155, 'lr': 0.008588683574638956, 'n_epochs': 62}. Best is trial 90 with value: -33794.212890625.\n"
     ]
    },
    {
     "name": "stdout",
     "output_type": "stream",
     "text": [
      "Trial 94 finished with value: -32979.615625\n",
      "Best trial so far: 90, value: -33794.212890625\n"
     ]
    },
    {
     "name": "stderr",
     "output_type": "stream",
     "text": [
      "[I 2025-03-18 22:57:05,655] Trial 95 finished with value: -32108.252734375 and parameters: {'batch_size': 100, 'first_layer_size': 12, 'num_layers': 2, 'confidence_threshold': 0.0019704697162513177, 'dropout': 0.3548095525244875, 'lr': 0.009475830583219323, 'n_epochs': 50}. Best is trial 90 with value: -33794.212890625.\n"
     ]
    },
    {
     "name": "stdout",
     "output_type": "stream",
     "text": [
      "Trial 95 finished with value: -32108.252734375\n",
      "Best trial so far: 90, value: -33794.212890625\n"
     ]
    },
    {
     "name": "stderr",
     "output_type": "stream",
     "text": [
      "[I 2025-03-18 22:57:46,317] Trial 96 finished with value: -31433.79609375 and parameters: {'batch_size': 100, 'first_layer_size': 12, 'num_layers': 2, 'confidence_threshold': 0.007752382542367205, 'dropout': 0.3478240808069978, 'lr': 0.002087418664190239, 'n_epochs': 50}. Best is trial 90 with value: -33794.212890625.\n"
     ]
    },
    {
     "name": "stdout",
     "output_type": "stream",
     "text": [
      "Trial 96 finished with value: -31433.79609375\n",
      "Best trial so far: 90, value: -33794.212890625\n"
     ]
    },
    {
     "name": "stderr",
     "output_type": "stream",
     "text": [
      "[I 2025-03-18 22:58:46,551] Trial 97 finished with value: -32995.092578125 and parameters: {'batch_size': 100, 'first_layer_size': 48, 'num_layers': 5, 'confidence_threshold': 0.01308451361457924, 'dropout': 0.3509835332991593, 'lr': 0.0068251362968425695, 'n_epochs': 50}. Best is trial 90 with value: -33794.212890625.\n"
     ]
    },
    {
     "name": "stdout",
     "output_type": "stream",
     "text": [
      "Trial 97 finished with value: -32995.092578125\n",
      "Best trial so far: 90, value: -33794.212890625\n"
     ]
    },
    {
     "name": "stderr",
     "output_type": "stream",
     "text": [
      "[I 2025-03-18 22:59:32,822] Trial 98 finished with value: -32121.559375 and parameters: {'batch_size': 100, 'first_layer_size': 32, 'num_layers': 2, 'confidence_threshold': 0.0054476133021087204, 'dropout': 0.35989174582412015, 'lr': 0.007737605352400253, 'n_epochs': 50}. Best is trial 90 with value: -33794.212890625.\n"
     ]
    },
    {
     "name": "stdout",
     "output_type": "stream",
     "text": [
      "Trial 98 finished with value: -32121.559375\n",
      "Best trial so far: 90, value: -33794.212890625\n"
     ]
    },
    {
     "name": "stderr",
     "output_type": "stream",
     "text": [
      "[I 2025-03-18 23:00:14,207] Trial 99 finished with value: -32856.980859375 and parameters: {'batch_size': 100, 'first_layer_size': 12, 'num_layers': 2, 'confidence_threshold': 0.006049435796663533, 'dropout': 0.3443264972567622, 'lr': 0.008159717429696362, 'n_epochs': 50}. Best is trial 90 with value: -33794.212890625.\n"
     ]
    },
    {
     "name": "stdout",
     "output_type": "stream",
     "text": [
      "Trial 99 finished with value: -32856.980859375\n",
      "Best trial so far: 90, value: -33794.212890625\n"
     ]
    },
    {
     "name": "stderr",
     "output_type": "stream",
     "text": [
      "[I 2025-03-18 23:01:10,020] Trial 100 finished with value: -31480.290625 and parameters: {'batch_size': 100, 'first_layer_size': 56, 'num_layers': 3, 'confidence_threshold': 0.01827905980969084, 'dropout': 0.3404655961126892, 'lr': 0.008983063725349346, 'n_epochs': 50}. Best is trial 90 with value: -33794.212890625.\n"
     ]
    },
    {
     "name": "stdout",
     "output_type": "stream",
     "text": [
      "Trial 100 finished with value: -31480.290625\n",
      "Best trial so far: 90, value: -33794.212890625\n"
     ]
    },
    {
     "name": "stderr",
     "output_type": "stream",
     "text": [
      "[I 2025-03-18 23:01:56,742] Trial 101 finished with value: -33251.684375 and parameters: {'batch_size': 100, 'first_layer_size': 12, 'num_layers': 2, 'confidence_threshold': 0.00196396392200817, 'dropout': 0.34601027864384176, 'lr': 0.007527501832343982, 'n_epochs': 57}. Best is trial 90 with value: -33794.212890625.\n"
     ]
    },
    {
     "name": "stdout",
     "output_type": "stream",
     "text": [
      "Trial 101 finished with value: -33251.684375\n",
      "Best trial so far: 90, value: -33794.212890625\n"
     ]
    },
    {
     "name": "stderr",
     "output_type": "stream",
     "text": [
      "[I 2025-03-18 23:02:37,838] Trial 102 finished with value: -32621.49296875 and parameters: {'batch_size': 100, 'first_layer_size': 12, 'num_layers': 2, 'confidence_threshold': 0.011194105682957582, 'dropout': 0.35593374269882766, 'lr': 0.007601798321501158, 'n_epochs': 50}. Best is trial 90 with value: -33794.212890625.\n"
     ]
    },
    {
     "name": "stdout",
     "output_type": "stream",
     "text": [
      "Trial 102 finished with value: -32621.49296875\n",
      "Best trial so far: 90, value: -33794.212890625\n"
     ]
    },
    {
     "name": "stderr",
     "output_type": "stream",
     "text": [
      "[I 2025-03-18 23:03:29,539] Trial 103 finished with value: -32362.72265625 and parameters: {'batch_size': 100, 'first_layer_size': 12, 'num_layers': 2, 'confidence_threshold': 0.0020751475713952977, 'dropout': 0.3530976614129647, 'lr': 0.007150893669766841, 'n_epochs': 64}. Best is trial 90 with value: -33794.212890625.\n"
     ]
    },
    {
     "name": "stdout",
     "output_type": "stream",
     "text": [
      "Trial 103 finished with value: -32362.72265625\n",
      "Best trial so far: 90, value: -33794.212890625\n"
     ]
    },
    {
     "name": "stderr",
     "output_type": "stream",
     "text": [
      "[I 2025-03-18 23:04:13,006] Trial 104 finished with value: -32280.05078125 and parameters: {'batch_size': 100, 'first_layer_size': 12, 'num_layers': 2, 'confidence_threshold': 0.001747686680151703, 'dropout': 0.3464572659421397, 'lr': 0.008561686020354817, 'n_epochs': 53}. Best is trial 90 with value: -33794.212890625.\n"
     ]
    },
    {
     "name": "stdout",
     "output_type": "stream",
     "text": [
      "Trial 104 finished with value: -32280.05078125\n",
      "Best trial so far: 90, value: -33794.212890625\n"
     ]
    },
    {
     "name": "stderr",
     "output_type": "stream",
     "text": [
      "[I 2025-03-18 23:04:54,077] Trial 105 finished with value: -33059.332421875 and parameters: {'batch_size': 100, 'first_layer_size': 12, 'num_layers': 2, 'confidence_threshold': 0.004508156529050391, 'dropout': 0.34202573380149953, 'lr': 0.009501057159413986, 'n_epochs': 50}. Best is trial 90 with value: -33794.212890625.\n"
     ]
    },
    {
     "name": "stdout",
     "output_type": "stream",
     "text": [
      "Trial 105 finished with value: -33059.332421875\n",
      "Best trial so far: 90, value: -33794.212890625\n"
     ]
    },
    {
     "name": "stderr",
     "output_type": "stream",
     "text": [
      "[I 2025-03-18 23:05:58,671] Trial 106 finished with value: -32407.78359375 and parameters: {'batch_size': 100, 'first_layer_size': 64, 'num_layers': 3, 'confidence_threshold': 0.0062627097728010835, 'dropout': 0.34860684875746895, 'lr': 0.008104355973477043, 'n_epochs': 53}. Best is trial 90 with value: -33794.212890625.\n"
     ]
    },
    {
     "name": "stdout",
     "output_type": "stream",
     "text": [
      "Trial 106 finished with value: -32407.78359375\n",
      "Best trial so far: 90, value: -33794.212890625\n"
     ]
    },
    {
     "name": "stderr",
     "output_type": "stream",
     "text": [
      "[I 2025-03-18 23:06:39,608] Trial 107 finished with value: -32241.744140625 and parameters: {'batch_size': 100, 'first_layer_size': 12, 'num_layers': 2, 'confidence_threshold': 0.01498526453240785, 'dropout': 0.3437618901356028, 'lr': 0.002716628063824595, 'n_epochs': 50}. Best is trial 90 with value: -33794.212890625.\n"
     ]
    },
    {
     "name": "stdout",
     "output_type": "stream",
     "text": [
      "Trial 107 finished with value: -32241.744140625\n",
      "Best trial so far: 90, value: -33794.212890625\n"
     ]
    },
    {
     "name": "stderr",
     "output_type": "stream",
     "text": [
      "[I 2025-03-18 23:07:20,389] Trial 108 finished with value: -32756.6828125 and parameters: {'batch_size': 100, 'first_layer_size': 12, 'num_layers': 2, 'confidence_threshold': 0.0012253295676048182, 'dropout': 0.35002061035731025, 'lr': 0.006499959247482355, 'n_epochs': 50}. Best is trial 90 with value: -33794.212890625.\n"
     ]
    },
    {
     "name": "stdout",
     "output_type": "stream",
     "text": [
      "Trial 108 finished with value: -32756.6828125\n",
      "Best trial so far: 90, value: -33794.212890625\n"
     ]
    },
    {
     "name": "stderr",
     "output_type": "stream",
     "text": [
      "[I 2025-03-18 23:08:04,818] Trial 109 finished with value: -31787.963671875 and parameters: {'batch_size': 100, 'first_layer_size': 48, 'num_layers': 2, 'confidence_threshold': 0.021553455082336283, 'dropout': 0.3349881638218774, 'lr': 0.00895921108749382, 'n_epochs': 50}. Best is trial 90 with value: -33794.212890625.\n"
     ]
    },
    {
     "name": "stdout",
     "output_type": "stream",
     "text": [
      "Trial 109 finished with value: -31787.963671875\n",
      "Best trial so far: 90, value: -33794.212890625\n"
     ]
    },
    {
     "name": "stderr",
     "output_type": "stream",
     "text": [
      "[I 2025-03-18 23:08:45,218] Trial 110 finished with value: -33627.357421875 and parameters: {'batch_size': 100, 'first_layer_size': 12, 'num_layers': 2, 'confidence_threshold': 0.00317404650798765, 'dropout': 0.3568993229655794, 'lr': 0.008437775219354616, 'n_epochs': 50}. Best is trial 90 with value: -33794.212890625.\n"
     ]
    },
    {
     "name": "stdout",
     "output_type": "stream",
     "text": [
      "Trial 110 finished with value: -33627.357421875\n",
      "Best trial so far: 90, value: -33794.212890625\n"
     ]
    },
    {
     "name": "stderr",
     "output_type": "stream",
     "text": [
      "[I 2025-03-18 23:09:25,748] Trial 111 finished with value: -32288.553125 and parameters: {'batch_size': 100, 'first_layer_size': 12, 'num_layers': 2, 'confidence_threshold': 0.0034405577243586186, 'dropout': 0.36424649066800596, 'lr': 0.008366943415461592, 'n_epochs': 50}. Best is trial 90 with value: -33794.212890625.\n"
     ]
    },
    {
     "name": "stdout",
     "output_type": "stream",
     "text": [
      "Trial 111 finished with value: -32288.553125\n",
      "Best trial so far: 90, value: -33794.212890625\n"
     ]
    },
    {
     "name": "stderr",
     "output_type": "stream",
     "text": [
      "[I 2025-03-18 23:10:08,938] Trial 112 finished with value: -31860.95234375 and parameters: {'batch_size': 100, 'first_layer_size': 12, 'num_layers': 2, 'confidence_threshold': 0.002910178069838605, 'dropout': 0.3577876666280766, 'lr': 0.009522184558186425, 'n_epochs': 52}. Best is trial 90 with value: -33794.212890625.\n"
     ]
    },
    {
     "name": "stdout",
     "output_type": "stream",
     "text": [
      "Trial 112 finished with value: -31860.95234375\n",
      "Best trial so far: 90, value: -33794.212890625\n"
     ]
    },
    {
     "name": "stderr",
     "output_type": "stream",
     "text": [
      "[I 2025-03-18 23:10:49,518] Trial 113 finished with value: -32701.164453125 and parameters: {'batch_size': 100, 'first_layer_size': 12, 'num_layers': 2, 'confidence_threshold': 0.0006650163426976038, 'dropout': 0.351776800740046, 'lr': 0.007710247429623081, 'n_epochs': 50}. Best is trial 90 with value: -33794.212890625.\n"
     ]
    },
    {
     "name": "stdout",
     "output_type": "stream",
     "text": [
      "Trial 113 finished with value: -32701.164453125\n",
      "Best trial so far: 90, value: -33794.212890625\n"
     ]
    },
    {
     "name": "stderr",
     "output_type": "stream",
     "text": [
      "[I 2025-03-18 23:11:36,307] Trial 114 finished with value: -32738.605859375 and parameters: {'batch_size': 100, 'first_layer_size': 12, 'num_layers': 2, 'confidence_threshold': 0.002872947975647646, 'dropout': 0.3460213571527724, 'lr': 0.007082671022561915, 'n_epochs': 55}. Best is trial 90 with value: -33794.212890625.\n"
     ]
    },
    {
     "name": "stdout",
     "output_type": "stream",
     "text": [
      "Trial 114 finished with value: -32738.605859375\n",
      "Best trial so far: 90, value: -33794.212890625\n"
     ]
    },
    {
     "name": "stderr",
     "output_type": "stream",
     "text": [
      "[I 2025-03-18 23:12:20,290] Trial 115 finished with value: -33553.976171875 and parameters: {'batch_size': 100, 'first_layer_size': 12, 'num_layers': 2, 'confidence_threshold': 0.0051961303803343736, 'dropout': 0.3563818613537198, 'lr': 0.009119515867713231, 'n_epochs': 50}. Best is trial 90 with value: -33794.212890625.\n"
     ]
    },
    {
     "name": "stdout",
     "output_type": "stream",
     "text": [
      "Trial 115 finished with value: -33553.976171875\n",
      "Best trial so far: 90, value: -33794.212890625\n"
     ]
    },
    {
     "name": "stderr",
     "output_type": "stream",
     "text": [
      "[I 2025-03-18 23:12:43,694] Trial 116 finished with value: -30754.915234375 and parameters: {'batch_size': 3000, 'first_layer_size': 16, 'num_layers': 2, 'confidence_threshold': 0.007984921541374304, 'dropout': 0.3628860603846011, 'lr': 0.008929612698679031, 'n_epochs': 72}. Best is trial 90 with value: -33794.212890625.\n"
     ]
    },
    {
     "name": "stdout",
     "output_type": "stream",
     "text": [
      "Trial 116 finished with value: -30754.915234375\n",
      "Best trial so far: 90, value: -33794.212890625\n"
     ]
    },
    {
     "name": "stderr",
     "output_type": "stream",
     "text": [
      "[I 2025-03-18 23:13:37,930] Trial 117 finished with value: -33563.2140625 and parameters: {'batch_size': 100, 'first_layer_size': 12, 'num_layers': 2, 'confidence_threshold': 0.0045504199173578945, 'dropout': 0.35655890625687336, 'lr': 0.009945645539477696, 'n_epochs': 67}. Best is trial 90 with value: -33794.212890625.\n"
     ]
    },
    {
     "name": "stdout",
     "output_type": "stream",
     "text": [
      "Trial 117 finished with value: -33563.2140625\n",
      "Best trial so far: 90, value: -33794.212890625\n"
     ]
    },
    {
     "name": "stderr",
     "output_type": "stream",
     "text": [
      "[I 2025-03-18 23:14:18,840] Trial 118 finished with value: -32612.834765625 and parameters: {'batch_size': 100, 'first_layer_size': 12, 'num_layers': 2, 'confidence_threshold': 0.004562368464116677, 'dropout': 0.35997021765839005, 'lr': 0.009753105599047213, 'n_epochs': 50}. Best is trial 90 with value: -33794.212890625.\n"
     ]
    },
    {
     "name": "stdout",
     "output_type": "stream",
     "text": [
      "Trial 118 finished with value: -32612.834765625\n",
      "Best trial so far: 90, value: -33794.212890625\n"
     ]
    },
    {
     "name": "stderr",
     "output_type": "stream",
     "text": [
      "[I 2025-03-18 23:14:34,682] Trial 119 finished with value: -31128.535546875 and parameters: {'batch_size': 1000, 'first_layer_size': 12, 'num_layers': 2, 'confidence_threshold': 0.010017193300167402, 'dropout': 0.35641581135055767, 'lr': 0.009989292488603977, 'n_epochs': 50}. Best is trial 90 with value: -33794.212890625.\n"
     ]
    },
    {
     "name": "stdout",
     "output_type": "stream",
     "text": [
      "Trial 119 finished with value: -31128.535546875\n",
      "Best trial so far: 90, value: -33794.212890625\n"
     ]
    },
    {
     "name": "stderr",
     "output_type": "stream",
     "text": [
      "[I 2025-03-18 23:15:15,335] Trial 120 finished with value: -32519.9078125 and parameters: {'batch_size': 100, 'first_layer_size': 12, 'num_layers': 2, 'confidence_threshold': 0.00453839173456359, 'dropout': 0.353125291319924, 'lr': 0.008505915049939205, 'n_epochs': 50}. Best is trial 90 with value: -33794.212890625.\n"
     ]
    },
    {
     "name": "stdout",
     "output_type": "stream",
     "text": [
      "Trial 120 finished with value: -32519.9078125\n",
      "Best trial so far: 90, value: -33794.212890625\n"
     ]
    },
    {
     "name": "stderr",
     "output_type": "stream",
     "text": [
      "[I 2025-03-18 23:15:55,959] Trial 121 finished with value: -32749.758203125 and parameters: {'batch_size': 100, 'first_layer_size': 12, 'num_layers': 2, 'confidence_threshold': 0.007195874893341269, 'dropout': 0.3589754909401416, 'lr': 0.009134975461744637, 'n_epochs': 50}. Best is trial 90 with value: -33794.212890625.\n"
     ]
    },
    {
     "name": "stdout",
     "output_type": "stream",
     "text": [
      "Trial 121 finished with value: -32749.758203125\n",
      "Best trial so far: 90, value: -33794.212890625\n"
     ]
    },
    {
     "name": "stderr",
     "output_type": "stream",
     "text": [
      "[I 2025-03-18 23:16:36,703] Trial 122 finished with value: -32512.694140625 and parameters: {'batch_size': 100, 'first_layer_size': 12, 'num_layers': 2, 'confidence_threshold': 0.009449452601723918, 'dropout': 0.35436141487710554, 'lr': 0.00789230445100883, 'n_epochs': 50}. Best is trial 90 with value: -33794.212890625.\n"
     ]
    },
    {
     "name": "stdout",
     "output_type": "stream",
     "text": [
      "Trial 122 finished with value: -32512.694140625\n",
      "Best trial so far: 90, value: -33794.212890625\n"
     ]
    },
    {
     "name": "stderr",
     "output_type": "stream",
     "text": [
      "[I 2025-03-18 23:17:17,483] Trial 123 finished with value: -33361.2984375 and parameters: {'batch_size': 100, 'first_layer_size': 12, 'num_layers': 2, 'confidence_threshold': 0.006925037011599902, 'dropout': 0.36545628246558276, 'lr': 0.009186687244441378, 'n_epochs': 50}. Best is trial 90 with value: -33794.212890625.\n"
     ]
    },
    {
     "name": "stdout",
     "output_type": "stream",
     "text": [
      "Trial 123 finished with value: -33361.2984375\n",
      "Best trial so far: 90, value: -33794.212890625\n"
     ]
    },
    {
     "name": "stderr",
     "output_type": "stream",
     "text": [
      "[I 2025-03-18 23:18:01,385] Trial 124 finished with value: -32776.994140625 and parameters: {'batch_size': 100, 'first_layer_size': 12, 'num_layers': 2, 'confidence_threshold': 0.006699260289558838, 'dropout': 0.3656454992757536, 'lr': 0.009382804318219846, 'n_epochs': 50}. Best is trial 90 with value: -33794.212890625.\n"
     ]
    },
    {
     "name": "stdout",
     "output_type": "stream",
     "text": [
      "Trial 124 finished with value: -32776.994140625\n",
      "Best trial so far: 90, value: -33794.212890625\n"
     ]
    },
    {
     "name": "stderr",
     "output_type": "stream",
     "text": [
      "[I 2025-03-18 23:18:43,973] Trial 125 finished with value: -32762.135546875 and parameters: {'batch_size': 100, 'first_layer_size': 12, 'num_layers': 2, 'confidence_threshold': 0.0053927252764770905, 'dropout': 0.3673189844919614, 'lr': 0.008730868292229575, 'n_epochs': 50}. Best is trial 90 with value: -33794.212890625.\n"
     ]
    },
    {
     "name": "stdout",
     "output_type": "stream",
     "text": [
      "Trial 125 finished with value: -32762.135546875\n",
      "Best trial so far: 90, value: -33794.212890625\n"
     ]
    },
    {
     "name": "stderr",
     "output_type": "stream",
     "text": [
      "[I 2025-03-18 23:19:24,496] Trial 126 finished with value: -32739.2375 and parameters: {'batch_size': 100, 'first_layer_size': 12, 'num_layers': 2, 'confidence_threshold': 0.005108918176972421, 'dropout': 0.369433606210365, 'lr': 0.008142272972004587, 'n_epochs': 50}. Best is trial 90 with value: -33794.212890625.\n"
     ]
    },
    {
     "name": "stdout",
     "output_type": "stream",
     "text": [
      "Trial 126 finished with value: -32739.2375\n",
      "Best trial so far: 90, value: -33794.212890625\n"
     ]
    },
    {
     "name": "stderr",
     "output_type": "stream",
     "text": [
      "[I 2025-03-18 23:20:05,866] Trial 127 finished with value: -33016.42109375 and parameters: {'batch_size': 100, 'first_layer_size': 12, 'num_layers': 2, 'confidence_threshold': 0.009209643680278636, 'dropout': 0.3709476631306208, 'lr': 0.007462696405859263, 'n_epochs': 50}. Best is trial 90 with value: -33794.212890625.\n"
     ]
    },
    {
     "name": "stdout",
     "output_type": "stream",
     "text": [
      "Trial 127 finished with value: -33016.42109375\n",
      "Best trial so far: 90, value: -33794.212890625\n"
     ]
    },
    {
     "name": "stderr",
     "output_type": "stream",
     "text": [
      "[I 2025-03-18 23:20:46,602] Trial 128 finished with value: -33641.046875 and parameters: {'batch_size': 100, 'first_layer_size': 12, 'num_layers': 2, 'confidence_threshold': 0.002743067774154201, 'dropout': 0.357043020476045, 'lr': 0.009135814553941584, 'n_epochs': 50}. Best is trial 90 with value: -33794.212890625.\n"
     ]
    },
    {
     "name": "stdout",
     "output_type": "stream",
     "text": [
      "Trial 128 finished with value: -33641.046875\n",
      "Best trial so far: 90, value: -33794.212890625\n"
     ]
    },
    {
     "name": "stderr",
     "output_type": "stream",
     "text": [
      "[I 2025-03-18 23:21:30,151] Trial 129 finished with value: -30865.741015625 and parameters: {'batch_size': 100, 'first_layer_size': 12, 'num_layers': 2, 'confidence_threshold': 0.003833050775695162, 'dropout': 0.372773068642109, 'lr': 0.001512031041886415, 'n_epochs': 54}. Best is trial 90 with value: -33794.212890625.\n"
     ]
    },
    {
     "name": "stdout",
     "output_type": "stream",
     "text": [
      "Trial 129 finished with value: -30865.741015625\n",
      "Best trial so far: 90, value: -33794.212890625\n"
     ]
    },
    {
     "name": "stderr",
     "output_type": "stream",
     "text": [
      "[I 2025-03-18 23:22:12,806] Trial 130 finished with value: -32404.687109375 and parameters: {'batch_size': 100, 'first_layer_size': 32, 'num_layers': 2, 'confidence_threshold': 0.0025234899301581014, 'dropout': 0.3616656647850333, 'lr': 0.00955952093939681, 'n_epochs': 50}. Best is trial 90 with value: -33794.212890625.\n"
     ]
    },
    {
     "name": "stdout",
     "output_type": "stream",
     "text": [
      "Trial 130 finished with value: -32404.687109375\n",
      "Best trial so far: 90, value: -33794.212890625\n"
     ]
    },
    {
     "name": "stderr",
     "output_type": "stream",
     "text": [
      "[I 2025-03-18 23:23:01,580] Trial 131 finished with value: -32276.40703125 and parameters: {'batch_size': 100, 'first_layer_size': 12, 'num_layers': 2, 'confidence_threshold': 0.0012770686520506653, 'dropout': 0.3562218759820327, 'lr': 0.009981605963191005, 'n_epochs': 59}. Best is trial 90 with value: -33794.212890625.\n"
     ]
    },
    {
     "name": "stdout",
     "output_type": "stream",
     "text": [
      "Trial 131 finished with value: -32276.40703125\n",
      "Best trial so far: 90, value: -33794.212890625\n"
     ]
    },
    {
     "name": "stderr",
     "output_type": "stream",
     "text": [
      "[I 2025-03-18 23:23:46,918] Trial 132 finished with value: -32356.13359375 and parameters: {'batch_size': 100, 'first_layer_size': 12, 'num_layers': 2, 'confidence_threshold': 0.003944655429203659, 'dropout': 0.3791015915066268, 'lr': 0.009166338219619251, 'n_epochs': 50}. Best is trial 90 with value: -33794.212890625.\n"
     ]
    },
    {
     "name": "stdout",
     "output_type": "stream",
     "text": [
      "Trial 132 finished with value: -32356.13359375\n",
      "Best trial so far: 90, value: -33794.212890625\n"
     ]
    },
    {
     "name": "stderr",
     "output_type": "stream",
     "text": [
      "[I 2025-03-18 23:24:28,495] Trial 133 finished with value: -32794.239453125 and parameters: {'batch_size': 100, 'first_layer_size': 12, 'num_layers': 2, 'confidence_threshold': 0.012454131844591824, 'dropout': 0.3510950768146328, 'lr': 0.00848366832036584, 'n_epochs': 50}. Best is trial 90 with value: -33794.212890625.\n"
     ]
    },
    {
     "name": "stdout",
     "output_type": "stream",
     "text": [
      "Trial 133 finished with value: -32794.239453125\n",
      "Best trial so far: 90, value: -33794.212890625\n"
     ]
    },
    {
     "name": "stderr",
     "output_type": "stream",
     "text": [
      "[I 2025-03-18 23:25:09,058] Trial 134 finished with value: -32328.795703125 and parameters: {'batch_size': 100, 'first_layer_size': 12, 'num_layers': 2, 'confidence_threshold': 0.0007367108487718109, 'dropout': 0.3493124008384464, 'lr': 0.008838294057065115, 'n_epochs': 50}. Best is trial 90 with value: -33794.212890625.\n"
     ]
    },
    {
     "name": "stdout",
     "output_type": "stream",
     "text": [
      "Trial 134 finished with value: -32328.795703125\n",
      "Best trial so far: 90, value: -33794.212890625\n"
     ]
    },
    {
     "name": "stderr",
     "output_type": "stream",
     "text": [
      "[I 2025-03-18 23:25:49,524] Trial 135 finished with value: -32830.4015625 and parameters: {'batch_size': 100, 'first_layer_size': 12, 'num_layers': 2, 'confidence_threshold': 0.006920150756992703, 'dropout': 0.35806297442282575, 'lr': 0.007907468318024321, 'n_epochs': 50}. Best is trial 90 with value: -33794.212890625.\n"
     ]
    },
    {
     "name": "stdout",
     "output_type": "stream",
     "text": [
      "Trial 135 finished with value: -32830.4015625\n",
      "Best trial so far: 90, value: -33794.212890625\n"
     ]
    },
    {
     "name": "stderr",
     "output_type": "stream",
     "text": [
      "[I 2025-03-18 23:26:30,228] Trial 136 finished with value: -32928.896484375 and parameters: {'batch_size': 100, 'first_layer_size': 12, 'num_layers': 2, 'confidence_threshold': 0.00014188074453337987, 'dropout': 0.3535427052412409, 'lr': 0.00832190454603745, 'n_epochs': 50}. Best is trial 90 with value: -33794.212890625.\n"
     ]
    },
    {
     "name": "stdout",
     "output_type": "stream",
     "text": [
      "Trial 136 finished with value: -32928.896484375\n",
      "Best trial so far: 90, value: -33794.212890625\n"
     ]
    },
    {
     "name": "stderr",
     "output_type": "stream",
     "text": [
      "[I 2025-03-18 23:26:55,499] Trial 137 finished with value: -29564.84609375 and parameters: {'batch_size': 3000, 'first_layer_size': 64, 'num_layers': 8, 'confidence_threshold': 0.015022565448109362, 'dropout': 0.34740786438644644, 'lr': 0.009141500272566007, 'n_epochs': 52}. Best is trial 90 with value: -33794.212890625.\n"
     ]
    },
    {
     "name": "stdout",
     "output_type": "stream",
     "text": [
      "Trial 137 finished with value: -29564.84609375\n",
      "Best trial so far: 90, value: -33794.212890625\n"
     ]
    },
    {
     "name": "stderr",
     "output_type": "stream",
     "text": [
      "[I 2025-03-18 23:27:45,381] Trial 138 finished with value: -32880.146875 and parameters: {'batch_size': 100, 'first_layer_size': 56, 'num_layers': 2, 'confidence_threshold': 0.0024579693285559936, 'dropout': 0.35533294076935296, 'lr': 0.009476486130042054, 'n_epochs': 50}. Best is trial 90 with value: -33794.212890625.\n"
     ]
    },
    {
     "name": "stdout",
     "output_type": "stream",
     "text": [
      "Trial 138 finished with value: -32880.146875\n",
      "Best trial so far: 90, value: -33794.212890625\n"
     ]
    },
    {
     "name": "stderr",
     "output_type": "stream",
     "text": [
      "[I 2025-03-18 23:28:32,361] Trial 139 finished with value: -33592.13125 and parameters: {'batch_size': 100, 'first_layer_size': 12, 'num_layers': 2, 'confidence_threshold': 0.04740155879223498, 'dropout': 0.3499114604645119, 'lr': 0.007439251364189474, 'n_epochs': 58}. Best is trial 90 with value: -33794.212890625.\n"
     ]
    },
    {
     "name": "stdout",
     "output_type": "stream",
     "text": [
      "Trial 139 finished with value: -33592.13125\n",
      "Best trial so far: 90, value: -33794.212890625\n"
     ]
    },
    {
     "name": "stderr",
     "output_type": "stream",
     "text": [
      "[I 2025-03-18 23:29:12,859] Trial 140 finished with value: -32629.740234375 and parameters: {'batch_size': 100, 'first_layer_size': 12, 'num_layers': 2, 'confidence_threshold': 0.0032843644671639157, 'dropout': 0.3632974061506931, 'lr': 0.00871622569433499, 'n_epochs': 50}. Best is trial 90 with value: -33794.212890625.\n"
     ]
    },
    {
     "name": "stdout",
     "output_type": "stream",
     "text": [
      "Trial 140 finished with value: -32629.740234375\n",
      "Best trial so far: 90, value: -33794.212890625\n"
     ]
    },
    {
     "name": "stderr",
     "output_type": "stream",
     "text": [
      "[I 2025-03-18 23:30:03,956] Trial 141 finished with value: -32146.065625 and parameters: {'batch_size': 100, 'first_layer_size': 12, 'num_layers': 2, 'confidence_threshold': 0.047437988132546294, 'dropout': 0.3521160467760539, 'lr': 0.00733074208693923, 'n_epochs': 60}. Best is trial 90 with value: -33794.212890625.\n"
     ]
    },
    {
     "name": "stdout",
     "output_type": "stream",
     "text": [
      "Trial 141 finished with value: -32146.065625\n",
      "Best trial so far: 90, value: -33794.212890625\n"
     ]
    },
    {
     "name": "stderr",
     "output_type": "stream",
     "text": [
      "[I 2025-03-18 23:31:06,240] Trial 142 finished with value: -33025.17109375 and parameters: {'batch_size': 100, 'first_layer_size': 12, 'num_layers': 2, 'confidence_threshold': 0.045988118557764635, 'dropout': 0.3493518813317304, 'lr': 0.007965865937998664, 'n_epochs': 73}. Best is trial 90 with value: -33794.212890625.\n"
     ]
    },
    {
     "name": "stdout",
     "output_type": "stream",
     "text": [
      "Trial 142 finished with value: -33025.17109375\n",
      "Best trial so far: 90, value: -33794.212890625\n"
     ]
    },
    {
     "name": "stderr",
     "output_type": "stream",
     "text": [
      "[I 2025-03-18 23:31:46,725] Trial 143 finished with value: -32511.71796875 and parameters: {'batch_size': 100, 'first_layer_size': 12, 'num_layers': 2, 'confidence_threshold': 0.005821559927465221, 'dropout': 0.35402452862728584, 'lr': 0.006856801983567989, 'n_epochs': 50}. Best is trial 90 with value: -33794.212890625.\n"
     ]
    },
    {
     "name": "stdout",
     "output_type": "stream",
     "text": [
      "Trial 143 finished with value: -32511.71796875\n",
      "Best trial so far: 90, value: -33794.212890625\n"
     ]
    },
    {
     "name": "stderr",
     "output_type": "stream",
     "text": [
      "[I 2025-03-18 23:32:28,033] Trial 144 finished with value: -32591.887890625 and parameters: {'batch_size': 100, 'first_layer_size': 12, 'num_layers': 2, 'confidence_threshold': 0.04902780207258744, 'dropout': 0.35668471241612043, 'lr': 0.008444925564382998, 'n_epochs': 50}. Best is trial 90 with value: -33794.212890625.\n"
     ]
    },
    {
     "name": "stdout",
     "output_type": "stream",
     "text": [
      "Trial 144 finished with value: -32591.887890625\n",
      "Best trial so far: 90, value: -33794.212890625\n"
     ]
    },
    {
     "name": "stderr",
     "output_type": "stream",
     "text": [
      "[I 2025-03-18 23:32:44,232] Trial 145 finished with value: -30586.01953125 and parameters: {'batch_size': 1000, 'first_layer_size': 12, 'num_layers': 2, 'confidence_threshold': 0.046911837209430964, 'dropout': 0.34517657054330364, 'lr': 0.007512107678852238, 'n_epochs': 50}. Best is trial 90 with value: -33794.212890625.\n"
     ]
    },
    {
     "name": "stdout",
     "output_type": "stream",
     "text": [
      "Trial 145 finished with value: -30586.01953125\n",
      "Best trial so far: 90, value: -33794.212890625\n"
     ]
    },
    {
     "name": "stderr",
     "output_type": "stream",
     "text": [
      "[I 2025-03-18 23:33:24,958] Trial 146 finished with value: -33409.00625 and parameters: {'batch_size': 100, 'first_layer_size': 12, 'num_layers': 2, 'confidence_threshold': 0.008762169867533273, 'dropout': 0.35070630525133356, 'lr': 0.009137484189188068, 'n_epochs': 50}. Best is trial 90 with value: -33794.212890625.\n"
     ]
    },
    {
     "name": "stdout",
     "output_type": "stream",
     "text": [
      "Trial 146 finished with value: -33409.00625\n",
      "Best trial so far: 90, value: -33794.212890625\n"
     ]
    },
    {
     "name": "stderr",
     "output_type": "stream",
     "text": [
      "[I 2025-03-18 23:34:05,884] Trial 147 finished with value: -32998.737109375 and parameters: {'batch_size': 100, 'first_layer_size': 12, 'num_layers': 2, 'confidence_threshold': 0.008877335018203248, 'dropout': 0.3591376027310283, 'lr': 0.009679450201337392, 'n_epochs': 50}. Best is trial 90 with value: -33794.212890625.\n"
     ]
    },
    {
     "name": "stdout",
     "output_type": "stream",
     "text": [
      "Trial 147 finished with value: -32998.737109375\n",
      "Best trial so far: 90, value: -33794.212890625\n"
     ]
    },
    {
     "name": "stderr",
     "output_type": "stream",
     "text": [
      "[I 2025-03-18 23:34:46,706] Trial 148 finished with value: -33067.426953125 and parameters: {'batch_size': 100, 'first_layer_size': 12, 'num_layers': 2, 'confidence_threshold': 0.0079705699959517, 'dropout': 0.3509571379737038, 'lr': 0.00906894402393942, 'n_epochs': 50}. Best is trial 90 with value: -33794.212890625.\n"
     ]
    },
    {
     "name": "stdout",
     "output_type": "stream",
     "text": [
      "Trial 148 finished with value: -33067.426953125\n",
      "Best trial so far: 90, value: -33794.212890625\n"
     ]
    },
    {
     "name": "stderr",
     "output_type": "stream",
     "text": [
      "[I 2025-03-18 23:35:30,185] Trial 149 finished with value: -32478.12578125 and parameters: {'batch_size': 100, 'first_layer_size': 16, 'num_layers': 2, 'confidence_threshold': 0.004633900624010362, 'dropout': 0.3480542462532135, 'lr': 0.008705173956393879, 'n_epochs': 53}. Best is trial 90 with value: -33794.212890625.\n"
     ]
    },
    {
     "name": "stdout",
     "output_type": "stream",
     "text": [
      "Trial 149 finished with value: -32478.12578125\n",
      "Best trial so far: 90, value: -33794.212890625\n"
     ]
    },
    {
     "name": "stderr",
     "output_type": "stream",
     "text": [
      "[I 2025-03-18 23:36:11,005] Trial 150 finished with value: -33352.37421875 and parameters: {'batch_size': 100, 'first_layer_size': 12, 'num_layers': 2, 'confidence_threshold': 0.011951184685484922, 'dropout': 0.35274243795585214, 'lr': 0.009356213545122052, 'n_epochs': 50}. Best is trial 90 with value: -33794.212890625.\n"
     ]
    },
    {
     "name": "stdout",
     "output_type": "stream",
     "text": [
      "Trial 150 finished with value: -33352.37421875\n",
      "Best trial so far: 90, value: -33794.212890625\n"
     ]
    },
    {
     "name": "stderr",
     "output_type": "stream",
     "text": [
      "[I 2025-03-18 23:36:54,746] Trial 151 finished with value: -33397.10390625 and parameters: {'batch_size': 100, 'first_layer_size': 12, 'num_layers': 2, 'confidence_threshold': 0.010633809399105416, 'dropout': 0.35381972907799025, 'lr': 0.009935372761343339, 'n_epochs': 50}. Best is trial 90 with value: -33794.212890625.\n"
     ]
    },
    {
     "name": "stdout",
     "output_type": "stream",
     "text": [
      "Trial 151 finished with value: -33397.10390625\n",
      "Best trial so far: 90, value: -33794.212890625\n"
     ]
    },
    {
     "name": "stderr",
     "output_type": "stream",
     "text": [
      "[I 2025-03-18 23:37:38,429] Trial 152 finished with value: -33542.0671875 and parameters: {'batch_size': 100, 'first_layer_size': 12, 'num_layers': 2, 'confidence_threshold': 0.011406861793201677, 'dropout': 0.35451699827029687, 'lr': 0.009729850302873667, 'n_epochs': 50}. Best is trial 90 with value: -33794.212890625.\n"
     ]
    },
    {
     "name": "stdout",
     "output_type": "stream",
     "text": [
      "Trial 152 finished with value: -33542.0671875\n",
      "Best trial so far: 90, value: -33794.212890625\n"
     ]
    },
    {
     "name": "stderr",
     "output_type": "stream",
     "text": [
      "[I 2025-03-18 23:38:34,024] Trial 153 finished with value: -33040.6125 and parameters: {'batch_size': 100, 'first_layer_size': 12, 'num_layers': 2, 'confidence_threshold': 0.012080695795081114, 'dropout': 0.3542643360628272, 'lr': 0.009359496813571136, 'n_epochs': 68}. Best is trial 90 with value: -33794.212890625.\n"
     ]
    },
    {
     "name": "stdout",
     "output_type": "stream",
     "text": [
      "Trial 153 finished with value: -33040.6125\n",
      "Best trial so far: 90, value: -33794.212890625\n"
     ]
    },
    {
     "name": "stderr",
     "output_type": "stream",
     "text": [
      "[I 2025-03-18 23:39:15,643] Trial 154 finished with value: -32679.65625 and parameters: {'batch_size': 100, 'first_layer_size': 12, 'num_layers': 2, 'confidence_threshold': 0.011258735406881985, 'dropout': 0.360924047867102, 'lr': 0.009769306456510187, 'n_epochs': 51}. Best is trial 90 with value: -33794.212890625.\n"
     ]
    },
    {
     "name": "stdout",
     "output_type": "stream",
     "text": [
      "Trial 154 finished with value: -32679.65625\n",
      "Best trial so far: 90, value: -33794.212890625\n"
     ]
    },
    {
     "name": "stderr",
     "output_type": "stream",
     "text": [
      "[I 2025-03-18 23:39:56,167] Trial 155 finished with value: -33424.55234375 and parameters: {'batch_size': 100, 'first_layer_size': 12, 'num_layers': 2, 'confidence_threshold': 0.01104596333603298, 'dropout': 0.3523966479926127, 'lr': 0.009969146697883716, 'n_epochs': 50}. Best is trial 90 with value: -33794.212890625.\n"
     ]
    },
    {
     "name": "stdout",
     "output_type": "stream",
     "text": [
      "Trial 155 finished with value: -33424.55234375\n",
      "Best trial so far: 90, value: -33794.212890625\n"
     ]
    },
    {
     "name": "stderr",
     "output_type": "stream",
     "text": [
      "[I 2025-03-18 23:40:41,700] Trial 156 finished with value: -33174.320703125 and parameters: {'batch_size': 100, 'first_layer_size': 12, 'num_layers': 2, 'confidence_threshold': 0.010533213963541987, 'dropout': 0.3574034285665132, 'lr': 0.009953689780683403, 'n_epochs': 56}. Best is trial 90 with value: -33794.212890625.\n"
     ]
    },
    {
     "name": "stdout",
     "output_type": "stream",
     "text": [
      "Trial 156 finished with value: -33174.320703125\n",
      "Best trial so far: 90, value: -33794.212890625\n"
     ]
    },
    {
     "name": "stderr",
     "output_type": "stream",
     "text": [
      "[I 2025-03-18 23:41:28,090] Trial 157 finished with value: -32912.60234375 and parameters: {'batch_size': 100, 'first_layer_size': 12, 'num_layers': 2, 'confidence_threshold': 0.013467216735271646, 'dropout': 0.3558631085561987, 'lr': 0.008882297786597953, 'n_epochs': 57}. Best is trial 90 with value: -33794.212890625.\n"
     ]
    },
    {
     "name": "stdout",
     "output_type": "stream",
     "text": [
      "Trial 157 finished with value: -32912.60234375\n",
      "Best trial so far: 90, value: -33794.212890625\n"
     ]
    },
    {
     "name": "stderr",
     "output_type": "stream",
     "text": [
      "[I 2025-03-18 23:42:26,169] Trial 158 finished with value: -33022.339453125 and parameters: {'batch_size': 100, 'first_layer_size': 12, 'num_layers': 2, 'confidence_threshold': 0.010219453673036552, 'dropout': 0.3492158549483628, 'lr': 0.009200750879345257, 'n_epochs': 71}. Best is trial 90 with value: -33794.212890625.\n"
     ]
    },
    {
     "name": "stdout",
     "output_type": "stream",
     "text": [
      "Trial 158 finished with value: -33022.339453125\n",
      "Best trial so far: 90, value: -33794.212890625\n"
     ]
    },
    {
     "name": "stderr",
     "output_type": "stream",
     "text": [
      "[I 2025-03-18 23:43:07,043] Trial 159 finished with value: -32772.34609375 and parameters: {'batch_size': 100, 'first_layer_size': 12, 'num_layers': 2, 'confidence_threshold': 0.013675120472370432, 'dropout': 0.3508749612534448, 'lr': 0.009993863860773462, 'n_epochs': 50}. Best is trial 90 with value: -33794.212890625.\n"
     ]
    },
    {
     "name": "stdout",
     "output_type": "stream",
     "text": [
      "Trial 159 finished with value: -32772.34609375\n",
      "Best trial so far: 90, value: -33794.212890625\n"
     ]
    },
    {
     "name": "stderr",
     "output_type": "stream",
     "text": [
      "[I 2025-03-18 23:43:51,943] Trial 160 finished with value: -32572.63125 and parameters: {'batch_size': 100, 'first_layer_size': 12, 'num_layers': 2, 'confidence_threshold': 0.006946220665591476, 'dropout': 0.3584065758463323, 'lr': 0.008303078505958137, 'n_epochs': 50}. Best is trial 90 with value: -33794.212890625.\n"
     ]
    },
    {
     "name": "stdout",
     "output_type": "stream",
     "text": [
      "Trial 160 finished with value: -32572.63125\n",
      "Best trial so far: 90, value: -33794.212890625\n"
     ]
    },
    {
     "name": "stderr",
     "output_type": "stream",
     "text": [
      "[I 2025-03-18 23:44:34,524] Trial 161 finished with value: -33205.86171875 and parameters: {'batch_size': 100, 'first_layer_size': 12, 'num_layers': 2, 'confidence_threshold': 0.011322501994707565, 'dropout': 0.3528588196750245, 'lr': 0.009377151734733614, 'n_epochs': 50}. Best is trial 90 with value: -33794.212890625.\n"
     ]
    },
    {
     "name": "stdout",
     "output_type": "stream",
     "text": [
      "Trial 161 finished with value: -33205.86171875\n",
      "Best trial so far: 90, value: -33794.212890625\n"
     ]
    },
    {
     "name": "stderr",
     "output_type": "stream",
     "text": [
      "[I 2025-03-18 23:45:16,007] Trial 162 finished with value: -33235.562109375 and parameters: {'batch_size': 100, 'first_layer_size': 12, 'num_layers': 2, 'confidence_threshold': 0.009444336244937486, 'dropout': 0.3542147378113458, 'lr': 0.008907227852048815, 'n_epochs': 50}. Best is trial 90 with value: -33794.212890625.\n"
     ]
    },
    {
     "name": "stdout",
     "output_type": "stream",
     "text": [
      "Trial 162 finished with value: -33235.562109375\n",
      "Best trial so far: 90, value: -33794.212890625\n"
     ]
    },
    {
     "name": "stderr",
     "output_type": "stream",
     "text": [
      "[I 2025-03-18 23:45:56,610] Trial 163 finished with value: -33420.57421875 and parameters: {'batch_size': 100, 'first_layer_size': 12, 'num_layers': 2, 'confidence_threshold': 0.006060170280017918, 'dropout': 0.3510073199770169, 'lr': 0.009455064074063322, 'n_epochs': 50}. Best is trial 90 with value: -33794.212890625.\n"
     ]
    },
    {
     "name": "stdout",
     "output_type": "stream",
     "text": [
      "Trial 163 finished with value: -33420.57421875\n",
      "Best trial so far: 90, value: -33794.212890625\n"
     ]
    },
    {
     "name": "stderr",
     "output_type": "stream",
     "text": [
      "[I 2025-03-18 23:46:37,088] Trial 164 finished with value: -33528.648046875 and parameters: {'batch_size': 100, 'first_layer_size': 12, 'num_layers': 2, 'confidence_threshold': 0.006048600965024861, 'dropout': 0.3563281918695425, 'lr': 0.008596841237195207, 'n_epochs': 50}. Best is trial 90 with value: -33794.212890625.\n"
     ]
    },
    {
     "name": "stdout",
     "output_type": "stream",
     "text": [
      "Trial 164 finished with value: -33528.648046875\n",
      "Best trial so far: 90, value: -33794.212890625\n"
     ]
    },
    {
     "name": "stderr",
     "output_type": "stream",
     "text": [
      "[I 2025-03-18 23:47:22,134] Trial 165 finished with value: -32557.22421875 and parameters: {'batch_size': 100, 'first_layer_size': 32, 'num_layers': 2, 'confidence_threshold': 0.008375118974197937, 'dropout': 0.35543675479524395, 'lr': 0.00853325039518511, 'n_epochs': 53}. Best is trial 90 with value: -33794.212890625.\n"
     ]
    },
    {
     "name": "stdout",
     "output_type": "stream",
     "text": [
      "Trial 165 finished with value: -32557.22421875\n",
      "Best trial so far: 90, value: -33794.212890625\n"
     ]
    },
    {
     "name": "stderr",
     "output_type": "stream",
     "text": [
      "[I 2025-03-18 23:48:03,539] Trial 166 finished with value: -31536.36640625 and parameters: {'batch_size': 100, 'first_layer_size': 12, 'num_layers': 2, 'confidence_threshold': 0.01679237300023352, 'dropout': 0.3568367320328544, 'lr': 0.0034738803267080885, 'n_epochs': 50}. Best is trial 90 with value: -33794.212890625.\n"
     ]
    },
    {
     "name": "stdout",
     "output_type": "stream",
     "text": [
      "Trial 166 finished with value: -31536.36640625\n",
      "Best trial so far: 90, value: -33794.212890625\n"
     ]
    },
    {
     "name": "stderr",
     "output_type": "stream",
     "text": [
      "[I 2025-03-18 23:48:44,469] Trial 167 finished with value: -32360.827734375 and parameters: {'batch_size': 100, 'first_layer_size': 12, 'num_layers': 2, 'confidence_threshold': 0.0062403494640575, 'dropout': 0.3267030197551192, 'lr': 0.009990680778589889, 'n_epochs': 50}. Best is trial 90 with value: -33794.212890625.\n"
     ]
    },
    {
     "name": "stdout",
     "output_type": "stream",
     "text": [
      "Trial 167 finished with value: -32360.827734375\n",
      "Best trial so far: 90, value: -33794.212890625\n"
     ]
    },
    {
     "name": "stderr",
     "output_type": "stream",
     "text": [
      "[I 2025-03-18 23:49:26,707] Trial 168 finished with value: -32663.223828125 and parameters: {'batch_size': 100, 'first_layer_size': 12, 'num_layers': 2, 'confidence_threshold': 0.007657781011273882, 'dropout': 0.3507418264058295, 'lr': 0.008121635327248392, 'n_epochs': 52}. Best is trial 90 with value: -33794.212890625.\n"
     ]
    },
    {
     "name": "stdout",
     "output_type": "stream",
     "text": [
      "Trial 168 finished with value: -32663.223828125\n",
      "Best trial so far: 90, value: -33794.212890625\n"
     ]
    },
    {
     "name": "stderr",
     "output_type": "stream",
     "text": [
      "[I 2025-03-18 23:50:52,631] Trial 169 finished with value: -31069.3578125 and parameters: {'batch_size': 100, 'first_layer_size': 64, 'num_layers': 6, 'confidence_threshold': 0.005106582276060522, 'dropout': 0.36091118172233505, 'lr': 0.009530601589439497, 'n_epochs': 52}. Best is trial 90 with value: -33794.212890625.\n"
     ]
    },
    {
     "name": "stdout",
     "output_type": "stream",
     "text": [
      "Trial 169 finished with value: -31069.3578125\n",
      "Best trial so far: 90, value: -33794.212890625\n"
     ]
    },
    {
     "name": "stderr",
     "output_type": "stream",
     "text": [
      "[I 2025-03-18 23:51:49,012] Trial 170 finished with value: -32709.4515625 and parameters: {'batch_size': 100, 'first_layer_size': 56, 'num_layers': 3, 'confidence_threshold': 0.004043475641229803, 'dropout': 0.3474739261933128, 'lr': 0.008790721691389933, 'n_epochs': 50}. Best is trial 90 with value: -33794.212890625.\n"
     ]
    },
    {
     "name": "stdout",
     "output_type": "stream",
     "text": [
      "Trial 170 finished with value: -32709.4515625\n",
      "Best trial so far: 90, value: -33794.212890625\n"
     ]
    },
    {
     "name": "stderr",
     "output_type": "stream",
     "text": [
      "[I 2025-03-18 23:52:30,132] Trial 171 finished with value: -32852.41953125 and parameters: {'batch_size': 100, 'first_layer_size': 12, 'num_layers': 2, 'confidence_threshold': 0.005891946932243321, 'dropout': 0.3522169376101527, 'lr': 0.009127745001088561, 'n_epochs': 50}. Best is trial 90 with value: -33794.212890625.\n"
     ]
    },
    {
     "name": "stdout",
     "output_type": "stream",
     "text": [
      "Trial 171 finished with value: -32852.41953125\n",
      "Best trial so far: 90, value: -33794.212890625\n"
     ]
    },
    {
     "name": "stderr",
     "output_type": "stream",
     "text": [
      "[I 2025-03-18 23:53:11,102] Trial 172 finished with value: -32394.553125 and parameters: {'batch_size': 100, 'first_layer_size': 12, 'num_layers': 2, 'confidence_threshold': 0.008565222009554115, 'dropout': 0.35966209294326396, 'lr': 0.009417984225644285, 'n_epochs': 50}. Best is trial 90 with value: -33794.212890625.\n"
     ]
    },
    {
     "name": "stdout",
     "output_type": "stream",
     "text": [
      "Trial 172 finished with value: -32394.553125\n",
      "Best trial so far: 90, value: -33794.212890625\n"
     ]
    },
    {
     "name": "stderr",
     "output_type": "stream",
     "text": [
      "[I 2025-03-18 23:53:51,962] Trial 173 finished with value: -33771.325390625 and parameters: {'batch_size': 100, 'first_layer_size': 12, 'num_layers': 2, 'confidence_threshold': 0.006279150821445659, 'dropout': 0.349658895004388, 'lr': 0.0084616614510939, 'n_epochs': 50}. Best is trial 90 with value: -33794.212890625.\n"
     ]
    },
    {
     "name": "stdout",
     "output_type": "stream",
     "text": [
      "Trial 173 finished with value: -33771.325390625\n",
      "Best trial so far: 90, value: -33794.212890625\n"
     ]
    },
    {
     "name": "stderr",
     "output_type": "stream",
     "text": [
      "[I 2025-03-18 23:54:38,204] Trial 174 finished with value: -32629.662109375 and parameters: {'batch_size': 100, 'first_layer_size': 12, 'num_layers': 2, 'confidence_threshold': 0.005579895295919038, 'dropout': 0.3545035552378377, 'lr': 0.008366483154176057, 'n_epochs': 50}. Best is trial 90 with value: -33794.212890625.\n"
     ]
    },
    {
     "name": "stdout",
     "output_type": "stream",
     "text": [
      "Trial 174 finished with value: -32629.662109375\n",
      "Best trial so far: 90, value: -33794.212890625\n"
     ]
    },
    {
     "name": "stderr",
     "output_type": "stream",
     "text": [
      "[I 2025-03-18 23:55:19,185] Trial 175 finished with value: -32590.86796875 and parameters: {'batch_size': 100, 'first_layer_size': 12, 'num_layers': 2, 'confidence_threshold': 0.009806114771481652, 'dropout': 0.3493298618515235, 'lr': 0.007849671056577051, 'n_epochs': 50}. Best is trial 90 with value: -33794.212890625.\n"
     ]
    },
    {
     "name": "stdout",
     "output_type": "stream",
     "text": [
      "Trial 175 finished with value: -32590.86796875\n",
      "Best trial so far: 90, value: -33794.212890625\n"
     ]
    },
    {
     "name": "stderr",
     "output_type": "stream",
     "text": [
      "[I 2025-03-18 23:55:35,955] Trial 176 finished with value: -30013.84765625 and parameters: {'batch_size': 3000, 'first_layer_size': 12, 'num_layers': 2, 'confidence_threshold': 0.0032391975182989113, 'dropout': 0.35177691147518997, 'lr': 0.00881019080582852, 'n_epochs': 54}. Best is trial 90 with value: -33794.212890625.\n"
     ]
    },
    {
     "name": "stdout",
     "output_type": "stream",
     "text": [
      "Trial 176 finished with value: -30013.84765625\n",
      "Best trial so far: 90, value: -33794.212890625\n"
     ]
    },
    {
     "name": "stderr",
     "output_type": "stream",
     "text": [
      "[I 2025-03-18 23:56:19,035] Trial 177 finished with value: -32908.371484375 and parameters: {'batch_size': 100, 'first_layer_size': 12, 'num_layers': 2, 'confidence_threshold': 0.006946129518823144, 'dropout': 0.35773384534230784, 'lr': 0.008177342309821763, 'n_epochs': 50}. Best is trial 90 with value: -33794.212890625.\n"
     ]
    },
    {
     "name": "stdout",
     "output_type": "stream",
     "text": [
      "Trial 177 finished with value: -32908.371484375\n",
      "Best trial so far: 90, value: -33794.212890625\n"
     ]
    },
    {
     "name": "stderr",
     "output_type": "stream",
     "text": [
      "[I 2025-03-18 23:57:03,105] Trial 178 finished with value: -32414.6296875 and parameters: {'batch_size': 100, 'first_layer_size': 12, 'num_layers': 2, 'confidence_threshold': 0.014278316888311321, 'dropout': 0.3501433023417427, 'lr': 0.009597929528408706, 'n_epochs': 50}. Best is trial 90 with value: -33794.212890625.\n"
     ]
    },
    {
     "name": "stdout",
     "output_type": "stream",
     "text": [
      "Trial 178 finished with value: -32414.6296875\n",
      "Best trial so far: 90, value: -33794.212890625\n"
     ]
    },
    {
     "name": "stderr",
     "output_type": "stream",
     "text": [
      "[I 2025-03-18 23:57:44,299] Trial 179 finished with value: -33113.151953125 and parameters: {'batch_size': 100, 'first_layer_size': 12, 'num_layers': 2, 'confidence_threshold': 0.004285503402278487, 'dropout': 0.3473296062981114, 'lr': 0.008704067825814137, 'n_epochs': 50}. Best is trial 90 with value: -33794.212890625.\n"
     ]
    },
    {
     "name": "stdout",
     "output_type": "stream",
     "text": [
      "Trial 179 finished with value: -33113.151953125\n",
      "Best trial so far: 90, value: -33794.212890625\n"
     ]
    },
    {
     "name": "stderr",
     "output_type": "stream",
     "text": [
      "[I 2025-03-18 23:58:00,337] Trial 180 finished with value: -30850.11640625 and parameters: {'batch_size': 1000, 'first_layer_size': 12, 'num_layers': 2, 'confidence_threshold': 0.007560554283882732, 'dropout': 0.3544393107595258, 'lr': 0.009006281402169443, 'n_epochs': 50}. Best is trial 90 with value: -33794.212890625.\n"
     ]
    },
    {
     "name": "stdout",
     "output_type": "stream",
     "text": [
      "Trial 180 finished with value: -30850.11640625\n",
      "Best trial so far: 90, value: -33794.212890625\n"
     ]
    },
    {
     "name": "stderr",
     "output_type": "stream",
     "text": [
      "[I 2025-03-18 23:58:40,907] Trial 181 finished with value: -33505.43515625 and parameters: {'batch_size': 100, 'first_layer_size': 12, 'num_layers': 2, 'confidence_threshold': 0.008815867505939611, 'dropout': 0.35249917452378754, 'lr': 0.009129614215084141, 'n_epochs': 50}. Best is trial 90 with value: -33794.212890625.\n"
     ]
    },
    {
     "name": "stdout",
     "output_type": "stream",
     "text": [
      "Trial 181 finished with value: -33505.43515625\n",
      "Best trial so far: 90, value: -33794.212890625\n"
     ]
    },
    {
     "name": "stderr",
     "output_type": "stream",
     "text": [
      "[I 2025-03-18 23:59:24,731] Trial 182 finished with value: -32783.10625 and parameters: {'batch_size': 100, 'first_layer_size': 12, 'num_layers': 2, 'confidence_threshold': 0.00914494174858723, 'dropout': 0.35300391367720696, 'lr': 0.009577827114725984, 'n_epochs': 53}. Best is trial 90 with value: -33794.212890625.\n"
     ]
    },
    {
     "name": "stdout",
     "output_type": "stream",
     "text": [
      "Trial 182 finished with value: -32783.10625\n",
      "Best trial so far: 90, value: -33794.212890625\n"
     ]
    },
    {
     "name": "stderr",
     "output_type": "stream",
     "text": [
      "[I 2025-03-19 00:00:06,008] Trial 183 finished with value: -33152.474609375 and parameters: {'batch_size': 100, 'first_layer_size': 12, 'num_layers': 2, 'confidence_threshold': 0.01047146724239026, 'dropout': 0.3553988703934114, 'lr': 0.008498484406082887, 'n_epochs': 50}. Best is trial 90 with value: -33794.212890625.\n"
     ]
    },
    {
     "name": "stdout",
     "output_type": "stream",
     "text": [
      "Trial 183 finished with value: -33152.474609375\n",
      "Best trial so far: 90, value: -33794.212890625\n"
     ]
    },
    {
     "name": "stderr",
     "output_type": "stream",
     "text": [
      "[I 2025-03-19 00:00:54,088] Trial 184 finished with value: -33332.090625 and parameters: {'batch_size': 100, 'first_layer_size': 12, 'num_layers': 2, 'confidence_threshold': 0.0059609299130593575, 'dropout': 0.3499982056278898, 'lr': 0.009977394180699475, 'n_epochs': 59}. Best is trial 90 with value: -33794.212890625.\n"
     ]
    },
    {
     "name": "stdout",
     "output_type": "stream",
     "text": [
      "Trial 184 finished with value: -33332.090625\n",
      "Best trial so far: 90, value: -33794.212890625\n"
     ]
    },
    {
     "name": "stderr",
     "output_type": "stream",
     "text": [
      "[I 2025-03-19 00:01:34,818] Trial 185 finished with value: -32627.95390625 and parameters: {'batch_size': 100, 'first_layer_size': 12, 'num_layers': 2, 'confidence_threshold': 0.008200599432406827, 'dropout': 0.35204770261057905, 'lr': 0.009130311928768314, 'n_epochs': 50}. Best is trial 90 with value: -33794.212890625.\n"
     ]
    },
    {
     "name": "stdout",
     "output_type": "stream",
     "text": [
      "Trial 185 finished with value: -32627.95390625\n",
      "Best trial so far: 90, value: -33794.212890625\n"
     ]
    },
    {
     "name": "stderr",
     "output_type": "stream",
     "text": [
      "[I 2025-03-19 00:02:16,411] Trial 186 finished with value: -32573.839453125 and parameters: {'batch_size': 100, 'first_layer_size': 16, 'num_layers': 2, 'confidence_threshold': 0.04991344357422927, 'dropout': 0.32400629940061987, 'lr': 0.007994959302065967, 'n_epochs': 50}. Best is trial 90 with value: -33794.212890625.\n"
     ]
    },
    {
     "name": "stdout",
     "output_type": "stream",
     "text": [
      "Trial 186 finished with value: -32573.839453125\n",
      "Best trial so far: 90, value: -33794.212890625\n"
     ]
    },
    {
     "name": "stderr",
     "output_type": "stream",
     "text": [
      "[I 2025-03-19 00:02:57,403] Trial 187 finished with value: -32574.85 and parameters: {'batch_size': 100, 'first_layer_size': 12, 'num_layers': 2, 'confidence_threshold': 0.004939078067534985, 'dropout': 0.2851776322137232, 'lr': 0.008530836233275246, 'n_epochs': 50}. Best is trial 90 with value: -33794.212890625.\n"
     ]
    },
    {
     "name": "stdout",
     "output_type": "stream",
     "text": [
      "Trial 187 finished with value: -32574.85\n",
      "Best trial so far: 90, value: -33794.212890625\n"
     ]
    },
    {
     "name": "stderr",
     "output_type": "stream",
     "text": [
      "[I 2025-03-19 00:03:48,307] Trial 188 finished with value: -31954.026171875 and parameters: {'batch_size': 100, 'first_layer_size': 12, 'num_layers': 2, 'confidence_threshold': 0.012550454796935463, 'dropout': 0.35740410122693583, 'lr': 0.009438790891144485, 'n_epochs': 56}. Best is trial 90 with value: -33794.212890625.\n"
     ]
    },
    {
     "name": "stdout",
     "output_type": "stream",
     "text": [
      "Trial 188 finished with value: -31954.026171875\n",
      "Best trial so far: 90, value: -33794.212890625\n"
     ]
    },
    {
     "name": "stderr",
     "output_type": "stream",
     "text": [
      "[I 2025-03-19 00:04:30,094] Trial 189 finished with value: -33369.2078125 and parameters: {'batch_size': 100, 'first_layer_size': 12, 'num_layers': 2, 'confidence_threshold': 0.002663041302169349, 'dropout': 0.34563745611461855, 'lr': 0.008923881238832936, 'n_epochs': 50}. Best is trial 90 with value: -33794.212890625.\n"
     ]
    },
    {
     "name": "stdout",
     "output_type": "stream",
     "text": [
      "Trial 189 finished with value: -33369.2078125\n",
      "Best trial so far: 90, value: -33794.212890625\n"
     ]
    },
    {
     "name": "stderr",
     "output_type": "stream",
     "text": [
      "[I 2025-03-19 00:05:13,077] Trial 190 finished with value: -32564.61015625 and parameters: {'batch_size': 100, 'first_layer_size': 12, 'num_layers': 2, 'confidence_threshold': 0.011028016065613011, 'dropout': 0.3486525782863236, 'lr': 0.009992940712138099, 'n_epochs': 50}. Best is trial 90 with value: -33794.212890625.\n"
     ]
    },
    {
     "name": "stdout",
     "output_type": "stream",
     "text": [
      "Trial 190 finished with value: -32564.61015625\n",
      "Best trial so far: 90, value: -33794.212890625\n"
     ]
    },
    {
     "name": "stderr",
     "output_type": "stream",
     "text": [
      "[I 2025-03-19 00:05:54,253] Trial 191 finished with value: -33351.4703125 and parameters: {'batch_size': 100, 'first_layer_size': 12, 'num_layers': 2, 'confidence_threshold': 0.0024922292462226693, 'dropout': 0.3445545241227505, 'lr': 0.00904511600741874, 'n_epochs': 50}. Best is trial 90 with value: -33794.212890625.\n"
     ]
    },
    {
     "name": "stdout",
     "output_type": "stream",
     "text": [
      "Trial 191 finished with value: -33351.4703125\n",
      "Best trial so far: 90, value: -33794.212890625\n"
     ]
    },
    {
     "name": "stderr",
     "output_type": "stream",
     "text": [
      "[I 2025-03-19 00:06:39,927] Trial 192 finished with value: -33086.366015625 and parameters: {'batch_size': 100, 'first_layer_size': 12, 'num_layers': 2, 'confidence_threshold': 0.0013789782823706736, 'dropout': 0.34594226525305477, 'lr': 0.00871443472154483, 'n_epochs': 56}. Best is trial 90 with value: -33794.212890625.\n"
     ]
    },
    {
     "name": "stdout",
     "output_type": "stream",
     "text": [
      "Trial 192 finished with value: -33086.366015625\n",
      "Best trial so far: 90, value: -33794.212890625\n"
     ]
    },
    {
     "name": "stderr",
     "output_type": "stream",
     "text": [
      "[I 2025-03-19 00:07:31,484] Trial 193 finished with value: -32787.4765625 and parameters: {'batch_size': 100, 'first_layer_size': 12, 'num_layers': 2, 'confidence_threshold': 0.0034235816475611373, 'dropout': 0.353464350556154, 'lr': 0.00947699377524793, 'n_epochs': 63}. Best is trial 90 with value: -33794.212890625.\n"
     ]
    },
    {
     "name": "stdout",
     "output_type": "stream",
     "text": [
      "Trial 193 finished with value: -32787.4765625\n",
      "Best trial so far: 90, value: -33794.212890625\n"
     ]
    },
    {
     "name": "stderr",
     "output_type": "stream",
     "text": [
      "[I 2025-03-19 00:08:13,659] Trial 194 finished with value: -32635.3484375 and parameters: {'batch_size': 100, 'first_layer_size': 12, 'num_layers': 2, 'confidence_threshold': 0.004985554406095592, 'dropout': 0.35133613449666246, 'lr': 0.008242958657096549, 'n_epochs': 50}. Best is trial 90 with value: -33794.212890625.\n"
     ]
    },
    {
     "name": "stdout",
     "output_type": "stream",
     "text": [
      "Trial 194 finished with value: -32635.3484375\n",
      "Best trial so far: 90, value: -33794.212890625\n"
     ]
    },
    {
     "name": "stderr",
     "output_type": "stream",
     "text": [
      "[I 2025-03-19 00:08:55,478] Trial 195 finished with value: -32863.2984375 and parameters: {'batch_size': 100, 'first_layer_size': 12, 'num_layers': 2, 'confidence_threshold': 0.006373061815137157, 'dropout': 0.3480344422686556, 'lr': 0.00904974132472704, 'n_epochs': 51}. Best is trial 90 with value: -33794.212890625.\n"
     ]
    },
    {
     "name": "stdout",
     "output_type": "stream",
     "text": [
      "Trial 195 finished with value: -32863.2984375\n",
      "Best trial so far: 90, value: -33794.212890625\n"
     ]
    },
    {
     "name": "stderr",
     "output_type": "stream",
     "text": [
      "[I 2025-03-19 00:09:46,547] Trial 196 finished with value: -33819.141015625 and parameters: {'batch_size': 100, 'first_layer_size': 12, 'num_layers': 2, 'confidence_threshold': 0.004059892513204301, 'dropout': 0.3561161240501327, 'lr': 0.007680649804126977, 'n_epochs': 60}. Best is trial 196 with value: -33819.141015625.\n"
     ]
    },
    {
     "name": "stdout",
     "output_type": "stream",
     "text": [
      "Trial 196 finished with value: -33819.141015625\n",
      "Best trial so far: 196, value: -33819.141015625\n"
     ]
    },
    {
     "name": "stderr",
     "output_type": "stream",
     "text": [
      "[I 2025-03-19 00:10:35,795] Trial 197 finished with value: -33039.38203125 and parameters: {'batch_size': 100, 'first_layer_size': 12, 'num_layers': 2, 'confidence_threshold': 0.004072799359722936, 'dropout': 0.3559892454484817, 'lr': 0.007816464261339485, 'n_epochs': 55}. Best is trial 196 with value: -33819.141015625.\n"
     ]
    },
    {
     "name": "stdout",
     "output_type": "stream",
     "text": [
      "Trial 197 finished with value: -33039.38203125\n",
      "Best trial so far: 196, value: -33819.141015625\n"
     ]
    },
    {
     "name": "stderr",
     "output_type": "stream",
     "text": [
      "[I 2025-03-19 00:11:16,480] Trial 198 finished with value: -32405.218359375 and parameters: {'batch_size': 100, 'first_layer_size': 12, 'num_layers': 2, 'confidence_threshold': 0.007320073859665358, 'dropout': 0.3592867931725931, 'lr': 0.007727975673992904, 'n_epochs': 50}. Best is trial 196 with value: -33819.141015625.\n"
     ]
    },
    {
     "name": "stdout",
     "output_type": "stream",
     "text": [
      "Trial 198 finished with value: -32405.218359375\n",
      "Best trial so far: 196, value: -33819.141015625\n"
     ]
    },
    {
     "name": "stderr",
     "output_type": "stream",
     "text": [
      "[I 2025-03-19 00:12:00,131] Trial 199 finished with value: -33364.229296875 and parameters: {'batch_size': 100, 'first_layer_size': 12, 'num_layers': 2, 'confidence_threshold': 0.005678565715938724, 'dropout': 0.3541269645351805, 'lr': 0.008447985997640347, 'n_epochs': 53}. Best is trial 196 with value: -33819.141015625.\n"
     ]
    },
    {
     "name": "stdout",
     "output_type": "stream",
     "text": [
      "Trial 199 finished with value: -33364.229296875\n",
      "Best trial so far: 196, value: -33819.141015625\n",
      "Best trial:\n",
      "Value:  -33819.141015625\n",
      "Params: \n",
      "    batch_size: 100\n",
      "    first_layer_size: 12\n",
      "    num_layers: 2\n",
      "    confidence_threshold: 0.004059892513204301\n",
      "    dropout: 0.3561161240501327\n",
      "    lr: 0.007680649804126977\n",
      "    n_epochs: 60\n"
     ]
    }
   ],
   "source": [
    "study = optuna.create_study(\n",
    "    direction='minimize',\n",
    "    pruner=optuna.pruners.HyperbandPruner(\n",
    "        min_resource=1,\n",
    "        max_resource=1000\n",
    "    )\n",
    ")\n",
    "# Uncomment to run\n",
    "if True:\n",
    "    study.optimize(objective, n_trials=200, callbacks=[print_callback])\n",
    "    # study.optimize(objective, n_trials=3)\n",
    "    print(\"Best trial:\")\n",
    "    trial = study.best_trial\n",
    "    print(\"Value: \", trial.value)\n",
    "    print(\"Params: \")\n",
    "    for key, value in trial.params.items():\n",
    "        print(f\"    {key}: {value}\")\n"
   ]
  },
  {
   "cell_type": "code",
   "execution_count": 19,
   "id": "d65ea5b9",
   "metadata": {},
   "outputs": [
    {
     "ename": "TypeError",
     "evalue": "where() received an invalid combination of arguments - got (Tensor, numpy.ndarray, numpy.ndarray), but expected one of:\n * (Tensor condition)\n * (Tensor condition, Tensor input, Tensor other, *, Tensor out)\n * (Tensor condition, Number self, Tensor other)\n      didn't match because some of the arguments have invalid types: (Tensor, !numpy.ndarray!, !numpy.ndarray!)\n * (Tensor condition, Tensor input, Number other)\n      didn't match because some of the arguments have invalid types: (Tensor, !numpy.ndarray!, !numpy.ndarray!)\n * (Tensor condition, Number self, Number other)\n      didn't match because some of the arguments have invalid types: (Tensor, !numpy.ndarray!, !numpy.ndarray!)\n",
     "output_type": "error",
     "traceback": [
      "\u001b[0;31m---------------------------------------------------------------------------\u001b[0m",
      "\u001b[0;31mTypeError\u001b[0m                                 Traceback (most recent call last)",
      "Cell \u001b[0;32mIn[19], line 38\u001b[0m\n\u001b[1;32m     35\u001b[0m     pipeline\u001b[38;5;241m.\u001b[39mfit(conts_train, y_train)\n\u001b[1;32m     37\u001b[0m     \u001b[38;5;66;03m# ----- Eval -----\u001b[39;00m\n\u001b[0;32m---> 38\u001b[0m     loss \u001b[38;5;241m=\u001b[39m \u001b[43mpipeline\u001b[49m\u001b[38;5;241;43m.\u001b[39;49m\u001b[43mscore\u001b[49m\u001b[43m(\u001b[49m\u001b[43mperf_conts\u001b[49m\u001b[43m,\u001b[49m\u001b[43m \u001b[49m\u001b[43mperf_y_col\u001b[49m\u001b[43m)\u001b[49m\n\u001b[1;32m     39\u001b[0m     \u001b[38;5;28mprint\u001b[39m(\u001b[38;5;124mf\u001b[39m\u001b[38;5;124m\"\u001b[39m\u001b[38;5;124mloss: \u001b[39m\u001b[38;5;132;01m{\u001b[39;00mloss\u001b[38;5;132;01m}\u001b[39;00m\u001b[38;5;124m\"\u001b[39m)\n\u001b[1;32m     41\u001b[0m \u001b[38;5;66;03m# pipeline.fit(conts_train, y_train)\u001b[39;00m\n",
      "File \u001b[0;32m~/anaconda3/envs/pytorchenv/lib/python3.9/site-packages/sklearn/utils/metaestimators.py:113\u001b[0m, in \u001b[0;36m_AvailableIfDescriptor.__get__.<locals>.<lambda>\u001b[0;34m(*args, **kwargs)\u001b[0m\n\u001b[1;32m    110\u001b[0m         \u001b[38;5;28;01mraise\u001b[39;00m attr_err\n\u001b[1;32m    112\u001b[0m     \u001b[38;5;66;03m# lambda, but not partial, allows help() to work with update_wrapper\u001b[39;00m\n\u001b[0;32m--> 113\u001b[0m     out \u001b[38;5;241m=\u001b[39m \u001b[38;5;28;01mlambda\u001b[39;00m \u001b[38;5;241m*\u001b[39margs, \u001b[38;5;241m*\u001b[39m\u001b[38;5;241m*\u001b[39mkwargs: \u001b[38;5;28;43mself\u001b[39;49m\u001b[38;5;241;43m.\u001b[39;49m\u001b[43mfn\u001b[49m\u001b[43m(\u001b[49m\u001b[43mobj\u001b[49m\u001b[43m,\u001b[49m\u001b[43m \u001b[49m\u001b[38;5;241;43m*\u001b[39;49m\u001b[43margs\u001b[49m\u001b[43m,\u001b[49m\u001b[43m \u001b[49m\u001b[38;5;241;43m*\u001b[39;49m\u001b[38;5;241;43m*\u001b[39;49m\u001b[43mkwargs\u001b[49m\u001b[43m)\u001b[49m  \u001b[38;5;66;03m# noqa\u001b[39;00m\n\u001b[1;32m    114\u001b[0m \u001b[38;5;28;01melse\u001b[39;00m:\n\u001b[1;32m    116\u001b[0m     \u001b[38;5;28;01mdef\u001b[39;00m \u001b[38;5;21mfn\u001b[39m(\u001b[38;5;241m*\u001b[39margs, \u001b[38;5;241m*\u001b[39m\u001b[38;5;241m*\u001b[39mkwargs):\n",
      "File \u001b[0;32m~/anaconda3/envs/pytorchenv/lib/python3.9/site-packages/sklearn/pipeline.py:711\u001b[0m, in \u001b[0;36mPipeline.score\u001b[0;34m(self, X, y, sample_weight)\u001b[0m\n\u001b[1;32m    709\u001b[0m \u001b[38;5;28;01mif\u001b[39;00m sample_weight \u001b[38;5;129;01mis\u001b[39;00m \u001b[38;5;129;01mnot\u001b[39;00m \u001b[38;5;28;01mNone\u001b[39;00m:\n\u001b[1;32m    710\u001b[0m     score_params[\u001b[38;5;124m\"\u001b[39m\u001b[38;5;124msample_weight\u001b[39m\u001b[38;5;124m\"\u001b[39m] \u001b[38;5;241m=\u001b[39m sample_weight\n\u001b[0;32m--> 711\u001b[0m \u001b[38;5;28;01mreturn\u001b[39;00m \u001b[38;5;28;43mself\u001b[39;49m\u001b[38;5;241;43m.\u001b[39;49m\u001b[43msteps\u001b[49m\u001b[43m[\u001b[49m\u001b[38;5;241;43m-\u001b[39;49m\u001b[38;5;241;43m1\u001b[39;49m\u001b[43m]\u001b[49m\u001b[43m[\u001b[49m\u001b[38;5;241;43m1\u001b[39;49m\u001b[43m]\u001b[49m\u001b[38;5;241;43m.\u001b[39;49m\u001b[43mscore\u001b[49m\u001b[43m(\u001b[49m\u001b[43mXt\u001b[49m\u001b[43m,\u001b[49m\u001b[43m \u001b[49m\u001b[43my\u001b[49m\u001b[43m,\u001b[49m\u001b[43m \u001b[49m\u001b[38;5;241;43m*\u001b[39;49m\u001b[38;5;241;43m*\u001b[39;49m\u001b[43mscore_params\u001b[49m\u001b[43m)\u001b[49m\n",
      "Cell \u001b[0;32mIn[13], line 110\u001b[0m, in \u001b[0;36mTabularModelUpdated.score\u001b[0;34m(self, X, y)\u001b[0m\n\u001b[1;32m    106\u001b[0m \u001b[38;5;124;03m\"\"\"\u001b[39;00m\n\u001b[1;32m    107\u001b[0m \u001b[38;5;124;03m12/5 - this isn't called at all if 'scoring' is defined\u001b[39;00m\n\u001b[1;32m    108\u001b[0m \u001b[38;5;124;03m\"\"\"\u001b[39;00m\n\u001b[1;32m    109\u001b[0m probas \u001b[38;5;241m=\u001b[39m \u001b[38;5;28mself\u001b[39m\u001b[38;5;241m.\u001b[39mpredict_proba(X)[:, \u001b[38;5;241m0\u001b[39m]\n\u001b[0;32m--> 110\u001b[0m result \u001b[38;5;241m=\u001b[39m \u001b[43mnfl_custom_criterion\u001b[49m\u001b[43m(\u001b[49m\u001b[43mprobas\u001b[49m\u001b[43m,\u001b[49m\u001b[43m \u001b[49m\u001b[43my\u001b[49m\u001b[43m)\u001b[49m\n\u001b[1;32m    111\u001b[0m \u001b[38;5;28;01mreturn\u001b[39;00m result\u001b[38;5;241m.\u001b[39mitem()\n",
      "Cell \u001b[0;32mIn[12], line 20\u001b[0m, in \u001b[0;36mnfl_custom_criterion\u001b[0;34m(x, y, pearson_multiplier, max_bet_size)\u001b[0m\n\u001b[1;32m     18\u001b[0m v_start_odds \u001b[38;5;241m=\u001b[39m y[:,\u001b[38;5;241m2\u001b[39m]\n\u001b[1;32m     19\u001b[0m h_won \u001b[38;5;241m=\u001b[39m y[:,\u001b[38;5;241m0\u001b[39m]\n\u001b[0;32m---> 20\u001b[0m y_decimal_odds \u001b[38;5;241m=\u001b[39m \u001b[43mtorch\u001b[49m\u001b[38;5;241;43m.\u001b[39;49m\u001b[43mwhere\u001b[49m\u001b[43m(\u001b[49m\u001b[43mx\u001b[49m\u001b[43m \u001b[49m\u001b[38;5;241;43m>\u001b[39;49m\u001b[43m \u001b[49m\u001b[38;5;241;43m0\u001b[39;49m\u001b[43m,\u001b[49m\u001b[43m \u001b[49m\u001b[43mh_start_odds\u001b[49m\u001b[43m,\u001b[49m\u001b[43m \u001b[49m\u001b[43mv_start_odds\u001b[49m\u001b[43m)\u001b[49m \u001b[38;5;66;03m# Predicted vs actual odds (regardless of correct prediction)\u001b[39;00m\n\u001b[1;32m     21\u001b[0m y_prob \u001b[38;5;241m=\u001b[39m \u001b[38;5;241m1\u001b[39m \u001b[38;5;241m/\u001b[39m y_decimal_odds                  \u001b[38;5;66;03m# Probability (regardless of correct prediction)\u001b[39;00m\n\u001b[1;32m     22\u001b[0m x_H_Won \u001b[38;5;241m=\u001b[39m torch\u001b[38;5;241m.\u001b[39mround(torch\u001b[38;5;241m.\u001b[39msigmoid(\u001b[38;5;241m20\u001b[39m \u001b[38;5;241m*\u001b[39m x)) \u001b[38;5;66;03m# Sigmoid so that it's differentiable. The 20 is arbitrarily large number\u001b[39;00m\n",
      "\u001b[0;31mTypeError\u001b[0m: where() received an invalid combination of arguments - got (Tensor, numpy.ndarray, numpy.ndarray), but expected one of:\n * (Tensor condition)\n * (Tensor condition, Tensor input, Tensor other, *, Tensor out)\n * (Tensor condition, Number self, Tensor other)\n      didn't match because some of the arguments have invalid types: (Tensor, !numpy.ndarray!, !numpy.ndarray!)\n * (Tensor condition, Tensor input, Number other)\n      didn't match because some of the arguments have invalid types: (Tensor, !numpy.ndarray!, !numpy.ndarray!)\n * (Tensor condition, Number self, Number other)\n      didn't match because some of the arguments have invalid types: (Tensor, !numpy.ndarray!, !numpy.ndarray!)\n"
     ]
    }
   ],
   "source": [
    "# best_params = study.best_trial.params\n",
    "best_params = {'criterion': 'MSELoss', 'first_layer_size': 64, 'num_layers': 7, 'confidence_threshold': 1.8653941637231173e-05, 'dropout': 0.3181431308672629, 'lr': 0.009969598746996452, 'n_epochs': 231}\n",
    "best_params = {'criterion': 'L1Loss', 'first_layer_size': 16, 'num_layers': 4, 'confidence_threshold': 0.010392255577263067, 'dropout': 0.3018270504618998, 'lr': 0.0020927261150450226, 'n_epochs': 100}\n",
    "best_params = {'batch_size': 400, 'first_layer_size': 12, 'num_layers': 3, 'confidence_threshold': 0.0074379232974536025, 'dropout': 0.3012002579065517, 'lr': 0.002814549768232188, 'n_epochs': 50}\n",
    "best_params = {'batch_size': 100, 'first_layer_size': 12, 'num_layers': 2, 'confidence_threshold': 0.005678565715938724, 'dropout': 0.3541269645351805, 'lr': 0.008447985997640347, 'n_epochs': 53}\n",
    "layer_shape = [best_params['first_layer_size']]\n",
    "for i in range(1, best_params['num_layers']):\n",
    "    layer_shape.append(best_params['first_layer_size']//(2*i))\n",
    "\n",
    "# Set random state to have consistent results (42 is arbitrary)\n",
    "set_all_seeds()\n",
    "model = TabularModelUpdated(\n",
    "    n_cont=conts.shape[1],\n",
    "    out_sz=1,\n",
    "    layer_shape=layer_shape,\n",
    "    p=best_params['dropout'],     # Dropout\n",
    "    # criterion=nfl_utils.map_losses(best_params['criterion']),\n",
    "    optimizer_class=torch.optim.Adam,\n",
    "    lr= best_params['lr'],   # Learning rate \n",
    "    confidence_threshold=best_params['confidence_threshold'],\n",
    "    batch_size=best_params['batch_size']\n",
    ")\n",
    "\n",
    "\n",
    "pipeline = Pipeline([\n",
    "    ('scaler', StandardScaler()), # Standardize the numerical features\n",
    "    # ('regressor', LinearRegression()), # Apply a regression model\n",
    "    ('model', model)\n",
    "])\n",
    "\n",
    "# Run once on each split, track average loss, stop if > max patience\n",
    "for _ in range(0, (best_params['n_epochs'] - 10)):\n",
    "    running_loss = 0.0\n",
    "    # ----- Train -----\n",
    "    pipeline.fit(conts_train, y_train)\n",
    "\n",
    "    # ----- Eval -----\n",
    "    loss = pipeline.score(perf_conts, perf_y_col)\n",
    "    print(f\"loss: {loss}\")\n",
    "\n",
    "# pipeline.fit(conts_train, y_train)\n",
    "probas = pipeline.predict(perf_conts)\n",
    "confidence_threshold = best_params['confidence_threshold']\n"
   ]
  },
  {
   "cell_type": "code",
   "execution_count": 18,
   "id": "92020224-b9cf-4c61-9dbc-3d0a536d2286",
   "metadata": {},
   "outputs": [
    {
     "name": "stdout",
     "output_type": "stream",
     "text": [
      "['2024-10-14' 'BUF' 'NYJ']\n",
      "2024-10-14: w_odds:1.36 acct_val: 1000.00 usable cash: 900.00 won: False\n",
      "2024-10-14: w_odds:1.43 acct_val: 900.00 usable cash: 810.00 won: True\n",
      "2024-10-14: w_odds:1.58 acct_val: 938.57 usable cash: 716.14 won: True\n",
      "2024-10-14: w_odds:1.46 acct_val: 993.24 usable cash: 616.82 won: True\n",
      "2024-10-14: w_odds:1.30 acct_val: 1039.12 usable cash: 512.91 won: True\n",
      "2024-10-14: w_odds:1.25 acct_val: 1070.12 usable cash: 405.89 won: False\n",
      "2024-10-14: w_odds:1.33 acct_val: 963.11 usable cash: 309.58 won: True\n",
      "['2024-10-17' 'DEN' 'NOR']\n",
      "2024-10-17: w_odds:1.83 acct_val: 994.85 usable cash: 895.36 won: True\n",
      "['2024-10-20' 'PHI' 'NYG']\n",
      "2024-10-20: w_odds:1.58 acct_val: 1077.66 usable cash: 969.89 won: True\n",
      "['2024-10-21' 'BAL' 'TAM']\n",
      "2024-10-21: w_odds:1.58 acct_val: 1140.43 usable cash: 1026.39 won: True\n",
      "2024-10-21: w_odds:1.94 acct_val: 1206.86 usable cash: 905.70 won: False\n",
      "2024-10-21: w_odds:1.12 acct_val: 1086.17 usable cash: 797.08 won: False\n",
      "2024-10-21: w_odds:1.58 acct_val: 977.56 usable cash: 699.33 won: False\n",
      "2024-10-21: w_odds:1.58 acct_val: 879.80 usable cash: 611.35 won: False\n",
      "2024-10-21: w_odds:1.16 acct_val: 791.82 usable cash: 532.17 won: False\n",
      "2024-10-21: w_odds:1.36 acct_val: 712.64 usable cash: 460.90 won: True\n",
      "2024-10-21: w_odds:2.07 acct_val: 738.46 usable cash: 387.06 won: False\n",
      "2024-10-21: w_odds:1.25 acct_val: 664.61 usable cash: 320.60 won: False\n",
      "2024-10-21: w_odds:2.07 acct_val: 598.15 usable cash: 260.78 won: False\n",
      "['2024-10-27' 'CAR' 'DEN']\n",
      "2024-10-27: w_odds:1.43 acct_val: 538.34 usable cash: 484.50 won: True\n",
      "2024-10-27: w_odds:1.94 acct_val: 561.41 usable cash: 428.36 won: False\n",
      "['2024-10-28' 'NYG' 'PIT']\n",
      "2024-10-28: w_odds:1.05 acct_val: 505.27 usable cash: 459.33 won: False\n",
      "2024-10-28: w_odds:1.79 acct_val: 459.33 usable cash: 417.58 won: False\n",
      "2024-10-28: w_odds:1.06 acct_val: 417.58 usable cash: 379.61 won: False\n",
      "2024-10-28: w_odds:1.36 acct_val: 379.61 usable cash: 345.10 won: False\n",
      "2024-10-28: w_odds:1.79 acct_val: 345.10 usable cash: 313.73 won: True\n",
      "2024-10-28: w_odds:1.17 acct_val: 369.90 usable cash: 280.10 won: True\n",
      "2024-10-28: w_odds:1.58 acct_val: 375.69 usable cash: 245.95 won: False\n",
      "2024-10-28: w_odds:2.07 acct_val: 341.54 usable cash: 214.90 won: True\n",
      "2024-10-28: w_odds:1.40 acct_val: 374.86 usable cash: 180.82 won: False\n",
      "2024-10-28: w_odds:1.46 acct_val: 340.79 usable cash: 149.84 won: False\n",
      "2024-10-28: w_odds:1.25 acct_val: 309.80 usable cash: 121.68 won: False\n",
      "['2024-10-31' 'HOU' 'NYJ']\n",
      "2024-10-31: w_odds:1.33 acct_val: 281.64 usable cash: 253.48 won: False\n",
      "['2024-11-03' 'LAC' 'CLE']\n",
      "2024-11-03: w_odds:1.72 acct_val: 253.48 usable cash: 228.13 won: False\n",
      "['2024-11-04' 'TAM' 'KAN']\n",
      "2024-11-04: w_odds:1.76 acct_val: 228.13 usable cash: 205.32 won: True\n",
      "2024-11-04: w_odds:1.72 acct_val: 245.40 usable cash: 180.78 won: False\n",
      "2024-11-04: w_odds:1.58 acct_val: 220.86 usable cash: 158.69 won: False\n",
      "2024-11-04: w_odds:1.43 acct_val: 198.77 usable cash: 138.81 won: True\n",
      "2024-11-04: w_odds:1.33 acct_val: 207.29 usable cash: 118.08 won: False\n",
      "2024-11-04: w_odds:1.20 acct_val: 186.56 usable cash: 99.43 won: False\n",
      "2024-11-04: w_odds:1.16 acct_val: 167.91 usable cash: 82.64 won: False\n",
      "2024-11-04: w_odds:1.33 acct_val: 151.12 usable cash: 67.53 won: False\n",
      "2024-11-04: w_odds:1.20 acct_val: 136.00 usable cash: 53.93 won: False\n",
      "2024-11-04: w_odds:1.79 acct_val: 122.40 usable cash: 41.68 won: False\n",
      "['2024-11-07' 'CIN' 'BAL']\n",
      "2024-11-07: w_odds:1.16 acct_val: 110.16 usable cash: 99.15 won: False\n",
      "['2024-11-10' 'TEN' 'LAC']\n",
      "2024-11-10: w_odds:1.33 acct_val: 99.15 usable cash: 89.23 won: False\n",
      "['2024-11-14' 'WAS' 'PHI']\n",
      "2024-11-14: w_odds:1.19 acct_val: 89.23 usable cash: 80.31 won: False\n",
      "2024-11-14: w_odds:1.25 acct_val: 80.31 usable cash: 72.28 won: True\n",
      "2024-11-14: w_odds:1.43 acct_val: 82.32 usable cash: 64.05 won: True\n",
      "2024-11-14: w_odds:1.40 acct_val: 85.84 usable cash: 55.46 won: True\n",
      "2024-11-14: w_odds:1.25 acct_val: 89.25 usable cash: 46.54 won: False\n",
      "2024-11-14: w_odds:2.03 acct_val: 80.33 usable cash: 38.50 won: False\n",
      "2024-11-14: w_odds:1.25 acct_val: 72.29 usable cash: 31.28 won: True\n",
      "2024-11-14: w_odds:1.30 acct_val: 74.10 usable cash: 23.87 won: False\n",
      "['2024-11-17' 'LVR' 'MIA']\n",
      "2024-11-17: w_odds:1.43 acct_val: 66.69 usable cash: 60.02 won: False\n",
      "['2024-11-18' 'HOU' 'DAL']\n",
      "2024-11-18: w_odds:1.20 acct_val: 60.02 usable cash: 54.02 won: False\n",
      "2024-11-18: w_odds:1.04 acct_val: 54.02 usable cash: 48.62 won: False\n",
      "2024-11-18: w_odds:1.33 acct_val: 48.62 usable cash: 43.76 won: False\n",
      "2024-11-18: w_odds:1.72 acct_val: 43.76 usable cash: 39.38 won: False\n",
      "2024-11-18: w_odds:1.94 acct_val: 39.38 usable cash: 35.44 won: False\n",
      "2024-11-18: w_odds:1.33 acct_val: 35.44 usable cash: 31.90 won: True\n",
      "2024-11-18: w_odds:1.76 acct_val: 36.61 usable cash: 28.24 won: False\n",
      "2024-11-18: w_odds:1.83 acct_val: 32.95 usable cash: 24.94 won: False\n",
      "['2024-11-24' 'NWE' 'MIA']\n",
      "2024-11-24: w_odds:1.25 acct_val: 29.65 usable cash: 26.69 won: False\n",
      "['2024-11-25' 'BAL' 'LAC']\n",
      "2024-11-25: w_odds:1.20 acct_val: 26.69 usable cash: 24.02 won: False\n",
      "2024-11-25: w_odds:1.33 acct_val: 24.02 usable cash: 21.62 won: True\n",
      "2024-11-25: w_odds:1.33 acct_val: 24.81 usable cash: 19.14 won: False\n",
      "2024-11-25: w_odds:1.94 acct_val: 22.33 usable cash: 16.90 won: False\n",
      "2024-11-25: w_odds:1.36 acct_val: 20.10 usable cash: 14.89 won: True\n",
      "2024-11-25: w_odds:1.25 acct_val: 20.83 usable cash: 12.81 won: True\n",
      "2024-11-25: w_odds:1.09 acct_val: 21.35 usable cash: 10.68 won: True\n",
      "2024-11-25: w_odds:1.58 acct_val: 21.54 usable cash: 8.52 won: True\n",
      "2024-11-25: w_odds:1.58 acct_val: 22.80 usable cash: 6.24 won: True\n",
      "['2024-11-28' 'NYG' 'DAL']\n",
      "2024-11-28: w_odds:1.58 acct_val: 24.13 usable cash: 21.71 won: True\n",
      "['2024-11-29' 'LVR' 'KAN']\n",
      "2024-11-29: w_odds:1.43 acct_val: 25.53 usable cash: 22.98 won: False\n",
      "2024-11-29: w_odds:1.46 acct_val: 22.98 usable cash: 20.68 won: False\n",
      "2024-11-29: w_odds:1.12 acct_val: 20.68 usable cash: 18.61 won: False\n",
      "['2024-12-01' 'IND' 'NWE']\n",
      "2024-12-01: w_odds:1.04 acct_val: 18.61 usable cash: 16.75 won: False\n",
      "['2024-12-02' 'CLE' 'DEN']\n",
      "2024-12-02: w_odds:1.72 acct_val: 16.75 usable cash: 15.08 won: False\n",
      "2024-12-02: w_odds:1.58 acct_val: 15.08 usable cash: 13.57 won: True\n",
      "2024-12-02: w_odds:1.30 acct_val: 15.96 usable cash: 11.97 won: True\n",
      "2024-12-02: w_odds:1.99 acct_val: 16.43 usable cash: 10.33 won: True\n",
      "2024-12-02: w_odds:1.46 acct_val: 18.05 usable cash: 8.53 won: False\n",
      "2024-12-02: w_odds:1.33 acct_val: 16.25 usable cash: 6.90 won: False\n",
      "2024-12-02: w_odds:1.83 acct_val: 14.62 usable cash: 5.44 won: False\n",
      "2024-12-02: w_odds:1.30 acct_val: 13.16 usable cash: 4.12 won: False\n",
      "['2024-12-05' 'GNB' 'DET']\n",
      "2024-12-05: w_odds:1.30 acct_val: 11.84 usable cash: 10.66 won: False\n",
      "['2024-12-08' 'CLE' 'PIT']\n",
      "2024-12-08: w_odds:1.46 acct_val: 10.66 usable cash: 9.59 won: False\n",
      "['2024-12-09' 'CIN' 'DAL']\n",
      "2024-12-09: w_odds:1.33 acct_val: 9.59 usable cash: 8.63 won: False\n",
      "2024-12-09: w_odds:1.30 acct_val: 8.63 usable cash: 7.77 won: False\n",
      "2024-12-09: w_odds:1.40 acct_val: 7.77 usable cash: 6.99 won: False\n",
      "2024-12-09: w_odds:1.58 acct_val: 6.99 usable cash: 6.29 won: False\n",
      "2024-12-09: w_odds:1.30 acct_val: 6.29 usable cash: 5.66 won: False\n",
      "2024-12-09: w_odds:1.36 acct_val: 5.66 usable cash: 5.10 won: False\n",
      "2024-12-09: w_odds:1.02 acct_val: 5.10 usable cash: 4.59 won: False\n",
      "2024-12-09: w_odds:1.33 acct_val: 4.59 usable cash: 4.13 won: False\n",
      "['2024-12-15' 'NWE' 'ARI']\n",
      "2024-12-15: w_odds:1.40 acct_val: 4.13 usable cash: 3.72 won: True\n",
      "['2024-12-16' 'ATL' 'LVR']\n",
      "2024-12-16: w_odds:1.33 acct_val: 4.29 usable cash: 3.94 won: False\n",
      "2024-12-16: w_odds:1.72 acct_val: 3.94 usable cash: 3.61 won: False\n",
      "2024-12-16: w_odds:1.20 acct_val: 3.61 usable cash: 3.31 won: True\n",
      "2024-12-16: w_odds:1.36 acct_val: 3.67 usable cash: 3.00 won: False\n",
      "2024-12-16: w_odds:2.07 acct_val: 3.36 usable cash: 2.72 won: False\n",
      "2024-12-16: w_odds:0.96 acct_val: 3.08 usable cash: 2.46 won: True\n",
      "2024-12-16: w_odds:2.03 acct_val: 3.07 usable cash: 2.21 won: True\n",
      "2024-12-16: w_odds:1.43 acct_val: 3.34 usable cash: 1.93 won: True\n",
      "2024-12-16: w_odds:1.58 acct_val: 3.45 usable cash: 1.64 won: True\n",
      "2024-12-16: w_odds:1.46 acct_val: 3.62 usable cash: 1.34 won: True\n",
      "2024-12-16: w_odds:1.40 acct_val: 3.76 usable cash: 1.03 won: False\n",
      "2024-12-16: w_odds:1.33 acct_val: 3.45 usable cash: 0.74 won: True\n",
      "['2024-12-19' 'DEN' 'LAC']\n",
      "2024-12-19: w_odds:1.33 acct_val: 3.54 usable cash: 3.19 won: True\n",
      "2024-12-19: w_odds:1.25 acct_val: 3.66 usable cash: 2.82 won: False\n",
      "['2024-12-21' 'PIT' 'BAL']\n",
      "2024-12-21: w_odds:1.72 acct_val: 3.29 usable cash: 2.96 won: False\n",
      "['2024-12-22' 'JAX' 'LVR']\n",
      "2024-12-22: w_odds:1.25 acct_val: 2.96 usable cash: 2.67 won: False\n",
      "2024-12-22: w_odds:1.46 acct_val: 2.67 usable cash: 2.40 won: False\n",
      "['2024-12-23' 'NOR' 'GNB']\n",
      "2024-12-23: w_odds:1.72 acct_val: 2.40 usable cash: 2.16 won: False\n",
      "2024-12-23: w_odds:1.43 acct_val: 2.16 usable cash: 1.94 won: False\n",
      "2024-12-23: w_odds:1.02 acct_val: 1.94 usable cash: 1.75 won: False\n",
      "2024-12-23: w_odds:1.12 acct_val: 1.75 usable cash: 1.58 won: False\n",
      "2024-12-23: w_odds:1.99 acct_val: 1.58 usable cash: 1.42 won: False\n",
      "2024-12-23: w_odds:1.25 acct_val: 1.42 usable cash: 1.28 won: True\n",
      "2024-12-23: w_odds:1.16 acct_val: 1.45 usable cash: 1.13 won: False\n",
      "2024-12-23: w_odds:1.72 acct_val: 1.31 usable cash: 1.00 won: True\n",
      "['2024-12-25' 'BAL' 'HOU']\n",
      "2024-12-25: w_odds:1.02 acct_val: 1.40 usable cash: 1.26 won: False\n",
      "['2024-12-26' 'SEA' 'CHI']\n",
      "2024-12-26: w_odds:1.30 acct_val: 1.26 usable cash: 1.14 won: True\n",
      "2024-12-26: w_odds:1.76 acct_val: 1.30 usable cash: 1.01 won: False\n",
      "['2024-12-28' 'DEN' 'CIN']\n",
      "2024-12-28: w_odds:1.40 acct_val: 1.17 usable cash: 1.05 won: False\n",
      "['2024-12-29' 'GNB' 'MIN']\n",
      "2024-12-29: w_odds:1.58 acct_val: 1.05 usable cash: 0.95 won: False\n",
      "2024-12-29: w_odds:1.33 acct_val: 0.95 usable cash: 0.85 won: False\n",
      "['2024-12-30' 'DET' 'SFO']\n",
      "2024-12-30: w_odds:1.83 acct_val: 0.85 usable cash: 0.77 won: False\n",
      "2024-12-30: w_odds:1.20 acct_val: 0.77 usable cash: 0.69 won: False\n",
      "2024-12-30: w_odds:1.79 acct_val: 0.69 usable cash: 0.62 won: False\n",
      "2024-12-30: w_odds:1.83 acct_val: 0.62 usable cash: 0.56 won: False\n",
      "2024-12-30: w_odds:1.58 acct_val: 0.56 usable cash: 0.50 won: True\n",
      "2024-12-30: w_odds:1.46 acct_val: 0.59 usable cash: 0.44 won: False\n",
      "2024-12-30: w_odds:1.12 acct_val: 0.53 usable cash: 0.39 won: False\n",
      "['2025-01-04' 'CLE' 'BAL']\n",
      "2025-01-04: w_odds:1.43 acct_val: 0.48 usable cash: 0.43 won: True\n",
      "['2025-01-05' 'WAS' 'DAL']\n",
      "2025-01-05: w_odds:0.96 acct_val: 0.50 usable cash: 0.45 won: False\n",
      "['2025-01-11' 'LAC' 'HOU']\n",
      "2025-01-11: w_odds:1.25 acct_val: 0.45 usable cash: 0.41 won: True\n",
      "2025-01-11: w_odds:1.08 acct_val: 0.46 usable cash: 0.37 won: False\n",
      "2025-01-11: w_odds:1.58 acct_val: 0.42 usable cash: 0.33 won: False\n",
      "2025-01-11: w_odds:1.58 acct_val: 0.38 usable cash: 0.29 won: False\n",
      "2025-01-11: w_odds:1.38 acct_val: 0.35 usable cash: 0.26 won: False\n",
      "2025-01-11: w_odds:1.25 acct_val: 0.31 usable cash: 0.23 won: True\n",
      "2025-01-11: w_odds:0.99 acct_val: 0.32 usable cash: 0.21 won: False\n",
      "2025-01-11: w_odds:1.76 acct_val: 0.29 usable cash: 0.18 won: False\n",
      "2025-01-11: w_odds:1.72 acct_val: 0.27 usable cash: 0.15 won: True\n",
      "2025-01-11: w_odds:1.46 acct_val: 0.28 usable cash: 0.13 won: False\n",
      "2025-01-11: w_odds:1.20 acct_val: 0.26 usable cash: 0.11 won: True\n",
      "['2025-01-12' 'DEN' 'BUF']\n",
      "2025-01-12: w_odds:2.07 acct_val: 0.26 usable cash: 0.24 won: False\n",
      "['2025-01-13' 'MIN' 'LAR']\n",
      "2025-01-13: w_odds:1.20 acct_val: 0.24 usable cash: 0.21 won: False\n",
      "2025-01-13: w_odds:1.36 acct_val: 0.21 usable cash: 0.19 won: False\n",
      "['2025-01-18' 'HOU' 'KAN']\n",
      "2025-01-18: w_odds:2.07 acct_val: 0.19 usable cash: 0.17 won: False\n",
      "['2025-01-19' 'LAR' 'PHI']\n",
      "2025-01-19: w_odds:1.16 acct_val: 0.17 usable cash: 0.15 won: False\n"
     ]
    },
    {
     "data": {
      "image/png": "[encoded data removed]",
      "text/plain": [
       "<Figure size 1200x600 with 1 Axes>"
      ]
     },
     "metadata": {},
     "output_type": "display_data"
    },
    {
     "data": {
      "text/plain": [
       "{'final_value': 0.1549313585921605,\n",
       " 'roi': -0.9998450686414078,\n",
       " 'win_rate': 0.3137254901960784,\n",
       " 'max_drawdown': 0.9998716242515225,\n",
       " 'total_bets': 153}"
      ]
     },
     "execution_count": 18,
     "metadata": {},
     "output_type": "execute_result"
    }
   ],
   "source": [
    "nfl_utils.backtest_model(model, perf_conts, perf_y_col, perf_date_col, initial_capital=1000, position_size=0.1, \n",
    "                   confidence_threshold=0.0, show_plot=True, max_won_odds=2.2)"
   ]
  },
  {
   "cell_type": "markdown",
   "id": "5109e37c",
   "metadata": {},
   "source": [
    "Value:  0.37491718013436764\n",
    "\n",
    "Params: \n",
    "    first_layer_size: 8\n",
    "    num_layers: 2\n",
    "    n_epochs: 39\n",
    "    dropout: 0.47875406200808335\n",
    "    lr: 0.009997751942238913\n",
    "    \n",
    "\n",
    "\n",
    "Value:  0.3759073484440955\n",
    "Params: \n",
    "    first_layer_size: 8\n",
    "    num_layers: 2\n",
    "    n_epochs: 68\n",
    "    dropout: 0.4497689844977892\n",
    "    lr: 0.007977206154472633\n",
    "    \n",
    "    \n",
    "    \n",
    "12/6\n",
    "\n",
    "Trial 206 finished with value: 0.547218605316966 and parameters: {'criterion': 'MSELoss', 'first_layer_size': 32, 'num_layers': 5, 'confidence_threshold': 0.05966702820817666, 'n_epochs': 379, 'dropout': 0.36961850006275193, 'lr': 0.008649806179332952}. Best is trial 206 with value: 0.547218605316966.\n",
    "\n",
    "[I 2024-12-06 12:49:28,047] Trial 579 finished with value: 0.5335308702482566 and parameters: {'criterion': 'SmoothL1Loss', 'first_layer_size': 16, 'num_layers': 3, 'confidence_threshold': 0.059979796814548306, 'n_epochs': 481, 'dropout': 0.2511747953677191, 'lr': 0.007942836869449217}. Best is trial 579 with value: 0.5335308702482566.\n",
    "\n",
    "\n",
    "[I 2024-12-06 14:53:00,850] Trial 385 finished with value: 0.5547767877242975 and parameters: {'criterion': 'MSELoss', 'first_layer_size': 56, 'num_layers': 6, 'confidence_threshold': 0.003263372268063613, 'n_epochs': 300, 'dropout': 0.3153661030384182, 'lr': 0.00593138298730814}. Best is trial 385 with value: 0.5547767877242975.\n",
    "\n",
    "[I 2024-12-06 15:32:38,969] Trial 583 finished with value: 0.550872165273167 and parameters: {'criterion': 'MSELoss', 'first_layer_size': 56, 'num_layers': 7, 'confidence_threshold': 0.010458110701511005, 'n_epochs': 336, 'dropout': 0.3188974735143638, 'lr': 0.006976522077116529}. Best is trial 385 with value: 0.5547767877242975.\n",
    "\n",
    "[I 2024-12-06 15:55:26,133] Trial 669 finished with value: 0.5645423555160363 and parameters: {'criterion': 'MSELoss', 'first_layer_size': 56, 'num_layers': 7, 'confidence_threshold': 0.0243907527056759, 'n_epochs': 370, 'dropout': 0.32998724447261185, 'lr': 0.0075018456671685696}. Best is trial 669 with value: 0.5645423555160363.\n",
    "\n",
    "[I 2024-12-06 20:33:46,555] Trial 1737 finished with value: 0.5716002919237433 and parameters: {'criterion': 'MSELoss', 'first_layer_size': 56, 'num_layers': 7, 'confidence_threshold': 0.015368961704784596, 'n_epochs': 328, 'dropout': 0.348927921024466, 'lr': 0.009575624984802092}. Best is trial 1737 with value: 0.5716002919237433.\n",
    "\n",
    "\n",
    "[I 2024-12-06 21:17:06,545] Trial 1889 finished with value: 0.5739803740995499 and parameters: {'criterion': 'MSELoss', 'first_layer_size': 56, 'num_layers': 7, 'confidence_threshold': 0.014029751567812504, 'n_epochs': 357, 'dropout': 0.34275064196127053, 'lr': 0.008692336113071646}. Best is trial 1889 with value: 0.5739803740995499.\n",
    "\n",
    "[I 2024-12-10 09:39:54,796] Trial 1612 finished with value: 0.5748324966932515 and parameters: {'criterion': 'MSELoss', 'first_layer_size': 64, 'num_layers': 7, 'confidence_threshold': 0.003855147984840053, 'dropout': 0.3182765851196762, 'lr': 0.008210651343970551, 'n_epochs': 219}. Best is trial 1612 with value: 0.5748324966932515.\n",
    "\n",
    "\n",
    "\n",
    "Trial 1749 finished with value: 0.5772962775717783 and parameters: {'criterion': 'MSELoss', 'first_layer_size': 64, 'num_layers': 7, 'confidence_threshold': 1.8653941637231173e-05, 'dropout': 0.3181431308672629, 'lr': 0.009969598746996452, 'n_epochs': 231}.\n",
    "\n",
    "\n"
   ]
  },
  {
   "cell_type": "code",
   "execution_count": 18,
   "id": "eb328981",
   "metadata": {},
   "outputs": [
    {
     "name": "stdout",
     "output_type": "stream",
     "text": [
      "['2024-02-11' 'SFO' 'KAN']\n",
      "2024-02-11: w_odds:2.89 acct_val: 1000.00 usable cash: 900.00 won: False\n",
      "['2024-10-10' 'SFO' 'SEA']\n",
      "2024-10-10: w_odds:2.03 acct_val: 900.00 usable cash: 810.00 won: False\n",
      "['2024-10-13' 'JAX' 'CHI']\n",
      "2024-10-13: w_odds:1.46 acct_val: 810.00 usable cash: 729.00 won: False\n",
      "['2024-10-14' 'BUF' 'NYJ']\n",
      "2024-10-14: w_odds:1.99 acct_val: 729.00 usable cash: 656.10 won: False\n",
      "2024-10-14: w_odds:1.36 acct_val: 656.10 usable cash: 590.49 won: False\n",
      "2024-10-14: w_odds:1.43 acct_val: 590.49 usable cash: 531.44 won: True\n",
      "2024-10-14: w_odds:1.58 acct_val: 615.80 usable cash: 469.86 won: True\n",
      "2024-10-14: w_odds:1.46 acct_val: 651.67 usable cash: 404.69 won: False\n",
      "2024-10-14: w_odds:1.30 acct_val: 586.50 usable cash: 346.04 won: True\n",
      "2024-10-14: w_odds:1.25 acct_val: 604.00 usable cash: 285.64 won: False\n",
      "2024-10-14: w_odds:1.33 acct_val: 543.60 usable cash: 231.29 won: True\n",
      "['2024-10-17' 'DEN' 'NOR']\n",
      "2024-10-17: w_odds:1.83 acct_val: 561.51 usable cash: 505.36 won: False\n",
      "['2024-10-20' 'PHI' 'NYG']\n",
      "2024-10-20: w_odds:1.58 acct_val: 505.36 usable cash: 454.83 won: False\n",
      "['2024-10-21' 'BAL' 'TAM']\n",
      "2024-10-21: w_odds:1.58 acct_val: 454.83 usable cash: 413.48 won: True\n",
      "2024-10-21: w_odds:1.94 acct_val: 478.91 usable cash: 369.94 won: False\n",
      "2024-10-21: w_odds:1.12 acct_val: 435.37 usable cash: 330.36 won: False\n",
      "2024-10-21: w_odds:2.32 acct_val: 395.79 usable cash: 294.38 won: True\n",
      "2024-10-21: w_odds:1.58 acct_val: 443.42 usable cash: 254.07 won: False\n",
      "2024-10-21: w_odds:1.58 acct_val: 403.11 usable cash: 217.42 won: False\n",
      "2024-10-21: w_odds:1.16 acct_val: 366.46 usable cash: 184.11 won: False\n",
      "2024-10-21: w_odds:1.36 acct_val: 333.15 usable cash: 153.82 won: True\n",
      "2024-10-21: w_odds:2.07 acct_val: 344.12 usable cash: 122.54 won: True\n",
      "2024-10-21: w_odds:1.25 acct_val: 377.70 usable cash: 88.20 won: False\n",
      "2024-10-21: w_odds:2.07 acct_val: 343.36 usable cash: 56.99 won: True\n",
      "['2024-10-24' 'MIN' 'LAR']\n",
      "2024-10-24: w_odds:1.43 acct_val: 376.87 usable cash: 339.18 won: True\n",
      "2024-10-24: w_odds:1.94 acct_val: 393.02 usable cash: 299.88 won: False\n",
      "['2024-10-27' 'CAR' 'DEN']\n",
      "2024-10-27: w_odds:2.32 acct_val: 353.72 usable cash: 318.35 won: False\n",
      "['2024-10-28' 'NYG' 'PIT']\n",
      "2024-10-28: w_odds:1.05 acct_val: 318.35 usable cash: 295.61 won: False\n",
      "2024-10-28: w_odds:1.79 acct_val: 295.61 usable cash: 274.49 won: False\n",
      "2024-10-28: w_odds:1.06 acct_val: 274.49 usable cash: 254.89 won: False\n",
      "2024-10-28: w_odds:1.36 acct_val: 254.89 usable cash: 236.68 won: False\n",
      "2024-10-28: w_odds:1.79 acct_val: 236.68 usable cash: 219.78 won: False\n",
      "2024-10-28: w_odds:4.31 acct_val: 219.78 usable cash: 204.08 won: False\n",
      "2024-10-28: w_odds:1.17 acct_val: 204.08 usable cash: 189.50 won: True\n",
      "2024-10-28: w_odds:1.58 acct_val: 206.59 usable cash: 174.74 won: True\n",
      "2024-10-28: w_odds:2.07 acct_val: 215.18 usable cash: 159.37 won: True\n",
      "2024-10-28: w_odds:2.76 acct_val: 231.68 usable cash: 142.83 won: False\n",
      "2024-10-28: w_odds:1.40 acct_val: 215.13 usable cash: 127.46 won: False\n",
      "2024-10-28: w_odds:3.80 acct_val: 199.76 usable cash: 113.19 won: False\n",
      "2024-10-28: w_odds:1.46 acct_val: 185.49 usable cash: 99.94 won: True\n",
      "2024-10-28: w_odds:1.25 acct_val: 191.61 usable cash: 86.25 won: False\n",
      "['2024-10-31' 'HOU' 'NYJ']\n",
      "2024-10-31: w_odds:1.33 acct_val: 177.93 usable cash: 160.14 won: False\n",
      "['2024-11-03' 'NOR' 'CAR']\n",
      "2024-11-03: w_odds:1.72 acct_val: 160.14 usable cash: 144.12 won: False\n",
      "['2024-11-04' 'TAM' 'KAN']\n",
      "2024-11-04: w_odds:3.80 acct_val: 144.12 usable cash: 131.02 won: False\n",
      "2024-11-04: w_odds:1.76 acct_val: 131.02 usable cash: 119.11 won: True\n",
      "2024-11-04: w_odds:1.72 acct_val: 140.04 usable cash: 106.38 won: False\n",
      "2024-11-04: w_odds:1.58 acct_val: 127.31 usable cash: 94.80 won: False\n",
      "2024-11-04: w_odds:1.43 acct_val: 115.73 usable cash: 84.28 won: True\n",
      "2024-11-04: w_odds:1.33 acct_val: 120.24 usable cash: 73.35 won: False\n",
      "2024-11-04: w_odds:1.20 acct_val: 109.31 usable cash: 63.42 won: False\n",
      "2024-11-04: w_odds:1.16 acct_val: 99.37 usable cash: 54.38 won: False\n",
      "2024-11-04: w_odds:1.33 acct_val: 90.34 usable cash: 46.17 won: False\n",
      "2024-11-04: w_odds:1.20 acct_val: 82.13 usable cash: 38.70 won: False\n",
      "2024-11-04: w_odds:1.79 acct_val: 74.66 usable cash: 31.92 won: False\n",
      "['2024-11-07' 'CIN' 'BAL']\n",
      "2024-11-07: w_odds:1.16 acct_val: 67.87 usable cash: 61.09 won: False\n",
      "['2024-11-10' 'TEN' 'LAC']\n",
      "2024-11-10: w_odds:1.33 acct_val: 61.09 usable cash: 54.98 won: False\n",
      "['2024-11-14' 'WAS' 'PHI']\n",
      "2024-11-14: w_odds:1.19 acct_val: 54.98 usable cash: 49.98 won: False\n",
      "2024-11-14: w_odds:2.64 acct_val: 49.98 usable cash: 45.44 won: False\n",
      "2024-11-14: w_odds:3.22 acct_val: 45.44 usable cash: 41.31 won: False\n",
      "2024-11-14: w_odds:1.25 acct_val: 41.31 usable cash: 37.55 won: True\n",
      "2024-11-14: w_odds:1.43 acct_val: 42.24 usable cash: 33.71 won: True\n",
      "2024-11-14: w_odds:1.40 acct_val: 43.89 usable cash: 29.72 won: True\n",
      "2024-11-14: w_odds:3.42 acct_val: 45.47 usable cash: 25.59 won: True\n",
      "2024-11-14: w_odds:1.25 acct_val: 55.47 usable cash: 20.54 won: False\n",
      "2024-11-14: w_odds:2.03 acct_val: 50.43 usable cash: 15.96 won: False\n",
      "2024-11-14: w_odds:1.25 acct_val: 45.84 usable cash: 11.79 won: True\n",
      "2024-11-14: w_odds:1.30 acct_val: 46.88 usable cash: 7.53 won: False\n",
      "['2024-11-17' 'LVR' 'MIA']\n",
      "2024-11-17: w_odds:1.43 acct_val: 42.62 usable cash: 38.36 won: False\n",
      "['2024-11-18' 'HOU' 'DAL']\n",
      "2024-11-18: w_odds:1.20 acct_val: 38.36 usable cash: 34.87 won: False\n",
      "2024-11-18: w_odds:1.04 acct_val: 34.87 usable cash: 31.70 won: False\n",
      "2024-11-18: w_odds:1.33 acct_val: 31.70 usable cash: 28.82 won: True\n",
      "2024-11-18: w_odds:1.72 acct_val: 32.65 usable cash: 25.85 won: False\n",
      "2024-11-18: w_odds:1.94 acct_val: 29.68 usable cash: 23.15 won: False\n",
      "2024-11-18: w_odds:2.32 acct_val: 26.99 usable cash: 20.70 won: False\n",
      "2024-11-18: w_odds:2.76 acct_val: 24.53 usable cash: 18.47 won: False\n",
      "2024-11-18: w_odds:1.33 acct_val: 22.30 usable cash: 16.44 won: True\n",
      "2024-11-18: w_odds:1.76 acct_val: 22.97 usable cash: 14.35 won: False\n",
      "2024-11-18: w_odds:3.22 acct_val: 20.88 usable cash: 12.46 won: False\n",
      "2024-11-18: w_odds:1.83 acct_val: 18.98 usable cash: 10.73 won: False\n",
      "['2024-11-21' 'PIT' 'CLE']\n",
      "2024-11-21: w_odds:1.25 acct_val: 17.26 usable cash: 15.53 won: True\n",
      "['2024-11-24' 'NWE' 'MIA']\n",
      "2024-11-24: w_odds:2.64 acct_val: 17.69 usable cash: 15.92 won: False\n",
      "['2024-11-25' 'BAL' 'LAC']\n",
      "2024-11-25: w_odds:1.20 acct_val: 15.92 usable cash: 14.47 won: False\n",
      "2024-11-25: w_odds:6.74 acct_val: 14.47 usable cash: 13.16 won: False\n",
      "2024-11-25: w_odds:1.33 acct_val: 13.16 usable cash: 11.96 won: True\n",
      "2024-11-25: w_odds:1.33 acct_val: 13.55 usable cash: 10.73 won: False\n",
      "2024-11-25: w_odds:1.94 acct_val: 12.32 usable cash: 9.61 won: False\n",
      "2024-11-25: w_odds:1.36 acct_val: 11.20 usable cash: 8.59 won: True\n",
      "2024-11-25: w_odds:1.25 acct_val: 11.57 usable cash: 7.54 won: True\n",
      "2024-11-25: w_odds:1.09 acct_val: 11.83 usable cash: 6.46 won: True\n",
      "2024-11-25: w_odds:4.51 acct_val: 11.93 usable cash: 5.38 won: False\n",
      "2024-11-25: w_odds:1.58 acct_val: 10.85 usable cash: 4.39 won: True\n",
      "2024-11-25: w_odds:1.58 acct_val: 11.42 usable cash: 3.35 won: True\n",
      "['2024-11-28' 'NYG' 'DAL']\n",
      "2024-11-28: w_odds:1.58 acct_val: 12.03 usable cash: 10.82 won: False\n",
      "['2024-11-29' 'LVR' 'KAN']\n",
      "2024-11-29: w_odds:1.43 acct_val: 10.82 usable cash: 9.74 won: False\n",
      "2024-11-29: w_odds:1.46 acct_val: 9.74 usable cash: 8.77 won: False\n",
      "2024-11-29: w_odds:1.12 acct_val: 8.77 usable cash: 7.89 won: False\n",
      "['2024-12-01' 'IND' 'NWE']\n",
      "2024-12-01: w_odds:1.04 acct_val: 7.89 usable cash: 7.10 won: False\n",
      "['2024-12-02' 'CLE' 'DEN']\n",
      "2024-12-02: w_odds:1.72 acct_val: 7.10 usable cash: 6.39 won: True\n",
      "2024-12-02: w_odds:1.58 acct_val: 7.62 usable cash: 5.63 won: True\n",
      "2024-12-02: w_odds:1.30 acct_val: 8.06 usable cash: 4.82 won: True\n",
      "2024-12-02: w_odds:1.99 acct_val: 8.30 usable cash: 3.99 won: False\n",
      "2024-12-02: w_odds:1.46 acct_val: 7.47 usable cash: 3.25 won: False\n",
      "2024-12-02: w_odds:1.33 acct_val: 6.72 usable cash: 2.57 won: False\n",
      "2024-12-02: w_odds:1.83 acct_val: 6.05 usable cash: 1.97 won: False\n",
      "2024-12-02: w_odds:2.32 acct_val: 5.45 usable cash: 1.42 won: False\n",
      "2024-12-02: w_odds:1.30 acct_val: 4.90 usable cash: 0.93 won: False\n",
      "2024-12-02: w_odds:2.32 acct_val: 4.41 usable cash: 0.49 won: False\n",
      "['2024-12-05' 'GNB' 'DET']\n",
      "2024-12-05: w_odds:1.30 acct_val: 3.97 usable cash: 3.57 won: False\n",
      "['2024-12-08' 'CLE' 'PIT']\n",
      "2024-12-08: w_odds:1.46 acct_val: 3.57 usable cash: 3.22 won: False\n",
      "['2024-12-09' 'CIN' 'DAL']\n",
      "2024-12-09: w_odds:1.33 acct_val: 3.22 usable cash: 2.89 won: False\n",
      "2024-12-09: w_odds:1.30 acct_val: 2.89 usable cash: 2.60 won: False\n",
      "2024-12-09: w_odds:2.64 acct_val: 2.60 usable cash: 2.34 won: False\n",
      "2024-12-09: w_odds:1.40 acct_val: 2.34 usable cash: 2.11 won: False\n",
      "2024-12-09: w_odds:1.58 acct_val: 2.11 usable cash: 1.90 won: False\n",
      "2024-12-09: w_odds:1.30 acct_val: 1.90 usable cash: 1.71 won: False\n",
      "2024-12-09: w_odds:2.32 acct_val: 1.71 usable cash: 1.54 won: False\n",
      "2024-12-09: w_odds:1.36 acct_val: 1.54 usable cash: 1.38 won: True\n",
      "2024-12-09: w_odds:1.02 acct_val: 1.59 usable cash: 1.22 won: False\n",
      "2024-12-09: w_odds:1.33 acct_val: 1.43 usable cash: 1.08 won: False\n",
      "['2024-12-12' 'LAR' 'SFO']\n",
      "2024-12-12: w_odds:1.40 acct_val: 1.29 usable cash: 1.16 won: True\n",
      "['2024-12-15' 'NWE' 'ARI']\n",
      "2024-12-15: w_odds:2.32 acct_val: 1.34 usable cash: 1.21 won: False\n",
      "['2024-12-16' 'ATL' 'LVR']\n",
      "2024-12-16: w_odds:1.33 acct_val: 1.21 usable cash: 1.11 won: False\n",
      "2024-12-16: w_odds:1.72 acct_val: 1.11 usable cash: 1.03 won: True\n",
      "2024-12-16: w_odds:1.20 acct_val: 1.18 usable cash: 0.94 won: True\n",
      "2024-12-16: w_odds:1.36 acct_val: 1.20 usable cash: 0.85 won: False\n",
      "2024-12-16: w_odds:2.07 acct_val: 1.10 usable cash: 0.76 won: False\n",
      "2024-12-16: w_odds:0.96 acct_val: 1.02 usable cash: 0.68 won: True\n",
      "2024-12-16: w_odds:2.03 acct_val: 1.02 usable cash: 0.61 won: False\n",
      "2024-12-16: w_odds:1.43 acct_val: 0.94 usable cash: 0.53 won: False\n",
      "2024-12-16: w_odds:1.58 acct_val: 0.87 usable cash: 0.47 won: True\n",
      "2024-12-16: w_odds:1.46 acct_val: 0.90 usable cash: 0.40 won: False\n",
      "2024-12-16: w_odds:1.40 acct_val: 0.83 usable cash: 0.33 won: False\n",
      "2024-12-16: w_odds:2.32 acct_val: 0.77 usable cash: 0.27 won: False\n",
      "2024-12-16: w_odds:1.33 acct_val: 0.71 usable cash: 0.22 won: True\n",
      "['2024-12-19' 'DEN' 'LAC']\n",
      "2024-12-19: w_odds:1.33 acct_val: 0.73 usable cash: 0.66 won: True\n",
      "2024-12-19: w_odds:1.25 acct_val: 0.75 usable cash: 0.58 won: False\n",
      "['2024-12-21' 'PIT' 'BAL']\n",
      "2024-12-21: w_odds:1.72 acct_val: 0.68 usable cash: 0.61 won: False\n",
      "['2024-12-22' 'JAX' 'LVR']\n",
      "2024-12-22: w_odds:1.25 acct_val: 0.61 usable cash: 0.55 won: False\n",
      "2024-12-22: w_odds:1.46 acct_val: 0.55 usable cash: 0.49 won: False\n",
      "['2024-12-23' 'NOR' 'GNB']\n",
      "2024-12-23: w_odds:1.72 acct_val: 0.49 usable cash: 0.45 won: False\n",
      "2024-12-23: w_odds:1.43 acct_val: 0.45 usable cash: 0.41 won: False\n",
      "2024-12-23: w_odds:3.04 acct_val: 0.41 usable cash: 0.37 won: False\n",
      "2024-12-23: w_odds:1.02 acct_val: 0.37 usable cash: 0.34 won: False\n",
      "2024-12-23: w_odds:1.12 acct_val: 0.34 usable cash: 0.31 won: False\n",
      "2024-12-23: w_odds:1.99 acct_val: 0.31 usable cash: 0.28 won: False\n",
      "2024-12-23: w_odds:1.25 acct_val: 0.28 usable cash: 0.25 won: True\n",
      "2024-12-23: w_odds:2.76 acct_val: 0.29 usable cash: 0.23 won: False\n",
      "2024-12-23: w_odds:2.89 acct_val: 0.26 usable cash: 0.20 won: False\n",
      "2024-12-23: w_odds:1.16 acct_val: 0.24 usable cash: 0.18 won: False\n",
      "2024-12-23: w_odds:1.72 acct_val: 0.21 usable cash: 0.16 won: True\n",
      "['2024-12-25' 'BAL' 'HOU']\n",
      "2024-12-25: w_odds:1.02 acct_val: 0.23 usable cash: 0.21 won: False\n",
      "['2024-12-26' 'SEA' 'CHI']\n",
      "2024-12-26: w_odds:1.30 acct_val: 0.21 usable cash: 0.19 won: True\n",
      "2024-12-26: w_odds:1.76 acct_val: 0.21 usable cash: 0.16 won: False\n",
      "['2024-12-28' 'DEN' 'CIN']\n",
      "2024-12-28: w_odds:1.40 acct_val: 0.19 usable cash: 0.17 won: False\n",
      "['2024-12-29' 'GNB' 'MIN']\n",
      "2024-12-29: w_odds:1.58 acct_val: 0.17 usable cash: 0.15 won: False\n",
      "2024-12-29: w_odds:1.33 acct_val: 0.15 usable cash: 0.14 won: False\n",
      "['2024-12-30' 'DET' 'SFO']\n",
      "2024-12-30: w_odds:1.83 acct_val: 0.14 usable cash: 0.13 won: False\n",
      "2024-12-30: w_odds:4.31 acct_val: 0.13 usable cash: 0.11 won: False\n",
      "2024-12-30: w_odds:1.20 acct_val: 0.11 usable cash: 0.10 won: False\n",
      "2024-12-30: w_odds:1.79 acct_val: 0.10 usable cash: 0.09 won: False\n",
      "2024-12-30: w_odds:1.83 acct_val: 0.09 usable cash: 0.08 won: False\n",
      "2024-12-30: w_odds:1.58 acct_val: 0.08 usable cash: 0.07 won: False\n",
      "2024-12-30: w_odds:1.46 acct_val: 0.07 usable cash: 0.07 won: False\n",
      "2024-12-30: w_odds:1.12 acct_val: 0.07 usable cash: 0.06 won: False\n",
      "['2025-01-04' 'CLE' 'BAL']\n",
      "2025-01-04: w_odds:1.43 acct_val: 0.06 usable cash: 0.05 won: True\n",
      "['2025-01-05' 'WAS' 'DAL']\n",
      "2025-01-05: w_odds:0.96 acct_val: 0.06 usable cash: 0.06 won: False\n",
      "['2025-01-11' 'LAC' 'HOU']\n",
      "2025-01-11: w_odds:1.25 acct_val: 0.06 usable cash: 0.05 won: True\n",
      "2025-01-11: w_odds:1.08 acct_val: 0.06 usable cash: 0.05 won: False\n",
      "2025-01-11: w_odds:5.75 acct_val: 0.05 usable cash: 0.04 won: False\n",
      "2025-01-11: w_odds:1.58 acct_val: 0.05 usable cash: 0.04 won: False\n",
      "2025-01-11: w_odds:1.58 acct_val: 0.05 usable cash: 0.04 won: False\n",
      "2025-01-11: w_odds:4.51 acct_val: 0.04 usable cash: 0.03 won: False\n",
      "2025-01-11: w_odds:2.64 acct_val: 0.04 usable cash: 0.03 won: False\n",
      "2025-01-11: w_odds:1.38 acct_val: 0.04 usable cash: 0.03 won: False\n",
      "2025-01-11: w_odds:1.25 acct_val: 0.03 usable cash: 0.03 won: True\n",
      "2025-01-11: w_odds:0.99 acct_val: 0.03 usable cash: 0.02 won: False\n",
      "2025-01-11: w_odds:1.76 acct_val: 0.03 usable cash: 0.02 won: False\n",
      "2025-01-11: w_odds:1.72 acct_val: 0.03 usable cash: 0.02 won: False\n",
      "2025-01-11: w_odds:1.46 acct_val: 0.03 usable cash: 0.02 won: False\n",
      "2025-01-11: w_odds:1.20 acct_val: 0.03 usable cash: 0.02 won: True\n",
      "['2025-01-12' 'DEN' 'BUF']\n",
      "2025-01-12: w_odds:2.07 acct_val: 0.03 usable cash: 0.02 won: True\n",
      "['2025-01-13' 'MIN' 'LAR']\n",
      "2025-01-13: w_odds:1.20 acct_val: 0.03 usable cash: 0.03 won: False\n",
      "2025-01-13: w_odds:1.36 acct_val: 0.03 usable cash: 0.02 won: False\n",
      "2025-01-13: w_odds:2.32 acct_val: 0.02 usable cash: 0.02 won: False\n",
      "['2025-01-18' 'HOU' 'KAN']\n",
      "2025-01-18: w_odds:2.07 acct_val: 0.02 usable cash: 0.02 won: False\n",
      "['2025-01-19' 'LAR' 'PHI']\n",
      "2025-01-19: w_odds:1.16 acct_val: 0.02 usable cash: 0.02 won: False\n",
      "2025-01-19: w_odds:4.51 acct_val: 0.02 usable cash: 0.02 won: False\n"
     ]
    },
    {
     "data": {
      "image/png": "[encoded data removed]",
      "text/plain": [
       "<Figure size 1200x600 with 1 Axes>"
      ]
     },
     "metadata": {},
     "output_type": "display_data"
    },
    {
     "data": {
      "text/plain": [
       "{'final_value': 0.015363152411150683,\n",
       " 'roi': -0.9999846368475889,\n",
       " 'win_rate': 0.2620320855614973,\n",
       " 'max_drawdown': 0.9999846368475889,\n",
       " 'total_bets': 187}"
      ]
     },
     "execution_count": 18,
     "metadata": {},
     "output_type": "execute_result"
    }
   ],
   "source": [
    "nfl_utils.backtest_model(pipeline, perf_conts, perf_y_col, perf_date_col, initial_capital=1000, position_size=0.05, confidence_threshold=best_params['confidence_threshold'], show_plot=True)\n"
   ]
  },
  {
   "cell_type": "code",
   "execution_count": 19,
   "id": "5b4e2bce",
   "metadata": {},
   "outputs": [
    {
     "name": "stdout",
     "output_type": "stream",
     "text": [
      "0.25654450261780104\n"
     ]
    }
   ],
   "source": [
    "# Remove outside of confidence threshold\n",
    "mask = (probas < 0.5 - confidence_threshold) | (probas > 0.5 + confidence_threshold)\n",
    "predictions = np.where(mask, probas, np.nan)\n",
    "\n",
    "# Use numpy mask for nan values\n",
    "valid_mask = ~np.isnan(predictions)\n",
    "valid_predictions = predictions[valid_mask]\n",
    "valid_mask = valid_mask.flatten()\n",
    "perf_y_col_mask = perf_y_col[valid_mask]\n",
    "\n",
    "\n",
    "true_values = perf_y_col_mask[:,0].astype(np.int32)\n",
    "pred_values = valid_predictions.flatten()\n",
    "pred_values_int = np.rint(valid_predictions).flatten().astype(np.int32)\n",
    "\n",
    "model_win_prob = (1.0*(true_values == pred_values_int).sum()) / (true_values.shape[0])\n",
    "print(model_win_prob)"
   ]
  },
  {
   "cell_type": "markdown",
   "id": "055d6ca8",
   "metadata": {},
   "source": [
    "# Using XGBoost"
   ]
  },
  {
   "cell_type": "code",
   "execution_count": 20,
   "id": "de68871b",
   "metadata": {},
   "outputs": [
    {
     "data": {
      "text/plain": [
       "(5264, 49)"
      ]
     },
     "execution_count": 20,
     "metadata": {},
     "output_type": "execute_result"
    }
   ],
   "source": [
    "conts_train.shape"
   ]
  },
  {
   "cell_type": "code",
   "execution_count": null,
   "id": "918c222c",
   "metadata": {},
   "outputs": [],
   "source": []
  },
  {
   "cell_type": "code",
   "execution_count": null,
   "id": "dc8524f7",
   "metadata": {
    "scrolled": true
   },
   "outputs": [
    {
     "name": "stdout",
     "output_type": "stream",
     "text": [
      "Fitting 5 folds for each of 144 candidates, totalling 720 fits\n"
     ]
    }
   ],
   "source": [
    "# Fit the model\n",
    "param_grid = {\n",
    "    'learning_rate': [ 0.008, 0.01, 0.03],           # Removed 0.5, 1 as they're often too aggressive\n",
    "    'max_depth': [3, 6, 9],                      # Simplified to 3 values, covering shallow to deep\n",
    "    'n_estimators': [100, 200],                  # Removed extremes, these are most common sweet spots\n",
    "    'subsample': [0.8, 1.0],                     # Removed 0.6 as it might be too aggressive for this dataset size\n",
    "    'colsample_bytree': [0.8, 1.0],              # Same as above\n",
    "    'min_child_weight': [1, 3],                  # Removed 5 as it might be too restrictive\n",
    "}\n",
    "aparam_grid = {\n",
    "    'learning_rate': [0.005, 0.01, 0.05],        # Removed 0.5, 1 as they're often too aggressive\n",
    "    'max_depth': [3],                         # Simplified to 3 values, covering shallow to deep\n",
    "    'n_estimators': [300, 350, 400],             # Removed extremes, these are most common sweet spots\n",
    "    'subsample': [0.5, 0.6, 0.7],                # Removed 0.6 as it might be too aggressive for this dataset size\n",
    "    'colsample_bytree': [0.5, 0.6, 0.7],         # Same as above\n",
    "    'min_child_weight': [3, 4],                  # Removed 5 as it might be too restrictive\n",
    "}\n",
    "\n",
    "# model = XGBClassifier(use_label_encoder=False, eval_metric='logloss')\n",
    "model = XGBRegressor(objective='reg:squarederror')\n",
    "\n",
    "# Create a custom scorer using the F1 score\n",
    "# f1_scorer = make_scorer(f1_score, average='weighted')\n",
    "# Tune hyperparameters using GridSearchCV with the custom F1 scorer\n",
    "# grid_search = GridSearchCV(model, param_grid, scoring=f1_scorer, cv=5, verbose=1)\n",
    "grid_search = GridSearchCV(model, param_grid, scoring='neg_mean_squared_error', cv=5, verbose=1)\n",
    "grid_search.fit(conts_train, y_train)\n"
   ]
  },
  {
   "cell_type": "code",
   "execution_count": null,
   "id": "0acdae5f",
   "metadata": {},
   "outputs": [],
   "source": [
    "print(grid_search.best_params_)"
   ]
  },
  {
   "cell_type": "code",
   "execution_count": null,
   "id": "7ee2ec9d",
   "metadata": {
    "scrolled": true
   },
   "outputs": [],
   "source": [
    "\n",
    "# train final model w/ early stopping\n",
    "model = XGBClassifier(\n",
    "    eval_metric='logloss',\n",
    "    early_stopping_rounds=10,\n",
    "    # **grid_search.best_params_,\n",
    "    # **{'colsample_bytree': 1.0, 'learning_rate': 0.01, 'max_depth': 6, 'min_child_weight': 3, 'n_estimators': 200, 'subsample': 0.8}\n",
    "    # 66.5%, dd 31.4%\n",
    "    # {'colsample_bytree': 0.8, 'learning_rate': 0.01, 'max_depth': 3, 'min_child_weight': 3, 'n_estimators': 200, 'subsample': 0.8}\n",
    "    # 66.5%, dd 30.9%\n",
    "    # {'colsample_bytree': 1.0, 'learning_rate': 0.005, 'max_depth': 5, 'min_child_weight': 3, 'n_estimators': 300, 'subsample': 0.6}\n",
    ")\n",
    "model = XGBRegressor(\n",
    "    objective='reg:squarederror', \n",
    "    # **grid_search.best_params_,\n",
    "    # 67.3 w/ kelly adjustments 0.2, 0.01\n",
    "    # {'colsample_bytree': 0.6, 'learning_rate': 0.01, 'max_depth': 3, 'min_child_weight': 4, 'n_estimators': 350, 'subsample': 0.6}\n",
    "    # 67.2, dd 28.68 kelly 0.25, 0.014\n",
    "    # **{'colsample_bytree': 0.7, 'learning_rate': 0.01, 'max_depth': 3, 'min_child_weight': 3, 'n_estimators': 350, 'subsample': 0.5}\n",
    "    \n",
    "   # **{'colsample_bytree': 0.6, 'learning_rate': 0.01, 'max_depth': 3, 'min_child_weight': 3, 'n_estimators': 300, 'subsample': 0.5}\n",
    "    **{'colsample_bytree': 1.0, 'learning_rate': 0.03, 'max_depth': 3, 'min_child_weight': 3, 'n_estimators': 100, 'subsample': 0.8}\n",
    "\n",
    "\n",
    ")\n",
    "model.fit(\n",
    "    conts_train,\n",
    "    y_train,\n",
    "    eval_set=[(conts_train, y_train)], # , (holdout_conts, holdout_y)\n",
    "    verbose=True\n",
    ")"
   ]
  },
  {
   "cell_type": "code",
   "execution_count": null,
   "id": "0ef6e5d2",
   "metadata": {},
   "outputs": [],
   "source": [
    "# perf_conts.shape\n",
    "perf_y_col.shape\n",
    "perf_y_col[0]"
   ]
  },
  {
   "cell_type": "code",
   "execution_count": null,
   "id": "177675db",
   "metadata": {},
   "outputs": [],
   "source": [
    "# Make predictions for test data\n",
    "# model = grid_search.best_estimator_\n",
    "y_pred = model.predict(perf_conts)\n",
    "\n",
    "nfl_utils.backtest_model(model, perf_conts, perf_y_col, perf_date_col, initial_capital=1000, position_size=0.1, \n",
    "                   confidence_threshold=0.0, show_plot=True, max_won_odds=2.2)"
   ]
  },
  {
   "cell_type": "code",
   "execution_count": null,
   "id": "5fb3d7cf",
   "metadata": {
    "scrolled": true
   },
   "outputs": [],
   "source": [
    "# Make confusion matrix\n",
    "cm = confusion_matrix(perf_y_col[:,0], y_pred)\n",
    "sns.heatmap(cm, annot=True, fmt='d', cmap='Blues')\n",
    "plt.xlabel('Predicted Labels')\n",
    "plt.ylabel('True Labels')\n",
    "plt.title('Confusion Matrix')\n",
    "plt.show()"
   ]
  },
  {
   "cell_type": "markdown",
   "id": "e7025ece",
   "metadata": {},
   "source": [
    "## Save XGBoost model"
   ]
  },
  {
   "cell_type": "code",
   "execution_count": null,
   "id": "50cc9ed2",
   "metadata": {},
   "outputs": [],
   "source": [
    "model.save_model('xgboost_model.bin')"
   ]
  },
  {
   "cell_type": "code",
   "execution_count": null,
   "id": "79e94a74",
   "metadata": {},
   "outputs": [],
   "source": []
  },
  {
   "cell_type": "code",
   "execution_count": null,
   "id": "41d6577d",
   "metadata": {},
   "outputs": [],
   "source": []
  },
  {
   "cell_type": "markdown",
   "id": "a8a1a349",
   "metadata": {},
   "source": []
  },
  {
   "cell_type": "code",
   "execution_count": null,
   "id": "b705bd4b",
   "metadata": {},
   "outputs": [],
   "source": []
  }
 ],
 "metadata": {
  "kernelspec": {
   "display_name": "Python 3 (ipykernel)",
   "language": "python",
   "name": "python3"
  },
  "language_info": {
   "codemirror_mode": {
    "name": "ipython",
    "version": 3
   },
   "file_extension": ".py",
   "mimetype": "text/x-python",
   "name": "python",
   "nbconvert_exporter": "python",
   "pygments_lexer": "ipython3",
   "version": "3.9.21"
  }
 },
 "nbformat": 4,
 "nbformat_minor": 5
}
