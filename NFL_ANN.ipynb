{
 "cells": [
  {
   "cell_type": "code",
   "execution_count": 1,
   "id": "70409bb3",
   "metadata": {},
   "outputs": [],
   "source": [
    "import torch\n",
    "import torch.nn as nn\n",
    "from torch.utils.data import DataLoader, TensorDataset\n",
    "import numpy as np\n",
    "import pandas as pd\n",
    "import math\n",
    "import matplotlib.pyplot as plt\n",
    "from sklearn.utils import shuffle\n",
    "from sklearn.model_selection import KFold\n",
    "from sklearn import preprocessing\n",
    "from NFLUtils import NFLUtils\n",
    "import optuna\n",
    "%matplotlib inline\n",
    "nfl_utils = NFLUtils()\n",
    "\n",
    "# Set device to GPU if available \n",
    "device = torch.device('cuda' if torch.cuda.is_available() else 'cpu')"
   ]
  },
  {
   "cell_type": "code",
   "execution_count": 2,
   "id": "f21d032c",
   "metadata": {},
   "outputs": [],
   "source": [
    "def set_all_seeds(seed=42):\n",
    "    np.random.seed(seed)\n",
    "    torch.manual_seed(seed)\n",
    "    torch.cuda.manual_seed_all(seed)\n",
    "    torch.backends.cudnn.deterministic = True\n",
    "    torch.backends.cudnn.benchmark = False"
   ]
  },
  {
   "cell_type": "markdown",
   "id": "ddff2364",
   "metadata": {},
   "source": [
    "### Load CSV\n",
    "cp Combined.csv ~/drive/Notes/ML/Pytorch/footballData/n"
   ]
  },
  {
   "cell_type": "code",
   "execution_count": 3,
   "id": "dfebbf64",
   "metadata": {
    "scrolled": true
   },
   "outputs": [
    {
     "name": "stdout",
     "output_type": "stream",
     "text": [
      "<class 'pandas.core.frame.DataFrame'>\n",
      "RangeIndex: 4741 entries, 0 to 4740\n",
      "Columns: 218 entries, Unnamed: 0 to D_datediff\n",
      "dtypes: float64(142), int64(67), object(9)\n",
      "memory usage: 7.9+ MB\n",
      "df after perf set removed: (4541, 218)\n",
      "df perf set size (200, 218)\n"
     ]
    }
   ],
   "source": [
    "df = pd.read_csv(\"./footballData/CombinedSlidingWindow4.csv\", index_col=False, low_memory=False)\n",
    "\n",
    "# Shuffle dataFrame (don't do this?)\n",
    "# df = shuffle(df, random_state=101)\n",
    "# df.head()\n",
    "df.info()\n",
    "\n",
    "test_performance_size = 200\n",
    "test_performance_df = df[df.shape[0]-test_performance_size:]\n",
    "df = df[:df.shape[0]-test_performance_size]\n",
    "print(f'df after perf set removed: {df.shape}')\n",
    "print(f'df perf set size {test_performance_df.shape}')"
   ]
  },
  {
   "cell_type": "markdown",
   "id": "9bcfc250",
   "metadata": {},
   "source": [
    "# Columns to use\n",
    "(TODO)"
   ]
  },
  {
   "cell_type": "code",
   "execution_count": 4,
   "id": "c1174d06",
   "metadata": {},
   "outputs": [
    {
     "data": {
      "text/html": [
       "<div>\n",
       "<style scoped>\n",
       "    .dataframe tbody tr th:only-of-type {\n",
       "        vertical-align: middle;\n",
       "    }\n",
       "\n",
       "    .dataframe tbody tr th {\n",
       "        vertical-align: top;\n",
       "    }\n",
       "\n",
       "    .dataframe thead th {\n",
       "        text-align: right;\n",
       "    }\n",
       "</style>\n",
       "<table border=\"1\" class=\"dataframe\">\n",
       "  <thead>\n",
       "    <tr style=\"text-align: right;\">\n",
       "      <th></th>\n",
       "      <th>Unnamed: 0</th>\n",
       "      <th>Season</th>\n",
       "      <th>Date</th>\n",
       "      <th>Home_Team</th>\n",
       "      <th>H_Q1</th>\n",
       "      <th>H_Q2</th>\n",
       "      <th>H_Q3</th>\n",
       "      <th>H_Q4</th>\n",
       "      <th>H_OT</th>\n",
       "      <th>H_Final</th>\n",
       "      <th>...</th>\n",
       "      <th>D_punting_lng</th>\n",
       "      <th>D_punting_pnt</th>\n",
       "      <th>D_punting_yds</th>\n",
       "      <th>D_scoring_fga</th>\n",
       "      <th>D_scoring_fgm</th>\n",
       "      <th>D_scoring_xpa</th>\n",
       "      <th>D_scoring_xpm</th>\n",
       "      <th>D_start_odds</th>\n",
       "      <th>D_halftime_odds</th>\n",
       "      <th>D_datediff</th>\n",
       "    </tr>\n",
       "  </thead>\n",
       "  <tbody>\n",
       "    <tr>\n",
       "      <th>0</th>\n",
       "      <td>248</td>\n",
       "      <td>1999</td>\n",
       "      <td>1999-10-17</td>\n",
       "      <td>PIT</td>\n",
       "      <td>7</td>\n",
       "      <td>7</td>\n",
       "      <td>0</td>\n",
       "      <td>3</td>\n",
       "      <td>0</td>\n",
       "      <td>17</td>\n",
       "      <td>...</td>\n",
       "      <td>-4.808</td>\n",
       "      <td>-0.848</td>\n",
       "      <td>-8.640</td>\n",
       "      <td>-0.472</td>\n",
       "      <td>0.648</td>\n",
       "      <td>0.848</td>\n",
       "      <td>0.632</td>\n",
       "      <td>0.0</td>\n",
       "      <td>0.0</td>\n",
       "      <td>0.0</td>\n",
       "    </tr>\n",
       "    <tr>\n",
       "      <th>1</th>\n",
       "      <td>245</td>\n",
       "      <td>1999</td>\n",
       "      <td>1999-10-17</td>\n",
       "      <td>CLE</td>\n",
       "      <td>0</td>\n",
       "      <td>7</td>\n",
       "      <td>0</td>\n",
       "      <td>0</td>\n",
       "      <td>0</td>\n",
       "      <td>7</td>\n",
       "      <td>...</td>\n",
       "      <td>-2.192</td>\n",
       "      <td>2.104</td>\n",
       "      <td>105.232</td>\n",
       "      <td>-1.696</td>\n",
       "      <td>-1.952</td>\n",
       "      <td>-1.032</td>\n",
       "      <td>-1.032</td>\n",
       "      <td>0.0</td>\n",
       "      <td>0.0</td>\n",
       "      <td>1.0</td>\n",
       "    </tr>\n",
       "    <tr>\n",
       "      <th>2</th>\n",
       "      <td>244</td>\n",
       "      <td>1999</td>\n",
       "      <td>1999-10-17</td>\n",
       "      <td>PHI</td>\n",
       "      <td>7</td>\n",
       "      <td>13</td>\n",
       "      <td>0</td>\n",
       "      <td>0</td>\n",
       "      <td>0</td>\n",
       "      <td>20</td>\n",
       "      <td>...</td>\n",
       "      <td>3.840</td>\n",
       "      <td>3.008</td>\n",
       "      <td>154.488</td>\n",
       "      <td>-0.440</td>\n",
       "      <td>0.200</td>\n",
       "      <td>-0.808</td>\n",
       "      <td>-0.808</td>\n",
       "      <td>0.0</td>\n",
       "      <td>0.0</td>\n",
       "      <td>0.0</td>\n",
       "    </tr>\n",
       "    <tr>\n",
       "      <th>3</th>\n",
       "      <td>243</td>\n",
       "      <td>1999</td>\n",
       "      <td>1999-10-17</td>\n",
       "      <td>OAK</td>\n",
       "      <td>10</td>\n",
       "      <td>3</td>\n",
       "      <td>7</td>\n",
       "      <td>0</td>\n",
       "      <td>0</td>\n",
       "      <td>20</td>\n",
       "      <td>...</td>\n",
       "      <td>5.768</td>\n",
       "      <td>-0.824</td>\n",
       "      <td>-26.624</td>\n",
       "      <td>-1.544</td>\n",
       "      <td>-1.848</td>\n",
       "      <td>1.144</td>\n",
       "      <td>1.144</td>\n",
       "      <td>0.0</td>\n",
       "      <td>0.0</td>\n",
       "      <td>0.0</td>\n",
       "    </tr>\n",
       "    <tr>\n",
       "      <th>4</th>\n",
       "      <td>227</td>\n",
       "      <td>1999</td>\n",
       "      <td>1999-10-21</td>\n",
       "      <td>KAN</td>\n",
       "      <td>0</td>\n",
       "      <td>7</td>\n",
       "      <td>7</td>\n",
       "      <td>21</td>\n",
       "      <td>0</td>\n",
       "      <td>35</td>\n",
       "      <td>...</td>\n",
       "      <td>10.312</td>\n",
       "      <td>-1.664</td>\n",
       "      <td>-49.992</td>\n",
       "      <td>-0.728</td>\n",
       "      <td>-0.512</td>\n",
       "      <td>1.096</td>\n",
       "      <td>1.096</td>\n",
       "      <td>0.0</td>\n",
       "      <td>0.0</td>\n",
       "      <td>0.0</td>\n",
       "    </tr>\n",
       "  </tbody>\n",
       "</table>\n",
       "<p>5 rows × 218 columns</p>\n",
       "</div>"
      ],
      "text/plain": [
       "   Unnamed: 0  Season        Date Home_Team  H_Q1  H_Q2  H_Q3  H_Q4  H_OT  \\\n",
       "0         248    1999  1999-10-17       PIT     7     7     0     3     0   \n",
       "1         245    1999  1999-10-17       CLE     0     7     0     0     0   \n",
       "2         244    1999  1999-10-17       PHI     7    13     0     0     0   \n",
       "3         243    1999  1999-10-17       OAK    10     3     7     0     0   \n",
       "4         227    1999  1999-10-21       KAN     0     7     7    21     0   \n",
       "\n",
       "   H_Final  ... D_punting_lng  D_punting_pnt  D_punting_yds  D_scoring_fga  \\\n",
       "0       17  ...        -4.808         -0.848         -8.640         -0.472   \n",
       "1        7  ...        -2.192          2.104        105.232         -1.696   \n",
       "2       20  ...         3.840          3.008        154.488         -0.440   \n",
       "3       20  ...         5.768         -0.824        -26.624         -1.544   \n",
       "4       35  ...        10.312         -1.664        -49.992         -0.728   \n",
       "\n",
       "   D_scoring_fgm  D_scoring_xpa  D_scoring_xpm  D_start_odds  D_halftime_odds  \\\n",
       "0          0.648          0.848          0.632           0.0              0.0   \n",
       "1         -1.952         -1.032         -1.032           0.0              0.0   \n",
       "2          0.200         -0.808         -0.808           0.0              0.0   \n",
       "3         -1.848          1.144          1.144           0.0              0.0   \n",
       "4         -0.512          1.096          1.096           0.0              0.0   \n",
       "\n",
       "   D_datediff  \n",
       "0         0.0  \n",
       "1         1.0  \n",
       "2         0.0  \n",
       "3         0.0  \n",
       "4         0.0  \n",
       "\n",
       "[5 rows x 218 columns]"
      ]
     },
     "execution_count": 4,
     "metadata": {},
     "output_type": "execute_result"
    }
   ],
   "source": [
    "df[:5]"
   ]
  },
  {
   "cell_type": "markdown",
   "id": "62db79ec",
   "metadata": {},
   "source": [
    "## 1. Separate continuous, categorical, and label column names\n",
    "\n",
    "Pretty much everything is continuous. \n",
    "\n",
    "Note: the y_col is what you're trying to predict\n",
    "\n",
    "## Feature engineering\n",
    "New Columns\n",
    "- **h_win**: Home team won\n"
   ]
  },
  {
   "cell_type": "code",
   "execution_count": 5,
   "id": "1a3960b3",
   "metadata": {
    "scrolled": true
   },
   "outputs": [
    {
     "name": "stdout",
     "output_type": "stream",
     "text": [
      "D_datediff       float64\n",
      "D_First_Downs      int64\n",
      "D_Rush             int64\n",
      "D_Yds              int64\n",
      "D_TDs              int64\n",
      "                  ...   \n",
      "D_punting_yds    float64\n",
      "D_scoring_fga    float64\n",
      "D_scoring_fgm    float64\n",
      "D_scoring_xpa    float64\n",
      "D_scoring_xpm    float64\n",
      "Length: 62, dtype: object\n"
     ]
    }
   ],
   "source": [
    "cat_cols = []\n",
    "cont_cols = [\n",
    "    # Home vs away days since last game\n",
    "    'H_datediff', 'V_datediff',\n",
    "    \n",
    "    # First Downs\n",
    "    'H_First_Downs', 'V_First_Downs',\n",
    "    \n",
    "    # Basic Stats\n",
    "    'H_Rush', 'V_Rush',\n",
    "    'H_Yds', 'V_Yds',\n",
    "    'H_TDs', 'V_TDs',\n",
    "    'H_Cmp', 'V_Cmp',\n",
    "    'H_Att', 'V_Att',\n",
    "    'H_Yd', 'V_Yd',\n",
    "    'H_TD', 'V_TD',\n",
    "    'H_INT', 'V_INT',\n",
    "    'H_Sacked', 'V_Sacked',\n",
    "    'H_Yards', 'V_Yards',\n",
    "    'H_Net_Pass_Yards', 'V_Net_Pass_Yards',\n",
    "    'H_Total_Yards', 'V_Total_Yards',\n",
    "    'H_Fumbles', 'V_Fumbles',\n",
    "    'H_Lost', 'V_Lost',\n",
    "    'H_Turnovers', 'V_Turnovers',\n",
    "    'H_Penalties', 'V_Penalties',\n",
    "    #'H_Third_Down_Conv', 'V_Third_Down_Conv',\n",
    "    #'H_Fourth_Down_Conv', 'V_Fourth_Down_Conv',\n",
    "    #'H_Time_of_Possession', 'V_Time_of_Possession',\n",
    "    \n",
    "    # Passing Detailed\n",
    "    'H_passing_att', 'V_passing_att',\n",
    "    'H_passing_cmp', 'V_passing_cmp',\n",
    "    'H_passing_int', 'V_passing_int',\n",
    "    'H_passing_lng', 'V_passing_lng',\n",
    "    'H_passing_sk', 'V_passing_sk',\n",
    "    'H_passing_td', 'V_passing_td',\n",
    "    'H_passing_yds', 'V_passing_yds',\n",
    "    \n",
    "    # Receiving\n",
    "    'H_receiving_lng', 'V_receiving_lng',\n",
    "    'H_receiving_td', 'V_receiving_td',\n",
    "    'H_receiving_yds', 'V_receiving_yds',\n",
    "    \n",
    "    # Rushing Detailed\n",
    "    'H_rushing_att', 'V_rushing_att',\n",
    "    'H_rushing_lng', 'V_rushing_lng',\n",
    "    'H_rushing_td', 'V_rushing_td',\n",
    "    'H_rushing_yds', 'V_rushing_yds',\n",
    "    \n",
    "    # Defense Interceptions\n",
    "    'H_def_interceptions_int', 'V_def_interceptions_int',\n",
    "    'H_def_interceptions_lng', 'V_def_interceptions_lng',\n",
    "    'H_def_interceptions_pd', 'V_def_interceptions_pd',\n",
    "    'H_def_interceptions_td', 'V_def_interceptions_td',\n",
    "    'H_def_interceptions_yds', 'V_def_interceptions_yds',\n",
    "    \n",
    "    # Defense Fumbles\n",
    "    'H_fumbles_ff', 'V_fumbles_ff',\n",
    "    'H_fumbles_fr', 'V_fumbles_fr',\n",
    "    'H_fumbles_td', 'V_fumbles_td',\n",
    "    'H_fumbles_yds', 'V_fumbles_yds',\n",
    "    \n",
    "    # Defense Tackles\n",
    "    'H_sk', 'V_sk',\n",
    "    'H_tackles_ast', 'V_tackles_ast',\n",
    "    'H_tackles_comb', 'V_tackles_comb',\n",
    "    'H_tackles_qbhits', 'V_tackles_qbhits',\n",
    "    'H_tackles_solo', 'V_tackles_solo',\n",
    "    'H_tackles_tfl', 'V_tackles_tfl',\n",
    "    \n",
    "    # Kick Returns\n",
    "    'H_kick_returns_lng', 'V_kick_returns_lng',\n",
    "    'H_kick_returns_rt', 'V_kick_returns_rt',\n",
    "    'H_kick_returns_td', 'V_kick_returns_td',\n",
    "    'H_kick_returns_yds', 'V_kick_returns_yds',\n",
    "    \n",
    "    # Punt Returns\n",
    "    'H_punt_returns_lng', 'V_punt_returns_lng',\n",
    "    'H_punt_returns_ret', 'V_punt_returns_ret',\n",
    "    'H_punt_returns_td', 'V_punt_returns_td',\n",
    "    'H_punt_returns_yds', 'V_punt_returns_yds',\n",
    "    \n",
    "    # Punting/Scoring\n",
    "    'H_punting_lng', 'V_punting_lng',\n",
    "    'H_punting_pnt', 'V_punting_pnt',\n",
    "    'H_punting_yds', 'V_punting_yds',\n",
    "    'H_scoring_fga', 'V_scoring_fga',\n",
    "    'H_scoring_fgm', 'V_scoring_fgm',\n",
    "    'H_scoring_xpa', 'V_scoring_xpa',\n",
    "    'H_scoring_xpm', 'V_scoring_xpm',\n",
    "    \n",
    "    # Odds\n",
    "    # 'H_start_odds', 'V_start_odds',\n",
    "    # 'H_halftime_odds', 'V_halftime_odds'\n",
    "]\n",
    "\n",
    "cont_cols = [\n",
    "    'D_datediff', # Days since last game (Home - visitor)\n",
    "    \n",
    "    # first downs\n",
    "    'D_First_Downs',\n",
    "    \n",
    "    # Basic Stats\n",
    "    'D_Rush',\n",
    "    'D_Yds',\n",
    "    'D_TDs',\n",
    "    'D_Cmp',\n",
    "    'D_Att',\n",
    "    'D_Yd',\n",
    "    'D_TD',\n",
    "    'D_INT',\n",
    "    'D_Sacked',\n",
    "    'D_Yards',\n",
    "    'D_Net_Pass_Yards',\n",
    "    'D_Total_Yards',\n",
    "    'D_Fumbles',\n",
    "    'D_Lost',\n",
    "    'D_Turnovers',\n",
    "    'D_Penalties',\n",
    "    \n",
    "    # Passing Detailed\n",
    "    'D_passing_att',\n",
    "    'D_passing_cmp',\n",
    "    'D_passing_int',\n",
    "    'D_passing_lng',\n",
    "    'D_passing_sk',\n",
    "    'D_passing_td',\n",
    "    'D_passing_yds',\n",
    "    \n",
    "    # Receiving\n",
    "    'D_receiving_lng',\n",
    "    'D_receiving_td',\n",
    "    'D_receiving_yds',\n",
    "    \n",
    "    # Rushing Detailed\n",
    "    'D_rushing_att',\n",
    "    'D_rushing_lng',\n",
    "    'D_rushing_td',\n",
    "    'D_rushing_yds',\n",
    "    \n",
    "    # Defense interceptions\n",
    "    'D_def_interceptions_int',\n",
    "    'D_def_interceptions_lng',\n",
    "    'D_def_interceptions_pd',\n",
    "    'D_def_interceptions_td',\n",
    "    'D_def_interceptions_yds',\n",
    "    \n",
    "    # Defense fumbles\n",
    "    'D_fumbles_ff',\n",
    "    'D_fumbles_fr',\n",
    "    'D_fumbles_td',\n",
    "    'D_fumbles_yds',\n",
    "    \n",
    "    # Defense tackles\n",
    "    'D_sk',\n",
    "    'D_tackles_ast',\n",
    "    'D_tackles_comb',\n",
    "    'D_tackles_qbhits',\n",
    "    'D_tackles_solo',\n",
    "    'D_tackles_tfl',\n",
    "    \n",
    "    # Kick Returns\n",
    "    'D_kick_returns_lng',\n",
    "    'D_kick_returns_rt',\n",
    "    'D_kick_returns_td',\n",
    "    'D_kick_returns_yds',\n",
    "    \n",
    "    # Punt Returns\n",
    "    'D_punt_returns_lng',\n",
    "    'D_punt_returns_ret',\n",
    "    'D_punt_returns_td',\n",
    "    'D_punt_returns_yds',\n",
    "    \n",
    "    # Punting / Scoring\n",
    "    'D_punting_lng',\n",
    "    'D_punting_pnt',\n",
    "    'D_punting_yds',\n",
    "    'D_scoring_fga',\n",
    "    'D_scoring_fgm',\n",
    "    'D_scoring_xpa',\n",
    "    'D_scoring_xpm'\n",
    "]\n",
    "\n",
    "\n",
    "y_col = ['H_Won']\n",
    "y_col_perf = ['H_Won', 'H_start_odds', 'V_start_odds', 'H_halftime_odds', 'V_halftime_odds']\n",
    "\n",
    "# create cont_df and y_df from the df\n",
    "cont_df = df[cont_cols]\n",
    "y_df = df[y_col]\n",
    "\n",
    "# test performance set\n",
    "perf_conts_df = test_performance_df[cont_cols]\n",
    "perf_y_df = test_performance_df[y_col_perf]\n",
    "\n",
    "print(cont_df.dtypes)"
   ]
  },
  {
   "cell_type": "markdown",
   "id": "2ad0a853",
   "metadata": {},
   "source": [
    "## Monotone constraints dict"
   ]
  },
  {
   "cell_type": "code",
   "execution_count": 6,
   "id": "147aeb14",
   "metadata": {},
   "outputs": [
    {
     "name": "stdout",
     "output_type": "stream",
     "text": [
      "(1, 1, 1, 1, 1, 1, 0, 1, 1, -1, -1, 0, 1, 1, -1, -1, -1, -1, 0, 1, -1, 1, -1, 1, 1, 1, 1, 1, 0, 1, 1, 1, 1, 0, 0, 1, 1, 0, 1, 1, 0, 1, 0, 0, 1, 0, 1, 0, 0, 1, 1, 0, 0, 1, 1, 0, 0, 0, 0, 1, 0, 1)\n",
      "(0, 0, 0, 0, 0, 0, 0, 0, 0, 0, 0, 0, 0, 0, 0, 0, 0, 0, 0, 0, 0, 0, 0, 0, 0, 0, 0, 0, 0, 0, 0, 0, 0, 0, 0, 0, 0, 0, 0, 0, 0, 0, 0, 0, 0, 0, 0, 0, 0, 0, 0, 0, 0, 0, 0, 0, 0, 0, 0, 0, 0, 0)\n"
     ]
    }
   ],
   "source": [
    "monotone_constraints = {\n",
    "    # Time between games - More rest is better\n",
    "    'D_datediff': 1,\n",
    "    \n",
    "    # Offensive positive indicators\n",
    "    'D_First_Downs': 1,\n",
    "    'D_Rush': 1,\n",
    "    'D_Yds': 1,\n",
    "    'D_TDs': 1,\n",
    "    'D_Cmp': 1,\n",
    "    'D_Yd': 1,\n",
    "    'D_TD': 1,\n",
    "    'D_Net_Pass_Yards': 1,\n",
    "    'D_Total_Yards': 1,\n",
    "    \n",
    "    # Negative indicators\n",
    "    'D_INT': -1,\n",
    "    'D_Sacked': -1,\n",
    "    'D_Fumbles': -1,\n",
    "    'D_Lost': -1,\n",
    "    'D_Turnovers': -1,\n",
    "    'D_Penalties': -1,\n",
    "    \n",
    "    # Passing detail - positive\n",
    "    'D_passing_cmp': 1,\n",
    "    'D_passing_td': 1,\n",
    "    'D_passing_yds': 1,\n",
    "    'D_passing_lng': 1,\n",
    "    \n",
    "    # Passing detail - negative\n",
    "    'D_passing_int': -1,\n",
    "    'D_passing_sk': -1,\n",
    "    \n",
    "    # Receiving/Rushing - all positive\n",
    "    'D_receiving_td': 1,\n",
    "    'D_receiving_yds': 1,\n",
    "    'D_receiving_lng': 1,\n",
    "    'D_rushing_td': 1,\n",
    "    'D_rushing_yds': 1,\n",
    "    'D_rushing_lng': 1,\n",
    "    \n",
    "    # Defense - generally positive when in your favor\n",
    "    'D_def_interceptions_int': 1,\n",
    "    'D_def_interceptions_td': 1,\n",
    "    'D_def_interceptions_yds': 1,\n",
    "    'D_fumbles_fr': 1,\n",
    "    'D_fumbles_td': 1,\n",
    "    'D_sk': 1,\n",
    "    'D_tackles_qbhits': 1,\n",
    "    'D_tackles_tfl': 1,\n",
    "    \n",
    "    # Special teams - positive indicators\n",
    "    'D_kick_returns_td': 1,\n",
    "    'D_kick_returns_yds': 1,\n",
    "    'D_punt_returns_td': 1,\n",
    "    'D_punt_returns_yds': 1,\n",
    "    \n",
    "    # Scoring - positive\n",
    "    'D_scoring_fgm': 1,\n",
    "    'D_scoring_xpm': 1\n",
    "}\n",
    "\n",
    "monotone_constraints_tuple = ()\n",
    "no_monotone_constraints_tuple = ()\n",
    "for col in cont_cols:\n",
    "    monotone_constraints_tuple = monotone_constraints_tuple + (monotone_constraints[col],) if col in monotone_constraints else monotone_constraints_tuple + (0,)\n",
    "    no_monotone_constraints_tuple = no_monotone_constraints_tuple + (0,)\n",
    "print(monotone_constraints_tuple)\n",
    "print(no_monotone_constraints_tuple)"
   ]
  },
  {
   "cell_type": "markdown",
   "id": "05613417",
   "metadata": {},
   "source": [
    "#### 1a. Normalize cont_df\n",
    "StandardScaler is instead used by the pipeline"
   ]
  },
  {
   "cell_type": "code",
   "execution_count": 7,
   "id": "a7e76a89",
   "metadata": {},
   "outputs": [],
   "source": [
    "# min_max_scaler = preprocessing.MinMaxScaler()\n",
    "# cont_scaled = min_max_scaler.fit_transform(cont_df.values)\n",
    "# cont_df = pd.DataFrame(cont_scaled)\n",
    "# cont_df.head()\n",
    "\n",
    "# # test performance set\n",
    "# perf_conts_df_scaled = min_max_scaler.fit_transform(perf_conts_df.values)\n",
    "# perf_conts_df = pd.DataFrame(perf_conts_df_scaled)"
   ]
  },
  {
   "cell_type": "markdown",
   "id": "1b1912ae",
   "metadata": {},
   "source": [
    "### 3. Create an array of continuous values\n",
    "Numpy array 'conts' containing stack of each continuous column"
   ]
  },
  {
   "cell_type": "code",
   "execution_count": 8,
   "id": "72c326ab",
   "metadata": {},
   "outputs": [],
   "source": [
    "conts = np.stack([cont_df[col].values for col in list(cont_df.columns)], 1)\n",
    "conts[:5]\n",
    "\n",
    "y_col = np.stack([y_df[col].values for col in y_col], 1)\n",
    "\n",
    "# test performance set\n",
    "perf_conts = np.stack([perf_conts_df[col].values for col in list(perf_conts_df.columns)], 1)\n",
    "perf_y_col = np.stack([perf_y_df[col].values for col in list(perf_y_df.columns)], 1)\n",
    "\n",
    "\n",
    "conts_train = conts\n",
    "y_train = y_col"
   ]
  },
  {
   "cell_type": "markdown",
   "id": "02a2547a",
   "metadata": {},
   "source": [
    "### 4. Convert conts to tensor"
   ]
  },
  {
   "cell_type": "code",
   "execution_count": 9,
   "id": "7b7db899",
   "metadata": {},
   "outputs": [
    {
     "name": "stdout",
     "output_type": "stream",
     "text": [
      "(4541, 62)\n",
      "(4541, 1)\n"
     ]
    }
   ],
   "source": [
    "print(conts.shape)\n",
    "print(y_col.shape)"
   ]
  },
  {
   "cell_type": "code",
   "execution_count": 10,
   "id": "42ac789a",
   "metadata": {},
   "outputs": [],
   "source": [
    "# Handled by model.fit()\n",
    "# conts = torch.tensor(conts, dtype=torch.float32)\n",
    "# y_col = torch.tensor(y_col, dtype=torch.float32)"
   ]
  },
  {
   "cell_type": "code",
   "execution_count": 11,
   "id": "36a7c8d7",
   "metadata": {},
   "outputs": [],
   "source": [
    "from sklearn.pipeline import Pipeline\n",
    "from sklearn.base import BaseEstimator, ClassifierMixin\n",
    "from sklearn.preprocessing import StandardScaler\n",
    "from sklearn.linear_model import LinearRegression\n",
    "from sklearn.model_selection import cross_val_score\n",
    "from sklearn.metrics import f1_score\n",
    "\n",
    "import logging\n",
    "# Set up logging\n",
    "logging.basicConfig(level=logging.INFO)"
   ]
  },
  {
   "cell_type": "code",
   "execution_count": 12,
   "id": "331d34f8",
   "metadata": {},
   "outputs": [],
   "source": [
    "class TabularModel(nn.Module, BaseEstimator, ClassifierMixin):\n",
    "    def __init__(self, n_cont, out_sz, layer_shape, p=0.5, criterion=nn.BCELoss(),\n",
    "                optimizer_class=torch.optim.Adam, lr=0.001, n_epochs=10, confidence_threshold=0.1):\n",
    "        super().__init__()\n",
    "        # Model architecture params\n",
    "        self.layer_shape = layer_shape\n",
    "        self.n_cont = n_cont\n",
    "        self.out_sz = out_sz\n",
    "        self.p = p\n",
    "        self.lr = lr\n",
    "        \n",
    "        # Training params\n",
    "        self.criterion = criterion\n",
    "        self.optimizer_class = optimizer_class\n",
    "        self.n_epochs = n_epochs\n",
    "        self.confidence_threshold = confidence_threshold\n",
    "        \n",
    "        # BatchNorm layer for continuous data\n",
    "        self.bn_cont = nn.BatchNorm1d(n_cont)\n",
    "        \n",
    "        # Variable that holds the list of layers\n",
    "        layerlist = []\n",
    "        n_in = n_cont # no embed again\n",
    "        # Iterate through the passed in \"layers\" parameter (ie, [200,100]) to build a list of layers\n",
    "        for i, width in enumerate(self.layer_shape):\n",
    "            # First layer gets special treatment\n",
    "            if i == 0:\n",
    "                layerlist.extend([\n",
    "                    nn.Linear(n_in, width),\n",
    "                    nn.ReLU(),\n",
    "                    nn.BatchNorm1d(width),\n",
    "                    nn.Dropout(p/2)  # Less dropout in earlier layers\n",
    "                ])\n",
    "            else:\n",
    "                layerlist.extend([\n",
    "                    nn.Linear(n_in, width),\n",
    "                    nn.ReLU(),\n",
    "                    nn.BatchNorm1d(width),\n",
    "                    nn.Dropout(p)\n",
    "                ])\n",
    "            n_in = width\n",
    "        # layerlist.append(nn.Linear(layers[-1], out_sz))\n",
    "        \n",
    "        # Final layer\n",
    "        layerlist.extend([\n",
    "            nn.Linear(self.layer_shape[-1], out_sz),\n",
    "            # nn.Sigmoid()  # Ensures output between 0 and 1\n",
    "        ])\n",
    "        # Convert the list of layers into an attribute\n",
    "        self.layers = nn.Sequential(*layerlist)\n",
    "        \n",
    "    def forward(self, x_cont):\n",
    "        x_cont = self.bn_cont(x_cont)  # Normalize the incoming continuous data\n",
    "        x = self.layers(x_cont)        # Set up model layers\n",
    "        return x\n",
    "    \n",
    "    def fit(self, X, y):\n",
    "        \"\"\"\n",
    "        For sklearn pipeline\n",
    "        \"\"\"\n",
    "        # Convert X,y to torch.tensor if needed\n",
    "        if not isinstance(X, torch.Tensor):\n",
    "            X = torch.FloatTensor(X)\n",
    "        if not isinstance(y, torch.Tensor):\n",
    "            y = torch.FloatTensor(y)\n",
    "        \n",
    "        # Initialize optimizer\n",
    "        optimizer = self.optimizer_class(self.parameters(), lr=self.lr)\n",
    "        \n",
    "        # Training loop\n",
    "        self.train()\n",
    "        for _ in range(self.n_epochs):\n",
    "            optimizer.zero_grad()\n",
    "            y_pred = self.forward(X)\n",
    "            loss = self.criterion(y_pred, y)\n",
    "            loss.backward()\n",
    "            optimizer.step()\n",
    "\n",
    "        return self\n",
    "    \n",
    "    def predict(self, X):\n",
    "        probas = self.predict_proba(X)\n",
    "        # return (probas > 0.5).astype(int)\n",
    "        return probas\n",
    "    \n",
    "    def predict_proba(self, X):\n",
    "        self.eval()\n",
    "        with torch.no_grad():\n",
    "            if not isinstance(X, torch.Tensor):\n",
    "                X = torch.FloatTensor(X)\n",
    "            return self(X).numpy()\n",
    "    \n",
    "    def score(self, X, y):\n",
    "        \"\"\"        \n",
    "        12/5 - this isn't called at all if 'scoring' is defined\n",
    "        \"\"\"\n",
    "        probas = self.predict_proba(X)\n",
    "        # First apply confidence thresholding\n",
    "        mask = (probas < 0.5 - self.confidence_threshold) | (probas > 0.5 + self.confidence_threshold)\n",
    "        predictions = np.where(mask, (probas > 0.5).astype(np.int32), np.nan)\n",
    "\n",
    "        # Use numpy mask for nan values\n",
    "        valid_mask = ~np.isnan(predictions)\n",
    "        valid_predictions = predictions[valid_mask]\n",
    "        valid_targets = y[valid_mask]\n",
    "        \n",
    "        # Apply f1 score\n",
    "        score = f1_score(valid_predictions.flatten(), valid_targets)\n",
    "        return np.mean(score)"
   ]
  },
  {
   "cell_type": "code",
   "execution_count": 13,
   "id": "dfb8a280",
   "metadata": {
    "scrolled": true
   },
   "outputs": [],
   "source": [
    "class TabularModelUpdated(nn.Module, BaseEstimator, ClassifierMixin):\n",
    "    def __init__(self, n_cont, out_sz, layer_shape, p=0.5, criterion=nn.MSELoss(),\n",
    "                optimizer_class=torch.optim.Adam, lr=0.001, confidence_threshold=0.1):\n",
    "        super().__init__()\n",
    "        # Model architecture params\n",
    "        self.layer_shape = layer_shape\n",
    "        self.n_cont = n_cont\n",
    "        self.out_sz = out_sz\n",
    "        self.p = p\n",
    "        self.lr = lr\n",
    "        \n",
    "        # Training params\n",
    "        self.criterion = criterion\n",
    "        self.confidence_threshold = confidence_threshold\n",
    "        \n",
    "        # BatchNorm layer for continuous data\n",
    "        self.bn_cont = nn.BatchNorm1d(n_cont)\n",
    "        \n",
    "        # Variable that holds the list of layers\n",
    "        layerlist = []\n",
    "        n_in = n_cont # no embed again\n",
    "        # Iterate through the passed in \"layers\" parameter (ie, [200,100]) to build a list of layers\n",
    "        for i, width in enumerate(self.layer_shape):\n",
    "            # First layer gets special treatment\n",
    "            if i == 0:\n",
    "                layerlist.extend([\n",
    "                    nn.Linear(n_in, width),\n",
    "                    nn.ReLU(),\n",
    "                    nn.BatchNorm1d(width),\n",
    "                    nn.Dropout(p/2)  # Less dropout in earlier layers\n",
    "                ])\n",
    "            else:\n",
    "                layerlist.extend([\n",
    "                    nn.Linear(n_in, width),\n",
    "                    nn.ReLU(),\n",
    "                    nn.BatchNorm1d(width),\n",
    "                    nn.Dropout(p)\n",
    "                ])\n",
    "            n_in = width\n",
    "        # layerlist.append(nn.Linear(layers[-1], out_sz))\n",
    "        \n",
    "        # Final layer\n",
    "        layerlist.extend([\n",
    "            nn.Linear(self.layer_shape[-1], out_sz),\n",
    "            # nn.Sigmoid()  # Ensures output between 0 and 1\n",
    "        ])\n",
    "        # Convert the list of layers into an attribute\n",
    "        self.layers = nn.Sequential(*layerlist)\n",
    "        # Initialize the optimizer\n",
    "        self.optimizer = optimizer_class(self.parameters(), lr=self.lr)\n",
    "\n",
    "        \n",
    "    def forward(self, x_cont):\n",
    "        x_cont = self.bn_cont(x_cont)  # Normalize the incoming continuous data\n",
    "        x = self.layers(x_cont)        # Set up model layers\n",
    "        return x\n",
    "    \n",
    "    def fit(self, X, y):\n",
    "        \"\"\"\n",
    "        For sklearn pipeline\n",
    "        \"\"\"\n",
    "        # Convert X,y to torch.tensor if needed\n",
    "        if not isinstance(X, torch.Tensor):\n",
    "            X = torch.FloatTensor(X)\n",
    "        if not isinstance(y, torch.Tensor):\n",
    "            y = torch.FloatTensor(y)\n",
    "        \n",
    "        # Initialize optimizer\n",
    "        # optimizer = self.optimizer_class(self.parameters(), lr=self.lr)\n",
    "        # Training loop\n",
    "        self.train()\n",
    "        self.optimizer.zero_grad()\n",
    "        y_pred = self.forward(X)\n",
    "        loss = self.criterion(y_pred, y)\n",
    "        loss.backward()\n",
    "        self.optimizer.step()\n",
    "        return self\n",
    "    \n",
    "    def predict(self, X):\n",
    "        probas = self.predict_proba(X)\n",
    "        return (probas > 0.5).astype(int)\n",
    "        # return probas\n",
    "    \n",
    "    def predict_proba(self, X):\n",
    "        self.eval()\n",
    "        with torch.no_grad():\n",
    "            if not isinstance(X, torch.Tensor):\n",
    "                X = torch.FloatTensor(X)\n",
    "            return self(X).numpy()\n",
    "    \n",
    "    def score(self, X, y):\n",
    "        \"\"\"        \n",
    "        12/5 - this isn't called at all if 'scoring' is defined\n",
    "        \"\"\"\n",
    "        probas = self.predict_proba(X)\n",
    "        # First apply confidence thresholding\n",
    "        mask = (probas < 0.5 - self.confidence_threshold) | (probas > 0.5 + self.confidence_threshold)\n",
    "        predictions = np.where(mask, (probas > 0.5).astype(np.int32), np.nan)\n",
    "\n",
    "        # Use numpy mask for nan values\n",
    "        valid_mask = ~np.isnan(predictions)\n",
    "        valid_predictions = predictions[valid_mask]\n",
    "        valid_targets = y[valid_mask]\n",
    "        \n",
    "        # Penalize if < 80% predicted\n",
    "        if (1.0* len(valid_predictions) / len(X)) < 0.85:\n",
    "            # print(f\"mask {len(valid_predictions)}  pred {len(X)}\")\n",
    "            return 0.0\n",
    "\n",
    "        # Apply f1 score\n",
    "        score = f1_score(valid_predictions.flatten(), valid_targets)\n",
    "        return score"
   ]
  },
  {
   "cell_type": "code",
   "execution_count": 14,
   "id": "9a98161a",
   "metadata": {},
   "outputs": [],
   "source": [
    "def objective(trial):\n",
    "    # --- Suggest hyperparameters ---\n",
    "\n",
    "    criterion = trial.suggest_categorical('criterion', nfl_utils.map_losses(None).keys())\n",
    "    first_layer_size = trial.suggest_categorical('first_layer_size', [64, 56, 48, 32, 16, 12])\n",
    "    min_layers = math.floor(math.sqrt(first_layer_size))\n",
    "    num_layers = trial.suggest_int('num_layers', 2, min_layers)\n",
    "    confidence_threshold = trial.suggest_float('confidence_threshold', 0, 0.05)\n",
    "    layer_shape = [first_layer_size]\n",
    "    for i in range(1, num_layers):\n",
    "        layer_shape.append(first_layer_size//(2*i))\n",
    "    \n",
    "    # Set random state to have consistent results (42 is arbitrary)\n",
    "    set_all_seeds()\n",
    "    \n",
    "    n_splits = 5\n",
    "    kf = KFold(n_splits=n_splits, shuffle=False)\n",
    "\n",
    "    # Split once\n",
    "    X_train_fold = []\n",
    "    X_val = []\n",
    "    y_train_fold = []\n",
    "    y_val = []\n",
    "    models = []\n",
    "    for train_index, val_index in kf.split(conts_train):\n",
    "        # print(f\"train {train_index.shape} val {val_index.shape}\")\n",
    "        X_train_fold.append(torch.FloatTensor(conts_train[train_index]).to(device))\n",
    "        X_val.append(torch.FloatTensor(conts_train[val_index]).to(device))\n",
    "\n",
    "        y_train_fold.append(torch.FloatTensor(y_train[train_index]).to(device))\n",
    "        y_val.append(torch.FloatTensor(y_train[val_index]).to(device))\n",
    "\n",
    "        model = TabularModelUpdated(\n",
    "            n_cont=conts.shape[1],\n",
    "            out_sz=1,\n",
    "            layer_shape=layer_shape,\n",
    "            p=trial.suggest_float('dropout', 0.28, 0.38),     # Dropout\n",
    "            criterion=nfl_utils.map_losses(criterion),\n",
    "            optimizer_class=torch.optim.Adam,\n",
    "            lr=trial.suggest_float('lr', 1e-3, 1e-2, log=True),   # Learning rate \n",
    "            confidence_threshold=confidence_threshold\n",
    "        )\n",
    "        pipeline = Pipeline([\n",
    "            ('scaler', StandardScaler()), # Standardize the numerical features\n",
    "            # ('regressor', LinearRegression()), # Apply a regression model\n",
    "            ('model', model)\n",
    "        ])\n",
    "        models.append(pipeline)\n",
    "\n",
    "    # Run once on each split, track average loss, stop if > max patience\n",
    "    max_patience = 10\n",
    "    current_patience = max_patience\n",
    "    tracked_loss = 0.0\n",
    "    n_epochs = 0\n",
    "    while current_patience > 0 or n_epochs < 100:\n",
    "        n_epochs = n_epochs + 1\n",
    "        running_loss = []\n",
    "        for i in range(0,n_splits):\n",
    "            # ----- Train -----\n",
    "            models[i].fit(X_train_fold[i], y_train_fold[i])\n",
    "\n",
    "            # ----- Eval -----\n",
    "            running_loss.append(models[i].score(X_val[i], y_val[i]))\n",
    "            # y_pred = models[i].predict(X_val[i])\n",
    "            # running_loss.append(f1_score(y_val[i], y_pred))\n",
    "        running_loss = np.mean(running_loss)\n",
    "\n",
    "        # ----- Current epoch loss > previous -----\n",
    "        # print(f\"{tracked_loss} {running_loss} {tracked_loss < running_loss}\")\n",
    "        if tracked_loss < running_loss:\n",
    "            current_patience = max_patience\n",
    "            tracked_loss = running_loss\n",
    "        else:\n",
    "            current_patience = current_patience - 1\n",
    "    trial.suggest_int('n_epochs', n_epochs, n_epochs)\n",
    "    trial.report(tracked_loss, n_epochs)\n",
    "    return tracked_loss\n",
    "\n",
    "def print_callback(study, trial):\n",
    "    print(f\"Trial {trial.number} finished with value: {trial.value}\")\n",
    "    print(f\"Best trial so far: {study.best_trial.number}, value: {study.best_trial.value}\")"
   ]
  },
  {
   "cell_type": "code",
   "execution_count": null,
   "id": "5083dceb",
   "metadata": {
    "scrolled": true
   },
   "outputs": [
    {
     "name": "stderr",
     "output_type": "stream",
     "text": [
      "[I 2024-12-08 19:14:18,245] A new study created in memory with name: no-name-42392a07-8dcb-4c53-ab9b-edc9790279e7\n",
      "[I 2024-12-08 19:14:22,731] Trial 0 finished with value: 0.43131596728962257 and parameters: {'criterion': 'SmoothL1Loss', 'first_layer_size': 16, 'num_layers': 2, 'confidence_threshold': 0.02357638913851849, 'dropout': 0.34918177444950543, 'lr': 0.005362658570915581, 'n_epochs': 155}. Best is trial 0 with value: 0.43131596728962257.\n"
     ]
    },
    {
     "name": "stdout",
     "output_type": "stream",
     "text": [
      "Trial 0 finished with value: 0.43131596728962257\n",
      "Best trial so far: 0, value: 0.43131596728962257\n"
     ]
    },
    {
     "name": "stderr",
     "output_type": "stream",
     "text": [
      "[I 2024-12-08 19:14:25,876] Trial 1 finished with value: 0.07213273078668195 and parameters: {'criterion': 'SmoothL1Loss', 'first_layer_size': 12, 'num_layers': 2, 'confidence_threshold': 0.0419089273904206, 'dropout': 0.37623035886947537, 'lr': 0.0010536093056005085, 'n_epochs': 100}. Best is trial 0 with value: 0.43131596728962257.\n"
     ]
    },
    {
     "name": "stdout",
     "output_type": "stream",
     "text": [
      "Trial 1 finished with value: 0.07213273078668195\n",
      "Best trial so far: 0, value: 0.43131596728962257\n"
     ]
    },
    {
     "name": "stderr",
     "output_type": "stream",
     "text": [
      "[I 2024-12-08 19:14:30,293] Trial 2 finished with value: 0.2429733425485972 and parameters: {'criterion': 'MSELoss', 'first_layer_size': 12, 'num_layers': 3, 'confidence_threshold': 0.009832913171771058, 'dropout': 0.3448296743650795, 'lr': 0.0020423095289201767, 'n_epochs': 100}. Best is trial 0 with value: 0.43131596728962257.\n"
     ]
    },
    {
     "name": "stdout",
     "output_type": "stream",
     "text": [
      "Trial 2 finished with value: 0.2429733425485972\n",
      "Best trial so far: 0, value: 0.43131596728962257\n"
     ]
    },
    {
     "name": "stderr",
     "output_type": "stream",
     "text": [
      "[I 2024-12-08 19:14:35,771] Trial 3 finished with value: 0.0718606776832092 and parameters: {'criterion': 'SmoothL1Loss', 'first_layer_size': 16, 'num_layers': 2, 'confidence_threshold': 0.03518023073373398, 'dropout': 0.2866911162669335, 'lr': 0.0010126780838470072, 'n_epochs': 177}. Best is trial 0 with value: 0.43131596728962257.\n"
     ]
    },
    {
     "name": "stdout",
     "output_type": "stream",
     "text": [
      "Trial 3 finished with value: 0.0718606776832092\n",
      "Best trial so far: 0, value: 0.43131596728962257\n"
     ]
    },
    {
     "name": "stderr",
     "output_type": "stream",
     "text": [
      "[I 2024-12-08 19:14:42,793] Trial 4 finished with value: 0.07265917602996254 and parameters: {'criterion': 'MSELoss', 'first_layer_size': 64, 'num_layers': 8, 'confidence_threshold': 0.04234197761433138, 'dropout': 0.2988233447812593, 'lr': 0.0016323156209569628, 'n_epochs': 100}. Best is trial 0 with value: 0.43131596728962257.\n"
     ]
    },
    {
     "name": "stdout",
     "output_type": "stream",
     "text": [
      "Trial 4 finished with value: 0.07265917602996254\n",
      "Best trial so far: 0, value: 0.43131596728962257\n"
     ]
    },
    {
     "name": "stderr",
     "output_type": "stream",
     "text": [
      "[I 2024-12-08 19:14:47,295] Trial 5 finished with value: 0.2916216727162735 and parameters: {'criterion': 'SmoothL1Loss', 'first_layer_size': 56, 'num_layers': 3, 'confidence_threshold': 0.03752228039441639, 'dropout': 0.37407351785142284, 'lr': 0.008389508713280014, 'n_epochs': 100}. Best is trial 0 with value: 0.43131596728962257.\n"
     ]
    },
    {
     "name": "stdout",
     "output_type": "stream",
     "text": [
      "Trial 5 finished with value: 0.2916216727162735\n",
      "Best trial so far: 0, value: 0.43131596728962257\n"
     ]
    },
    {
     "name": "stderr",
     "output_type": "stream",
     "text": [
      "[I 2024-12-08 19:14:55,827] Trial 6 finished with value: 0.038104500595382826 and parameters: {'criterion': 'MSELoss', 'first_layer_size': 56, 'num_layers': 6, 'confidence_threshold': 0.03736881834154434, 'dropout': 0.28098335763050947, 'lr': 0.0012602279897866483, 'n_epochs': 119}. Best is trial 0 with value: 0.43131596728962257.\n"
     ]
    },
    {
     "name": "stdout",
     "output_type": "stream",
     "text": [
      "Trial 6 finished with value: 0.038104500595382826\n",
      "Best trial so far: 0, value: 0.43131596728962257\n"
     ]
    },
    {
     "name": "stderr",
     "output_type": "stream",
     "text": [
      "[I 2024-12-08 19:15:00,925] Trial 7 finished with value: 0.4809136205344955 and parameters: {'criterion': 'MSELoss', 'first_layer_size': 64, 'num_layers': 2, 'confidence_threshold': 0.021927807683014378, 'dropout': 0.35903186071753757, 'lr': 0.00493089180227347, 'n_epochs': 123}. Best is trial 7 with value: 0.4809136205344955.\n"
     ]
    },
    {
     "name": "stdout",
     "output_type": "stream",
     "text": [
      "Trial 7 finished with value: 0.4809136205344955\n",
      "Best trial so far: 7, value: 0.4809136205344955\n"
     ]
    },
    {
     "name": "stderr",
     "output_type": "stream",
     "text": [
      "[I 2024-12-08 19:15:04,912] Trial 8 finished with value: 0.44428571674395584 and parameters: {'criterion': 'MSELoss', 'first_layer_size': 32, 'num_layers': 2, 'confidence_threshold': 0.012888674284847614, 'dropout': 0.2800174252027116, 'lr': 0.006803664761756497, 'n_epochs': 108}. Best is trial 7 with value: 0.4809136205344955.\n"
     ]
    },
    {
     "name": "stdout",
     "output_type": "stream",
     "text": [
      "Trial 8 finished with value: 0.44428571674395584\n",
      "Best trial so far: 7, value: 0.4809136205344955\n"
     ]
    },
    {
     "name": "stderr",
     "output_type": "stream",
     "text": [
      "[I 2024-12-08 19:15:12,533] Trial 9 finished with value: 0.44969113216565476 and parameters: {'criterion': 'MSELoss', 'first_layer_size': 32, 'num_layers': 2, 'confidence_threshold': 0.02814362904901173, 'dropout': 0.34315484090712667, 'lr': 0.0031507057586268408, 'n_epochs': 207}. Best is trial 7 with value: 0.4809136205344955.\n"
     ]
    },
    {
     "name": "stdout",
     "output_type": "stream",
     "text": [
      "Trial 9 finished with value: 0.44969113216565476\n",
      "Best trial so far: 7, value: 0.4809136205344955\n"
     ]
    },
    {
     "name": "stderr",
     "output_type": "stream",
     "text": [
      "[I 2024-12-08 19:15:20,657] Trial 10 finished with value: 0.2178008191451275 and parameters: {'criterion': 'L1Loss', 'first_layer_size': 64, 'num_layers': 5, 'confidence_threshold': 0.003928664202028375, 'dropout': 0.3178242970181927, 'lr': 0.004214873181045659, 'n_epochs': 137}. Best is trial 7 with value: 0.4809136205344955.\n"
     ]
    },
    {
     "name": "stdout",
     "output_type": "stream",
     "text": [
      "Trial 10 finished with value: 0.2178008191451275\n",
      "Best trial so far: 7, value: 0.4809136205344955\n"
     ]
    },
    {
     "name": "stderr",
     "output_type": "stream",
     "text": [
      "[I 2024-12-08 19:15:25,139] Trial 11 finished with value: 0.08758924172620586 and parameters: {'criterion': 'MSELoss', 'first_layer_size': 32, 'num_layers': 3, 'confidence_threshold': 0.022778810698671003, 'dropout': 0.35173778409648315, 'lr': 0.002674178214563248, 'n_epochs': 100}. Best is trial 7 with value: 0.4809136205344955.\n"
     ]
    },
    {
     "name": "stdout",
     "output_type": "stream",
     "text": [
      "Trial 11 finished with value: 0.08758924172620586\n",
      "Best trial so far: 7, value: 0.4809136205344955\n"
     ]
    },
    {
     "name": "stderr",
     "output_type": "stream",
     "text": [
      "[I 2024-12-08 19:15:34,186] Trial 12 finished with value: 0.2671587876156214 and parameters: {'criterion': 'L1Loss', 'first_layer_size': 48, 'num_layers': 4, 'confidence_threshold': 0.030697173140400717, 'dropout': 0.32832987682966064, 'lr': 0.003735837117705647, 'n_epochs': 164}. Best is trial 7 with value: 0.4809136205344955.\n"
     ]
    },
    {
     "name": "stdout",
     "output_type": "stream",
     "text": [
      "Trial 12 finished with value: 0.2671587876156214\n",
      "Best trial so far: 7, value: 0.4809136205344955\n"
     ]
    },
    {
     "name": "stderr",
     "output_type": "stream",
     "text": [
      "[I 2024-12-08 19:15:40,939] Trial 13 finished with value: 0.43409130338266183 and parameters: {'criterion': 'MSELoss', 'first_layer_size': 32, 'num_layers': 2, 'confidence_threshold': 0.01752772217635439, 'dropout': 0.36136127821179737, 'lr': 0.0028179865002374966, 'n_epochs': 186}. Best is trial 7 with value: 0.4809136205344955.\n"
     ]
    },
    {
     "name": "stdout",
     "output_type": "stream",
     "text": [
      "Trial 13 finished with value: 0.43409130338266183\n",
      "Best trial so far: 7, value: 0.4809136205344955\n"
     ]
    },
    {
     "name": "stderr",
     "output_type": "stream",
     "text": [
      "[I 2024-12-08 19:15:46,582] Trial 14 finished with value: 0.020144300144300145 and parameters: {'criterion': 'MSELoss', 'first_layer_size': 64, 'num_layers': 5, 'confidence_threshold': 0.04920941497653361, 'dropout': 0.33136938686530965, 'lr': 0.004985417011674654, 'n_epochs': 100}. Best is trial 7 with value: 0.4809136205344955.\n"
     ]
    },
    {
     "name": "stdout",
     "output_type": "stream",
     "text": [
      "Trial 14 finished with value: 0.020144300144300145\n",
      "Best trial so far: 7, value: 0.4809136205344955\n"
     ]
    },
    {
     "name": "stderr",
     "output_type": "stream",
     "text": [
      "[I 2024-12-08 19:16:00,810] Trial 15 finished with value: 0.4347260280943008 and parameters: {'criterion': 'MSELoss', 'first_layer_size': 48, 'num_layers': 3, 'confidence_threshold': 0.029603528507375465, 'dropout': 0.364024281408171, 'lr': 0.0021680646352391117, 'n_epochs': 301}. Best is trial 7 with value: 0.4809136205344955.\n"
     ]
    },
    {
     "name": "stdout",
     "output_type": "stream",
     "text": [
      "Trial 15 finished with value: 0.4347260280943008\n",
      "Best trial so far: 7, value: 0.4809136205344955\n"
     ]
    },
    {
     "name": "stderr",
     "output_type": "stream",
     "text": [
      "[I 2024-12-08 19:16:13,695] Trial 16 finished with value: 0.1369282137106605 and parameters: {'criterion': 'L1Loss', 'first_layer_size': 64, 'num_layers': 7, 'confidence_threshold': 0.018503719667218265, 'dropout': 0.33593972662660054, 'lr': 0.009141891219386812, 'n_epochs': 172}. Best is trial 7 with value: 0.4809136205344955.\n"
     ]
    },
    {
     "name": "stdout",
     "output_type": "stream",
     "text": [
      "Trial 16 finished with value: 0.1369282137106605\n",
      "Best trial so far: 7, value: 0.4809136205344955\n"
     ]
    },
    {
     "name": "stderr",
     "output_type": "stream",
     "text": [
      "[I 2024-12-08 19:16:21,984] Trial 17 finished with value: 0.3126133410364469 and parameters: {'criterion': 'MSELoss', 'first_layer_size': 32, 'num_layers': 4, 'confidence_threshold': 0.028097628761164964, 'dropout': 0.31316558081394347, 'lr': 0.0035162464297943787, 'n_epochs': 167}. Best is trial 7 with value: 0.4809136205344955.\n"
     ]
    },
    {
     "name": "stdout",
     "output_type": "stream",
     "text": [
      "Trial 17 finished with value: 0.3126133410364469\n",
      "Best trial so far: 7, value: 0.4809136205344955\n"
     ]
    },
    {
     "name": "stderr",
     "output_type": "stream",
     "text": [
      "[I 2024-12-08 19:16:32,338] Trial 18 finished with value: 0.4934480205665075 and parameters: {'criterion': 'MSELoss', 'first_layer_size': 64, 'num_layers': 4, 'confidence_threshold': 0.019295259591514506, 'dropout': 0.3634092893576442, 'lr': 0.006279985493256114, 'n_epochs': 183}. Best is trial 18 with value: 0.4934480205665075.\n"
     ]
    },
    {
     "name": "stdout",
     "output_type": "stream",
     "text": [
      "Trial 18 finished with value: 0.4934480205665075\n",
      "Best trial so far: 18, value: 0.4934480205665075\n"
     ]
    },
    {
     "name": "stderr",
     "output_type": "stream",
     "text": [
      "[I 2024-12-08 19:16:41,921] Trial 19 finished with value: 0.36010039891811285 and parameters: {'criterion': 'L1Loss', 'first_layer_size': 64, 'num_layers': 4, 'confidence_threshold': 0.0008080453962237381, 'dropout': 0.3631327399298986, 'lr': 0.0062047312611348045, 'n_epochs': 168}. Best is trial 18 with value: 0.4934480205665075.\n"
     ]
    },
    {
     "name": "stdout",
     "output_type": "stream",
     "text": [
      "Trial 19 finished with value: 0.36010039891811285\n",
      "Best trial so far: 18, value: 0.4934480205665075\n"
     ]
    },
    {
     "name": "stderr",
     "output_type": "stream",
     "text": [
      "[I 2024-12-08 19:16:48,561] Trial 20 finished with value: 0.1707000109709922 and parameters: {'criterion': 'MSELoss', 'first_layer_size': 64, 'num_layers': 6, 'confidence_threshold': 0.01102258025435579, 'dropout': 0.3572264481297831, 'lr': 0.007381996179914515, 'n_epochs': 100}. Best is trial 18 with value: 0.4934480205665075.\n"
     ]
    },
    {
     "name": "stdout",
     "output_type": "stream",
     "text": [
      "Trial 20 finished with value: 0.1707000109709922\n",
      "Best trial so far: 18, value: 0.4934480205665075\n"
     ]
    },
    {
     "name": "stderr",
     "output_type": "stream",
     "text": [
      "[I 2024-12-08 19:16:58,415] Trial 21 finished with value: 0.4704702869719465 and parameters: {'criterion': 'MSELoss', 'first_layer_size': 64, 'num_layers': 4, 'confidence_threshold': 0.018845713372507462, 'dropout': 0.3428109324631261, 'lr': 0.004618815169704664, 'n_epochs': 186}. Best is trial 18 with value: 0.4934480205665075.\n"
     ]
    },
    {
     "name": "stdout",
     "output_type": "stream",
     "text": [
      "Trial 21 finished with value: 0.4704702869719465\n",
      "Best trial so far: 18, value: 0.4934480205665075\n"
     ]
    },
    {
     "name": "stderr",
     "output_type": "stream",
     "text": [
      "[I 2024-12-08 19:17:08,068] Trial 22 finished with value: 0.48550683387575155 and parameters: {'criterion': 'MSELoss', 'first_layer_size': 64, 'num_layers': 4, 'confidence_threshold': 0.018646232089170506, 'dropout': 0.3695088007653693, 'lr': 0.005063884798198749, 'n_epochs': 182}. Best is trial 18 with value: 0.4934480205665075.\n"
     ]
    },
    {
     "name": "stdout",
     "output_type": "stream",
     "text": [
      "Trial 22 finished with value: 0.48550683387575155\n",
      "Best trial so far: 18, value: 0.4934480205665075\n"
     ]
    },
    {
     "name": "stderr",
     "output_type": "stream",
     "text": [
      "[I 2024-12-08 19:17:14,574] Trial 23 finished with value: 0.18711771858581688 and parameters: {'criterion': 'MSELoss', 'first_layer_size': 64, 'num_layers': 6, 'confidence_threshold': 0.015196933023579745, 'dropout': 0.36755900370433287, 'lr': 0.005996462477396914, 'n_epochs': 100}. Best is trial 18 with value: 0.4934480205665075.\n"
     ]
    },
    {
     "name": "stdout",
     "output_type": "stream",
     "text": [
      "Trial 23 finished with value: 0.18711771858581688\n",
      "Best trial so far: 18, value: 0.4934480205665075\n"
     ]
    },
    {
     "name": "stderr",
     "output_type": "stream",
     "text": [
      "[I 2024-12-08 19:17:21,295] Trial 24 finished with value: 0.04975322329492369 and parameters: {'criterion': 'MSELoss', 'first_layer_size': 64, 'num_layers': 5, 'confidence_threshold': 0.021856537118940297, 'dropout': 0.37683928942235767, 'lr': 0.004229976815545716, 'n_epochs': 114}. Best is trial 18 with value: 0.4934480205665075.\n"
     ]
    },
    {
     "name": "stdout",
     "output_type": "stream",
     "text": [
      "Trial 24 finished with value: 0.04975322329492369\n",
      "Best trial so far: 18, value: 0.4934480205665075\n"
     ]
    },
    {
     "name": "stderr",
     "output_type": "stream",
     "text": [
      "[I 2024-12-08 19:17:28,229] Trial 25 finished with value: 0.4819281051377793 and parameters: {'criterion': 'MSELoss', 'first_layer_size': 64, 'num_layers': 4, 'confidence_threshold': 0.007571429801523696, 'dropout': 0.3692521294350154, 'lr': 0.007658903134721547, 'n_epochs': 130}. Best is trial 18 with value: 0.4934480205665075.\n"
     ]
    },
    {
     "name": "stdout",
     "output_type": "stream",
     "text": [
      "Trial 25 finished with value: 0.4819281051377793\n",
      "Best trial so far: 18, value: 0.4934480205665075\n"
     ]
    },
    {
     "name": "stderr",
     "output_type": "stream",
     "text": [
      "[I 2024-12-08 19:17:34,560] Trial 26 finished with value: 0.5011510145267417 and parameters: {'criterion': 'MSELoss', 'first_layer_size': 64, 'num_layers': 4, 'confidence_threshold': 0.006616316432513163, 'dropout': 0.3721914453005523, 'lr': 0.009962787242131586, 'n_epochs': 116}. Best is trial 26 with value: 0.5011510145267417.\n"
     ]
    },
    {
     "name": "stdout",
     "output_type": "stream",
     "text": [
      "Trial 26 finished with value: 0.5011510145267417\n",
      "Best trial so far: 26, value: 0.5011510145267417\n"
     ]
    },
    {
     "name": "stderr",
     "output_type": "stream",
     "text": [
      "[I 2024-12-08 19:17:44,485] Trial 27 finished with value: 0.32921033433375674 and parameters: {'criterion': 'L1Loss', 'first_layer_size': 56, 'num_layers': 5, 'confidence_threshold': 0.005951895957538843, 'dropout': 0.37782728978788693, 'lr': 0.00999635806892303, 'n_epochs': 140}. Best is trial 26 with value: 0.5011510145267417.\n"
     ]
    },
    {
     "name": "stdout",
     "output_type": "stream",
     "text": [
      "Trial 27 finished with value: 0.32921033433375674\n",
      "Best trial so far: 26, value: 0.5011510145267417\n"
     ]
    },
    {
     "name": "stderr",
     "output_type": "stream",
     "text": [
      "[I 2024-12-08 19:17:51,472] Trial 28 finished with value: 0.47636323746043174 and parameters: {'criterion': 'SmoothL1Loss', 'first_layer_size': 48, 'num_layers': 3, 'confidence_threshold': 0.013183991753082174, 'dropout': 0.3539027730476259, 'lr': 0.005904345258529955, 'n_epochs': 141}. Best is trial 26 with value: 0.5011510145267417.\n"
     ]
    },
    {
     "name": "stdout",
     "output_type": "stream",
     "text": [
      "Trial 28 finished with value: 0.47636323746043174\n",
      "Best trial so far: 26, value: 0.5011510145267417\n"
     ]
    },
    {
     "name": "stderr",
     "output_type": "stream",
     "text": [
      "[I 2024-12-08 19:18:00,995] Trial 29 finished with value: 0.43647682246899855 and parameters: {'criterion': 'MSELoss', 'first_layer_size': 12, 'num_layers': 3, 'confidence_threshold': 0.0005088029854640116, 'dropout': 0.37081663976711365, 'lr': 0.008390252997347978, 'n_epochs': 197}. Best is trial 26 with value: 0.5011510145267417.\n"
     ]
    },
    {
     "name": "stdout",
     "output_type": "stream",
     "text": [
      "Trial 29 finished with value: 0.43647682246899855\n",
      "Best trial so far: 26, value: 0.5011510145267417\n"
     ]
    },
    {
     "name": "stderr",
     "output_type": "stream",
     "text": [
      "[I 2024-12-08 19:18:05,374] Trial 30 finished with value: 0.11864057672502577 and parameters: {'criterion': 'SmoothL1Loss', 'first_layer_size': 16, 'num_layers': 4, 'confidence_threshold': 0.024807363126201073, 'dropout': 0.3798334855514543, 'lr': 0.005596603409985688, 'n_epochs': 100}. Best is trial 26 with value: 0.5011510145267417.\n"
     ]
    },
    {
     "name": "stdout",
     "output_type": "stream",
     "text": [
      "Trial 30 finished with value: 0.11864057672502577\n",
      "Best trial so far: 26, value: 0.5011510145267417\n"
     ]
    },
    {
     "name": "stderr",
     "output_type": "stream",
     "text": [
      "[I 2024-12-08 19:18:12,899] Trial 31 finished with value: 0.4898953840701187 and parameters: {'criterion': 'MSELoss', 'first_layer_size': 64, 'num_layers': 4, 'confidence_threshold': 0.007345901252132974, 'dropout': 0.3697857834989429, 'lr': 0.007354236299219917, 'n_epochs': 138}. Best is trial 26 with value: 0.5011510145267417.\n"
     ]
    },
    {
     "name": "stdout",
     "output_type": "stream",
     "text": [
      "Trial 31 finished with value: 0.4898953840701187\n",
      "Best trial so far: 26, value: 0.5011510145267417\n"
     ]
    },
    {
     "name": "stderr",
     "output_type": "stream",
     "text": [
      "[I 2024-12-08 19:18:23,132] Trial 32 finished with value: 0.5039514502312012 and parameters: {'criterion': 'MSELoss', 'first_layer_size': 64, 'num_layers': 4, 'confidence_threshold': 0.007918399075383022, 'dropout': 0.36885522363997514, 'lr': 0.006785655749369697, 'n_epochs': 167}. Best is trial 32 with value: 0.5039514502312012.\n"
     ]
    },
    {
     "name": "stdout",
     "output_type": "stream",
     "text": [
      "Trial 32 finished with value: 0.5039514502312012\n",
      "Best trial so far: 32, value: 0.5039514502312012\n"
     ]
    },
    {
     "name": "stderr",
     "output_type": "stream",
     "text": [
      "[I 2024-12-08 19:18:34,266] Trial 33 finished with value: 0.5313415121473695 and parameters: {'criterion': 'MSELoss', 'first_layer_size': 64, 'num_layers': 5, 'confidence_threshold': 0.007932072200850869, 'dropout': 0.3511390698911712, 'lr': 0.006962155643115938, 'n_epochs': 173}. Best is trial 33 with value: 0.5313415121473695.\n"
     ]
    },
    {
     "name": "stdout",
     "output_type": "stream",
     "text": [
      "Trial 33 finished with value: 0.5313415121473695\n",
      "Best trial so far: 33, value: 0.5313415121473695\n"
     ]
    },
    {
     "name": "stderr",
     "output_type": "stream",
     "text": [
      "[I 2024-12-08 19:18:40,560] Trial 34 finished with value: 0.4582612905390189 and parameters: {'criterion': 'MSELoss', 'first_layer_size': 16, 'num_layers': 3, 'confidence_threshold': 0.01023488364655543, 'dropout': 0.34758223118664466, 'lr': 0.009808023872075487, 'n_epochs': 141}. Best is trial 33 with value: 0.5313415121473695.\n"
     ]
    },
    {
     "name": "stdout",
     "output_type": "stream",
     "text": [
      "Trial 34 finished with value: 0.4582612905390189\n",
      "Best trial so far: 33, value: 0.5313415121473695\n"
     ]
    },
    {
     "name": "stderr",
     "output_type": "stream",
     "text": [
      "[I 2024-12-08 19:18:45,083] Trial 35 finished with value: 0.4758189995011982 and parameters: {'criterion': 'SmoothL1Loss', 'first_layer_size': 12, 'num_layers': 2, 'confidence_threshold': 0.004448614943609382, 'dropout': 0.35498994566163083, 'lr': 0.008352488375915677, 'n_epochs': 119}. Best is trial 33 with value: 0.5313415121473695.\n"
     ]
    },
    {
     "name": "stdout",
     "output_type": "stream",
     "text": [
      "Trial 35 finished with value: 0.4758189995011982\n",
      "Best trial so far: 33, value: 0.5313415121473695\n"
     ]
    },
    {
     "name": "stderr",
     "output_type": "stream",
     "text": [
      "[I 2024-12-08 19:18:53,936] Trial 36 finished with value: 0.5054119366987706 and parameters: {'criterion': 'MSELoss', 'first_layer_size': 64, 'num_layers': 5, 'confidence_threshold': 0.00260253909760325, 'dropout': 0.3495994175720462, 'lr': 0.00663628771846537, 'n_epochs': 156}. Best is trial 33 with value: 0.5313415121473695.\n"
     ]
    },
    {
     "name": "stdout",
     "output_type": "stream",
     "text": [
      "Trial 36 finished with value: 0.5054119366987706\n",
      "Best trial so far: 33, value: 0.5313415121473695\n"
     ]
    },
    {
     "name": "stderr",
     "output_type": "stream",
     "text": [
      "[I 2024-12-08 19:19:02,758] Trial 37 finished with value: 0.49877200384206954 and parameters: {'criterion': 'MSELoss', 'first_layer_size': 64, 'num_layers': 5, 'confidence_threshold': 0.0023758329207575436, 'dropout': 0.34069890987876233, 'lr': 0.006738875973985592, 'n_epochs': 157}. Best is trial 33 with value: 0.5313415121473695.\n"
     ]
    },
    {
     "name": "stdout",
     "output_type": "stream",
     "text": [
      "Trial 37 finished with value: 0.49877200384206954\n",
      "Best trial so far: 33, value: 0.5313415121473695\n"
     ]
    },
    {
     "name": "stderr",
     "output_type": "stream",
     "text": [
      "[I 2024-12-08 19:19:10,068] Trial 38 finished with value: 0.1839581170393254 and parameters: {'criterion': 'MSELoss', 'first_layer_size': 56, 'num_layers': 6, 'confidence_threshold': 0.008194560308080082, 'dropout': 0.34893920267421635, 'lr': 0.008447304445055965, 'n_epochs': 100}. Best is trial 33 with value: 0.5313415121473695.\n"
     ]
    },
    {
     "name": "stdout",
     "output_type": "stream",
     "text": [
      "Trial 38 finished with value: 0.1839581170393254\n",
      "Best trial so far: 33, value: 0.5313415121473695\n"
     ]
    },
    {
     "name": "stderr",
     "output_type": "stream",
     "text": [
      "[I 2024-12-08 19:19:18,046] Trial 39 finished with value: 0.48324658600965764 and parameters: {'criterion': 'SmoothL1Loss', 'first_layer_size': 16, 'num_layers': 3, 'confidence_threshold': 0.0039636564075687785, 'dropout': 0.3227047337376763, 'lr': 0.007051071689775943, 'n_epochs': 180}. Best is trial 33 with value: 0.5313415121473695.\n"
     ]
    },
    {
     "name": "stdout",
     "output_type": "stream",
     "text": [
      "Trial 39 finished with value: 0.48324658600965764\n",
      "Best trial so far: 33, value: 0.5313415121473695\n"
     ]
    },
    {
     "name": "stderr",
     "output_type": "stream",
     "text": [
      "[I 2024-12-08 19:19:32,324] Trial 40 finished with value: 0.4407260970622239 and parameters: {'criterion': 'MSELoss', 'first_layer_size': 12, 'num_layers': 2, 'confidence_threshold': 0.015209190921056456, 'dropout': 0.3074588466882827, 'lr': 0.0015539077286840983, 'n_epochs': 381}. Best is trial 33 with value: 0.5313415121473695.\n"
     ]
    },
    {
     "name": "stdout",
     "output_type": "stream",
     "text": [
      "Trial 40 finished with value: 0.4407260970622239\n",
      "Best trial so far: 33, value: 0.5313415121473695\n"
     ]
    },
    {
     "name": "stderr",
     "output_type": "stream",
     "text": [
      "[I 2024-12-08 19:19:42,897] Trial 41 finished with value: 0.5310000544819926 and parameters: {'criterion': 'MSELoss', 'first_layer_size': 64, 'num_layers': 5, 'confidence_threshold': 0.001705470101425131, 'dropout': 0.33625102225262143, 'lr': 0.006601186534733262, 'n_epochs': 181}. Best is trial 33 with value: 0.5313415121473695.\n"
     ]
    },
    {
     "name": "stdout",
     "output_type": "stream",
     "text": [
      "Trial 41 finished with value: 0.5310000544819926\n",
      "Best trial so far: 33, value: 0.5313415121473695\n"
     ]
    },
    {
     "name": "stderr",
     "output_type": "stream",
     "text": [
      "[I 2024-12-08 19:19:54,658] Trial 42 finished with value: 0.5273155651721539 and parameters: {'criterion': 'MSELoss', 'first_layer_size': 64, 'num_layers': 5, 'confidence_threshold': 0.0055639801690610105, 'dropout': 0.33825628974141236, 'lr': 0.005521017902080375, 'n_epochs': 205}. Best is trial 33 with value: 0.5313415121473695.\n"
     ]
    },
    {
     "name": "stdout",
     "output_type": "stream",
     "text": [
      "Trial 42 finished with value: 0.5273155651721539\n",
      "Best trial so far: 33, value: 0.5313415121473695\n"
     ]
    },
    {
     "name": "stderr",
     "output_type": "stream",
     "text": [
      "[I 2024-12-08 19:20:01,195] Trial 43 finished with value: 0.20113311750142832 and parameters: {'criterion': 'MSELoss', 'first_layer_size': 64, 'num_layers': 6, 'confidence_threshold': 0.0016750768300474732, 'dropout': 0.33596675642530166, 'lr': 0.005383435330018379, 'n_epochs': 100}. Best is trial 33 with value: 0.5313415121473695.\n"
     ]
    },
    {
     "name": "stdout",
     "output_type": "stream",
     "text": [
      "Trial 43 finished with value: 0.20113311750142832\n",
      "Best trial so far: 33, value: 0.5313415121473695\n"
     ]
    },
    {
     "name": "stderr",
     "output_type": "stream",
     "text": [
      "[I 2024-12-08 19:20:15,859] Trial 44 finished with value: 0.5261032983162328 and parameters: {'criterion': 'MSELoss', 'first_layer_size': 64, 'num_layers': 5, 'confidence_threshold': 0.010136163376265307, 'dropout': 0.3374399921156634, 'lr': 0.0045316683379274, 'n_epochs': 249}. Best is trial 33 with value: 0.5313415121473695.\n"
     ]
    },
    {
     "name": "stdout",
     "output_type": "stream",
     "text": [
      "Trial 44 finished with value: 0.5261032983162328\n",
      "Best trial so far: 33, value: 0.5313415121473695\n"
     ]
    },
    {
     "name": "stderr",
     "output_type": "stream",
     "text": [
      "[I 2024-12-08 19:20:22,755] Trial 45 finished with value: 0.10559153951401401 and parameters: {'criterion': 'MSELoss', 'first_layer_size': 64, 'num_layers': 5, 'confidence_threshold': 0.01104248418057029, 'dropout': 0.3374619045956113, 'lr': 0.003973310292092497, 'n_epochs': 121}. Best is trial 33 with value: 0.5313415121473695.\n"
     ]
    },
    {
     "name": "stdout",
     "output_type": "stream",
     "text": [
      "Trial 45 finished with value: 0.10559153951401401\n",
      "Best trial so far: 33, value: 0.5313415121473695\n"
     ]
    },
    {
     "name": "stderr",
     "output_type": "stream",
     "text": [
      "[I 2024-12-08 19:20:35,677] Trial 46 finished with value: 0.5247783451631964 and parameters: {'criterion': 'MSELoss', 'first_layer_size': 64, 'num_layers': 5, 'confidence_threshold': 0.004315862275480855, 'dropout': 0.32937451692653585, 'lr': 0.00452232345054928, 'n_epochs': 227}. Best is trial 33 with value: 0.5313415121473695.\n"
     ]
    },
    {
     "name": "stdout",
     "output_type": "stream",
     "text": [
      "Trial 46 finished with value: 0.5247783451631964\n",
      "Best trial so far: 33, value: 0.5313415121473695\n"
     ]
    },
    {
     "name": "stderr",
     "output_type": "stream",
     "text": [
      "[I 2024-12-08 19:20:43,095] Trial 47 finished with value: 0.0876632801161103 and parameters: {'criterion': 'MSELoss', 'first_layer_size': 64, 'num_layers': 7, 'confidence_threshold': 0.0050891750526029554, 'dropout': 0.32827821593552875, 'lr': 0.004497874380427169, 'n_epochs': 100}. Best is trial 33 with value: 0.5313415121473695.\n"
     ]
    },
    {
     "name": "stdout",
     "output_type": "stream",
     "text": [
      "Trial 47 finished with value: 0.0876632801161103\n",
      "Best trial so far: 33, value: 0.5313415121473695\n"
     ]
    },
    {
     "name": "stderr",
     "output_type": "stream",
     "text": [
      "[I 2024-12-08 19:20:51,404] Trial 48 finished with value: 0.20232634250365478 and parameters: {'criterion': 'L1Loss', 'first_layer_size': 48, 'num_layers': 5, 'confidence_threshold': 0.009845269400466483, 'dropout': 0.3248755444703506, 'lr': 0.0033788591119062864, 'n_epochs': 137}. Best is trial 33 with value: 0.5313415121473695.\n"
     ]
    },
    {
     "name": "stdout",
     "output_type": "stream",
     "text": [
      "Trial 48 finished with value: 0.20232634250365478\n",
      "Best trial so far: 33, value: 0.5313415121473695\n"
     ]
    },
    {
     "name": "stderr",
     "output_type": "stream",
     "text": [
      "[I 2024-12-08 19:20:59,762] Trial 49 finished with value: 0.3653024089135571 and parameters: {'criterion': 'MSELoss', 'first_layer_size': 56, 'num_layers': 5, 'confidence_threshold': 0.013251272806082997, 'dropout': 0.3321309610285475, 'lr': 0.004708513576320256, 'n_epochs': 125}. Best is trial 33 with value: 0.5313415121473695.\n"
     ]
    },
    {
     "name": "stdout",
     "output_type": "stream",
     "text": [
      "Trial 49 finished with value: 0.3653024089135571\n",
      "Best trial so far: 33, value: 0.5313415121473695\n"
     ]
    },
    {
     "name": "stderr",
     "output_type": "stream",
     "text": [
      "[I 2024-12-08 19:21:06,824] Trial 50 finished with value: 0.2049326049971512 and parameters: {'criterion': 'MSELoss', 'first_layer_size': 64, 'num_layers': 6, 'confidence_threshold': 0.00340822642203886, 'dropout': 0.32200597594626146, 'lr': 0.002850761118365027, 'n_epochs': 106}. Best is trial 33 with value: 0.5313415121473695.\n"
     ]
    },
    {
     "name": "stdout",
     "output_type": "stream",
     "text": [
      "Trial 50 finished with value: 0.2049326049971512\n",
      "Best trial so far: 33, value: 0.5313415121473695\n"
     ]
    },
    {
     "name": "stderr",
     "output_type": "stream",
     "text": [
      "[I 2024-12-08 19:21:18,682] Trial 51 finished with value: 0.5337644786142693 and parameters: {'criterion': 'MSELoss', 'first_layer_size': 64, 'num_layers': 5, 'confidence_threshold': 0.0023184443209805228, 'dropout': 0.3455851518000549, 'lr': 0.005369852520633374, 'n_epochs': 203}. Best is trial 51 with value: 0.5337644786142693.\n"
     ]
    },
    {
     "name": "stdout",
     "output_type": "stream",
     "text": [
      "Trial 51 finished with value: 0.5337644786142693\n",
      "Best trial so far: 51, value: 0.5337644786142693\n"
     ]
    },
    {
     "name": "stderr",
     "output_type": "stream",
     "text": [
      "[I 2024-12-08 19:21:29,817] Trial 52 finished with value: 0.5117757740436926 and parameters: {'criterion': 'MSELoss', 'first_layer_size': 64, 'num_layers': 5, 'confidence_threshold': 0.005363207599359401, 'dropout': 0.3443507234491713, 'lr': 0.005423759773333819, 'n_epochs': 191}. Best is trial 51 with value: 0.5337644786142693.\n"
     ]
    },
    {
     "name": "stdout",
     "output_type": "stream",
     "text": [
      "Trial 52 finished with value: 0.5117757740436926\n",
      "Best trial so far: 51, value: 0.5337644786142693\n"
     ]
    },
    {
     "name": "stderr",
     "output_type": "stream",
     "text": [
      "[I 2024-12-08 19:21:36,484] Trial 53 finished with value: 0.20170220880343237 and parameters: {'criterion': 'MSELoss', 'first_layer_size': 64, 'num_layers': 6, 'confidence_threshold': 0.00914943998470052, 'dropout': 0.33963458793983636, 'lr': 0.00508780023173236, 'n_epochs': 100}. Best is trial 51 with value: 0.5337644786142693.\n"
     ]
    },
    {
     "name": "stdout",
     "output_type": "stream",
     "text": [
      "Trial 53 finished with value: 0.20170220880343237\n",
      "Best trial so far: 51, value: 0.5337644786142693\n"
     ]
    },
    {
     "name": "stderr",
     "output_type": "stream",
     "text": [
      "[I 2024-12-08 19:21:47,974] Trial 54 finished with value: 0.47763183993954356 and parameters: {'criterion': 'MSELoss', 'first_layer_size': 64, 'num_layers': 5, 'confidence_threshold': 0.00017537370072899256, 'dropout': 0.33308841076899603, 'lr': 0.003952426432259835, 'n_epochs': 194}. Best is trial 51 with value: 0.5337644786142693.\n"
     ]
    },
    {
     "name": "stdout",
     "output_type": "stream",
     "text": [
      "Trial 54 finished with value: 0.47763183993954356\n",
      "Best trial so far: 51, value: 0.5337644786142693\n"
     ]
    },
    {
     "name": "stderr",
     "output_type": "stream",
     "text": [
      "[I 2024-12-08 19:22:00,731] Trial 55 finished with value: 0.34360915625566923 and parameters: {'criterion': 'MSELoss', 'first_layer_size': 32, 'num_layers': 5, 'confidence_threshold': 0.003503211710847785, 'dropout': 0.3462818692175146, 'lr': 0.004329967503240363, 'n_epochs': 219}. Best is trial 51 with value: 0.5337644786142693.\n"
     ]
    },
    {
     "name": "stdout",
     "output_type": "stream",
     "text": [
      "Trial 55 finished with value: 0.34360915625566923\n",
      "Best trial so far: 51, value: 0.5337644786142693\n"
     ]
    },
    {
     "name": "stderr",
     "output_type": "stream",
     "text": [
      "[I 2024-12-08 19:22:07,025] Trial 56 finished with value: 0.010495626822157433 and parameters: {'criterion': 'MSELoss', 'first_layer_size': 64, 'num_layers': 6, 'confidence_threshold': 0.03378011113435129, 'dropout': 0.31694839999637736, 'lr': 0.005729616997661663, 'n_epochs': 100}. Best is trial 51 with value: 0.5337644786142693.\n"
     ]
    },
    {
     "name": "stdout",
     "output_type": "stream",
     "text": [
      "Trial 56 finished with value: 0.010495626822157433\n",
      "Best trial so far: 51, value: 0.5337644786142693\n"
     ]
    },
    {
     "name": "stderr",
     "output_type": "stream",
     "text": [
      "[I 2024-12-08 19:22:14,107] Trial 57 finished with value: 0.1959789945504231 and parameters: {'criterion': 'L1Loss', 'first_layer_size': 64, 'num_layers': 5, 'confidence_threshold': 0.04121791405508696, 'dropout': 0.32764837959808163, 'lr': 0.006246565638545288, 'n_epochs': 123}. Best is trial 51 with value: 0.5337644786142693.\n"
     ]
    },
    {
     "name": "stdout",
     "output_type": "stream",
     "text": [
      "Trial 57 finished with value: 0.1959789945504231\n",
      "Best trial so far: 51, value: 0.5337644786142693\n"
     ]
    },
    {
     "name": "stderr",
     "output_type": "stream",
     "text": [
      "[I 2024-12-08 19:22:21,434] Trial 58 finished with value: 0.03252338121448069 and parameters: {'criterion': 'MSELoss', 'first_layer_size': 64, 'num_layers': 7, 'confidence_threshold': 0.01221169088432953, 'dropout': 0.34069149151830214, 'lr': 0.004945374079605922, 'n_epochs': 100}. Best is trial 51 with value: 0.5337644786142693.\n"
     ]
    },
    {
     "name": "stdout",
     "output_type": "stream",
     "text": [
      "Trial 58 finished with value: 0.03252338121448069\n",
      "Best trial so far: 51, value: 0.5337644786142693\n"
     ]
    },
    {
     "name": "stderr",
     "output_type": "stream",
     "text": [
      "[I 2024-12-08 19:22:35,939] Trial 59 finished with value: 0.5074609103788068 and parameters: {'criterion': 'SmoothL1Loss', 'first_layer_size': 48, 'num_layers': 5, 'confidence_threshold': 0.005835158779671627, 'dropout': 0.3330357750979615, 'lr': 0.0037386517643343453, 'n_epochs': 233}. Best is trial 51 with value: 0.5337644786142693.\n"
     ]
    },
    {
     "name": "stdout",
     "output_type": "stream",
     "text": [
      "Trial 59 finished with value: 0.5074609103788068\n",
      "Best trial so far: 51, value: 0.5337644786142693\n"
     ]
    },
    {
     "name": "stderr",
     "output_type": "stream",
     "text": [
      "[I 2024-12-08 19:22:42,602] Trial 60 finished with value: 0.19638820726199363 and parameters: {'criterion': 'MSELoss', 'first_layer_size': 64, 'num_layers': 6, 'confidence_threshold': 0.014798113896618621, 'dropout': 0.352607646307852, 'lr': 0.0030485571658630394, 'n_epochs': 100}. Best is trial 51 with value: 0.5337644786142693.\n"
     ]
    },
    {
     "name": "stdout",
     "output_type": "stream",
     "text": [
      "Trial 60 finished with value: 0.19638820726199363\n",
      "Best trial so far: 51, value: 0.5337644786142693\n"
     ]
    },
    {
     "name": "stderr",
     "output_type": "stream",
     "text": [
      "[I 2024-12-08 19:22:54,821] Trial 61 finished with value: 0.5253743638900883 and parameters: {'criterion': 'MSELoss', 'first_layer_size': 64, 'num_layers': 5, 'confidence_threshold': 0.005652080377840339, 'dropout': 0.3441876848136157, 'lr': 0.005346036872893361, 'n_epochs': 214}. Best is trial 51 with value: 0.5337644786142693.\n"
     ]
    },
    {
     "name": "stdout",
     "output_type": "stream",
     "text": [
      "Trial 61 finished with value: 0.5253743638900883\n",
      "Best trial so far: 51, value: 0.5337644786142693\n"
     ]
    },
    {
     "name": "stderr",
     "output_type": "stream",
     "text": [
      "[I 2024-12-08 19:23:07,813] Trial 62 finished with value: 0.5175930707456251 and parameters: {'criterion': 'MSELoss', 'first_layer_size': 64, 'num_layers': 5, 'confidence_threshold': 0.0016751700982153216, 'dropout': 0.337571966173455, 'lr': 0.005118057190254855, 'n_epochs': 225}. Best is trial 51 with value: 0.5337644786142693.\n"
     ]
    },
    {
     "name": "stdout",
     "output_type": "stream",
     "text": [
      "Trial 62 finished with value: 0.5175930707456251\n",
      "Best trial so far: 51, value: 0.5337644786142693\n"
     ]
    },
    {
     "name": "stderr",
     "output_type": "stream",
     "text": [
      "[I 2024-12-08 19:23:15,045] Trial 63 finished with value: 0.4830111861943986 and parameters: {'criterion': 'MSELoss', 'first_layer_size': 64, 'num_layers': 5, 'confidence_threshold': 0.00904655491176559, 'dropout': 0.343971053683359, 'lr': 0.007890211029382583, 'n_epochs': 126}. Best is trial 51 with value: 0.5337644786142693.\n"
     ]
    },
    {
     "name": "stdout",
     "output_type": "stream",
     "text": [
      "Trial 63 finished with value: 0.4830111861943986\n",
      "Best trial so far: 51, value: 0.5337644786142693\n"
     ]
    },
    {
     "name": "stderr",
     "output_type": "stream",
     "text": [
      "[I 2024-12-08 19:23:26,267] Trial 64 finished with value: 0.5216226043776582 and parameters: {'criterion': 'MSELoss', 'first_layer_size': 64, 'num_layers': 5, 'confidence_threshold': 0.006406837822221077, 'dropout': 0.33443688949533706, 'lr': 0.006255908875430689, 'n_epochs': 189}. Best is trial 51 with value: 0.5337644786142693.\n"
     ]
    },
    {
     "name": "stdout",
     "output_type": "stream",
     "text": [
      "Trial 64 finished with value: 0.5216226043776582\n",
      "Best trial so far: 51, value: 0.5337644786142693\n"
     ]
    },
    {
     "name": "stderr",
     "output_type": "stream",
     "text": [
      "[I 2024-12-08 19:23:35,212] Trial 65 finished with value: 0.3090437674396517 and parameters: {'criterion': 'MSELoss', 'first_layer_size': 32, 'num_layers': 5, 'confidence_threshold': 0.00020335252952928518, 'dropout': 0.3585086513823107, 'lr': 0.004644697774327683, 'n_epochs': 150}. Best is trial 51 with value: 0.5337644786142693.\n"
     ]
    },
    {
     "name": "stdout",
     "output_type": "stream",
     "text": [
      "Trial 65 finished with value: 0.3090437674396517\n",
      "Best trial so far: 51, value: 0.5337644786142693\n"
     ]
    },
    {
     "name": "stderr",
     "output_type": "stream",
     "text": [
      "[I 2024-12-08 19:23:41,695] Trial 66 finished with value: 0.19890683843702606 and parameters: {'criterion': 'MSELoss', 'first_layer_size': 64, 'num_layers': 6, 'confidence_threshold': 0.0045287463423962695, 'dropout': 0.34127080599304793, 'lr': 0.002466415754850089, 'n_epochs': 100}. Best is trial 51 with value: 0.5337644786142693.\n"
     ]
    },
    {
     "name": "stdout",
     "output_type": "stream",
     "text": [
      "Trial 66 finished with value: 0.19890683843702606\n",
      "Best trial so far: 51, value: 0.5337644786142693\n"
     ]
    },
    {
     "name": "stderr",
     "output_type": "stream",
     "text": [
      "[I 2024-12-08 19:23:46,740] Trial 67 finished with value: 0.39094451231682376 and parameters: {'criterion': 'MSELoss', 'first_layer_size': 16, 'num_layers': 4, 'confidence_threshold': 0.0023567751005813754, 'dropout': 0.28852737746402995, 'lr': 0.005852720614244883, 'n_epochs': 100}. Best is trial 51 with value: 0.5337644786142693.\n"
     ]
    },
    {
     "name": "stdout",
     "output_type": "stream",
     "text": [
      "Trial 67 finished with value: 0.39094451231682376\n",
      "Best trial so far: 51, value: 0.5337644786142693\n"
     ]
    },
    {
     "name": "stderr",
     "output_type": "stream",
     "text": [
      "[I 2024-12-08 19:23:51,435] Trial 68 finished with value: 0.2697430938050543 and parameters: {'criterion': 'L1Loss', 'first_layer_size': 12, 'num_layers': 2, 'confidence_threshold': 0.007269770528967792, 'dropout': 0.3452613984011561, 'lr': 0.004129271773831004, 'n_epochs': 124}. Best is trial 51 with value: 0.5337644786142693.\n"
     ]
    },
    {
     "name": "stdout",
     "output_type": "stream",
     "text": [
      "Trial 68 finished with value: 0.2697430938050543\n",
      "Best trial so far: 51, value: 0.5337644786142693\n"
     ]
    },
    {
     "name": "stderr",
     "output_type": "stream",
     "text": [
      "[I 2024-12-08 19:24:02,384] Trial 69 finished with value: 0.4914668917929276 and parameters: {'criterion': 'MSELoss', 'first_layer_size': 64, 'num_layers': 4, 'confidence_threshold': 0.01072953999401562, 'dropout': 0.3513663070972973, 'lr': 0.0035441450334464807, 'n_epochs': 205}. Best is trial 51 with value: 0.5337644786142693.\n"
     ]
    },
    {
     "name": "stdout",
     "output_type": "stream",
     "text": [
      "Trial 69 finished with value: 0.4914668917929276\n",
      "Best trial so far: 51, value: 0.5337644786142693\n"
     ]
    },
    {
     "name": "stderr",
     "output_type": "stream",
     "text": [
      "[I 2024-12-08 19:24:15,074] Trial 70 finished with value: 0.5164048993839822 and parameters: {'criterion': 'MSELoss', 'first_layer_size': 64, 'num_layers': 5, 'confidence_threshold': 0.008755519801956654, 'dropout': 0.35567929024313066, 'lr': 0.005440558123734937, 'n_epochs': 215}. Best is trial 51 with value: 0.5337644786142693.\n"
     ]
    },
    {
     "name": "stdout",
     "output_type": "stream",
     "text": [
      "Trial 70 finished with value: 0.5164048993839822\n",
      "Best trial so far: 51, value: 0.5337644786142693\n"
     ]
    },
    {
     "name": "stderr",
     "output_type": "stream",
     "text": [
      "[I 2024-12-08 19:24:24,941] Trial 71 finished with value: 0.5178427474366785 and parameters: {'criterion': 'MSELoss', 'first_layer_size': 64, 'num_layers': 5, 'confidence_threshold': 0.006592514518152013, 'dropout': 0.3308722446657574, 'lr': 0.006492031087457937, 'n_epochs': 167}. Best is trial 51 with value: 0.5337644786142693.\n"
     ]
    },
    {
     "name": "stdout",
     "output_type": "stream",
     "text": [
      "Trial 71 finished with value: 0.5178427474366785\n",
      "Best trial so far: 51, value: 0.5337644786142693\n"
     ]
    },
    {
     "name": "stderr",
     "output_type": "stream",
     "text": [
      "[I 2024-12-08 19:24:34,343] Trial 72 finished with value: 0.5138575457028931 and parameters: {'criterion': 'MSELoss', 'first_layer_size': 64, 'num_layers': 5, 'confidence_threshold': 0.0059766168450447734, 'dropout': 0.3345420836070717, 'lr': 0.007113626873876609, 'n_epochs': 159}. Best is trial 51 with value: 0.5337644786142693.\n"
     ]
    },
    {
     "name": "stdout",
     "output_type": "stream",
     "text": [
      "Trial 72 finished with value: 0.5138575457028931\n",
      "Best trial so far: 51, value: 0.5337644786142693\n"
     ]
    },
    {
     "name": "stderr",
     "output_type": "stream",
     "text": [
      "[I 2024-12-08 19:24:45,306] Trial 73 finished with value: 0.5283094431303526 and parameters: {'criterion': 'MSELoss', 'first_layer_size': 64, 'num_layers': 5, 'confidence_threshold': 0.00388703134991787, 'dropout': 0.3383222773703348, 'lr': 0.005997450675039371, 'n_epochs': 191}. Best is trial 51 with value: 0.5337644786142693.\n"
     ]
    },
    {
     "name": "stdout",
     "output_type": "stream",
     "text": [
      "Trial 73 finished with value: 0.5283094431303526\n",
      "Best trial so far: 51, value: 0.5337644786142693\n"
     ]
    },
    {
     "name": "stderr",
     "output_type": "stream",
     "text": [
      "[I 2024-12-08 19:24:53,954] Trial 74 finished with value: 0.5350269995949356 and parameters: {'criterion': 'MSELoss', 'first_layer_size': 64, 'num_layers': 5, 'confidence_threshold': 0.003048154435086075, 'dropout': 0.33817523428947016, 'lr': 0.007815261422090039, 'n_epochs': 152}. Best is trial 74 with value: 0.5350269995949356.\n"
     ]
    },
    {
     "name": "stdout",
     "output_type": "stream",
     "text": [
      "Trial 74 finished with value: 0.5350269995949356\n",
      "Best trial so far: 74, value: 0.5350269995949356\n"
     ]
    },
    {
     "name": "stderr",
     "output_type": "stream",
     "text": [
      "[I 2024-12-08 19:25:06,464] Trial 75 finished with value: 0.5043850861617898 and parameters: {'criterion': 'MSELoss', 'first_layer_size': 56, 'num_layers': 5, 'confidence_threshold': 0.0016811042325596702, 'dropout': 0.33872174029595964, 'lr': 0.005953808740555684, 'n_epochs': 181}. Best is trial 74 with value: 0.5350269995949356.\n"
     ]
    },
    {
     "name": "stdout",
     "output_type": "stream",
     "text": [
      "Trial 75 finished with value: 0.5043850861617898\n",
      "Best trial so far: 74, value: 0.5350269995949356\n"
     ]
    },
    {
     "name": "stderr",
     "output_type": "stream",
     "text": [
      "[I 2024-12-08 19:25:11,922] Trial 76 finished with value: 0.4787948484056813 and parameters: {'criterion': 'SmoothL1Loss', 'first_layer_size': 64, 'num_layers': 4, 'confidence_threshold': 0.0027903023687887584, 'dropout': 0.3485946423239175, 'lr': 0.007753752853204585, 'n_epochs': 100}. Best is trial 74 with value: 0.5350269995949356.\n"
     ]
    },
    {
     "name": "stdout",
     "output_type": "stream",
     "text": [
      "Trial 76 finished with value: 0.4787948484056813\n",
      "Best trial so far: 74, value: 0.5350269995949356\n"
     ]
    },
    {
     "name": "stderr",
     "output_type": "stream",
     "text": [
      "[I 2024-12-08 19:25:25,774] Trial 77 finished with value: 0.5457743109082486 and parameters: {'criterion': 'MSELoss', 'first_layer_size': 64, 'num_layers': 6, 'confidence_threshold': 0.003671901908060893, 'dropout': 0.3432427562007912, 'lr': 0.00894413481838827, 'n_epochs': 212}. Best is trial 77 with value: 0.5457743109082486.\n"
     ]
    },
    {
     "name": "stdout",
     "output_type": "stream",
     "text": [
      "Trial 77 finished with value: 0.5457743109082486\n",
      "Best trial so far: 77, value: 0.5457743109082486\n"
     ]
    },
    {
     "name": "stderr",
     "output_type": "stream",
     "text": [
      "[I 2024-12-08 19:25:35,328] Trial 78 finished with value: 0.05301204819277109 and parameters: {'criterion': 'MSELoss', 'first_layer_size': 64, 'num_layers': 8, 'confidence_threshold': 0.0033993597565775925, 'dropout': 0.34200873472257465, 'lr': 0.009461860627759729, 'n_epochs': 121}. Best is trial 77 with value: 0.5457743109082486.\n"
     ]
    },
    {
     "name": "stdout",
     "output_type": "stream",
     "text": [
      "Trial 78 finished with value: 0.05301204819277109\n",
      "Best trial so far: 77, value: 0.5457743109082486\n"
     ]
    },
    {
     "name": "stderr",
     "output_type": "stream",
     "text": [
      "[I 2024-12-08 19:25:44,252] Trial 79 finished with value: 0.5054684933876687 and parameters: {'criterion': 'MSELoss', 'first_layer_size': 48, 'num_layers': 5, 'confidence_threshold': 0.0015099385012090072, 'dropout': 0.35113047723032553, 'lr': 0.009081679027505094, 'n_epochs': 145}. Best is trial 77 with value: 0.5457743109082486.\n"
     ]
    },
    {
     "name": "stdout",
     "output_type": "stream",
     "text": [
      "Trial 79 finished with value: 0.5054684933876687\n",
      "Best trial so far: 77, value: 0.5457743109082486\n"
     ]
    },
    {
     "name": "stderr",
     "output_type": "stream",
     "text": [
      "[I 2024-12-08 19:25:56,258] Trial 80 finished with value: 0.25964193942448593 and parameters: {'criterion': 'MSELoss', 'first_layer_size': 64, 'num_layers': 7, 'confidence_threshold': 0.007840132918841192, 'dropout': 0.36040735575652433, 'lr': 0.008831975287888327, 'n_epochs': 164}. Best is trial 77 with value: 0.5457743109082486.\n"
     ]
    },
    {
     "name": "stdout",
     "output_type": "stream",
     "text": [
      "Trial 80 finished with value: 0.25964193942448593\n",
      "Best trial so far: 77, value: 0.5457743109082486\n"
     ]
    },
    {
     "name": "stderr",
     "output_type": "stream",
     "text": [
      "[I 2024-12-08 19:26:12,481] Trial 81 finished with value: 0.5383254740567628 and parameters: {'criterion': 'MSELoss', 'first_layer_size': 64, 'num_layers': 6, 'confidence_threshold': 0.004972167743919711, 'dropout': 0.33595157073378046, 'lr': 0.007899111872784127, 'n_epochs': 245}. Best is trial 77 with value: 0.5457743109082486.\n"
     ]
    },
    {
     "name": "stdout",
     "output_type": "stream",
     "text": [
      "Trial 81 finished with value: 0.5383254740567628\n",
      "Best trial so far: 77, value: 0.5457743109082486\n"
     ]
    },
    {
     "name": "stderr",
     "output_type": "stream",
     "text": [
      "[I 2024-12-08 19:26:19,447] Trial 82 finished with value: 0.2090296277349255 and parameters: {'criterion': 'MSELoss', 'first_layer_size': 64, 'num_layers': 6, 'confidence_threshold': 0.004552660447693006, 'dropout': 0.33692396123409724, 'lr': 0.007980786318827721, 'n_epochs': 107}. Best is trial 77 with value: 0.5457743109082486.\n"
     ]
    },
    {
     "name": "stdout",
     "output_type": "stream",
     "text": [
      "Trial 82 finished with value: 0.2090296277349255\n",
      "Best trial so far: 77, value: 0.5457743109082486\n"
     ]
    },
    {
     "name": "stderr",
     "output_type": "stream",
     "text": [
      "[I 2024-12-08 19:26:35,302] Trial 83 finished with value: 0.5514084299688663 and parameters: {'criterion': 'MSELoss', 'first_layer_size': 64, 'num_layers': 6, 'confidence_threshold': 0.0010387248954731448, 'dropout': 0.3262853687418992, 'lr': 0.0074533979701939075, 'n_epochs': 243}. Best is trial 83 with value: 0.5514084299688663.\n"
     ]
    },
    {
     "name": "stdout",
     "output_type": "stream",
     "text": [
      "Trial 83 finished with value: 0.5514084299688663\n",
      "Best trial so far: 83, value: 0.5514084299688663\n"
     ]
    },
    {
     "name": "stderr",
     "output_type": "stream",
     "text": [
      "[I 2024-12-08 19:26:48,259] Trial 84 finished with value: 0.4459279550945962 and parameters: {'criterion': 'MSELoss', 'first_layer_size': 64, 'num_layers': 6, 'confidence_threshold': 0.0006447864633160184, 'dropout': 0.3264707513545681, 'lr': 0.008409885662512037, 'n_epochs': 194}. Best is trial 83 with value: 0.5514084299688663.\n"
     ]
    },
    {
     "name": "stdout",
     "output_type": "stream",
     "text": [
      "Trial 84 finished with value: 0.4459279550945962\n",
      "Best trial so far: 83, value: 0.5514084299688663\n"
     ]
    },
    {
     "name": "stderr",
     "output_type": "stream",
     "text": [
      "[I 2024-12-08 19:26:58,065] Trial 85 finished with value: 0.49327206942910246 and parameters: {'criterion': 'MSELoss', 'first_layer_size': 16, 'num_layers': 3, 'confidence_threshold': 0.0028395224479665407, 'dropout': 0.32384245501171366, 'lr': 0.007265656459392709, 'n_epochs': 223}. Best is trial 83 with value: 0.5514084299688663.\n"
     ]
    },
    {
     "name": "stdout",
     "output_type": "stream",
     "text": [
      "Trial 85 finished with value: 0.49327206942910246\n",
      "Best trial so far: 83, value: 0.5514084299688663\n"
     ]
    },
    {
     "name": "stderr",
     "output_type": "stream",
     "text": [
      "[I 2024-12-08 19:27:04,750] Trial 86 finished with value: 0.49708521568498654 and parameters: {'criterion': 'MSELoss', 'first_layer_size': 12, 'num_layers': 2, 'confidence_threshold': 6.591574047635704e-05, 'dropout': 0.3200278455684718, 'lr': 0.007557105487214362, 'n_epochs': 175}. Best is trial 83 with value: 0.5514084299688663.\n"
     ]
    },
    {
     "name": "stdout",
     "output_type": "stream",
     "text": [
      "Trial 86 finished with value: 0.49708521568498654\n",
      "Best trial so far: 83, value: 0.5514084299688663\n"
     ]
    },
    {
     "name": "stderr",
     "output_type": "stream",
     "text": [
      "[I 2024-12-08 19:27:11,426] Trial 87 finished with value: 0.01180558587613872 and parameters: {'criterion': 'L1Loss', 'first_layer_size': 64, 'num_layers': 6, 'confidence_threshold': 0.0013571809038195198, 'dropout': 0.3466712152315031, 'lr': 0.006875574788362527, 'n_epochs': 101}. Best is trial 83 with value: 0.5514084299688663.\n"
     ]
    },
    {
     "name": "stdout",
     "output_type": "stream",
     "text": [
      "Trial 87 finished with value: 0.01180558587613872\n",
      "Best trial so far: 83, value: 0.5514084299688663\n"
     ]
    },
    {
     "name": "stderr",
     "output_type": "stream",
     "text": [
      "[I 2024-12-08 19:27:23,124] Trial 88 finished with value: 0.5017003389415695 and parameters: {'criterion': 'MSELoss', 'first_layer_size': 32, 'num_layers': 5, 'confidence_threshold': 0.004035647954718254, 'dropout': 0.3396034765045255, 'lr': 0.008944756546112766, 'n_epochs': 200}. Best is trial 83 with value: 0.5514084299688663.\n"
     ]
    },
    {
     "name": "stdout",
     "output_type": "stream",
     "text": [
      "Trial 88 finished with value: 0.5017003389415695\n",
      "Best trial so far: 83, value: 0.5514084299688663\n"
     ]
    },
    {
     "name": "stderr",
     "output_type": "stream",
     "text": [
      "[I 2024-12-08 19:27:30,467] Trial 89 finished with value: 0.18264868153307182 and parameters: {'criterion': 'MSELoss', 'first_layer_size': 64, 'num_layers': 6, 'confidence_threshold': 0.004960505132751992, 'dropout': 0.334535927278424, 'lr': 0.001097890734651744, 'n_epochs': 112}. Best is trial 83 with value: 0.5514084299688663.\n"
     ]
    },
    {
     "name": "stdout",
     "output_type": "stream",
     "text": [
      "Trial 89 finished with value: 0.18264868153307182\n",
      "Best trial so far: 83, value: 0.5514084299688663\n"
     ]
    },
    {
     "name": "stderr",
     "output_type": "stream",
     "text": [
      "[I 2024-12-08 19:27:39,040] Trial 90 finished with value: 0.3405360326973591 and parameters: {'criterion': 'MSELoss', 'first_layer_size': 64, 'num_layers': 6, 'confidence_threshold': 0.006909296298716672, 'dropout': 0.330354368782441, 'lr': 0.008028687783322478, 'n_epochs': 129}. Best is trial 83 with value: 0.5514084299688663.\n"
     ]
    },
    {
     "name": "stdout",
     "output_type": "stream",
     "text": [
      "Trial 90 finished with value: 0.3405360326973591\n",
      "Best trial so far: 83, value: 0.5514084299688663\n"
     ]
    },
    {
     "name": "stderr",
     "output_type": "stream",
     "text": [
      "[I 2024-12-08 19:28:00,661] Trial 91 finished with value: 0.5292554156415592 and parameters: {'criterion': 'MSELoss', 'first_layer_size': 64, 'num_layers': 7, 'confidence_threshold': 0.0025417206109011516, 'dropout': 0.3428475890850003, 'lr': 0.0066980499453919784, 'n_epochs': 291}. Best is trial 83 with value: 0.5514084299688663.\n"
     ]
    },
    {
     "name": "stdout",
     "output_type": "stream",
     "text": [
      "Trial 91 finished with value: 0.5292554156415592\n",
      "Best trial so far: 83, value: 0.5514084299688663\n"
     ]
    },
    {
     "name": "stderr",
     "output_type": "stream",
     "text": [
      "[I 2024-12-08 19:28:08,508] Trial 92 finished with value: 0.07272727272727272 and parameters: {'criterion': 'MSELoss', 'first_layer_size': 64, 'num_layers': 8, 'confidence_threshold': 0.002647705384151741, 'dropout': 0.3423225787923636, 'lr': 0.006556596955689944, 'n_epochs': 100}. Best is trial 83 with value: 0.5514084299688663.\n"
     ]
    },
    {
     "name": "stdout",
     "output_type": "stream",
     "text": [
      "Trial 92 finished with value: 0.07272727272727272\n",
      "Best trial so far: 83, value: 0.5514084299688663\n"
     ]
    },
    {
     "name": "stderr",
     "output_type": "stream",
     "text": [
      "[I 2024-12-08 19:28:15,867] Trial 93 finished with value: 0.12601139519569388 and parameters: {'criterion': 'MSELoss', 'first_layer_size': 64, 'num_layers': 7, 'confidence_threshold': 0.003634514461040971, 'dropout': 0.3494556468181818, 'lr': 0.007389922252493952, 'n_epochs': 100}. Best is trial 83 with value: 0.5514084299688663.\n"
     ]
    },
    {
     "name": "stdout",
     "output_type": "stream",
     "text": [
      "Trial 93 finished with value: 0.12601139519569388\n",
      "Best trial so far: 83, value: 0.5514084299688663\n"
     ]
    },
    {
     "name": "stderr",
     "output_type": "stream",
     "text": [
      "[I 2024-12-08 19:28:23,390] Trial 94 finished with value: 0.051219512195121955 and parameters: {'criterion': 'SmoothL1Loss', 'first_layer_size': 64, 'num_layers': 7, 'confidence_threshold': 0.0017269210413293212, 'dropout': 0.34608961277046774, 'lr': 0.006491505788553745, 'n_epochs': 100}. Best is trial 83 with value: 0.5514084299688663.\n"
     ]
    },
    {
     "name": "stdout",
     "output_type": "stream",
     "text": [
      "Trial 94 finished with value: 0.051219512195121955\n",
      "Best trial so far: 83, value: 0.5514084299688663\n"
     ]
    },
    {
     "name": "stderr",
     "output_type": "stream",
     "text": [
      "[I 2024-12-08 19:28:31,480] Trial 95 finished with value: 0.20116508648666534 and parameters: {'criterion': 'MSELoss', 'first_layer_size': 56, 'num_layers': 6, 'confidence_threshold': 0.0050723722568292995, 'dropout': 0.3260231258861758, 'lr': 0.006909057952482185, 'n_epochs': 105}. Best is trial 83 with value: 0.5514084299688663.\n"
     ]
    },
    {
     "name": "stdout",
     "output_type": "stream",
     "text": [
      "Trial 95 finished with value: 0.20116508648666534\n",
      "Best trial so far: 83, value: 0.5514084299688663\n"
     ]
    },
    {
     "name": "stderr",
     "output_type": "stream",
     "text": [
      "[I 2024-12-08 19:28:52,006] Trial 96 finished with value: 0.5299506251010427 and parameters: {'criterion': 'MSELoss', 'first_layer_size': 64, 'num_layers': 7, 'confidence_threshold': 0.001070479707948377, 'dropout': 0.34011023818562636, 'lr': 0.00863827128396992, 'n_epochs': 274}. Best is trial 83 with value: 0.5514084299688663.\n"
     ]
    },
    {
     "name": "stdout",
     "output_type": "stream",
     "text": [
      "Trial 96 finished with value: 0.5299506251010427\n",
      "Best trial so far: 83, value: 0.5514084299688663\n"
     ]
    },
    {
     "name": "stderr",
     "output_type": "stream",
     "text": [
      "[I 2024-12-08 19:29:10,901] Trial 97 finished with value: 0.5476819758075966 and parameters: {'criterion': 'MSELoss', 'first_layer_size': 64, 'num_layers': 7, 'confidence_threshold': 0.0023070184032211224, 'dropout': 0.3425384545303803, 'lr': 0.00957633789420394, 'n_epochs': 258}. Best is trial 83 with value: 0.5514084299688663.\n"
     ]
    },
    {
     "name": "stdout",
     "output_type": "stream",
     "text": [
      "Trial 97 finished with value: 0.5476819758075966\n",
      "Best trial so far: 83, value: 0.5514084299688663\n"
     ]
    },
    {
     "name": "stderr",
     "output_type": "stream",
     "text": [
      "[I 2024-12-08 19:29:28,089] Trial 98 finished with value: 0.5354670159110129 and parameters: {'criterion': 'MSELoss', 'first_layer_size': 64, 'num_layers': 7, 'confidence_threshold': 0.0010676340146622207, 'dropout': 0.35431236812310146, 'lr': 0.009574825980669844, 'n_epochs': 230}. Best is trial 83 with value: 0.5514084299688663.\n"
     ]
    },
    {
     "name": "stdout",
     "output_type": "stream",
     "text": [
      "Trial 98 finished with value: 0.5354670159110129\n",
      "Best trial so far: 83, value: 0.5514084299688663\n"
     ]
    },
    {
     "name": "stderr",
     "output_type": "stream",
     "text": [
      "[I 2024-12-08 19:29:40,692] Trial 99 finished with value: 0.38568330316584404 and parameters: {'criterion': 'MSELoss', 'first_layer_size': 64, 'num_layers': 7, 'confidence_threshold': 0.0010754124504443125, 'dropout': 0.3534908089811789, 'lr': 0.009495983924424379, 'n_epochs': 169}. Best is trial 83 with value: 0.5514084299688663.\n"
     ]
    },
    {
     "name": "stdout",
     "output_type": "stream",
     "text": [
      "Trial 99 finished with value: 0.38568330316584404\n",
      "Best trial so far: 83, value: 0.5514084299688663\n"
     ]
    },
    {
     "name": "stderr",
     "output_type": "stream",
     "text": [
      "[I 2024-12-08 19:29:48,429] Trial 100 finished with value: 0.0051813471502590676 and parameters: {'criterion': 'MSELoss', 'first_layer_size': 64, 'num_layers': 8, 'confidence_threshold': 0.04624567229313749, 'dropout': 0.3354765074263401, 'lr': 0.008679378632374685, 'n_epochs': 100}. Best is trial 83 with value: 0.5514084299688663.\n"
     ]
    },
    {
     "name": "stdout",
     "output_type": "stream",
     "text": [
      "Trial 100 finished with value: 0.0051813471502590676\n",
      "Best trial so far: 83, value: 0.5514084299688663\n"
     ]
    },
    {
     "name": "stderr",
     "output_type": "stream",
     "text": [
      "[I 2024-12-08 19:30:04,164] Trial 101 finished with value: 0.5296895785331488 and parameters: {'criterion': 'MSELoss', 'first_layer_size': 64, 'num_layers': 7, 'confidence_threshold': 0.002387139189755082, 'dropout': 0.3481433110388623, 'lr': 0.009485928040424635, 'n_epochs': 213}. Best is trial 83 with value: 0.5514084299688663.\n"
     ]
    },
    {
     "name": "stdout",
     "output_type": "stream",
     "text": [
      "Trial 101 finished with value: 0.5296895785331488\n",
      "Best trial so far: 83, value: 0.5514084299688663\n"
     ]
    },
    {
     "name": "stderr",
     "output_type": "stream",
     "text": [
      "[I 2024-12-08 19:30:21,741] Trial 102 finished with value: 0.5595287869517588 and parameters: {'criterion': 'MSELoss', 'first_layer_size': 64, 'num_layers': 7, 'confidence_threshold': 0.0010619442716017138, 'dropout': 0.3567309833953331, 'lr': 0.009377361230944051, 'n_epochs': 239}. Best is trial 102 with value: 0.5595287869517588.\n"
     ]
    },
    {
     "name": "stdout",
     "output_type": "stream",
     "text": [
      "Trial 102 finished with value: 0.5595287869517588\n",
      "Best trial so far: 102, value: 0.5595287869517588\n"
     ]
    },
    {
     "name": "stderr",
     "output_type": "stream",
     "text": [
      "[I 2024-12-08 19:30:29,827] Trial 103 finished with value: 0.11795266407363099 and parameters: {'criterion': 'MSELoss', 'first_layer_size': 64, 'num_layers': 7, 'confidence_threshold': 5.9849407104368285e-05, 'dropout': 0.36328077389531543, 'lr': 0.009999469963428017, 'n_epochs': 108}. Best is trial 102 with value: 0.5595287869517588.\n"
     ]
    },
    {
     "name": "stdout",
     "output_type": "stream",
     "text": [
      "Trial 103 finished with value: 0.11795266407363099\n",
      "Best trial so far: 102, value: 0.5595287869517588\n"
     ]
    },
    {
     "name": "stderr",
     "output_type": "stream",
     "text": [
      "[I 2024-12-08 19:30:46,571] Trial 104 finished with value: 0.42952125106022415 and parameters: {'criterion': 'MSELoss', 'first_layer_size': 64, 'num_layers': 7, 'confidence_threshold': 0.0012264552995958663, 'dropout': 0.3667932037023943, 'lr': 0.008224616996154524, 'n_epochs': 225}. Best is trial 102 with value: 0.5595287869517588.\n"
     ]
    },
    {
     "name": "stdout",
     "output_type": "stream",
     "text": [
      "Trial 104 finished with value: 0.42952125106022415\n",
      "Best trial so far: 102, value: 0.5595287869517588\n"
     ]
    },
    {
     "name": "stderr",
     "output_type": "stream",
     "text": [
      "[I 2024-12-08 19:30:56,441] Trial 105 finished with value: 0.2550520658404477 and parameters: {'criterion': 'MSELoss', 'first_layer_size': 64, 'num_layers': 7, 'confidence_threshold': 0.002972230880505552, 'dropout': 0.3581080136900687, 'lr': 0.008580366234550076, 'n_epochs': 135}. Best is trial 102 with value: 0.5595287869517588.\n"
     ]
    },
    {
     "name": "stdout",
     "output_type": "stream",
     "text": [
      "Trial 105 finished with value: 0.2550520658404477\n",
      "Best trial so far: 102, value: 0.5595287869517588\n"
     ]
    },
    {
     "name": "stderr",
     "output_type": "stream",
     "text": [
      "[I 2024-12-08 19:31:03,117] Trial 106 finished with value: 0.10567164179104478 and parameters: {'criterion': 'MSELoss', 'first_layer_size': 48, 'num_layers': 6, 'confidence_threshold': 0.020969750038322583, 'dropout': 0.3552020718402639, 'lr': 0.009194466967433566, 'n_epochs': 100}. Best is trial 102 with value: 0.5595287869517588.\n"
     ]
    },
    {
     "name": "stdout",
     "output_type": "stream",
     "text": [
      "Trial 106 finished with value: 0.10567164179104478\n",
      "Best trial so far: 102, value: 0.5595287869517588\n"
     ]
    },
    {
     "name": "stderr",
     "output_type": "stream",
     "text": [
      "[I 2024-12-08 19:31:11,009] Trial 107 finished with value: 0.0952671755725191 and parameters: {'criterion': 'MSELoss', 'first_layer_size': 64, 'num_layers': 8, 'confidence_threshold': 0.0008582784684111244, 'dropout': 0.3511469451239867, 'lr': 0.007646592128017135, 'n_epochs': 100}. Best is trial 102 with value: 0.5595287869517588.\n"
     ]
    },
    {
     "name": "stdout",
     "output_type": "stream",
     "text": [
      "Trial 107 finished with value: 0.0952671755725191\n",
      "Best trial so far: 102, value: 0.5595287869517588\n"
     ]
    },
    {
     "name": "stderr",
     "output_type": "stream",
     "text": [
      "[I 2024-12-08 19:31:17,179] Trial 108 finished with value: 0.2581961401592062 and parameters: {'criterion': 'L1Loss', 'first_layer_size': 16, 'num_layers': 3, 'confidence_threshold': 0.004339098596540134, 'dropout': 0.35652744733350694, 'lr': 0.008048119180612101, 'n_epochs': 138}. Best is trial 102 with value: 0.5595287869517588.\n"
     ]
    },
    {
     "name": "stdout",
     "output_type": "stream",
     "text": [
      "Trial 108 finished with value: 0.2581961401592062\n",
      "Best trial so far: 102, value: 0.5595287869517588\n"
     ]
    },
    {
     "name": "stderr",
     "output_type": "stream",
     "text": [
      "[I 2024-12-08 19:31:29,477] Trial 109 finished with value: 0.3645663261421844 and parameters: {'criterion': 'MSELoss', 'first_layer_size': 64, 'num_layers': 7, 'confidence_threshold': 0.0017823302159379873, 'dropout': 0.3323308096958532, 'lr': 0.009491807186213402, 'n_epochs': 168}. Best is trial 102 with value: 0.5595287869517588.\n"
     ]
    },
    {
     "name": "stdout",
     "output_type": "stream",
     "text": [
      "Trial 109 finished with value: 0.3645663261421844\n",
      "Best trial so far: 102, value: 0.5595287869517588\n"
     ]
    },
    {
     "name": "stderr",
     "output_type": "stream",
     "text": [
      "[I 2024-12-08 19:31:44,566] Trial 110 finished with value: 0.45032782115422076 and parameters: {'criterion': 'SmoothL1Loss', 'first_layer_size': 64, 'num_layers': 7, 'confidence_threshold': 0.0034663264330858975, 'dropout': 0.34480193377642904, 'lr': 0.008720819907286856, 'n_epochs': 204}. Best is trial 102 with value: 0.5595287869517588.\n"
     ]
    },
    {
     "name": "stdout",
     "output_type": "stream",
     "text": [
      "Trial 110 finished with value: 0.45032782115422076\n",
      "Best trial so far: 102, value: 0.5595287869517588\n"
     ]
    },
    {
     "name": "stderr",
     "output_type": "stream",
     "text": [
      "[I 2024-12-08 19:31:57,526] Trial 111 finished with value: 0.3970991688900177 and parameters: {'criterion': 'MSELoss', 'first_layer_size': 64, 'num_layers': 7, 'confidence_threshold': 0.0022957414045620844, 'dropout': 0.34768461419521046, 'lr': 0.009472346966403498, 'n_epochs': 175}. Best is trial 102 with value: 0.5595287869517588.\n"
     ]
    },
    {
     "name": "stdout",
     "output_type": "stream",
     "text": [
      "Trial 111 finished with value: 0.3970991688900177\n",
      "Best trial so far: 102, value: 0.5595287869517588\n"
     ]
    },
    {
     "name": "stderr",
     "output_type": "stream",
     "text": [
      "[I 2024-12-08 19:32:07,049] Trial 112 finished with value: 0.22461967126366345 and parameters: {'criterion': 'MSELoss', 'first_layer_size': 64, 'num_layers': 7, 'confidence_threshold': 0.005431163105421597, 'dropout': 0.361114784924331, 'lr': 0.009203472976939442, 'n_epochs': 131}. Best is trial 102 with value: 0.5595287869517588.\n"
     ]
    },
    {
     "name": "stdout",
     "output_type": "stream",
     "text": [
      "Trial 112 finished with value: 0.22461967126366345\n",
      "Best trial so far: 102, value: 0.5595287869517588\n"
     ]
    },
    {
     "name": "stderr",
     "output_type": "stream",
     "text": [
      "[I 2024-12-08 19:32:14,180] Trial 113 finished with value: 0.0023323615160349854 and parameters: {'criterion': 'MSELoss', 'first_layer_size': 64, 'num_layers': 7, 'confidence_threshold': 0.02632732610859272, 'dropout': 0.3400834780712426, 'lr': 0.008279940870765369, 'n_epochs': 100}. Best is trial 102 with value: 0.5595287869517588.\n"
     ]
    },
    {
     "name": "stdout",
     "output_type": "stream",
     "text": [
      "Trial 113 finished with value: 0.0023323615160349854\n",
      "Best trial so far: 102, value: 0.5595287869517588\n"
     ]
    },
    {
     "name": "stderr",
     "output_type": "stream",
     "text": [
      "[I 2024-12-08 19:32:23,595] Trial 114 finished with value: 0.46276477148861855 and parameters: {'criterion': 'MSELoss', 'first_layer_size': 12, 'num_layers': 3, 'confidence_threshold': 0.00010691501822943008, 'dropout': 0.354042318445613, 'lr': 0.009948150303496491, 'n_epochs': 201}. Best is trial 102 with value: 0.5595287869517588.\n"
     ]
    },
    {
     "name": "stdout",
     "output_type": "stream",
     "text": [
      "Trial 114 finished with value: 0.46276477148861855\n",
      "Best trial so far: 102, value: 0.5595287869517588\n"
     ]
    },
    {
     "name": "stderr",
     "output_type": "stream",
     "text": [
      "[I 2024-12-08 19:32:43,582] Trial 115 finished with value: 0.5201237933886015 and parameters: {'criterion': 'MSELoss', 'first_layer_size': 64, 'num_layers': 7, 'confidence_threshold': 0.0021867011663810874, 'dropout': 0.34851669064233315, 'lr': 0.007226815485841712, 'n_epochs': 267}. Best is trial 102 with value: 0.5595287869517588.\n"
     ]
    },
    {
     "name": "stdout",
     "output_type": "stream",
     "text": [
      "Trial 115 finished with value: 0.5201237933886015\n",
      "Best trial so far: 102, value: 0.5595287869517588\n"
     ]
    },
    {
     "name": "stderr",
     "output_type": "stream",
     "text": [
      "[I 2024-12-08 19:32:51,941] Trial 116 finished with value: 0.5256123326780493 and parameters: {'criterion': 'MSELoss', 'first_layer_size': 32, 'num_layers': 4, 'confidence_threshold': 0.00651956181044873, 'dropout': 0.34329664277015753, 'lr': 0.007770500826806817, 'n_epochs': 167}. Best is trial 102 with value: 0.5595287869517588.\n"
     ]
    },
    {
     "name": "stdout",
     "output_type": "stream",
     "text": [
      "Trial 116 finished with value: 0.5256123326780493\n",
      "Best trial so far: 102, value: 0.5595287869517588\n"
     ]
    },
    {
     "name": "stderr",
     "output_type": "stream",
     "text": [
      "[I 2024-12-08 19:33:00,413] Trial 117 finished with value: 0.10093959731543622 and parameters: {'criterion': 'MSELoss', 'first_layer_size': 64, 'num_layers': 8, 'confidence_threshold': 0.0031706504793210665, 'dropout': 0.3291419907336671, 'lr': 0.008986828415687258, 'n_epochs': 108}. Best is trial 102 with value: 0.5595287869517588.\n"
     ]
    },
    {
     "name": "stdout",
     "output_type": "stream",
     "text": [
      "Trial 117 finished with value: 0.10093959731543622\n",
      "Best trial so far: 102, value: 0.5595287869517588\n"
     ]
    },
    {
     "name": "stderr",
     "output_type": "stream",
     "text": [
      "[I 2024-12-08 19:33:21,337] Trial 118 finished with value: 0.5499387469249641 and parameters: {'criterion': 'MSELoss', 'first_layer_size': 64, 'num_layers': 7, 'confidence_threshold': 0.0010405728133859615, 'dropout': 0.3512642303245638, 'lr': 0.00855119866209159, 'n_epochs': 271}. Best is trial 102 with value: 0.5595287869517588.\n"
     ]
    },
    {
     "name": "stdout",
     "output_type": "stream",
     "text": [
      "Trial 118 finished with value: 0.5499387469249641\n",
      "Best trial so far: 102, value: 0.5595287869517588\n"
     ]
    },
    {
     "name": "stderr",
     "output_type": "stream",
     "text": [
      "[I 2024-12-08 19:33:28,959] Trial 119 finished with value: 0.1412285150746689 and parameters: {'criterion': 'MSELoss', 'first_layer_size': 64, 'num_layers': 6, 'confidence_threshold': 0.0012863873814950694, 'dropout': 0.35247809913480543, 'lr': 0.008482188906493975, 'n_epochs': 100}. Best is trial 102 with value: 0.5595287869517588.\n"
     ]
    },
    {
     "name": "stdout",
     "output_type": "stream",
     "text": [
      "Trial 119 finished with value: 0.1412285150746689\n",
      "Best trial so far: 102, value: 0.5595287869517588\n"
     ]
    },
    {
     "name": "stderr",
     "output_type": "stream",
     "text": [
      "[I 2024-12-08 19:33:35,824] Trial 120 finished with value: 0.2145989086190654 and parameters: {'criterion': 'MSELoss', 'first_layer_size': 64, 'num_layers': 6, 'confidence_threshold': 0.004048240435735923, 'dropout': 0.3416646879772084, 'lr': 0.007517455151481905, 'n_epochs': 100}. Best is trial 102 with value: 0.5595287869517588.\n"
     ]
    },
    {
     "name": "stdout",
     "output_type": "stream",
     "text": [
      "Trial 120 finished with value: 0.2145989086190654\n",
      "Best trial so far: 102, value: 0.5595287869517588\n"
     ]
    },
    {
     "name": "stderr",
     "output_type": "stream",
     "text": [
      "[I 2024-12-08 19:33:53,742] Trial 121 finished with value: 0.5547059541914436 and parameters: {'criterion': 'MSELoss', 'first_layer_size': 64, 'num_layers': 7, 'confidence_threshold': 0.0009880585767114832, 'dropout': 0.3503249028984554, 'lr': 0.009470322526865771, 'n_epochs': 248}. Best is trial 102 with value: 0.5595287869517588.\n"
     ]
    },
    {
     "name": "stdout",
     "output_type": "stream",
     "text": [
      "Trial 121 finished with value: 0.5547059541914436\n",
      "Best trial so far: 102, value: 0.5595287869517588\n"
     ]
    },
    {
     "name": "stderr",
     "output_type": "stream",
     "text": [
      "[I 2024-12-08 19:34:09,426] Trial 122 finished with value: 0.5330574746851774 and parameters: {'criterion': 'MSELoss', 'first_layer_size': 64, 'num_layers': 7, 'confidence_threshold': 0.0009306219116149226, 'dropout': 0.35040945317418215, 'lr': 0.008813385957410618, 'n_epochs': 214}. Best is trial 102 with value: 0.5595287869517588.\n"
     ]
    },
    {
     "name": "stdout",
     "output_type": "stream",
     "text": [
      "Trial 122 finished with value: 0.5330574746851774\n",
      "Best trial so far: 102, value: 0.5595287869517588\n"
     ]
    },
    {
     "name": "stderr",
     "output_type": "stream",
     "text": [
      "[I 2024-12-08 19:34:19,567] Trial 123 finished with value: 0.210752672670179 and parameters: {'criterion': 'MSELoss', 'first_layer_size': 64, 'num_layers': 7, 'confidence_threshold': 0.00016918314543628134, 'dropout': 0.35926076419190106, 'lr': 0.007936326787562509, 'n_epochs': 134}. Best is trial 102 with value: 0.5595287869517588.\n"
     ]
    },
    {
     "name": "stdout",
     "output_type": "stream",
     "text": [
      "Trial 123 finished with value: 0.210752672670179\n",
      "Best trial so far: 102, value: 0.5595287869517588\n"
     ]
    },
    {
     "name": "stderr",
     "output_type": "stream",
     "text": [
      "[I 2024-12-08 19:34:36,556] Trial 124 finished with value: 0.5448854329766023 and parameters: {'criterion': 'MSELoss', 'first_layer_size': 64, 'num_layers': 7, 'confidence_threshold': 0.004869547877805309, 'dropout': 0.35696448178989365, 'lr': 0.009189995119150758, 'n_epochs': 230}. Best is trial 102 with value: 0.5595287869517588.\n"
     ]
    },
    {
     "name": "stdout",
     "output_type": "stream",
     "text": [
      "Trial 124 finished with value: 0.5448854329766023\n",
      "Best trial so far: 102, value: 0.5595287869517588\n"
     ]
    },
    {
     "name": "stderr",
     "output_type": "stream",
     "text": [
      "[I 2024-12-08 19:34:53,197] Trial 125 finished with value: 0.5454452669286896 and parameters: {'criterion': 'MSELoss', 'first_layer_size': 64, 'num_layers': 7, 'confidence_threshold': 0.005256211028410643, 'dropout': 0.35059678095144586, 'lr': 0.009088601903781869, 'n_epochs': 229}. Best is trial 102 with value: 0.5595287869517588.\n"
     ]
    },
    {
     "name": "stdout",
     "output_type": "stream",
     "text": [
      "Trial 125 finished with value: 0.5454452669286896\n",
      "Best trial so far: 102, value: 0.5595287869517588\n"
     ]
    },
    {
     "name": "stderr",
     "output_type": "stream",
     "text": [
      "[I 2024-12-08 19:35:01,399] Trial 126 finished with value: 0.11801242236024845 and parameters: {'criterion': 'MSELoss', 'first_layer_size': 56, 'num_layers': 7, 'confidence_threshold': 0.004566153458923439, 'dropout': 0.3566649849487766, 'lr': 0.009077422689224091, 'n_epochs': 100}. Best is trial 102 with value: 0.5595287869517588.\n"
     ]
    },
    {
     "name": "stdout",
     "output_type": "stream",
     "text": [
      "Trial 126 finished with value: 0.11801242236024845\n",
      "Best trial so far: 102, value: 0.5595287869517588\n"
     ]
    },
    {
     "name": "stderr",
     "output_type": "stream",
     "text": [
      "[I 2024-12-08 19:35:13,875] Trial 127 finished with value: 0.40879048712541477 and parameters: {'criterion': 'MSELoss', 'first_layer_size': 64, 'num_layers': 7, 'confidence_threshold': 0.005745594419567553, 'dropout': 0.3504040720765059, 'lr': 0.00958886308771324, 'n_epochs': 164}. Best is trial 102 with value: 0.5595287869517588.\n"
     ]
    },
    {
     "name": "stdout",
     "output_type": "stream",
     "text": [
      "Trial 127 finished with value: 0.40879048712541477\n",
      "Best trial so far: 102, value: 0.5595287869517588\n"
     ]
    },
    {
     "name": "stderr",
     "output_type": "stream",
     "text": [
      "[I 2024-12-08 19:35:32,438] Trial 128 finished with value: 0.4308120141210746 and parameters: {'criterion': 'MSELoss', 'first_layer_size': 64, 'num_layers': 7, 'confidence_threshold': 0.0034669689746529334, 'dropout': 0.3648897581546615, 'lr': 0.008877211764059126, 'n_epochs': 242}. Best is trial 102 with value: 0.5595287869517588.\n"
     ]
    },
    {
     "name": "stdout",
     "output_type": "stream",
     "text": [
      "Trial 128 finished with value: 0.4308120141210746\n",
      "Best trial so far: 102, value: 0.5595287869517588\n"
     ]
    },
    {
     "name": "stderr",
     "output_type": "stream",
     "text": [
      "[I 2024-12-08 19:35:39,729] Trial 129 finished with value: 0.0 and parameters: {'criterion': 'MSELoss', 'first_layer_size': 64, 'num_layers': 7, 'confidence_threshold': 0.033445008331448846, 'dropout': 0.353426258050986, 'lr': 0.009944713698040342, 'n_epochs': 100}. Best is trial 102 with value: 0.5595287869517588.\n"
     ]
    },
    {
     "name": "stdout",
     "output_type": "stream",
     "text": [
      "Trial 129 finished with value: 0.0\n",
      "Best trial so far: 102, value: 0.5595287869517588\n"
     ]
    },
    {
     "name": "stderr",
     "output_type": "stream",
     "text": [
      "[I 2024-12-08 19:35:47,610] Trial 130 finished with value: 0.003980099502487563 and parameters: {'criterion': 'L1Loss', 'first_layer_size': 64, 'num_layers': 8, 'confidence_threshold': 0.0025020427394786787, 'dropout': 0.34616658709070364, 'lr': 0.008341533154869312, 'n_epochs': 100}. Best is trial 102 with value: 0.5595287869517588.\n"
     ]
    },
    {
     "name": "stdout",
     "output_type": "stream",
     "text": [
      "Trial 130 finished with value: 0.003980099502487563\n",
      "Best trial so far: 102, value: 0.5595287869517588\n"
     ]
    },
    {
     "name": "stderr",
     "output_type": "stream",
     "text": [
      "[I 2024-12-08 19:35:57,566] Trial 131 finished with value: 0.23969318760709485 and parameters: {'criterion': 'MSELoss', 'first_layer_size': 64, 'num_layers': 7, 'confidence_threshold': 0.007326674936186086, 'dropout': 0.3505129822888176, 'lr': 0.0092248981197313, 'n_epochs': 138}. Best is trial 102 with value: 0.5595287869517588.\n"
     ]
    },
    {
     "name": "stdout",
     "output_type": "stream",
     "text": [
      "Trial 131 finished with value: 0.23969318760709485\n",
      "Best trial so far: 102, value: 0.5595287869517588\n"
     ]
    },
    {
     "name": "stderr",
     "output_type": "stream",
     "text": [
      "[I 2024-12-08 19:36:07,221] Trial 132 finished with value: 0.2294454269908474 and parameters: {'criterion': 'MSELoss', 'first_layer_size': 64, 'num_layers': 7, 'confidence_threshold': 0.004597161463379908, 'dropout': 0.35220840666942044, 'lr': 0.008234556387884343, 'n_epochs': 131}. Best is trial 102 with value: 0.5595287869517588.\n"
     ]
    },
    {
     "name": "stdout",
     "output_type": "stream",
     "text": [
      "Trial 132 finished with value: 0.2294454269908474\n",
      "Best trial so far: 102, value: 0.5595287869517588\n"
     ]
    },
    {
     "name": "stderr",
     "output_type": "stream",
     "text": [
      "[I 2024-12-08 19:36:19,691] Trial 133 finished with value: 0.3409979251026096 and parameters: {'criterion': 'MSELoss', 'first_layer_size': 64, 'num_layers': 7, 'confidence_threshold': 0.003488533029334778, 'dropout': 0.35643283289634475, 'lr': 0.008820020069808771, 'n_epochs': 169}. Best is trial 102 with value: 0.5595287869517588.\n"
     ]
    },
    {
     "name": "stdout",
     "output_type": "stream",
     "text": [
      "Trial 133 finished with value: 0.3409979251026096\n",
      "Best trial so far: 102, value: 0.5595287869517588\n"
     ]
    },
    {
     "name": "stderr",
     "output_type": "stream",
     "text": [
      "[I 2024-12-08 19:36:32,268] Trial 134 finished with value: 0.3126347199090597 and parameters: {'criterion': 'MSELoss', 'first_layer_size': 64, 'num_layers': 7, 'confidence_threshold': 0.008003755384360671, 'dropout': 0.36009382998887923, 'lr': 0.009698313787462828, 'n_epochs': 169}. Best is trial 102 with value: 0.5595287869517588.\n"
     ]
    },
    {
     "name": "stdout",
     "output_type": "stream",
     "text": [
      "Trial 134 finished with value: 0.3126347199090597\n",
      "Best trial so far: 102, value: 0.5595287869517588\n"
     ]
    },
    {
     "name": "stderr",
     "output_type": "stream",
     "text": [
      "[I 2024-12-08 19:36:47,673] Trial 135 finished with value: 0.533770650933071 and parameters: {'criterion': 'MSELoss', 'first_layer_size': 48, 'num_layers': 6, 'confidence_threshold': 0.0011589700354215113, 'dropout': 0.3495994120038225, 'lr': 0.007771761183231384, 'n_epochs': 231}. Best is trial 102 with value: 0.5595287869517588.\n"
     ]
    },
    {
     "name": "stdout",
     "output_type": "stream",
     "text": [
      "Trial 135 finished with value: 0.533770650933071\n",
      "Best trial so far: 102, value: 0.5595287869517588\n"
     ]
    },
    {
     "name": "stderr",
     "output_type": "stream",
     "text": [
      "[I 2024-12-08 19:37:02,578] Trial 136 finished with value: 0.5251198681169402 and parameters: {'criterion': 'MSELoss', 'first_layer_size': 48, 'num_layers': 6, 'confidence_threshold': 0.0010178852948592241, 'dropout': 0.3472105664957508, 'lr': 0.007868022436742207, 'n_epochs': 223}. Best is trial 102 with value: 0.5595287869517588.\n"
     ]
    },
    {
     "name": "stdout",
     "output_type": "stream",
     "text": [
      "Trial 136 finished with value: 0.5251198681169402\n",
      "Best trial so far: 102, value: 0.5595287869517588\n"
     ]
    },
    {
     "name": "stderr",
     "output_type": "stream",
     "text": [
      "[I 2024-12-08 19:37:20,504] Trial 137 finished with value: 0.5331907477718194 and parameters: {'criterion': 'MSELoss', 'first_layer_size': 48, 'num_layers': 6, 'confidence_threshold': 0.0018797694481432134, 'dropout': 0.3446224752302411, 'lr': 0.009188279671852059, 'n_epochs': 267}. Best is trial 102 with value: 0.5595287869517588.\n"
     ]
    },
    {
     "name": "stdout",
     "output_type": "stream",
     "text": [
      "Trial 137 finished with value: 0.5331907477718194\n",
      "Best trial so far: 102, value: 0.5595287869517588\n"
     ]
    },
    {
     "name": "stderr",
     "output_type": "stream",
     "text": [
      "[I 2024-12-08 19:37:27,434] Trial 138 finished with value: 0.12804859979256186 and parameters: {'criterion': 'SmoothL1Loss', 'first_layer_size': 48, 'num_layers': 6, 'confidence_threshold': 0.001947849460957448, 'dropout': 0.34516875132517305, 'lr': 0.009168109926227245, 'n_epochs': 100}. Best is trial 102 with value: 0.5595287869517588.\n"
     ]
    },
    {
     "name": "stdout",
     "output_type": "stream",
     "text": [
      "Trial 138 finished with value: 0.12804859979256186\n",
      "Best trial so far: 102, value: 0.5595287869517588\n"
     ]
    },
    {
     "name": "stderr",
     "output_type": "stream",
     "text": [
      "[I 2024-12-08 19:37:34,478] Trial 139 finished with value: 0.21489160385954786 and parameters: {'criterion': 'MSELoss', 'first_layer_size': 48, 'num_layers': 6, 'confidence_threshold': 0.005063218329638349, 'dropout': 0.3552363617578759, 'lr': 0.0016741740084945964, 'n_epochs': 100}. Best is trial 102 with value: 0.5595287869517588.\n"
     ]
    },
    {
     "name": "stdout",
     "output_type": "stream",
     "text": [
      "Trial 139 finished with value: 0.21489160385954786\n",
      "Best trial so far: 102, value: 0.5595287869517588\n"
     ]
    },
    {
     "name": "stderr",
     "output_type": "stream",
     "text": [
      "[I 2024-12-08 19:37:51,244] Trial 140 finished with value: 0.5405673289180839 and parameters: {'criterion': 'MSELoss', 'first_layer_size': 48, 'num_layers': 6, 'confidence_threshold': 0.002926593209983036, 'dropout': 0.3436195816394871, 'lr': 0.008422757124527941, 'n_epochs': 248}. Best is trial 102 with value: 0.5595287869517588.\n"
     ]
    },
    {
     "name": "stdout",
     "output_type": "stream",
     "text": [
      "Trial 140 finished with value: 0.5405673289180839\n",
      "Best trial so far: 102, value: 0.5595287869517588\n"
     ]
    },
    {
     "name": "stderr",
     "output_type": "stream",
     "text": [
      "[I 2024-12-08 19:38:05,796] Trial 141 finished with value: 0.5228565279024793 and parameters: {'criterion': 'MSELoss', 'first_layer_size': 48, 'num_layers': 6, 'confidence_threshold': 0.00270474339662533, 'dropout': 0.343879280817482, 'lr': 0.008512100705334329, 'n_epochs': 221}. Best is trial 102 with value: 0.5595287869517588.\n"
     ]
    },
    {
     "name": "stdout",
     "output_type": "stream",
     "text": [
      "Trial 141 finished with value: 0.5228565279024793\n",
      "Best trial so far: 102, value: 0.5595287869517588\n"
     ]
    },
    {
     "name": "stderr",
     "output_type": "stream",
     "text": [
      "[I 2024-12-08 19:38:20,115] Trial 142 finished with value: 0.53356608962237 and parameters: {'criterion': 'MSELoss', 'first_layer_size': 48, 'num_layers': 6, 'confidence_threshold': 6.699747263764144e-05, 'dropout': 0.34857197446174787, 'lr': 0.008128629586547604, 'n_epochs': 214}. Best is trial 102 with value: 0.5595287869517588.\n"
     ]
    },
    {
     "name": "stdout",
     "output_type": "stream",
     "text": [
      "Trial 142 finished with value: 0.53356608962237\n",
      "Best trial so far: 102, value: 0.5595287869517588\n"
     ]
    },
    {
     "name": "stderr",
     "output_type": "stream",
     "text": [
      "[I 2024-12-08 19:38:33,962] Trial 143 finished with value: 0.5251972886369961 and parameters: {'criterion': 'MSELoss', 'first_layer_size': 48, 'num_layers': 6, 'confidence_threshold': 0.0005554134133401618, 'dropout': 0.34909828665778636, 'lr': 0.008160755709884074, 'n_epochs': 201}. Best is trial 102 with value: 0.5595287869517588.\n"
     ]
    },
    {
     "name": "stdout",
     "output_type": "stream",
     "text": [
      "Trial 143 finished with value: 0.5251972886369961\n",
      "Best trial so far: 102, value: 0.5595287869517588\n"
     ]
    },
    {
     "name": "stderr",
     "output_type": "stream",
     "text": [
      "[I 2024-12-08 19:38:50,967] Trial 144 finished with value: 0.5307104912438954 and parameters: {'criterion': 'MSELoss', 'first_layer_size': 48, 'num_layers': 6, 'confidence_threshold': 0.0033572908141393312, 'dropout': 0.3543920802279614, 'lr': 0.007431040870815511, 'n_epochs': 259}. Best is trial 102 with value: 0.5595287869517588.\n"
     ]
    },
    {
     "name": "stdout",
     "output_type": "stream",
     "text": [
      "Trial 144 finished with value: 0.5307104912438954\n",
      "Best trial so far: 102, value: 0.5595287869517588\n"
     ]
    },
    {
     "name": "stderr",
     "output_type": "stream",
     "text": [
      "[I 2024-12-08 19:38:57,487] Trial 145 finished with value: 0.22005588476176713 and parameters: {'criterion': 'MSELoss', 'first_layer_size': 48, 'num_layers': 6, 'confidence_threshold': 0.01722247715265466, 'dropout': 0.3473082510631404, 'lr': 0.007072898614600642, 'n_epochs': 100}. Best is trial 102 with value: 0.5595287869517588.\n"
     ]
    },
    {
     "name": "stdout",
     "output_type": "stream",
     "text": [
      "Trial 145 finished with value: 0.22005588476176713\n",
      "Best trial so far: 102, value: 0.5595287869517588\n"
     ]
    },
    {
     "name": "stderr",
     "output_type": "stream",
     "text": [
      "[I 2024-12-08 19:39:08,568] Trial 146 finished with value: 0.42917042228234176 and parameters: {'criterion': 'MSELoss', 'first_layer_size': 48, 'num_layers': 6, 'confidence_threshold': 0.006297463387148046, 'dropout': 0.35781500985130843, 'lr': 0.009998868391826133, 'n_epochs': 166}. Best is trial 102 with value: 0.5595287869517588.\n"
     ]
    },
    {
     "name": "stdout",
     "output_type": "stream",
     "text": [
      "Trial 146 finished with value: 0.42917042228234176\n",
      "Best trial so far: 102, value: 0.5595287869517588\n"
     ]
    },
    {
     "name": "stderr",
     "output_type": "stream",
     "text": [
      "[I 2024-12-08 19:39:23,178] Trial 147 finished with value: 0.5288421284352889 and parameters: {'criterion': 'MSELoss', 'first_layer_size': 48, 'num_layers': 6, 'confidence_threshold': 0.0001833205297620032, 'dropout': 0.35217820652145904, 'lr': 0.007621140154046641, 'n_epochs': 216}. Best is trial 102 with value: 0.5595287869517588.\n"
     ]
    },
    {
     "name": "stdout",
     "output_type": "stream",
     "text": [
      "Trial 147 finished with value: 0.5288421284352889\n",
      "Best trial so far: 102, value: 0.5595287869517588\n"
     ]
    },
    {
     "name": "stderr",
     "output_type": "stream",
     "text": [
      "[I 2024-12-08 19:39:36,009] Trial 148 finished with value: 0.5234510947599825 and parameters: {'criterion': 'MSELoss', 'first_layer_size': 48, 'num_layers': 6, 'confidence_threshold': 0.0018565729712735114, 'dropout': 0.29958376246501306, 'lr': 0.008652718306713587, 'n_epochs': 188}. Best is trial 102 with value: 0.5595287869517588.\n"
     ]
    },
    {
     "name": "stdout",
     "output_type": "stream",
     "text": [
      "Trial 148 finished with value: 0.5234510947599825\n",
      "Best trial so far: 102, value: 0.5595287869517588\n"
     ]
    },
    {
     "name": "stderr",
     "output_type": "stream",
     "text": [
      "[I 2024-12-08 19:39:42,816] Trial 149 finished with value: 0.4736271489678353 and parameters: {'criterion': 'MSELoss', 'first_layer_size': 16, 'num_layers': 3, 'confidence_threshold': 0.004215019445386001, 'dropout': 0.34153356610455354, 'lr': 0.008085656975890454, 'n_epochs': 174}. Best is trial 102 with value: 0.5595287869517588.\n"
     ]
    },
    {
     "name": "stdout",
     "output_type": "stream",
     "text": [
      "Trial 149 finished with value: 0.4736271489678353\n",
      "Best trial so far: 102, value: 0.5595287869517588\n"
     ]
    },
    {
     "name": "stderr",
     "output_type": "stream",
     "text": [
      "[I 2024-12-08 19:39:48,856] Trial 150 finished with value: 0.4980148940113252 and parameters: {'criterion': 'MSELoss', 'first_layer_size': 12, 'num_layers': 2, 'confidence_threshold': 0.0029030234275160484, 'dropout': 0.34944341755157426, 'lr': 0.009501993899289225, 'n_epochs': 159}. Best is trial 102 with value: 0.5595287869517588.\n"
     ]
    },
    {
     "name": "stdout",
     "output_type": "stream",
     "text": [
      "Trial 150 finished with value: 0.4980148940113252\n",
      "Best trial so far: 102, value: 0.5595287869517588\n"
     ]
    },
    {
     "name": "stderr",
     "output_type": "stream",
     "text": [
      "[I 2024-12-08 19:40:02,178] Trial 151 finished with value: 0.5298008698634237 and parameters: {'criterion': 'MSELoss', 'first_layer_size': 48, 'num_layers': 6, 'confidence_threshold': 0.0017436107278635733, 'dropout': 0.34536575550615123, 'lr': 0.009067688120906341, 'n_epochs': 202}. Best is trial 102 with value: 0.5595287869517588.\n"
     ]
    },
    {
     "name": "stdout",
     "output_type": "stream",
     "text": [
      "Trial 151 finished with value: 0.5298008698634237\n",
      "Best trial so far: 102, value: 0.5595287869517588\n"
     ]
    },
    {
     "name": "stderr",
     "output_type": "stream",
     "text": [
      "[I 2024-12-08 19:40:15,697] Trial 152 finished with value: 0.5216781904897083 and parameters: {'criterion': 'MSELoss', 'first_layer_size': 48, 'num_layers': 6, 'confidence_threshold': 0.0012143442684340608, 'dropout': 0.34289601058661734, 'lr': 0.009457750199729938, 'n_epochs': 205}. Best is trial 102 with value: 0.5595287869517588.\n"
     ]
    },
    {
     "name": "stdout",
     "output_type": "stream",
     "text": [
      "Trial 152 finished with value: 0.5216781904897083\n",
      "Best trial so far: 102, value: 0.5595287869517588\n"
     ]
    },
    {
     "name": "stderr",
     "output_type": "stream",
     "text": [
      "[I 2024-12-08 19:40:29,652] Trial 153 finished with value: 0.5222388997668171 and parameters: {'criterion': 'MSELoss', 'first_layer_size': 48, 'num_layers': 6, 'confidence_threshold': 2.9082709527310756e-05, 'dropout': 0.3387354819029447, 'lr': 0.008432245811089792, 'n_epochs': 212}. Best is trial 102 with value: 0.5595287869517588.\n"
     ]
    },
    {
     "name": "stdout",
     "output_type": "stream",
     "text": [
      "Trial 153 finished with value: 0.5222388997668171\n",
      "Best trial so far: 102, value: 0.5595287869517588\n"
     ]
    },
    {
     "name": "stderr",
     "output_type": "stream",
     "text": [
      "[I 2024-12-08 19:40:43,758] Trial 154 finished with value: 0.5280869671797104 and parameters: {'criterion': 'MSELoss', 'first_layer_size': 48, 'num_layers': 6, 'confidence_threshold': 0.0023942165311406577, 'dropout': 0.34683821554118155, 'lr': 0.007816634123099183, 'n_epochs': 212}. Best is trial 102 with value: 0.5595287869517588.\n"
     ]
    },
    {
     "name": "stdout",
     "output_type": "stream",
     "text": [
      "Trial 154 finished with value: 0.5280869671797104\n",
      "Best trial so far: 102, value: 0.5595287869517588\n"
     ]
    },
    {
     "name": "stderr",
     "output_type": "stream",
     "text": [
      "[I 2024-12-08 19:40:58,012] Trial 155 finished with value: 0.45179148621602083 and parameters: {'criterion': 'MSELoss', 'first_layer_size': 48, 'num_layers': 6, 'confidence_threshold': 0.0037715427803376124, 'dropout': 0.3440999999079946, 'lr': 0.009172265268376166, 'n_epochs': 206}. Best is trial 102 with value: 0.5595287869517588.\n"
     ]
    },
    {
     "name": "stdout",
     "output_type": "stream",
     "text": [
      "Trial 155 finished with value: 0.45179148621602083\n",
      "Best trial so far: 102, value: 0.5595287869517588\n"
     ]
    },
    {
     "name": "stderr",
     "output_type": "stream",
     "text": [
      "[I 2024-12-08 19:41:04,873] Trial 156 finished with value: 0.21403509336250887 and parameters: {'criterion': 'MSELoss', 'first_layer_size': 48, 'num_layers': 6, 'confidence_threshold': 0.005237714118266088, 'dropout': 0.36201738737985534, 'lr': 0.008790006430722684, 'n_epochs': 100}. Best is trial 102 with value: 0.5595287869517588.\n"
     ]
    },
    {
     "name": "stdout",
     "output_type": "stream",
     "text": [
      "Trial 156 finished with value: 0.21403509336250887\n",
      "Best trial so far: 102, value: 0.5595287869517588\n"
     ]
    },
    {
     "name": "stderr",
     "output_type": "stream",
     "text": [
      "[I 2024-12-08 19:41:12,834] Trial 157 finished with value: 0.22698150382790533 and parameters: {'criterion': 'MSELoss', 'first_layer_size': 56, 'num_layers': 6, 'confidence_threshold': 0.00150251153553, 'dropout': 0.3366914499198391, 'lr': 0.008096239762764369, 'n_epochs': 107}. Best is trial 102 with value: 0.5595287869517588.\n"
     ]
    },
    {
     "name": "stdout",
     "output_type": "stream",
     "text": [
      "Trial 157 finished with value: 0.22698150382790533\n",
      "Best trial so far: 102, value: 0.5595287869517588\n"
     ]
    },
    {
     "name": "stderr",
     "output_type": "stream",
     "text": [
      "[I 2024-12-08 19:41:19,988] Trial 158 finished with value: 0.005135176730108244 and parameters: {'criterion': 'L1Loss', 'first_layer_size': 64, 'num_layers': 7, 'confidence_threshold': 0.0026536318460396646, 'dropout': 0.3534675451140562, 'lr': 0.007387254691792239, 'n_epochs': 100}. Best is trial 102 with value: 0.5595287869517588.\n"
     ]
    },
    {
     "name": "stdout",
     "output_type": "stream",
     "text": [
      "Trial 158 finished with value: 0.005135176730108244\n",
      "Best trial so far: 102, value: 0.5595287869517588\n"
     ]
    },
    {
     "name": "stderr",
     "output_type": "stream",
     "text": [
      "[I 2024-12-08 19:41:25,222] Trial 159 finished with value: 0.10301003344481603 and parameters: {'criterion': 'MSELoss', 'first_layer_size': 32, 'num_layers': 4, 'confidence_threshold': 0.039019235953853156, 'dropout': 0.3492809264865172, 'lr': 0.00841594488938929, 'n_epochs': 118}. Best is trial 102 with value: 0.5595287869517588.\n"
     ]
    },
    {
     "name": "stdout",
     "output_type": "stream",
     "text": [
      "Trial 159 finished with value: 0.10301003344481603\n",
      "Best trial so far: 102, value: 0.5595287869517588\n"
     ]
    },
    {
     "name": "stderr",
     "output_type": "stream",
     "text": [
      "[I 2024-12-08 19:41:39,289] Trial 160 finished with value: 0.5225267216736522 and parameters: {'criterion': 'MSELoss', 'first_layer_size': 48, 'num_layers': 6, 'confidence_threshold': 0.0010641532753645413, 'dropout': 0.34060295247215694, 'lr': 0.009611503861342826, 'n_epochs': 211}. Best is trial 102 with value: 0.5595287869517588.\n"
     ]
    },
    {
     "name": "stdout",
     "output_type": "stream",
     "text": [
      "Trial 160 finished with value: 0.5225267216736522\n",
      "Best trial so far: 102, value: 0.5595287869517588\n"
     ]
    },
    {
     "name": "stderr",
     "output_type": "stream",
     "text": [
      "[I 2024-12-08 19:41:57,542] Trial 161 finished with value: 0.530482965683912 and parameters: {'criterion': 'MSELoss', 'first_layer_size': 64, 'num_layers': 7, 'confidence_threshold': 5.7226621817150786e-05, 'dropout': 0.35054551455935273, 'lr': 0.008810415936916671, 'n_epochs': 246}. Best is trial 102 with value: 0.5595287869517588.\n"
     ]
    },
    {
     "name": "stdout",
     "output_type": "stream",
     "text": [
      "Trial 161 finished with value: 0.530482965683912\n",
      "Best trial so far: 102, value: 0.5595287869517588\n"
     ]
    },
    {
     "name": "stderr",
     "output_type": "stream",
     "text": [
      "[I 2024-12-08 19:42:14,283] Trial 162 finished with value: 0.45059076879171106 and parameters: {'criterion': 'MSELoss', 'first_layer_size': 64, 'num_layers': 7, 'confidence_threshold': 0.0010056751922973867, 'dropout': 0.347654303475161, 'lr': 0.009155894644126887, 'n_epochs': 228}. Best is trial 102 with value: 0.5595287869517588.\n"
     ]
    },
    {
     "name": "stdout",
     "output_type": "stream",
     "text": [
      "Trial 162 finished with value: 0.45059076879171106\n",
      "Best trial so far: 102, value: 0.5595287869517588\n"
     ]
    },
    {
     "name": "stderr",
     "output_type": "stream",
     "text": [
      "[I 2024-12-08 19:42:30,467] Trial 163 finished with value: 0.4330823801987981 and parameters: {'criterion': 'MSELoss', 'first_layer_size': 64, 'num_layers': 7, 'confidence_threshold': 0.0020224319231138387, 'dropout': 0.35162400430985985, 'lr': 0.008651858470569566, 'n_epochs': 218}. Best is trial 102 with value: 0.5595287869517588.\n"
     ]
    },
    {
     "name": "stdout",
     "output_type": "stream",
     "text": [
      "Trial 163 finished with value: 0.4330823801987981\n",
      "Best trial so far: 102, value: 0.5595287869517588\n"
     ]
    },
    {
     "name": "stderr",
     "output_type": "stream",
     "text": [
      "[I 2024-12-08 19:42:47,812] Trial 164 finished with value: 0.44085679508526104 and parameters: {'criterion': 'MSELoss', 'first_layer_size': 64, 'num_layers': 7, 'confidence_threshold': 0.003599257230398746, 'dropout': 0.3449943604557888, 'lr': 0.007762325529088282, 'n_epochs': 238}. Best is trial 102 with value: 0.5595287869517588.\n"
     ]
    },
    {
     "name": "stdout",
     "output_type": "stream",
     "text": [
      "Trial 164 finished with value: 0.44085679508526104\n",
      "Best trial so far: 102, value: 0.5595287869517588\n"
     ]
    },
    {
     "name": "stderr",
     "output_type": "stream",
     "text": [
      "[I 2024-12-08 19:43:02,720] Trial 165 finished with value: 0.529444375847851 and parameters: {'criterion': 'MSELoss', 'first_layer_size': 64, 'num_layers': 7, 'confidence_threshold': 0.004651859663359546, 'dropout': 0.3573355805944974, 'lr': 0.00937991457449845, 'n_epochs': 200}. Best is trial 102 with value: 0.5595287869517588.\n"
     ]
    },
    {
     "name": "stdout",
     "output_type": "stream",
     "text": [
      "Trial 165 finished with value: 0.529444375847851\n",
      "Best trial so far: 102, value: 0.5595287869517588\n"
     ]
    },
    {
     "name": "stderr",
     "output_type": "stream",
     "text": [
      "[I 2024-12-08 19:43:15,184] Trial 166 finished with value: 0.33383516125120566 and parameters: {'criterion': 'MSELoss', 'first_layer_size': 64, 'num_layers': 7, 'confidence_threshold': 0.002981210740161038, 'dropout': 0.3555636728810042, 'lr': 0.00974885497025015, 'n_epochs': 170}. Best is trial 102 with value: 0.5595287869517588.\n"
     ]
    },
    {
     "name": "stdout",
     "output_type": "stream",
     "text": [
      "Trial 166 finished with value: 0.33383516125120566\n",
      "Best trial so far: 102, value: 0.5595287869517588\n"
     ]
    },
    {
     "name": "stderr",
     "output_type": "stream",
     "text": [
      "[I 2024-12-08 19:43:22,594] Trial 167 finished with value: 0.01580246913580247 and parameters: {'criterion': 'SmoothL1Loss', 'first_layer_size': 64, 'num_layers': 7, 'confidence_threshold': 0.001095421053814485, 'dropout': 0.3530819599541619, 'lr': 0.008242989076608996, 'n_epochs': 100}. Best is trial 102 with value: 0.5595287869517588.\n"
     ]
    },
    {
     "name": "stdout",
     "output_type": "stream",
     "text": [
      "Trial 167 finished with value: 0.01580246913580247\n",
      "Best trial so far: 102, value: 0.5595287869517588\n"
     ]
    },
    {
     "name": "stderr",
     "output_type": "stream",
     "text": [
      "[I 2024-12-08 19:43:41,431] Trial 168 finished with value: 0.5378626557732764 and parameters: {'criterion': 'MSELoss', 'first_layer_size': 64, 'num_layers': 7, 'confidence_threshold': 0.0020353164219589002, 'dropout': 0.3500945703996567, 'lr': 0.00886762036778545, 'n_epochs': 252}. Best is trial 102 with value: 0.5595287869517588.\n"
     ]
    },
    {
     "name": "stdout",
     "output_type": "stream",
     "text": [
      "Trial 168 finished with value: 0.5378626557732764\n",
      "Best trial so far: 102, value: 0.5595287869517588\n"
     ]
    },
    {
     "name": "stderr",
     "output_type": "stream",
     "text": [
      "[I 2024-12-08 19:43:49,523] Trial 169 finished with value: 0.2121291506728616 and parameters: {'criterion': 'MSELoss', 'first_layer_size': 64, 'num_layers': 7, 'confidence_threshold': 0.0020793926466166476, 'dropout': 0.342457426615685, 'lr': 0.008908373385723312, 'n_epochs': 112}. Best is trial 102 with value: 0.5595287869517588.\n"
     ]
    },
    {
     "name": "stdout",
     "output_type": "stream",
     "text": [
      "Trial 169 finished with value: 0.2121291506728616\n",
      "Best trial so far: 102, value: 0.5595287869517588\n"
     ]
    },
    {
     "name": "stderr",
     "output_type": "stream",
     "text": [
      "[I 2024-12-08 19:43:59,638] Trial 170 finished with value: 0.2308945010952015 and parameters: {'criterion': 'MSELoss', 'first_layer_size': 64, 'num_layers': 7, 'confidence_threshold': 0.005871316306816752, 'dropout': 0.34638917262674146, 'lr': 0.008008315306918793, 'n_epochs': 138}. Best is trial 102 with value: 0.5595287869517588.\n"
     ]
    },
    {
     "name": "stdout",
     "output_type": "stream",
     "text": [
      "Trial 170 finished with value: 0.2308945010952015\n",
      "Best trial so far: 102, value: 0.5595287869517588\n"
     ]
    },
    {
     "name": "stderr",
     "output_type": "stream",
     "text": [
      "[I 2024-12-08 19:44:12,007] Trial 171 finished with value: 0.42825966767618606 and parameters: {'criterion': 'MSELoss', 'first_layer_size': 64, 'num_layers': 7, 'confidence_threshold': 0.0007855787599338882, 'dropout': 0.3500631888804403, 'lr': 0.008595106134550326, 'n_epochs': 169}. Best is trial 102 with value: 0.5595287869517588.\n"
     ]
    },
    {
     "name": "stdout",
     "output_type": "stream",
     "text": [
      "Trial 171 finished with value: 0.42825966767618606\n",
      "Best trial so far: 102, value: 0.5595287869517588\n"
     ]
    },
    {
     "name": "stderr",
     "output_type": "stream",
     "text": [
      "[I 2024-12-08 19:44:24,076] Trial 172 finished with value: 0.34403150816351913 and parameters: {'criterion': 'MSELoss', 'first_layer_size': 64, 'num_layers': 7, 'confidence_threshold': 0.003003909505074609, 'dropout': 0.34828495429959966, 'lr': 0.009021668117602934, 'n_epochs': 169}. Best is trial 102 with value: 0.5595287869517588.\n"
     ]
    },
    {
     "name": "stdout",
     "output_type": "stream",
     "text": [
      "Trial 172 finished with value: 0.34403150816351913\n",
      "Best trial so far: 102, value: 0.5595287869517588\n"
     ]
    },
    {
     "name": "stderr",
     "output_type": "stream",
     "text": [
      "[I 2024-12-08 19:44:36,020] Trial 173 finished with value: 0.3902163124704047 and parameters: {'criterion': 'MSELoss', 'first_layer_size': 64, 'num_layers': 7, 'confidence_threshold': 0.0018792746594004338, 'dropout': 0.35163841599616313, 'lr': 0.009968586199565742, 'n_epochs': 165}. Best is trial 102 with value: 0.5595287869517588.\n"
     ]
    },
    {
     "name": "stdout",
     "output_type": "stream",
     "text": [
      "Trial 173 finished with value: 0.3902163124704047\n",
      "Best trial so far: 102, value: 0.5595287869517588\n"
     ]
    },
    {
     "name": "stderr",
     "output_type": "stream",
     "text": [
      "[I 2024-12-08 19:44:52,546] Trial 174 finished with value: 0.5250337039485343 and parameters: {'criterion': 'MSELoss', 'first_layer_size': 64, 'num_layers': 7, 'confidence_threshold': 0.004213349336175271, 'dropout': 0.3544888068110807, 'lr': 0.009362038306855527, 'n_epochs': 229}. Best is trial 102 with value: 0.5595287869517588.\n"
     ]
    },
    {
     "name": "stdout",
     "output_type": "stream",
     "text": [
      "Trial 174 finished with value: 0.5250337039485343\n",
      "Best trial so far: 102, value: 0.5595287869517588\n"
     ]
    },
    {
     "name": "stderr",
     "output_type": "stream",
     "text": [
      "[I 2024-12-08 19:45:00,764] Trial 175 finished with value: 0.21806058272365555 and parameters: {'criterion': 'MSELoss', 'first_layer_size': 64, 'num_layers': 7, 'confidence_threshold': 0.0009366038926130645, 'dropout': 0.3455139163677155, 'lr': 0.00841904183517959, 'n_epochs': 113}. Best is trial 102 with value: 0.5595287869517588.\n"
     ]
    },
    {
     "name": "stdout",
     "output_type": "stream",
     "text": [
      "Trial 175 finished with value: 0.21806058272365555\n",
      "Best trial so far: 102, value: 0.5595287869517588\n"
     ]
    },
    {
     "name": "stderr",
     "output_type": "stream",
     "text": [
      "[I 2024-12-08 19:45:13,712] Trial 176 finished with value: 0.11111111111111109 and parameters: {'criterion': 'MSELoss', 'first_layer_size': 64, 'num_layers': 8, 'confidence_threshold': 0.003405384791868401, 'dropout': 0.3495390845770961, 'lr': 0.008875755931845614, 'n_epochs': 166}. Best is trial 102 with value: 0.5595287869517588.\n"
     ]
    },
    {
     "name": "stdout",
     "output_type": "stream",
     "text": [
      "Trial 176 finished with value: 0.11111111111111109\n",
      "Best trial so far: 102, value: 0.5595287869517588\n"
     ]
    },
    {
     "name": "stderr",
     "output_type": "stream",
     "text": [
      "[I 2024-12-08 19:45:26,274] Trial 177 finished with value: 0.42772284513534614 and parameters: {'criterion': 'MSELoss', 'first_layer_size': 48, 'num_layers': 6, 'confidence_threshold': 0.002172864200595976, 'dropout': 0.32108917863734665, 'lr': 0.007585964259019197, 'n_epochs': 192}. Best is trial 102 with value: 0.5595287869517588.\n"
     ]
    },
    {
     "name": "stdout",
     "output_type": "stream",
     "text": [
      "Trial 177 finished with value: 0.42772284513534614\n",
      "Best trial so far: 102, value: 0.5595287869517588\n"
     ]
    },
    {
     "name": "stderr",
     "output_type": "stream",
     "text": [
      "[I 2024-12-08 19:45:33,533] Trial 178 finished with value: 0.48955779737953664 and parameters: {'criterion': 'MSELoss', 'first_layer_size': 16, 'num_layers': 3, 'confidence_threshold': 0.004263257361758945, 'dropout': 0.33896327864199854, 'lr': 0.009556090243143411, 'n_epochs': 165}. Best is trial 102 with value: 0.5595287869517588.\n"
     ]
    },
    {
     "name": "stdout",
     "output_type": "stream",
     "text": [
      "Trial 178 finished with value: 0.48955779737953664\n",
      "Best trial so far: 102, value: 0.5595287869517588\n"
     ]
    },
    {
     "name": "stderr",
     "output_type": "stream",
     "text": [
      "[I 2024-12-08 19:45:39,474] Trial 179 finished with value: 0.480829383403479 and parameters: {'criterion': 'MSELoss', 'first_layer_size': 12, 'num_layers': 2, 'confidence_threshold': 4.970564093618947e-05, 'dropout': 0.35849060809232536, 'lr': 0.008229967526793518, 'n_epochs': 158}. Best is trial 102 with value: 0.5595287869517588.\n"
     ]
    },
    {
     "name": "stdout",
     "output_type": "stream",
     "text": [
      "Trial 179 finished with value: 0.480829383403479\n",
      "Best trial so far: 102, value: 0.5595287869517588\n"
     ]
    },
    {
     "name": "stderr",
     "output_type": "stream",
     "text": [
      "[I 2024-12-08 19:45:51,912] Trial 180 finished with value: 0.38944498600081834 and parameters: {'criterion': 'MSELoss', 'first_layer_size': 64, 'num_layers': 7, 'confidence_threshold': 0.001912953326473519, 'dropout': 0.3439968809913065, 'lr': 0.008744398475163196, 'n_epochs': 170}. Best is trial 102 with value: 0.5595287869517588.\n"
     ]
    },
    {
     "name": "stdout",
     "output_type": "stream",
     "text": [
      "Trial 180 finished with value: 0.38944498600081834\n",
      "Best trial so far: 102, value: 0.5595287869517588\n"
     ]
    },
    {
     "name": "stderr",
     "output_type": "stream",
     "text": [
      "[I 2024-12-08 19:46:01,924] Trial 181 finished with value: 0.532280690401717 and parameters: {'criterion': 'MSELoss', 'first_layer_size': 64, 'num_layers': 5, 'confidence_threshold': 0.005554134303831126, 'dropout': 0.35153722920334024, 'lr': 0.007118718728521271, 'n_epochs': 177}. Best is trial 102 with value: 0.5595287869517588.\n"
     ]
    },
    {
     "name": "stdout",
     "output_type": "stream",
     "text": [
      "Trial 181 finished with value: 0.532280690401717\n",
      "Best trial so far: 102, value: 0.5595287869517588\n"
     ]
    },
    {
     "name": "stderr",
     "output_type": "stream",
     "text": [
      "[I 2024-12-08 19:46:11,758] Trial 182 finished with value: 0.5338258327663089 and parameters: {'criterion': 'MSELoss', 'first_layer_size': 64, 'num_layers': 5, 'confidence_threshold': 0.005306064441016545, 'dropout': 0.3521123010530647, 'lr': 0.00706118985273786, 'n_epochs': 174}. Best is trial 102 with value: 0.5595287869517588.\n"
     ]
    },
    {
     "name": "stdout",
     "output_type": "stream",
     "text": [
      "Trial 182 finished with value: 0.5338258327663089\n",
      "Best trial so far: 102, value: 0.5595287869517588\n"
     ]
    },
    {
     "name": "stderr",
     "output_type": "stream",
     "text": [
      "[I 2024-12-08 19:46:20,277] Trial 183 finished with value: 0.5331480524798357 and parameters: {'criterion': 'MSELoss', 'first_layer_size': 64, 'num_layers': 5, 'confidence_threshold': 0.002942031587767002, 'dropout': 0.34792583741808425, 'lr': 0.007811855578923764, 'n_epochs': 150}. Best is trial 102 with value: 0.5595287869517588.\n"
     ]
    },
    {
     "name": "stdout",
     "output_type": "stream",
     "text": [
      "Trial 183 finished with value: 0.5331480524798357\n",
      "Best trial so far: 102, value: 0.5595287869517588\n"
     ]
    },
    {
     "name": "stderr",
     "output_type": "stream",
     "text": [
      "[I 2024-12-08 19:46:29,387] Trial 184 finished with value: 0.5309509730848265 and parameters: {'criterion': 'MSELoss', 'first_layer_size': 64, 'num_layers': 5, 'confidence_threshold': 0.0030757554008167196, 'dropout': 0.34798484065651286, 'lr': 0.00727088235352863, 'n_epochs': 158}. Best is trial 102 with value: 0.5595287869517588.\n"
     ]
    },
    {
     "name": "stdout",
     "output_type": "stream",
     "text": [
      "Trial 184 finished with value: 0.5309509730848265\n",
      "Best trial so far: 102, value: 0.5595287869517588\n"
     ]
    },
    {
     "name": "stderr",
     "output_type": "stream",
     "text": [
      "[I 2024-12-08 19:46:39,434] Trial 185 finished with value: 0.5352058039332154 and parameters: {'criterion': 'MSELoss', 'first_layer_size': 64, 'num_layers': 5, 'confidence_threshold': 0.006659607423786302, 'dropout': 0.3541510988047457, 'lr': 0.00792790403394977, 'n_epochs': 173}. Best is trial 102 with value: 0.5595287869517588.\n"
     ]
    },
    {
     "name": "stdout",
     "output_type": "stream",
     "text": [
      "Trial 185 finished with value: 0.5352058039332154\n",
      "Best trial so far: 102, value: 0.5595287869517588\n"
     ]
    },
    {
     "name": "stderr",
     "output_type": "stream",
     "text": [
      "[I 2024-12-08 19:46:52,205] Trial 186 finished with value: 0.46540889994563167 and parameters: {'criterion': 'MSELoss', 'first_layer_size': 32, 'num_layers': 5, 'confidence_threshold': 0.004966422521587013, 'dropout': 0.3565918278990867, 'lr': 0.006845502552701522, 'n_epochs': 225}. Best is trial 102 with value: 0.5595287869517588.\n"
     ]
    },
    {
     "name": "stdout",
     "output_type": "stream",
     "text": [
      "Trial 186 finished with value: 0.46540889994563167\n",
      "Best trial so far: 102, value: 0.5595287869517588\n"
     ]
    },
    {
     "name": "stderr",
     "output_type": "stream",
     "text": [
      "[I 2024-12-08 19:47:11,261] Trial 187 finished with value: 0.4896975839820258 and parameters: {'criterion': 'MSELoss', 'first_layer_size': 64, 'num_layers': 5, 'confidence_threshold': 0.004793088168824696, 'dropout': 0.35353351534058153, 'lr': 0.0023511801976290525, 'n_epochs': 337}. Best is trial 102 with value: 0.5595287869517588.\n"
     ]
    },
    {
     "name": "stdout",
     "output_type": "stream",
     "text": [
      "Trial 187 finished with value: 0.4896975839820258\n",
      "Best trial so far: 102, value: 0.5595287869517588\n"
     ]
    },
    {
     "name": "stderr",
     "output_type": "stream",
     "text": [
      "[I 2024-12-08 19:47:19,947] Trial 188 finished with value: 0.5288088659361703 and parameters: {'criterion': 'MSELoss', 'first_layer_size': 64, 'num_layers': 5, 'confidence_threshold': 0.008518338855757406, 'dropout': 0.3543061041458282, 'lr': 0.008091048130358523, 'n_epochs': 154}. Best is trial 102 with value: 0.5595287869517588.\n"
     ]
    },
    {
     "name": "stdout",
     "output_type": "stream",
     "text": [
      "Trial 188 finished with value: 0.5288088659361703\n",
      "Best trial so far: 102, value: 0.5595287869517588\n"
     ]
    },
    {
     "name": "stderr",
     "output_type": "stream",
     "text": [
      "[I 2024-12-08 19:47:30,514] Trial 189 finished with value: 0.3642399656803679 and parameters: {'criterion': 'L1Loss', 'first_layer_size': 48, 'num_layers': 5, 'confidence_threshold': 0.006461956933245487, 'dropout': 0.3590899821183062, 'lr': 0.007501057614313874, 'n_epochs': 174}. Best is trial 102 with value: 0.5595287869517588.\n"
     ]
    },
    {
     "name": "stdout",
     "output_type": "stream",
     "text": [
      "Trial 189 finished with value: 0.3642399656803679\n",
      "Best trial so far: 102, value: 0.5595287869517588\n"
     ]
    },
    {
     "name": "stderr",
     "output_type": "stream",
     "text": [
      "[I 2024-12-08 19:47:39,203] Trial 190 finished with value: 0.3947460171200627 and parameters: {'criterion': 'MSELoss', 'first_layer_size': 64, 'num_layers': 6, 'confidence_threshold': 0.007319838625165425, 'dropout': 0.342300387431433, 'lr': 0.00925074023782044, 'n_epochs': 134}. Best is trial 102 with value: 0.5595287869517588.\n"
     ]
    },
    {
     "name": "stdout",
     "output_type": "stream",
     "text": [
      "Trial 190 finished with value: 0.3947460171200627\n",
      "Best trial so far: 102, value: 0.5595287869517588\n"
     ]
    },
    {
     "name": "stderr",
     "output_type": "stream",
     "text": [
      "[I 2024-12-08 19:47:46,668] Trial 191 finished with value: 0.4683973355397516 and parameters: {'criterion': 'MSELoss', 'first_layer_size': 64, 'num_layers': 5, 'confidence_threshold': 0.0035216324094425534, 'dropout': 0.34678816329675605, 'lr': 0.007906318735502097, 'n_epochs': 128}. Best is trial 102 with value: 0.5595287869517588.\n"
     ]
    },
    {
     "name": "stdout",
     "output_type": "stream",
     "text": [
      "Trial 191 finished with value: 0.4683973355397516\n",
      "Best trial so far: 102, value: 0.5595287869517588\n"
     ]
    },
    {
     "name": "stderr",
     "output_type": "stream",
     "text": [
      "[I 2024-12-08 19:47:55,208] Trial 192 finished with value: 0.5448568041081974 and parameters: {'criterion': 'MSELoss', 'first_layer_size': 64, 'num_layers': 5, 'confidence_threshold': 0.002506967350915285, 'dropout': 0.3503380779979473, 'lr': 0.008358948524636685, 'n_epochs': 152}. Best is trial 102 with value: 0.5595287869517588.\n"
     ]
    },
    {
     "name": "stdout",
     "output_type": "stream",
     "text": [
      "Trial 192 finished with value: 0.5448568041081974\n",
      "Best trial so far: 102, value: 0.5595287869517588\n"
     ]
    },
    {
     "name": "stderr",
     "output_type": "stream",
     "text": [
      "[I 2024-12-08 19:48:02,386] Trial 193 finished with value: 0.4970761841432857 and parameters: {'criterion': 'MSELoss', 'first_layer_size': 64, 'num_layers': 5, 'confidence_threshold': 0.0018935361858867087, 'dropout': 0.3520239700207931, 'lr': 0.008465236660209817, 'n_epochs': 126}. Best is trial 102 with value: 0.5595287869517588.\n"
     ]
    },
    {
     "name": "stdout",
     "output_type": "stream",
     "text": [
      "Trial 193 finished with value: 0.4970761841432857\n",
      "Best trial so far: 102, value: 0.5595287869517588\n"
     ]
    },
    {
     "name": "stderr",
     "output_type": "stream",
     "text": [
      "[I 2024-12-08 19:48:08,874] Trial 194 finished with value: 0.17663137594458442 and parameters: {'criterion': 'MSELoss', 'first_layer_size': 64, 'num_layers': 6, 'confidence_threshold': 0.0037658269631187474, 'dropout': 0.35532697557811094, 'lr': 0.008413464095624597, 'n_epochs': 100}. Best is trial 102 with value: 0.5595287869517588.\n"
     ]
    },
    {
     "name": "stdout",
     "output_type": "stream",
     "text": [
      "Trial 194 finished with value: 0.17663137594458442\n",
      "Best trial so far: 102, value: 0.5595287869517588\n"
     ]
    },
    {
     "name": "stderr",
     "output_type": "stream",
     "text": [
      "[I 2024-12-08 19:48:20,952] Trial 195 finished with value: 0.5352536955751342 and parameters: {'criterion': 'MSELoss', 'first_layer_size': 56, 'num_layers': 5, 'confidence_threshold': 0.002573890928521119, 'dropout': 0.3501261529440742, 'lr': 0.009021716101203876, 'n_epochs': 176}. Best is trial 102 with value: 0.5595287869517588.\n"
     ]
    },
    {
     "name": "stdout",
     "output_type": "stream",
     "text": [
      "Trial 195 finished with value: 0.5352536955751342\n",
      "Best trial so far: 102, value: 0.5595287869517588\n"
     ]
    },
    {
     "name": "stderr",
     "output_type": "stream",
     "text": [
      "[I 2024-12-08 19:48:28,891] Trial 196 finished with value: 0.40975138209573475 and parameters: {'criterion': 'MSELoss', 'first_layer_size': 56, 'num_layers': 5, 'confidence_threshold': 3.362601680356606e-06, 'dropout': 0.3504885668811693, 'lr': 0.0076618531952791415, 'n_epochs': 114}. Best is trial 102 with value: 0.5595287869517588.\n"
     ]
    },
    {
     "name": "stdout",
     "output_type": "stream",
     "text": [
      "Trial 196 finished with value: 0.40975138209573475\n",
      "Best trial so far: 102, value: 0.5595287869517588\n"
     ]
    },
    {
     "name": "stderr",
     "output_type": "stream",
     "text": [
      "[I 2024-12-08 19:48:37,729] Trial 197 finished with value: 0.5231156690442991 and parameters: {'criterion': 'MSELoss', 'first_layer_size': 64, 'num_layers': 5, 'confidence_threshold': 0.004365354716274909, 'dropout': 0.3497299393120584, 'lr': 0.007130938016584099, 'n_epochs': 155}. Best is trial 102 with value: 0.5595287869517588.\n"
     ]
    },
    {
     "name": "stdout",
     "output_type": "stream",
     "text": [
      "Trial 197 finished with value: 0.5231156690442991\n",
      "Best trial so far: 102, value: 0.5595287869517588\n"
     ]
    },
    {
     "name": "stderr",
     "output_type": "stream",
     "text": [
      "[I 2024-12-08 19:48:46,406] Trial 198 finished with value: 0.513138061374157 and parameters: {'criterion': 'MSELoss', 'first_layer_size': 64, 'num_layers': 5, 'confidence_threshold': 0.005668359512177833, 'dropout': 0.3528247600288664, 'lr': 0.008149077925497187, 'n_epochs': 154}. Best is trial 102 with value: 0.5595287869517588.\n"
     ]
    },
    {
     "name": "stdout",
     "output_type": "stream",
     "text": [
      "Trial 198 finished with value: 0.513138061374157\n",
      "Best trial so far: 102, value: 0.5595287869517588\n"
     ]
    },
    {
     "name": "stderr",
     "output_type": "stream",
     "text": [
      "[I 2024-12-08 19:48:54,004] Trial 199 finished with value: 0.5348458924259535 and parameters: {'criterion': 'SmoothL1Loss', 'first_layer_size': 64, 'num_layers': 5, 'confidence_threshold': 0.002730079520042913, 'dropout': 0.35416170990650037, 'lr': 0.008905203296690858, 'n_epochs': 135}. Best is trial 102 with value: 0.5595287869517588.\n"
     ]
    },
    {
     "name": "stdout",
     "output_type": "stream",
     "text": [
      "Trial 199 finished with value: 0.5348458924259535\n",
      "Best trial so far: 102, value: 0.5595287869517588\n"
     ]
    },
    {
     "name": "stderr",
     "output_type": "stream",
     "text": [
      "[I 2024-12-08 19:49:03,508] Trial 200 finished with value: 0.5197111519895586 and parameters: {'criterion': 'SmoothL1Loss', 'first_layer_size': 56, 'num_layers': 5, 'confidence_threshold': 0.002592435591093597, 'dropout': 0.3561903476302965, 'lr': 0.009639915413556806, 'n_epochs': 143}. Best is trial 102 with value: 0.5595287869517588.\n"
     ]
    },
    {
     "name": "stdout",
     "output_type": "stream",
     "text": [
      "Trial 200 finished with value: 0.5197111519895586\n",
      "Best trial so far: 102, value: 0.5595287869517588\n"
     ]
    },
    {
     "name": "stderr",
     "output_type": "stream",
     "text": [
      "[I 2024-12-08 19:49:10,990] Trial 201 finished with value: 0.44119666780544653 and parameters: {'criterion': 'SmoothL1Loss', 'first_layer_size': 56, 'num_layers': 5, 'confidence_threshold': 0.0011034293315748532, 'dropout': 0.3538284867821714, 'lr': 0.008826632329168454, 'n_epochs': 113}. Best is trial 102 with value: 0.5595287869517588.\n"
     ]
    },
    {
     "name": "stdout",
     "output_type": "stream",
     "text": [
      "Trial 201 finished with value: 0.44119666780544653\n",
      "Best trial so far: 102, value: 0.5595287869517588\n"
     ]
    },
    {
     "name": "stderr",
     "output_type": "stream",
     "text": [
      "[I 2024-12-08 19:49:21,761] Trial 202 finished with value: 0.5041045655098172 and parameters: {'criterion': 'SmoothL1Loss', 'first_layer_size': 56, 'num_layers': 5, 'confidence_threshold': 0.0027331923836474087, 'dropout': 0.35237649130071563, 'lr': 0.009078386797665254, 'n_epochs': 160}. Best is trial 102 with value: 0.5595287869517588.\n"
     ]
    },
    {
     "name": "stdout",
     "output_type": "stream",
     "text": [
      "Trial 202 finished with value: 0.5041045655098172\n",
      "Best trial so far: 102, value: 0.5595287869517588\n"
     ]
    },
    {
     "name": "stderr",
     "output_type": "stream",
     "text": [
      "[I 2024-12-08 19:49:30,830] Trial 203 finished with value: 0.5328318655472454 and parameters: {'criterion': 'SmoothL1Loss', 'first_layer_size': 64, 'num_layers': 5, 'confidence_threshold': 0.0037936164997906417, 'dropout': 0.3489161388598889, 'lr': 0.00842564922628614, 'n_epochs': 155}. Best is trial 102 with value: 0.5595287869517588.\n"
     ]
    },
    {
     "name": "stdout",
     "output_type": "stream",
     "text": [
      "Trial 203 finished with value: 0.5328318655472454\n",
      "Best trial so far: 102, value: 0.5595287869517588\n"
     ]
    },
    {
     "name": "stderr",
     "output_type": "stream",
     "text": [
      "[I 2024-12-08 19:49:37,882] Trial 204 finished with value: 0.5320399743949722 and parameters: {'criterion': 'SmoothL1Loss', 'first_layer_size': 64, 'num_layers': 5, 'confidence_threshold': 0.0013791414234039985, 'dropout': 0.35495199542084244, 'lr': 0.009296474012325596, 'n_epochs': 124}. Best is trial 102 with value: 0.5595287869517588.\n"
     ]
    },
    {
     "name": "stdout",
     "output_type": "stream",
     "text": [
      "Trial 204 finished with value: 0.5320399743949722\n",
      "Best trial so far: 102, value: 0.5595287869517588\n"
     ]
    },
    {
     "name": "stderr",
     "output_type": "stream",
     "text": [
      "[I 2024-12-08 19:49:45,109] Trial 205 finished with value: 0.5282106926237773 and parameters: {'criterion': 'MSELoss', 'first_layer_size': 64, 'num_layers': 5, 'confidence_threshold': 0.002486331381750255, 'dropout': 0.3252796784399364, 'lr': 0.00992215840142377, 'n_epochs': 126}. Best is trial 102 with value: 0.5595287869517588.\n"
     ]
    },
    {
     "name": "stdout",
     "output_type": "stream",
     "text": [
      "Trial 205 finished with value: 0.5282106926237773\n",
      "Best trial so far: 102, value: 0.5595287869517588\n"
     ]
    },
    {
     "name": "stderr",
     "output_type": "stream",
     "text": [
      "[I 2024-12-08 19:49:54,761] Trial 206 finished with value: 0.5379878824199683 and parameters: {'criterion': 'MSELoss', 'first_layer_size': 64, 'num_layers': 5, 'confidence_threshold': 0.000992068242425881, 'dropout': 0.3506995296822723, 'lr': 0.008650211067101085, 'n_epochs': 168}. Best is trial 102 with value: 0.5595287869517588.\n"
     ]
    },
    {
     "name": "stdout",
     "output_type": "stream",
     "text": [
      "Trial 206 finished with value: 0.5379878824199683\n",
      "Best trial so far: 102, value: 0.5595287869517588\n"
     ]
    },
    {
     "name": "stderr",
     "output_type": "stream",
     "text": [
      "[I 2024-12-08 19:50:03,614] Trial 207 finished with value: 0.5373740067832885 and parameters: {'criterion': 'MSELoss', 'first_layer_size': 64, 'num_layers': 5, 'confidence_threshold': 0.0051655855381766485, 'dropout': 0.3601566516284361, 'lr': 0.008702343950368013, 'n_epochs': 153}. Best is trial 102 with value: 0.5595287869517588.\n"
     ]
    },
    {
     "name": "stdout",
     "output_type": "stream",
     "text": [
      "Trial 207 finished with value: 0.5373740067832885\n",
      "Best trial so far: 102, value: 0.5595287869517588\n"
     ]
    },
    {
     "name": "stderr",
     "output_type": "stream",
     "text": [
      "[I 2024-12-08 19:50:12,160] Trial 208 finished with value: 0.5397413237418396 and parameters: {'criterion': 'MSELoss', 'first_layer_size': 64, 'num_layers': 5, 'confidence_threshold': 0.006361574037104102, 'dropout': 0.3599555484215398, 'lr': 0.008670161614144236, 'n_epochs': 152}. Best is trial 102 with value: 0.5595287869517588.\n"
     ]
    },
    {
     "name": "stdout",
     "output_type": "stream",
     "text": [
      "Trial 208 finished with value: 0.5397413237418396\n",
      "Best trial so far: 102, value: 0.5595287869517588\n"
     ]
    },
    {
     "name": "stderr",
     "output_type": "stream",
     "text": [
      "[I 2024-12-08 19:50:21,117] Trial 209 finished with value: 0.5210132018073574 and parameters: {'criterion': 'MSELoss', 'first_layer_size': 64, 'num_layers': 5, 'confidence_threshold': 0.005527534312148336, 'dropout': 0.3583566798563984, 'lr': 0.008753978123967344, 'n_epochs': 154}. Best is trial 102 with value: 0.5595287869517588.\n"
     ]
    },
    {
     "name": "stdout",
     "output_type": "stream",
     "text": [
      "Trial 209 finished with value: 0.5210132018073574\n",
      "Best trial so far: 102, value: 0.5595287869517588\n"
     ]
    },
    {
     "name": "stderr",
     "output_type": "stream",
     "text": [
      "[I 2024-12-08 19:50:31,454] Trial 210 finished with value: 0.5398209796953799 and parameters: {'criterion': 'MSELoss', 'first_layer_size': 64, 'num_layers': 5, 'confidence_threshold': 0.007066386302175612, 'dropout': 0.36218643092802993, 'lr': 0.009054065271416308, 'n_epochs': 178}. Best is trial 102 with value: 0.5595287869517588.\n"
     ]
    },
    {
     "name": "stdout",
     "output_type": "stream",
     "text": [
      "Trial 210 finished with value: 0.5398209796953799\n",
      "Best trial so far: 102, value: 0.5595287869517588\n"
     ]
    },
    {
     "name": "stderr",
     "output_type": "stream",
     "text": [
      "[I 2024-12-08 19:50:40,017] Trial 211 finished with value: 0.5307503852110877 and parameters: {'criterion': 'MSELoss', 'first_layer_size': 64, 'num_layers': 5, 'confidence_threshold': 0.0067007762758313424, 'dropout': 0.35891042860819106, 'lr': 0.009053186491538075, 'n_epochs': 152}. Best is trial 102 with value: 0.5595287869517588.\n"
     ]
    },
    {
     "name": "stdout",
     "output_type": "stream",
     "text": [
      "Trial 211 finished with value: 0.5307503852110877\n",
      "Best trial so far: 102, value: 0.5595287869517588\n"
     ]
    },
    {
     "name": "stderr",
     "output_type": "stream",
     "text": [
      "[I 2024-12-08 19:50:48,672] Trial 212 finished with value: 0.5298516285575212 and parameters: {'criterion': 'MSELoss', 'first_layer_size': 64, 'num_layers': 5, 'confidence_threshold': 0.009495327309595892, 'dropout': 0.367818835488692, 'lr': 0.008595982057783018, 'n_epochs': 154}. Best is trial 102 with value: 0.5595287869517588.\n"
     ]
    },
    {
     "name": "stdout",
     "output_type": "stream",
     "text": [
      "Trial 212 finished with value: 0.5298516285575212\n",
      "Best trial so far: 102, value: 0.5595287869517588\n"
     ]
    },
    {
     "name": "stderr",
     "output_type": "stream",
     "text": [
      "[I 2024-12-08 19:50:57,267] Trial 213 finished with value: 0.53199153246966 and parameters: {'criterion': 'MSELoss', 'first_layer_size': 64, 'num_layers': 5, 'confidence_threshold': 0.006621757021510322, 'dropout': 0.3648636093240571, 'lr': 0.009584918296063807, 'n_epochs': 149}. Best is trial 102 with value: 0.5595287869517588.\n"
     ]
    },
    {
     "name": "stdout",
     "output_type": "stream",
     "text": [
      "Trial 213 finished with value: 0.53199153246966\n",
      "Best trial so far: 102, value: 0.5595287869517588\n"
     ]
    },
    {
     "name": "stderr",
     "output_type": "stream",
     "text": [
      "[I 2024-12-08 19:51:04,392] Trial 214 finished with value: 0.4447127450409264 and parameters: {'criterion': 'MSELoss', 'first_layer_size': 64, 'num_layers': 5, 'confidence_threshold': 0.007712185571672574, 'dropout': 0.3618453496858672, 'lr': 0.009048127079951705, 'n_epochs': 122}. Best is trial 102 with value: 0.5595287869517588.\n"
     ]
    },
    {
     "name": "stdout",
     "output_type": "stream",
     "text": [
      "Trial 214 finished with value: 0.4447127450409264\n",
      "Best trial so far: 102, value: 0.5595287869517588\n"
     ]
    },
    {
     "name": "stderr",
     "output_type": "stream",
     "text": [
      "[I 2024-12-08 19:51:12,844] Trial 215 finished with value: 0.5271739889514778 and parameters: {'criterion': 'MSELoss', 'first_layer_size': 64, 'num_layers': 5, 'confidence_threshold': 0.0052683296477198695, 'dropout': 0.3605503549997102, 'lr': 0.008605987400868674, 'n_epochs': 151}. Best is trial 102 with value: 0.5595287869517588.\n"
     ]
    },
    {
     "name": "stdout",
     "output_type": "stream",
     "text": [
      "Trial 215 finished with value: 0.5271739889514778\n",
      "Best trial so far: 102, value: 0.5595287869517588\n"
     ]
    },
    {
     "name": "stderr",
     "output_type": "stream",
     "text": [
      "[I 2024-12-08 19:51:20,019] Trial 216 finished with value: 0.41952856758245005 and parameters: {'criterion': 'MSELoss', 'first_layer_size': 64, 'num_layers': 5, 'confidence_threshold': 0.0042474399348767285, 'dropout': 0.36252265167124087, 'lr': 0.009549587895853931, 'n_epochs': 127}. Best is trial 102 with value: 0.5595287869517588.\n"
     ]
    },
    {
     "name": "stdout",
     "output_type": "stream",
     "text": [
      "Trial 216 finished with value: 0.41952856758245005\n",
      "Best trial so far: 102, value: 0.5595287869517588\n"
     ]
    },
    {
     "name": "stderr",
     "output_type": "stream",
     "text": [
      "[I 2024-12-08 19:51:28,114] Trial 217 finished with value: 0.4887514600828002 and parameters: {'criterion': 'MSELoss', 'first_layer_size': 64, 'num_layers': 5, 'confidence_threshold': 0.006140844071871587, 'dropout': 0.3566408209680975, 'lr': 0.009168651885014572, 'n_epochs': 141}. Best is trial 102 with value: 0.5595287869517588.\n"
     ]
    },
    {
     "name": "stdout",
     "output_type": "stream",
     "text": [
      "Trial 217 finished with value: 0.4887514600828002\n",
      "Best trial so far: 102, value: 0.5595287869517588\n"
     ]
    },
    {
     "name": "stderr",
     "output_type": "stream",
     "text": [
      "[I 2024-12-08 19:51:37,063] Trial 218 finished with value: 0.5356982996327362 and parameters: {'criterion': 'MSELoss', 'first_layer_size': 64, 'num_layers': 5, 'confidence_threshold': 0.005003966681867219, 'dropout': 0.36591818979789864, 'lr': 0.009989390013706427, 'n_epochs': 153}. Best is trial 102 with value: 0.5595287869517588.\n"
     ]
    },
    {
     "name": "stdout",
     "output_type": "stream",
     "text": [
      "Trial 218 finished with value: 0.5356982996327362\n",
      "Best trial so far: 102, value: 0.5595287869517588\n"
     ]
    },
    {
     "name": "stderr",
     "output_type": "stream",
     "text": [
      "[I 2024-12-08 19:51:46,048] Trial 219 finished with value: 0.5341423074762766 and parameters: {'criterion': 'MSELoss', 'first_layer_size': 64, 'num_layers': 5, 'confidence_threshold': 0.007175771514504979, 'dropout': 0.3643337681496081, 'lr': 0.00982019527666329, 'n_epochs': 156}. Best is trial 102 with value: 0.5595287869517588.\n"
     ]
    },
    {
     "name": "stdout",
     "output_type": "stream",
     "text": [
      "Trial 219 finished with value: 0.5341423074762766\n",
      "Best trial so far: 102, value: 0.5595287869517588\n"
     ]
    },
    {
     "name": "stderr",
     "output_type": "stream",
     "text": [
      "[I 2024-12-08 19:51:53,033] Trial 220 finished with value: 0.46604576377304274 and parameters: {'criterion': 'MSELoss', 'first_layer_size': 64, 'num_layers': 5, 'confidence_threshold': 0.0047753682683581095, 'dropout': 0.3665752699986549, 'lr': 0.009970176305748138, 'n_epochs': 123}. Best is trial 102 with value: 0.5595287869517588.\n"
     ]
    },
    {
     "name": "stdout",
     "output_type": "stream",
     "text": [
      "Trial 220 finished with value: 0.46604576377304274\n",
      "Best trial so far: 102, value: 0.5595287869517588\n"
     ]
    },
    {
     "name": "stderr",
     "output_type": "stream",
     "text": [
      "[I 2024-12-08 19:52:04,385] Trial 221 finished with value: 0.5560396691501552 and parameters: {'criterion': 'MSELoss', 'first_layer_size': 64, 'num_layers': 5, 'confidence_threshold': 0.008439804457565913, 'dropout': 0.37277066805832176, 'lr': 0.009513569993712575, 'n_epochs': 194}. Best is trial 102 with value: 0.5595287869517588.\n"
     ]
    },
    {
     "name": "stdout",
     "output_type": "stream",
     "text": [
      "Trial 221 finished with value: 0.5560396691501552\n",
      "Best trial so far: 102, value: 0.5595287869517588\n"
     ]
    },
    {
     "name": "stderr",
     "output_type": "stream",
     "text": [
      "[I 2024-12-08 19:52:13,015] Trial 222 finished with value: 0.5073209544387617 and parameters: {'criterion': 'MSELoss', 'first_layer_size': 64, 'num_layers': 5, 'confidence_threshold': 0.008749686625354462, 'dropout': 0.3741998356946536, 'lr': 0.009361816790286177, 'n_epochs': 153}. Best is trial 102 with value: 0.5595287869517588.\n"
     ]
    },
    {
     "name": "stdout",
     "output_type": "stream",
     "text": [
      "Trial 222 finished with value: 0.5073209544387617\n",
      "Best trial so far: 102, value: 0.5595287869517588\n"
     ]
    },
    {
     "name": "stderr",
     "output_type": "stream",
     "text": [
      "[I 2024-12-08 19:52:21,734] Trial 223 finished with value: 0.527002399607377 and parameters: {'criterion': 'MSELoss', 'first_layer_size': 64, 'num_layers': 5, 'confidence_threshold': 0.006886369254136845, 'dropout': 0.3701595841260721, 'lr': 0.008783854517895396, 'n_epochs': 154}. Best is trial 102 with value: 0.5595287869517588.\n"
     ]
    },
    {
     "name": "stdout",
     "output_type": "stream",
     "text": [
      "Trial 223 finished with value: 0.527002399607377\n",
      "Best trial so far: 102, value: 0.5595287869517588\n"
     ]
    },
    {
     "name": "stderr",
     "output_type": "stream",
     "text": [
      "[I 2024-12-08 19:52:28,985] Trial 224 finished with value: 0.409031651972139 and parameters: {'criterion': 'MSELoss', 'first_layer_size': 64, 'num_layers': 5, 'confidence_threshold': 0.0032935474754606665, 'dropout': 0.3713695536412281, 'lr': 0.009365365145129754, 'n_epochs': 124}. Best is trial 102 with value: 0.5595287869517588.\n"
     ]
    },
    {
     "name": "stdout",
     "output_type": "stream",
     "text": [
      "Trial 224 finished with value: 0.409031651972139\n",
      "Best trial so far: 102, value: 0.5595287869517588\n"
     ]
    },
    {
     "name": "stderr",
     "output_type": "stream",
     "text": [
      "[I 2024-12-08 19:52:37,885] Trial 225 finished with value: 0.5308059814601314 and parameters: {'criterion': 'MSELoss', 'first_layer_size': 64, 'num_layers': 5, 'confidence_threshold': 0.007951184449653814, 'dropout': 0.36301638432240296, 'lr': 0.00885595112773643, 'n_epochs': 154}. Best is trial 102 with value: 0.5595287869517588.\n"
     ]
    },
    {
     "name": "stdout",
     "output_type": "stream",
     "text": [
      "Trial 225 finished with value: 0.5308059814601314\n",
      "Best trial so far: 102, value: 0.5595287869517588\n"
     ]
    },
    {
     "name": "stderr",
     "output_type": "stream",
     "text": [
      "[I 2024-12-08 19:52:43,884] Trial 226 finished with value: 0.20246305418719207 and parameters: {'criterion': 'MSELoss', 'first_layer_size': 64, 'num_layers': 5, 'confidence_threshold': 0.023671584359880343, 'dropout': 0.3597608082585639, 'lr': 0.009540561049149401, 'n_epochs': 110}. Best is trial 102 with value: 0.5595287869517588.\n"
     ]
    },
    {
     "name": "stdout",
     "output_type": "stream",
     "text": [
      "Trial 226 finished with value: 0.20246305418719207\n",
      "Best trial so far: 102, value: 0.5595287869517588\n"
     ]
    },
    {
     "name": "stderr",
     "output_type": "stream",
     "text": [
      "[I 2024-12-08 19:52:50,844] Trial 227 finished with value: 0.42774743025725465 and parameters: {'criterion': 'MSELoss', 'first_layer_size': 64, 'num_layers': 5, 'confidence_threshold': 0.004030759823297702, 'dropout': 0.3605685432586664, 'lr': 0.0082915678980355, 'n_epochs': 123}. Best is trial 102 with value: 0.5595287869517588.\n"
     ]
    },
    {
     "name": "stdout",
     "output_type": "stream",
     "text": [
      "Trial 227 finished with value: 0.42774743025725465\n",
      "Best trial so far: 102, value: 0.5595287869517588\n"
     ]
    },
    {
     "name": "stderr",
     "output_type": "stream",
     "text": [
      "[I 2024-12-08 19:52:58,150] Trial 228 finished with value: 0.005934718100890208 and parameters: {'criterion': 'SmoothL1Loss', 'first_layer_size': 64, 'num_layers': 7, 'confidence_threshold': 0.030612779935693748, 'dropout': 0.37561157998781325, 'lr': 0.009117923532989803, 'n_epochs': 100}. Best is trial 102 with value: 0.5595287869517588.\n"
     ]
    },
    {
     "name": "stdout",
     "output_type": "stream",
     "text": [
      "Trial 228 finished with value: 0.005934718100890208\n",
      "Best trial so far: 102, value: 0.5595287869517588\n"
     ]
    },
    {
     "name": "stderr",
     "output_type": "stream",
     "text": [
      "[I 2024-12-08 19:53:06,810] Trial 229 finished with value: 0.5460488148603679 and parameters: {'criterion': 'MSELoss', 'first_layer_size': 64, 'num_layers': 5, 'confidence_threshold': 0.0061808183196037595, 'dropout': 0.3798210306762099, 'lr': 0.009966424671600946, 'n_epochs': 148}. Best is trial 102 with value: 0.5595287869517588.\n"
     ]
    },
    {
     "name": "stdout",
     "output_type": "stream",
     "text": [
      "Trial 229 finished with value: 0.5460488148603679\n",
      "Best trial so far: 102, value: 0.5595287869517588\n"
     ]
    },
    {
     "name": "stderr",
     "output_type": "stream",
     "text": [
      "[I 2024-12-08 19:53:14,562] Trial 230 finished with value: 0.11801242236024845 and parameters: {'criterion': 'MSELoss', 'first_layer_size': 56, 'num_layers': 7, 'confidence_threshold': 0.005586445627134117, 'dropout': 0.37843435742439985, 'lr': 0.009978678657467158, 'n_epochs': 100}. Best is trial 102 with value: 0.5595287869517588.\n"
     ]
    },
    {
     "name": "stdout",
     "output_type": "stream",
     "text": [
      "Trial 230 finished with value: 0.11801242236024845\n",
      "Best trial so far: 102, value: 0.5595287869517588\n"
     ]
    },
    {
     "name": "stderr",
     "output_type": "stream",
     "text": [
      "[I 2024-12-08 19:53:23,112] Trial 231 finished with value: 0.533928756112916 and parameters: {'criterion': 'MSELoss', 'first_layer_size': 64, 'num_layers': 5, 'confidence_threshold': 0.006680265202794727, 'dropout': 0.3799696299649537, 'lr': 0.009462626247885545, 'n_epochs': 147}. Best is trial 102 with value: 0.5595287869517588.\n"
     ]
    },
    {
     "name": "stdout",
     "output_type": "stream",
     "text": [
      "Trial 231 finished with value: 0.533928756112916\n",
      "Best trial so far: 102, value: 0.5595287869517588\n"
     ]
    },
    {
     "name": "stderr",
     "output_type": "stream",
     "text": [
      "[I 2024-12-08 19:53:30,654] Trial 232 finished with value: 0.4145732798450169 and parameters: {'criterion': 'MSELoss', 'first_layer_size': 64, 'num_layers': 5, 'confidence_threshold': 0.0047036048696874975, 'dropout': 0.3737444301382612, 'lr': 0.009021102374734259, 'n_epochs': 128}. Best is trial 102 with value: 0.5595287869517588.\n"
     ]
    },
    {
     "name": "stdout",
     "output_type": "stream",
     "text": [
      "Trial 232 finished with value: 0.4145732798450169\n",
      "Best trial so far: 102, value: 0.5595287869517588\n"
     ]
    },
    {
     "name": "stderr",
     "output_type": "stream",
     "text": [
      "[I 2024-12-08 19:53:38,003] Trial 233 finished with value: 0.4187529597705185 and parameters: {'criterion': 'MSELoss', 'first_layer_size': 64, 'num_layers': 5, 'confidence_threshold': 0.006029559172124246, 'dropout': 0.37729856503182285, 'lr': 0.00861301075776375, 'n_epochs': 128}. Best is trial 102 with value: 0.5595287869517588.\n"
     ]
    },
    {
     "name": "stdout",
     "output_type": "stream",
     "text": [
      "Trial 233 finished with value: 0.4187529597705185\n",
      "Best trial so far: 102, value: 0.5595287869517588\n"
     ]
    },
    {
     "name": "stderr",
     "output_type": "stream",
     "text": [
      "[I 2024-12-08 19:53:47,050] Trial 234 finished with value: 0.5328386023567833 and parameters: {'criterion': 'MSELoss', 'first_layer_size': 64, 'num_layers': 5, 'confidence_threshold': 0.0035083196839055548, 'dropout': 0.36617101800051804, 'lr': 0.009961316662505297, 'n_epochs': 159}. Best is trial 102 with value: 0.5595287869517588.\n"
     ]
    },
    {
     "name": "stdout",
     "output_type": "stream",
     "text": [
      "Trial 234 finished with value: 0.5328386023567833\n",
      "Best trial so far: 102, value: 0.5595287869517588\n"
     ]
    },
    {
     "name": "stderr",
     "output_type": "stream",
     "text": [
      "[I 2024-12-08 19:53:57,694] Trial 235 finished with value: 0.38216009805263046 and parameters: {'criterion': 'L1Loss', 'first_layer_size': 64, 'num_layers': 5, 'confidence_threshold': 0.002353712739438036, 'dropout': 0.3581989845353368, 'lr': 0.00941019287877174, 'n_epochs': 189}. Best is trial 102 with value: 0.5595287869517588.\n"
     ]
    },
    {
     "name": "stdout",
     "output_type": "stream",
     "text": [
      "Trial 235 finished with value: 0.38216009805263046\n",
      "Best trial so far: 102, value: 0.5595287869517588\n"
     ]
    },
    {
     "name": "stderr",
     "output_type": "stream",
     "text": [
      "[I 2024-12-08 19:54:07,434] Trial 236 finished with value: 0.22199896545006279 and parameters: {'criterion': 'MSELoss', 'first_layer_size': 64, 'num_layers': 7, 'confidence_threshold': 0.0018165409071177214, 'dropout': 0.35689745059602856, 'lr': 0.008456431016645899, 'n_epochs': 133}. Best is trial 102 with value: 0.5595287869517588.\n"
     ]
    },
    {
     "name": "stdout",
     "output_type": "stream",
     "text": [
      "Trial 236 finished with value: 0.22199896545006279\n",
      "Best trial so far: 102, value: 0.5595287869517588\n"
     ]
    },
    {
     "name": "stderr",
     "output_type": "stream",
     "text": [
      "[I 2024-12-08 19:54:13,284] Trial 237 finished with value: 0.0065395095367847406 and parameters: {'criterion': 'MSELoss', 'first_layer_size': 64, 'num_layers': 5, 'confidence_threshold': 0.007667044810802097, 'dropout': 0.36908367970082245, 'lr': 0.0017460974154319367, 'n_epochs': 100}. Best is trial 102 with value: 0.5595287869517588.\n"
     ]
    },
    {
     "name": "stdout",
     "output_type": "stream",
     "text": [
      "Trial 237 finished with value: 0.0065395095367847406\n",
      "Best trial so far: 102, value: 0.5595287869517588\n"
     ]
    },
    {
     "name": "stderr",
     "output_type": "stream",
     "text": [
      "[I 2024-12-08 19:54:22,618] Trial 238 finished with value: 0.5439270206224223 and parameters: {'criterion': 'MSELoss', 'first_layer_size': 64, 'num_layers': 5, 'confidence_threshold': 0.004545353985542669, 'dropout': 0.3610888203102728, 'lr': 0.008975823775335706, 'n_epochs': 160}. Best is trial 102 with value: 0.5595287869517588.\n"
     ]
    },
    {
     "name": "stdout",
     "output_type": "stream",
     "text": [
      "Trial 238 finished with value: 0.5439270206224223\n",
      "Best trial so far: 102, value: 0.5595287869517588\n"
     ]
    },
    {
     "name": "stderr",
     "output_type": "stream",
     "text": [
      "[I 2024-12-08 19:54:31,279] Trial 239 finished with value: 0.5065355840823369 and parameters: {'criterion': 'MSELoss', 'first_layer_size': 16, 'num_layers': 3, 'confidence_threshold': 0.004582374185647182, 'dropout': 0.36151287041169305, 'lr': 0.009470291958521563, 'n_epochs': 220}. Best is trial 102 with value: 0.5595287869517588.\n"
     ]
    },
    {
     "name": "stdout",
     "output_type": "stream",
     "text": [
      "Trial 239 finished with value: 0.5065355840823369\n",
      "Best trial so far: 102, value: 0.5595287869517588\n"
     ]
    },
    {
     "name": "stderr",
     "output_type": "stream",
     "text": [
      "[I 2024-12-08 19:54:54,262] Trial 240 finished with value: 0.5428155361222903 and parameters: {'criterion': 'MSELoss', 'first_layer_size': 64, 'num_layers': 7, 'confidence_threshold': 0.005927730906516472, 'dropout': 0.36346951666669314, 'lr': 0.008241559414654478, 'n_epochs': 324}. Best is trial 102 with value: 0.5595287869517588.\n"
     ]
    },
    {
     "name": "stdout",
     "output_type": "stream",
     "text": [
      "Trial 240 finished with value: 0.5428155361222903\n",
      "Best trial so far: 102, value: 0.5595287869517588\n"
     ]
    },
    {
     "name": "stderr",
     "output_type": "stream",
     "text": [
      "[I 2024-12-08 19:55:12,766] Trial 241 finished with value: 0.4387493563985768 and parameters: {'criterion': 'MSELoss', 'first_layer_size': 64, 'num_layers': 7, 'confidence_threshold': 0.006513534453748397, 'dropout': 0.3613408434140902, 'lr': 0.008092394980067384, 'n_epochs': 259}. Best is trial 102 with value: 0.5595287869517588.\n"
     ]
    },
    {
     "name": "stdout",
     "output_type": "stream",
     "text": [
      "Trial 241 finished with value: 0.4387493563985768\n",
      "Best trial so far: 102, value: 0.5595287869517588\n"
     ]
    },
    {
     "name": "stderr",
     "output_type": "stream",
     "text": [
      "[I 2024-12-08 19:55:28,021] Trial 242 finished with value: 0.4749096253397463 and parameters: {'criterion': 'MSELoss', 'first_layer_size': 64, 'num_layers': 7, 'confidence_threshold': 0.006239233044276007, 'dropout': 0.36408410100122796, 'lr': 0.008571707324265007, 'n_epochs': 212}. Best is trial 102 with value: 0.5595287869517588.\n"
     ]
    },
    {
     "name": "stdout",
     "output_type": "stream",
     "text": [
      "Trial 242 finished with value: 0.4749096253397463\n",
      "Best trial so far: 102, value: 0.5595287869517588\n"
     ]
    },
    {
     "name": "stderr",
     "output_type": "stream",
     "text": [
      "[I 2024-12-08 19:55:40,075] Trial 243 finished with value: 0.2921516337868046 and parameters: {'criterion': 'MSELoss', 'first_layer_size': 64, 'num_layers': 7, 'confidence_threshold': 0.005063007801306874, 'dropout': 0.36629147327017386, 'lr': 0.009046177144201632, 'n_epochs': 169}. Best is trial 102 with value: 0.5595287869517588.\n"
     ]
    },
    {
     "name": "stdout",
     "output_type": "stream",
     "text": [
      "Trial 243 finished with value: 0.2921516337868046\n",
      "Best trial so far: 102, value: 0.5595287869517588\n"
     ]
    },
    {
     "name": "stderr",
     "output_type": "stream",
     "text": [
      "[I 2024-12-08 19:55:47,729] Trial 244 finished with value: 0.05394190871369294 and parameters: {'criterion': 'MSELoss', 'first_layer_size': 64, 'num_layers': 7, 'confidence_threshold': 0.005651713750276342, 'dropout': 0.3629855748451177, 'lr': 0.008127112123444503, 'n_epochs': 100}. Best is trial 102 with value: 0.5595287869517588.\n"
     ]
    },
    {
     "name": "stdout",
     "output_type": "stream",
     "text": [
      "Trial 244 finished with value: 0.05394190871369294\n",
      "Best trial so far: 102, value: 0.5595287869517588\n"
     ]
    },
    {
     "name": "stderr",
     "output_type": "stream",
     "text": [
      "[I 2024-12-08 19:56:03,395] Trial 245 finished with value: 0.4129607880102005 and parameters: {'criterion': 'MSELoss', 'first_layer_size': 12, 'num_layers': 2, 'confidence_threshold': 0.0036549027439652035, 'dropout': 0.33388007523589386, 'lr': 0.0013084127488730475, 'n_epochs': 407}. Best is trial 102 with value: 0.5595287869517588.\n"
     ]
    },
    {
     "name": "stdout",
     "output_type": "stream",
     "text": [
      "Trial 245 finished with value: 0.4129607880102005\n",
      "Best trial so far: 102, value: 0.5595287869517588\n"
     ]
    },
    {
     "name": "stderr",
     "output_type": "stream",
     "text": [
      "[I 2024-12-08 19:56:10,547] Trial 246 finished with value: 0.017941952506596304 and parameters: {'criterion': 'MSELoss', 'first_layer_size': 64, 'num_layers': 7, 'confidence_threshold': 0.007633183648626578, 'dropout': 0.37358749107056116, 'lr': 0.00879259410264728, 'n_epochs': 100}. Best is trial 102 with value: 0.5595287869517588.\n"
     ]
    },
    {
     "name": "stdout",
     "output_type": "stream",
     "text": [
      "Trial 246 finished with value: 0.017941952506596304\n",
      "Best trial so far: 102, value: 0.5595287869517588\n"
     ]
    },
    {
     "name": "stderr",
     "output_type": "stream",
     "text": [
      "[I 2024-12-08 19:56:22,214] Trial 247 finished with value: 0.25630950845895645 and parameters: {'criterion': 'MSELoss', 'first_layer_size': 64, 'num_layers': 7, 'confidence_threshold': 0.012067116338568863, 'dropout': 0.3604365914785433, 'lr': 0.009564648303226354, 'n_epochs': 165}. Best is trial 102 with value: 0.5595287869517588.\n"
     ]
    },
    {
     "name": "stdout",
     "output_type": "stream",
     "text": [
      "Trial 247 finished with value: 0.25630950845895645\n",
      "Best trial so far: 102, value: 0.5595287869517588\n"
     ]
    },
    {
     "name": "stderr",
     "output_type": "stream",
     "text": [
      "[I 2024-12-08 19:56:31,091] Trial 248 finished with value: 0.5251704995963449 and parameters: {'criterion': 'MSELoss', 'first_layer_size': 64, 'num_layers': 5, 'confidence_threshold': 0.008518520778644019, 'dropout': 0.3586147848818596, 'lr': 0.009188147666657978, 'n_epochs': 153}. Best is trial 102 with value: 0.5595287869517588.\n"
     ]
    },
    {
     "name": "stdout",
     "output_type": "stream",
     "text": [
      "Trial 248 finished with value: 0.5251704995963449\n",
      "Best trial so far: 102, value: 0.5595287869517588\n"
     ]
    },
    {
     "name": "stderr",
     "output_type": "stream",
     "text": [
      "[I 2024-12-08 19:56:41,803] Trial 249 finished with value: 0.5280681869196726 and parameters: {'criterion': 'MSELoss', 'first_layer_size': 32, 'num_layers': 4, 'confidence_threshold': 0.00428013970694841, 'dropout': 0.3310950454046823, 'lr': 0.008391909036969347, 'n_epochs': 212}. Best is trial 102 with value: 0.5595287869517588.\n"
     ]
    },
    {
     "name": "stdout",
     "output_type": "stream",
     "text": [
      "Trial 249 finished with value: 0.5280681869196726\n",
      "Best trial so far: 102, value: 0.5595287869517588\n"
     ]
    },
    {
     "name": "stderr",
     "output_type": "stream",
     "text": [
      "[I 2024-12-08 19:56:51,985] Trial 250 finished with value: 0.5411095291543482 and parameters: {'criterion': 'MSELoss', 'first_layer_size': 64, 'num_layers': 5, 'confidence_threshold': 0.0012047450818318487, 'dropout': 0.36454710004818264, 'lr': 0.007829447104217832, 'n_epochs': 180}. Best is trial 102 with value: 0.5595287869517588.\n"
     ]
    },
    {
     "name": "stdout",
     "output_type": "stream",
     "text": [
      "Trial 250 finished with value: 0.5411095291543482\n",
      "Best trial so far: 102, value: 0.5595287869517588\n"
     ]
    },
    {
     "name": "stderr",
     "output_type": "stream",
     "text": [
      "[I 2024-12-08 19:57:00,597] Trial 251 finished with value: 0.531460994954943 and parameters: {'criterion': 'MSELoss', 'first_layer_size': 64, 'num_layers': 5, 'confidence_threshold': 0.0010670704541258953, 'dropout': 0.3627380736550202, 'lr': 0.008862598586629194, 'n_epochs': 152}. Best is trial 102 with value: 0.5595287869517588.\n"
     ]
    },
    {
     "name": "stdout",
     "output_type": "stream",
     "text": [
      "Trial 251 finished with value: 0.531460994954943\n",
      "Best trial so far: 102, value: 0.5595287869517588\n"
     ]
    },
    {
     "name": "stderr",
     "output_type": "stream",
     "text": [
      "[I 2024-12-08 19:57:10,251] Trial 252 finished with value: 0.20897696037028987 and parameters: {'criterion': 'MSELoss', 'first_layer_size': 64, 'num_layers': 7, 'confidence_threshold': 0.0010561246767481604, 'dropout': 0.36369016157206985, 'lr': 0.009625854573069439, 'n_epochs': 133}. Best is trial 102 with value: 0.5595287869517588.\n"
     ]
    },
    {
     "name": "stdout",
     "output_type": "stream",
     "text": [
      "Trial 252 finished with value: 0.20897696037028987\n",
      "Best trial so far: 102, value: 0.5595287869517588\n"
     ]
    },
    {
     "name": "stderr",
     "output_type": "stream",
     "text": [
      "[I 2024-12-08 19:57:15,811] Trial 253 finished with value: 0.011119637786816055 and parameters: {'criterion': 'MSELoss', 'first_layer_size': 64, 'num_layers': 5, 'confidence_threshold': 0.04514021615617004, 'dropout': 0.3653460571424164, 'lr': 0.007879932292608595, 'n_epochs': 100}. Best is trial 102 with value: 0.5595287869517588.\n"
     ]
    },
    {
     "name": "stdout",
     "output_type": "stream",
     "text": [
      "Trial 253 finished with value: 0.011119637786816055\n",
      "Best trial so far: 102, value: 0.5595287869517588\n"
     ]
    },
    {
     "name": "stderr",
     "output_type": "stream",
     "text": [
      "[I 2024-12-08 19:57:23,805] Trial 254 finished with value: 0.11801242236024845 and parameters: {'criterion': 'MSELoss', 'first_layer_size': 56, 'num_layers': 7, 'confidence_threshold': 0.027483259638866293, 'dropout': 0.3601477055756619, 'lr': 0.009949151861640974, 'n_epochs': 100}. Best is trial 102 with value: 0.5595287869517588.\n"
     ]
    },
    {
     "name": "stdout",
     "output_type": "stream",
     "text": [
      "Trial 254 finished with value: 0.11801242236024845\n",
      "Best trial so far: 102, value: 0.5595287869517588\n"
     ]
    },
    {
     "name": "stderr",
     "output_type": "stream",
     "text": [
      "[I 2024-12-08 19:57:32,708] Trial 255 finished with value: 0.5313696025279849 and parameters: {'criterion': 'MSELoss', 'first_layer_size': 64, 'num_layers': 5, 'confidence_threshold': 0.002049144801421949, 'dropout': 0.3274794653158576, 'lr': 0.008407930858313855, 'n_epochs': 152}. Best is trial 102 with value: 0.5595287869517588.\n"
     ]
    },
    {
     "name": "stdout",
     "output_type": "stream",
     "text": [
      "Trial 255 finished with value: 0.5313696025279849\n",
      "Best trial so far: 102, value: 0.5595287869517588\n"
     ]
    },
    {
     "name": "stderr",
     "output_type": "stream",
     "text": [
      "[I 2024-12-08 19:57:50,490] Trial 256 finished with value: 0.47895729015428457 and parameters: {'criterion': 'MSELoss', 'first_layer_size': 64, 'num_layers': 7, 'confidence_threshold': 0.004915424414471304, 'dropout': 0.3683534799381741, 'lr': 0.009189676614442867, 'n_epochs': 244}. Best is trial 102 with value: 0.5595287869517588.\n"
     ]
    },
    {
     "name": "stdout",
     "output_type": "stream",
     "text": [
      "Trial 256 finished with value: 0.47895729015428457\n",
      "Best trial so far: 102, value: 0.5595287869517588\n"
     ]
    },
    {
     "name": "stderr",
     "output_type": "stream",
     "text": [
      "[I 2024-12-08 19:57:58,931] Trial 257 finished with value: 0.5323347320478442 and parameters: {'criterion': 'MSELoss', 'first_layer_size': 64, 'num_layers': 5, 'confidence_threshold': 0.0010275160044792933, 'dropout': 0.35627717993269054, 'lr': 0.008714926205960259, 'n_epochs': 149}. Best is trial 102 with value: 0.5595287869517588.\n"
     ]
    },
    {
     "name": "stdout",
     "output_type": "stream",
     "text": [
      "Trial 257 finished with value: 0.5323347320478442\n",
      "Best trial so far: 102, value: 0.5595287869517588\n"
     ]
    },
    {
     "name": "stderr",
     "output_type": "stream",
     "text": [
      "[I 2024-12-08 19:58:07,750] Trial 258 finished with value: 0.5278759678746824 and parameters: {'criterion': 'MSELoss', 'first_layer_size': 64, 'num_layers': 5, 'confidence_threshold': 0.007047838746201818, 'dropout': 0.3577910292828636, 'lr': 0.009205382707205577, 'n_epochs': 155}. Best is trial 102 with value: 0.5595287869517588.\n"
     ]
    },
    {
     "name": "stdout",
     "output_type": "stream",
     "text": [
      "Trial 258 finished with value: 0.5278759678746824\n",
      "Best trial so far: 102, value: 0.5595287869517588\n"
     ]
    },
    {
     "name": "stderr",
     "output_type": "stream",
     "text": [
      "[I 2024-12-08 19:58:16,578] Trial 259 finished with value: 0.4859377609976997 and parameters: {'criterion': 'MSELoss', 'first_layer_size': 64, 'num_layers': 5, 'confidence_threshold': 0.0059655286898782, 'dropout': 0.371823911551035, 'lr': 0.008118444132722367, 'n_epochs': 156}. Best is trial 102 with value: 0.5595287869517588.\n"
     ]
    },
    {
     "name": "stdout",
     "output_type": "stream",
     "text": [
      "Trial 259 finished with value: 0.4859377609976997\n",
      "Best trial so far: 102, value: 0.5595287869517588\n"
     ]
    },
    {
     "name": "stderr",
     "output_type": "stream",
     "text": [
      "[I 2024-12-08 19:58:28,820] Trial 260 finished with value: 0.40660607500199664 and parameters: {'criterion': 'MSELoss', 'first_layer_size': 64, 'num_layers': 7, 'confidence_threshold': 0.003179938074226803, 'dropout': 0.35099463099771416, 'lr': 0.009979023142205392, 'n_epochs': 167}. Best is trial 102 with value: 0.5595287869517588.\n"
     ]
    },
    {
     "name": "stdout",
     "output_type": "stream",
     "text": [
      "Trial 260 finished with value: 0.40660607500199664\n",
      "Best trial so far: 102, value: 0.5595287869517588\n"
     ]
    },
    {
     "name": "stderr",
     "output_type": "stream",
     "text": [
      "[I 2024-12-08 19:58:41,190] Trial 261 finished with value: 0.37632358216437933 and parameters: {'criterion': 'MSELoss', 'first_layer_size': 64, 'num_layers': 7, 'confidence_threshold': 0.002032396302690021, 'dropout': 0.32321145646073246, 'lr': 0.008724261339328796, 'n_epochs': 169}. Best is trial 102 with value: 0.5595287869517588.\n"
     ]
    },
    {
     "name": "stdout",
     "output_type": "stream",
     "text": [
      "Trial 261 finished with value: 0.37632358216437933\n",
      "Best trial so far: 102, value: 0.5595287869517588\n"
     ]
    },
    {
     "name": "stderr",
     "output_type": "stream",
     "text": [
      "[I 2024-12-08 19:58:48,078] Trial 262 finished with value: 0.3930978877394151 and parameters: {'criterion': 'MSELoss', 'first_layer_size': 64, 'num_layers': 5, 'confidence_threshold': 0.003870032079774528, 'dropout': 0.36458058368219354, 'lr': 0.009424954133125905, 'n_epochs': 120}. Best is trial 102 with value: 0.5595287869517588.\n"
     ]
    },
    {
     "name": "stdout",
     "output_type": "stream",
     "text": [
      "Trial 262 finished with value: 0.3930978877394151\n",
      "Best trial so far: 102, value: 0.5595287869517588\n"
     ]
    },
    {
     "name": "stderr",
     "output_type": "stream",
     "text": [
      "[I 2024-12-08 19:58:58,684] Trial 263 finished with value: 0.5340031385325844 and parameters: {'criterion': 'MSELoss', 'first_layer_size': 64, 'num_layers': 5, 'confidence_threshold': 0.0006331717418955353, 'dropout': 0.35431677365321074, 'lr': 0.008285464938977844, 'n_epochs': 178}. Best is trial 102 with value: 0.5595287869517588.\n"
     ]
    },
    {
     "name": "stdout",
     "output_type": "stream",
     "text": [
      "Trial 263 finished with value: 0.5340031385325844\n",
      "Best trial so far: 102, value: 0.5595287869517588\n"
     ]
    },
    {
     "name": "stderr",
     "output_type": "stream",
     "text": [
      "[I 2024-12-08 19:59:19,428] Trial 264 finished with value: 0.5523469187714849 and parameters: {'criterion': 'MSELoss', 'first_layer_size': 64, 'num_layers': 7, 'confidence_threshold': 0.0019248516235550461, 'dropout': 0.36185554258333785, 'lr': 0.009023958561057957, 'n_epochs': 290}. Best is trial 102 with value: 0.5595287869517588.\n"
     ]
    },
    {
     "name": "stdout",
     "output_type": "stream",
     "text": [
      "Trial 264 finished with value: 0.5523469187714849\n",
      "Best trial so far: 102, value: 0.5595287869517588\n"
     ]
    },
    {
     "name": "stderr",
     "output_type": "stream",
     "text": [
      "[I 2024-12-08 19:59:29,429] Trial 265 finished with value: 0.23824519849342152 and parameters: {'criterion': 'MSELoss', 'first_layer_size': 64, 'num_layers': 7, 'confidence_threshold': 0.0026678635156704104, 'dropout': 0.361214660593985, 'lr': 0.009060646092567846, 'n_epochs': 139}. Best is trial 102 with value: 0.5595287869517588.\n"
     ]
    },
    {
     "name": "stdout",
     "output_type": "stream",
     "text": [
      "Trial 265 finished with value: 0.23824519849342152\n",
      "Best trial so far: 102, value: 0.5595287869517588\n"
     ]
    },
    {
     "name": "stderr",
     "output_type": "stream",
     "text": [
      "[I 2024-12-08 19:59:41,410] Trial 266 finished with value: 0.3289055346581177 and parameters: {'criterion': 'MSELoss', 'first_layer_size': 64, 'num_layers': 7, 'confidence_threshold': 0.0019394565170725666, 'dropout': 0.3624612796699026, 'lr': 0.00949705400519261, 'n_epochs': 164}. Best is trial 102 with value: 0.5595287869517588.\n"
     ]
    },
    {
     "name": "stdout",
     "output_type": "stream",
     "text": [
      "Trial 266 finished with value: 0.3289055346581177\n",
      "Best trial so far: 102, value: 0.5595287869517588\n"
     ]
    },
    {
     "name": "stderr",
     "output_type": "stream",
     "text": [
      "[I 2024-12-08 19:59:49,244] Trial 267 finished with value: 0.11801242236024845 and parameters: {'criterion': 'MSELoss', 'first_layer_size': 56, 'num_layers': 7, 'confidence_threshold': 0.0013869729862516968, 'dropout': 0.3654702913226764, 'lr': 0.00888900606389368, 'n_epochs': 100}. Best is trial 102 with value: 0.5595287869517588.\n"
     ]
    },
    {
     "name": "stdout",
     "output_type": "stream",
     "text": [
      "Trial 267 finished with value: 0.11801242236024845\n",
      "Best trial so far: 102, value: 0.5595287869517588\n"
     ]
    },
    {
     "name": "stderr",
     "output_type": "stream",
     "text": [
      "[I 2024-12-08 19:59:56,415] Trial 268 finished with value: 0.011657606760509885 and parameters: {'criterion': 'L1Loss', 'first_layer_size': 64, 'num_layers': 7, 'confidence_threshold': 0.0163974362040808, 'dropout': 0.3594121604385226, 'lr': 0.009591831420498236, 'n_epochs': 100}. Best is trial 102 with value: 0.5595287869517588.\n"
     ]
    },
    {
     "name": "stdout",
     "output_type": "stream",
     "text": [
      "Trial 268 finished with value: 0.011657606760509885\n",
      "Best trial so far: 102, value: 0.5595287869517588\n"
     ]
    },
    {
     "name": "stderr",
     "output_type": "stream",
     "text": [
      "[I 2024-12-08 20:00:07,222] Trial 269 finished with value: 0.2328088251892005 and parameters: {'criterion': 'MSELoss', 'first_layer_size': 64, 'num_layers': 7, 'confidence_threshold': 3.52048121764377e-05, 'dropout': 0.36290192512851666, 'lr': 0.008498600235633395, 'n_epochs': 147}. Best is trial 102 with value: 0.5595287869517588.\n"
     ]
    },
    {
     "name": "stdout",
     "output_type": "stream",
     "text": [
      "Trial 269 finished with value: 0.2328088251892005\n",
      "Best trial so far: 102, value: 0.5595287869517588\n"
     ]
    },
    {
     "name": "stderr",
     "output_type": "stream",
     "text": [
      "[I 2024-12-08 20:00:11,781] Trial 270 finished with value: 0.2543859716790629 and parameters: {'criterion': 'MSELoss', 'first_layer_size': 16, 'num_layers': 4, 'confidence_threshold': 0.002995619901914089, 'dropout': 0.3684332749169114, 'lr': 0.00919471548768028, 'n_epochs': 100}. Best is trial 102 with value: 0.5595287869517588.\n"
     ]
    },
    {
     "name": "stdout",
     "output_type": "stream",
     "text": [
      "Trial 270 finished with value: 0.2543859716790629\n",
      "Best trial so far: 102, value: 0.5595287869517588\n"
     ]
    },
    {
     "name": "stderr",
     "output_type": "stream",
     "text": [
      "[I 2024-12-08 20:00:24,958] Trial 271 finished with value: 0.44924803321521517 and parameters: {'criterion': 'MSELoss', 'first_layer_size': 64, 'num_layers': 7, 'confidence_threshold': 0.0040170544844787, 'dropout': 0.3091053742375187, 'lr': 0.00998444313966472, 'n_epochs': 179}. Best is trial 102 with value: 0.5595287869517588.\n"
     ]
    },
    {
     "name": "stdout",
     "output_type": "stream",
     "text": [
      "Trial 271 finished with value: 0.44924803321521517\n",
      "Best trial so far: 102, value: 0.5595287869517588\n"
     ]
    },
    {
     "name": "stderr",
     "output_type": "stream",
     "text": [
      "[I 2024-12-08 20:00:33,409] Trial 272 finished with value: 0.1205539149966556 and parameters: {'criterion': 'MSELoss', 'first_layer_size': 64, 'num_layers': 7, 'confidence_threshold': 0.0015682675861825115, 'dropout': 0.3599384411024076, 'lr': 0.008698160285849374, 'n_epochs': 117}. Best is trial 102 with value: 0.5595287869517588.\n"
     ]
    },
    {
     "name": "stdout",
     "output_type": "stream",
     "text": [
      "Trial 272 finished with value: 0.1205539149966556\n",
      "Best trial so far: 102, value: 0.5595287869517588\n"
     ]
    },
    {
     "name": "stderr",
     "output_type": "stream",
     "text": [
      "[I 2024-12-08 20:00:48,875] Trial 273 finished with value: 0.43347349189848206 and parameters: {'criterion': 'MSELoss', 'first_layer_size': 64, 'num_layers': 7, 'confidence_threshold': 0.005112553570582533, 'dropout': 0.36732806598073525, 'lr': 0.009115174810967552, 'n_epochs': 214}. Best is trial 102 with value: 0.5595287869517588.\n"
     ]
    },
    {
     "name": "stdout",
     "output_type": "stream",
     "text": [
      "Trial 273 finished with value: 0.43347349189848206\n",
      "Best trial so far: 102, value: 0.5595287869517588\n"
     ]
    },
    {
     "name": "stderr",
     "output_type": "stream",
     "text": [
      "[I 2024-12-08 20:00:56,065] Trial 274 finished with value: 0.11938719890521532 and parameters: {'criterion': 'MSELoss', 'first_layer_size': 64, 'num_layers': 7, 'confidence_threshold': 0.002426114647627056, 'dropout': 0.28701878066046127, 'lr': 0.002988860005154447, 'n_epochs': 100}. Best is trial 102 with value: 0.5595287869517588.\n"
     ]
    },
    {
     "name": "stdout",
     "output_type": "stream",
     "text": [
      "Trial 274 finished with value: 0.11938719890521532\n",
      "Best trial so far: 102, value: 0.5595287869517588\n"
     ]
    },
    {
     "name": "stderr",
     "output_type": "stream",
     "text": [
      "[I 2024-12-08 20:01:01,091] Trial 275 finished with value: 0.3894375840951678 and parameters: {'criterion': 'MSELoss', 'first_layer_size': 12, 'num_layers': 3, 'confidence_threshold': 0.0034781106497474078, 'dropout': 0.2822708079332907, 'lr': 0.008356061828555928, 'n_epochs': 100}. Best is trial 102 with value: 0.5595287869517588.\n"
     ]
    },
    {
     "name": "stdout",
     "output_type": "stream",
     "text": [
      "Trial 275 finished with value: 0.3894375840951678\n",
      "Best trial so far: 102, value: 0.5595287869517588\n"
     ]
    },
    {
     "name": "stderr",
     "output_type": "stream",
     "text": [
      "[I 2024-12-08 20:01:10,827] Trial 276 finished with value: 0.33629846071447944 and parameters: {'criterion': 'MSELoss', 'first_layer_size': 32, 'num_layers': 5, 'confidence_threshold': 0.0008148947086433941, 'dropout': 0.3753775535456251, 'lr': 0.009558344675839643, 'n_epochs': 167}. Best is trial 102 with value: 0.5595287869517588.\n"
     ]
    },
    {
     "name": "stdout",
     "output_type": "stream",
     "text": [
      "Trial 276 finished with value: 0.33629846071447944\n",
      "Best trial so far: 102, value: 0.5595287869517588\n"
     ]
    },
    {
     "name": "stderr",
     "output_type": "stream",
     "text": [
      "[I 2024-12-08 20:01:20,696] Trial 277 finished with value: 0.23647164918754937 and parameters: {'criterion': 'MSELoss', 'first_layer_size': 64, 'num_layers': 7, 'confidence_threshold': 0.004432919007453081, 'dropout': 0.35602010679759255, 'lr': 0.008850476588710557, 'n_epochs': 132}. Best is trial 102 with value: 0.5595287869517588.\n"
     ]
    },
    {
     "name": "stdout",
     "output_type": "stream",
     "text": [
      "Trial 277 finished with value: 0.23647164918754937\n",
      "Best trial so far: 102, value: 0.5595287869517588\n"
     ]
    },
    {
     "name": "stderr",
     "output_type": "stream",
     "text": [
      "[I 2024-12-08 20:01:29,663] Trial 278 finished with value: 0.5461390656320327 and parameters: {'criterion': 'MSELoss', 'first_layer_size': 64, 'num_layers': 5, 'confidence_threshold': 2.6051724664720617e-05, 'dropout': 0.3508299131821006, 'lr': 0.009247212997098311, 'n_epochs': 157}. Best is trial 102 with value: 0.5595287869517588.\n"
     ]
    },
    {
     "name": "stdout",
     "output_type": "stream",
     "text": [
      "Trial 278 finished with value: 0.5461390656320327\n",
      "Best trial so far: 102, value: 0.5595287869517588\n"
     ]
    },
    {
     "name": "stderr",
     "output_type": "stream",
     "text": [
      "[I 2024-12-08 20:01:38,913] Trial 279 finished with value: 0.09754689754689756 and parameters: {'criterion': 'MSELoss', 'first_layer_size': 64, 'num_layers': 8, 'confidence_threshold': 0.00034183021670735865, 'dropout': 0.3519405918682892, 'lr': 0.009516969927507708, 'n_epochs': 119}. Best is trial 102 with value: 0.5595287869517588.\n"
     ]
    },
    {
     "name": "stdout",
     "output_type": "stream",
     "text": [
      "Trial 279 finished with value: 0.09754689754689756\n",
      "Best trial so far: 102, value: 0.5595287869517588\n"
     ]
    },
    {
     "name": "stderr",
     "output_type": "stream",
     "text": [
      "[I 2024-12-08 20:01:46,440] Trial 280 finished with value: 0.08434032059186189 and parameters: {'criterion': 'MSELoss', 'first_layer_size': 64, 'num_layers': 7, 'confidence_threshold': 3.5250434321594006e-05, 'dropout': 0.3577920504749793, 'lr': 0.007741405919368224, 'n_epochs': 100}. Best is trial 102 with value: 0.5595287869517588.\n"
     ]
    },
    {
     "name": "stdout",
     "output_type": "stream",
     "text": [
      "Trial 280 finished with value: 0.08434032059186189\n",
      "Best trial so far: 102, value: 0.5595287869517588\n"
     ]
    },
    {
     "name": "stderr",
     "output_type": "stream",
     "text": [
      "[I 2024-12-08 20:01:55,214] Trial 281 finished with value: 0.5350026510059835 and parameters: {'criterion': 'MSELoss', 'first_layer_size': 64, 'num_layers': 5, 'confidence_threshold': 0.001442626402866025, 'dropout': 0.36386080041906704, 'lr': 0.008592575899649462, 'n_epochs': 155}. Best is trial 102 with value: 0.5595287869517588.\n"
     ]
    },
    {
     "name": "stdout",
     "output_type": "stream",
     "text": [
      "Trial 281 finished with value: 0.5350026510059835\n",
      "Best trial so far: 102, value: 0.5595287869517588\n"
     ]
    },
    {
     "name": "stderr",
     "output_type": "stream",
     "text": [
      "[I 2024-12-08 20:02:04,079] Trial 282 finished with value: 0.5479160247908721 and parameters: {'criterion': 'MSELoss', 'first_layer_size': 64, 'num_layers': 5, 'confidence_threshold': 0.0010711953266488632, 'dropout': 0.36150873795360683, 'lr': 0.009264299190028753, 'n_epochs': 153}. Best is trial 102 with value: 0.5595287869517588.\n"
     ]
    },
    {
     "name": "stdout",
     "output_type": "stream",
     "text": [
      "Trial 282 finished with value: 0.5479160247908721\n",
      "Best trial so far: 102, value: 0.5595287869517588\n"
     ]
    },
    {
     "name": "stderr",
     "output_type": "stream",
     "text": [
      "[I 2024-12-08 20:02:12,849] Trial 283 finished with value: 0.5309668352515609 and parameters: {'criterion': 'MSELoss', 'first_layer_size': 64, 'num_layers': 5, 'confidence_threshold': 0.0014785227658352038, 'dropout': 0.36202175645069384, 'lr': 0.008190870318834292, 'n_epochs': 151}. Best is trial 102 with value: 0.5595287869517588.\n"
     ]
    },
    {
     "name": "stdout",
     "output_type": "stream",
     "text": [
      "Trial 283 finished with value: 0.5309668352515609\n",
      "Best trial so far: 102, value: 0.5595287869517588\n"
     ]
    },
    {
     "name": "stderr",
     "output_type": "stream",
     "text": [
      "[I 2024-12-08 20:02:21,636] Trial 284 finished with value: 0.5389531796688571 and parameters: {'criterion': 'MSELoss', 'first_layer_size': 64, 'num_layers': 5, 'confidence_threshold': 0.005632822577223845, 'dropout': 0.360596597123783, 'lr': 0.009164652502457259, 'n_epochs': 153}. Best is trial 102 with value: 0.5595287869517588.\n"
     ]
    },
    {
     "name": "stdout",
     "output_type": "stream",
     "text": [
      "Trial 284 finished with value: 0.5389531796688571\n",
      "Best trial so far: 102, value: 0.5595287869517588\n"
     ]
    },
    {
     "name": "stderr",
     "output_type": "stream",
     "text": [
      "[I 2024-12-08 20:02:30,451] Trial 285 finished with value: 0.531377467813171 and parameters: {'criterion': 'MSELoss', 'first_layer_size': 64, 'num_layers': 5, 'confidence_threshold': 0.006026352583976194, 'dropout': 0.3605243929981672, 'lr': 0.008637860373027044, 'n_epochs': 151}. Best is trial 102 with value: 0.5595287869517588.\n"
     ]
    },
    {
     "name": "stdout",
     "output_type": "stream",
     "text": [
      "Trial 285 finished with value: 0.531377467813171\n",
      "Best trial so far: 102, value: 0.5595287869517588\n"
     ]
    },
    {
     "name": "stderr",
     "output_type": "stream",
     "text": [
      "[I 2024-12-08 20:02:37,308] Trial 286 finished with value: 0.4083541585391181 and parameters: {'criterion': 'MSELoss', 'first_layer_size': 64, 'num_layers': 5, 'confidence_threshold': 0.0030410131418547775, 'dropout': 0.3611253224392203, 'lr': 0.009126594845219488, 'n_epochs': 117}. Best is trial 102 with value: 0.5595287869517588.\n"
     ]
    },
    {
     "name": "stdout",
     "output_type": "stream",
     "text": [
      "Trial 286 finished with value: 0.4083541585391181\n",
      "Best trial so far: 102, value: 0.5595287869517588\n"
     ]
    },
    {
     "name": "stderr",
     "output_type": "stream",
     "text": [
      "[I 2024-12-08 20:02:46,048] Trial 287 finished with value: 0.525280794203572 and parameters: {'criterion': 'MSELoss', 'first_layer_size': 64, 'num_layers': 5, 'confidence_threshold': 0.000752577551392338, 'dropout': 0.358966369240013, 'lr': 0.007950327753810918, 'n_epochs': 151}. Best is trial 102 with value: 0.5595287869517588.\n"
     ]
    },
    {
     "name": "stdout",
     "output_type": "stream",
     "text": [
      "Trial 287 finished with value: 0.525280794203572\n",
      "Best trial so far: 102, value: 0.5595287869517588\n"
     ]
    },
    {
     "name": "stderr",
     "output_type": "stream",
     "text": [
      "[I 2024-12-08 20:02:52,372] Trial 288 finished with value: 0.22956288098713018 and parameters: {'criterion': 'L1Loss', 'first_layer_size': 64, 'num_layers': 5, 'confidence_threshold': 0.0020857382795778927, 'dropout': 0.3638216712858169, 'lr': 0.008340781713422512, 'n_epochs': 111}. Best is trial 102 with value: 0.5595287869517588.\n"
     ]
    },
    {
     "name": "stdout",
     "output_type": "stream",
     "text": [
      "Trial 288 finished with value: 0.22956288098713018\n",
      "Best trial so far: 102, value: 0.5595287869517588\n"
     ]
    },
    {
     "name": "stderr",
     "output_type": "stream",
     "text": [
      "[I 2024-12-08 20:03:01,957] Trial 289 finished with value: 0.36040998234863686 and parameters: {'criterion': 'MSELoss', 'first_layer_size': 64, 'num_layers': 6, 'confidence_threshold': 0.0100404635045622, 'dropout': 0.34708003892518224, 'lr': 0.008890119890953318, 'n_epochs': 150}. Best is trial 102 with value: 0.5595287869517588.\n"
     ]
    },
    {
     "name": "stdout",
     "output_type": "stream",
     "text": [
      "Trial 289 finished with value: 0.36040998234863686\n",
      "Best trial so far: 102, value: 0.5595287869517588\n"
     ]
    },
    {
     "name": "stderr",
     "output_type": "stream",
     "text": [
      "[I 2024-12-08 20:03:18,266] Trial 290 finished with value: 0.5116043110364705 and parameters: {'criterion': 'MSELoss', 'first_layer_size': 64, 'num_layers': 5, 'confidence_threshold': 0.005399460795375614, 'dropout': 0.3617501804332927, 'lr': 0.0033452187138131332, 'n_epochs': 282}. Best is trial 102 with value: 0.5595287869517588.\n"
     ]
    },
    {
     "name": "stdout",
     "output_type": "stream",
     "text": [
      "Trial 290 finished with value: 0.5116043110364705\n",
      "Best trial so far: 102, value: 0.5595287869517588\n"
     ]
    },
    {
     "name": "stderr",
     "output_type": "stream",
     "text": [
      "[I 2024-12-08 20:03:27,097] Trial 291 finished with value: 0.5223863566759881 and parameters: {'criterion': 'MSELoss', 'first_layer_size': 64, 'num_layers': 5, 'confidence_threshold': 0.0038682881234737686, 'dropout': 0.3776245405730249, 'lr': 0.009153017460388851, 'n_epochs': 148}. Best is trial 102 with value: 0.5595287869517588.\n"
     ]
    },
    {
     "name": "stdout",
     "output_type": "stream",
     "text": [
      "Trial 291 finished with value: 0.5223863566759881\n",
      "Best trial so far: 102, value: 0.5595287869517588\n"
     ]
    },
    {
     "name": "stderr",
     "output_type": "stream",
     "text": [
      "[I 2024-12-08 20:03:36,172] Trial 292 finished with value: 0.5047838887610709 and parameters: {'criterion': 'MSELoss', 'first_layer_size': 64, 'num_layers': 5, 'confidence_threshold': 1.5767801519288305e-06, 'dropout': 0.35829885148635354, 'lr': 0.007603857967191839, 'n_epochs': 154}. Best is trial 102 with value: 0.5595287869517588.\n"
     ]
    },
    {
     "name": "stdout",
     "output_type": "stream",
     "text": [
      "Trial 292 finished with value: 0.5047838887610709\n",
      "Best trial so far: 102, value: 0.5595287869517588\n"
     ]
    },
    {
     "name": "stderr",
     "output_type": "stream",
     "text": [
      "[I 2024-12-08 20:03:43,395] Trial 293 finished with value: 0.15696895922093732 and parameters: {'criterion': 'MSELoss', 'first_layer_size': 64, 'num_layers': 7, 'confidence_threshold': 0.008726866898722409, 'dropout': 0.34093746562218735, 'lr': 0.001998700745097433, 'n_epochs': 100}. Best is trial 102 with value: 0.5595287869517588.\n"
     ]
    },
    {
     "name": "stdout",
     "output_type": "stream",
     "text": [
      "Trial 293 finished with value: 0.15696895922093732\n",
      "Best trial so far: 102, value: 0.5595287869517588\n"
     ]
    },
    {
     "name": "stderr",
     "output_type": "stream",
     "text": [
      "[I 2024-12-08 20:03:52,124] Trial 294 finished with value: 0.5231094973565777 and parameters: {'criterion': 'MSELoss', 'first_layer_size': 64, 'num_layers': 5, 'confidence_threshold': 0.007045678231792942, 'dropout': 0.3597605293260702, 'lr': 0.008447508645118937, 'n_epochs': 154}. Best is trial 102 with value: 0.5595287869517588.\n"
     ]
    },
    {
     "name": "stdout",
     "output_type": "stream",
     "text": [
      "Trial 294 finished with value: 0.5231094973565777\n",
      "Best trial so far: 102, value: 0.5595287869517588\n"
     ]
    },
    {
     "name": "stderr",
     "output_type": "stream",
     "text": [
      "[I 2024-12-08 20:03:58,568] Trial 295 finished with value: 0.16988380767513056 and parameters: {'criterion': 'MSELoss', 'first_layer_size': 64, 'num_layers': 6, 'confidence_threshold': 0.0020567994053659194, 'dropout': 0.3573866478235395, 'lr': 0.009357305243380416, 'n_epochs': 100}. Best is trial 102 with value: 0.5595287869517588.\n"
     ]
    },
    {
     "name": "stdout",
     "output_type": "stream",
     "text": [
      "Trial 295 finished with value: 0.16988380767513056\n",
      "Best trial so far: 102, value: 0.5595287869517588\n"
     ]
    },
    {
     "name": "stderr",
     "output_type": "stream",
     "text": [
      "[I 2024-12-08 20:04:07,298] Trial 296 finished with value: 0.5191749032749293 and parameters: {'criterion': 'MSELoss', 'first_layer_size': 64, 'num_layers': 5, 'confidence_threshold': 0.0030075708212767708, 'dropout': 0.36190643705114856, 'lr': 0.008747748315376919, 'n_epochs': 152}. Best is trial 102 with value: 0.5595287869517588.\n"
     ]
    },
    {
     "name": "stdout",
     "output_type": "stream",
     "text": [
      "Trial 296 finished with value: 0.5191749032749293\n",
      "Best trial so far: 102, value: 0.5595287869517588\n"
     ]
    },
    {
     "name": "stderr",
     "output_type": "stream",
     "text": [
      "[I 2024-12-08 20:04:14,402] Trial 297 finished with value: 0.0 and parameters: {'criterion': 'MSELoss', 'first_layer_size': 64, 'num_layers': 7, 'confidence_threshold': 0.020599937811781405, 'dropout': 0.34596456360135563, 'lr': 0.008131612277986288, 'n_epochs': 100}. Best is trial 102 with value: 0.5595287869517588.\n"
     ]
    },
    {
     "name": "stdout",
     "output_type": "stream",
     "text": [
      "Trial 297 finished with value: 0.0\n",
      "Best trial so far: 102, value: 0.5595287869517588\n"
     ]
    },
    {
     "name": "stderr",
     "output_type": "stream",
     "text": [
      "[I 2024-12-08 20:04:20,464] Trial 298 finished with value: 0.5082049608569732 and parameters: {'criterion': 'MSELoss', 'first_layer_size': 64, 'num_layers': 5, 'confidence_threshold': 0.0009198636213500638, 'dropout': 0.2937125814829108, 'lr': 0.009147341577148575, 'n_epochs': 103}. Best is trial 102 with value: 0.5595287869517588.\n"
     ]
    },
    {
     "name": "stdout",
     "output_type": "stream",
     "text": [
      "Trial 298 finished with value: 0.5082049608569732\n",
      "Best trial so far: 102, value: 0.5595287869517588\n"
     ]
    },
    {
     "name": "stderr",
     "output_type": "stream",
     "text": [
      "[I 2024-12-08 20:04:33,130] Trial 299 finished with value: 0.3543917058149276 and parameters: {'criterion': 'MSELoss', 'first_layer_size': 64, 'num_layers': 7, 'confidence_threshold': 0.006041507156552036, 'dropout': 0.34885388042579984, 'lr': 0.008721534896845167, 'n_epochs': 171}. Best is trial 102 with value: 0.5595287869517588.\n"
     ]
    },
    {
     "name": "stdout",
     "output_type": "stream",
     "text": [
      "Trial 299 finished with value: 0.3543917058149276\n",
      "Best trial so far: 102, value: 0.5595287869517588\n"
     ]
    },
    {
     "name": "stderr",
     "output_type": "stream",
     "text": [
      "[I 2024-12-08 20:04:37,957] Trial 300 finished with value: 0.30308891069595617 and parameters: {'criterion': 'MSELoss', 'first_layer_size': 16, 'num_layers': 4, 'confidence_threshold': 0.00447734053755838, 'dropout': 0.3362947007975571, 'lr': 0.00940483998694887, 'n_epochs': 107}. Best is trial 102 with value: 0.5595287869517588.\n"
     ]
    },
    {
     "name": "stdout",
     "output_type": "stream",
     "text": [
      "Trial 300 finished with value: 0.30308891069595617\n",
      "Best trial so far: 102, value: 0.5595287869517588\n"
     ]
    },
    {
     "name": "stderr",
     "output_type": "stream",
     "text": [
      "[I 2024-12-08 20:04:44,232] Trial 301 finished with value: 0.0 and parameters: {'criterion': 'MSELoss', 'first_layer_size': 64, 'num_layers': 6, 'confidence_threshold': 0.03441575141728804, 'dropout': 0.32739199877546904, 'lr': 0.0026429855679978797, 'n_epochs': 100}. Best is trial 102 with value: 0.5595287869517588.\n"
     ]
    },
    {
     "name": "stdout",
     "output_type": "stream",
     "text": [
      "Trial 301 finished with value: 0.0\n",
      "Best trial so far: 102, value: 0.5595287869517588\n"
     ]
    },
    {
     "name": "stderr",
     "output_type": "stream",
     "text": [
      "[I 2024-12-08 20:04:53,805] Trial 302 finished with value: 0.44890896669744074 and parameters: {'criterion': 'MSELoss', 'first_layer_size': 12, 'num_layers': 3, 'confidence_threshold': 0.0018517927579681367, 'dropout': 0.35246031051531007, 'lr': 0.00802828588982136, 'n_epochs': 194}. Best is trial 102 with value: 0.5595287869517588.\n"
     ]
    },
    {
     "name": "stdout",
     "output_type": "stream",
     "text": [
      "Trial 302 finished with value: 0.44890896669744074\n",
      "Best trial so far: 102, value: 0.5595287869517588\n"
     ]
    },
    {
     "name": "stderr",
     "output_type": "stream",
     "text": [
      "[I 2024-12-08 20:05:03,443] Trial 303 finished with value: 0.5262927754449663 and parameters: {'criterion': 'MSELoss', 'first_layer_size': 64, 'num_layers': 5, 'confidence_threshold': 0.0074117622227072785, 'dropout': 0.32981900103991474, 'lr': 0.007456088127674943, 'n_epochs': 168}. Best is trial 102 with value: 0.5595287869517588.\n"
     ]
    },
    {
     "name": "stdout",
     "output_type": "stream",
     "text": [
      "Trial 303 finished with value: 0.5262927754449663\n",
      "Best trial so far: 102, value: 0.5595287869517588\n"
     ]
    },
    {
     "name": "stderr",
     "output_type": "stream",
     "text": [
      "[I 2024-12-08 20:05:11,137] Trial 304 finished with value: 0.1221835075493612 and parameters: {'criterion': 'MSELoss', 'first_layer_size': 64, 'num_layers': 7, 'confidence_threshold': 0.014146514106444331, 'dropout': 0.3558973821769235, 'lr': 0.009613944914975452, 'n_epochs': 108}. Best is trial 102 with value: 0.5595287869517588.\n"
     ]
    },
    {
     "name": "stdout",
     "output_type": "stream",
     "text": [
      "Trial 304 finished with value: 0.1221835075493612\n",
      "Best trial so far: 102, value: 0.5595287869517588\n"
     ]
    },
    {
     "name": "stderr",
     "output_type": "stream",
     "text": [
      "[I 2024-12-08 20:05:21,630] Trial 305 finished with value: 0.5400821006751221 and parameters: {'criterion': 'MSELoss', 'first_layer_size': 64, 'num_layers': 5, 'confidence_threshold': 0.0034327756297367774, 'dropout': 0.3636875973847398, 'lr': 0.00888977953290379, 'n_epochs': 179}. Best is trial 102 with value: 0.5595287869517588.\n"
     ]
    },
    {
     "name": "stdout",
     "output_type": "stream",
     "text": [
      "Trial 305 finished with value: 0.5400821006751221\n",
      "Best trial so far: 102, value: 0.5595287869517588\n"
     ]
    },
    {
     "name": "stderr",
     "output_type": "stream",
     "text": [
      "[I 2024-12-08 20:05:30,071] Trial 306 finished with value: 0.5026306460188305 and parameters: {'criterion': 'MSELoss', 'first_layer_size': 32, 'num_layers': 4, 'confidence_threshold': 0.0029558576917955953, 'dropout': 0.35000472162625623, 'lr': 0.009012994893548811, 'n_epochs': 167}. Best is trial 102 with value: 0.5595287869517588.\n"
     ]
    },
    {
     "name": "stdout",
     "output_type": "stream",
     "text": [
      "Trial 306 finished with value: 0.5026306460188305\n",
      "Best trial so far: 102, value: 0.5595287869517588\n"
     ]
    },
    {
     "name": "stderr",
     "output_type": "stream",
     "text": [
      "[I 2024-12-08 20:05:39,360] Trial 307 finished with value: 0.5296581977744865 and parameters: {'criterion': 'MSELoss', 'first_layer_size': 64, 'num_layers': 5, 'confidence_threshold': 0.0011518439545541669, 'dropout': 0.36500259164288346, 'lr': 0.009598126135490225, 'n_epochs': 163}. Best is trial 102 with value: 0.5595287869517588.\n"
     ]
    },
    {
     "name": "stdout",
     "output_type": "stream",
     "text": [
      "Trial 307 finished with value: 0.5296581977744865\n",
      "Best trial so far: 102, value: 0.5595287869517588\n"
     ]
    },
    {
     "name": "stderr",
     "output_type": "stream",
     "text": [
      "[I 2024-12-08 20:05:51,891] Trial 308 finished with value: 0.2774812947557105 and parameters: {'criterion': 'MSELoss', 'first_layer_size': 64, 'num_layers': 7, 'confidence_threshold': 0.003798229963634913, 'dropout': 0.3631705922245172, 'lr': 0.008417365415045085, 'n_epochs': 171}. Best is trial 102 with value: 0.5595287869517588.\n"
     ]
    },
    {
     "name": "stdout",
     "output_type": "stream",
     "text": [
      "Trial 308 finished with value: 0.2774812947557105\n",
      "Best trial so far: 102, value: 0.5595287869517588\n"
     ]
    },
    {
     "name": "stderr",
     "output_type": "stream",
     "text": [
      "[I 2024-12-08 20:06:02,066] Trial 309 finished with value: 0.22825452827343842 and parameters: {'criterion': 'MSELoss', 'first_layer_size': 64, 'num_layers': 7, 'confidence_threshold': 0.0020669513515624194, 'dropout': 0.3703413912239855, 'lr': 0.009020171471766704, 'n_epochs': 136}. Best is trial 102 with value: 0.5595287869517588.\n"
     ]
    },
    {
     "name": "stdout",
     "output_type": "stream",
     "text": [
      "Trial 309 finished with value: 0.22825452827343842\n",
      "Best trial so far: 102, value: 0.5595287869517588\n"
     ]
    },
    {
     "name": "stderr",
     "output_type": "stream",
     "text": [
      "[I 2024-12-08 20:06:12,471] Trial 310 finished with value: 0.5450327057924866 and parameters: {'criterion': 'MSELoss', 'first_layer_size': 64, 'num_layers': 5, 'confidence_threshold': 0.0008314206922614854, 'dropout': 0.36658779573309225, 'lr': 0.00832990382081459, 'n_epochs': 179}. Best is trial 102 with value: 0.5595287869517588.\n"
     ]
    },
    {
     "name": "stdout",
     "output_type": "stream",
     "text": [
      "Trial 310 finished with value: 0.5450327057924866\n",
      "Best trial so far: 102, value: 0.5595287869517588\n"
     ]
    },
    {
     "name": "stderr",
     "output_type": "stream",
     "text": [
      "[I 2024-12-08 20:06:19,621] Trial 311 finished with value: 0.17979821213936575 and parameters: {'criterion': 'L1Loss', 'first_layer_size': 64, 'num_layers': 5, 'confidence_threshold': 0.0008212965691150149, 'dropout': 0.3674290394082427, 'lr': 0.007748836024143911, 'n_epochs': 124}. Best is trial 102 with value: 0.5595287869517588.\n"
     ]
    },
    {
     "name": "stdout",
     "output_type": "stream",
     "text": [
      "Trial 311 finished with value: 0.17979821213936575\n",
      "Best trial so far: 102, value: 0.5595287869517588\n"
     ]
    },
    {
     "name": "stderr",
     "output_type": "stream",
     "text": [
      "[I 2024-12-08 20:06:28,695] Trial 312 finished with value: 0.5210848429513371 and parameters: {'criterion': 'MSELoss', 'first_layer_size': 64, 'num_layers': 5, 'confidence_threshold': 0.00021361656854397473, 'dropout': 0.3662816288478751, 'lr': 0.00823811168593636, 'n_epochs': 159}. Best is trial 102 with value: 0.5595287869517588.\n"
     ]
    },
    {
     "name": "stdout",
     "output_type": "stream",
     "text": [
      "Trial 312 finished with value: 0.5210848429513371\n",
      "Best trial so far: 102, value: 0.5595287869517588\n"
     ]
    },
    {
     "name": "stderr",
     "output_type": "stream",
     "text": [
      "[I 2024-12-08 20:06:37,741] Trial 313 finished with value: 0.5343854050272134 and parameters: {'criterion': 'MSELoss', 'first_layer_size': 64, 'num_layers': 5, 'confidence_threshold': 0.002938897111386188, 'dropout': 0.3645609778206687, 'lr': 0.00851417323747066, 'n_epochs': 156}. Best is trial 102 with value: 0.5595287869517588.\n"
     ]
    },
    {
     "name": "stdout",
     "output_type": "stream",
     "text": [
      "Trial 313 finished with value: 0.5343854050272134\n",
      "Best trial so far: 102, value: 0.5595287869517588\n"
     ]
    },
    {
     "name": "stderr",
     "output_type": "stream",
     "text": [
      "[I 2024-12-08 20:06:45,098] Trial 314 finished with value: 0.45289027271042315 and parameters: {'criterion': 'MSELoss', 'first_layer_size': 64, 'num_layers': 5, 'confidence_threshold': 0.0016021193321946363, 'dropout': 0.3643170890803633, 'lr': 0.007927894393432186, 'n_epochs': 127}. Best is trial 102 with value: 0.5595287869517588.\n"
     ]
    },
    {
     "name": "stdout",
     "output_type": "stream",
     "text": [
      "Trial 314 finished with value: 0.45289027271042315\n",
      "Best trial so far: 102, value: 0.5595287869517588\n"
     ]
    },
    {
     "name": "stderr",
     "output_type": "stream",
     "text": [
      "[I 2024-12-08 20:06:55,820] Trial 315 finished with value: 0.5334577824525925 and parameters: {'criterion': 'MSELoss', 'first_layer_size': 64, 'num_layers': 5, 'confidence_threshold': 0.004100298027393043, 'dropout': 0.3685044128084259, 'lr': 0.009351879515631314, 'n_epochs': 189}. Best is trial 102 with value: 0.5595287869517588.\n"
     ]
    },
    {
     "name": "stdout",
     "output_type": "stream",
     "text": [
      "Trial 315 finished with value: 0.5334577824525925\n",
      "Best trial so far: 102, value: 0.5595287869517588\n"
     ]
    },
    {
     "name": "stderr",
     "output_type": "stream",
     "text": [
      "[I 2024-12-08 20:07:03,249] Trial 316 finished with value: 0.5249746647749116 and parameters: {'criterion': 'MSELoss', 'first_layer_size': 64, 'num_layers': 5, 'confidence_threshold': 0.0009162442656909901, 'dropout': 0.3180857407180085, 'lr': 0.009951632468194775, 'n_epochs': 128}. Best is trial 102 with value: 0.5595287869517588.\n"
     ]
    },
    {
     "name": "stdout",
     "output_type": "stream",
     "text": [
      "Trial 316 finished with value: 0.5249746647749116\n",
      "Best trial so far: 102, value: 0.5595287869517588\n"
     ]
    },
    {
     "name": "stderr",
     "output_type": "stream",
     "text": [
      "[I 2024-12-08 20:07:09,817] Trial 317 finished with value: 0.16539769331020765 and parameters: {'criterion': 'MSELoss', 'first_layer_size': 64, 'num_layers': 6, 'confidence_threshold': 0.0030143284534061617, 'dropout': 0.37297481250323794, 'lr': 0.008645217440302425, 'n_epochs': 100}. Best is trial 102 with value: 0.5595287869517588.\n"
     ]
    },
    {
     "name": "stdout",
     "output_type": "stream",
     "text": [
      "Trial 317 finished with value: 0.16539769331020765\n",
      "Best trial so far: 102, value: 0.5595287869517588\n"
     ]
    },
    {
     "name": "stderr",
     "output_type": "stream",
     "text": [
      "[I 2024-12-08 20:07:18,634] Trial 318 finished with value: 0.5319903036985532 and parameters: {'criterion': 'MSELoss', 'first_layer_size': 64, 'num_layers': 5, 'confidence_threshold': 0.00488266749492316, 'dropout': 0.36288370922733015, 'lr': 0.009097645311268141, 'n_epochs': 151}. Best is trial 102 with value: 0.5595287869517588.\n"
     ]
    },
    {
     "name": "stdout",
     "output_type": "stream",
     "text": [
      "Trial 318 finished with value: 0.5319903036985532\n",
      "Best trial so far: 102, value: 0.5595287869517588\n"
     ]
    },
    {
     "name": "stderr",
     "output_type": "stream",
     "text": [
      "[I 2024-12-08 20:07:28,932] Trial 319 finished with value: 0.5369678449881209 and parameters: {'criterion': 'MSELoss', 'first_layer_size': 64, 'num_layers': 5, 'confidence_threshold': 4.938001488019031e-06, 'dropout': 0.3798239847163041, 'lr': 0.008236582048121487, 'n_epochs': 178}. Best is trial 102 with value: 0.5595287869517588.\n"
     ]
    },
    {
     "name": "stdout",
     "output_type": "stream",
     "text": [
      "Trial 319 finished with value: 0.5369678449881209\n",
      "Best trial so far: 102, value: 0.5595287869517588\n"
     ]
    },
    {
     "name": "stderr",
     "output_type": "stream",
     "text": [
      "[I 2024-12-08 20:07:35,981] Trial 320 finished with value: 0.4037648253038634 and parameters: {'criterion': 'MSELoss', 'first_layer_size': 64, 'num_layers': 5, 'confidence_threshold': 0.005772563495465612, 'dropout': 0.36677304581858383, 'lr': 0.009446619688333801, 'n_epochs': 120}. Best is trial 102 with value: 0.5595287869517588.\n"
     ]
    },
    {
     "name": "stdout",
     "output_type": "stream",
     "text": [
      "Trial 320 finished with value: 0.4037648253038634\n",
      "Best trial so far: 102, value: 0.5595287869517588\n"
     ]
    },
    {
     "name": "stderr",
     "output_type": "stream",
     "text": [
      "[I 2024-12-08 20:07:43,632] Trial 321 finished with value: 0.22752884761404196 and parameters: {'criterion': 'MSELoss', 'first_layer_size': 64, 'num_layers': 6, 'confidence_threshold': 0.0021309005339098944, 'dropout': 0.3430561088617979, 'lr': 0.008878466491081977, 'n_epochs': 114}. Best is trial 102 with value: 0.5595287869517588.\n"
     ]
    },
    {
     "name": "stdout",
     "output_type": "stream",
     "text": [
      "Trial 321 finished with value: 0.22752884761404196\n",
      "Best trial so far: 102, value: 0.5595287869517588\n"
     ]
    },
    {
     "name": "stderr",
     "output_type": "stream",
     "text": [
      "[I 2024-12-08 20:07:53,527] Trial 322 finished with value: 0.5438857891082426 and parameters: {'criterion': 'MSELoss', 'first_layer_size': 64, 'num_layers': 5, 'confidence_threshold': 0.0014536617687539296, 'dropout': 0.37103513964919826, 'lr': 0.00849025285300434, 'n_epochs': 172}. Best is trial 102 with value: 0.5595287869517588.\n"
     ]
    },
    {
     "name": "stdout",
     "output_type": "stream",
     "text": [
      "Trial 322 finished with value: 0.5438857891082426\n",
      "Best trial so far: 102, value: 0.5595287869517588\n"
     ]
    },
    {
     "name": "stderr",
     "output_type": "stream",
     "text": [
      "[I 2024-12-08 20:08:03,486] Trial 323 finished with value: 0.5348506818202391 and parameters: {'criterion': 'MSELoss', 'first_layer_size': 64, 'num_layers': 5, 'confidence_threshold': 0.0034214126683661025, 'dropout': 0.37041353593449655, 'lr': 0.007475498938822603, 'n_epochs': 175}. Best is trial 102 with value: 0.5595287869517588.\n"
     ]
    },
    {
     "name": "stdout",
     "output_type": "stream",
     "text": [
      "Trial 323 finished with value: 0.5348506818202391\n",
      "Best trial so far: 102, value: 0.5595287869517588\n"
     ]
    },
    {
     "name": "stderr",
     "output_type": "stream",
     "text": [
      "[I 2024-12-08 20:08:10,597] Trial 324 finished with value: 0.45167821790101936 and parameters: {'criterion': 'MSELoss', 'first_layer_size': 64, 'num_layers': 5, 'confidence_threshold': 0.00659274683346722, 'dropout': 0.36899473301723323, 'lr': 0.007803581308946786, 'n_epochs': 126}. Best is trial 102 with value: 0.5595287869517588.\n"
     ]
    },
    {
     "name": "stdout",
     "output_type": "stream",
     "text": [
      "Trial 324 finished with value: 0.45167821790101936\n",
      "Best trial so far: 102, value: 0.5595287869517588\n"
     ]
    },
    {
     "name": "stderr",
     "output_type": "stream",
     "text": [
      "[I 2024-12-08 20:08:14,989] Trial 325 finished with value: 0.22531685099611293 and parameters: {'criterion': 'MSELoss', 'first_layer_size': 16, 'num_layers': 4, 'confidence_threshold': 0.007987502854921167, 'dropout': 0.36569297007733526, 'lr': 0.009659397750893582, 'n_epochs': 100}. Best is trial 102 with value: 0.5595287869517588.\n"
     ]
    },
    {
     "name": "stdout",
     "output_type": "stream",
     "text": [
      "Trial 325 finished with value: 0.22531685099611293\n",
      "Best trial so far: 102, value: 0.5595287869517588\n"
     ]
    },
    {
     "name": "stderr",
     "output_type": "stream",
     "text": [
      "[I 2024-12-08 20:08:21,851] Trial 326 finished with value: 0.15298588135093527 and parameters: {'criterion': 'MSELoss', 'first_layer_size': 64, 'num_layers': 6, 'confidence_threshold': 0.0024018648620690256, 'dropout': 0.3721005770410512, 'lr': 0.00831787469391492, 'n_epochs': 100}. Best is trial 102 with value: 0.5595287869517588.\n"
     ]
    },
    {
     "name": "stdout",
     "output_type": "stream",
     "text": [
      "Trial 326 finished with value: 0.15298588135093527\n",
      "Best trial so far: 102, value: 0.5595287869517588\n"
     ]
    },
    {
     "name": "stderr",
     "output_type": "stream",
     "text": [
      "[I 2024-12-08 20:08:30,135] Trial 327 finished with value: 0.053497942386831275 and parameters: {'criterion': 'MSELoss', 'first_layer_size': 64, 'num_layers': 8, 'confidence_threshold': 0.0015293072920023474, 'dropout': 0.3625950657061456, 'lr': 0.009208908300162478, 'n_epochs': 100}. Best is trial 102 with value: 0.5595287869517588.\n"
     ]
    },
    {
     "name": "stdout",
     "output_type": "stream",
     "text": [
      "Trial 327 finished with value: 0.053497942386831275\n",
      "Best trial so far: 102, value: 0.5595287869517588\n"
     ]
    },
    {
     "name": "stderr",
     "output_type": "stream",
     "text": [
      "[I 2024-12-08 20:08:39,272] Trial 328 finished with value: 0.5219012965245727 and parameters: {'criterion': 'MSELoss', 'first_layer_size': 64, 'num_layers': 5, 'confidence_threshold': 0.004028302126444581, 'dropout': 0.3609039403293802, 'lr': 0.008731159891529516, 'n_epochs': 157}. Best is trial 102 with value: 0.5595287869517588.\n"
     ]
    },
    {
     "name": "stdout",
     "output_type": "stream",
     "text": [
      "Trial 328 finished with value: 0.5219012965245727\n",
      "Best trial so far: 102, value: 0.5595287869517588\n"
     ]
    },
    {
     "name": "stderr",
     "output_type": "stream",
     "text": [
      "[I 2024-12-08 20:08:47,993] Trial 329 finished with value: 0.5409006383322948 and parameters: {'criterion': 'MSELoss', 'first_layer_size': 64, 'num_layers': 5, 'confidence_threshold': 0.005311251461286474, 'dropout': 0.36601412324758253, 'lr': 0.008294634778619277, 'n_epochs': 153}. Best is trial 102 with value: 0.5595287869517588.\n"
     ]
    },
    {
     "name": "stdout",
     "output_type": "stream",
     "text": [
      "Trial 329 finished with value: 0.5409006383322948\n",
      "Best trial so far: 102, value: 0.5595287869517588\n"
     ]
    },
    {
     "name": "stderr",
     "output_type": "stream",
     "text": [
      "[I 2024-12-08 20:08:57,127] Trial 330 finished with value: 0.42812337335088635 and parameters: {'criterion': 'MSELoss', 'first_layer_size': 12, 'num_layers': 3, 'confidence_threshold': 0.006102683303287054, 'dropout': 0.36748662239711677, 'lr': 0.008417565876764897, 'n_epochs': 189}. Best is trial 102 with value: 0.5595287869517588.\n"
     ]
    },
    {
     "name": "stdout",
     "output_type": "stream",
     "text": [
      "Trial 330 finished with value: 0.42812337335088635\n",
      "Best trial so far: 102, value: 0.5595287869517588\n"
     ]
    },
    {
     "name": "stderr",
     "output_type": "stream",
     "text": [
      "[I 2024-12-08 20:09:07,485] Trial 331 finished with value: 0.525245300020825 and parameters: {'criterion': 'MSELoss', 'first_layer_size': 64, 'num_layers': 5, 'confidence_threshold': 0.004976244890950231, 'dropout': 0.37105476170449697, 'lr': 0.009211932987686003, 'n_epochs': 179}. Best is trial 102 with value: 0.5595287869517588.\n"
     ]
    },
    {
     "name": "stdout",
     "output_type": "stream",
     "text": [
      "Trial 331 finished with value: 0.525245300020825\n",
      "Best trial so far: 102, value: 0.5595287869517588\n"
     ]
    },
    {
     "name": "stderr",
     "output_type": "stream",
     "text": [
      "[I 2024-12-08 20:09:17,518] Trial 332 finished with value: 0.3857840989177514 and parameters: {'criterion': 'L1Loss', 'first_layer_size': 64, 'num_layers': 5, 'confidence_threshold': 0.0023994882525199854, 'dropout': 0.3760427527701795, 'lr': 0.00976483363695689, 'n_epochs': 172}. Best is trial 102 with value: 0.5595287869517588.\n"
     ]
    },
    {
     "name": "stdout",
     "output_type": "stream",
     "text": [
      "Trial 332 finished with value: 0.3857840989177514\n",
      "Best trial so far: 102, value: 0.5595287869517588\n"
     ]
    },
    {
     "name": "stderr",
     "output_type": "stream",
     "text": [
      "[I 2024-12-08 20:09:25,828] Trial 333 finished with value: 0.507361107367519 and parameters: {'criterion': 'MSELoss', 'first_layer_size': 32, 'num_layers': 4, 'confidence_threshold': 0.001289235721025428, 'dropout': 0.3653673396858235, 'lr': 0.008837028271044513, 'n_epochs': 167}. Best is trial 102 with value: 0.5595287869517588.\n"
     ]
    },
    {
     "name": "stdout",
     "output_type": "stream",
     "text": [
      "Trial 333 finished with value: 0.507361107367519\n",
      "Best trial so far: 102, value: 0.5595287869517588\n"
     ]
    },
    {
     "name": "stderr",
     "output_type": "stream",
     "text": [
      "[I 2024-12-08 20:09:35,575] Trial 334 finished with value: 0.5194957675450695 and parameters: {'criterion': 'MSELoss', 'first_layer_size': 64, 'num_layers': 5, 'confidence_threshold': 0.003597610592772631, 'dropout': 0.3246991371783917, 'lr': 0.008049997983204594, 'n_epochs': 170}. Best is trial 102 with value: 0.5595287869517588.\n"
     ]
    },
    {
     "name": "stdout",
     "output_type": "stream",
     "text": [
      "Trial 334 finished with value: 0.5194957675450695\n",
      "Best trial so far: 102, value: 0.5595287869517588\n"
     ]
    },
    {
     "name": "stderr",
     "output_type": "stream",
     "text": [
      "[I 2024-12-08 20:09:44,599] Trial 335 finished with value: 0.5402280027207167 and parameters: {'criterion': 'MSELoss', 'first_layer_size': 64, 'num_layers': 5, 'confidence_threshold': 9.927228664275431e-05, 'dropout': 0.36482514021202217, 'lr': 0.009320241382904017, 'n_epochs': 157}. Best is trial 102 with value: 0.5595287869517588.\n"
     ]
    },
    {
     "name": "stdout",
     "output_type": "stream",
     "text": [
      "Trial 335 finished with value: 0.5402280027207167\n",
      "Best trial so far: 102, value: 0.5595287869517588\n"
     ]
    },
    {
     "name": "stderr",
     "output_type": "stream",
     "text": [
      "[I 2024-12-08 20:09:51,605] Trial 336 finished with value: 0.4823331978410148 and parameters: {'criterion': 'MSELoss', 'first_layer_size': 64, 'num_layers': 5, 'confidence_threshold': 0.000525731411629741, 'dropout': 0.3696559013043392, 'lr': 0.009647757315037307, 'n_epochs': 121}. Best is trial 102 with value: 0.5595287869517588.\n"
     ]
    },
    {
     "name": "stdout",
     "output_type": "stream",
     "text": [
      "Trial 336 finished with value: 0.4823331978410148\n",
      "Best trial so far: 102, value: 0.5595287869517588\n"
     ]
    },
    {
     "name": "stderr",
     "output_type": "stream",
     "text": [
      "[I 2024-12-08 20:10:00,574] Trial 337 finished with value: 0.530418551576995 and parameters: {'criterion': 'MSELoss', 'first_layer_size': 64, 'num_layers': 5, 'confidence_threshold': 0.0009111878705557356, 'dropout': 0.36602029699370753, 'lr': 0.008497824284018695, 'n_epochs': 152}. Best is trial 102 with value: 0.5595287869517588.\n"
     ]
    },
    {
     "name": "stdout",
     "output_type": "stream",
     "text": [
      "Trial 337 finished with value: 0.530418551576995\n",
      "Best trial so far: 102, value: 0.5595287869517588\n"
     ]
    },
    {
     "name": "stderr",
     "output_type": "stream",
     "text": [
      "[I 2024-12-08 20:10:09,091] Trial 338 finished with value: 0.5350171715960361 and parameters: {'criterion': 'MSELoss', 'first_layer_size': 64, 'num_layers': 5, 'confidence_threshold': 0.00026169144677651085, 'dropout': 0.3644092712586361, 'lr': 0.009975842246785193, 'n_epochs': 147}. Best is trial 102 with value: 0.5595287869517588.\n"
     ]
    },
    {
     "name": "stdout",
     "output_type": "stream",
     "text": [
      "Trial 338 finished with value: 0.5350171715960361\n",
      "Best trial so far: 102, value: 0.5595287869517588\n"
     ]
    },
    {
     "name": "stderr",
     "output_type": "stream",
     "text": [
      "[I 2024-12-08 20:10:17,984] Trial 339 finished with value: 0.5361348246090166 and parameters: {'criterion': 'MSELoss', 'first_layer_size': 64, 'num_layers': 5, 'confidence_threshold': 5.4692666142701605e-05, 'dropout': 0.3640727167464563, 'lr': 0.008977589994477482, 'n_epochs': 152}. Best is trial 102 with value: 0.5595287869517588.\n"
     ]
    },
    {
     "name": "stdout",
     "output_type": "stream",
     "text": [
      "Trial 339 finished with value: 0.5361348246090166\n",
      "Best trial so far: 102, value: 0.5595287869517588\n"
     ]
    },
    {
     "name": "stderr",
     "output_type": "stream",
     "text": [
      "[I 2024-12-08 20:10:26,671] Trial 340 finished with value: 0.43675983261152806 and parameters: {'criterion': 'MSELoss', 'first_layer_size': 64, 'num_layers': 5, 'confidence_threshold': 0.0016729106548064618, 'dropout': 0.3670548734328636, 'lr': 0.00947600806895565, 'n_epochs': 125}. Best is trial 102 with value: 0.5595287869517588.\n"
     ]
    },
    {
     "name": "stdout",
     "output_type": "stream",
     "text": [
      "Trial 340 finished with value: 0.43675983261152806\n",
      "Best trial so far: 102, value: 0.5595287869517588\n"
     ]
    },
    {
     "name": "stderr",
     "output_type": "stream",
     "text": [
      "[I 2024-12-08 20:10:38,501] Trial 341 finished with value: 0.12009184845005742 and parameters: {'criterion': 'MSELoss', 'first_layer_size': 64, 'num_layers': 7, 'confidence_threshold': 0.002619971321097673, 'dropout': 0.3687659883227865, 'lr': 0.00824307403077682, 'n_epochs': 139}. Best is trial 102 with value: 0.5595287869517588.\n"
     ]
    },
    {
     "name": "stdout",
     "output_type": "stream",
     "text": [
      "Trial 341 finished with value: 0.12009184845005742\n",
      "Best trial so far: 102, value: 0.5595287869517588\n"
     ]
    },
    {
     "name": "stderr",
     "output_type": "stream",
     "text": [
      "[I 2024-12-08 20:10:48,267] Trial 342 finished with value: 0.5329019847627435 and parameters: {'criterion': 'MSELoss', 'first_layer_size': 64, 'num_layers': 5, 'confidence_threshold': 0.0014923831942582335, 'dropout': 0.3621488820143591, 'lr': 0.008665441520653806, 'n_epochs': 150}. Best is trial 102 with value: 0.5595287869517588.\n"
     ]
    },
    {
     "name": "stdout",
     "output_type": "stream",
     "text": [
      "Trial 342 finished with value: 0.5329019847627435\n",
      "Best trial so far: 102, value: 0.5595287869517588\n"
     ]
    },
    {
     "name": "stderr",
     "output_type": "stream",
     "text": [
      "[I 2024-12-08 20:10:58,851] Trial 343 finished with value: 0.2199529411764706 and parameters: {'criterion': 'MSELoss', 'first_layer_size': 64, 'num_layers': 7, 'confidence_threshold': 3.175684401969352e-08, 'dropout': 0.3726963521265085, 'lr': 0.00929103398371454, 'n_epochs': 132}. Best is trial 102 with value: 0.5595287869517588.\n"
     ]
    },
    {
     "name": "stdout",
     "output_type": "stream",
     "text": [
      "Trial 343 finished with value: 0.2199529411764706\n",
      "Best trial so far: 102, value: 0.5595287869517588\n"
     ]
    },
    {
     "name": "stderr",
     "output_type": "stream",
     "text": [
      "[I 2024-12-08 20:11:07,535] Trial 344 finished with value: 0.4809503404719928 and parameters: {'criterion': 'MSELoss', 'first_layer_size': 64, 'num_layers': 5, 'confidence_threshold': 0.00263381544893784, 'dropout': 0.36319749184860506, 'lr': 0.007938885204472034, 'n_epochs': 147}. Best is trial 102 with value: 0.5595287869517588.\n"
     ]
    },
    {
     "name": "stdout",
     "output_type": "stream",
     "text": [
      "Trial 344 finished with value: 0.4809503404719928\n",
      "Best trial so far: 102, value: 0.5595287869517588\n"
     ]
    },
    {
     "name": "stderr",
     "output_type": "stream",
     "text": [
      "[I 2024-12-08 20:11:24,968] Trial 345 finished with value: 0.5251068794105592 and parameters: {'criterion': 'MSELoss', 'first_layer_size': 64, 'num_layers': 5, 'confidence_threshold': 0.0014866495924650885, 'dropout': 0.36722680253571155, 'lr': 0.003748156733224792, 'n_epochs': 291}. Best is trial 102 with value: 0.5595287869517588.\n"
     ]
    },
    {
     "name": "stdout",
     "output_type": "stream",
     "text": [
      "Trial 345 finished with value: 0.5251068794105592\n",
      "Best trial so far: 102, value: 0.5595287869517588\n"
     ]
    },
    {
     "name": "stderr",
     "output_type": "stream",
     "text": [
      "[I 2024-12-08 20:11:35,192] Trial 346 finished with value: 0.21355571471788296 and parameters: {'criterion': 'MSELoss', 'first_layer_size': 64, 'num_layers': 7, 'confidence_threshold': 0.003936385131098204, 'dropout': 0.3600435001028345, 'lr': 0.00897606265163465, 'n_epochs': 133}. Best is trial 102 with value: 0.5595287869517588.\n"
     ]
    },
    {
     "name": "stdout",
     "output_type": "stream",
     "text": [
      "Trial 346 finished with value: 0.21355571471788296\n",
      "Best trial so far: 102, value: 0.5595287869517588\n"
     ]
    },
    {
     "name": "stderr",
     "output_type": "stream",
     "text": [
      "[I 2024-12-08 20:11:41,004] Trial 347 finished with value: 0.02043881218082088 and parameters: {'criterion': 'MSELoss', 'first_layer_size': 64, 'num_layers': 5, 'confidence_threshold': 0.03720936782712128, 'dropout': 0.3653921676760622, 'lr': 0.009970107951368377, 'n_epochs': 100}. Best is trial 102 with value: 0.5595287869517588.\n"
     ]
    },
    {
     "name": "stdout",
     "output_type": "stream",
     "text": [
      "Trial 347 finished with value: 0.02043881218082088\n",
      "Best trial so far: 102, value: 0.5595287869517588\n"
     ]
    },
    {
     "name": "stderr",
     "output_type": "stream",
     "text": [
      "[I 2024-12-08 20:11:46,996] Trial 348 finished with value: 0.008648648648648647 and parameters: {'criterion': 'MSELoss', 'first_layer_size': 64, 'num_layers': 5, 'confidence_threshold': 0.002402049553293232, 'dropout': 0.3740562583531673, 'lr': 0.0010956582675153686, 'n_epochs': 100}. Best is trial 102 with value: 0.5595287869517588.\n"
     ]
    },
    {
     "name": "stdout",
     "output_type": "stream",
     "text": [
      "Trial 348 finished with value: 0.008648648648648647\n",
      "Best trial so far: 102, value: 0.5595287869517588\n"
     ]
    },
    {
     "name": "stderr",
     "output_type": "stream",
     "text": [
      "[I 2024-12-08 20:11:54,512] Trial 349 finished with value: 0.0916030534351145 and parameters: {'criterion': 'MSELoss', 'first_layer_size': 64, 'num_layers': 7, 'confidence_threshold': 0.0009278248773423348, 'dropout': 0.35809470100815854, 'lr': 0.008421134138294196, 'n_epochs': 100}. Best is trial 102 with value: 0.5595287869517588.\n"
     ]
    },
    {
     "name": "stdout",
     "output_type": "stream",
     "text": [
      "Trial 349 finished with value: 0.0916030534351145\n",
      "Best trial so far: 102, value: 0.5595287869517588\n"
     ]
    },
    {
     "name": "stderr",
     "output_type": "stream",
     "text": [
      "[I 2024-12-08 20:12:04,267] Trial 350 finished with value: 0.5348906001557958 and parameters: {'criterion': 'SmoothL1Loss', 'first_layer_size': 64, 'num_layers': 5, 'confidence_threshold': 0.0033503513223341348, 'dropout': 0.36295133013734154, 'lr': 0.007433178378115701, 'n_epochs': 165}. Best is trial 102 with value: 0.5595287869517588.\n"
     ]
    },
    {
     "name": "stdout",
     "output_type": "stream",
     "text": [
      "Trial 350 finished with value: 0.5348906001557958\n",
      "Best trial so far: 102, value: 0.5595287869517588\n"
     ]
    },
    {
     "name": "stderr",
     "output_type": "stream",
     "text": [
      "[I 2024-12-08 20:12:11,887] Trial 351 finished with value: 0.0 and parameters: {'criterion': 'MSELoss', 'first_layer_size': 64, 'num_layers': 7, 'confidence_threshold': 0.03257660573502949, 'dropout': 0.36988210423783413, 'lr': 0.009323682551070316, 'n_epochs': 100}. Best is trial 102 with value: 0.5595287869517588.\n"
     ]
    },
    {
     "name": "stdout",
     "output_type": "stream",
     "text": [
      "Trial 351 finished with value: 0.0\n",
      "Best trial so far: 102, value: 0.5595287869517588\n"
     ]
    },
    {
     "name": "stderr",
     "output_type": "stream",
     "text": [
      "[I 2024-12-08 20:12:23,407] Trial 352 finished with value: 0.5412113888789745 and parameters: {'criterion': 'MSELoss', 'first_layer_size': 64, 'num_layers': 5, 'confidence_threshold': 0.001757508595516146, 'dropout': 0.37563939574548216, 'lr': 0.008830568952236162, 'n_epochs': 189}. Best is trial 102 with value: 0.5595287869517588.\n"
     ]
    },
    {
     "name": "stdout",
     "output_type": "stream",
     "text": [
      "Trial 352 finished with value: 0.5412113888789745\n",
      "Best trial so far: 102, value: 0.5595287869517588\n"
     ]
    },
    {
     "name": "stderr",
     "output_type": "stream",
     "text": [
      "[I 2024-12-08 20:12:31,288] Trial 353 finished with value: 0.48391730624392293 and parameters: {'criterion': 'MSELoss', 'first_layer_size': 16, 'num_layers': 3, 'confidence_threshold': 0.0016865999275432115, 'dropout': 0.37558228212806655, 'lr': 0.008895365210601521, 'n_epochs': 190}. Best is trial 102 with value: 0.5595287869517588.\n"
     ]
    },
    {
     "name": "stdout",
     "output_type": "stream",
     "text": [
      "Trial 353 finished with value: 0.48391730624392293\n",
      "Best trial so far: 102, value: 0.5595287869517588\n"
     ]
    },
    {
     "name": "stderr",
     "output_type": "stream",
     "text": [
      "[I 2024-12-08 20:12:41,698] Trial 354 finished with value: 0.5222115272263184 and parameters: {'criterion': 'MSELoss', 'first_layer_size': 48, 'num_layers': 5, 'confidence_threshold': 0.001006388129662298, 'dropout': 0.3778216459668332, 'lr': 0.009584057226171415, 'n_epochs': 166}. Best is trial 102 with value: 0.5595287869517588.\n"
     ]
    },
    {
     "name": "stdout",
     "output_type": "stream",
     "text": [
      "Trial 354 finished with value: 0.5222115272263184\n",
      "Best trial so far: 102, value: 0.5595287869517588\n"
     ]
    },
    {
     "name": "stderr",
     "output_type": "stream",
     "text": [
      "[I 2024-12-08 20:12:52,974] Trial 355 finished with value: 0.45220926129428946 and parameters: {'criterion': 'MSELoss', 'first_layer_size': 12, 'num_layers': 3, 'confidence_threshold': 0.0025255326050382257, 'dropout': 0.37502179888984166, 'lr': 0.008092260759858359, 'n_epochs': 223}. Best is trial 102 with value: 0.5595287869517588.\n"
     ]
    },
    {
     "name": "stdout",
     "output_type": "stream",
     "text": [
      "Trial 355 finished with value: 0.45220926129428946\n",
      "Best trial so far: 102, value: 0.5595287869517588\n"
     ]
    },
    {
     "name": "stderr",
     "output_type": "stream",
     "text": [
      "[I 2024-12-08 20:13:00,883] Trial 356 finished with value: 0.010576923076923078 and parameters: {'criterion': 'L1Loss', 'first_layer_size': 64, 'num_layers': 7, 'confidence_threshold': 0.0017409139119517324, 'dropout': 0.37342710722913014, 'lr': 0.00918191488462637, 'n_epochs': 100}. Best is trial 102 with value: 0.5595287869517588.\n"
     ]
    },
    {
     "name": "stdout",
     "output_type": "stream",
     "text": [
      "Trial 356 finished with value: 0.010576923076923078\n",
      "Best trial so far: 102, value: 0.5595287869517588\n"
     ]
    },
    {
     "name": "stderr",
     "output_type": "stream",
     "text": [
      "[I 2024-12-08 20:13:13,048] Trial 357 finished with value: 0.5401239542219642 and parameters: {'criterion': 'MSELoss', 'first_layer_size': 64, 'num_layers': 5, 'confidence_threshold': 0.003125770893886039, 'dropout': 0.3787003948293432, 'lr': 0.008574734827049358, 'n_epochs': 192}. Best is trial 102 with value: 0.5595287869517588.\n"
     ]
    },
    {
     "name": "stdout",
     "output_type": "stream",
     "text": [
      "Trial 357 finished with value: 0.5401239542219642\n",
      "Best trial so far: 102, value: 0.5595287869517588\n"
     ]
    },
    {
     "name": "stderr",
     "output_type": "stream",
     "text": [
      "[I 2024-12-08 20:13:25,822] Trial 358 finished with value: 0.5383973762541815 and parameters: {'criterion': 'MSELoss', 'first_layer_size': 64, 'num_layers': 5, 'confidence_threshold': 1.0878617875002139e-05, 'dropout': 0.37812460655379604, 'lr': 0.008406438824185599, 'n_epochs': 192}. Best is trial 102 with value: 0.5595287869517588.\n"
     ]
    },
    {
     "name": "stdout",
     "output_type": "stream",
     "text": [
      "Trial 358 finished with value: 0.5383973762541815\n",
      "Best trial so far: 102, value: 0.5595287869517588\n"
     ]
    },
    {
     "name": "stderr",
     "output_type": "stream",
     "text": [
      "[I 2024-12-08 20:13:36,288] Trial 359 finished with value: 0.5151554517390168 and parameters: {'criterion': 'MSELoss', 'first_layer_size': 32, 'num_layers': 4, 'confidence_threshold': 0.002970591357357348, 'dropout': 0.37297311160575447, 'lr': 0.008657627455680258, 'n_epochs': 183}. Best is trial 102 with value: 0.5595287869517588.\n"
     ]
    },
    {
     "name": "stdout",
     "output_type": "stream",
     "text": [
      "Trial 359 finished with value: 0.5151554517390168\n",
      "Best trial so far: 102, value: 0.5595287869517588\n"
     ]
    },
    {
     "name": "stderr",
     "output_type": "stream",
     "text": [
      "[I 2024-12-08 20:13:44,435] Trial 360 finished with value: 0.10405117270788913 and parameters: {'criterion': 'MSELoss', 'first_layer_size': 64, 'num_layers': 7, 'confidence_threshold': 0.0033152559328206645, 'dropout': 0.37644375131714974, 'lr': 0.007914302541399028, 'n_epochs': 100}. Best is trial 102 with value: 0.5595287869517588.\n"
     ]
    },
    {
     "name": "stdout",
     "output_type": "stream",
     "text": [
      "Trial 360 finished with value: 0.10405117270788913\n",
      "Best trial so far: 102, value: 0.5595287869517588\n"
     ]
    },
    {
     "name": "stderr",
     "output_type": "stream",
     "text": [
      "[I 2024-12-08 20:13:55,198] Trial 361 finished with value: 0.5369035982689129 and parameters: {'criterion': 'MSELoss', 'first_layer_size': 64, 'num_layers': 5, 'confidence_threshold': 0.0020008490415705836, 'dropout': 0.3772485932947136, 'lr': 0.008212238364849338, 'n_epochs': 183}. Best is trial 102 with value: 0.5595287869517588.\n"
     ]
    },
    {
     "name": "stdout",
     "output_type": "stream",
     "text": [
      "Trial 361 finished with value: 0.5369035982689129\n",
      "Best trial so far: 102, value: 0.5595287869517588\n"
     ]
    },
    {
     "name": "stderr",
     "output_type": "stream",
     "text": [
      "[I 2024-12-08 20:14:13,212] Trial 362 finished with value: 0.4311994753136913 and parameters: {'criterion': 'MSELoss', 'first_layer_size': 64, 'num_layers': 7, 'confidence_threshold': 0.0010976013760807435, 'dropout': 0.3775472276960375, 'lr': 0.00761541146228226, 'n_epochs': 245}. Best is trial 102 with value: 0.5595287869517588.\n"
     ]
    },
    {
     "name": "stdout",
     "output_type": "stream",
     "text": [
      "Trial 362 finished with value: 0.4311994753136913\n",
      "Best trial so far: 102, value: 0.5595287869517588\n"
     ]
    },
    {
     "name": "stderr",
     "output_type": "stream",
     "text": [
      "[I 2024-12-08 20:14:23,148] Trial 363 finished with value: 0.5426377959972057 and parameters: {'criterion': 'MSELoss', 'first_layer_size': 64, 'num_layers': 5, 'confidence_threshold': 0.0039178068830718685, 'dropout': 0.3765068476551495, 'lr': 0.008809512130098427, 'n_epochs': 175}. Best is trial 102 with value: 0.5595287869517588.\n"
     ]
    },
    {
     "name": "stdout",
     "output_type": "stream",
     "text": [
      "Trial 363 finished with value: 0.5426377959972057\n",
      "Best trial so far: 102, value: 0.5595287869517588\n"
     ]
    },
    {
     "name": "stderr",
     "output_type": "stream",
     "text": [
      "[I 2024-12-08 20:14:31,481] Trial 364 finished with value: 0.5430614859701589 and parameters: {'criterion': 'MSELoss', 'first_layer_size': 64, 'num_layers': 5, 'confidence_threshold': 0.00419948663321202, 'dropout': 0.3793420408060931, 'lr': 0.009566960811337054, 'n_epochs': 145}. Best is trial 102 with value: 0.5595287869517588.\n"
     ]
    },
    {
     "name": "stdout",
     "output_type": "stream",
     "text": [
      "Trial 364 finished with value: 0.5430614859701589\n",
      "Best trial so far: 102, value: 0.5595287869517588\n"
     ]
    },
    {
     "name": "stderr",
     "output_type": "stream",
     "text": [
      "[I 2024-12-08 20:14:41,605] Trial 365 finished with value: 0.11972789115646261 and parameters: {'criterion': 'MSELoss', 'first_layer_size': 64, 'num_layers': 7, 'confidence_threshold': 0.0040288687256895845, 'dropout': 0.37876745963389263, 'lr': 0.009965510990903611, 'n_epochs': 135}. Best is trial 102 with value: 0.5595287869517588.\n"
     ]
    },
    {
     "name": "stdout",
     "output_type": "stream",
     "text": [
      "Trial 365 finished with value: 0.11972789115646261\n",
      "Best trial so far: 102, value: 0.5595287869517588\n"
     ]
    },
    {
     "name": "stderr",
     "output_type": "stream",
     "text": [
      "[I 2024-12-08 20:14:50,636] Trial 366 finished with value: 0.54572830248835 and parameters: {'criterion': 'MSELoss', 'first_layer_size': 64, 'num_layers': 5, 'confidence_threshold': 0.00436758810781282, 'dropout': 0.37491630792372344, 'lr': 0.009570168651768367, 'n_epochs': 157}. Best is trial 102 with value: 0.5595287869517588.\n"
     ]
    },
    {
     "name": "stdout",
     "output_type": "stream",
     "text": [
      "Trial 366 finished with value: 0.54572830248835\n",
      "Best trial so far: 102, value: 0.5595287869517588\n"
     ]
    },
    {
     "name": "stderr",
     "output_type": "stream",
     "text": [
      "[I 2024-12-08 20:14:59,706] Trial 367 finished with value: 0.5403865235356327 and parameters: {'criterion': 'MSELoss', 'first_layer_size': 64, 'num_layers': 5, 'confidence_threshold': 0.004664971186864464, 'dropout': 0.37967018476581565, 'lr': 0.009577351144283186, 'n_epochs': 158}. Best is trial 102 with value: 0.5595287869517588.\n"
     ]
    },
    {
     "name": "stdout",
     "output_type": "stream",
     "text": [
      "Trial 367 finished with value: 0.5403865235356327\n",
      "Best trial so far: 102, value: 0.5595287869517588\n"
     ]
    },
    {
     "name": "stderr",
     "output_type": "stream",
     "text": [
      "[I 2024-12-08 20:15:07,564] Trial 368 finished with value: 0.07540983606557376 and parameters: {'criterion': 'MSELoss', 'first_layer_size': 64, 'num_layers': 8, 'confidence_threshold': 0.004228668434556916, 'dropout': 0.3754653776172484, 'lr': 0.009623785853808119, 'n_epochs': 100}. Best is trial 102 with value: 0.5595287869517588.\n"
     ]
    },
    {
     "name": "stdout",
     "output_type": "stream",
     "text": [
      "Trial 368 finished with value: 0.07540983606557376\n",
      "Best trial so far: 102, value: 0.5595287869517588\n"
     ]
    },
    {
     "name": "stderr",
     "output_type": "stream",
     "text": [
      "[I 2024-12-08 20:15:15,061] Trial 369 finished with value: 0.5212552863406573 and parameters: {'criterion': 'SmoothL1Loss', 'first_layer_size': 48, 'num_layers': 5, 'confidence_threshold': 0.004712148543088432, 'dropout': 0.3761249999612023, 'lr': 0.00996308508956753, 'n_epochs': 122}. Best is trial 102 with value: 0.5595287869517588.\n"
     ]
    },
    {
     "name": "stdout",
     "output_type": "stream",
     "text": [
      "Trial 369 finished with value: 0.5212552863406573\n",
      "Best trial so far: 102, value: 0.5595287869517588\n"
     ]
    },
    {
     "name": "stderr",
     "output_type": "stream",
     "text": [
      "[I 2024-12-08 20:15:22,460] Trial 370 finished with value: 0.10252100840336136 and parameters: {'criterion': 'MSELoss', 'first_layer_size': 64, 'num_layers': 7, 'confidence_threshold': 0.004287282192140882, 'dropout': 0.37466928520021686, 'lr': 0.00928030141920276, 'n_epochs': 100}. Best is trial 102 with value: 0.5595287869517588.\n"
     ]
    },
    {
     "name": "stdout",
     "output_type": "stream",
     "text": [
      "Trial 370 finished with value: 0.10252100840336136\n",
      "Best trial so far: 102, value: 0.5595287869517588\n"
     ]
    },
    {
     "name": "stderr",
     "output_type": "stream",
     "text": [
      "[I 2024-12-08 20:15:35,853] Trial 371 finished with value: 0.5272895946944667 and parameters: {'criterion': 'MSELoss', 'first_layer_size': 64, 'num_layers': 5, 'confidence_threshold': 0.0025337673769216125, 'dropout': 0.37662806222887846, 'lr': 0.00478247056104525, 'n_epochs': 230}. Best is trial 102 with value: 0.5595287869517588.\n"
     ]
    },
    {
     "name": "stdout",
     "output_type": "stream",
     "text": [
      "Trial 371 finished with value: 0.5272895946944667\n",
      "Best trial so far: 102, value: 0.5595287869517588\n"
     ]
    },
    {
     "name": "stderr",
     "output_type": "stream",
     "text": [
      "[I 2024-12-08 20:15:43,376] Trial 372 finished with value: 0.04206008583690988 and parameters: {'criterion': 'MSELoss', 'first_layer_size': 64, 'num_layers': 7, 'confidence_threshold': 0.00542110730369858, 'dropout': 0.3744060655528299, 'lr': 0.008934090732139627, 'n_epochs': 100}. Best is trial 102 with value: 0.5595287869517588.\n"
     ]
    },
    {
     "name": "stdout",
     "output_type": "stream",
     "text": [
      "Trial 372 finished with value: 0.04206008583690988\n",
      "Best trial so far: 102, value: 0.5595287869517588\n"
     ]
    },
    {
     "name": "stderr",
     "output_type": "stream",
     "text": [
      "[I 2024-12-08 20:15:51,920] Trial 373 finished with value: 0.538067150127458 and parameters: {'criterion': 'MSELoss', 'first_layer_size': 64, 'num_layers': 5, 'confidence_threshold': 0.0036243347395769916, 'dropout': 0.3791602917098754, 'lr': 0.009558740383620092, 'n_epochs': 148}. Best is trial 102 with value: 0.5595287869517588.\n"
     ]
    },
    {
     "name": "stdout",
     "output_type": "stream",
     "text": [
      "Trial 373 finished with value: 0.538067150127458\n",
      "Best trial so far: 102, value: 0.5595287869517588\n"
     ]
    },
    {
     "name": "stderr",
     "output_type": "stream",
     "text": [
      "[I 2024-12-08 20:16:00,610] Trial 374 finished with value: 0.5401599371400768 and parameters: {'criterion': 'MSELoss', 'first_layer_size': 64, 'num_layers': 5, 'confidence_threshold': 0.0023461441186658316, 'dropout': 0.3712586637852411, 'lr': 0.008961027102961448, 'n_epochs': 151}. Best is trial 102 with value: 0.5595287869517588.\n"
     ]
    },
    {
     "name": "stdout",
     "output_type": "stream",
     "text": [
      "Trial 374 finished with value: 0.5401599371400768\n",
      "Best trial so far: 102, value: 0.5595287869517588\n"
     ]
    },
    {
     "name": "stderr",
     "output_type": "stream",
     "text": [
      "[I 2024-12-08 20:16:09,027] Trial 375 finished with value: 0.11261620185922974 and parameters: {'criterion': 'MSELoss', 'first_layer_size': 64, 'num_layers': 7, 'confidence_threshold': 0.004745639339429428, 'dropout': 0.37708752162185694, 'lr': 0.00933396623310734, 'n_epochs': 115}. Best is trial 102 with value: 0.5595287869517588.\n"
     ]
    },
    {
     "name": "stdout",
     "output_type": "stream",
     "text": [
      "Trial 375 finished with value: 0.11261620185922974\n",
      "Best trial so far: 102, value: 0.5595287869517588\n"
     ]
    },
    {
     "name": "stderr",
     "output_type": "stream",
     "text": [
      "[I 2024-12-08 20:16:19,035] Trial 376 finished with value: 0.5373193663861325 and parameters: {'criterion': 'MSELoss', 'first_layer_size': 64, 'num_layers': 5, 'confidence_threshold': 0.0018852207195802608, 'dropout': 0.3716958159606968, 'lr': 0.008446695952405827, 'n_epochs': 171}. Best is trial 102 with value: 0.5595287869517588.\n"
     ]
    },
    {
     "name": "stdout",
     "output_type": "stream",
     "text": [
      "Trial 376 finished with value: 0.5373193663861325\n",
      "Best trial so far: 102, value: 0.5595287869517588\n"
     ]
    },
    {
     "name": "stderr",
     "output_type": "stream",
     "text": [
      "[I 2024-12-08 20:16:29,535] Trial 377 finished with value: 0.5228709693206599 and parameters: {'criterion': 'MSELoss', 'first_layer_size': 64, 'num_layers': 5, 'confidence_threshold': 0.003309202262595997, 'dropout': 0.3763827461103976, 'lr': 0.008788648254484374, 'n_epochs': 178}. Best is trial 102 with value: 0.5595287869517588.\n"
     ]
    },
    {
     "name": "stdout",
     "output_type": "stream",
     "text": [
      "Trial 377 finished with value: 0.5228709693206599\n",
      "Best trial so far: 102, value: 0.5595287869517588\n"
     ]
    },
    {
     "name": "stderr",
     "output_type": "stream",
     "text": [
      "[I 2024-12-08 20:16:36,835] Trial 378 finished with value: 0.0 and parameters: {'criterion': 'MSELoss', 'first_layer_size': 64, 'num_layers': 7, 'confidence_threshold': 0.02481559682021072, 'dropout': 0.3735908994412612, 'lr': 0.007750386233752269, 'n_epochs': 100}. Best is trial 102 with value: 0.5595287869517588.\n"
     ]
    },
    {
     "name": "stdout",
     "output_type": "stream",
     "text": [
      "Trial 378 finished with value: 0.0\n",
      "Best trial so far: 102, value: 0.5595287869517588\n"
     ]
    },
    {
     "name": "stderr",
     "output_type": "stream",
     "text": [
      "[I 2024-12-08 20:16:43,371] Trial 379 finished with value: 0.025419653469956872 and parameters: {'criterion': 'L1Loss', 'first_layer_size': 64, 'num_layers': 6, 'confidence_threshold': 0.0011817261036768647, 'dropout': 0.3793684135623726, 'lr': 0.009622098168313852, 'n_epochs': 100}. Best is trial 102 with value: 0.5595287869517588.\n"
     ]
    },
    {
     "name": "stdout",
     "output_type": "stream",
     "text": [
      "Trial 379 finished with value: 0.025419653469956872\n",
      "Best trial so far: 102, value: 0.5595287869517588\n"
     ]
    },
    {
     "name": "stderr",
     "output_type": "stream",
     "text": [
      "[I 2024-12-08 20:16:49,006] Trial 380 finished with value: 0.12457471325434608 and parameters: {'criterion': 'MSELoss', 'first_layer_size': 64, 'num_layers': 5, 'confidence_threshold': 0.019020653270277337, 'dropout': 0.3719828132948593, 'lr': 0.009200164150003852, 'n_epochs': 100}. Best is trial 102 with value: 0.5595287869517588.\n"
     ]
    },
    {
     "name": "stdout",
     "output_type": "stream",
     "text": [
      "Trial 380 finished with value: 0.12457471325434608\n",
      "Best trial so far: 102, value: 0.5595287869517588\n"
     ]
    },
    {
     "name": "stderr",
     "output_type": "stream",
     "text": [
      "[I 2024-12-08 20:16:53,241] Trial 381 finished with value: 0.1691395708913957 and parameters: {'criterion': 'MSELoss', 'first_layer_size': 16, 'num_layers': 4, 'confidence_threshold': 0.011394581837711937, 'dropout': 0.3754428438669371, 'lr': 0.008154032545260806, 'n_epochs': 100}. Best is trial 102 with value: 0.5595287869517588.\n"
     ]
    },
    {
     "name": "stdout",
     "output_type": "stream",
     "text": [
      "Trial 381 finished with value: 0.1691395708913957\n",
      "Best trial so far: 102, value: 0.5595287869517588\n"
     ]
    },
    {
     "name": "stderr",
     "output_type": "stream",
     "text": [
      "[I 2024-12-08 20:16:59,260] Trial 382 finished with value: 0.5041980035484255 and parameters: {'criterion': 'MSELoss', 'first_layer_size': 12, 'num_layers': 2, 'confidence_threshold': 0.0026931003208904023, 'dropout': 0.3792176334079756, 'lr': 0.009988785915381779, 'n_epochs': 159}. Best is trial 102 with value: 0.5595287869517588.\n"
     ]
    },
    {
     "name": "stdout",
     "output_type": "stream",
     "text": [
      "Trial 382 finished with value: 0.5041980035484255\n",
      "Best trial so far: 102, value: 0.5595287869517588\n"
     ]
    },
    {
     "name": "stderr",
     "output_type": "stream",
     "text": [
      "[I 2024-12-08 20:17:05,197] Trial 383 finished with value: 0.0023054755043227667 and parameters: {'criterion': 'MSELoss', 'first_layer_size': 64, 'num_layers': 5, 'confidence_threshold': 0.049738794062172825, 'dropout': 0.3473797965665618, 'lr': 0.0014824636516205755, 'n_epochs': 100}. Best is trial 102 with value: 0.5595287869517588.\n"
     ]
    },
    {
     "name": "stdout",
     "output_type": "stream",
     "text": [
      "Trial 383 finished with value: 0.0023054755043227667\n",
      "Best trial so far: 102, value: 0.5595287869517588\n"
     ]
    },
    {
     "name": "stderr",
     "output_type": "stream",
     "text": [
      "[I 2024-12-08 20:17:14,508] Trial 384 finished with value: 0.5157794534625506 and parameters: {'criterion': 'MSELoss', 'first_layer_size': 48, 'num_layers': 5, 'confidence_threshold': 0.005227170530044662, 'dropout': 0.34437264189740535, 'lr': 0.008716808959051772, 'n_epochs': 154}. Best is trial 102 with value: 0.5595287869517588.\n"
     ]
    },
    {
     "name": "stdout",
     "output_type": "stream",
     "text": [
      "Trial 384 finished with value: 0.5157794534625506\n",
      "Best trial so far: 102, value: 0.5595287869517588\n"
     ]
    },
    {
     "name": "stderr",
     "output_type": "stream",
     "text": [
      "[I 2024-12-08 20:17:21,808] Trial 385 finished with value: 0.04008179959100204 and parameters: {'criterion': 'MSELoss', 'first_layer_size': 64, 'num_layers': 7, 'confidence_threshold': 0.004145390483183047, 'dropout': 0.3798928920863224, 'lr': 0.009191330910409188, 'n_epochs': 100}. Best is trial 102 with value: 0.5595287869517588.\n"
     ]
    },
    {
     "name": "stdout",
     "output_type": "stream",
     "text": [
      "Trial 385 finished with value: 0.04008179959100204\n",
      "Best trial so far: 102, value: 0.5595287869517588\n"
     ]
    },
    {
     "name": "stderr",
     "output_type": "stream",
     "text": [
      "[I 2024-12-08 20:17:28,713] Trial 386 finished with value: 0.20665058838688005 and parameters: {'criterion': 'MSELoss', 'first_layer_size': 32, 'num_layers': 5, 'confidence_threshold': 0.0018443156847970828, 'dropout': 0.37432289345161024, 'lr': 0.00723683791371015, 'n_epochs': 118}. Best is trial 102 with value: 0.5595287869517588.\n"
     ]
    },
    {
     "name": "stdout",
     "output_type": "stream",
     "text": [
      "Trial 386 finished with value: 0.20665058838688005\n",
      "Best trial so far: 102, value: 0.5595287869517588\n"
     ]
    },
    {
     "name": "stderr",
     "output_type": "stream",
     "text": [
      "[I 2024-12-08 20:17:36,333] Trial 387 finished with value: 0.11620100400588204 and parameters: {'criterion': 'MSELoss', 'first_layer_size': 64, 'num_layers': 7, 'confidence_threshold': 0.0009638473874116946, 'dropout': 0.3534961384473755, 'lr': 0.008480954865888601, 'n_epochs': 100}. Best is trial 102 with value: 0.5595287869517588.\n"
     ]
    },
    {
     "name": "stdout",
     "output_type": "stream",
     "text": [
      "Trial 387 finished with value: 0.11620100400588204\n",
      "Best trial so far: 102, value: 0.5595287869517588\n"
     ]
    },
    {
     "name": "stderr",
     "output_type": "stream",
     "text": [
      "[I 2024-12-08 20:17:45,734] Trial 388 finished with value: 0.5262048047169638 and parameters: {'criterion': 'MSELoss', 'first_layer_size': 64, 'num_layers': 5, 'confidence_threshold': 0.003207584789524562, 'dropout': 0.3215755243601685, 'lr': 0.008068627092604752, 'n_epochs': 158}. Best is trial 102 with value: 0.5595287869517588.\n"
     ]
    },
    {
     "name": "stdout",
     "output_type": "stream",
     "text": [
      "Trial 388 finished with value: 0.5262048047169638\n",
      "Best trial so far: 102, value: 0.5595287869517588\n"
     ]
    },
    {
     "name": "stderr",
     "output_type": "stream",
     "text": [
      "[I 2024-12-08 20:18:04,464] Trial 389 finished with value: 0.5621041979891561 and parameters: {'criterion': 'MSELoss', 'first_layer_size': 64, 'num_layers': 7, 'confidence_threshold': 0.0022849495341754193, 'dropout': 0.3700367054553657, 'lr': 0.009582261856947296, 'n_epochs': 255}. Best is trial 389 with value: 0.5621041979891561.\n"
     ]
    },
    {
     "name": "stdout",
     "output_type": "stream",
     "text": [
      "Trial 389 finished with value: 0.5621041979891561\n",
      "Best trial so far: 389, value: 0.5621041979891561\n"
     ]
    },
    {
     "name": "stderr",
     "output_type": "stream",
     "text": [
      "[I 2024-12-08 20:18:19,019] Trial 390 finished with value: 0.49141632477282704 and parameters: {'criterion': 'MSELoss', 'first_layer_size': 64, 'num_layers': 7, 'confidence_threshold': 0.0019296845140880702, 'dropout': 0.3692556055225821, 'lr': 0.009597007508015145, 'n_epochs': 198}. Best is trial 389 with value: 0.5621041979891561.\n"
     ]
    },
    {
     "name": "stdout",
     "output_type": "stream",
     "text": [
      "Trial 390 finished with value: 0.49141632477282704\n",
      "Best trial so far: 389, value: 0.5621041979891561\n"
     ]
    },
    {
     "name": "stderr",
     "output_type": "stream",
     "text": [
      "[I 2024-12-08 20:18:26,574] Trial 391 finished with value: 0.10731707317073169 and parameters: {'criterion': 'MSELoss', 'first_layer_size': 64, 'num_layers': 7, 'confidence_threshold': 0.0007851127711657295, 'dropout': 0.3710118952060013, 'lr': 0.009527934782648856, 'n_epochs': 100}. Best is trial 389 with value: 0.5621041979891561.\n"
     ]
    },
    {
     "name": "stdout",
     "output_type": "stream",
     "text": [
      "Trial 391 finished with value: 0.10731707317073169\n",
      "Best trial so far: 389, value: 0.5621041979891561\n"
     ]
    },
    {
     "name": "stderr",
     "output_type": "stream",
     "text": [
      "[I 2024-12-08 20:18:35,218] Trial 392 finished with value: 0.11733333333333333 and parameters: {'criterion': 'MSELoss', 'first_layer_size': 64, 'num_layers': 7, 'confidence_threshold': 0.004025924028953458, 'dropout': 0.3728908033273966, 'lr': 0.00906492092086558, 'n_epochs': 114}. Best is trial 389 with value: 0.5621041979891561.\n"
     ]
    },
    {
     "name": "stdout",
     "output_type": "stream",
     "text": [
      "Trial 392 finished with value: 0.11733333333333333\n",
      "Best trial so far: 389, value: 0.5621041979891561\n"
     ]
    },
    {
     "name": "stderr",
     "output_type": "stream",
     "text": [
      "[I 2024-12-08 20:18:42,688] Trial 393 finished with value: 0.09077469793887702 and parameters: {'criterion': 'MSELoss', 'first_layer_size': 64, 'num_layers': 7, 'confidence_threshold': 0.00553342015676666, 'dropout': 0.3702219348026345, 'lr': 0.00200221948400193, 'n_epochs': 100}. Best is trial 389 with value: 0.5621041979891561.\n"
     ]
    },
    {
     "name": "stdout",
     "output_type": "stream",
     "text": [
      "Trial 393 finished with value: 0.09077469793887702\n",
      "Best trial so far: 389, value: 0.5621041979891561\n"
     ]
    },
    {
     "name": "stderr",
     "output_type": "stream",
     "text": [
      "[I 2024-12-08 20:18:50,034] Trial 394 finished with value: 0.0101010101010101 and parameters: {'criterion': 'SmoothL1Loss', 'first_layer_size': 64, 'num_layers': 7, 'confidence_threshold': 0.0025307289959697324, 'dropout': 0.369068391625732, 'lr': 0.004343590787031977, 'n_epochs': 100}. Best is trial 389 with value: 0.5621041979891561.\n"
     ]
    },
    {
     "name": "stdout",
     "output_type": "stream",
     "text": [
      "Trial 394 finished with value: 0.0101010101010101\n",
      "Best trial so far: 389, value: 0.5621041979891561\n"
     ]
    },
    {
     "name": "stderr",
     "output_type": "stream",
     "text": [
      "[I 2024-12-08 20:18:59,873] Trial 395 finished with value: 0.22133204028790301 and parameters: {'criterion': 'MSELoss', 'first_layer_size': 64, 'num_layers': 7, 'confidence_threshold': 0.0010960644325387447, 'dropout': 0.37212519805392974, 'lr': 0.009629706823357771, 'n_epochs': 135}. Best is trial 389 with value: 0.5621041979891561.\n"
     ]
    },
    {
     "name": "stdout",
     "output_type": "stream",
     "text": [
      "Trial 395 finished with value: 0.22133204028790301\n",
      "Best trial so far: 389, value: 0.5621041979891561\n"
     ]
    },
    {
     "name": "stderr",
     "output_type": "stream",
     "text": [
      "[I 2024-12-08 20:19:08,178] Trial 396 finished with value: 0.11484662576687119 and parameters: {'criterion': 'MSELoss', 'first_layer_size': 64, 'num_layers': 7, 'confidence_threshold': 0.00195632429551483, 'dropout': 0.37504965266961565, 'lr': 0.009938134589312883, 'n_epochs': 113}. Best is trial 389 with value: 0.5621041979891561.\n"
     ]
    },
    {
     "name": "stdout",
     "output_type": "stream",
     "text": [
      "Trial 396 finished with value: 0.11484662576687119\n",
      "Best trial so far: 389, value: 0.5621041979891561\n"
     ]
    },
    {
     "name": "stderr",
     "output_type": "stream",
     "text": [
      "[I 2024-12-08 20:19:15,310] Trial 397 finished with value: 0.0 and parameters: {'criterion': 'MSELoss', 'first_layer_size': 64, 'num_layers': 7, 'confidence_threshold': 0.04148360757007363, 'dropout': 0.36805575575315846, 'lr': 0.009217798453587748, 'n_epochs': 100}. Best is trial 389 with value: 0.5621041979891561.\n"
     ]
    },
    {
     "name": "stdout",
     "output_type": "stream",
     "text": [
      "Trial 397 finished with value: 0.0\n",
      "Best trial so far: 389, value: 0.5621041979891561\n"
     ]
    },
    {
     "name": "stderr",
     "output_type": "stream",
     "text": [
      "[I 2024-12-08 20:19:26,402] Trial 398 finished with value: 0.538128407502535 and parameters: {'criterion': 'MSELoss', 'first_layer_size': 64, 'num_layers': 5, 'confidence_threshold': 0.0034237708747556477, 'dropout': 0.37772351613561256, 'lr': 0.00872169835036105, 'n_epochs': 188}. Best is trial 389 with value: 0.5621041979891561.\n"
     ]
    },
    {
     "name": "stdout",
     "output_type": "stream",
     "text": [
      "Trial 398 finished with value: 0.538128407502535\n",
      "Best trial so far: 389, value: 0.5621041979891561\n"
     ]
    },
    {
     "name": "stderr",
     "output_type": "stream",
     "text": [
      "[I 2024-12-08 20:19:36,313] Trial 399 finished with value: 0.5117515655213614 and parameters: {'criterion': 'MSELoss', 'first_layer_size': 56, 'num_layers': 5, 'confidence_threshold': 0.004663027918607935, 'dropout': 0.3262061578427623, 'lr': 0.009318277999934507, 'n_epochs': 145}. Best is trial 389 with value: 0.5621041979891561.\n"
     ]
    },
    {
     "name": "stdout",
     "output_type": "stream",
     "text": [
      "Trial 399 finished with value: 0.5117515655213614\n",
      "Best trial so far: 389, value: 0.5621041979891561\n"
     ]
    },
    {
     "name": "stderr",
     "output_type": "stream",
     "text": [
      "[I 2024-12-08 20:19:50,376] Trial 400 finished with value: 0.4498855674859554 and parameters: {'criterion': 'MSELoss', 'first_layer_size': 64, 'num_layers': 7, 'confidence_threshold': 0.001359912143746387, 'dropout': 0.3289802674244329, 'lr': 0.009951195774272824, 'n_epochs': 188}. Best is trial 389 with value: 0.5621041979891561.\n"
     ]
    },
    {
     "name": "stdout",
     "output_type": "stream",
     "text": [
      "Trial 400 finished with value: 0.4498855674859554\n",
      "Best trial so far: 389, value: 0.5621041979891561\n"
     ]
    },
    {
     "name": "stderr",
     "output_type": "stream",
     "text": [
      "[I 2024-12-08 20:19:59,418] Trial 401 finished with value: 0.525809695741537 and parameters: {'criterion': 'MSELoss', 'first_layer_size': 64, 'num_layers': 5, 'confidence_threshold': 0.0026113948413948743, 'dropout': 0.3552260365222992, 'lr': 0.008949637916867122, 'n_epochs': 154}. Best is trial 389 with value: 0.5621041979891561.\n"
     ]
    },
    {
     "name": "stdout",
     "output_type": "stream",
     "text": [
      "Trial 401 finished with value: 0.525809695741537\n",
      "Best trial so far: 389, value: 0.5621041979891561\n"
     ]
    },
    {
     "name": "stderr",
     "output_type": "stream",
     "text": [
      "[I 2024-12-08 20:20:06,531] Trial 402 finished with value: 0.21515538833919798 and parameters: {'criterion': 'L1Loss', 'first_layer_size': 64, 'num_layers': 5, 'confidence_threshold': 0.0006895795868489558, 'dropout': 0.3771779100827192, 'lr': 0.009444215891098853, 'n_epochs': 123}. Best is trial 389 with value: 0.5621041979891561.\n"
     ]
    },
    {
     "name": "stdout",
     "output_type": "stream",
     "text": [
      "Trial 402 finished with value: 0.21515538833919798\n",
      "Best trial so far: 389, value: 0.5621041979891561\n"
     ]
    },
    {
     "name": "stderr",
     "output_type": "stream",
     "text": [
      "[I 2024-12-08 20:20:14,522] Trial 403 finished with value: 0.2159013521560385 and parameters: {'criterion': 'MSELoss', 'first_layer_size': 64, 'num_layers': 7, 'confidence_threshold': 0.0036487885483645734, 'dropout': 0.3528378875989466, 'lr': 0.008854027819212655, 'n_epochs': 109}. Best is trial 389 with value: 0.5621041979891561.\n"
     ]
    },
    {
     "name": "stdout",
     "output_type": "stream",
     "text": [
      "Trial 403 finished with value: 0.2159013521560385\n",
      "Best trial so far: 389, value: 0.5621041979891561\n"
     ]
    },
    {
     "name": "stderr",
     "output_type": "stream",
     "text": [
      "[I 2024-12-08 20:20:23,176] Trial 404 finished with value: 0.5329123777680924 and parameters: {'criterion': 'MSELoss', 'first_layer_size': 64, 'num_layers': 5, 'confidence_threshold': 1.0067231965700334e-05, 'dropout': 0.3737033073123078, 'lr': 0.009990683914324781, 'n_epochs': 151}. Best is trial 389 with value: 0.5621041979891561.\n"
     ]
    },
    {
     "name": "stdout",
     "output_type": "stream",
     "text": [
      "Trial 404 finished with value: 0.5329123777680924\n",
      "Best trial so far: 389, value: 0.5621041979891561\n"
     ]
    },
    {
     "name": "stderr",
     "output_type": "stream",
     "text": [
      "[I 2024-12-08 20:20:31,115] Trial 405 finished with value: 0.07238805970149255 and parameters: {'criterion': 'MSELoss', 'first_layer_size': 64, 'num_layers': 8, 'confidence_threshold': 0.006111227797281836, 'dropout': 0.35142872115356705, 'lr': 0.008440182952838658, 'n_epochs': 100}. Best is trial 389 with value: 0.5621041979891561.\n"
     ]
    },
    {
     "name": "stdout",
     "output_type": "stream",
     "text": [
      "Trial 405 finished with value: 0.07238805970149255\n",
      "Best trial so far: 389, value: 0.5621041979891561\n"
     ]
    },
    {
     "name": "stderr",
     "output_type": "stream",
     "text": [
      "[I 2024-12-08 20:20:39,946] Trial 406 finished with value: 0.5311231510892678 and parameters: {'criterion': 'MSELoss', 'first_layer_size': 64, 'num_layers': 5, 'confidence_threshold': 0.001972918855063458, 'dropout': 0.3677937478638731, 'lr': 0.009206228019328185, 'n_epochs': 150}. Best is trial 389 with value: 0.5621041979891561.\n"
     ]
    },
    {
     "name": "stdout",
     "output_type": "stream",
     "text": [
      "Trial 406 finished with value: 0.5311231510892678\n",
      "Best trial so far: 389, value: 0.5621041979891561\n"
     ]
    },
    {
     "name": "stderr",
     "output_type": "stream",
     "text": [
      "[I 2024-12-08 20:20:47,268] Trial 407 finished with value: 0.03433874709976798 and parameters: {'criterion': 'MSELoss', 'first_layer_size': 64, 'num_layers': 7, 'confidence_threshold': 0.004945020958260472, 'dropout': 0.3719952672441724, 'lr': 0.008874821241761402, 'n_epochs': 100}. Best is trial 389 with value: 0.5621041979891561.\n"
     ]
    },
    {
     "name": "stdout",
     "output_type": "stream",
     "text": [
      "Trial 407 finished with value: 0.03433874709976798\n",
      "Best trial so far: 389, value: 0.5621041979891561\n"
     ]
    },
    {
     "name": "stderr",
     "output_type": "stream",
     "text": [
      "[I 2024-12-08 20:20:54,510] Trial 408 finished with value: 0.532221471759783 and parameters: {'criterion': 'MSELoss', 'first_layer_size': 64, 'num_layers': 5, 'confidence_threshold': 0.0027874765455058945, 'dropout': 0.3486734610638209, 'lr': 0.00948206832101579, 'n_epochs': 127}. Best is trial 389 with value: 0.5621041979891561.\n"
     ]
    },
    {
     "name": "stdout",
     "output_type": "stream",
     "text": [
      "Trial 408 finished with value: 0.532221471759783\n",
      "Best trial so far: 389, value: 0.5621041979891561\n"
     ]
    },
    {
     "name": "stderr",
     "output_type": "stream",
     "text": [
      "[I 2024-12-08 20:21:01,966] Trial 409 finished with value: 0.07974882260596547 and parameters: {'criterion': 'MSELoss', 'first_layer_size': 64, 'num_layers': 7, 'confidence_threshold': 0.00405003510570869, 'dropout': 0.37639021492988906, 'lr': 0.007686969107368515, 'n_epochs': 100}. Best is trial 389 with value: 0.5621041979891561.\n"
     ]
    },
    {
     "name": "stdout",
     "output_type": "stream",
     "text": [
      "Trial 409 finished with value: 0.07974882260596547\n",
      "Best trial so far: 389, value: 0.5621041979891561\n"
     ]
    },
    {
     "name": "stderr",
     "output_type": "stream",
     "text": [
      "[I 2024-12-08 20:21:12,028] Trial 410 finished with value: 0.5428864359792445 and parameters: {'criterion': 'MSELoss', 'first_layer_size': 64, 'num_layers': 5, 'confidence_threshold': 0.0014060516307631125, 'dropout': 0.37071628719365457, 'lr': 0.008237917518500833, 'n_epochs': 170}. Best is trial 389 with value: 0.5621041979891561.\n"
     ]
    },
    {
     "name": "stdout",
     "output_type": "stream",
     "text": [
      "Trial 410 finished with value: 0.5428864359792445\n",
      "Best trial so far: 389, value: 0.5621041979891561\n"
     ]
    },
    {
     "name": "stderr",
     "output_type": "stream",
     "text": [
      "[I 2024-12-08 20:21:20,997] Trial 411 finished with value: 0.5277133655478276 and parameters: {'criterion': 'MSELoss', 'first_layer_size': 64, 'num_layers': 5, 'confidence_threshold': 0.0011934369591423157, 'dropout': 0.37004790471101634, 'lr': 0.008604812064058857, 'n_epochs': 151}. Best is trial 389 with value: 0.5621041979891561.\n"
     ]
    },
    {
     "name": "stdout",
     "output_type": "stream",
     "text": [
      "Trial 411 finished with value: 0.5277133655478276\n",
      "Best trial so far: 389, value: 0.5621041979891561\n"
     ]
    },
    {
     "name": "stderr",
     "output_type": "stream",
     "text": [
      "[I 2024-12-08 20:21:30,722] Trial 412 finished with value: 0.20233516483516487 and parameters: {'criterion': 'MSELoss', 'first_layer_size': 64, 'num_layers': 7, 'confidence_threshold': 0.0008694916832960319, 'dropout': 0.37389432899004854, 'lr': 0.00959080954184763, 'n_epochs': 133}. Best is trial 389 with value: 0.5621041979891561.\n"
     ]
    },
    {
     "name": "stdout",
     "output_type": "stream",
     "text": [
      "Trial 412 finished with value: 0.20233516483516487\n",
      "Best trial so far: 389, value: 0.5621041979891561\n"
     ]
    },
    {
     "name": "stderr",
     "output_type": "stream",
     "text": [
      "[I 2024-12-08 20:21:39,589] Trial 413 finished with value: 0.5326373658638631 and parameters: {'criterion': 'MSELoss', 'first_layer_size': 64, 'num_layers': 5, 'confidence_threshold': 4.738995560584218e-05, 'dropout': 0.37181467530004497, 'lr': 0.009065895034238146, 'n_epochs': 155}. Best is trial 389 with value: 0.5621041979891561.\n"
     ]
    },
    {
     "name": "stdout",
     "output_type": "stream",
     "text": [
      "Trial 413 finished with value: 0.5326373658638631\n",
      "Best trial so far: 389, value: 0.5621041979891561\n"
     ]
    },
    {
     "name": "stderr",
     "output_type": "stream",
     "text": [
      "[I 2024-12-08 20:21:44,832] Trial 414 finished with value: 0.45785262904363977 and parameters: {'criterion': 'MSELoss', 'first_layer_size': 16, 'num_layers': 2, 'confidence_threshold': 0.02887182975663018, 'dropout': 0.355973642032044, 'lr': 0.007886987202604974, 'n_epochs': 157}. Best is trial 389 with value: 0.5621041979891561.\n"
     ]
    },
    {
     "name": "stdout",
     "output_type": "stream",
     "text": [
      "Trial 414 finished with value: 0.45785262904363977\n",
      "Best trial so far: 389, value: 0.5621041979891561\n"
     ]
    },
    {
     "name": "stderr",
     "output_type": "stream",
     "text": [
      "[I 2024-12-08 20:21:52,041] Trial 415 finished with value: 0.09881337648327941 and parameters: {'criterion': 'MSELoss', 'first_layer_size': 64, 'num_layers': 7, 'confidence_threshold': 0.0019518958528522532, 'dropout': 0.3799301470414361, 'lr': 0.00869051780802085, 'n_epochs': 100}. Best is trial 389 with value: 0.5621041979891561.\n"
     ]
    },
    {
     "name": "stdout",
     "output_type": "stream",
     "text": [
      "Trial 415 finished with value: 0.09881337648327941\n",
      "Best trial so far: 389, value: 0.5621041979891561\n"
     ]
    },
    {
     "name": "stderr",
     "output_type": "stream",
     "text": [
      "[I 2024-12-08 20:22:01,332] Trial 416 finished with value: 0.5387903901447106 and parameters: {'criterion': 'SmoothL1Loss', 'first_layer_size': 64, 'num_layers': 5, 'confidence_threshold': 0.002650442468770337, 'dropout': 0.37547624295710796, 'lr': 0.009249168773237523, 'n_epochs': 158}. Best is trial 389 with value: 0.5621041979891561.\n"
     ]
    },
    {
     "name": "stdout",
     "output_type": "stream",
     "text": [
      "Trial 416 finished with value: 0.5387903901447106\n",
      "Best trial so far: 389, value: 0.5621041979891561\n"
     ]
    },
    {
     "name": "stderr",
     "output_type": "stream",
     "text": [
      "[I 2024-12-08 20:22:13,844] Trial 417 finished with value: 0.4455208643676284 and parameters: {'criterion': 'MSELoss', 'first_layer_size': 12, 'num_layers': 2, 'confidence_threshold': 0.0015987821444233552, 'dropout': 0.35151234734970344, 'lr': 0.0022022361750696383, 'n_epochs': 322}. Best is trial 389 with value: 0.5621041979891561.\n"
     ]
    },
    {
     "name": "stdout",
     "output_type": "stream",
     "text": [
      "Trial 417 finished with value: 0.4455208643676284\n",
      "Best trial so far: 389, value: 0.5621041979891561\n"
     ]
    },
    {
     "name": "stderr",
     "output_type": "stream",
     "text": [
      "[I 2024-12-08 20:22:23,949] Trial 418 finished with value: 0.5444100334873386 and parameters: {'criterion': 'MSELoss', 'first_layer_size': 64, 'num_layers': 5, 'confidence_threshold': 0.001132368965920937, 'dropout': 0.3701949045799348, 'lr': 0.008248157194227276, 'n_epochs': 175}. Best is trial 389 with value: 0.5621041979891561.\n"
     ]
    },
    {
     "name": "stdout",
     "output_type": "stream",
     "text": [
      "Trial 418 finished with value: 0.5444100334873386\n",
      "Best trial so far: 389, value: 0.5621041979891561\n"
     ]
    },
    {
     "name": "stderr",
     "output_type": "stream",
     "text": [
      "[I 2024-12-08 20:22:32,590] Trial 419 finished with value: 0.11866028708133973 and parameters: {'criterion': 'MSELoss', 'first_layer_size': 64, 'num_layers': 7, 'confidence_threshold': 0.0030146020798260025, 'dropout': 0.3721137308675508, 'lr': 0.009673883948362196, 'n_epochs': 116}. Best is trial 389 with value: 0.5621041979891561.\n"
     ]
    },
    {
     "name": "stdout",
     "output_type": "stream",
     "text": [
      "Trial 419 finished with value: 0.11866028708133973\n",
      "Best trial so far: 389, value: 0.5621041979891561\n"
     ]
    },
    {
     "name": "stderr",
     "output_type": "stream",
     "text": [
      "[I 2024-12-08 20:22:43,994] Trial 420 finished with value: 0.4518996396369512 and parameters: {'criterion': 'MSELoss', 'first_layer_size': 32, 'num_layers': 5, 'confidence_threshold': 0.000725259054967763, 'dropout': 0.3709994490084783, 'lr': 0.008228710514600151, 'n_epochs': 193}. Best is trial 389 with value: 0.5621041979891561.\n"
     ]
    },
    {
     "name": "stdout",
     "output_type": "stream",
     "text": [
      "Trial 420 finished with value: 0.4518996396369512\n",
      "Best trial so far: 389, value: 0.5621041979891561\n"
     ]
    },
    {
     "name": "stderr",
     "output_type": "stream",
     "text": [
      "[I 2024-12-08 20:22:52,914] Trial 421 finished with value: 0.5204388804535566 and parameters: {'criterion': 'MSELoss', 'first_layer_size': 64, 'num_layers': 5, 'confidence_threshold': 0.0022983033794922603, 'dropout': 0.3739237230524156, 'lr': 0.008860052392317677, 'n_epochs': 156}. Best is trial 389 with value: 0.5621041979891561.\n"
     ]
    },
    {
     "name": "stdout",
     "output_type": "stream",
     "text": [
      "Trial 421 finished with value: 0.5204388804535566\n",
      "Best trial so far: 389, value: 0.5621041979891561\n"
     ]
    },
    {
     "name": "stderr",
     "output_type": "stream",
     "text": [
      "[I 2024-12-08 20:23:01,620] Trial 422 finished with value: 0.5278706510552514 and parameters: {'criterion': 'MSELoss', 'first_layer_size': 64, 'num_layers': 5, 'confidence_threshold': 0.0016615566908499348, 'dropout': 0.36937428182597903, 'lr': 0.00914386950341562, 'n_epochs': 151}. Best is trial 389 with value: 0.5621041979891561.\n"
     ]
    },
    {
     "name": "stdout",
     "output_type": "stream",
     "text": [
      "Trial 422 finished with value: 0.5278706510552514\n",
      "Best trial so far: 389, value: 0.5621041979891561\n"
     ]
    },
    {
     "name": "stderr",
     "output_type": "stream",
     "text": [
      "[I 2024-12-08 20:23:09,652] Trial 423 finished with value: 0.018823529411764708 and parameters: {'criterion': 'L1Loss', 'first_layer_size': 64, 'num_layers': 7, 'confidence_threshold': 0.00355976799316681, 'dropout': 0.3706669896241033, 'lr': 0.009978559030966646, 'n_epochs': 106}. Best is trial 389 with value: 0.5621041979891561.\n"
     ]
    },
    {
     "name": "stdout",
     "output_type": "stream",
     "text": [
      "Trial 423 finished with value: 0.018823529411764708\n",
      "Best trial so far: 389, value: 0.5621041979891561\n"
     ]
    },
    {
     "name": "stderr",
     "output_type": "stream",
     "text": [
      "[I 2024-12-08 20:23:19,866] Trial 424 finished with value: 0.5437245304103933 and parameters: {'criterion': 'MSELoss', 'first_layer_size': 64, 'num_layers': 5, 'confidence_threshold': 0.0008858543978628418, 'dropout': 0.3758552898801377, 'lr': 0.008496016860263531, 'n_epochs': 176}. Best is trial 389 with value: 0.5621041979891561.\n"
     ]
    },
    {
     "name": "stdout",
     "output_type": "stream",
     "text": [
      "Trial 424 finished with value: 0.5437245304103933\n",
      "Best trial so far: 389, value: 0.5621041979891561\n"
     ]
    },
    {
     "name": "stderr",
     "output_type": "stream",
     "text": [
      "[I 2024-12-08 20:23:34,339] Trial 425 finished with value: 0.5589719674156908 and parameters: {'criterion': 'MSELoss', 'first_layer_size': 64, 'num_layers': 7, 'confidence_threshold': 0.00016434792848623442, 'dropout': 0.30288650613026924, 'lr': 0.008350227989896144, 'n_epochs': 192}. Best is trial 389 with value: 0.5621041979891561.\n"
     ]
    },
    {
     "name": "stdout",
     "output_type": "stream",
     "text": [
      "Trial 425 finished with value: 0.5589719674156908\n",
      "Best trial so far: 389, value: 0.5621041979891561\n"
     ]
    },
    {
     "name": "stderr",
     "output_type": "stream",
     "text": [
      "[I 2024-12-08 20:23:50,101] Trial 426 finished with value: 0.5609667957671552 and parameters: {'criterion': 'MSELoss', 'first_layer_size': 64, 'num_layers': 7, 'confidence_threshold': 0.0004382814502919153, 'dropout': 0.31290696695889225, 'lr': 0.008257693157847827, 'n_epochs': 201}. Best is trial 389 with value: 0.5621041979891561.\n"
     ]
    },
    {
     "name": "stdout",
     "output_type": "stream",
     "text": [
      "Trial 426 finished with value: 0.5609667957671552\n",
      "Best trial so far: 389, value: 0.5621041979891561\n"
     ]
    }
   ],
   "source": [
    "study = optuna.create_study(\n",
    "    direction='maximize',   # max because using f1\n",
    "    pruner=optuna.pruners.HyperbandPruner(\n",
    "        min_resource=1,\n",
    "        max_resource=1000\n",
    "    )\n",
    ")\n",
    "# Uncomment to run\n",
    "if True:\n",
    "    study.optimize(objective, n_trials=2000, callbacks=[print_callback])\n",
    "    # study.optimize(objective, n_trials=3)\n",
    "    print(\"Best trial:\")\n",
    "    trial = study.best_trial\n",
    "    print(\"Value: \", trial.value)\n",
    "    print(\"Params: \")\n",
    "    for key, value in trial.params.items():\n",
    "        print(f\"    {key}: {value}\")\n",
    "        \n",
    "        "
   ]
  },
  {
   "cell_type": "code",
   "execution_count": null,
   "id": "e667b31b",
   "metadata": {},
   "outputs": [],
   "source": [
    "best_params = study.best_trial.params\n",
    "\n",
    "layer_shape = [best_params['first_layer_size']]\n",
    "for i in range(1, best_params['num_layers']):\n",
    "    layer_shape.append(best_params['first_layer_size']//(2*i))\n",
    "\n",
    "# Set random state to have consistent results (42 is arbitrary)\n",
    "set_all_seeds()\n",
    "model = TabularModelUpdated(\n",
    "    n_cont=conts.shape[1],\n",
    "    out_sz=1,\n",
    "    layer_shape=layer_shape,\n",
    "    p=best_params['dropout'],     # Dropout\n",
    "    criterion=nfl_utils.map_losses(best_params['criterion']),\n",
    "    optimizer_class=torch.optim.Adam,\n",
    "    lr= best_params['lr'],   # Learning rate \n",
    "    confidence_threshold=best_params['confidence_threshold']\n",
    ")\n",
    "\n",
    "\n",
    "pipeline = Pipeline([\n",
    "    ('scaler', StandardScaler()), # Standardize the numerical features\n",
    "    # ('regressor', LinearRegression()), # Apply a regression model\n",
    "    ('model', model)\n",
    "])\n",
    "\n",
    "# Run once on each split, track average loss, stop if > max patience\n",
    "for _ in range(0, (best_params['n_epochs'] - 10)):\n",
    "    running_loss = 0.0\n",
    "    # ----- Train -----\n",
    "    pipeline.fit(conts_train, y_train)\n",
    "\n",
    "    # ----- Eval -----\n",
    "    # loss = pipeline.score(perf_conts, perf_y_col)\n",
    "    #print(f\"loss: {loss}\")\n",
    "\n",
    "# pipeline.fit(conts_train, y_train)\n",
    "probas = pipeline.predict(perf_conts)\n",
    "confidence_threshold = best_params['confidence_threshold']\n"
   ]
  },
  {
   "cell_type": "code",
   "execution_count": null,
   "id": "1bf0b19b",
   "metadata": {},
   "outputs": [],
   "source": [
    "nfl_utils.backtest_model(pipeline, perf_conts, perf_y_col, initial_capital=100, position_size=0.1, confidence_threshold=best_params['confidence_threshold'], show_plot=True)\n"
   ]
  },
  {
   "cell_type": "code",
   "execution_count": null,
   "id": "2bcf25ce",
   "metadata": {},
   "outputs": [],
   "source": [
    "# Remove outside of confidence threshold\n",
    "mask = (probas < 0.5 - confidence_threshold) | (probas > 0.5 + confidence_threshold)\n",
    "predictions = np.where(mask, probas, np.nan)\n",
    "\n",
    "# Use numpy mask for nan values\n",
    "valid_mask = ~np.isnan(predictions)\n",
    "valid_predictions = predictions[valid_mask]\n",
    "valid_mask = valid_mask.flatten()\n",
    "perf_y_col_mask = perf_y_col[valid_mask]\n",
    "\n",
    "\n",
    "true_values = perf_y_col_mask[:,0].astype(np.int32)\n",
    "pred_values = valid_predictions.flatten()\n",
    "pred_values_int = np.rint(valid_predictions).flatten().astype(np.int32)\n",
    "\n",
    "model_win_prob = (1.0*(true_values == pred_values_int).sum()) / (true_values.shape[0])\n",
    "print(model_win_prob)"
   ]
  },
  {
   "cell_type": "markdown",
   "id": "11ecba56",
   "metadata": {},
   "source": [
    "### 5. Create training set from cats, conts, and y\n",
    "dont need testing set since we're running cross validation\n",
    "\n",
    "cats currently is unused\n",
    "\n",
    "don't need holdout set since we have a performance set\n",
    "\n",
    "minMaxScaler replaced with StandardScaler"
   ]
  },
  {
   "cell_type": "code",
   "execution_count": null,
   "id": "029ced51",
   "metadata": {},
   "outputs": [],
   "source": []
  },
  {
   "cell_type": "code",
   "execution_count": null,
   "id": "fb870a40",
   "metadata": {},
   "outputs": [],
   "source": [
    "model = TabularModel(\n",
    "    n_cont=conts.shape[1],\n",
    "    out_sz=1,\n",
    "    layer_shape=[8,4],\n",
    "    p=0.2,     # Dropout\n",
    "    criterion=nn.MSELoss(),\n",
    "    optimizer_class=torch.optim.Adam,\n",
    "    lr= 1e-4   # Learning rate \n",
    ")\n",
    "\n",
    "pipeline = Pipeline([\n",
    "    ('scaler', StandardScaler()), # Standardize the numerical features\n",
    "    # ('regressor', LinearRegression()), # Apply a regression model\n",
    "    ('model', model)\n",
    "])\n",
    "\n",
    "# print(type(conts))\n",
    "# print(y_train.shape)\n",
    "\n",
    "# scores = cross_val_score(pipeline, conts_train, y_train, cv=5, scoring='f1')\n",
    "scores = cross_val_score(pipeline, conts_train, y_train, cv=5)\n",
    "print(scores)\n",
    "scores = np.mean(scores)\n",
    "print(float(scores))"
   ]
  },
  {
   "cell_type": "markdown",
   "id": "c5c5e5fb",
   "metadata": {},
   "source": [
    "### Hyperparameter search using optuna"
   ]
  },
  {
   "cell_type": "code",
   "execution_count": null,
   "id": "24adf7da",
   "metadata": {},
   "outputs": [],
   "source": [
    "# Number of epochs\n",
    "n_train_iter = 1000\n",
    "\n",
    "def objective(trial):\n",
    "    # --- Suggest hyperparameters ---\n",
    "    criterion = trial.suggest_categorical('criterion', nfl_utils.map_losses(None).keys())\n",
    "    first_layer_size = trial.suggest_categorical('first_layer_size', [56, 48, 32, 16, 12])\n",
    "    min_layers = math.floor(math.sqrt(first_layer_size))\n",
    "    num_layers = trial.suggest_int('num_layers', 2, min_layers)\n",
    "    confidence_threshold = trial.suggest_float('confidence_threshold', 0, 0.10)\n",
    "    layer_shape = [first_layer_size]\n",
    "    for i in range(1, num_layers):\n",
    "        layer_shape.append(first_layer_size//(2*i))\n",
    "    \n",
    "    n_epochs = trial.suggest_int('n_epochs', 300, 700)\n",
    "    model = TabularModel(\n",
    "        n_cont=conts.shape[1],\n",
    "        out_sz=1,\n",
    "        layer_shape=layer_shape,\n",
    "        p=trial.suggest_float('dropout', 0.28, 0.38),     # Dropout\n",
    "        criterion=nfl_utils.map_losses(criterion),\n",
    "        optimizer_class=torch.optim.Adam,\n",
    "        lr=trial.suggest_float('lr', 1e-3, 1e-2, log=True),   # Learning rate \n",
    "        n_epochs=n_epochs,\n",
    "        confidence_threshold=confidence_threshold\n",
    "    )\n",
    "\n",
    "    pipeline = Pipeline([\n",
    "        ('scaler', StandardScaler()), # Standardize the numerical features\n",
    "        # ('regressor', LinearRegression()), # Apply a regression model\n",
    "        ('model', model)\n",
    "    ])\n",
    " \n",
    "    scores = cross_val_score(pipeline, conts_train, y_train,cv=5)\n",
    "    scores = float(np.mean(scores))\n",
    "    trial.report(scores, n_epochs)\n",
    "            \n",
    "    return scores\n",
    "            \n",
    "def print_callback(study, trial):\n",
    "    print(f\"Trial {trial.number} finished with value: {trial.value}\")\n",
    "    print(f\"Best trial so far: {study.best_trial.number}, value: {study.best_trial.value}\")"
   ]
  },
  {
   "cell_type": "code",
   "execution_count": null,
   "id": "26fe1399",
   "metadata": {
    "scrolled": true
   },
   "outputs": [],
   "source": [
    "study = optuna.create_study(\n",
    "    direction='maximize',   # max because using f1\n",
    "    pruner=optuna.pruners.HyperbandPruner(\n",
    "        min_resource=1,\n",
    "        max_resource=n_train_iter\n",
    "    )\n",
    ")\n",
    "# Uncomment to run\n",
    "if False:\n",
    "    study.optimize(objective, n_trials=2000, callbacks=[print_callback])\n",
    "    # study.optimize(objective, n_trials=3)\n",
    "    print(\"Best trial:\")\n",
    "    trial = study.best_trial\n",
    "    print(\"Value: \", trial.value)\n",
    "    print(\"Params: \")\n",
    "    for key, value in trial.params.items():\n",
    "        print(f\"    {key}: {value}\")\n",
    "        \n",
    "        "
   ]
  },
  {
   "cell_type": "markdown",
   "id": "8bbc20ed",
   "metadata": {},
   "source": [
    "Value:  0.37491718013436764\n",
    "\n",
    "Params: \n",
    "    first_layer_size: 8\n",
    "    num_layers: 2\n",
    "    n_epochs: 39\n",
    "    dropout: 0.47875406200808335\n",
    "    lr: 0.009997751942238913\n",
    "    \n",
    "\n",
    "\n",
    "Value:  0.3759073484440955\n",
    "Params: \n",
    "    first_layer_size: 8\n",
    "    num_layers: 2\n",
    "    n_epochs: 68\n",
    "    dropout: 0.4497689844977892\n",
    "    lr: 0.007977206154472633\n",
    "    \n",
    "    \n",
    "    \n",
    "12/6\n",
    "\n",
    "Trial 206 finished with value: 0.547218605316966 and parameters: {'criterion': 'MSELoss', 'first_layer_size': 32, 'num_layers': 5, 'confidence_threshold': 0.05966702820817666, 'n_epochs': 379, 'dropout': 0.36961850006275193, 'lr': 0.008649806179332952}. Best is trial 206 with value: 0.547218605316966.\n",
    "\n",
    "[I 2024-12-06 12:49:28,047] Trial 579 finished with value: 0.5335308702482566 and parameters: {'criterion': 'SmoothL1Loss', 'first_layer_size': 16, 'num_layers': 3, 'confidence_threshold': 0.059979796814548306, 'n_epochs': 481, 'dropout': 0.2511747953677191, 'lr': 0.007942836869449217}. Best is trial 579 with value: 0.5335308702482566.\n",
    "\n",
    "\n",
    "[I 2024-12-06 14:53:00,850] Trial 385 finished with value: 0.5547767877242975 and parameters: {'criterion': 'MSELoss', 'first_layer_size': 56, 'num_layers': 6, 'confidence_threshold': 0.003263372268063613, 'n_epochs': 300, 'dropout': 0.3153661030384182, 'lr': 0.00593138298730814}. Best is trial 385 with value: 0.5547767877242975.\n",
    "\n",
    "[I 2024-12-06 15:32:38,969] Trial 583 finished with value: 0.550872165273167 and parameters: {'criterion': 'MSELoss', 'first_layer_size': 56, 'num_layers': 7, 'confidence_threshold': 0.010458110701511005, 'n_epochs': 336, 'dropout': 0.3188974735143638, 'lr': 0.006976522077116529}. Best is trial 385 with value: 0.5547767877242975.\n",
    "\n",
    "[I 2024-12-06 15:55:26,133] Trial 669 finished with value: 0.5645423555160363 and parameters: {'criterion': 'MSELoss', 'first_layer_size': 56, 'num_layers': 7, 'confidence_threshold': 0.0243907527056759, 'n_epochs': 370, 'dropout': 0.32998724447261185, 'lr': 0.0075018456671685696}. Best is trial 669 with value: 0.5645423555160363.\n",
    "\n",
    "[I 2024-12-06 20:33:46,555] Trial 1737 finished with value: 0.5716002919237433 and parameters: {'criterion': 'MSELoss', 'first_layer_size': 56, 'num_layers': 7, 'confidence_threshold': 0.015368961704784596, 'n_epochs': 328, 'dropout': 0.348927921024466, 'lr': 0.009575624984802092}. Best is trial 1737 with value: 0.5716002919237433.\n",
    "\n",
    "\n",
    "[I 2024-12-06 21:17:06,545] Trial 1889 finished with value: 0.5739803740995499 and parameters: {'criterion': 'MSELoss', 'first_layer_size': 56, 'num_layers': 7, 'confidence_threshold': 0.014029751567812504, 'n_epochs': 357, 'dropout': 0.34275064196127053, 'lr': 0.008692336113071646}. Best is trial 1889 with value: 0.5739803740995499.\n",
    "\n"
   ]
  },
  {
   "cell_type": "code",
   "execution_count": null,
   "id": "7bb63434",
   "metadata": {},
   "outputs": [],
   "source": [
    "# best_params = study.best_trial.params\n",
    "\n",
    "best_params_ignore = {\n",
    "    \"first_layer_size\": 8,\n",
    "    \"num_layers\": 2,\n",
    "    \"n_epochs\": 39,\n",
    "    \"dropout\": 0.47875406200808335,\n",
    "    \"lr\": 0.009997751942238913\n",
    "}\n",
    "# F1 Best trial so far: 151, value: 0.5520542963226872\n",
    "best_paramsaa = {'criterion': 'MSELoss', 'first_layer_size': 48, 'num_layers': 6, 'n_epochs': 450, 'dropout': 0.3221038268805969, 'lr': 0.0033495207923573745, 'confidence_threshold': 0}\n",
    "best_params = {'criterion': 'MSELoss', 'first_layer_size': 56, 'num_layers': 7, 'confidence_threshold': 0.014029751567812504, 'n_epochs': 357, 'dropout': 0.34275064196127053, 'lr': 0.008692336113071646}\n",
    "best_params = {'criterion': 'MSELoss', 'first_layer_size': 56, 'num_layers': 7, 'confidence_threshold': 0.015368961704784596, 'n_epochs': 328, 'dropout': 0.348927921024466, 'lr': 0.009575624984802092}\n",
    "# best_params = {'criterion': 'MSELoss', 'first_layer_size': 64, 'num_layers': 2, 'confidence_threshold': 0.021832190881996807, 'dropout': 0.29190346671514084, 'lr': 0.0031982706259363115, 'n_epochs': 162}\n",
    "print(best_params)\n",
    "layer_shape = [best_params['first_layer_size']]\n",
    "for i in range(1, best_params['num_layers']):\n",
    "    layer_shape.append(best_params['first_layer_size']//(2*i))\n",
    "model = TabularModel(\n",
    "    n_cont=conts.shape[1],\n",
    "    out_sz=1,\n",
    "    layer_shape=layer_shape,\n",
    "    p=best_params['dropout'],     # Dropout\n",
    "    criterion=nfl_utils.map_losses(best_params['criterion']),\n",
    "    optimizer_class=torch.optim.Adam,\n",
    "    lr=best_params['lr'],   # Learning rate \n",
    "    n_epochs=best_params['n_epochs'],\n",
    "    confidence_threshold=best_params['confidence_threshold']\n",
    ")\n",
    "\n",
    "pipeline = Pipeline([\n",
    "    ('scaler', StandardScaler()), # Standardize the numerical features\n",
    "    # ('regressor', LinearRegression()), # Apply a regression model\n",
    "    ('model', model)\n",
    "])\n",
    "\n",
    "pipeline.fit(conts_train, y_train)\n",
    "probas = pipeline.predict(perf_conts)\n",
    "confidence_threshold = best_params['confidence_threshold']"
   ]
  },
  {
   "cell_type": "code",
   "execution_count": null,
   "id": "6acb1093",
   "metadata": {},
   "outputs": [],
   "source": [
    "# Remove outside of confidence threshold\n",
    "mask = (probas < 0.5 - confidence_threshold) | (probas > 0.5 + confidence_threshold)\n",
    "predictions = np.where(mask, probas, np.nan)\n",
    "\n",
    "# Use numpy mask for nan values\n",
    "valid_mask = ~np.isnan(predictions)\n",
    "valid_predictions = predictions[valid_mask]\n",
    "valid_mask = valid_mask.flatten()\n",
    "perf_y_col_mask = perf_y_col[valid_mask]\n",
    "\n",
    "\n",
    "true_values = perf_y_col_mask[:,0].astype(np.int32)\n",
    "pred_values = valid_predictions.flatten()\n",
    "pred_values_int = np.rint(valid_predictions).flatten().astype(np.int32)\n",
    "\n",
    "model_win_prob = (1.0*(true_values == pred_values_int).sum()) / (true_values.shape[0])\n",
    "print(model_win_prob)"
   ]
  },
  {
   "cell_type": "code",
   "execution_count": null,
   "id": "99afe932",
   "metadata": {},
   "outputs": [],
   "source": []
  },
  {
   "cell_type": "code",
   "execution_count": null,
   "id": "68a1ea58",
   "metadata": {
    "scrolled": true
   },
   "outputs": [],
   "source": [
    "nfl_utils.backtest_model(pipeline, perf_conts, perf_y_col, initial_capital=100, position_size=0.1, confidence_threshold=best_params['confidence_threshold'], show_plot=True)\n",
    "# backtest_model(pipeline, perf_conts, perf_y_col, initial_capital=100, position_size=0.1, confidence_threshold=best_params['confidence_threshold'], show_plot=True)"
   ]
  },
  {
   "cell_type": "code",
   "execution_count": null,
   "id": "b0cd5187",
   "metadata": {},
   "outputs": [],
   "source": []
  },
  {
   "cell_type": "markdown",
   "id": "055d6ca8",
   "metadata": {},
   "source": [
    "# Using XGBoost"
   ]
  },
  {
   "cell_type": "code",
   "execution_count": null,
   "id": "a00be9d1",
   "metadata": {},
   "outputs": [],
   "source": [
    "from xgboost import XGBClassifier\n",
    "from sklearn.metrics import accuracy_score, confusion_matrix\n",
    "from sklearn.model_selection import GridSearchCV, RandomizedSearchCV\n",
    "import seaborn as sns # confusion matrix"
   ]
  },
  {
   "cell_type": "code",
   "execution_count": null,
   "id": "de68871b",
   "metadata": {},
   "outputs": [],
   "source": [
    "conts_train.shape"
   ]
  },
  {
   "cell_type": "code",
   "execution_count": null,
   "id": "918c222c",
   "metadata": {},
   "outputs": [],
   "source": []
  },
  {
   "cell_type": "code",
   "execution_count": null,
   "id": "dc8524f7",
   "metadata": {
    "scrolled": true
   },
   "outputs": [],
   "source": [
    "# Fit the model\n",
    "param_grid = {\n",
    "    'learning_rate': [0.01, 0.1, 0.3],           # Removed 0.5, 1 as they're often too aggressive\n",
    "    'max_depth': [3, 6, 9],                      # Simplified to 3 values, covering shallow to deep\n",
    "    'n_estimators': [100, 200],                  # Removed extremes, these are most common sweet spots\n",
    "    'subsample': [0.8, 1.0],                     # Removed 0.6 as it might be too aggressive for this dataset size\n",
    "    'colsample_bytree': [0.8, 1.0],              # Same as above\n",
    "    'min_child_weight': [1, 3],                  # Removed 5 as it might be too restrictive\n",
    "    'monotone_constraints': [monotone_constraints_tuple, no_monotone_constraints_tuple]\n",
    "}\n",
    "\n",
    "\n",
    "model = XGBClassifier(eval_metric='logloss')\n",
    "\n",
    "# Tune hyperparameters\n",
    "grid_search = GridSearchCV(model, param_grid, cv=5, verbose=1)\n",
    "grid_search.fit(conts_train, y_train)\n"
   ]
  },
  {
   "cell_type": "code",
   "execution_count": null,
   "id": "0acdae5f",
   "metadata": {},
   "outputs": [],
   "source": [
    "print(grid_search.best_params_)\n",
    "# No monotone constraints\n",
    "# 60.15%, {'colsample_bytree': 1.0, 'learning_rate': 0.01, 'max_depth': 6, 'min_child_weight': 3, 'n_estimators': 100, 'subsample': 0.8}\n",
    "# 65% {'colsample_bytree': 1.0, 'learning_rate': 0.01, 'max_depth': 6, 'min_child_weight': 3, 'n_estimators': 200, 'subsample': 0.8}\n",
    "\n",
    "# Monotone constraints\n",
    "# {'colsample_bytree': 0.8, 'learning_rate': 0.1, 'max_depth': 3, 'min_child_weight': 3, 'monotone_constraints': (1, 1, 1, 1, 1, 1, 0, 1, 1, -1, -1, 0, 1, 1, -1, -1, -1, -1, 0, 1, -1, 1, -1, 1, 1, 1, 1, 1, 0, 1, 1, 1, 1, 0, 0, 1, 1, 0, 1, 1, 0, 1, 0, 0, 1, 0, 1, 0, 0, 1, 1, 0, 0, 1, 1, 0, 0, 0, 0, 1, 0, 1), 'n_estimators': 200, 'subsample': 1.0}"
   ]
  },
  {
   "cell_type": "code",
   "execution_count": null,
   "id": "7ee2ec9d",
   "metadata": {},
   "outputs": [],
   "source": [
    "\n",
    "# train final model w/ early stopping\n",
    "model = XGBClassifier(\n",
    "    eval_metric='logloss',\n",
    "    early_stopping_rounds=10,\n",
    "    # **grid_search.best_params_\n",
    "    # **{'colsample_bytree': 1.0, 'learning_rate': 0.01, 'max_depth': 6, 'min_child_weight': 3, 'n_estimators': 200, 'subsample': 0.8}\n",
    "    # **{'colsample_bytree': 0.8, 'learning_rate': 0.1, 'max_depth': 3, 'min_child_weight': 3, 'monotone_constraints': (1, 1, 1, 1, 1, 1, 0, 1, 1, -1, -1, 0, 1, 1, -1, -1, -1, -1, 0, 1, -1, 1, -1, 1, 1, 1, 1, 1, 0, 1, 1, 1, 1, 0, 0, 1, 1, 0, 1, 1, 0, 1, 0, 0, 1, 0, 1, 0, 0, 1, 1, 0, 0, 1, 1, 0, 0, 0, 0, 1, 0, 1), 'n_estimators': 90, 'subsample': 1.0},\n",
    "    \n",
    "    **{'colsample_bytree': 0.8, 'learning_rate': 0.1, 'max_depth': 3, 'min_child_weight': 3, 'monotone_constraints': (1, 1, 1, 1, 1, 1, 0, 1, 1, -1, -1, 0, 1, 1, -1, -1, -1, -1, 0, 1, -1, 1, -1, 1, 1, 1, 1, 1, 0, 1, 1, 1, 1, 0, 0, 1, 1, 0, 1, 1, 0, 1, 0, 0, 1, 0, 1, 0, 0, 1, 1, 0, 0, 1, 1, 0, 0, 0, 0, 1, 0, 1), 'n_estimators': 200, 'subsample': 1.0}\n",
    "\n",
    ")\n",
    "model.fit(\n",
    "    conts_train,\n",
    "    y_train,\n",
    "    eval_set=[(conts_train, y_train)], # , (holdout_conts, holdout_y)\n",
    "    verbose=True\n",
    ")"
   ]
  },
  {
   "cell_type": "code",
   "execution_count": null,
   "id": "cd201c8c",
   "metadata": {},
   "outputs": [],
   "source": [
    "# Make predictions for test data\n",
    "# model = grid_search.best_estimator_\n",
    "y_pred = model.predict(perf_conts)\n",
    "predictions = [round(value) for value in y_pred]\n",
    "accuracy = accuracy_score(perf_y_col[:,0], predictions)\n",
    "\n",
    "nfl_utils.backtest_model(model, perf_conts, perf_y_col, initial_capital=1000, position_size=0.1, \n",
    "                   confidence_threshold=0, show_plot=True)"
   ]
  },
  {
   "cell_type": "code",
   "execution_count": null,
   "id": "5fb3d7cf",
   "metadata": {},
   "outputs": [],
   "source": [
    "# Make confusion matrix\n",
    "cm = confusion_matrix(perf_y_col[:,0], y_pred)\n",
    "sns.heatmap(cm, annot=True, fmt='d', cmap='Blues')\n",
    "plt.xlabel('Predicted Labels')\n",
    "plt.ylabel('True Labels')\n",
    "plt.title('Confusion Matrix')\n",
    "plt.show()"
   ]
  },
  {
   "cell_type": "markdown",
   "id": "e7025ece",
   "metadata": {},
   "source": [
    "# Test against performance data (includes odds)\n"
   ]
  },
  {
   "cell_type": "code",
   "execution_count": null,
   "id": "50cc9ed2",
   "metadata": {},
   "outputs": [],
   "source": []
  },
  {
   "cell_type": "code",
   "execution_count": null,
   "id": "79e94a74",
   "metadata": {
    "scrolled": false
   },
   "outputs": [],
   "source": []
  },
  {
   "cell_type": "code",
   "execution_count": null,
   "id": "41d6577d",
   "metadata": {
    "scrolled": false
   },
   "outputs": [],
   "source": []
  },
  {
   "cell_type": "markdown",
   "id": "a8a1a349",
   "metadata": {},
   "source": []
  },
  {
   "cell_type": "code",
   "execution_count": null,
   "id": "b705bd4b",
   "metadata": {},
   "outputs": [],
   "source": []
  }
 ],
 "metadata": {
  "kernelspec": {
   "display_name": "Python 3 (ipykernel)",
   "language": "python",
   "name": "python3"
  },
  "language_info": {
   "codemirror_mode": {
    "name": "ipython",
    "version": 3
   },
   "file_extension": ".py",
   "mimetype": "text/x-python",
   "name": "python",
   "nbconvert_exporter": "python",
   "pygments_lexer": "ipython3",
   "version": "3.7.16"
  }
 },
 "nbformat": 4,
 "nbformat_minor": 5
}
