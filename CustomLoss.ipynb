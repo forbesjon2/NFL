{
 "cells": [
  {
   "cell_type": "code",
   "execution_count": 4,
   "id": "edfe171e-9d7f-4e35-a51a-c025bf15c264",
   "metadata": {},
   "outputs": [],
   "source": [
    "import torch"
   ]
  },
  {
   "cell_type": "markdown",
   "id": "13c1c7c0-c070-478c-9d43-f9a4997c880f",
   "metadata": {},
   "source": [
    "# Custom loss function\n",
    "**Input:** X and Y where each value is between -1 and 1. Both corresponding to the probability of home (+) vs away (-) where 0.5 = 50%, 1.0=100% home chance of winning, -0.7 = 70% visitor chance of winning etc.\n",
    "\n",
    "Also the odds will be in the input as well\n",
    "\n",
    "We will use Adam as the optimizer without passing in any. So by default smaller values are\n",
    "\n",
    "1. Calculate the kelly criterion based on the predicted probability. When it suggests a negative number (no bet) set both X and y to 0\n",
    "2. Calculate the pearson correlation coefficient, get its absolute value and multiply it by a hyperparameter constant. Combine this with the \n",
    "\n"
   ]
  },
  {
   "cell_type": "code",
   "execution_count": 19,
   "id": "c36e9362-13e5-485b-a1b2-9c6cef400937",
   "metadata": {},
   "outputs": [],
   "source": [
    "\"\"\"\n",
    "\n",
    "\n",
    "x: 1d array of predictions between -1 and 1 where negative number means visitor predicted to win\n",
    "y: ['H_Won', 'H_start_odds', 'V_start_odds']\n",
    "pearson_multiplier: \n",
    "\"\"\"\n",
    "def nfl_custom_criterion(x, y, pearson_multiplier=1.5):\n",
    "    # ------------------------------------------------\n",
    "    # Preliminary calculations\n",
    "    # ------------------------------------------------\n",
    "    y['decimal_odds'] = torch.where(x > 0, y['H_start_odds'], y['V_start_odds']) # Predicted vs actual odds (regardless of correct prediction)\n",
    "    y_prob = 1 / y['decimal_odds']           # Probability (regardless of correct prediction)\n",
    "    x_H_Won = torch.sigmoid(20 * x)          # Sigmoid so that it's differentiable. The 20 is arbitrarily large number\n",
    "    y['correct_prediction'] = torch.sigmoid(x_H_Won * y['H_Won'])\n",
    "    x = torch.abs(x)\n",
    "\n",
    "    # ------------------------------------------------\n",
    "    # 1. Calculate the kelly criterion\n",
    "    # ------------------------------------------------\n",
    "    kelly = x - ((1 - x) / y['decimal_odds'])\n",
    "\n",
    "    # ------------------------------------------------\n",
    "    # 2. Calculate the Pearson Correlation Coefficient\n",
    "    # ------------------------------------------------\n",
    "    n = x.size(0)\n",
    "    sum_x = torch.sum(x)\n",
    "    sum_y = torch.sum(y_prob)\n",
    "    pow_x = torch.pow(x, 2)\n",
    "    pow_y = torch.pow(y_prob, 2)\n",
    "    x_mul_y = torch.mul(x, y_prob)\n",
    "    sum_x_mul_y = torch.sum(x_mul_y, dim=0)\n",
    "\n",
    "    # PCC Formula (eps to avoid NaN)\n",
    "    eps = 1e-8\n",
    "    pcc_numerator = n * sum_x_mul_y - sum_x * sum_y\n",
    "    pcc_denominator_one = torch.sqrt(n * pow_x - sum_x**2 + eps)\n",
    "    pcc_denominator_two = torch.sqrt(n * pow_y - sum_y**2 + eps)\n",
    "    pcc = pcc_numerator / (pcc_denominator_one * pcc_denominator_two)\n",
    "    pcc = pearson_multiplier * torch.abs(pcc)\n",
    "\n",
    "    # ------------------------------------------------\n",
    "    # 3. Penalize entirely wrong predictions\n",
    "    # ------------------------------------------------\n",
    "    wrong_penalty = -torch.log(x) * (1-x)\n",
    "    wrong_penalty = torch.clamp(wrong_penalty, min=eps, max=10)\n",
    "    return 1\n",
    "\n",
    "\n",
    "def nfl_test(x, y, pearson_multiplier=1.5):\n",
    "    # ------------------------------------------------\n",
    "    # Preliminary calculations\n",
    "    # ------------------------------------------------\n",
    "    y['decimal_odds'] = torch.where(x > 0, y['H_start_odds'], y['V_start_odds']) # Predicted vs actual odds (regardless of correct prediction)\n",
    "    y['probability'] = 1 / y['decimal_odds'] # Probability (regardless of correct prediction)\n",
    "    x_H_Won = torch.sigmoid(20 * x)          # Sigmoid so that it's differentiable. The 20 is arbitrarily large number\n",
    "    y['correct_prediction'] = torch.sigmoid(x_H_Won * y['H_Won'])\n",
    "    print(y['correct_prediction'])"
   ]
  },
  {
   "cell_type": "code",
   "execution_count": null,
   "id": "85b1b0b5-56a9-4b1b-a9e5-1192fa5ed174",
   "metadata": {},
   "outputs": [],
   "source": []
  },
  {
   "cell_type": "code",
   "execution_count": 20,
   "id": "3855d230-12dc-410f-a7ad-12cf98adad2d",
   "metadata": {},
   "outputs": [
    {
     "name": "stdout",
     "output_type": "stream",
     "text": [
      "tensor([-0.4204, -0.9837, -0.4733, -0.7989, -0.7495, -0.7199, -0.5978,  0.8713,\n",
      "        -0.9945,  0.0550])\n",
      "tensor([ 0.2483, -0.1146, -0.9051, -0.9363, -0.2433, -0.0987,  0.0338, -0.3846,\n",
      "        -0.4936, -0.7511])\n"
     ]
    },
    {
     "ename": "IndexError",
     "evalue": "too many indices for tensor of dimension 1",
     "output_type": "error",
     "traceback": [
      "\u001b[0;31m---------------------------------------------------------------------------\u001b[0m",
      "\u001b[0;31mIndexError\u001b[0m                                Traceback (most recent call last)",
      "Cell \u001b[0;32mIn[20], line 10\u001b[0m\n\u001b[1;32m      7\u001b[0m \u001b[38;5;28mprint\u001b[39m(x)\n\u001b[1;32m      8\u001b[0m \u001b[38;5;28mprint\u001b[39m(y)\n\u001b[0;32m---> 10\u001b[0m \u001b[43mnfl_test\u001b[49m\u001b[43m(\u001b[49m\u001b[43mx\u001b[49m\u001b[43m,\u001b[49m\u001b[43my\u001b[49m\u001b[43m)\u001b[49m\n",
      "Cell \u001b[0;32mIn[19], line 51\u001b[0m, in \u001b[0;36mnfl_test\u001b[0;34m(x, y, pearson_multiplier)\u001b[0m\n\u001b[1;32m     47\u001b[0m \u001b[38;5;28;01mdef\u001b[39;00m \u001b[38;5;21mnfl_test\u001b[39m(x, y, pearson_multiplier\u001b[38;5;241m=\u001b[39m\u001b[38;5;241m1.5\u001b[39m):\n\u001b[1;32m     48\u001b[0m     \u001b[38;5;66;03m# ------------------------------------------------\u001b[39;00m\n\u001b[1;32m     49\u001b[0m     \u001b[38;5;66;03m# Preliminary calculations\u001b[39;00m\n\u001b[1;32m     50\u001b[0m     \u001b[38;5;66;03m# ------------------------------------------------\u001b[39;00m\n\u001b[0;32m---> 51\u001b[0m     y[\u001b[38;5;124m'\u001b[39m\u001b[38;5;124mdecimal_odds\u001b[39m\u001b[38;5;124m'\u001b[39m] \u001b[38;5;241m=\u001b[39m torch\u001b[38;5;241m.\u001b[39mwhere(x \u001b[38;5;241m>\u001b[39m \u001b[38;5;241m0\u001b[39m, \u001b[43my\u001b[49m\u001b[43m[\u001b[49m\u001b[38;5;124;43m'\u001b[39;49m\u001b[38;5;124;43mH_start_odds\u001b[39;49m\u001b[38;5;124;43m'\u001b[39;49m\u001b[43m]\u001b[49m, y[\u001b[38;5;124m'\u001b[39m\u001b[38;5;124mV_start_odds\u001b[39m\u001b[38;5;124m'\u001b[39m]) \u001b[38;5;66;03m# Predicted vs actual odds (regardless of correct prediction)\u001b[39;00m\n\u001b[1;32m     52\u001b[0m     y[\u001b[38;5;124m'\u001b[39m\u001b[38;5;124mprobability\u001b[39m\u001b[38;5;124m'\u001b[39m] \u001b[38;5;241m=\u001b[39m \u001b[38;5;241m1\u001b[39m \u001b[38;5;241m/\u001b[39m y[\u001b[38;5;124m'\u001b[39m\u001b[38;5;124mdecimal_odds\u001b[39m\u001b[38;5;124m'\u001b[39m] \u001b[38;5;66;03m# Probability (regardless of correct prediction)\u001b[39;00m\n\u001b[1;32m     53\u001b[0m     x_H_Won \u001b[38;5;241m=\u001b[39m torch\u001b[38;5;241m.\u001b[39msigmoid(\u001b[38;5;241m20\u001b[39m \u001b[38;5;241m*\u001b[39m x)          \u001b[38;5;66;03m# Sigmoid so that it's differentiable. The 20 is arbitrarily large number\u001b[39;00m\n",
      "\u001b[0;31mIndexError\u001b[0m: too many indices for tensor of dimension 1"
     ]
    }
   ],
   "source": [
    "# Generate a tensor with random numbers between -1 and 1\n",
    "amt_random_numbers = 10\n",
    "x = torch.rand(amt_random_numbers) * 2 - 1\n",
    "y = torch.rand(amt_random_numbers) * 2 - 1\n",
    "# print(type(y))\n",
    "# print(y.shape)\n",
    "print(x)\n",
    "print(y)\n",
    "\n",
    "nfl_test(x,y)\n",
    "\n",
    "\n"
   ]
  },
  {
   "cell_type": "code",
   "execution_count": null,
   "id": "b0a35972-303f-4525-930a-59fb1b3ecec0",
   "metadata": {},
   "outputs": [],
   "source": []
  }
 ],
 "metadata": {
  "kernelspec": {
   "display_name": "Python 3 (ipykernel)",
   "language": "python",
   "name": "python3"
  },
  "language_info": {
   "codemirror_mode": {
    "name": "ipython",
    "version": 3
   },
   "file_extension": ".py",
   "mimetype": "text/x-python",
   "name": "python",
   "nbconvert_exporter": "python",
   "pygments_lexer": "ipython3",
   "version": "3.9.21"
  }
 },
 "nbformat": 4,
 "nbformat_minor": 5
}
