{
 "cells": [
  {
   "cell_type": "code",
   "execution_count": 172,
   "id": "edfe171e-9d7f-4e35-a51a-c025bf15c264",
   "metadata": {},
   "outputs": [],
   "source": [
    "import torch\n",
    "import seaborn as sns\n",
    "import numpy as np\n",
    "import matplotlib.pyplot as plt\n",
    "import pandas as pd\n",
    "# torch.set_printoptions({'float': '{: 0.8f}'.format})\n",
    "torch.set_printoptions(sci_mode=False, precision=8)\n"
   ]
  },
  {
   "cell_type": "markdown",
   "id": "9d16c2e3-a37e-4380-a86a-3c860846f72e",
   "metadata": {},
   "source": [
    "Load df with y_col"
   ]
  },
  {
   "cell_type": "code",
   "execution_count": 173,
   "id": "4099c653-137c-4515-821d-0280d175219b",
   "metadata": {},
   "outputs": [],
   "source": [
    "df = pd.read_csv(\"./footballData/CombinedSlidingWindow4.csv\", index_col=False, low_memory=False)\n",
    "y_col = ['H_Won', 'H_start_odds', 'V_start_odds']\n",
    "y_df = df[y_col]"
   ]
  },
  {
   "cell_type": "markdown",
   "id": "13c1c7c0-c070-478c-9d43-f9a4997c880f",
   "metadata": {},
   "source": [
    "# Custom loss function\n",
    "**Input:** X and Y where each value is between -1 and 1. Both corresponding to the probability of home (+) vs away (-) where 0.5 = 50%, 1.0=100% home chance of winning, -0.7 = 70% visitor chance of winning etc.\n",
    "\n",
    "Also the odds will be in the input as well\n",
    "\n",
    "We will use Adam as the optimizer without passing in any. So by default smaller values are\n",
    "\n",
    "1. Calculate the kelly criterion based on the predicted probability. When it suggests a negative number (no bet) set both X and y to 0\n",
    "2. Calculate the pearson correlation coefficient, get its absolute value and multiply it by a hyperparameter constant. Combine this with the \n",
    "\n"
   ]
  },
  {
   "cell_type": "code",
   "execution_count": 201,
   "id": "c36e9362-13e5-485b-a1b2-9c6cef400937",
   "metadata": {},
   "outputs": [],
   "source": [
    "\"\"\"\n",
    "Want: \n",
    "    An array > 1 elements for PCC formula\n",
    "    A smaller array for kelly_criterion\n",
    "    \n",
    "\n",
    "\n",
    "x: 1d array of predictions between -1 and 1 where negative number means visitor predicted to win\n",
    "y: ['H_Won', 'H_start_odds', 'V_start_odds']\n",
    "pearson_multiplier: constant to multiply the pearson correlation coefficient's result by\n",
    "max_bet_size: Amount to multiply to kelly criterion\n",
    "\"\"\"\n",
    "def nfl_custom_criterion(x, y, pearson_multiplier=1.5, max_bet_size=100):\n",
    "    # ------------------------------------------------\n",
    "    # Preliminary calculations\n",
    "    # ------------------------------------------------\n",
    "    h_start_odds = y[:,1]\n",
    "    v_start_odds = y[:,2]\n",
    "    h_won = y[:,0]\n",
    "    y_decimal_odds = torch.where(x > 0, h_start_odds, v_start_odds) # Predicted vs actual odds (regardless of correct prediction)\n",
    "    y_prob = 1 / y_decimal_odds                  # Probability (regardless of correct prediction)\n",
    "    x_H_Won = torch.round(torch.sigmoid(20 * x)) # Sigmoid so that it's differentiable. The 20 is arbitrarily large number\n",
    "    y_correct_prediction = torch.abs((x_H_Won - h_won))        # 1 if wrong bet, otherwise 0. Used to reset kelly when wrong\n",
    "    y_correct_prediction_mult_two = 2 * y_correct_prediction   # 2 if wrong bet, 0 if correct\n",
    "    x = torch.abs(x)\n",
    "\n",
    "    # ------------------------------------------------\n",
    "    # 1. Calculate the kelly criterion\n",
    "    #    Entirely wrong predictions are negated and kept in a separate tensor (pcc not applied to negated )\n",
    "    #    Use cumulative product? max_bet_size determined by previous results?\n",
    "    # ------------------------------------------------\n",
    "    kelly_criterion = x - ((1 - x) / y_decimal_odds)\n",
    "    bet_multiplier = torch.clamp(kelly_criterion, min=0)   # Kelly results that are negative are ignored\n",
    "    bet_unadjusted_profit = bet_multiplier*max_bet_size    # Assumes all bets were correct\n",
    "\n",
    "    correct_bets = bet_unadjusted_profit - (bet_unadjusted_profit * y_correct_prediction)   # All correct bets after kelly, profit or 0.\n",
    "    incorrect_bets = bet_unadjusted_profit - (bet_unadjusted_profit * y_correct_prediction_mult_two) # Negative numbers are incorrect bets\n",
    "    incorrect_bets = torch.clamp(incorrect_bets, max=0)  # Restrict to 0 or negative.\n",
    "    \n",
    "    net_profit = torch.sum(correct_bets)\n",
    "    net_loss = torch.sum(incorrect_bets)\n",
    "    \n",
    "\n",
    "    # ------------------------------------------------\n",
    "    # 2. Calculate the Pearson Correlation Coefficient\n",
    "    # ------------------------------------------------\n",
    "    n = x.size(0)\n",
    "    sum_x = torch.sum(x)\n",
    "    sum_x_squared = torch.sum(x**2)\n",
    "    sum_y = torch.sum(y_prob)\n",
    "    sum_y_squared = torch.sum(y_prob**2)\n",
    "    sum_pow_x = torch.sum(x**2)\n",
    "    sum_pow_y = torch.sum(y_prob**2)\n",
    "    x_mul_y = torch.mul(x, y_prob)\n",
    "    sum_x_mul_y = torch.sum(x_mul_y)\n",
    "\n",
    "    # PCC Formula (eps to avoid NaN)\n",
    "    eps = 1e-8\n",
    "    pcc_numerator = n * sum_x_mul_y - sum_x * sum_y\n",
    "    pcc_denominator_one = torch.sqrt(n * sum_pow_x - sum_x_squared + eps)\n",
    "    pcc_denominator_two = torch.sqrt(n * sum_pow_y - sum_y_squared + eps)\n",
    "    pcc = pcc_numerator / (pcc_denominator_one * pcc_denominator_two + eps)\n",
    "    pcc = pearson_multiplier * torch.abs(pcc)\n",
    "    \n",
    "    # ------------------------------------------------\n",
    "    # Combine & Return\n",
    "    #     Kelly profit diminished by 1 - pcc\n",
    "    #     Net loss subtracted from that\n",
    "    #     Negate everything for Adam\n",
    "    # ------------------------------------------------\n",
    "    result = -torch.sum((net_profit * (1 - pcc)) + net_loss)\n",
    "\n",
    "    # numpy_debug = torch.stack([h_won, x_H_Won, y_correct_prediction, y_correct_prediction_mult_two, correct_bets, incorrect_bets], dim=0)\n",
    "    # numpy_debug = torch.stack([result], dim=0)\n",
    "    # return numpy_debug.numpy()\n",
    "    return result\n"
   ]
  },
  {
   "cell_type": "code",
   "execution_count": 202,
   "id": "85b1b0b5-56a9-4b1b-a9e5-1192fa5ed174",
   "metadata": {},
   "outputs": [
    {
     "name": "stdout",
     "output_type": "stream",
     "text": [
      "tensor([    -1.00000000,     -0.89999998,     -0.80000001,     -0.69999999,\n",
      "            -0.60000002,     -0.50000000,     -0.40000001,     -0.30000001,\n",
      "            -0.20000000,     -0.10000000,     -0.00000000,      0.09999999,\n",
      "             0.20000000,      0.30000001,      0.40000001,      0.50000000,\n",
      "             0.60000002,      0.69999999,      0.80000001,      0.89999998,\n",
      "             1.00000000])\n",
      "-330.23163\n"
     ]
    }
   ],
   "source": [
    "x = torch.arange(-1, 1.01, 0.1)\n",
    "df_size = x.size(0)\n",
    "y_df = y_df[:df_size]\n",
    "y = torch.tensor(y_df.values, dtype=torch.float32)\n",
    "#print(y)\n",
    "# print(y[:,1])\n",
    "res_df = nfl_custom_criterion(x,y)\n",
    "print(x)\n",
    "for item in res_df:\n",
    "    print(item)"
   ]
  },
  {
   "cell_type": "code",
   "execution_count": null,
   "id": "3855d230-12dc-410f-a7ad-12cf98adad2d",
   "metadata": {},
   "outputs": [],
   "source": [
    "\n",
    "\n",
    "\n"
   ]
  },
  {
   "cell_type": "code",
   "execution_count": null,
   "id": "b0a35972-303f-4525-930a-59fb1b3ecec0",
   "metadata": {},
   "outputs": [],
   "source": []
  },
  {
   "cell_type": "code",
   "execution_count": null,
   "id": "2c33fba9-05ca-4930-9c7e-201654e1fed6",
   "metadata": {},
   "outputs": [],
   "source": []
  },
  {
   "cell_type": "code",
   "execution_count": null,
   "id": "d8543e3b-a3ff-4426-81e3-ec9249ebe9de",
   "metadata": {},
   "outputs": [],
   "source": []
  },
  {
   "cell_type": "code",
   "execution_count": null,
   "id": "6c226a4b-e79b-49d7-9565-fb8b11cfae41",
   "metadata": {},
   "outputs": [],
   "source": []
  },
  {
   "cell_type": "code",
   "execution_count": null,
   "id": "3081fb72-223e-44f3-a74a-4eed7e9932ac",
   "metadata": {},
   "outputs": [],
   "source": []
  },
  {
   "cell_type": "code",
   "execution_count": null,
   "id": "953404a2-29d1-4cc9-a698-eaae6bade166",
   "metadata": {},
   "outputs": [],
   "source": [
    "# Generate a tensor with random numbers between -1 and 1\n",
    "amt_random_numbers = 10\n",
    "x = torch.rand(amt_random_numbers) * 2 - 1\n",
    "y = torch.rand(amt_random_numbers) * 2 - 1\n",
    "# print(type(y))\n",
    "# print(y.shape)\n",
    "print(x)\n",
    "print(y)\n",
    "\n",
    "nfl_test(x,y)"
   ]
  }
 ],
 "metadata": {
  "kernelspec": {
   "display_name": "Python 3 (ipykernel)",
   "language": "python",
   "name": "python3"
  },
  "language_info": {
   "codemirror_mode": {
    "name": "ipython",
    "version": 3
   },
   "file_extension": ".py",
   "mimetype": "text/x-python",
   "name": "python",
   "nbconvert_exporter": "python",
   "pygments_lexer": "ipython3",
   "version": "3.9.21"
  }
 },
 "nbformat": 4,
 "nbformat_minor": 5
}
